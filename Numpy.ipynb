{
  "nbformat": 4,
  "nbformat_minor": 0,
  "metadata": {
    "colab": {
      "name": "Numpy.ipynb",
      "provenance": [],
      "collapsed_sections": [],
      "toc_visible": true,
      "authorship_tag": "ABX9TyMvKcAuLOqTrb/0Pahw1UwB",
      "include_colab_link": true
    },
    "kernelspec": {
      "name": "python3",
      "display_name": "Python 3"
    },
    "language_info": {
      "name": "python"
    }
  },
  "cells": [
    {
      "cell_type": "markdown",
      "metadata": {
        "id": "view-in-github",
        "colab_type": "text"
      },
      "source": [
        "<a href=\"https://colab.research.google.com/github/leandrobarbieri/pydata-book/blob/2nd-edition/Numpy.ipynb\" target=\"_parent\"><img src=\"https://colab.research.google.com/assets/colab-badge.svg\" alt=\"Open In Colab\"/></a>"
      ]
    },
    {
      "cell_type": "markdown",
      "metadata": {
        "id": "9R9F_gvPQa07"
      },
      "source": [
        "# Numpy: Arrays e computação vetorizada\n",
        "Calculos com arrays numpy são feitos sem que seja necessário criar laços for, as operações acontecem sob todos os elemenos automaticamente. Aprender a manipular arrays numpy facilita muito o entendimento de como o pandas funciona"
      ]
    },
    {
      "cell_type": "code",
      "metadata": {
        "id": "HXZhcIqMQM9y"
      },
      "source": [
        "# importando numpy\n",
        "import numpy as np\n",
        "\n",
        "# configurando uma semente para geração de números aleatórios com ramdom. Isso garante que sempre que executar os numeros aleatorios serão os mesmos dentro desta sessão. Facilita os testes.\n",
        "np.random.seed(1234)\n",
        "\n",
        "# controla com o float será exibido\n",
        "np.set_printoptions(precision=3, suppress=True)\n",
        "\n",
        "# importando matplotlib.pyplot para gráficos e a função rc para pré-configuração\n",
        "from matplotlib import pyplot as plt\n",
        "from matplotlib.pyplot import rc\n",
        "\n",
        "# Configurando o pyplot opções padrões para o pyplot\n",
        "rc(\"figure\", figsize=(10, 4))\n",
        "rc('lines', lw=2, c='r')"
      ],
      "execution_count": 259,
      "outputs": []
    },
    {
      "cell_type": "markdown",
      "metadata": {
        "id": "7HV4MFCRQX46"
      },
      "source": [
        "#### Criando listas com numpy.arange"
      ]
    },
    {
      "cell_type": "code",
      "metadata": {
        "colab": {
          "base_uri": "https://localhost:8080/"
        },
        "id": "WaA289ZEaji-",
        "outputId": "33e8ccfa-2d76-4d65-81ef-1e14d60d2b68"
      },
      "source": [
        "# Criando um array numpy com arange: arange([start,] stop[, step,], dtype=None)\n",
        "meu_array = np.arange(1, 11, dtype=float)\n",
        "print(f\"Inclui o inicio mais exclui o final: {meu_array}\")"
      ],
      "execution_count": 260,
      "outputs": [
        {
          "output_type": "stream",
          "text": [
            "Inclui o inicio mais exclui o final: [ 1.  2.  3.  4.  5.  6.  7.  8.  9. 10.]\n"
          ],
          "name": "stdout"
        }
      ]
    },
    {
      "cell_type": "markdown",
      "metadata": {
        "id": "eBBCYRFmbmSR"
      },
      "source": [
        "#### Criando listas com range"
      ]
    },
    {
      "cell_type": "code",
      "metadata": {
        "colab": {
          "base_uri": "https://localhost:8080/"
        },
        "id": "CaWJC6ooa8M3",
        "outputId": "63771dc1-663f-4db5-e713-564cb44d9d27"
      },
      "source": [
        "# range é uma função built-in do python\n",
        "minha_lista = list(range(1, 11, 1))\n",
        "print(f\"Lista: {minha_lista}\")"
      ],
      "execution_count": 261,
      "outputs": [
        {
          "output_type": "stream",
          "text": [
            "Lista: [1, 2, 3, 4, 5, 6, 7, 8, 9, 10]\n"
          ],
          "name": "stdout"
        }
      ]
    },
    {
      "cell_type": "markdown",
      "metadata": {
        "id": "ShY7P6fIeIcP"
      },
      "source": [
        "#### Monitorando o tempo de execução"
      ]
    },
    {
      "cell_type": "code",
      "metadata": {
        "id": "__WYaZEWb3mB",
        "colab": {
          "base_uri": "https://localhost:8080/"
        },
        "outputId": "a22cd1cc-2b75-490c-e904-9f3a96371245"
      },
      "source": [
        "# Fazendo uma operação de multiplicação vetorizada em um array numpy\n",
        "# é bem mais direto, não precisa criar laço de iteração\n",
        "%time for _ in range(10): meu_array2 = meu_array * 2\n",
        "\n",
        "# Fazendo uma operação de multiplicação em cada elemento de uma lista usando list comprehension\n",
        "%time for _ in range(10): minha_lista2 = [x * 2 for x in minha_lista]"
      ],
      "execution_count": 262,
      "outputs": [
        {
          "output_type": "stream",
          "text": [
            "CPU times: user 69 µs, sys: 9 µs, total: 78 µs\n",
            "Wall time: 83 µs\n",
            "CPU times: user 21 µs, sys: 2 µs, total: 23 µs\n",
            "Wall time: 27.2 µs\n"
          ],
          "name": "stdout"
        }
      ]
    },
    {
      "cell_type": "markdown",
      "metadata": {
        "id": "HG6RluN3fbHR"
      },
      "source": [
        "# Numpy ndarray"
      ]
    },
    {
      "cell_type": "markdown",
      "metadata": {
        "id": "pVrOhhfIf2-B"
      },
      "source": [
        "### Matrizes randomicas. randn()\n",
        "np.random.randn()"
      ]
    },
    {
      "cell_type": "code",
      "metadata": {
        "colab": {
          "base_uri": "https://localhost:8080/"
        },
        "id": "APt4kNjAeYdw",
        "outputId": "f89dadd4-9e85-4fed-c387-da21f6849d9d"
      },
      "source": [
        "import numpy as np\n",
        "\n",
        "# randn(): Gera uma matrix com dados randomicos de 2 linhas por 3 colunas\n",
        "dados = np.random.randn(2, 3)\n",
        "dados"
      ],
      "execution_count": 263,
      "outputs": [
        {
          "output_type": "execute_result",
          "data": {
            "text/plain": [
              "array([[ 0.471, -1.191,  1.433],\n",
              "       [-0.313, -0.721,  0.887]])"
            ]
          },
          "metadata": {
            "tags": []
          },
          "execution_count": 263
        }
      ]
    },
    {
      "cell_type": "code",
      "metadata": {
        "colab": {
          "base_uri": "https://localhost:8080/"
        },
        "id": "23bHee4cPDRl",
        "outputId": "81abf0e3-831b-4bea-dc3e-5c4f0d0b17bf"
      },
      "source": [
        "# retorna um numero especifico de elementos entro de um intervalo\n",
        "dados_randint = np.random.randint(1, 100, 3)\n",
        "dados_randint"
      ],
      "execution_count": 264,
      "outputs": [
        {
          "output_type": "execute_result",
          "data": {
            "text/plain": [
              "array([27, 31, 44])"
            ]
          },
          "metadata": {
            "tags": []
          },
          "execution_count": 264
        }
      ]
    },
    {
      "cell_type": "code",
      "metadata": {
        "colab": {
          "base_uri": "https://localhost:8080/"
        },
        "id": "jV3NSZZQganE",
        "outputId": "d10f1101-9e67-40e6-9fb1-d978d4f81528"
      },
      "source": [
        "# Multiplica todos os dados da matriz por 10. Operação vetorizada, não precisa de for\n",
        "dados = dados * 10\n",
        "dados"
      ],
      "execution_count": 265,
      "outputs": [
        {
          "output_type": "execute_result",
          "data": {
            "text/plain": [
              "array([[  4.714, -11.91 ,  14.327],\n",
              "       [ -3.127,  -7.206,   8.872]])"
            ]
          },
          "metadata": {
            "tags": []
          },
          "execution_count": 265
        }
      ]
    },
    {
      "cell_type": "code",
      "metadata": {
        "colab": {
          "base_uri": "https://localhost:8080/"
        },
        "id": "cMNALaYzgnVi",
        "outputId": "4cf9ad23-2ae2-4ef8-e229-6ea6c6a11ac0"
      },
      "source": [
        "# soma de matrizes\n",
        "dados = dados + dados\n",
        "dados"
      ],
      "execution_count": 266,
      "outputs": [
        {
          "output_type": "execute_result",
          "data": {
            "text/plain": [
              "array([[  9.429, -23.82 ,  28.654],\n",
              "       [ -6.253, -14.412,  17.743]])"
            ]
          },
          "metadata": {
            "tags": []
          },
          "execution_count": 266
        }
      ]
    },
    {
      "cell_type": "code",
      "metadata": {
        "colab": {
          "base_uri": "https://localhost:8080/"
        },
        "id": "7w4YIP_5gyRC",
        "outputId": "434b6d67-12ef-46bc-effa-cfe9c822c787"
      },
      "source": [
        "# schema da matriz: linhas e colunas\n",
        "dados.shape"
      ],
      "execution_count": 267,
      "outputs": [
        {
          "output_type": "execute_result",
          "data": {
            "text/plain": [
              "(2, 3)"
            ]
          },
          "metadata": {
            "tags": []
          },
          "execution_count": 267
        }
      ]
    },
    {
      "cell_type": "code",
      "metadata": {
        "colab": {
          "base_uri": "https://localhost:8080/"
        },
        "id": "ATQ95SIFhE_T",
        "outputId": "664e784c-5e0f-432b-faa2-47af24219713"
      },
      "source": [
        "# consultando o tipo de dados dos elementos da matriz\n",
        "dados.dtype"
      ],
      "execution_count": 268,
      "outputs": [
        {
          "output_type": "execute_result",
          "data": {
            "text/plain": [
              "dtype('float64')"
            ]
          },
          "metadata": {
            "tags": []
          },
          "execution_count": 268
        }
      ]
    },
    {
      "cell_type": "markdown",
      "metadata": {
        "id": "gCbjVZTghk5N"
      },
      "source": [
        "### Arrays e aranges"
      ]
    },
    {
      "cell_type": "code",
      "metadata": {
        "colab": {
          "base_uri": "https://localhost:8080/"
        },
        "id": "WAehun5Vhoc0",
        "outputId": "051a4b8c-5357-4f83-a855-0bd9a4d7ca0e"
      },
      "source": [
        "# array simples 1D\n",
        "dados_array = np.array([3, 5, 8.5])\n",
        "dados_array"
      ],
      "execution_count": 269,
      "outputs": [
        {
          "output_type": "execute_result",
          "data": {
            "text/plain": [
              "array([3. , 5. , 8.5])"
            ]
          },
          "metadata": {
            "tags": []
          },
          "execution_count": 269
        }
      ]
    },
    {
      "cell_type": "code",
      "metadata": {
        "colab": {
          "base_uri": "https://localhost:8080/"
        },
        "id": "mH-xXYXVh4fO",
        "outputId": "54831e3a-44ec-4f27-84f8-96622adb0cc8"
      },
      "source": [
        "# array 2 dimensões: 3 linhas 3 colunas\n",
        "dados_arrayD2 = np.array([[1, 2, 3], [4, 5, 6], [7, 8, 9]])\n",
        "dados_arrayD2"
      ],
      "execution_count": 270,
      "outputs": [
        {
          "output_type": "execute_result",
          "data": {
            "text/plain": [
              "array([[1, 2, 3],\n",
              "       [4, 5, 6],\n",
              "       [7, 8, 9]])"
            ]
          },
          "metadata": {
            "tags": []
          },
          "execution_count": 270
        }
      ]
    },
    {
      "cell_type": "code",
      "metadata": {
        "colab": {
          "base_uri": "https://localhost:8080/"
        },
        "id": "6AiodSfsk5C1",
        "outputId": "598bce7b-d66f-4ad0-9669-823ce62654bb"
      },
      "source": [
        "# Número de dimensões\n",
        "dados_arrayD2.ndim\n",
        "dados_arrayD2.shape[0]\n",
        "\n",
        "# Retorna a segunda linha\n",
        "print(f\"Segunda linha e terceiro elemento: {dados_arrayD2[1][2]}\")\n",
        "\n",
        "print(f\"Este array tem {dados_arrayD2.ndim} dimensões. São {dados_arrayD2.shape[0]} linhas e {dados_arrayD2.shape[1]} colunas.\")\n",
        "\n",
        "dados_arrayD2"
      ],
      "execution_count": 271,
      "outputs": [
        {
          "output_type": "stream",
          "text": [
            "Segunda linha e terceiro elemento: 6\n",
            "Este array tem 2 dimensões. São 3 linhas e 3 colunas.\n"
          ],
          "name": "stdout"
        },
        {
          "output_type": "execute_result",
          "data": {
            "text/plain": [
              "array([[1, 2, 3],\n",
              "       [4, 5, 6],\n",
              "       [7, 8, 9]])"
            ]
          },
          "metadata": {
            "tags": []
          },
          "execution_count": 271
        }
      ]
    },
    {
      "cell_type": "code",
      "metadata": {
        "colab": {
          "base_uri": "https://localhost:8080/"
        },
        "id": "60Hh1GbCmW-R",
        "outputId": "0665fec7-4208-45d5-c893-1d06ec4b0a66"
      },
      "source": [
        "# criar matrizes com arrays zerados em diversas dimensões\n",
        "\n",
        "# arrays de 1D\n",
        "print(np.zeros(10))\n",
        "\n",
        "# array de 2D. informar tupla\n",
        "print(np.zeros((2, 3)))\n",
        "\n",
        "# arrays de 1D\n",
        "print(np.ones(10))\n",
        "\n",
        "# array de 2D. informar tupla\n",
        "print(np.ones((2, 3)))\n",
        "\n",
        "# 3 dimensões\n",
        "print(np.empty((2, 3, 2)))"
      ],
      "execution_count": 272,
      "outputs": [
        {
          "output_type": "stream",
          "text": [
            "[0. 0. 0. 0. 0. 0. 0. 0. 0. 0.]\n",
            "[[0. 0. 0.]\n",
            " [0. 0. 0.]]\n",
            "[1. 1. 1. 1. 1. 1. 1. 1. 1. 1.]\n",
            "[[1. 1. 1.]\n",
            " [1. 1. 1.]]\n",
            "[[[0.732 0.236]\n",
            "  [0.646 0.317]\n",
            "  [0.606 0.873]]\n",
            "\n",
            " [[0.123 0.359]\n",
            "  [0.583 0.796]\n",
            "  [0.196 0.385]]]\n"
          ],
          "name": "stdout"
        }
      ]
    },
    {
      "cell_type": "code",
      "metadata": {
        "colab": {
          "base_uri": "https://localhost:8080/"
        },
        "id": "WLMfuPaWNgqV",
        "outputId": "7dfa34bc-d309-44e5-8503-0fdde1d01c99"
      },
      "source": [
        "# linspace: criar uma lista com um numero determinado de elementos dentro de um intervalo max e min\n",
        "# inicia em Zero vai até 10 com 20 elementos entre Zero e Dez\n",
        "np.linspace(start=1, stop=10, num=20)"
      ],
      "execution_count": 273,
      "outputs": [
        {
          "output_type": "execute_result",
          "data": {
            "text/plain": [
              "array([ 1.   ,  1.474,  1.947,  2.421,  2.895,  3.368,  3.842,  4.316,\n",
              "        4.789,  5.263,  5.737,  6.211,  6.684,  7.158,  7.632,  8.105,\n",
              "        8.579,  9.053,  9.526, 10.   ])"
            ]
          },
          "metadata": {
            "tags": []
          },
          "execution_count": 273
        }
      ]
    },
    {
      "cell_type": "code",
      "metadata": {
        "colab": {
          "base_uri": "https://localhost:8080/"
        },
        "id": "VGqx9CnWndhy",
        "outputId": "f5800bc3-fb97-4f5c-fde4-2b12006dcacb"
      },
      "source": [
        "# cria um range com numpy: arange([start,] stop[, step,], dtype=)\n",
        "np.arange(5, 10)"
      ],
      "execution_count": 274,
      "outputs": [
        {
          "output_type": "execute_result",
          "data": {
            "text/plain": [
              "array([5, 6, 7, 8, 9])"
            ]
          },
          "metadata": {
            "tags": []
          },
          "execution_count": 274
        }
      ]
    },
    {
      "cell_type": "markdown",
      "metadata": {
        "id": "kGVWXSCoo4eK"
      },
      "source": [
        "### Tipos de dados arrays numpy"
      ]
    },
    {
      "cell_type": "code",
      "metadata": {
        "colab": {
          "base_uri": "https://localhost:8080/"
        },
        "id": "dzH9-lsLoP6G",
        "outputId": "b1c5fa35-bd61-459f-9ca2-dd57bf0176a4"
      },
      "source": [
        "# Alterando os tipos de dados de um array\n",
        "dados_array_float = np.array([1, 2, 3], dtype=np.float)\n",
        "dados_array_int = np.array([1, 2, 3], dtype=np.int32)\n",
        "\n",
        "print(f\"Os dados deste array são do tipo: {dados_array_float.dtype}. Array: {dados_array_float}\")\n",
        "print(f\"Os dados deste array são do tipo: {dados_array_int.dtype}. Array: {dados_array_int}\")"
      ],
      "execution_count": 275,
      "outputs": [
        {
          "output_type": "stream",
          "text": [
            "Os dados deste array são do tipo: float64. Array: [1. 2. 3.]\n",
            "Os dados deste array são do tipo: int32. Array: [1 2 3]\n"
          ],
          "name": "stdout"
        }
      ]
    },
    {
      "cell_type": "code",
      "metadata": {
        "colab": {
          "base_uri": "https://localhost:8080/"
        },
        "id": "q4Hs6xYaqASG",
        "outputId": "f270712b-dda1-43b3-fbcb-bb5cf6a8a5fe"
      },
      "source": [
        "# Convertendo o tipo de dados do array: astype\n",
        "dados_array = np.array([1, 2, 3])\n",
        "print(dados_array.dtype)\n",
        "\n",
        "dados_array = dados_array.astype(np.float)\n",
        "print(dados_array.dtype)"
      ],
      "execution_count": 276,
      "outputs": [
        {
          "output_type": "stream",
          "text": [
            "int64\n",
            "float64\n"
          ],
          "name": "stdout"
        }
      ]
    },
    {
      "cell_type": "code",
      "metadata": {
        "colab": {
          "base_uri": "https://localhost:8080/"
        },
        "id": "ukB3yd0oraNE",
        "outputId": "228fe414-9125-4393-dc37-38fbb150e558"
      },
      "source": [
        "# Os dados são truncados quando convertidos de float par int\n",
        "dados_array = np.array([1.3, 4.5, -6.9])\n",
        "print(dados_array)\n",
        "\n",
        "dados_array = dados_array.astype(np.int32)\n",
        "print(dados_array)"
      ],
      "execution_count": 277,
      "outputs": [
        {
          "output_type": "stream",
          "text": [
            "[ 1.3  4.5 -6.9]\n",
            "[ 1  4 -6]\n"
          ],
          "name": "stdout"
        }
      ]
    },
    {
      "cell_type": "markdown",
      "metadata": {
        "id": "46krEISPpzOc"
      },
      "source": [
        "### Aritimética com numpy arrays"
      ]
    },
    {
      "cell_type": "code",
      "metadata": {
        "id": "DImXZKO8r8-u",
        "colab": {
          "base_uri": "https://localhost:8080/"
        },
        "outputId": "015a55f9-aeec-428d-f310-199e1867b7b3"
      },
      "source": [
        "# Array 2D com duas linhas e tres colunas\n",
        "array1 = np.array([[1.0, 2.5, 3.9], [4.8, 5.7, 3.4], [9.8, 8.2, 6.2]])\n",
        "\n",
        "print(f\"Array inicial:\\n {array1}\\n\")\n",
        "print(f\"Array multiplicação array1 * array1:\\n {array1 * array1}\\n\")\n",
        "print(f\"Array subtração array1 - array1:\\n {array1 - array1}\")"
      ],
      "execution_count": 278,
      "outputs": [
        {
          "output_type": "stream",
          "text": [
            "Array inicial:\n",
            " [[1.  2.5 3.9]\n",
            " [4.8 5.7 3.4]\n",
            " [9.8 8.2 6.2]]\n",
            "\n",
            "Array multiplicação array1 * array1:\n",
            " [[ 1.    6.25 15.21]\n",
            " [23.04 32.49 11.56]\n",
            " [96.04 67.24 38.44]]\n",
            "\n",
            "Array subtração array1 - array1:\n",
            " [[0. 0. 0.]\n",
            " [0. 0. 0.]\n",
            " [0. 0. 0.]]\n"
          ],
          "name": "stdout"
        }
      ]
    },
    {
      "cell_type": "markdown",
      "metadata": {
        "id": "jqHlMqhMrH0G"
      },
      "source": [
        "### Indexação e slice"
      ]
    },
    {
      "cell_type": "code",
      "metadata": {
        "colab": {
          "base_uri": "https://localhost:8080/"
        },
        "id": "uwYGt7d0qx7N",
        "outputId": "730e4b8e-a741-4095-d3ed-d61cd2926171"
      },
      "source": [
        "# acessar os elementos do array pelo índice iniciando em Zero\n",
        "print(f\"Array inicial:\\n {array1}\\n\")\n",
        "print(f\"Todos os elementos da primeira linha: {array1[0]}\")\n",
        "print(f\"O terceiro elmento da segunda linha: {array1[1][2]}\")\n"
      ],
      "execution_count": 279,
      "outputs": [
        {
          "output_type": "stream",
          "text": [
            "Array inicial:\n",
            " [[1.  2.5 3.9]\n",
            " [4.8 5.7 3.4]\n",
            " [9.8 8.2 6.2]]\n",
            "\n",
            "Todos os elementos da primeira linha: [1.  2.5 3.9]\n",
            "O terceiro elmento da segunda linha: 3.4\n"
          ],
          "name": "stdout"
        }
      ]
    },
    {
      "cell_type": "code",
      "metadata": {
        "colab": {
          "base_uri": "https://localhost:8080/"
        },
        "id": "05hN0pH8ra_V",
        "outputId": "7daa875e-5d9a-4749-ec6d-0947e253add4"
      },
      "source": [
        "# slice: segunda e terceira linha\n",
        "print(f\"array1[1:3]:\\n  {array1[1:3]}\\n\")\n",
        "\n",
        "# slice: Do início do array até o terceiro elemento\n",
        "print(f\"array1[:3]:\\n  {array1[:3]}\\n\")\n",
        "\n",
        "# slice: Da segunda linha até o final do array\n",
        "print(f\"array1[2:]:\\n  {array1[2:]}\")"
      ],
      "execution_count": 280,
      "outputs": [
        {
          "output_type": "stream",
          "text": [
            "array1[1:3]:\n",
            "  [[4.8 5.7 3.4]\n",
            " [9.8 8.2 6.2]]\n",
            "\n",
            "array1[:3]:\n",
            "  [[1.  2.5 3.9]\n",
            " [4.8 5.7 3.4]\n",
            " [9.8 8.2 6.2]]\n",
            "\n",
            "array1[2:]:\n",
            "  [[9.8 8.2 6.2]]\n"
          ],
          "name": "stdout"
        }
      ]
    },
    {
      "cell_type": "code",
      "metadata": {
        "colab": {
          "base_uri": "https://localhost:8080/"
        },
        "id": "QIBGQDnFr8u3",
        "outputId": "a0a32fff-683c-4d4f-d547-357636f2f7df"
      },
      "source": [
        "# atribuição de valores: todas as linhas e apenas a ultima coluna\n",
        "array1_slice = array1[:, -1:]\n",
        "\n",
        "# Atribuindo Zero as elementos de um slice do array principal\n",
        "array1_slice[:] = 99\n",
        "\n",
        "# O array principal é afetado pela atribuição feita no slice criado. \n",
        "# Variaveis criados com slice de arrays são como views, não criam cópias apenas apontam para a área em memoria\n",
        "array1"
      ],
      "execution_count": 281,
      "outputs": [
        {
          "output_type": "execute_result",
          "data": {
            "text/plain": [
              "array([[ 1. ,  2.5, 99. ],\n",
              "       [ 4.8,  5.7, 99. ],\n",
              "       [ 9.8,  8.2, 99. ]])"
            ]
          },
          "metadata": {
            "tags": []
          },
          "execution_count": 281
        }
      ]
    },
    {
      "cell_type": "code",
      "metadata": {
        "colab": {
          "base_uri": "https://localhost:8080/"
        },
        "id": "KBtzxU9jsjjx",
        "outputId": "86b707e3-3711-460c-8b4c-c843765ae6ef"
      },
      "source": [
        "array2 = np.array([[1, 2, 3], [4, 5, 6], [7, 8, 9]])\n",
        "\n",
        "# Duas formas de acessar elementos em arrays 2D\n",
        "print(f\"array2[2][0]:\\n {array2[2][0]}\\n\")\n",
        "print(f\"array2[2, 0]:\\n {array2[2, 0]}\\n\")\n",
        "\n",
        "# arrays podem ter quantas dimensões forem necessárias\n",
        "array3 = np.array([[[1, 2, 3], [4, 5, 6]], [[7, 8, 9], [10, 11, 12]]])\n",
        "print(f\"Array 3D:\\n {array3}\\n\")\n",
        "print(f\"Dimensões 3D:\\n {array3.ndim}\")"
      ],
      "execution_count": 282,
      "outputs": [
        {
          "output_type": "stream",
          "text": [
            "array2[2][0]:\n",
            " 7\n",
            "\n",
            "array2[2, 0]:\n",
            " 7\n",
            "\n",
            "Array 3D:\n",
            " [[[ 1  2  3]\n",
            "  [ 4  5  6]]\n",
            "\n",
            " [[ 7  8  9]\n",
            "  [10 11 12]]]\n",
            "\n",
            "Dimensões 3D:\n",
            " 3\n"
          ],
          "name": "stdout"
        }
      ]
    },
    {
      "cell_type": "markdown",
      "metadata": {
        "id": "LE94L5WZQLbF"
      },
      "source": [
        "#### Cópia de slices de arrays .copy()"
      ]
    },
    {
      "cell_type": "code",
      "metadata": {
        "colab": {
          "base_uri": "https://localhost:8080/"
        },
        "id": "vgbEe-vjN09x",
        "outputId": "dfd69ae8-7e65-43fe-8a80-d01dfd4a0d42"
      },
      "source": [
        "# Por padrão ao atribuir um slice a uma variavel, essa variavel vira uma view \n",
        "# do array principal e qualquer modificação nela afeta o array principal\n",
        "# para isso não acontecer, temos que fazer cópias de slices de array\n",
        "\n",
        "array_original = np.array(([[1, 2, 3], [4, 5, 6], [7, 8, 9]]))\n",
        "\n",
        "# criando uma variavel que recebe o slice. Todas menos a primeira linha\n",
        "array_slice = array_original[1:]\n",
        "\n",
        "# modificando a variavel também modifica o original\n",
        "array_slice[:] = 9999\n",
        "\n",
        "print(f\"Original modificado:\\n {array_original}\\n\")\n",
        "\n",
        "# copiando: desta forma a alteração no slice não afeta o original \n",
        "array_original2 = np.array(([[1, 2, 3], [4, 5, 6], [7, 8, 9]]))\n",
        "array_slice = array_original2[1:].copy()\n",
        "array_slice[:] = 9999\n",
        "print(f\"Original mantido intacto pela modificação no slice derivado:\\n {array_original2}\")\n"
      ],
      "execution_count": 283,
      "outputs": [
        {
          "output_type": "stream",
          "text": [
            "Original modificado:\n",
            " [[   1    2    3]\n",
            " [9999 9999 9999]\n",
            " [9999 9999 9999]]\n",
            "\n",
            "Original mantido intacto pela modificação no slice derivado:\n",
            " [[1 2 3]\n",
            " [4 5 6]\n",
            " [7 8 9]]\n"
          ],
          "name": "stdout"
        }
      ]
    },
    {
      "cell_type": "markdown",
      "metadata": {
        "id": "mJLysF6uRopg"
      },
      "source": [
        "#### Slices e reshape()"
      ]
    },
    {
      "cell_type": "code",
      "metadata": {
        "colab": {
          "base_uri": "https://localhost:8080/"
        },
        "id": "ITmWzxT4PkJl",
        "outputId": "0b76be0e-65a6-4a84-c85b-7f43c6c24542"
      },
      "source": [
        "# Cria um array com 20 elementos inteiros e transforma de 1D para 2D com 4 linhas de 5 colunas\n",
        "array4 = np.arange(1, 21, dtype=int).reshape(4, 5)\n",
        "array4"
      ],
      "execution_count": 284,
      "outputs": [
        {
          "output_type": "execute_result",
          "data": {
            "text/plain": [
              "array([[ 1,  2,  3,  4,  5],\n",
              "       [ 6,  7,  8,  9, 10],\n",
              "       [11, 12, 13, 14, 15],\n",
              "       [16, 17, 18, 19, 20]])"
            ]
          },
          "metadata": {
            "tags": []
          },
          "execution_count": 284
        }
      ]
    },
    {
      "cell_type": "code",
      "metadata": {
        "colab": {
          "base_uri": "https://localhost:8080/"
        },
        "id": "TX8uSeFLR_ko",
        "outputId": "37d4bbcf-9a4a-435d-f403-be29f6a26a1b"
      },
      "source": [
        "# slice: todas as linhas a partir da terceira\n",
        "array4[2:]"
      ],
      "execution_count": 285,
      "outputs": [
        {
          "output_type": "execute_result",
          "data": {
            "text/plain": [
              "array([[11, 12, 13, 14, 15],\n",
              "       [16, 17, 18, 19, 20]])"
            ]
          },
          "metadata": {
            "tags": []
          },
          "execution_count": 285
        }
      ]
    },
    {
      "cell_type": "code",
      "metadata": {
        "colab": {
          "base_uri": "https://localhost:8080/"
        },
        "id": "Ftcdg-fxTT9-",
        "outputId": "96bf1dab-6151-42f6-c551-7d7e0c8bb59a"
      },
      "source": [
        "# slice: apenas a quarta linha\n",
        "array4[3]"
      ],
      "execution_count": 286,
      "outputs": [
        {
          "output_type": "execute_result",
          "data": {
            "text/plain": [
              "array([16, 17, 18, 19, 20])"
            ]
          },
          "metadata": {
            "tags": []
          },
          "execution_count": 286
        }
      ]
    },
    {
      "cell_type": "code",
      "metadata": {
        "colab": {
          "base_uri": "https://localhost:8080/"
        },
        "id": "EbEvl4vFTe5G",
        "outputId": "4bcaab6d-e00d-4e1b-b091-e65932be925b"
      },
      "source": [
        "# apenas o elemento 19 a última linha\n",
        "array4[-1][3]"
      ],
      "execution_count": 287,
      "outputs": [
        {
          "output_type": "execute_result",
          "data": {
            "text/plain": [
              "19"
            ]
          },
          "metadata": {
            "tags": []
          },
          "execution_count": 287
        }
      ]
    },
    {
      "cell_type": "code",
      "metadata": {
        "colab": {
          "base_uri": "https://localhost:8080/"
        },
        "id": "LDGKtDH5UruD",
        "outputId": "0ccb9a21-f07c-4643-999a-b18069dde1c8"
      },
      "source": [
        "# e última coluna\n",
        "array4[:, -1:]"
      ],
      "execution_count": 288,
      "outputs": [
        {
          "output_type": "execute_result",
          "data": {
            "text/plain": [
              "array([[ 5],\n",
              "       [10],\n",
              "       [15],\n",
              "       [20]])"
            ]
          },
          "metadata": {
            "tags": []
          },
          "execution_count": 288
        }
      ]
    },
    {
      "cell_type": "code",
      "metadata": {
        "colab": {
          "base_uri": "https://localhost:8080/"
        },
        "id": "1PKZl8QrT1PX",
        "outputId": "037fe51b-325f-4251-c690-fca014783765"
      },
      "source": [
        "# slice: primeira e segunda linhas\n",
        "# e última coluna\n",
        "array4[:2, -1:]"
      ],
      "execution_count": 289,
      "outputs": [
        {
          "output_type": "execute_result",
          "data": {
            "text/plain": [
              "array([[ 5],\n",
              "       [10]])"
            ]
          },
          "metadata": {
            "tags": []
          },
          "execution_count": 289
        }
      ]
    },
    {
      "cell_type": "code",
      "metadata": {
        "colab": {
          "base_uri": "https://localhost:8080/"
        },
        "id": "VSsJk0WdUFl4",
        "outputId": "21bd4411-e752-450a-cf71-2f0cba6f3594"
      },
      "source": [
        "# segunda e terceira linhas, terceira e quarta colunas\n",
        "array4[1:3, 2:4]"
      ],
      "execution_count": 290,
      "outputs": [
        {
          "output_type": "execute_result",
          "data": {
            "text/plain": [
              "array([[ 8,  9],\n",
              "       [13, 14]])"
            ]
          },
          "metadata": {
            "tags": []
          },
          "execution_count": 290
        }
      ]
    },
    {
      "cell_type": "code",
      "metadata": {
        "colab": {
          "base_uri": "https://localhost:8080/"
        },
        "id": "q2C8qIgIWUGJ",
        "outputId": "ab6b637b-4167-4987-818e-6e4c2bce9de6"
      },
      "source": [
        "# ao atribuir todos os elementos são atualizados\n",
        "array4[1:3, 2:4] = 999\n",
        "array4"
      ],
      "execution_count": 291,
      "outputs": [
        {
          "output_type": "execute_result",
          "data": {
            "text/plain": [
              "array([[  1,   2,   3,   4,   5],\n",
              "       [  6,   7, 999, 999,  10],\n",
              "       [ 11,  12, 999, 999,  15],\n",
              "       [ 16,  17,  18,  19,  20]])"
            ]
          },
          "metadata": {
            "tags": []
          },
          "execution_count": 291
        }
      ]
    },
    {
      "cell_type": "markdown",
      "metadata": {
        "id": "rXvk3mpkZksH"
      },
      "source": [
        "#### Indexação boobleana\n",
        "A indexação booleana pode ser usada para aplicar filtros condicionais a um array, por exemplo filtrando somente elementos maiores ou menores que um valor. É como se uma mascara com True/False fosse que colocada sob o array, e onde for True é apresentado e onde for false é ocultado.\n",
        "- Primeiro passo, aplicar a operação lógica a todos os elementos\n",
        "- Com o resultado, onde a posição do array resultante for True exibe como retorno"
      ]
    },
    {
      "cell_type": "code",
      "metadata": {
        "colab": {
          "base_uri": "https://localhost:8080/"
        },
        "id": "3Il1sJkdWvMD",
        "outputId": "d3f10d7d-9a19-4e64-a970-98dca76ef677"
      },
      "source": [
        "# Cria uma lista de nomes embaralhada\n",
        "lista_nomes = [\"Leandro\", \"Carlos\", \"Aline\", \"Christian\"]\n",
        "np.random.shuffle(lista_nomes)\n",
        "\n",
        "# Concatena a lista embaralhada com uma lista fixa de nomes\n",
        "lista_nomes.extend([\"Leandro\", \"Carlos\", \"Aline\", \"Christian\"])\n",
        "\n",
        "nomes = np.array(lista_nomes)\n",
        "dados = np.random.randn(8, 4)\n",
        "print(nomes)\n",
        "print(dados)"
      ],
      "execution_count": 292,
      "outputs": [
        {
          "output_type": "stream",
          "text": [
            "['Carlos' 'Christian' 'Leandro' 'Aline' 'Leandro' 'Carlos' 'Aline'\n",
            " 'Christian']\n",
            "[[-0.331  0.874  2.003  0.011]\n",
            " [-0.869  1.425  0.146  2.894]\n",
            " [-0.304  0.862 -0.69   0.187]\n",
            " [ 0.604 -0.183 -1.127  1.659]\n",
            " [-0.66   1.041  1.053  0.194]\n",
            " [ 1.358 -0.287  0.441 -0.77 ]\n",
            " [-0.975  0.709 -0.106  0.777]\n",
            " [ 0.914  1.689 -0.592  0.043]]\n"
          ],
          "name": "stdout"
        }
      ]
    },
    {
      "cell_type": "code",
      "metadata": {
        "colab": {
          "base_uri": "https://localhost:8080/"
        },
        "id": "F101gBrBZ7G_",
        "outputId": "78264d3a-f68c-4936-f229-76c3e3d5fbbc"
      },
      "source": [
        "# Index booleano aplica True/False em todos os elementos que atendem a condição\n",
        "nomes == \"Leandro\""
      ],
      "execution_count": 293,
      "outputs": [
        {
          "output_type": "execute_result",
          "data": {
            "text/plain": [
              "array([False, False,  True, False,  True, False, False, False])"
            ]
          },
          "metadata": {
            "tags": []
          },
          "execution_count": 293
        }
      ]
    },
    {
      "cell_type": "code",
      "metadata": {
        "colab": {
          "base_uri": "https://localhost:8080/"
        },
        "id": "vXGDRhF1cBNf",
        "outputId": "0bd9d484-0201-4057-81cf-5fff9350e331"
      },
      "source": [
        "# cada lista na lista de listas pode estar associada, pela posição dos True e False a um nome de outra lista\n",
        "# o array booleano orienta o array de dados onde filtrar, filtrar somente onde for True\n",
        "dados_do_leandro = dados[nomes == \"Leandro\"]\n",
        "\n",
        "print(dados_do_leandro)\n",
        "\n",
        "for i, notas in enumerate(dados_do_leandro):\n",
        "    print(f\"\\nGrupo: {i}\")\n",
        "    for nota in notas:\n",
        "        print(f\"Nota: {nota}\")"
      ],
      "execution_count": 294,
      "outputs": [
        {
          "output_type": "stream",
          "text": [
            "[[-0.304  0.862 -0.69   0.187]\n",
            " [-0.66   1.041  1.053  0.194]]\n",
            "\n",
            "Grupo: 0\n",
            "Nota: -0.30426018313286834\n",
            "Nota: 0.861661003786165\n",
            "Nota: -0.6899266692116788\n",
            "Nota: 0.18749737137009834\n",
            "\n",
            "Grupo: 1\n",
            "Nota: -0.6604414120536775\n",
            "Nota: 1.0410859693746797\n",
            "Nota: 1.0531748855253276\n",
            "Nota: 0.19429549990625541\n"
          ],
          "name": "stdout"
        }
      ]
    },
    {
      "cell_type": "code",
      "metadata": {
        "colab": {
          "base_uri": "https://localhost:8080/"
        },
        "id": "PUbWiVhecXro",
        "outputId": "d81f60c4-1185-4264-f8ab-c234bebc90a7"
      },
      "source": [
        "dados_diferente_de_leandro = dados[nomes != \"Leandro\"]\n",
        "dados_diferente_de_leandro"
      ],
      "execution_count": 295,
      "outputs": [
        {
          "output_type": "execute_result",
          "data": {
            "text/plain": [
              "array([[-0.331,  0.874,  2.003,  0.011],\n",
              "       [-0.869,  1.425,  0.146,  2.894],\n",
              "       [ 0.604, -0.183, -1.127,  1.659],\n",
              "       [ 1.358, -0.287,  0.441, -0.77 ],\n",
              "       [-0.975,  0.709, -0.106,  0.777],\n",
              "       [ 0.914,  1.689, -0.592,  0.043]])"
            ]
          },
          "metadata": {
            "tags": []
          },
          "execution_count": 295
        }
      ]
    },
    {
      "cell_type": "code",
      "metadata": {
        "colab": {
          "base_uri": "https://localhost:8080/"
        },
        "id": "E_RtWcYsewpB",
        "outputId": "80214778-3c90-450e-8ac5-c03dd251900e"
      },
      "source": [
        "# o mesmo filtro acima mas o uso de uma variavel que representa a condição\n",
        "condicao = (nomes == \"Leandro\") | (nomes == \"Carlos\")\n",
        "dados[~condicao]"
      ],
      "execution_count": 296,
      "outputs": [
        {
          "output_type": "execute_result",
          "data": {
            "text/plain": [
              "array([[-0.869,  1.425,  0.146,  2.894],\n",
              "       [ 0.604, -0.183, -1.127,  1.659],\n",
              "       [-0.975,  0.709, -0.106,  0.777],\n",
              "       [ 0.914,  1.689, -0.592,  0.043]])"
            ]
          },
          "metadata": {
            "tags": []
          },
          "execution_count": 296
        }
      ]
    },
    {
      "cell_type": "code",
      "metadata": {
        "colab": {
          "base_uri": "https://localhost:8080/"
        },
        "id": "kkCoVanwfByS",
        "outputId": "ec225f74-4dff-40cd-c75f-be6c6be62c2a"
      },
      "source": [
        "# filtrando os valores\n",
        "dados[dados < 0]"
      ],
      "execution_count": 297,
      "outputs": [
        {
          "output_type": "execute_result",
          "data": {
            "text/plain": [
              "array([-0.331, -0.869, -0.304, -0.69 , -0.183, -1.127, -0.66 , -0.287,\n",
              "       -0.77 , -0.975, -0.106, -0.592])"
            ]
          },
          "metadata": {
            "tags": []
          },
          "execution_count": 297
        }
      ]
    },
    {
      "cell_type": "code",
      "metadata": {
        "colab": {
          "base_uri": "https://localhost:8080/"
        },
        "id": "kHx5L61-g3vv",
        "outputId": "5dc1b8b3-62d6-44f9-d345-e02f80ab86c1"
      },
      "source": [
        "# atribuindo valor para todos os dados que estão abaixo de Zero no array\n",
        "dados[dados < 0] = 0\n",
        "dados"
      ],
      "execution_count": 298,
      "outputs": [
        {
          "output_type": "execute_result",
          "data": {
            "text/plain": [
              "array([[0.   , 0.874, 2.003, 0.011],\n",
              "       [0.   , 1.425, 0.146, 2.894],\n",
              "       [0.   , 0.862, 0.   , 0.187],\n",
              "       [0.604, 0.   , 0.   , 1.659],\n",
              "       [0.   , 1.041, 1.053, 0.194],\n",
              "       [1.358, 0.   , 0.441, 0.   ],\n",
              "       [0.   , 0.709, 0.   , 0.777],\n",
              "       [0.914, 1.689, 0.   , 0.043]])"
            ]
          },
          "metadata": {
            "tags": []
          },
          "execution_count": 298
        }
      ]
    },
    {
      "cell_type": "markdown",
      "metadata": {
        "id": "PIaZbQMyhsNT"
      },
      "source": [
        "### Transpose\n",
        "Transformar linhas em colunas"
      ]
    },
    {
      "cell_type": "code",
      "metadata": {
        "colab": {
          "base_uri": "https://localhost:8080/"
        },
        "id": "Zuy8lwu8hxPa",
        "outputId": "a26802c5-abad-4e43-bd5f-607b943e4624"
      },
      "source": [
        "array_trans = np.arange(15).reshape((3, 5))\n",
        "\n",
        "print(f\"Array original:\\n {array_trans}\\n\")\n",
        "\n",
        "# Transpor\n",
        "print(f\"Transpose:\\n {array_trans.T}\")"
      ],
      "execution_count": 299,
      "outputs": [
        {
          "output_type": "stream",
          "text": [
            "Array original:\n",
            " [[ 0  1  2  3  4]\n",
            " [ 5  6  7  8  9]\n",
            " [10 11 12 13 14]]\n",
            "\n",
            "Transpose:\n",
            " [[ 0  5 10]\n",
            " [ 1  6 11]\n",
            " [ 2  7 12]\n",
            " [ 3  8 13]\n",
            " [ 4  9 14]]\n"
          ],
          "name": "stdout"
        }
      ]
    },
    {
      "cell_type": "markdown",
      "metadata": {
        "id": "dif5CO4RlXH-"
      },
      "source": [
        "### Funções numpy built-in"
      ]
    },
    {
      "cell_type": "code",
      "metadata": {
        "id": "fXDrvR0llcqV"
      },
      "source": [
        "array_func = np.arange(1, 30, 2).reshape(3, 5)"
      ],
      "execution_count": 300,
      "outputs": []
    },
    {
      "cell_type": "code",
      "metadata": {
        "colab": {
          "base_uri": "https://localhost:8080/"
        },
        "id": "jhIXdjRglk7G",
        "outputId": "b7cb069d-2340-4648-e426-273ce3e30b58"
      },
      "source": [
        "array_func"
      ],
      "execution_count": 301,
      "outputs": [
        {
          "output_type": "execute_result",
          "data": {
            "text/plain": [
              "array([[ 1,  3,  5,  7,  9],\n",
              "       [11, 13, 15, 17, 19],\n",
              "       [21, 23, 25, 27, 29]])"
            ]
          },
          "metadata": {
            "tags": []
          },
          "execution_count": 301
        }
      ]
    },
    {
      "cell_type": "code",
      "metadata": {
        "colab": {
          "base_uri": "https://localhost:8080/"
        },
        "id": "cPOlkk_TPyX8",
        "outputId": "942386a7-776c-447f-e522-1c2133e1ed39"
      },
      "source": [
        "array_func.max()\n",
        "array_func.min()\n",
        "\n",
        "# indice de onde esta o maior valor\n",
        "array_func.argmax()\n"
      ],
      "execution_count": 302,
      "outputs": [
        {
          "output_type": "execute_result",
          "data": {
            "text/plain": [
              "14"
            ]
          },
          "metadata": {
            "tags": []
          },
          "execution_count": 302
        }
      ]
    },
    {
      "cell_type": "code",
      "metadata": {
        "colab": {
          "base_uri": "https://localhost:8080/"
        },
        "id": "tOIxdS19lmZm",
        "outputId": "bcd35281-737b-461e-9942-1bdf2aabafba"
      },
      "source": [
        "# calcula raiz quadrada\n",
        "array_func_sqtr = np.sqrt(array_func)\n",
        "array_func_sqtr"
      ],
      "execution_count": 303,
      "outputs": [
        {
          "output_type": "execute_result",
          "data": {
            "text/plain": [
              "array([[1.   , 1.732, 2.236, 2.646, 3.   ],\n",
              "       [3.317, 3.606, 3.873, 4.123, 4.359],\n",
              "       [4.583, 4.796, 5.   , 5.196, 5.385]])"
            ]
          },
          "metadata": {
            "tags": []
          },
          "execution_count": 303
        }
      ]
    },
    {
      "cell_type": "code",
      "metadata": {
        "colab": {
          "base_uri": "https://localhost:8080/"
        },
        "id": "fuo-uHMBmDuY",
        "outputId": "00bd95c6-caa2-4054-db21-2095399df40d"
      },
      "source": [
        "# calcula exponencial\n",
        "array_func_exp = np.exp(array_func_sqtr)\n",
        "array_func_exp"
      ],
      "execution_count": 304,
      "outputs": [
        {
          "output_type": "execute_result",
          "data": {
            "text/plain": [
              "array([[  2.718,   5.652,   9.356,  14.094,  20.086],\n",
              "       [ 27.567,  36.802,  48.086,  61.751,  78.171],\n",
              "       [ 97.766, 121.005, 148.413, 180.576, 218.146]])"
            ]
          },
          "metadata": {
            "tags": []
          },
          "execution_count": 304
        }
      ]
    },
    {
      "cell_type": "code",
      "metadata": {
        "colab": {
          "base_uri": "https://localhost:8080/"
        },
        "id": "LwET4EEtmlV5",
        "outputId": "444e2fa2-4428-45b5-d8f4-3a7f4450c484"
      },
      "source": [
        "# Compara os elementos de dois arrays e retorna aquele que tem o maior valor naquela determinada posição\n",
        "np.maximum(array_func_sqtr, array_func_exp)"
      ],
      "execution_count": 305,
      "outputs": [
        {
          "output_type": "execute_result",
          "data": {
            "text/plain": [
              "array([[  2.718,   5.652,   9.356,  14.094,  20.086],\n",
              "       [ 27.567,  36.802,  48.086,  61.751,  78.171],\n",
              "       [ 97.766, 121.005, 148.413, 180.576, 218.146]])"
            ]
          },
          "metadata": {
            "tags": []
          },
          "execution_count": 305
        }
      ]
    },
    {
      "cell_type": "code",
      "metadata": {
        "colab": {
          "base_uri": "https://localhost:8080/"
        },
        "id": "LQqo8inKnqKN",
        "outputId": "4417a0ec-8646-4129-e990-a988111171b1"
      },
      "source": [
        "# separa a parte inteira da parte decimal\n",
        "np.modf(array_func_sqtr)"
      ],
      "execution_count": 306,
      "outputs": [
        {
          "output_type": "execute_result",
          "data": {
            "text/plain": [
              "(array([[0.   , 0.732, 0.236, 0.646, 0.   ],\n",
              "        [0.317, 0.606, 0.873, 0.123, 0.359],\n",
              "        [0.583, 0.796, 0.   , 0.196, 0.385]]), array([[1., 1., 2., 2., 3.],\n",
              "        [3., 3., 3., 4., 4.],\n",
              "        [4., 4., 5., 5., 5.]]))"
            ]
          },
          "metadata": {
            "tags": []
          },
          "execution_count": 306
        }
      ]
    },
    {
      "cell_type": "markdown",
      "metadata": {
        "id": "kP9vpENtpR-i"
      },
      "source": [
        "### Programação orientada por arrays\n",
        "Um exemplo de utilização de calculos com arrays para criar uma imagem gráfica"
      ]
    },
    {
      "cell_type": "code",
      "metadata": {
        "colab": {
          "base_uri": "https://localhost:8080/",
          "height": 305
        },
        "id": "jvm9hnUkooLw",
        "outputId": "10de9874-7441-403f-c71b-6e00a48f26a3"
      },
      "source": [
        "# criar 1000 valores iniciando em -5 até 5 incrementando em 0.01\n",
        "pontos = np.arange(-5, 5, 0.01)\n",
        "\n",
        "# cria uma matriz de coordenadas\n",
        "xs, ys = np.meshgrid(pontos, pontos)\n",
        "\n",
        "z = np.sqrt(xs ** 2 + ys ** 2)\n",
        "\n",
        "plt.imshow(z, cmap=plt.cm.gray); plt.colorbar()\n",
        "plt.title(\"Image plot of $\\sqrt{x^2 + y^2}$ for a grid of values\")"
      ],
      "execution_count": 307,
      "outputs": [
        {
          "output_type": "execute_result",
          "data": {
            "text/plain": [
              "Text(0.5, 1.0, 'Image plot of $\\\\sqrt{x^2 + y^2}$ for a grid of values')"
            ]
          },
          "metadata": {
            "tags": []
          },
          "execution_count": 307
        },
        {
          "output_type": "display_data",
          "data": {
            "image/png": "[encoded data removed]",
            "text/plain": [
              "<Figure size 720x288 with 2 Axes>"
            ]
          },
          "metadata": {
            "tags": [],
            "needs_background": "light"
          }
        }
      ]
    },
    {
      "cell_type": "code",
      "metadata": {
        "colab": {
          "base_uri": "https://localhost:8080/",
          "height": 34
        },
        "id": "Ie9sUqJCrOf-",
        "outputId": "db22e1b3-8b0b-4ea0-a149-43750067e29e"
      },
      "source": [
        "plt.draw()"
      ],
      "execution_count": 308,
      "outputs": [
        {
          "output_type": "display_data",
          "data": {
            "text/plain": [
              "<Figure size 720x288 with 0 Axes>"
            ]
          },
          "metadata": {
            "tags": []
          }
        }
      ]
    },
    {
      "cell_type": "code",
      "metadata": {
        "id": "cyvluPqTrg6n"
      },
      "source": [
        "plt.close('all')"
      ],
      "execution_count": 309,
      "outputs": []
    },
    {
      "cell_type": "markdown",
      "metadata": {
        "id": "_uU8B2lBrrML"
      },
      "source": [
        "### Lógica Condicionais em ndarrays where()"
      ]
    },
    {
      "cell_type": "code",
      "metadata": {
        "id": "SOmVmDBMri7X"
      },
      "source": [
        "xarr = np.array([1.1, 1.2, 1.3, 1.4, 1.5])\n",
        "yarr = np.array([2.1, 2.2, 2.3, 2.4, 2.5])\n",
        "cond = np.array([True, False, True, True, False])"
      ],
      "execution_count": 310,
      "outputs": []
    },
    {
      "cell_type": "code",
      "metadata": {
        "colab": {
          "base_uri": "https://localhost:8080/"
        },
        "id": "ZOuLhNror3v4",
        "outputId": "6f376479-da74-44e3-b6e6-070b56776259"
      },
      "source": [
        "# Junta os elementos nas posições correspondentes das listas\n",
        "list(zip(xarr, yarr, cond))"
      ],
      "execution_count": 311,
      "outputs": [
        {
          "output_type": "execute_result",
          "data": {
            "text/plain": [
              "[(1.1, 2.1, True),\n",
              " (1.2, 2.2, False),\n",
              " (1.3, 2.3, True),\n",
              " (1.4, 2.4, True),\n",
              " (1.5, 2.5, False)]"
            ]
          },
          "metadata": {
            "tags": []
          },
          "execution_count": 311
        }
      ]
    },
    {
      "cell_type": "code",
      "metadata": {
        "colab": {
          "base_uri": "https://localhost:8080/"
        },
        "id": "Nq-jDEtUsBOI",
        "outputId": "e3b6fd46-f660-4f12-ada2-72ad401093ae"
      },
      "source": [
        "# se o item na lista de condição for True retorna X senão Y\n",
        "resultado = [(x if c else y) for x, y, c in zip(xarr, yarr, cond)]\n",
        "resultado"
      ],
      "execution_count": 312,
      "outputs": [
        {
          "output_type": "execute_result",
          "data": {
            "text/plain": [
              "[1.1, 2.2, 1.3, 1.4, 2.5]"
            ]
          },
          "metadata": {
            "tags": []
          },
          "execution_count": 312
        }
      ]
    },
    {
      "cell_type": "code",
      "metadata": {
        "colab": {
          "base_uri": "https://localhost:8080/"
        },
        "id": "VQlBhGWQs1H7",
        "outputId": "bd96970f-a643-42a7-876d-85f8d005e9dc"
      },
      "source": [
        "# Usando where para fazer a mesma avaliação. \n",
        "# Se o elemento na lista de condições for True retorna X senão Y\n",
        "resultado = np.where(cond, xarr, yarr)\n",
        "resultado"
      ],
      "execution_count": 313,
      "outputs": [
        {
          "output_type": "execute_result",
          "data": {
            "text/plain": [
              "array([1.1, 2.2, 1.3, 1.4, 2.5])"
            ]
          },
          "metadata": {
            "tags": []
          },
          "execution_count": 313
        }
      ]
    },
    {
      "cell_type": "code",
      "metadata": {
        "colab": {
          "base_uri": "https://localhost:8080/"
        },
        "id": "Pbz1kVy6tNQM",
        "outputId": "d2d15a91-bafd-43bb-861e-2b2e59107ac6"
      },
      "source": [
        "# Usando a condição diretamente\n",
        "# Obtem a lista de True/False original\n",
        "np.where(resultado < 2, True, False)"
      ],
      "execution_count": 314,
      "outputs": [
        {
          "output_type": "execute_result",
          "data": {
            "text/plain": [
              "array([ True, False,  True,  True, False])"
            ]
          },
          "metadata": {
            "tags": []
          },
          "execution_count": 314
        }
      ]
    },
    {
      "cell_type": "markdown",
      "metadata": {
        "id": "QyySa6YW1jxR"
      },
      "source": [
        "### Funções estatísticas e matemática, mean(), sum(), cumsum()"
      ]
    },
    {
      "cell_type": "code",
      "metadata": {
        "colab": {
          "base_uri": "https://localhost:8080/"
        },
        "id": "fVgd4FPTt1B1",
        "outputId": "5df18ba3-fa9b-4842-f6a0-af820ede379f"
      },
      "source": [
        "arr = np.arange(1, 16).reshape(3, 5)\n",
        "\n",
        "print(f\"Array original\\n {arr}\\n\")\n",
        "\n",
        "# Calculando como um método do ndarray\n",
        "# soma e faz a media de todos os elementos\n",
        "print(arr.mean())\n",
        "print(arr.sum())\n",
        "\n",
        "# Calculando como método do numpy\n",
        "# soma e faz a media de todos os elementos\n",
        "print(np.mean(arr))\n",
        "print(np.sum(arr))"
      ],
      "execution_count": 315,
      "outputs": [
        {
          "output_type": "stream",
          "text": [
            "Array original\n",
            " [[ 1  2  3  4  5]\n",
            " [ 6  7  8  9 10]\n",
            " [11 12 13 14 15]]\n",
            "\n",
            "8.0\n",
            "120\n",
            "8.0\n",
            "120\n"
          ],
          "name": "stdout"
        }
      ]
    },
    {
      "cell_type": "code",
      "metadata": {
        "colab": {
          "base_uri": "https://localhost:8080/"
        },
        "id": "R6UOeznc1xQY",
        "outputId": "efbf56ac-2465-43a4-ca8a-c33acfc47063"
      },
      "source": [
        "# axes1: soma das colunas\n",
        "np.sum(arr, axis=1)\n"
      ],
      "execution_count": 316,
      "outputs": [
        {
          "output_type": "execute_result",
          "data": {
            "text/plain": [
              "array([15, 40, 65])"
            ]
          },
          "metadata": {
            "tags": []
          },
          "execution_count": 316
        }
      ]
    },
    {
      "cell_type": "code",
      "metadata": {
        "colab": {
          "base_uri": "https://localhost:8080/"
        },
        "id": "4MmUsYvl3SGl",
        "outputId": "a466ee4b-2a7c-4fec-e818-4316fdf63644"
      },
      "source": [
        "# axes0: soma das linhas\n",
        "total = np.sum(arr, axis=0)\n",
        "total"
      ],
      "execution_count": 317,
      "outputs": [
        {
          "output_type": "execute_result",
          "data": {
            "text/plain": [
              "array([18, 21, 24, 27, 30])"
            ]
          },
          "metadata": {
            "tags": []
          },
          "execution_count": 317
        }
      ]
    },
    {
      "cell_type": "code",
      "metadata": {
        "colab": {
          "base_uri": "https://localhost:8080/"
        },
        "id": "SsO2BMip3lbF",
        "outputId": "0766a004-908c-4a12-864d-6ed9abb755cd"
      },
      "source": [
        "# Soma acumulada\n",
        "total_acumulado_linhas = np.cumsum(arr, axis=0)\n",
        "print(f\"Acum. linhas:\\n {total_acumulado_linhas}\\n\")\n",
        "\n",
        "total_acumulado_col = np.cumsum(arr, axis=1)\n",
        "print(f\"Acum. col:\\n {total_acumulado_col}\\n\")\n"
      ],
      "execution_count": 318,
      "outputs": [
        {
          "output_type": "stream",
          "text": [
            "Acum. linhas:\n",
            " [[ 1  2  3  4  5]\n",
            " [ 7  9 11 13 15]\n",
            " [18 21 24 27 30]]\n",
            "\n",
            "Acum. col:\n",
            " [[ 1  3  6 10 15]\n",
            " [ 6 13 21 30 40]\n",
            " [11 23 36 50 65]]\n",
            "\n"
          ],
          "name": "stdout"
        }
      ]
    },
    {
      "cell_type": "markdown",
      "metadata": {
        "id": "Iuy8n5HY43L5"
      },
      "source": [
        "### Funçoes booleanas any(), all()"
      ]
    },
    {
      "cell_type": "code",
      "metadata": {
        "colab": {
          "base_uri": "https://localhost:8080/"
        },
        "id": "XiW7TCj74Ign",
        "outputId": "38ff6765-944d-48a4-cde5-f27c57402a6a"
      },
      "source": [
        "bools_any = np.array([False, False, True, False])\n",
        "\n",
        "# Verifica se existe algum elemento True\n",
        "print(f\"any(): {bools_any.any()}\")\n",
        "\n",
        "bools_all = np.array([True, True, True, True])\n",
        "print(f\"all(): {bools_all.all()}\")\n"
      ],
      "execution_count": 319,
      "outputs": [
        {
          "output_type": "stream",
          "text": [
            "any(): True\n",
            "all(): True\n"
          ],
          "name": "stdout"
        }
      ]
    },
    {
      "cell_type": "markdown",
      "metadata": {
        "id": "0Pdm7byN52uL"
      },
      "source": [
        "### Ordenação sort()"
      ]
    },
    {
      "cell_type": "code",
      "metadata": {
        "colab": {
          "base_uri": "https://localhost:8080/"
        },
        "id": "G_bhm47I5QRx",
        "outputId": "a2c55c5f-9738-4816-b23a-5965eb165180"
      },
      "source": [
        "arr = np.arange(1, 16).reshape(5, 3)\n",
        "np.random.shuffle(arr)\n",
        "\n",
        "print(f\"Array embaralhado:\\n {arr}\")\n",
        "\n",
        "arr.sort(axis=0)\n",
        "print(f\"Array ordernado:\\n {arr}\")\n",
        "\n",
        "arr.sort(axis=1)\n",
        "print(f\"Array ordernado:\\n {arr}\")"
      ],
      "execution_count": 320,
      "outputs": [
        {
          "output_type": "stream",
          "text": [
            "Array embaralhado:\n",
            " [[10 11 12]\n",
            " [ 1  2  3]\n",
            " [13 14 15]\n",
            " [ 4  5  6]\n",
            " [ 7  8  9]]\n",
            "Array ordernado:\n",
            " [[ 1  2  3]\n",
            " [ 4  5  6]\n",
            " [ 7  8  9]\n",
            " [10 11 12]\n",
            " [13 14 15]]\n",
            "Array ordernado:\n",
            " [[ 1  2  3]\n",
            " [ 4  5  6]\n",
            " [ 7  8  9]\n",
            " [10 11 12]\n",
            " [13 14 15]]\n"
          ],
          "name": "stdout"
        }
      ]
    },
    {
      "cell_type": "markdown",
      "metadata": {
        "id": "cpHuKlE07w-Q"
      },
      "source": [
        "Lógica de conjuntos unique()"
      ]
    },
    {
      "cell_type": "code",
      "metadata": {
        "colab": {
          "base_uri": "https://localhost:8080/"
        },
        "id": "-mF57MhC5-HK",
        "outputId": "510c1e36-2856-4721-b3f7-04c79d1f8fe4"
      },
      "source": [
        "print(f\"Lista original de nomes: {nomes}\\n\\n\")\n",
        "\n",
        "nomes_unicos_ordenados = np.unique(nomes)\n",
        "print(f\"Nomes únicos e ordenados {nomes_unicos_ordenados} usando unique()\\n\\n\")\n",
        "\n",
        "# Esta é oura forma de retornar.\n",
        "# Transforma set (elementos únicos) e ordena\n",
        "sorted(set(nomes))"
      ],
      "execution_count": 321,
      "outputs": [
        {
          "output_type": "stream",
          "text": [
            "Lista original de nomes: ['Carlos' 'Christian' 'Leandro' 'Aline' 'Leandro' 'Carlos' 'Aline'\n",
            " 'Christian']\n",
            "\n",
            "\n",
            "Nomes únicos e ordenados ['Aline' 'Carlos' 'Christian' 'Leandro'] usando unique()\n",
            "\n",
            "\n"
          ],
          "name": "stdout"
        },
        {
          "output_type": "execute_result",
          "data": {
            "text/plain": [
              "['Aline', 'Carlos', 'Christian', 'Leandro']"
            ]
          },
          "metadata": {
            "tags": []
          },
          "execution_count": 321
        }
      ]
    },
    {
      "cell_type": "code",
      "metadata": {
        "id": "p3sNoBFK_4C4"
      },
      "source": [
        ""
      ],
      "execution_count": 321,
      "outputs": []
    }
  ]
}