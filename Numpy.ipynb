{
  "nbformat": 4,
  "nbformat_minor": 0,
  "metadata": {
    "colab": {
      "name": "Numpy.ipynb",
      "provenance": [],
      "collapsed_sections": [],
      "toc_visible": true,
      "authorship_tag": "ABX9TyPxfCwVTKnWIlQ1X0qvazFE",
      "include_colab_link": true
    },
    "kernelspec": {
      "name": "python3",
      "display_name": "Python 3"
    },
    "language_info": {
      "name": "python"
    }
  },
  "cells": [
    {
      "cell_type": "markdown",
      "metadata": {
        "id": "view-in-github",
        "colab_type": "text"
      },
      "source": [
        "<a href=\"https://colab.research.google.com/github/leandrobarbieri/pydata-book/blob/1st-edition/Numpy.ipynb\" target=\"_parent\"><img src=\"https://colab.research.google.com/assets/colab-badge.svg\" alt=\"Open In Colab\"/></a>"
      ]
    },
    {
      "cell_type": "markdown",
      "metadata": {
        "id": "9R9F_gvPQa07"
      },
      "source": [
        "# Numpy: Arrays e computação vetorizada\n",
        "Cálculos com arrays numpy são feitos sem que seja necessário criar laços for, as operações acontecem sob todos os elemenos automaticamente. Aprender a manipular arrays numpy facilita muito o entendimento de como o pandas funciona"
      ]
    },
    {
      "cell_type": "code",
      "metadata": {
        "id": "HXZhcIqMQM9y"
      },
      "source": [
        "# importando numpy\n",
        "import numpy as np\n",
        "\n",
        "# configurando uma semente para geração de números aleatórios com ramdom. \n",
        "# Isso garante que sempre que executar a criação dos numeros aleatorios serão os mesmos dentro desta sessão. Facilita os testes.\n",
        "np.random.seed(1234)\n",
        "\n",
        "# controla com o float será exibido na saída de objetos np\n",
        "np.set_printoptions(precision=3, suppress=True)\n",
        "\n",
        "# importando matplotlib.pyplot para gráficos e a função rc para pré-configuração\n",
        "from matplotlib import pyplot as plt\n",
        "from matplotlib.pyplot import rc\n",
        "\n",
        "# Configurando o pyplot opções padrões para o pyplot\n",
        "rc(\"figure\", figsize=(10, 4))\n",
        "rc('lines', lw=2, c='r')"
      ],
      "execution_count": 2,
      "outputs": []
    },
    {
      "cell_type": "markdown",
      "metadata": {
        "id": "7HV4MFCRQX46"
      },
      "source": [
        "#### Criando listas com numpy.arange"
      ]
    },
    {
      "cell_type": "code",
      "metadata": {
        "colab": {
          "base_uri": "https://localhost:8080/"
        },
        "id": "WaA289ZEaji-",
        "outputId": "258c496b-ed91-433e-bfd2-44dc51da626d"
      },
      "source": [
        "# Criando um array numpy com arange: arange([start,] stop[, step,], dtype=None)\n",
        "meu_array = np.arange(1, 11, 0.1, dtype=float)\n",
        "print(f\"Inclui o inicio mais exclui o valor final: {meu_array}\")"
      ],
      "execution_count": 3,
      "outputs": [
        {
          "output_type": "stream",
          "name": "stdout",
          "text": [
            "Inclui o inicio mais exclui o valor final: [ 1.   1.1  1.2  1.3  1.4  1.5  1.6  1.7  1.8  1.9  2.   2.1  2.2  2.3\n",
            "  2.4  2.5  2.6  2.7  2.8  2.9  3.   3.1  3.2  3.3  3.4  3.5  3.6  3.7\n",
            "  3.8  3.9  4.   4.1  4.2  4.3  4.4  4.5  4.6  4.7  4.8  4.9  5.   5.1\n",
            "  5.2  5.3  5.4  5.5  5.6  5.7  5.8  5.9  6.   6.1  6.2  6.3  6.4  6.5\n",
            "  6.6  6.7  6.8  6.9  7.   7.1  7.2  7.3  7.4  7.5  7.6  7.7  7.8  7.9\n",
            "  8.   8.1  8.2  8.3  8.4  8.5  8.6  8.7  8.8  8.9  9.   9.1  9.2  9.3\n",
            "  9.4  9.5  9.6  9.7  9.8  9.9 10.  10.1 10.2 10.3 10.4 10.5 10.6 10.7\n",
            " 10.8 10.9]\n"
          ]
        }
      ]
    },
    {
      "cell_type": "markdown",
      "metadata": {
        "id": "eBBCYRFmbmSR"
      },
      "source": [
        "#### Criando listas com range"
      ]
    },
    {
      "cell_type": "code",
      "metadata": {
        "colab": {
          "base_uri": "https://localhost:8080/"
        },
        "id": "CaWJC6ooa8M3",
        "outputId": "3a2ef1ed-13c0-4d63-edf7-d4bec4b632d8"
      },
      "source": [
        "# Existe uma função chamada \"range\" que é uma função built-in do python semelhante\n",
        "minha_lista = list(range(1, 11, 1))\n",
        "print(f\"Lista: {minha_lista}\")"
      ],
      "execution_count": 4,
      "outputs": [
        {
          "output_type": "stream",
          "name": "stdout",
          "text": [
            "Lista: [1, 2, 3, 4, 5, 6, 7, 8, 9, 10]\n"
          ]
        }
      ]
    },
    {
      "cell_type": "markdown",
      "metadata": {
        "id": "ShY7P6fIeIcP"
      },
      "source": [
        "#### Monitorando o tempo de execução"
      ]
    },
    {
      "cell_type": "code",
      "metadata": {
        "id": "__WYaZEWb3mB",
        "colab": {
          "base_uri": "https://localhost:8080/"
        },
        "outputId": "ba00bdb0-7d6d-4c29-babb-ec75fe2019dc"
      },
      "source": [
        "# Fazendo uma operação de multiplicação vetorizada em um array numpy\n",
        "# é bem mais direto, não precisa criar laço de iteração\n",
        "%time for _ in range(10): meu_array2 = meu_array * 2\n",
        "\n",
        "# Fazendo uma operação de multiplicação em cada elemento de uma lista usando list comprehension\n",
        "%time for _ in range(10): minha_lista2 = [x * 2 for x in minha_lista]"
      ],
      "execution_count": 5,
      "outputs": [
        {
          "output_type": "stream",
          "name": "stdout",
          "text": [
            "CPU times: user 53 µs, sys: 11 µs, total: 64 µs\n",
            "Wall time: 69.1 µs\n",
            "CPU times: user 24 µs, sys: 0 ns, total: 24 µs\n",
            "Wall time: 27.4 µs\n"
          ]
        }
      ]
    },
    {
      "cell_type": "markdown",
      "metadata": {
        "id": "HG6RluN3fbHR"
      },
      "source": [
        "# Numpy ndarray"
      ]
    },
    {
      "cell_type": "markdown",
      "metadata": {
        "id": "pVrOhhfIf2-B"
      },
      "source": [
        "### Matrizes randômicas\n",
        "np.random.randn()"
      ]
    },
    {
      "cell_type": "code",
      "metadata": {
        "colab": {
          "base_uri": "https://localhost:8080/"
        },
        "id": "APt4kNjAeYdw",
        "outputId": "370a8786-006e-417f-b094-00767346de98"
      },
      "source": [
        "import numpy as np\n",
        "\n",
        "# randn(): Gera uma matrix com dados randomicos de 2 linhas por 3 colunas\n",
        "dados = np.random.randn(2, 3)\n",
        "dados"
      ],
      "execution_count": 6,
      "outputs": [
        {
          "output_type": "execute_result",
          "data": {
            "text/plain": [
              "array([[ 0.471, -1.191,  1.433],\n",
              "       [-0.313, -0.721,  0.887]])"
            ]
          },
          "metadata": {},
          "execution_count": 6
        }
      ]
    },
    {
      "cell_type": "code",
      "metadata": {
        "colab": {
          "base_uri": "https://localhost:8080/"
        },
        "id": "23bHee4cPDRl",
        "outputId": "a2b62e38-c395-49d2-c4d5-7a8e75e84ad2"
      },
      "source": [
        "# retorna um numero especifico de elementos (exemplo \"3\") entro de um intervalo (de 1 a 100)\n",
        "dados_randint = np.random.randint(1, 100, 3)\n",
        "dados_randint"
      ],
      "execution_count": 7,
      "outputs": [
        {
          "output_type": "execute_result",
          "data": {
            "text/plain": [
              "array([27, 31, 44])"
            ]
          },
          "metadata": {},
          "execution_count": 7
        }
      ]
    },
    {
      "cell_type": "code",
      "metadata": {
        "colab": {
          "base_uri": "https://localhost:8080/"
        },
        "id": "jV3NSZZQganE",
        "outputId": "c305d307-a760-4555-89d1-9847c797206f"
      },
      "source": [
        "# Multiplica todos os dados da matriz por 10. Operação vetorizada, não precisa de criar um laço for\n",
        "dados = dados * 10\n",
        "dados"
      ],
      "execution_count": 8,
      "outputs": [
        {
          "output_type": "execute_result",
          "data": {
            "text/plain": [
              "array([[  4.714, -11.91 ,  14.327],\n",
              "       [ -3.127,  -7.206,   8.872]])"
            ]
          },
          "metadata": {},
          "execution_count": 8
        }
      ]
    },
    {
      "cell_type": "code",
      "metadata": {
        "colab": {
          "base_uri": "https://localhost:8080/"
        },
        "id": "cMNALaYzgnVi",
        "outputId": "dafa58b3-892b-4e8d-ea3e-d5e779ee9f22"
      },
      "source": [
        "# soma de matrizes (soma elemento por elemento nas posições correspondentes)\n",
        "dados = dados + dados\n",
        "dados"
      ],
      "execution_count": 9,
      "outputs": [
        {
          "output_type": "execute_result",
          "data": {
            "text/plain": [
              "array([[  9.429, -23.82 ,  28.654],\n",
              "       [ -6.253, -14.412,  17.743]])"
            ]
          },
          "metadata": {},
          "execution_count": 9
        }
      ]
    },
    {
      "cell_type": "code",
      "metadata": {
        "colab": {
          "base_uri": "https://localhost:8080/"
        },
        "id": "7w4YIP_5gyRC",
        "outputId": "2b759e5c-7fe9-4c0c-c2d9-ae3da6983c30"
      },
      "source": [
        "# schema da matriz: número de linhas e colunas\n",
        "dados.shape"
      ],
      "execution_count": 10,
      "outputs": [
        {
          "output_type": "execute_result",
          "data": {
            "text/plain": [
              "(2, 3)"
            ]
          },
          "metadata": {},
          "execution_count": 10
        }
      ]
    },
    {
      "cell_type": "code",
      "metadata": {
        "colab": {
          "base_uri": "https://localhost:8080/"
        },
        "id": "ATQ95SIFhE_T",
        "outputId": "7b28bc6b-e61f-4403-9de3-8df8845f9aaf"
      },
      "source": [
        "# consultando o tipo de dados dos elementos da matriz\n",
        "dados.dtype"
      ],
      "execution_count": 11,
      "outputs": [
        {
          "output_type": "execute_result",
          "data": {
            "text/plain": [
              "dtype('float64')"
            ]
          },
          "metadata": {},
          "execution_count": 11
        }
      ]
    },
    {
      "cell_type": "markdown",
      "metadata": {
        "id": "gCbjVZTghk5N"
      },
      "source": [
        "### Arrays e aranges"
      ]
    },
    {
      "cell_type": "code",
      "metadata": {
        "colab": {
          "base_uri": "https://localhost:8080/"
        },
        "id": "WAehun5Vhoc0",
        "outputId": "26a06be5-0e07-4425-f5a8-1edf1a7b41b2"
      },
      "source": [
        "# array simples 1D\n",
        "dados_array = np.array([3, 5, 8.5])\n",
        "dados_array"
      ],
      "execution_count": 12,
      "outputs": [
        {
          "output_type": "execute_result",
          "data": {
            "text/plain": [
              "array([3. , 5. , 8.5])"
            ]
          },
          "metadata": {},
          "execution_count": 12
        }
      ]
    },
    {
      "cell_type": "code",
      "metadata": {
        "colab": {
          "base_uri": "https://localhost:8080/"
        },
        "id": "mH-xXYXVh4fO",
        "outputId": "c03038a2-0c02-4f8d-84dd-f3bae105428e"
      },
      "source": [
        "# array 2 dimensões: 3 linhas 3 colunas\n",
        "dados_arrayD2 = np.array([[1, 2], [4, 5], [7, 8]])\n",
        "\n",
        "# print(f\"{dados_arrayD2.shape[0]} linhas e {dados_arrayD2.shape[1]} colunas\" )\n",
        "\n",
        "print(dados_arrayD2.shape)\n",
        "\n",
        "dados_arrayD2"
      ],
      "execution_count": 13,
      "outputs": [
        {
          "output_type": "stream",
          "name": "stdout",
          "text": [
            "(3, 2)\n"
          ]
        },
        {
          "output_type": "execute_result",
          "data": {
            "text/plain": [
              "array([[1, 2],\n",
              "       [4, 5],\n",
              "       [7, 8]])"
            ]
          },
          "metadata": {},
          "execution_count": 13
        }
      ]
    },
    {
      "cell_type": "code",
      "metadata": {
        "colab": {
          "base_uri": "https://localhost:8080/"
        },
        "id": "6AiodSfsk5C1",
        "outputId": "d052c798-011a-4163-942b-590e203ced13"
      },
      "source": [
        "# Número de dimensões\n",
        "dados_arrayD2.ndim\n",
        "dados_arrayD2.shape[0]\n",
        "\n",
        "# Retorna a segunda linha\n",
        "print(f\"Segunda linha e primeira coluna: {dados_arrayD2[1][0]}\")\n",
        "\n",
        "print(f\"Este array tem {dados_arrayD2.ndim} dimensões. São {dados_arrayD2.shape[0]} linhas e {dados_arrayD2.shape[1]} colunas.\")\n",
        "\n",
        "dados_arrayD2"
      ],
      "execution_count": 14,
      "outputs": [
        {
          "output_type": "stream",
          "name": "stdout",
          "text": [
            "Segunda linha e primeira coluna: 4\n",
            "Este array tem 2 dimensões. São 3 linhas e 2 colunas.\n"
          ]
        },
        {
          "output_type": "execute_result",
          "data": {
            "text/plain": [
              "array([[1, 2],\n",
              "       [4, 5],\n",
              "       [7, 8]])"
            ]
          },
          "metadata": {},
          "execution_count": 14
        }
      ]
    },
    {
      "cell_type": "code",
      "metadata": {
        "colab": {
          "base_uri": "https://localhost:8080/"
        },
        "id": "60Hh1GbCmW-R",
        "outputId": "d0e4016c-48eb-465b-9dfa-b256b42ee4bb"
      },
      "source": [
        "# criar matrizes com arrays zerados em diversas dimensões\n",
        "\n",
        "# arrays de 1D\n",
        "print(np.zeros(10))\n",
        "\n",
        "# array de 2D. informar tupla\n",
        "print(np.zeros((2, 3)))\n",
        "\n",
        "# arrays de 1D\n",
        "print(np.ones(10))\n",
        "\n",
        "# array de 2D. informar tupla\n",
        "print(np.ones((2, 3)))\n",
        "\n",
        "# 3 dimensões\n",
        "print(np.empty((2, 3, 2)))"
      ],
      "execution_count": 15,
      "outputs": [
        {
          "output_type": "stream",
          "name": "stdout",
          "text": [
            "[0. 0. 0. 0. 0. 0. 0. 0. 0. 0.]\n",
            "[[0. 0. 0.]\n",
            " [0. 0. 0.]]\n",
            "[1. 1. 1. 1. 1. 1. 1. 1. 1. 1.]\n",
            "[[1. 1. 1.]\n",
            " [1. 1. 1.]]\n",
            "[[[0. 0.]\n",
            "  [0. 0.]\n",
            "  [0. 0.]]\n",
            "\n",
            " [[0. 0.]\n",
            "  [0. 0.]\n",
            "  [0. 0.]]]\n"
          ]
        }
      ]
    },
    {
      "cell_type": "code",
      "metadata": {
        "colab": {
          "base_uri": "https://localhost:8080/"
        },
        "id": "WLMfuPaWNgqV",
        "outputId": "bbe79626-d5bd-4929-968f-fa0f1e4ea119"
      },
      "source": [
        "# linspace: criar uma lista com um numero determinado de elementos dentro de um intervalo max e min\n",
        "# inicia em Zero vai até 10 com 20 elementos entre Zero e Dez\n",
        "np.linspace(start=1, stop=10, num=20)"
      ],
      "execution_count": 16,
      "outputs": [
        {
          "output_type": "execute_result",
          "data": {
            "text/plain": [
              "array([ 1.   ,  1.474,  1.947,  2.421,  2.895,  3.368,  3.842,  4.316,\n",
              "        4.789,  5.263,  5.737,  6.211,  6.684,  7.158,  7.632,  8.105,\n",
              "        8.579,  9.053,  9.526, 10.   ])"
            ]
          },
          "metadata": {},
          "execution_count": 16
        }
      ]
    },
    {
      "cell_type": "code",
      "metadata": {
        "colab": {
          "base_uri": "https://localhost:8080/"
        },
        "id": "VGqx9CnWndhy",
        "outputId": "9b9bdd33-0d0d-4abe-c386-59216e9733f6"
      },
      "source": [
        "# cria um range com numpy: arange([start,] stop[, step,], dtype=)\n",
        "np.arange(5, 10)"
      ],
      "execution_count": 17,
      "outputs": [
        {
          "output_type": "execute_result",
          "data": {
            "text/plain": [
              "array([5, 6, 7, 8, 9])"
            ]
          },
          "metadata": {},
          "execution_count": 17
        }
      ]
    },
    {
      "cell_type": "markdown",
      "metadata": {
        "id": "kGVWXSCoo4eK"
      },
      "source": [
        "### Tipos de dados arrays numpy"
      ]
    },
    {
      "cell_type": "code",
      "metadata": {
        "colab": {
          "base_uri": "https://localhost:8080/"
        },
        "id": "dzH9-lsLoP6G",
        "outputId": "78e8c8ac-f4f8-4bf6-a24e-d29f695b8aa4"
      },
      "source": [
        "# Alterando os tipos de dados de um array\n",
        "dados_array_float = np.array([1, 2, 3], dtype=np.float)\n",
        "dados_array_int = np.array([1, 2, 3], dtype=np.int32)\n",
        "\n",
        "print(f\"Os dados deste array são do tipo: {dados_array_float.dtype}. Array: {dados_array_float}\")\n",
        "print(f\"Os dados deste array são do tipo: {dados_array_int.dtype}. Array: {dados_array_int}\")"
      ],
      "execution_count": 18,
      "outputs": [
        {
          "output_type": "stream",
          "name": "stdout",
          "text": [
            "Os dados deste array são do tipo: float64. Array: [1. 2. 3.]\n",
            "Os dados deste array são do tipo: int32. Array: [1 2 3]\n"
          ]
        }
      ]
    },
    {
      "cell_type": "code",
      "metadata": {
        "colab": {
          "base_uri": "https://localhost:8080/"
        },
        "id": "q4Hs6xYaqASG",
        "outputId": "9e7f4c81-387a-4425-d45e-c6aff33ae72b"
      },
      "source": [
        "# Convertendo o tipo de dados do array: astype\n",
        "dados_array = np.array([1, 2, 3])\n",
        "print(dados_array.dtype)\n",
        "\n",
        "dados_array = dados_array.astype(np.float)\n",
        "print(dados_array.dtype)"
      ],
      "execution_count": 19,
      "outputs": [
        {
          "output_type": "stream",
          "name": "stdout",
          "text": [
            "int64\n",
            "float64\n"
          ]
        }
      ]
    },
    {
      "cell_type": "code",
      "metadata": {
        "colab": {
          "base_uri": "https://localhost:8080/"
        },
        "id": "ukB3yd0oraNE",
        "outputId": "9d836ef8-598c-4ecd-af05-705d17f84de6"
      },
      "source": [
        "# Os dados são truncados quando convertidos de float par int\n",
        "dados_array = np.array([1.3, 4.5, -6.9])\n",
        "print(dados_array)\n",
        "\n",
        "dados_array = dados_array.astype(np.int32)\n",
        "print(dados_array)"
      ],
      "execution_count": 20,
      "outputs": [
        {
          "output_type": "stream",
          "name": "stdout",
          "text": [
            "[ 1.3  4.5 -6.9]\n",
            "[ 1  4 -6]\n"
          ]
        }
      ]
    },
    {
      "cell_type": "markdown",
      "metadata": {
        "id": "46krEISPpzOc"
      },
      "source": [
        "### Aritimética com numpy arrays"
      ]
    },
    {
      "cell_type": "code",
      "metadata": {
        "id": "DImXZKO8r8-u",
        "colab": {
          "base_uri": "https://localhost:8080/"
        },
        "outputId": "53895a81-8478-4250-a04e-e82f4e8536c5"
      },
      "source": [
        "# Array 2D com tres linhas e tres colunas\n",
        "array1 = np.array([[1.0, 2.5, 3.9], [4.8, 5.7, 3.4], [9.8, 8.2, 6.2]])\n",
        "\n",
        "print(f\"Array inicial:\\n {array1}\\n\")\n",
        "print(f\"Array multiplicação array1 * array1:\\n {array1 * array1}\\n\")\n",
        "print(f\"Array subtração array1 - array1:\\n {array1 - array1}\")"
      ],
      "execution_count": 21,
      "outputs": [
        {
          "output_type": "stream",
          "name": "stdout",
          "text": [
            "Array inicial:\n",
            " [[1.  2.5 3.9]\n",
            " [4.8 5.7 3.4]\n",
            " [9.8 8.2 6.2]]\n",
            "\n",
            "Array multiplicação array1 * array1:\n",
            " [[ 1.    6.25 15.21]\n",
            " [23.04 32.49 11.56]\n",
            " [96.04 67.24 38.44]]\n",
            "\n",
            "Array subtração array1 - array1:\n",
            " [[0. 0. 0.]\n",
            " [0. 0. 0.]\n",
            " [0. 0. 0.]]\n"
          ]
        }
      ]
    },
    {
      "cell_type": "markdown",
      "metadata": {
        "id": "jqHlMqhMrH0G"
      },
      "source": [
        "### Indexação e slice\n",
        "array[linhas][colunas] ou array[linhas, colunas], se tiver apenas uma dimensão o indice representa a linha."
      ]
    },
    {
      "cell_type": "code",
      "metadata": {
        "colab": {
          "base_uri": "https://localhost:8080/"
        },
        "id": "uwYGt7d0qx7N",
        "outputId": "2249ab98-e9dd-41f3-e955-fe2ebba65ead"
      },
      "source": [
        "# acessar os elementos do array pelo índice iniciando em Zero\n",
        "print(f\"Array inicial:\\n {array1}\\n\")\n",
        "\n",
        "# linha\n",
        "print(f\"Todos os elementos da primeira linha: {array1[0]}\")\n",
        "\n",
        "# coluna\n",
        "print(f\"Todos os elementos da primeira coluna: {array1[:, 0]}\")\n",
        "\n",
        "# elemento (celula)\n",
        "print(f\"O terceiro elmento da segunda linha: {array1[1][2]}\")\n"
      ],
      "execution_count": 22,
      "outputs": [
        {
          "output_type": "stream",
          "name": "stdout",
          "text": [
            "Array inicial:\n",
            " [[1.  2.5 3.9]\n",
            " [4.8 5.7 3.4]\n",
            " [9.8 8.2 6.2]]\n",
            "\n",
            "Todos os elementos da primeira linha: [1.  2.5 3.9]\n",
            "Todos os elementos da primeira coluna: [1.  4.8 9.8]\n",
            "O terceiro elmento da segunda linha: 3.4\n"
          ]
        }
      ]
    },
    {
      "cell_type": "code",
      "metadata": {
        "colab": {
          "base_uri": "https://localhost:8080/"
        },
        "id": "282AmUNC7iZd",
        "outputId": "b9669777-e67a-484b-f604-05f7e32bb17f"
      },
      "source": [
        "# primeira linha, segunda coluna\n",
        "array1[0][1]\n",
        "\n",
        "# segunda linha, terceira coluna\n",
        "array1[1][2]"
      ],
      "execution_count": 23,
      "outputs": [
        {
          "output_type": "execute_result",
          "data": {
            "text/plain": [
              "3.4"
            ]
          },
          "metadata": {},
          "execution_count": 23
        }
      ]
    },
    {
      "cell_type": "code",
      "metadata": {
        "colab": {
          "base_uri": "https://localhost:8080/"
        },
        "id": "05hN0pH8ra_V",
        "outputId": "a420993c-9a9b-4bb4-e494-b30c630f9961"
      },
      "source": [
        "# original\n",
        "print(array1)\n",
        "\n",
        "# slice: segunda e terceira linha\n",
        "print(f\"\\narray1[1:3]:\\n  {array1[1:3]}\\n\")\n",
        "\n",
        "# slice: Do início do array até o segundo elemento\n",
        "print(f\"array1[:2]:\\n  {array1[:2]}\\n\")\n",
        "\n",
        "# slice: Da segunda linha até o final do array\n",
        "print(f\"array1[2:]:\\n  {array1[2:]}\\n\")\n",
        "\n",
        "# slice: Da segunda linha até o final do array, apenas as duas primeiras colunas\n",
        "print(f\"array1[2:, 0]:\\n  {array1[2:, 0:2]}\\n\")\n",
        "\n",
        "# última linha do array\n",
        "print(f\"array1[-1]:\\n  {array1[-1]}\")"
      ],
      "execution_count": 24,
      "outputs": [
        {
          "output_type": "stream",
          "name": "stdout",
          "text": [
            "[[1.  2.5 3.9]\n",
            " [4.8 5.7 3.4]\n",
            " [9.8 8.2 6.2]]\n",
            "\n",
            "array1[1:3]:\n",
            "  [[4.8 5.7 3.4]\n",
            " [9.8 8.2 6.2]]\n",
            "\n",
            "array1[:2]:\n",
            "  [[1.  2.5 3.9]\n",
            " [4.8 5.7 3.4]]\n",
            "\n",
            "array1[2:]:\n",
            "  [[9.8 8.2 6.2]]\n",
            "\n",
            "array1[2:, 0]:\n",
            "  [[9.8 8.2]]\n",
            "\n",
            "array1[-1]:\n",
            "  [9.8 8.2 6.2]\n"
          ]
        }
      ]
    },
    {
      "cell_type": "code",
      "metadata": {
        "colab": {
          "base_uri": "https://localhost:8080/"
        },
        "id": "QIBGQDnFr8u3",
        "outputId": "3de23e4f-d72c-4dbe-f4cf-b58dab359860"
      },
      "source": [
        "# atribuição de valores: todas as linhas e apenas a ultima coluna\n",
        "\n",
        "array1_slice = array1[:, -1:]\n",
        "# array1_slice = array1[:, -1]\n",
        "array1_slice"
      ],
      "execution_count": 25,
      "outputs": [
        {
          "output_type": "execute_result",
          "data": {
            "text/plain": [
              "array([[3.9],\n",
              "       [3.4],\n",
              "       [6.2]])"
            ]
          },
          "metadata": {},
          "execution_count": 25
        }
      ]
    },
    {
      "cell_type": "code",
      "metadata": {
        "colab": {
          "base_uri": "https://localhost:8080/"
        },
        "id": "sDp4NqIB_MPd",
        "outputId": "57da4086-d236-44da-d13d-dce6ee36d2f0"
      },
      "source": [
        "# Atribuindo Zero as elementos de um slice do array principal\n",
        "array1_slice[:] = 99\n",
        "\n",
        "# O array principal é afetado pela atribuição feita no slice criado. \n",
        "# Variaveis criadas com slice de arrays são como views, não criam cópias apenas apontam para a área em memoria\n",
        "# Qualquer alteração nessa view acontece na principal\n",
        "array1"
      ],
      "execution_count": 26,
      "outputs": [
        {
          "output_type": "execute_result",
          "data": {
            "text/plain": [
              "array([[ 1. ,  2.5, 99. ],\n",
              "       [ 4.8,  5.7, 99. ],\n",
              "       [ 9.8,  8.2, 99. ]])"
            ]
          },
          "metadata": {},
          "execution_count": 26
        }
      ]
    },
    {
      "cell_type": "code",
      "metadata": {
        "colab": {
          "base_uri": "https://localhost:8080/"
        },
        "id": "KBtzxU9jsjjx",
        "outputId": "e108c2e1-85b2-4459-ac27-85f2ca274c2b"
      },
      "source": [
        "array2 = np.array([[1, 2, 3], [4, 5, 6], [7, 8, 9]])\n",
        "\n",
        "# Duas formas de acessar elementos em arrays 2D\n",
        "print(f\"array2[2][0]:\\n {array2[2][0]}\\n\")\n",
        "print(f\"array2[2, 0]:\\n {array2[2, 0]}\\n\")\n",
        "\n",
        "# arrays podem ter quantas dimensões forem necessárias\n",
        "array3 = np.array([[[1, 2, 3], [4, 5, 6]], [[7, 8, 9], [10, 11, 12]]])\n",
        "print(f\"Array 3D:\\n {array3}\\n\")\n",
        "print(f\"Dimensões 3D:\\n {array3.ndim}\")"
      ],
      "execution_count": 27,
      "outputs": [
        {
          "output_type": "stream",
          "name": "stdout",
          "text": [
            "array2[2][0]:\n",
            " 7\n",
            "\n",
            "array2[2, 0]:\n",
            " 7\n",
            "\n",
            "Array 3D:\n",
            " [[[ 1  2  3]\n",
            "  [ 4  5  6]]\n",
            "\n",
            " [[ 7  8  9]\n",
            "  [10 11 12]]]\n",
            "\n",
            "Dimensões 3D:\n",
            " 3\n"
          ]
        }
      ]
    },
    {
      "cell_type": "markdown",
      "metadata": {
        "id": "LE94L5WZQLbF"
      },
      "source": [
        "#### Cópia de slices de arrays .copy()"
      ]
    },
    {
      "cell_type": "code",
      "metadata": {
        "colab": {
          "base_uri": "https://localhost:8080/"
        },
        "id": "vgbEe-vjN09x",
        "outputId": "fd7efb60-89b7-410d-82f7-0e7931dab16d"
      },
      "source": [
        "# Por padrão ao atribuir um slice a uma variavel, essa variavel vira uma view \n",
        "# do array principal e qualquer modificação nela afeta o array principal\n",
        "# para isso não acontecer, temos que fazer cópias de slices de array\n",
        "\n",
        "array_original = np.array(([[1, 2, 3], [4, 5, 6], [7, 8, 9]]))\n",
        "\n",
        "# criando uma variavel que recebe o slice. Todas menos a primeira linha\n",
        "array_slice = array_original[1:]\n",
        "\n",
        "# modificando a variavel também modifica o original\n",
        "array_slice[:] = 9999\n",
        "\n",
        "print(f\"Original modificado:\\n {array_original}\\n\")\n",
        "\n",
        "# copiando: desta forma a alteração no slice não afeta o original \n",
        "array_original2 = np.array(([[1, 2, 3], [4, 5, 6], [7, 8, 9]]))\n",
        "array_slice = array_original2[1:].copy()\n",
        "array_slice[:] = 9999\n",
        "print(f\"Original mantido intacto pela modificação no slice derivado:\\n {array_original2}\")\n"
      ],
      "execution_count": 28,
      "outputs": [
        {
          "output_type": "stream",
          "name": "stdout",
          "text": [
            "Original modificado:\n",
            " [[   1    2    3]\n",
            " [9999 9999 9999]\n",
            " [9999 9999 9999]]\n",
            "\n",
            "Original mantido intacto pela modificação no slice derivado:\n",
            " [[1 2 3]\n",
            " [4 5 6]\n",
            " [7 8 9]]\n"
          ]
        }
      ]
    },
    {
      "cell_type": "markdown",
      "metadata": {
        "id": "mJLysF6uRopg"
      },
      "source": [
        "#### Slices e reshape()"
      ]
    },
    {
      "cell_type": "code",
      "metadata": {
        "colab": {
          "base_uri": "https://localhost:8080/"
        },
        "id": "ITmWzxT4PkJl",
        "outputId": "9d52c872-b2df-44a8-837f-2ca5335e89aa"
      },
      "source": [
        "# Cria um array com 20 elementos inteiros e transforma de 1D para 2D com 4 linhas de 5 colunas\n",
        "array4 = np.arange(1, 21, dtype=int)\n",
        "array4"
      ],
      "execution_count": 29,
      "outputs": [
        {
          "output_type": "execute_result",
          "data": {
            "text/plain": [
              "array([ 1,  2,  3,  4,  5,  6,  7,  8,  9, 10, 11, 12, 13, 14, 15, 16, 17,\n",
              "       18, 19, 20])"
            ]
          },
          "metadata": {},
          "execution_count": 29
        }
      ]
    },
    {
      "cell_type": "code",
      "metadata": {
        "colab": {
          "base_uri": "https://localhost:8080/"
        },
        "id": "Weh0BNXgFBQp",
        "outputId": "14889038-b813-4100-e100-7922d33c6d0c"
      },
      "source": [
        "array4 = array4.reshape(4, 5)\n",
        "array4"
      ],
      "execution_count": 30,
      "outputs": [
        {
          "output_type": "execute_result",
          "data": {
            "text/plain": [
              "array([[ 1,  2,  3,  4,  5],\n",
              "       [ 6,  7,  8,  9, 10],\n",
              "       [11, 12, 13, 14, 15],\n",
              "       [16, 17, 18, 19, 20]])"
            ]
          },
          "metadata": {},
          "execution_count": 30
        }
      ]
    },
    {
      "cell_type": "code",
      "metadata": {
        "colab": {
          "base_uri": "https://localhost:8080/"
        },
        "id": "huMWehoKHv40",
        "outputId": "828dabc8-75be-4a70-996a-6bfafebd5948"
      },
      "source": [
        "# voltando para uma dimensão 1D (várias linhas e colunas são transformadas e uma única linha)\n",
        "array4.reshape(-1)"
      ],
      "execution_count": 31,
      "outputs": [
        {
          "output_type": "execute_result",
          "data": {
            "text/plain": [
              "array([ 1,  2,  3,  4,  5,  6,  7,  8,  9, 10, 11, 12, 13, 14, 15, 16, 17,\n",
              "       18, 19, 20])"
            ]
          },
          "metadata": {},
          "execution_count": 31
        }
      ]
    },
    {
      "cell_type": "code",
      "metadata": {
        "colab": {
          "base_uri": "https://localhost:8080/"
        },
        "id": "TX8uSeFLR_ko",
        "outputId": "9bec60dd-b5c5-4a8d-fb11-c82580d3eba0"
      },
      "source": [
        "# slice: todas as linhas a partir da terceira\n",
        "array4[2:]"
      ],
      "execution_count": 32,
      "outputs": [
        {
          "output_type": "execute_result",
          "data": {
            "text/plain": [
              "array([[11, 12, 13, 14, 15],\n",
              "       [16, 17, 18, 19, 20]])"
            ]
          },
          "metadata": {},
          "execution_count": 32
        }
      ]
    },
    {
      "cell_type": "code",
      "metadata": {
        "colab": {
          "base_uri": "https://localhost:8080/"
        },
        "id": "Ftcdg-fxTT9-",
        "outputId": "2ec76575-9d10-4bf6-d153-e38319c9d239"
      },
      "source": [
        "# slice: apenas a quarta linha\n",
        "array4[3]"
      ],
      "execution_count": 33,
      "outputs": [
        {
          "output_type": "execute_result",
          "data": {
            "text/plain": [
              "array([16, 17, 18, 19, 20])"
            ]
          },
          "metadata": {},
          "execution_count": 33
        }
      ]
    },
    {
      "cell_type": "code",
      "metadata": {
        "colab": {
          "base_uri": "https://localhost:8080/"
        },
        "id": "EbEvl4vFTe5G",
        "outputId": "e6da16c2-edd3-4930-cb11-845620ba631a"
      },
      "source": [
        "# apenas o elemento 19 na última linha\n",
        "array4[-1][3]"
      ],
      "execution_count": 34,
      "outputs": [
        {
          "output_type": "execute_result",
          "data": {
            "text/plain": [
              "19"
            ]
          },
          "metadata": {},
          "execution_count": 34
        }
      ]
    },
    {
      "cell_type": "code",
      "metadata": {
        "colab": {
          "base_uri": "https://localhost:8080/"
        },
        "id": "LDGKtDH5UruD",
        "outputId": "45fdf405-ada2-4e57-d503-58c165b71ec0"
      },
      "source": [
        "# e última coluna\n",
        "array4[:, -1:]"
      ],
      "execution_count": 35,
      "outputs": [
        {
          "output_type": "execute_result",
          "data": {
            "text/plain": [
              "array([[ 5],\n",
              "       [10],\n",
              "       [15],\n",
              "       [20]])"
            ]
          },
          "metadata": {},
          "execution_count": 35
        }
      ]
    },
    {
      "cell_type": "code",
      "metadata": {
        "colab": {
          "base_uri": "https://localhost:8080/"
        },
        "id": "1PKZl8QrT1PX",
        "outputId": "84a092dd-9a61-4e96-d75f-6a2df8974a65"
      },
      "source": [
        "# slice: primeira e segunda linhas\n",
        "# e última coluna\n",
        "array4[:2, -1:]"
      ],
      "execution_count": 36,
      "outputs": [
        {
          "output_type": "execute_result",
          "data": {
            "text/plain": [
              "array([[ 5],\n",
              "       [10]])"
            ]
          },
          "metadata": {},
          "execution_count": 36
        }
      ]
    },
    {
      "cell_type": "code",
      "metadata": {
        "colab": {
          "base_uri": "https://localhost:8080/"
        },
        "id": "VSsJk0WdUFl4",
        "outputId": "d6bd89a4-998c-4625-858b-65888587d4f5"
      },
      "source": [
        "# segunda e terceira linhas, terceira e quarta colunas\n",
        "array4[1:3, 2:4]"
      ],
      "execution_count": 37,
      "outputs": [
        {
          "output_type": "execute_result",
          "data": {
            "text/plain": [
              "array([[ 8,  9],\n",
              "       [13, 14]])"
            ]
          },
          "metadata": {},
          "execution_count": 37
        }
      ]
    },
    {
      "cell_type": "code",
      "metadata": {
        "colab": {
          "base_uri": "https://localhost:8080/"
        },
        "id": "q2C8qIgIWUGJ",
        "outputId": "d506cf93-c51d-4b1b-f6c2-c96ca85497c3"
      },
      "source": [
        "# ao atribuir todos os elementos são atualizados\n",
        "array4[1:3, 2:4] = 999\n",
        "array4"
      ],
      "execution_count": 38,
      "outputs": [
        {
          "output_type": "execute_result",
          "data": {
            "text/plain": [
              "array([[  1,   2,   3,   4,   5],\n",
              "       [  6,   7, 999, 999,  10],\n",
              "       [ 11,  12, 999, 999,  15],\n",
              "       [ 16,  17,  18,  19,  20]])"
            ]
          },
          "metadata": {},
          "execution_count": 38
        }
      ]
    },
    {
      "cell_type": "markdown",
      "metadata": {
        "id": "rXvk3mpkZksH"
      },
      "source": [
        "#### Indexação boobleana\n",
        "A indexação booleana pode ser usada para aplicar filtros condicionais a um array, por exemplo filtrando somente elementos maiores ou menores que um valor. É como se uma mascara com True/False fosse que colocada sob o array, e onde for True é apresentado e onde for false é ocultado.\n",
        "- Primeiro passo, aplicar a operação lógica a todos os elementos\n",
        "- Com o resultado, onde a posição do array resultante for True exibe como retorno"
      ]
    },
    {
      "cell_type": "code",
      "metadata": {
        "colab": {
          "base_uri": "https://localhost:8080/"
        },
        "id": "3Il1sJkdWvMD",
        "outputId": "250cc298-4494-4ae7-f8c2-e35214d919e0"
      },
      "source": [
        "# Cria uma lista de nomes embaralhada\n",
        "lista_nomes = [\"Leandro\", \"Carlos\", \"Aline\", \"Christian\"]\n",
        "np.random.shuffle(lista_nomes)\n",
        "\n",
        "# Concatena a lista embaralhada com uma lista fixa de nomes\n",
        "lista_nomes.extend([\"Leandro\", \"Carlos\", \"Aline\", \"Christian\"])\n",
        "\n",
        "nomes = np.array(lista_nomes)\n",
        "dados = np.random.randn(8, 4)\n",
        "print(nomes)\n",
        "print(dados)"
      ],
      "execution_count": 39,
      "outputs": [
        {
          "output_type": "stream",
          "name": "stdout",
          "text": [
            "['Carlos' 'Christian' 'Leandro' 'Aline' 'Leandro' 'Carlos' 'Aline'\n",
            " 'Christian']\n",
            "[[-0.331  0.874  2.003  0.011]\n",
            " [-0.869  1.425  0.146  2.894]\n",
            " [-0.304  0.862 -0.69   0.187]\n",
            " [ 0.604 -0.183 -1.127  1.659]\n",
            " [-0.66   1.041  1.053  0.194]\n",
            " [ 1.358 -0.287  0.441 -0.77 ]\n",
            " [-0.975  0.709 -0.106  0.777]\n",
            " [ 0.914  1.689 -0.592  0.043]]\n"
          ]
        }
      ]
    },
    {
      "cell_type": "code",
      "metadata": {
        "colab": {
          "base_uri": "https://localhost:8080/"
        },
        "id": "F101gBrBZ7G_",
        "outputId": "51627548-8d9f-4731-b811-5a6e7eb5c710"
      },
      "source": [
        "print(nomes)\n",
        "\n",
        "# Index booleano aplica True/False em todos os elementos que atendem a condição\n",
        "nomes == \"Leandro\""
      ],
      "execution_count": 40,
      "outputs": [
        {
          "output_type": "stream",
          "name": "stdout",
          "text": [
            "['Carlos' 'Christian' 'Leandro' 'Aline' 'Leandro' 'Carlos' 'Aline'\n",
            " 'Christian']\n"
          ]
        },
        {
          "output_type": "execute_result",
          "data": {
            "text/plain": [
              "array([False, False,  True, False,  True, False, False, False])"
            ]
          },
          "metadata": {},
          "execution_count": 40
        }
      ]
    },
    {
      "cell_type": "code",
      "metadata": {
        "colab": {
          "base_uri": "https://localhost:8080/"
        },
        "id": "vXGDRhF1cBNf",
        "outputId": "097fd208-9d58-4f0a-d42e-97fda9906d51"
      },
      "source": [
        "# cada lista na lista de listas pode estar associada, pela posição dos True e False a um nome de outra lista\n",
        "# o array booleano orienta o array de dados onde filtrar, filtrar somente onde for True\n",
        "dados_do_leandro = dados[nomes == \"Leandro\"]\n",
        "\n",
        "print(dados_do_leandro)\n",
        "\n",
        "for i, notas in enumerate(dados_do_leandro):\n",
        "    print(f\"\\nGrupo: {i}\")\n",
        "    for nota in notas:\n",
        "        print(f\"Nota: {nota}\")"
      ],
      "execution_count": 41,
      "outputs": [
        {
          "output_type": "stream",
          "name": "stdout",
          "text": [
            "[[-0.304  0.862 -0.69   0.187]\n",
            " [-0.66   1.041  1.053  0.194]]\n",
            "\n",
            "Grupo: 0\n",
            "Nota: -0.30426018313286834\n",
            "Nota: 0.861661003786165\n",
            "Nota: -0.6899266692116788\n",
            "Nota: 0.18749737137009834\n",
            "\n",
            "Grupo: 1\n",
            "Nota: -0.6604414120536775\n",
            "Nota: 1.0410859693746797\n",
            "Nota: 1.0531748855253276\n",
            "Nota: 0.19429549990625541\n"
          ]
        }
      ]
    },
    {
      "cell_type": "code",
      "metadata": {
        "colab": {
          "base_uri": "https://localhost:8080/"
        },
        "id": "PUbWiVhecXro",
        "outputId": "4f15f9c9-9ea2-4f80-89be-dd7be90d0ffc"
      },
      "source": [
        "dados_diferente_de_leandro = dados[nomes != \"Leandro\"]\n",
        "dados_diferente_de_leandro"
      ],
      "execution_count": 42,
      "outputs": [
        {
          "output_type": "execute_result",
          "data": {
            "text/plain": [
              "array([[-0.331,  0.874,  2.003,  0.011],\n",
              "       [-0.869,  1.425,  0.146,  2.894],\n",
              "       [ 0.604, -0.183, -1.127,  1.659],\n",
              "       [ 1.358, -0.287,  0.441, -0.77 ],\n",
              "       [-0.975,  0.709, -0.106,  0.777],\n",
              "       [ 0.914,  1.689, -0.592,  0.043]])"
            ]
          },
          "metadata": {},
          "execution_count": 42
        }
      ]
    },
    {
      "cell_type": "code",
      "metadata": {
        "colab": {
          "base_uri": "https://localhost:8080/"
        },
        "id": "E_RtWcYsewpB",
        "outputId": "d9c5c064-7496-401a-beb7-b0debae5325f"
      },
      "source": [
        "# o mesmo filtro acima mas o uso de uma variavel que representa a condição\n",
        "condicao = (nomes == \"Leandro\") | (nomes == \"Carlos\")\n",
        "dados[~condicao]"
      ],
      "execution_count": 43,
      "outputs": [
        {
          "output_type": "execute_result",
          "data": {
            "text/plain": [
              "array([[-0.869,  1.425,  0.146,  2.894],\n",
              "       [ 0.604, -0.183, -1.127,  1.659],\n",
              "       [-0.975,  0.709, -0.106,  0.777],\n",
              "       [ 0.914,  1.689, -0.592,  0.043]])"
            ]
          },
          "metadata": {},
          "execution_count": 43
        }
      ]
    },
    {
      "cell_type": "code",
      "metadata": {
        "colab": {
          "base_uri": "https://localhost:8080/"
        },
        "id": "kkCoVanwfByS",
        "outputId": "93c55c0c-05db-4df5-9e49-cb8129c62ad4"
      },
      "source": [
        "# filtrando os valores de todas as linhas e colunas\n",
        "dados[dados < 0]"
      ],
      "execution_count": 44,
      "outputs": [
        {
          "output_type": "execute_result",
          "data": {
            "text/plain": [
              "array([-0.331, -0.869, -0.304, -0.69 , -0.183, -1.127, -0.66 , -0.287,\n",
              "       -0.77 , -0.975, -0.106, -0.592])"
            ]
          },
          "metadata": {},
          "execution_count": 44
        }
      ]
    },
    {
      "cell_type": "code",
      "metadata": {
        "colab": {
          "base_uri": "https://localhost:8080/"
        },
        "id": "kHx5L61-g3vv",
        "outputId": "f9f28d84-4e48-473a-965b-b48facd28045"
      },
      "source": [
        "# atribuindo valor para todos os dados que estão abaixo de Zero no array\n",
        "dados[dados < 0] = 0\n",
        "dados"
      ],
      "execution_count": 45,
      "outputs": [
        {
          "output_type": "execute_result",
          "data": {
            "text/plain": [
              "array([[0.   , 0.874, 2.003, 0.011],\n",
              "       [0.   , 1.425, 0.146, 2.894],\n",
              "       [0.   , 0.862, 0.   , 0.187],\n",
              "       [0.604, 0.   , 0.   , 1.659],\n",
              "       [0.   , 1.041, 1.053, 0.194],\n",
              "       [1.358, 0.   , 0.441, 0.   ],\n",
              "       [0.   , 0.709, 0.   , 0.777],\n",
              "       [0.914, 1.689, 0.   , 0.043]])"
            ]
          },
          "metadata": {},
          "execution_count": 45
        }
      ]
    },
    {
      "cell_type": "markdown",
      "metadata": {
        "id": "PIaZbQMyhsNT"
      },
      "source": [
        "### Transpose\n",
        "Transformar linhas em colunas"
      ]
    },
    {
      "cell_type": "code",
      "metadata": {
        "colab": {
          "base_uri": "https://localhost:8080/"
        },
        "id": "Zuy8lwu8hxPa",
        "outputId": "e0c4c260-5e7b-443a-a39c-b647f1aa5af7"
      },
      "source": [
        "array_trans = np.arange(15).reshape((3, 5))\n",
        "\n",
        "print(f\"Array original:\\n {array_trans}\\n\")\n",
        "\n",
        "# Transpor\n",
        "print(f\"Transpose:\\n {array_trans.T}\")"
      ],
      "execution_count": 46,
      "outputs": [
        {
          "output_type": "stream",
          "name": "stdout",
          "text": [
            "Array original:\n",
            " [[ 0  1  2  3  4]\n",
            " [ 5  6  7  8  9]\n",
            " [10 11 12 13 14]]\n",
            "\n",
            "Transpose:\n",
            " [[ 0  5 10]\n",
            " [ 1  6 11]\n",
            " [ 2  7 12]\n",
            " [ 3  8 13]\n",
            " [ 4  9 14]]\n"
          ]
        }
      ]
    },
    {
      "cell_type": "markdown",
      "metadata": {
        "id": "dif5CO4RlXH-"
      },
      "source": [
        "### Funções numpy built-in"
      ]
    },
    {
      "cell_type": "code",
      "metadata": {
        "id": "fXDrvR0llcqV"
      },
      "source": [
        "array_func = np.arange(1, 30, 2).reshape(3, 5)"
      ],
      "execution_count": 47,
      "outputs": []
    },
    {
      "cell_type": "code",
      "metadata": {
        "colab": {
          "base_uri": "https://localhost:8080/"
        },
        "id": "jhIXdjRglk7G",
        "outputId": "e0bbc315-5d1b-4ae8-9970-d2618e4a14e7"
      },
      "source": [
        "array_func"
      ],
      "execution_count": 48,
      "outputs": [
        {
          "output_type": "execute_result",
          "data": {
            "text/plain": [
              "array([[ 1,  3,  5,  7,  9],\n",
              "       [11, 13, 15, 17, 19],\n",
              "       [21, 23, 25, 27, 29]])"
            ]
          },
          "metadata": {},
          "execution_count": 48
        }
      ]
    },
    {
      "cell_type": "code",
      "metadata": {
        "colab": {
          "base_uri": "https://localhost:8080/"
        },
        "id": "cPOlkk_TPyX8",
        "outputId": "0d6f6779-83f8-4d30-e75c-74dac64fff3b"
      },
      "source": [
        "array_func.max()\n",
        "array_func.min()\n",
        "\n",
        "# indice de onde esta o maior valor\n",
        "array_func.argmax()"
      ],
      "execution_count": 49,
      "outputs": [
        {
          "output_type": "execute_result",
          "data": {
            "text/plain": [
              "14"
            ]
          },
          "metadata": {},
          "execution_count": 49
        }
      ]
    },
    {
      "cell_type": "code",
      "metadata": {
        "colab": {
          "base_uri": "https://localhost:8080/"
        },
        "id": "tOIxdS19lmZm",
        "outputId": "683e8d2a-42f0-479f-e861-94931168c57d"
      },
      "source": [
        "# calcula raiz quadrada\n",
        "array_func_sqtr = np.sqrt(array_func)\n",
        "array_func_sqtr"
      ],
      "execution_count": 50,
      "outputs": [
        {
          "output_type": "execute_result",
          "data": {
            "text/plain": [
              "array([[1.   , 1.732, 2.236, 2.646, 3.   ],\n",
              "       [3.317, 3.606, 3.873, 4.123, 4.359],\n",
              "       [4.583, 4.796, 5.   , 5.196, 5.385]])"
            ]
          },
          "metadata": {},
          "execution_count": 50
        }
      ]
    },
    {
      "cell_type": "code",
      "metadata": {
        "colab": {
          "base_uri": "https://localhost:8080/"
        },
        "id": "fuo-uHMBmDuY",
        "outputId": "a838b22d-846a-405f-83c1-2cb0f5bc00ef"
      },
      "source": [
        "# calcula exponencial\n",
        "array_func_exp = np.exp(array_func_sqtr)\n",
        "array_func_exp"
      ],
      "execution_count": 51,
      "outputs": [
        {
          "output_type": "execute_result",
          "data": {
            "text/plain": [
              "array([[  2.718,   5.652,   9.356,  14.094,  20.086],\n",
              "       [ 27.567,  36.802,  48.086,  61.751,  78.171],\n",
              "       [ 97.766, 121.005, 148.413, 180.576, 218.146]])"
            ]
          },
          "metadata": {},
          "execution_count": 51
        }
      ]
    },
    {
      "cell_type": "code",
      "metadata": {
        "colab": {
          "base_uri": "https://localhost:8080/"
        },
        "id": "LwET4EEtmlV5",
        "outputId": "0dfa14d4-c67a-498d-b88f-7e65e3b280ce"
      },
      "source": [
        "# Compara os elementos de dois arrays e retorna aquele que tem o maior valor naquela determinada posição\n",
        "np.maximum(array_func_sqtr, array_func_exp)"
      ],
      "execution_count": 52,
      "outputs": [
        {
          "output_type": "execute_result",
          "data": {
            "text/plain": [
              "array([[  2.718,   5.652,   9.356,  14.094,  20.086],\n",
              "       [ 27.567,  36.802,  48.086,  61.751,  78.171],\n",
              "       [ 97.766, 121.005, 148.413, 180.576, 218.146]])"
            ]
          },
          "metadata": {},
          "execution_count": 52
        }
      ]
    },
    {
      "cell_type": "code",
      "metadata": {
        "colab": {
          "base_uri": "https://localhost:8080/"
        },
        "id": "LQqo8inKnqKN",
        "outputId": "385d2f2c-ec61-4368-8a75-f4510aee16d7"
      },
      "source": [
        "# separa a parte inteira da parte decimal\n",
        "np.modf(array_func_sqtr)"
      ],
      "execution_count": 53,
      "outputs": [
        {
          "output_type": "execute_result",
          "data": {
            "text/plain": [
              "(array([[0.   , 0.732, 0.236, 0.646, 0.   ],\n",
              "        [0.317, 0.606, 0.873, 0.123, 0.359],\n",
              "        [0.583, 0.796, 0.   , 0.196, 0.385]]), array([[1., 1., 2., 2., 3.],\n",
              "        [3., 3., 3., 4., 4.],\n",
              "        [4., 4., 5., 5., 5.]]))"
            ]
          },
          "metadata": {},
          "execution_count": 53
        }
      ]
    },
    {
      "cell_type": "markdown",
      "metadata": {
        "id": "kP9vpENtpR-i"
      },
      "source": [
        "### Programação orientada por arrays\n",
        "Um exemplo de utilização de calculos com arrays para criar uma imagem gráfica"
      ]
    },
    {
      "cell_type": "code",
      "metadata": {
        "colab": {
          "base_uri": "https://localhost:8080/",
          "height": 305
        },
        "id": "jvm9hnUkooLw",
        "outputId": "54e3b2d0-4deb-4a5b-a1b3-1a110420b181"
      },
      "source": [
        "# criar 1000 valores iniciando em -5 até 5 incrementando em 0.01\n",
        "pontos = np.arange(-5, 5, 0.01)\n",
        "\n",
        "# cria uma matriz de coordenadas\n",
        "xs, ys = np.meshgrid(pontos, pontos)\n",
        "\n",
        "z = np.sqrt(xs ** 2 + ys ** 2)\n",
        "\n",
        "plt.imshow(z, cmap=plt.cm.gray); plt.colorbar()\n",
        "plt.title(\"Image plot of $\\sqrt{x^2 + y^2}$ for a grid of values\")"
      ],
      "execution_count": 54,
      "outputs": [
        {
          "output_type": "execute_result",
          "data": {
            "text/plain": [
              "Text(0.5, 1.0, 'Image plot of $\\\\sqrt{x^2 + y^2}$ for a grid of values')"
            ]
          },
          "metadata": {},
          "execution_count": 54
        },
        {
          "output_type": "display_data",
          "data": {
            "image/png": "[encoded data removed]",
            "text/plain": [
              "<Figure size 720x288 with 2 Axes>"
            ]
          },
          "metadata": {
            "needs_background": "light"
          }
        }
      ]
    },
    {
      "cell_type": "code",
      "metadata": {
        "colab": {
          "base_uri": "https://localhost:8080/",
          "height": 34
        },
        "id": "Ie9sUqJCrOf-",
        "outputId": "12d0e6e9-75b9-411c-86c3-c4bfa0bbc2fd"
      },
      "source": [
        "plt.draw()"
      ],
      "execution_count": 55,
      "outputs": [
        {
          "output_type": "display_data",
          "data": {
            "text/plain": [
              "<Figure size 720x288 with 0 Axes>"
            ]
          },
          "metadata": {}
        }
      ]
    },
    {
      "cell_type": "code",
      "metadata": {
        "id": "cyvluPqTrg6n"
      },
      "source": [
        "plt.close('all')"
      ],
      "execution_count": 56,
      "outputs": []
    },
    {
      "cell_type": "markdown",
      "metadata": {
        "id": "_uU8B2lBrrML"
      },
      "source": [
        "### Lógica Condicionais em ndarrays where()"
      ]
    },
    {
      "cell_type": "code",
      "metadata": {
        "id": "SOmVmDBMri7X"
      },
      "source": [
        "xarr = np.array([1.1, 1.2, 1.3, 1.4, 1.5])\n",
        "yarr = np.array([2.1, 2.2, 2.3, 2.4, 2.5])\n",
        "cond = np.array([True, False, True, True, False])"
      ],
      "execution_count": 57,
      "outputs": []
    },
    {
      "cell_type": "code",
      "metadata": {
        "colab": {
          "base_uri": "https://localhost:8080/"
        },
        "id": "ZOuLhNror3v4",
        "outputId": "9762caf1-1800-4626-8378-a92c9a5c95cf"
      },
      "source": [
        "# Junta os elementos nas posições correspondentes das listas\n",
        "list(zip(xarr, yarr, cond))"
      ],
      "execution_count": 58,
      "outputs": [
        {
          "output_type": "execute_result",
          "data": {
            "text/plain": [
              "[(1.1, 2.1, True),\n",
              " (1.2, 2.2, False),\n",
              " (1.3, 2.3, True),\n",
              " (1.4, 2.4, True),\n",
              " (1.5, 2.5, False)]"
            ]
          },
          "metadata": {},
          "execution_count": 58
        }
      ]
    },
    {
      "cell_type": "code",
      "metadata": {
        "colab": {
          "base_uri": "https://localhost:8080/"
        },
        "id": "Nq-jDEtUsBOI",
        "outputId": "7137b588-7e4c-43e7-fd5e-02674852caa0"
      },
      "source": [
        "# se o item na lista de condição for True retorna X senão Y\n",
        "resultado = [(x if c else y) for x, y, c in zip(xarr, yarr, cond)]\n",
        "resultado"
      ],
      "execution_count": 59,
      "outputs": [
        {
          "output_type": "execute_result",
          "data": {
            "text/plain": [
              "[1.1, 2.2, 1.3, 1.4, 2.5]"
            ]
          },
          "metadata": {},
          "execution_count": 59
        }
      ]
    },
    {
      "cell_type": "code",
      "metadata": {
        "colab": {
          "base_uri": "https://localhost:8080/"
        },
        "id": "VQlBhGWQs1H7",
        "outputId": "f68374ca-3877-4539-a8f7-9b268d224128"
      },
      "source": [
        "# Usando where para fazer a mesma avaliação. \n",
        "# Se o elemento na lista de condições for True retorna X senão Y\n",
        "resultado = np.where(cond, xarr, yarr)\n",
        "resultado"
      ],
      "execution_count": 60,
      "outputs": [
        {
          "output_type": "execute_result",
          "data": {
            "text/plain": [
              "array([1.1, 2.2, 1.3, 1.4, 2.5])"
            ]
          },
          "metadata": {},
          "execution_count": 60
        }
      ]
    },
    {
      "cell_type": "code",
      "metadata": {
        "colab": {
          "base_uri": "https://localhost:8080/"
        },
        "id": "Pbz1kVy6tNQM",
        "outputId": "b0ebbc40-aaef-48a3-c357-1e23a39d5bdc"
      },
      "source": [
        "# Usando a condição diretamente\n",
        "# Obtem a lista de True/False original\n",
        "np.where(resultado < 2, True, False)"
      ],
      "execution_count": 61,
      "outputs": [
        {
          "output_type": "execute_result",
          "data": {
            "text/plain": [
              "array([ True, False,  True,  True, False])"
            ]
          },
          "metadata": {},
          "execution_count": 61
        }
      ]
    },
    {
      "cell_type": "markdown",
      "metadata": {
        "id": "QyySa6YW1jxR"
      },
      "source": [
        "### Funções estatísticas e matemática, mean(), sum(), cumsum()"
      ]
    },
    {
      "cell_type": "code",
      "metadata": {
        "colab": {
          "base_uri": "https://localhost:8080/"
        },
        "id": "fVgd4FPTt1B1",
        "outputId": "5d9e028d-710e-48dd-fde9-db2374385942"
      },
      "source": [
        "arr = np.arange(1, 16).reshape(3, 5)\n",
        "\n",
        "print(f\"Array original\\n {arr}\\n\")\n",
        "\n",
        "# Calculando como um método do ndarray\n",
        "# soma e faz a media de todos os elementos\n",
        "print(arr.mean())\n",
        "print(arr.sum())\n",
        "\n",
        "# Calculando como método do numpy\n",
        "# soma e faz a media de todos os elementos\n",
        "print(np.mean(arr))\n",
        "print(np.sum(arr))"
      ],
      "execution_count": 62,
      "outputs": [
        {
          "output_type": "stream",
          "name": "stdout",
          "text": [
            "Array original\n",
            " [[ 1  2  3  4  5]\n",
            " [ 6  7  8  9 10]\n",
            " [11 12 13 14 15]]\n",
            "\n",
            "8.0\n",
            "120\n",
            "8.0\n",
            "120\n"
          ]
        }
      ]
    },
    {
      "cell_type": "code",
      "metadata": {
        "colab": {
          "base_uri": "https://localhost:8080/"
        },
        "id": "R6UOeznc1xQY",
        "outputId": "33bb48a1-0c1f-4e78-a3a8-3755c5edf95c"
      },
      "source": [
        "# axes1: soma das colunas\n",
        "np.sum(arr, axis=1)\n"
      ],
      "execution_count": 63,
      "outputs": [
        {
          "output_type": "execute_result",
          "data": {
            "text/plain": [
              "array([15, 40, 65])"
            ]
          },
          "metadata": {},
          "execution_count": 63
        }
      ]
    },
    {
      "cell_type": "code",
      "metadata": {
        "colab": {
          "base_uri": "https://localhost:8080/"
        },
        "id": "4MmUsYvl3SGl",
        "outputId": "806e54b9-31ec-46b0-cb3c-2214da5d5043"
      },
      "source": [
        "# axes0: soma das linhas\n",
        "total = np.sum(arr, axis=0)\n",
        "total"
      ],
      "execution_count": 64,
      "outputs": [
        {
          "output_type": "execute_result",
          "data": {
            "text/plain": [
              "array([18, 21, 24, 27, 30])"
            ]
          },
          "metadata": {},
          "execution_count": 64
        }
      ]
    },
    {
      "cell_type": "code",
      "metadata": {
        "colab": {
          "base_uri": "https://localhost:8080/"
        },
        "id": "SsO2BMip3lbF",
        "outputId": "e3f32787-b98d-4e3e-95d3-8e15835789b4"
      },
      "source": [
        "# original\n",
        "print(f\"Original:\\n {arr}\\n\")\n",
        "\n",
        "# Soma acumulada\n",
        "total_acumulado_linhas = np.cumsum(arr, axis=0)\n",
        "print(f\"Acum. linhas:\\n {total_acumulado_linhas}\\n\")\n",
        "\n",
        "total_acumulado_col = np.cumsum(arr, axis=1)\n",
        "print(f\"Acum. col:\\n {total_acumulado_col}\\n\")\n"
      ],
      "execution_count": 65,
      "outputs": [
        {
          "output_type": "stream",
          "name": "stdout",
          "text": [
            "Original:\n",
            " [[ 1  2  3  4  5]\n",
            " [ 6  7  8  9 10]\n",
            " [11 12 13 14 15]]\n",
            "\n",
            "Acum. linhas:\n",
            " [[ 1  2  3  4  5]\n",
            " [ 7  9 11 13 15]\n",
            " [18 21 24 27 30]]\n",
            "\n",
            "Acum. col:\n",
            " [[ 1  3  6 10 15]\n",
            " [ 6 13 21 30 40]\n",
            " [11 23 36 50 65]]\n",
            "\n"
          ]
        }
      ]
    },
    {
      "cell_type": "markdown",
      "metadata": {
        "id": "Iuy8n5HY43L5"
      },
      "source": [
        "### Funçoes booleanas any(), all()"
      ]
    },
    {
      "cell_type": "code",
      "metadata": {
        "colab": {
          "base_uri": "https://localhost:8080/"
        },
        "id": "XiW7TCj74Ign",
        "outputId": "c2dd0d41-c8b2-4465-a6ba-e6c4d455033c"
      },
      "source": [
        "bools_any = np.array([False, False, True, False])\n",
        "\n",
        "# Verifica se existe algum elemento True\n",
        "print(f\"any(): {bools_any.any()}\")\n",
        "\n",
        "bools_all = np.array([True, True, True, True])\n",
        "print(f\"all(): {bools_all.all()}\")\n"
      ],
      "execution_count": 66,
      "outputs": [
        {
          "output_type": "stream",
          "name": "stdout",
          "text": [
            "any(): True\n",
            "all(): True\n"
          ]
        }
      ]
    },
    {
      "cell_type": "markdown",
      "metadata": {
        "id": "0Pdm7byN52uL"
      },
      "source": [
        "### Ordenação sort()"
      ]
    },
    {
      "cell_type": "code",
      "metadata": {
        "colab": {
          "base_uri": "https://localhost:8080/"
        },
        "id": "G_bhm47I5QRx",
        "outputId": "caddad4b-872d-48c1-8a15-a462e22c9faf"
      },
      "source": [
        "arr = np.arange(1, 16).reshape(5, 3)\n",
        "np.random.shuffle(arr)\n",
        "\n",
        "print(f\"Array embaralhado:\\n {arr}\")\n",
        "\n",
        "arr.sort(axis=0)\n",
        "print(f\"Array ordernado:\\n {arr}\")\n",
        "\n",
        "arr.sort(axis=1)\n",
        "print(f\"Array ordernado:\\n {arr}\")"
      ],
      "execution_count": 67,
      "outputs": [
        {
          "output_type": "stream",
          "name": "stdout",
          "text": [
            "Array embaralhado:\n",
            " [[10 11 12]\n",
            " [ 1  2  3]\n",
            " [13 14 15]\n",
            " [ 4  5  6]\n",
            " [ 7  8  9]]\n",
            "Array ordernado:\n",
            " [[ 1  2  3]\n",
            " [ 4  5  6]\n",
            " [ 7  8  9]\n",
            " [10 11 12]\n",
            " [13 14 15]]\n",
            "Array ordernado:\n",
            " [[ 1  2  3]\n",
            " [ 4  5  6]\n",
            " [ 7  8  9]\n",
            " [10 11 12]\n",
            " [13 14 15]]\n"
          ]
        }
      ]
    },
    {
      "cell_type": "markdown",
      "metadata": {
        "id": "cpHuKlE07w-Q"
      },
      "source": [
        "Lógica de conjuntos unique()"
      ]
    },
    {
      "cell_type": "code",
      "metadata": {
        "colab": {
          "base_uri": "https://localhost:8080/"
        },
        "id": "-mF57MhC5-HK",
        "outputId": "26f26d49-8690-40c5-b442-988ba96a4df7"
      },
      "source": [
        "print(f\"Lista original de nomes: {nomes}\\n\\n\")\n",
        "\n",
        "nomes_unicos_ordenados = np.unique(nomes)\n",
        "print(f\"Nomes únicos e ordenados {nomes_unicos_ordenados} usando unique()\\n\\n\")\n",
        "\n",
        "# Esta é oura forma de retornar.\n",
        "# Transforma set (elementos únicos) e ordena\n",
        "sorted(set(nomes))"
      ],
      "execution_count": 68,
      "outputs": [
        {
          "output_type": "stream",
          "name": "stdout",
          "text": [
            "Lista original de nomes: ['Carlos' 'Christian' 'Leandro' 'Aline' 'Leandro' 'Carlos' 'Aline'\n",
            " 'Christian']\n",
            "\n",
            "\n",
            "Nomes únicos e ordenados ['Aline' 'Carlos' 'Christian' 'Leandro'] usando unique()\n",
            "\n",
            "\n"
          ]
        },
        {
          "output_type": "execute_result",
          "data": {
            "text/plain": [
              "['Aline', 'Carlos', 'Christian', 'Leandro']"
            ]
          },
          "metadata": {},
          "execution_count": 68
        }
      ]
    }
  ]
}