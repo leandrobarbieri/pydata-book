{
  "nbformat": 4,
  "nbformat_minor": 0,
  "metadata": {
    "colab": {
      "name": "Numpy.ipynb",
      "provenance": [],
      "collapsed_sections": [],
      "toc_visible": true,
      "authorship_tag": "ABX9TyNJWl/4ypFZcjrhfVWR2Oi3",
      "include_colab_link": true
    },
    "kernelspec": {
      "name": "python3",
      "display_name": "Python 3"
    },
    "language_info": {
      "name": "python"
    }
  },
  "cells": [
    {
      "cell_type": "markdown",
      "metadata": {
        "id": "view-in-github",
        "colab_type": "text"
      },
      "source": [
        "<a href=\"https://colab.research.google.com/github/leandrobarbieri/pydata-book/blob/2nd-edition/Numpy.ipynb\" target=\"_parent\"><img src=\"https://colab.research.google.com/assets/colab-badge.svg\" alt=\"Open In Colab\"/></a>"
      ]
    },
    {
      "cell_type": "markdown",
      "metadata": {
        "id": "9R9F_gvPQa07"
      },
      "source": [
        "# Numpy: Arrays e computação vetorizada\n",
        "Calculos com arrays numpy são feitos sem que seja necessário criar laços for, as operações acontecem sob todos os elemenos automaticamente. Aprender a manipular arrays numpy facilita muito o entendimento de como o pandas funciona"
      ]
    },
    {
      "cell_type": "code",
      "metadata": {
        "id": "HXZhcIqMQM9y"
      },
      "source": [
        "# importando numpy\n",
        "import numpy as np\n",
        "\n",
        "# configurando uma semente para geração de números aleatórios com ramdom\n",
        "np.random.seed(1234)\n",
        "# controla com o float será exibido\n",
        "np.set_printoptions(precision=4, suppress=True)\n",
        "\n",
        "# importando matplotlib.pyplot para gráficos e a função rc para pré-configuração\n",
        "from matplotlib import pyplot as plt\n",
        "from matplotlib.pyplot import rc\n",
        "\n",
        "# Configurando o pyplot opções padrões para o pyplot\n",
        "rc(\"figure\", figsize=(10, 4))\n",
        "rc('lines', lw=2, c='r')"
      ],
      "execution_count": 157,
      "outputs": []
    },
    {
      "cell_type": "markdown",
      "metadata": {
        "id": "7HV4MFCRQX46"
      },
      "source": [
        "#### Criando listas com numpy.arange"
      ]
    },
    {
      "cell_type": "code",
      "metadata": {
        "colab": {
          "base_uri": "https://localhost:8080/"
        },
        "id": "WaA289ZEaji-",
        "outputId": "cb15a692-9aee-456d-c8a2-e515518c88b8"
      },
      "source": [
        "# Criando um array numpy com arange: arange([start,] stop[, step,], dtype=None)\n",
        "meu_array = np.arange(1, 11, dtype=float)\n",
        "print(f\"Inclui o inicio mais exclui o final: {meu_array}\")"
      ],
      "execution_count": 158,
      "outputs": [
        {
          "output_type": "stream",
          "text": [
            "Inclui o inicio mais exclui o final: [ 1.  2.  3.  4.  5.  6.  7.  8.  9. 10.]\n"
          ],
          "name": "stdout"
        }
      ]
    },
    {
      "cell_type": "markdown",
      "metadata": {
        "id": "eBBCYRFmbmSR"
      },
      "source": [
        "#### Criando listas com range"
      ]
    },
    {
      "cell_type": "code",
      "metadata": {
        "colab": {
          "base_uri": "https://localhost:8080/"
        },
        "id": "CaWJC6ooa8M3",
        "outputId": "0a9e08d6-1f4c-4d98-93a9-e55383174bff"
      },
      "source": [
        "# range é uma função built-in\n",
        "minha_lista = list(range(1, 11, 1))\n",
        "print(f\"Lista: {minha_lista}\")"
      ],
      "execution_count": 159,
      "outputs": [
        {
          "output_type": "stream",
          "text": [
            "Lista: [1, 2, 3, 4, 5, 6, 7, 8, 9, 10]\n"
          ],
          "name": "stdout"
        }
      ]
    },
    {
      "cell_type": "markdown",
      "metadata": {
        "id": "ShY7P6fIeIcP"
      },
      "source": [
        "#### Monitorando o tempo de execução"
      ]
    },
    {
      "cell_type": "code",
      "metadata": {
        "id": "__WYaZEWb3mB",
        "colab": {
          "base_uri": "https://localhost:8080/"
        },
        "outputId": "79b803ff-72eb-4e87-df83-2fbfc1305b63"
      },
      "source": [
        "# Fazendo uma operação de multiplicação vetorizada em um array numpy\n",
        "%time for _ in range(10): meu_array2 = meu_array * 2\n",
        "\n",
        "# Fazendo uma operação de multiplicação em cada elemento de uma lista usando list comprehension\n",
        "%time for _ in range(10): minha_lista2 = [x * 2 for x in minha_lista]"
      ],
      "execution_count": 160,
      "outputs": [
        {
          "output_type": "stream",
          "text": [
            "CPU times: user 63 µs, sys: 0 ns, total: 63 µs\n",
            "Wall time: 67.5 µs\n",
            "CPU times: user 23 µs, sys: 0 ns, total: 23 µs\n",
            "Wall time: 26.5 µs\n"
          ],
          "name": "stdout"
        }
      ]
    },
    {
      "cell_type": "markdown",
      "metadata": {
        "id": "HG6RluN3fbHR"
      },
      "source": [
        "# Numpy ndarray"
      ]
    },
    {
      "cell_type": "markdown",
      "metadata": {
        "id": "pVrOhhfIf2-B"
      },
      "source": [
        "### Matrizes randomicas. randn()\n",
        "np.random.randn()"
      ]
    },
    {
      "cell_type": "code",
      "metadata": {
        "colab": {
          "base_uri": "https://localhost:8080/"
        },
        "id": "APt4kNjAeYdw",
        "outputId": "aca6d3b5-c9e3-42ae-ae58-d445dcbf4ac6"
      },
      "source": [
        "import numpy as np\n",
        "\n",
        "# randn(): Gera uma matrix com dados randomicos de 2 linhas por 3 colunas\n",
        "dados = np.random.randn(2, 3)\n",
        "dados"
      ],
      "execution_count": 161,
      "outputs": [
        {
          "output_type": "execute_result",
          "data": {
            "text/plain": [
              "array([[ 0.4714, -1.191 ,  1.4327],\n",
              "       [-0.3127, -0.7206,  0.8872]])"
            ]
          },
          "metadata": {
            "tags": []
          },
          "execution_count": 161
        }
      ]
    },
    {
      "cell_type": "code",
      "metadata": {
        "colab": {
          "base_uri": "https://localhost:8080/"
        },
        "id": "jV3NSZZQganE",
        "outputId": "afea9c95-84b6-4a41-b6bc-d4eb0ea99365"
      },
      "source": [
        "# Multiplica todos os dados da matriz por 10. Operação vetorizada, não precisa de for\n",
        "dados = dados * 10\n",
        "dados"
      ],
      "execution_count": 162,
      "outputs": [
        {
          "output_type": "execute_result",
          "data": {
            "text/plain": [
              "array([[  4.7144, -11.9098,  14.3271],\n",
              "       [ -3.1265,  -7.2059,   8.8716]])"
            ]
          },
          "metadata": {
            "tags": []
          },
          "execution_count": 162
        }
      ]
    },
    {
      "cell_type": "code",
      "metadata": {
        "colab": {
          "base_uri": "https://localhost:8080/"
        },
        "id": "cMNALaYzgnVi",
        "outputId": "c38f50cb-7218-4e02-f816-d77701e0db04"
      },
      "source": [
        "# soma de matrizes\n",
        "dados = dados + dados\n",
        "dados"
      ],
      "execution_count": 163,
      "outputs": [
        {
          "output_type": "execute_result",
          "data": {
            "text/plain": [
              "array([[  9.4287, -23.8195,  28.6541],\n",
              "       [ -6.253 , -14.4118,  17.7433]])"
            ]
          },
          "metadata": {
            "tags": []
          },
          "execution_count": 163
        }
      ]
    },
    {
      "cell_type": "code",
      "metadata": {
        "colab": {
          "base_uri": "https://localhost:8080/"
        },
        "id": "7w4YIP_5gyRC",
        "outputId": "fbb44620-3866-45d6-86dd-74c97206eae7"
      },
      "source": [
        "# schema da matriz: linhas e colunas\n",
        "dados.shape"
      ],
      "execution_count": 164,
      "outputs": [
        {
          "output_type": "execute_result",
          "data": {
            "text/plain": [
              "(2, 3)"
            ]
          },
          "metadata": {
            "tags": []
          },
          "execution_count": 164
        }
      ]
    },
    {
      "cell_type": "code",
      "metadata": {
        "colab": {
          "base_uri": "https://localhost:8080/"
        },
        "id": "ATQ95SIFhE_T",
        "outputId": "f65198b9-1366-488e-89a4-3ca2490c4dfa"
      },
      "source": [
        "# consultando o tipo de dados dos elementos da matriz\n",
        "dados.dtype"
      ],
      "execution_count": 165,
      "outputs": [
        {
          "output_type": "execute_result",
          "data": {
            "text/plain": [
              "dtype('float64')"
            ]
          },
          "metadata": {
            "tags": []
          },
          "execution_count": 165
        }
      ]
    },
    {
      "cell_type": "markdown",
      "metadata": {
        "id": "gCbjVZTghk5N"
      },
      "source": [
        "### Arrays e aranges"
      ]
    },
    {
      "cell_type": "code",
      "metadata": {
        "colab": {
          "base_uri": "https://localhost:8080/"
        },
        "id": "WAehun5Vhoc0",
        "outputId": "5c40708b-604d-4e50-b21b-0a9a315d1bf3"
      },
      "source": [
        "# array simples 1D\n",
        "dados_array = np.array([3, 5, 8.5])\n",
        "dados_array"
      ],
      "execution_count": 166,
      "outputs": [
        {
          "output_type": "execute_result",
          "data": {
            "text/plain": [
              "array([3. , 5. , 8.5])"
            ]
          },
          "metadata": {
            "tags": []
          },
          "execution_count": 166
        }
      ]
    },
    {
      "cell_type": "code",
      "metadata": {
        "colab": {
          "base_uri": "https://localhost:8080/"
        },
        "id": "mH-xXYXVh4fO",
        "outputId": "289787a6-f851-4487-8b22-6c616c005996"
      },
      "source": [
        "# array 2 dimensões: 3 linhas 3 colunas\n",
        "dados_arrayD2 = np.array([[1, 2, 3], [4, 5, 6], [7, 8, 9]])\n",
        "dados_arrayD2"
      ],
      "execution_count": 167,
      "outputs": [
        {
          "output_type": "execute_result",
          "data": {
            "text/plain": [
              "array([[1, 2, 3],\n",
              "       [4, 5, 6],\n",
              "       [7, 8, 9]])"
            ]
          },
          "metadata": {
            "tags": []
          },
          "execution_count": 167
        }
      ]
    },
    {
      "cell_type": "code",
      "metadata": {
        "colab": {
          "base_uri": "https://localhost:8080/"
        },
        "id": "6AiodSfsk5C1",
        "outputId": "0d897cfd-4ca5-481f-d23f-6f6d20387971"
      },
      "source": [
        "# Número de dimensões\n",
        "dados_arrayD2.ndim\n",
        "dados_arrayD2.shape[0]\n",
        "\n",
        "# Retorna a segunda linha\n",
        "print(f\"Segunda linha e terceiro elemento: {dados_arrayD2[1][2]}\")\n",
        "\n",
        "print(f\"Este array tem {dados_arrayD2.ndim} dimensões. São {dados_arrayD2.shape[0]} linhas e {dados_arrayD2.shape[1]} colunas.\")\n",
        "\n",
        "dados_arrayD2"
      ],
      "execution_count": 168,
      "outputs": [
        {
          "output_type": "stream",
          "text": [
            "Segunda linha e terceiro elemento: 6\n",
            "Este array tem 2 dimensões. São 3 linhas e 3 colunas.\n"
          ],
          "name": "stdout"
        },
        {
          "output_type": "execute_result",
          "data": {
            "text/plain": [
              "array([[1, 2, 3],\n",
              "       [4, 5, 6],\n",
              "       [7, 8, 9]])"
            ]
          },
          "metadata": {
            "tags": []
          },
          "execution_count": 168
        }
      ]
    },
    {
      "cell_type": "code",
      "metadata": {
        "colab": {
          "base_uri": "https://localhost:8080/"
        },
        "id": "60Hh1GbCmW-R",
        "outputId": "53d60725-4485-4181-d963-ff5c75f55b63"
      },
      "source": [
        "# criar matrizes com arrays zerados em diversas dimensões\n",
        "np.zeros(10)\n",
        "np.zeros((2, 3))\n",
        "np.empty((2, 3, 2))"
      ],
      "execution_count": 169,
      "outputs": [
        {
          "output_type": "execute_result",
          "data": {
            "text/plain": [
              "array([[[0., 0.],\n",
              "        [0., 0.],\n",
              "        [0., 0.]],\n",
              "\n",
              "       [[0., 0.],\n",
              "        [0., 0.],\n",
              "        [0., 0.]]])"
            ]
          },
          "metadata": {
            "tags": []
          },
          "execution_count": 169
        }
      ]
    },
    {
      "cell_type": "code",
      "metadata": {
        "colab": {
          "base_uri": "https://localhost:8080/"
        },
        "id": "VGqx9CnWndhy",
        "outputId": "9aa8430f-6d90-46ab-c337-b19d772e4aaa"
      },
      "source": [
        "# cria um range com numpy: arange([start,] stop[, step,], dtype=)\n",
        "np.arange(5, 10)"
      ],
      "execution_count": 170,
      "outputs": [
        {
          "output_type": "execute_result",
          "data": {
            "text/plain": [
              "array([5, 6, 7, 8, 9])"
            ]
          },
          "metadata": {
            "tags": []
          },
          "execution_count": 170
        }
      ]
    },
    {
      "cell_type": "markdown",
      "metadata": {
        "id": "kGVWXSCoo4eK"
      },
      "source": [
        "### Tipos de dados arrays numpy"
      ]
    },
    {
      "cell_type": "code",
      "metadata": {
        "colab": {
          "base_uri": "https://localhost:8080/"
        },
        "id": "dzH9-lsLoP6G",
        "outputId": "713260c7-4594-4af2-f6bd-2a3fa7838260"
      },
      "source": [
        "# Alterando os tipos de dados de um array\n",
        "dados_array_float = np.array([1, 2, 3], dtype=np.float)\n",
        "dados_array_int = np.array([1, 2, 3], dtype=np.int32)\n",
        "\n",
        "print(f\"Os dados deste array são do tipo: {dados_array_float.dtype}. Array: {dados_array_float}\")\n",
        "print(f\"Os dados deste array são do tipo: {dados_array_int.dtype}. Array: {dados_array_int}\")"
      ],
      "execution_count": 171,
      "outputs": [
        {
          "output_type": "stream",
          "text": [
            "Os dados deste array são do tipo: float64. Array: [1. 2. 3.]\n",
            "Os dados deste array são do tipo: int32. Array: [1 2 3]\n"
          ],
          "name": "stdout"
        }
      ]
    },
    {
      "cell_type": "code",
      "metadata": {
        "colab": {
          "base_uri": "https://localhost:8080/"
        },
        "id": "q4Hs6xYaqASG",
        "outputId": "0133df3b-6818-4059-d973-362f12c56ca7"
      },
      "source": [
        "# Convertendo o tipo de dados do array: astype\n",
        "dados_array = np.array([1, 2, 3])\n",
        "print(dados_array.dtype)\n",
        "\n",
        "dados_array = dados_array.astype(np.float)\n",
        "print(dados_array.dtype)"
      ],
      "execution_count": 172,
      "outputs": [
        {
          "output_type": "stream",
          "text": [
            "int64\n",
            "float64\n"
          ],
          "name": "stdout"
        }
      ]
    },
    {
      "cell_type": "code",
      "metadata": {
        "colab": {
          "base_uri": "https://localhost:8080/"
        },
        "id": "ukB3yd0oraNE",
        "outputId": "5a9bf311-5e61-4413-c514-390a07b92357"
      },
      "source": [
        "# Os dados são truncados quando convertidos de float par int\n",
        "dados_array = np.array([1.3, 4.5, -6.9])\n",
        "print(dados_array)\n",
        "\n",
        "dados_array = dados_array.astype(np.int32)\n",
        "print(dados_array)"
      ],
      "execution_count": 173,
      "outputs": [
        {
          "output_type": "stream",
          "text": [
            "[ 1.3  4.5 -6.9]\n",
            "[ 1  4 -6]\n"
          ],
          "name": "stdout"
        }
      ]
    },
    {
      "cell_type": "markdown",
      "metadata": {
        "id": "46krEISPpzOc"
      },
      "source": [
        "### Aritimética com numpy arrays"
      ]
    },
    {
      "cell_type": "code",
      "metadata": {
        "id": "DImXZKO8r8-u",
        "colab": {
          "base_uri": "https://localhost:8080/"
        },
        "outputId": "0d57f2d0-b563-4915-e46c-dee07f855aaf"
      },
      "source": [
        "# Array 2D com duas linhas e tres colunas\n",
        "array1 = np.array([[1.0, 2.5, 3.9], [4.8, 5.7, 3.4], [9.8, 8.2, 6.2]])\n",
        "\n",
        "print(f\"Array inicial:\\n {array1}\\n\")\n",
        "print(f\"Array multiplicação array1 * array1:\\n {array1 * array1}\\n\")\n",
        "print(f\"Array subtração array1 - array1:\\n {array1 - array1}\")"
      ],
      "execution_count": 174,
      "outputs": [
        {
          "output_type": "stream",
          "text": [
            "Array inicial:\n",
            " [[1.  2.5 3.9]\n",
            " [4.8 5.7 3.4]\n",
            " [9.8 8.2 6.2]]\n",
            "\n",
            "Array multiplicação array1 * array1:\n",
            " [[ 1.    6.25 15.21]\n",
            " [23.04 32.49 11.56]\n",
            " [96.04 67.24 38.44]]\n",
            "\n",
            "Array subtração array1 - array1:\n",
            " [[0. 0. 0.]\n",
            " [0. 0. 0.]\n",
            " [0. 0. 0.]]\n"
          ],
          "name": "stdout"
        }
      ]
    },
    {
      "cell_type": "markdown",
      "metadata": {
        "id": "jqHlMqhMrH0G"
      },
      "source": [
        "### Indexação e slice"
      ]
    },
    {
      "cell_type": "code",
      "metadata": {
        "colab": {
          "base_uri": "https://localhost:8080/"
        },
        "id": "uwYGt7d0qx7N",
        "outputId": "364ca39c-d3b9-4a8c-8be5-e42081606fcd"
      },
      "source": [
        "# acessar os elementos do array pelo índice iniciando em Zero\n",
        "print(f\"Array inicial:\\n {array1}\\n\")\n",
        "print(f\"Todos os elementos da primeira linha: {array1[0]}\")\n",
        "print(f\"O terceiro elmento da segunda linha: {array1[1][2]}\")\n"
      ],
      "execution_count": 175,
      "outputs": [
        {
          "output_type": "stream",
          "text": [
            "Array inicial:\n",
            " [[1.  2.5 3.9]\n",
            " [4.8 5.7 3.4]\n",
            " [9.8 8.2 6.2]]\n",
            "\n",
            "Todos os elementos da primeira linha: [1.  2.5 3.9]\n",
            "O terceiro elmento da segunda linha: 3.4\n"
          ],
          "name": "stdout"
        }
      ]
    },
    {
      "cell_type": "code",
      "metadata": {
        "colab": {
          "base_uri": "https://localhost:8080/"
        },
        "id": "05hN0pH8ra_V",
        "outputId": "3a8f9bee-6a00-4957-c092-13290378e404"
      },
      "source": [
        "# slice: segunda e terceira linha\n",
        "print(f\"array1[1:3]:\\n  {array1[1:3]}\\n\")\n",
        "\n",
        "# slice: Do início do array até o terceiro elemento\n",
        "print(f\"array1[:3]:\\n  {array1[:3]}\\n\")\n",
        "\n",
        "# slice: Da segunda linha até o final do array\n",
        "print(f\"array1[2:]:\\n  {array1[2:]}\")"
      ],
      "execution_count": 176,
      "outputs": [
        {
          "output_type": "stream",
          "text": [
            "array1[1:3]:\n",
            "  [[4.8 5.7 3.4]\n",
            " [9.8 8.2 6.2]]\n",
            "\n",
            "array1[:3]:\n",
            "  [[1.  2.5 3.9]\n",
            " [4.8 5.7 3.4]\n",
            " [9.8 8.2 6.2]]\n",
            "\n",
            "array1[2:]:\n",
            "  [[9.8 8.2 6.2]]\n"
          ],
          "name": "stdout"
        }
      ]
    },
    {
      "cell_type": "code",
      "metadata": {
        "colab": {
          "base_uri": "https://localhost:8080/"
        },
        "id": "QIBGQDnFr8u3",
        "outputId": "b0eaf320-3558-4776-fa9d-8926d649f418"
      },
      "source": [
        "# atribuição de valores\n",
        "array1_slice = array1[:, -1:]\n",
        "\n",
        "# Atribuindo Zero as elementos de um slice do array principal\n",
        "array1_slice[:] = 99\n",
        "\n",
        "# O array principal é afetado pela atribuição feita no slice criado. \n",
        "# Variaveis criados com slice de arrays são como views, não criam cópias apenas apontam para a área em memoria\n",
        "array1\n"
      ],
      "execution_count": 177,
      "outputs": [
        {
          "output_type": "execute_result",
          "data": {
            "text/plain": [
              "array([[ 1. ,  2.5, 99. ],\n",
              "       [ 4.8,  5.7, 99. ],\n",
              "       [ 9.8,  8.2, 99. ]])"
            ]
          },
          "metadata": {
            "tags": []
          },
          "execution_count": 177
        }
      ]
    },
    {
      "cell_type": "code",
      "metadata": {
        "colab": {
          "base_uri": "https://localhost:8080/"
        },
        "id": "KBtzxU9jsjjx",
        "outputId": "bdefd11d-fdb1-48dc-bcee-3a61ecd91bb4"
      },
      "source": [
        "array2 = np.array([[1, 2, 3], [4, 5, 6], [7, 8, 9]])\n",
        "\n",
        "# Duas formas de acessar elementos em arrays 2D\n",
        "print(f\"array2[2][0]:\\n {array2[2][0]}\\n\")\n",
        "print(f\"array2[2, 0]:\\n {array2[2, 0]}\\n\")\n",
        "\n",
        "# arrays podem ter quantas dimensões forem necessárias\n",
        "array3 = np.array([[[1, 2, 3], [4, 5, 6]], [[7, 8, 9], [10, 11, 12]]])\n",
        "print(f\"Array 3D:\\n {array3}\\n\")\n",
        "print(f\"Dimensões 3D:\\n {array3.ndim}\")"
      ],
      "execution_count": 178,
      "outputs": [
        {
          "output_type": "stream",
          "text": [
            "array2[2][0]:\n",
            " 7\n",
            "\n",
            "array2[2, 0]:\n",
            " 7\n",
            "\n",
            "Array 3D:\n",
            " [[[ 1  2  3]\n",
            "  [ 4  5  6]]\n",
            "\n",
            " [[ 7  8  9]\n",
            "  [10 11 12]]]\n",
            "\n",
            "Dimensões 3D:\n",
            " 3\n"
          ],
          "name": "stdout"
        }
      ]
    },
    {
      "cell_type": "markdown",
      "metadata": {
        "id": "LE94L5WZQLbF"
      },
      "source": [
        "#### Cópia de slices de arrays"
      ]
    },
    {
      "cell_type": "code",
      "metadata": {
        "colab": {
          "base_uri": "https://localhost:8080/"
        },
        "id": "vgbEe-vjN09x",
        "outputId": "50a8b833-ab38-4536-da27-c4d15b964c08"
      },
      "source": [
        "# Por padrão ao atribuir um slice a uma variavel, essa variavel vira uma view \n",
        "# do array principal e qualquer modificação nela afeta o array principal\n",
        "# para isso não acontecer, temos que fazer cópias de slices de array\n",
        "\n",
        "array_original = np.array(([[1, 2, 3], [4, 5, 6], [7, 8, 9]]))\n",
        "\n",
        "# criando uma variavel que recebe o slice. Todas menos a primeira linha\n",
        "array_slice = array_original[1:]\n",
        "\n",
        "# modificando a variavel também modifica o original\n",
        "array_slice[:] = 9999\n",
        "\n",
        "print(f\"Original modificado:\\n {array_original}\\n\")\n",
        "\n",
        "# copiando: desta forma a alteração no slice não afeta o original \n",
        "array_original2 = np.array(([[1, 2, 3], [4, 5, 6], [7, 8, 9]]))\n",
        "array_slice = array_original2[1:].copy()\n",
        "array_slice[:] = 9999\n",
        "print(f\"Original mantido intacto pela modificação no slice derivado:\\n {array_original2}\")\n"
      ],
      "execution_count": 179,
      "outputs": [
        {
          "output_type": "stream",
          "text": [
            "Original modificado:\n",
            " [[   1    2    3]\n",
            " [9999 9999 9999]\n",
            " [9999 9999 9999]]\n",
            "\n",
            "Original mantido intacto pela modificação no slice derivado:\n",
            " [[1 2 3]\n",
            " [4 5 6]\n",
            " [7 8 9]]\n"
          ],
          "name": "stdout"
        }
      ]
    },
    {
      "cell_type": "markdown",
      "metadata": {
        "id": "mJLysF6uRopg"
      },
      "source": [
        "#### Slices e reshape"
      ]
    },
    {
      "cell_type": "code",
      "metadata": {
        "colab": {
          "base_uri": "https://localhost:8080/"
        },
        "id": "ITmWzxT4PkJl",
        "outputId": "a40c839c-5ae0-4467-a7bf-7bafc5c1b060"
      },
      "source": [
        "# Cria um array com 20 elementos inteiros e transforma de 1D para 2D com 4 linhas de 5 colunas\n",
        "array4 = np.arange(1, 21, dtype=int).reshape(4, 5)\n",
        "array4"
      ],
      "execution_count": 180,
      "outputs": [
        {
          "output_type": "execute_result",
          "data": {
            "text/plain": [
              "array([[ 1,  2,  3,  4,  5],\n",
              "       [ 6,  7,  8,  9, 10],\n",
              "       [11, 12, 13, 14, 15],\n",
              "       [16, 17, 18, 19, 20]])"
            ]
          },
          "metadata": {
            "tags": []
          },
          "execution_count": 180
        }
      ]
    },
    {
      "cell_type": "code",
      "metadata": {
        "colab": {
          "base_uri": "https://localhost:8080/"
        },
        "id": "TX8uSeFLR_ko",
        "outputId": "a5fddff6-9c4c-4be8-a4f3-ecb1b11e4c96"
      },
      "source": [
        "# slice: todas as linhas a partir da terceira\n",
        "array4[2:]"
      ],
      "execution_count": 181,
      "outputs": [
        {
          "output_type": "execute_result",
          "data": {
            "text/plain": [
              "array([[11, 12, 13, 14, 15],\n",
              "       [16, 17, 18, 19, 20]])"
            ]
          },
          "metadata": {
            "tags": []
          },
          "execution_count": 181
        }
      ]
    },
    {
      "cell_type": "code",
      "metadata": {
        "colab": {
          "base_uri": "https://localhost:8080/"
        },
        "id": "Ftcdg-fxTT9-",
        "outputId": "bf626bc9-963c-4152-bbba-fe8f859a19d7"
      },
      "source": [
        "# slice: apenas a quarta linha\n",
        "array4[3]"
      ],
      "execution_count": 182,
      "outputs": [
        {
          "output_type": "execute_result",
          "data": {
            "text/plain": [
              "array([16, 17, 18, 19, 20])"
            ]
          },
          "metadata": {
            "tags": []
          },
          "execution_count": 182
        }
      ]
    },
    {
      "cell_type": "code",
      "metadata": {
        "colab": {
          "base_uri": "https://localhost:8080/"
        },
        "id": "EbEvl4vFTe5G",
        "outputId": "5ad44360-dd35-45ab-f141-99f35400b432"
      },
      "source": [
        "# apenas o elemento 19 a última linha\n",
        "array4[-1][3]"
      ],
      "execution_count": 183,
      "outputs": [
        {
          "output_type": "execute_result",
          "data": {
            "text/plain": [
              "19"
            ]
          },
          "metadata": {
            "tags": []
          },
          "execution_count": 183
        }
      ]
    },
    {
      "cell_type": "code",
      "metadata": {
        "colab": {
          "base_uri": "https://localhost:8080/"
        },
        "id": "LDGKtDH5UruD",
        "outputId": "908dcf8c-add8-41dd-d2e1-30254ce3230a"
      },
      "source": [
        "# e última coluna\n",
        "array4[:, -1:]"
      ],
      "execution_count": 184,
      "outputs": [
        {
          "output_type": "execute_result",
          "data": {
            "text/plain": [
              "array([[ 5],\n",
              "       [10],\n",
              "       [15],\n",
              "       [20]])"
            ]
          },
          "metadata": {
            "tags": []
          },
          "execution_count": 184
        }
      ]
    },
    {
      "cell_type": "code",
      "metadata": {
        "colab": {
          "base_uri": "https://localhost:8080/"
        },
        "id": "1PKZl8QrT1PX",
        "outputId": "658a0019-d27d-43cc-b948-d3f15fd928db"
      },
      "source": [
        "# slice: primeira e segunda linhas\n",
        "# e última coluna\n",
        "array4[:2, -1:]"
      ],
      "execution_count": 185,
      "outputs": [
        {
          "output_type": "execute_result",
          "data": {
            "text/plain": [
              "array([[ 5],\n",
              "       [10]])"
            ]
          },
          "metadata": {
            "tags": []
          },
          "execution_count": 185
        }
      ]
    },
    {
      "cell_type": "code",
      "metadata": {
        "colab": {
          "base_uri": "https://localhost:8080/"
        },
        "id": "VSsJk0WdUFl4",
        "outputId": "18aa09ea-f1c7-467e-f80a-156585c427e8"
      },
      "source": [
        "# segunda e terceira linhas, terceira e quarta colunas\n",
        "array4[1:3, 2:4]"
      ],
      "execution_count": 188,
      "outputs": [
        {
          "output_type": "execute_result",
          "data": {
            "text/plain": [
              "array([[ 8,  9],\n",
              "       [13, 14]])"
            ]
          },
          "metadata": {
            "tags": []
          },
          "execution_count": 188
        }
      ]
    },
    {
      "cell_type": "code",
      "metadata": {
        "colab": {
          "base_uri": "https://localhost:8080/"
        },
        "id": "q2C8qIgIWUGJ",
        "outputId": "69c71a68-8b99-49c2-f2d8-0b36b7a7699b"
      },
      "source": [
        "# ao atribuir todos os elementos são atualizados\n",
        "array4[1:3, 2:4] = 999\n",
        "array4"
      ],
      "execution_count": 193,
      "outputs": [
        {
          "output_type": "execute_result",
          "data": {
            "text/plain": [
              "array([[  1,   2,   3,   4,   5],\n",
              "       [  6,   7, 999, 999,  10],\n",
              "       [ 11,  12, 999, 999,  15],\n",
              "       [ 16,  17,  18,  19,  20]])"
            ]
          },
          "metadata": {
            "tags": []
          },
          "execution_count": 193
        }
      ]
    },
    {
      "cell_type": "markdown",
      "metadata": {
        "id": "rXvk3mpkZksH"
      },
      "source": [
        "#### Indexação boobleana\n",
        "A indexação booleana pode ser usada para aplicar filtros condicionais a um array, por exemplo filtrando somente elementos maiores ou menores que um valor. É como se uma mascara com True/False fosse que colocada sob o array, e onde for True é apresentado e onde for false é ocultado.\n",
        "- Primeiro passo, aplicar a operação lógica a todos os elementos\n",
        "- Com o resultado, onde a posição do array resultante for True exibe como retorno"
      ]
    },
    {
      "cell_type": "code",
      "metadata": {
        "colab": {
          "base_uri": "https://localhost:8080/"
        },
        "id": "3Il1sJkdWvMD",
        "outputId": "9ab0a40f-7bf8-4be2-fbee-542b2bbf4d64"
      },
      "source": [
        "# Cria uma lista de nomes embaralhada\n",
        "lista_nomes = [\"Leandro\", \"Carlos\", \"Aline\", \"Christian\"]\n",
        "np.random.shuffle(lista_nomes)\n",
        "# Concatena a lista embaralhada com uma lista fixa de nomes\n",
        "lista_nomes.extend([\"Leandro\", \"Carlos\", \"Aline\", \"Christian\"])\n",
        "\n",
        "nomes = np.array(lista_nomes)\n",
        "dados = np.random.randn(8, 4)\n",
        "print(nomes)\n",
        "print(dados)"
      ],
      "execution_count": 209,
      "outputs": [
        {
          "output_type": "stream",
          "text": [
            "['Leandro' 'Aline' 'Carlos' 'Christian' 'Leandro' 'Carlos' 'Aline'\n",
            " 'Christian']\n",
            "[[ 0.7887  1.0489  2.7932 -0.713 ]\n",
            " [-0.7605  1.065  -0.7547  0.8768]\n",
            " [-0.4921 -0.1477 -1.2225 -0.2223]\n",
            " [-0.4868  0.8383 -1.3775 -0.7398]\n",
            " [-1.9244 -1.8018  1.5531  0.6135]\n",
            " [-0.1717 -0.54   -0.1817 -1.4581]\n",
            " [-0.2935  0.5638 -0.3843  1.2966]\n",
            " [-1.8042  0.56    0.6403 -0.2274]]\n"
          ],
          "name": "stdout"
        }
      ]
    },
    {
      "cell_type": "code",
      "metadata": {
        "colab": {
          "base_uri": "https://localhost:8080/"
        },
        "id": "F101gBrBZ7G_",
        "outputId": "35a7ad38-efe7-475e-b122-62dec68b2137"
      },
      "source": [
        "# Index booleano aplica True/False em todos os elementos que atendem a condição\n",
        "nomes == \"Leandro\""
      ],
      "execution_count": 223,
      "outputs": [
        {
          "output_type": "execute_result",
          "data": {
            "text/plain": [
              "array([ True, False, False, False,  True, False, False, False])"
            ]
          },
          "metadata": {
            "tags": []
          },
          "execution_count": 223
        }
      ]
    },
    {
      "cell_type": "code",
      "metadata": {
        "colab": {
          "base_uri": "https://localhost:8080/"
        },
        "id": "vXGDRhF1cBNf",
        "outputId": "01d23cca-c9bf-472e-f0b5-0a7d916bc47f"
      },
      "source": [
        "# cada lista na lista de listas pode estar associada, pela posição dos True e False a um nome de outra lista\n",
        "# o array booleano orienta o array de dados onde filtrar, filtrar somente onde for True\n",
        "dados_do_leandro = dados[nomes == \"Leandro\"]\n",
        "\n",
        "print(dados_do_leandro)\n",
        "\n",
        "for i, notas in enumerate(dados_do_leandro):\n",
        "    print(f\"\\nGrupo: {i}\")\n",
        "    for nota in notas:\n",
        "        print(f\"Nota: {nota}\")"
      ],
      "execution_count": 225,
      "outputs": [
        {
          "output_type": "stream",
          "text": [
            "[[ 0.7887  1.0489  2.7932 -0.713 ]\n",
            " [-1.9244 -1.8018  1.5531  0.6135]]\n",
            "\n",
            "Grupo: 0\n",
            "Nota: 0.7886685188255869\n",
            "Nota: 1.04891010706383\n",
            "Nota: 2.7931711858038746\n",
            "Nota: -0.713048019978902\n",
            "\n",
            "Grupo: 1\n",
            "Nota: -1.9243625235566315\n",
            "Nota: -1.8018470890814284\n",
            "Nota: 1.5530853048691828\n",
            "Nota: 0.613486914957981\n"
          ],
          "name": "stdout"
        }
      ]
    },
    {
      "cell_type": "code",
      "metadata": {
        "colab": {
          "base_uri": "https://localhost:8080/"
        },
        "id": "PUbWiVhecXro",
        "outputId": "f176ef31-dc7c-4726-ce09-a0a0545ca523"
      },
      "source": [
        "dados_diferente_de_leandro = dados[nomes != \"Leandro\"]\n",
        "dados_diferente_de_leandro"
      ],
      "execution_count": 220,
      "outputs": [
        {
          "output_type": "execute_result",
          "data": {
            "text/plain": [
              "array([[-0.7605,  1.065 , -0.7547,  0.8768],\n",
              "       [-0.4921, -0.1477, -1.2225, -0.2223],\n",
              "       [-0.4868,  0.8383, -1.3775, -0.7398],\n",
              "       [-0.1717, -0.54  , -0.1817, -1.4581],\n",
              "       [-0.2935,  0.5638, -0.3843,  1.2966],\n",
              "       [-1.8042,  0.56  ,  0.6403, -0.2274]])"
            ]
          },
          "metadata": {
            "tags": []
          },
          "execution_count": 220
        }
      ]
    },
    {
      "cell_type": "code",
      "metadata": {
        "colab": {
          "base_uri": "https://localhost:8080/"
        },
        "id": "E_RtWcYsewpB",
        "outputId": "728cd2fe-6c4f-4eef-d656-1c9559426a69"
      },
      "source": [
        "# o mesmo filtro acima mas o uso de uma variavel que representa a condição\n",
        "condicao = (nomes == \"Leandro\") | (nomes == \"Carlos\")\n",
        "dados[~condicao]"
      ],
      "execution_count": 222,
      "outputs": [
        {
          "output_type": "execute_result",
          "data": {
            "text/plain": [
              "array([[-0.7605,  1.065 , -0.7547,  0.8768],\n",
              "       [-0.4868,  0.8383, -1.3775, -0.7398],\n",
              "       [-0.2935,  0.5638, -0.3843,  1.2966],\n",
              "       [-1.8042,  0.56  ,  0.6403, -0.2274]])"
            ]
          },
          "metadata": {
            "tags": []
          },
          "execution_count": 222
        }
      ]
    },
    {
      "cell_type": "code",
      "metadata": {
        "colab": {
          "base_uri": "https://localhost:8080/"
        },
        "id": "kkCoVanwfByS",
        "outputId": "1a1c4ff1-27ac-4423-f0f4-4f159ba8acf3"
      },
      "source": [
        "# filtrando os valores\n",
        "dados[dados < 0]"
      ],
      "execution_count": 226,
      "outputs": [
        {
          "output_type": "execute_result",
          "data": {
            "text/plain": [
              "array([-0.713 , -0.7605, -0.7547, -0.4921, -0.1477, -1.2225, -0.2223,\n",
              "       -0.4868, -1.3775, -0.7398, -1.9244, -1.8018, -0.1717, -0.54  ,\n",
              "       -0.1817, -1.4581, -0.2935, -0.3843, -1.8042, -0.2274])"
            ]
          },
          "metadata": {
            "tags": []
          },
          "execution_count": 226
        }
      ]
    },
    {
      "cell_type": "code",
      "metadata": {
        "colab": {
          "base_uri": "https://localhost:8080/"
        },
        "id": "kHx5L61-g3vv",
        "outputId": "cefe057e-f22a-4b33-e544-49d25be6e8c8"
      },
      "source": [
        "# atribuindo valor para todos os dados que estão abaixo de Zero no array\n",
        "dados[dados < 0] = 0\n",
        "dados"
      ],
      "execution_count": 228,
      "outputs": [
        {
          "output_type": "execute_result",
          "data": {
            "text/plain": [
              "array([[0.7887, 1.0489, 2.7932, 0.    ],\n",
              "       [0.    , 1.065 , 0.    , 0.8768],\n",
              "       [0.    , 0.    , 0.    , 0.    ],\n",
              "       [0.    , 0.8383, 0.    , 0.    ],\n",
              "       [0.    , 0.    , 1.5531, 0.6135],\n",
              "       [0.    , 0.    , 0.    , 0.    ],\n",
              "       [0.    , 0.5638, 0.    , 1.2966],\n",
              "       [0.    , 0.56  , 0.6403, 0.    ]])"
            ]
          },
          "metadata": {
            "tags": []
          },
          "execution_count": 228
        }
      ]
    },
    {
      "cell_type": "code",
      "metadata": {
        "id": "y_T7DIqthHEZ"
      },
      "source": [
        ""
      ],
      "execution_count": null,
      "outputs": []
    },
    {
      "cell_type": "markdown",
      "metadata": {
        "id": "PIaZbQMyhsNT"
      },
      "source": [
        "### Transpose\n",
        "Transformar linhas em colunas"
      ]
    },
    {
      "cell_type": "code",
      "metadata": {
        "colab": {
          "base_uri": "https://localhost:8080/"
        },
        "id": "Zuy8lwu8hxPa",
        "outputId": "20f9225b-cd76-4472-df06-74cca4936c49"
      },
      "source": [
        "array_trans = np.arange(15).reshape((3, 5))\n",
        "\n",
        "print(f\"Array original:\\n {array_trans}\\n\")\n",
        "\n",
        "# Transpor\n",
        "print(f\"Transpose:\\n {array_trans.T}\")"
      ],
      "execution_count": 237,
      "outputs": [
        {
          "output_type": "stream",
          "text": [
            "Array original:\n",
            " [[ 0  1  2  3  4]\n",
            " [ 5  6  7  8  9]\n",
            " [10 11 12 13 14]]\n",
            "\n",
            "Transpose:\n",
            " [[ 0  5 10]\n",
            " [ 1  6 11]\n",
            " [ 2  7 12]\n",
            " [ 3  8 13]\n",
            " [ 4  9 14]]\n"
          ],
          "name": "stdout"
        }
      ]
    },
    {
      "cell_type": "markdown",
      "metadata": {
        "id": "dif5CO4RlXH-"
      },
      "source": [
        "### Funções numpy built-in"
      ]
    },
    {
      "cell_type": "code",
      "metadata": {
        "id": "fXDrvR0llcqV"
      },
      "source": [
        "array_func = np.arange(1, 30, 2).reshape(3, 5)"
      ],
      "execution_count": 254,
      "outputs": []
    },
    {
      "cell_type": "code",
      "metadata": {
        "colab": {
          "base_uri": "https://localhost:8080/"
        },
        "id": "jhIXdjRglk7G",
        "outputId": "f5246103-2f72-4023-8e27-61fbede1587b"
      },
      "source": [
        "array_func"
      ],
      "execution_count": 255,
      "outputs": [
        {
          "output_type": "execute_result",
          "data": {
            "text/plain": [
              "array([[ 1,  3,  5,  7,  9],\n",
              "       [11, 13, 15, 17, 19],\n",
              "       [21, 23, 25, 27, 29]])"
            ]
          },
          "metadata": {
            "tags": []
          },
          "execution_count": 255
        }
      ]
    },
    {
      "cell_type": "code",
      "metadata": {
        "colab": {
          "base_uri": "https://localhost:8080/"
        },
        "id": "tOIxdS19lmZm",
        "outputId": "065654c8-26b7-49ba-b09f-60bbc6e70fff"
      },
      "source": [
        "# calcula raiz quadrada\n",
        "array_func_sqtr = np.sqrt(array_func)\n",
        "array_func_sqtr"
      ],
      "execution_count": 276,
      "outputs": [
        {
          "output_type": "execute_result",
          "data": {
            "text/plain": [
              "array([[1.    , 1.7321, 2.2361, 2.6458, 3.    ],\n",
              "       [3.3166, 3.6056, 3.873 , 4.1231, 4.3589],\n",
              "       [4.5826, 4.7958, 5.    , 5.1962, 5.3852]])"
            ]
          },
          "metadata": {
            "tags": []
          },
          "execution_count": 276
        }
      ]
    },
    {
      "cell_type": "code",
      "metadata": {
        "colab": {
          "base_uri": "https://localhost:8080/"
        },
        "id": "fuo-uHMBmDuY",
        "outputId": "73df5e13-2fd6-4d27-9cd3-49472e3df931"
      },
      "source": [
        "# calcula exponencial\n",
        "array_func_exp = np.exp(array_func_sqtr)\n",
        "array_func_exp"
      ],
      "execution_count": 286,
      "outputs": [
        {
          "output_type": "execute_result",
          "data": {
            "text/plain": [
              "array([[1.5154e+01, 2.8493e+02, 1.1573e+04, 1.3212e+06, 5.2849e+08],\n",
              "       [9.3812e+11, 9.6137e+15, 7.6440e+20, 6.5765e+26, 8.8969e+33],\n",
              "       [2.8786e+42, 3.5628e+52, 2.8511e+64, 2.6498e+78, 5.4907e+94]])"
            ]
          },
          "metadata": {
            "tags": []
          },
          "execution_count": 286
        }
      ]
    },
    {
      "cell_type": "code",
      "metadata": {
        "colab": {
          "base_uri": "https://localhost:8080/"
        },
        "id": "LwET4EEtmlV5",
        "outputId": "25c1f556-57ba-4d29-e441-e8ff7bd89d23"
      },
      "source": [
        "# Compara os elementos de dois arrays e retorna aquele que tem o maior valor naquela determinada posição\n",
        "np.maximum(array_func_sqtr, array_func_exp)"
      ],
      "execution_count": 287,
      "outputs": [
        {
          "output_type": "execute_result",
          "data": {
            "text/plain": [
              "array([[1.5154e+01, 2.8493e+02, 1.1573e+04, 1.3212e+06, 5.2849e+08],\n",
              "       [9.3812e+11, 9.6137e+15, 7.6440e+20, 6.5765e+26, 8.8969e+33],\n",
              "       [2.8786e+42, 3.5628e+52, 2.8511e+64, 2.6498e+78, 5.4907e+94]])"
            ]
          },
          "metadata": {
            "tags": []
          },
          "execution_count": 287
        }
      ]
    },
    {
      "cell_type": "code",
      "metadata": {
        "colab": {
          "base_uri": "https://localhost:8080/"
        },
        "id": "LQqo8inKnqKN",
        "outputId": "c3db8bac-724e-4713-a776-962ad4f0fb42"
      },
      "source": [
        "# separa a parte inteira da parte decimal\n",
        "np.modf(array_func_sqtr)"
      ],
      "execution_count": 293,
      "outputs": [
        {
          "output_type": "execute_result",
          "data": {
            "text/plain": [
              "(array([[0.7183, 0.6522, 0.3565, 0.094 , 0.0855],\n",
              "        [0.5671, 0.802 , 0.0856, 0.7507, 0.171 ],\n",
              "        [0.7659, 0.005 , 0.4132, 0.5761, 0.1461]]),\n",
              " array([[  2.,   5.,   9.,  14.,  20.],\n",
              "        [ 27.,  36.,  48.,  61.,  78.],\n",
              "        [ 97., 121., 148., 180., 218.]]))"
            ]
          },
          "metadata": {
            "tags": []
          },
          "execution_count": 293
        }
      ]
    },
    {
      "cell_type": "markdown",
      "metadata": {
        "id": "kP9vpENtpR-i"
      },
      "source": [
        "### Programação orientada por arrays\n",
        "Um exemplo de utilização de calculos com arrays para criar uma imagem gráfica"
      ]
    },
    {
      "cell_type": "code",
      "metadata": {
        "colab": {
          "base_uri": "https://localhost:8080/",
          "height": 305
        },
        "id": "jvm9hnUkooLw",
        "outputId": "41fab0fb-e6a4-41a7-c2a2-8d2cbb893b1d"
      },
      "source": [
        "# criar 1000 valores iniciando em -5 até 5 incrementando em 0.01\n",
        "pontos = np.arange(-5, 5, 0.01)\n",
        "\n",
        "# cria uma matriz de coordenadas\n",
        "xs, ys = np.meshgrid(pontos, pontos)\n",
        "\n",
        "z = np.sqrt(xs ** 2 + ys ** 2)\n",
        "\n",
        "plt.imshow(z, cmap=plt.cm.gray); plt.colorbar()\n",
        "plt.title(\"Image plot of $\\sqrt{x^2 + y^2}$ for a grid of values\")"
      ],
      "execution_count": 295,
      "outputs": [
        {
          "output_type": "execute_result",
          "data": {
            "text/plain": [
              "Text(0.5, 1.0, 'Image plot of $\\\\sqrt{x^2 + y^2}$ for a grid of values')"
            ]
          },
          "metadata": {
            "tags": []
          },
          "execution_count": 295
        },
        {
          "output_type": "display_data",
          "data": {
            "image/png": "[encoded data removed]",
            "text/plain": [
              "<Figure size 720x288 with 2 Axes>"
            ]
          },
          "metadata": {
            "tags": [],
            "needs_background": "light"
          }
        }
      ]
    },
    {
      "cell_type": "code",
      "metadata": {
        "colab": {
          "base_uri": "https://localhost:8080/",
          "height": 34
        },
        "id": "Ie9sUqJCrOf-",
        "outputId": "37edf15f-d515-4493-8e71-6822eebe60ca"
      },
      "source": [
        "plt.draw()"
      ],
      "execution_count": 296,
      "outputs": [
        {
          "output_type": "display_data",
          "data": {
            "text/plain": [
              "<Figure size 720x288 with 0 Axes>"
            ]
          },
          "metadata": {
            "tags": []
          }
        }
      ]
    },
    {
      "cell_type": "code",
      "metadata": {
        "id": "cyvluPqTrg6n"
      },
      "source": [
        "plt.close('all')"
      ],
      "execution_count": 297,
      "outputs": []
    },
    {
      "cell_type": "markdown",
      "metadata": {
        "id": "_uU8B2lBrrML"
      },
      "source": [
        "### Lógica Condicionais em ndarrays where()"
      ]
    },
    {
      "cell_type": "code",
      "metadata": {
        "id": "SOmVmDBMri7X"
      },
      "source": [
        "xarr = np.array([1.1, 1.2, 1.3, 1.4, 1.5])\n",
        "yarr = np.array([2.1, 2.2, 2.3, 2.4, 2.5])\n",
        "cond = np.array([True, False, True, True, False])"
      ],
      "execution_count": 298,
      "outputs": []
    },
    {
      "cell_type": "code",
      "metadata": {
        "colab": {
          "base_uri": "https://localhost:8080/"
        },
        "id": "ZOuLhNror3v4",
        "outputId": "8585270e-aa9d-4fb9-e683-c54b862e349f"
      },
      "source": [
        "# Junta os elementos nas posições correspondentes das listas\n",
        "list(zip(xarr, yarr, cond))"
      ],
      "execution_count": 301,
      "outputs": [
        {
          "output_type": "execute_result",
          "data": {
            "text/plain": [
              "[(1.1, 2.1, True),\n",
              " (1.2, 2.2, False),\n",
              " (1.3, 2.3, True),\n",
              " (1.4, 2.4, True),\n",
              " (1.5, 2.5, False)]"
            ]
          },
          "metadata": {
            "tags": []
          },
          "execution_count": 301
        }
      ]
    },
    {
      "cell_type": "code",
      "metadata": {
        "colab": {
          "base_uri": "https://localhost:8080/"
        },
        "id": "Nq-jDEtUsBOI",
        "outputId": "957add25-b7fa-46f1-c4f8-27a93143677a"
      },
      "source": [
        "# se o item na lista de condição for True retorna X senão Y\n",
        "resultado = [(x if c else y) for x, y, c in zip(xarr, yarr, cond)]\n",
        "resultado"
      ],
      "execution_count": 303,
      "outputs": [
        {
          "output_type": "execute_result",
          "data": {
            "text/plain": [
              "[1.1, 2.2, 1.3, 1.4, 2.5]"
            ]
          },
          "metadata": {
            "tags": []
          },
          "execution_count": 303
        }
      ]
    },
    {
      "cell_type": "code",
      "metadata": {
        "colab": {
          "base_uri": "https://localhost:8080/"
        },
        "id": "VQlBhGWQs1H7",
        "outputId": "307139cb-51cc-4121-b492-80d745ef0d78"
      },
      "source": [
        "# Usando where para fazer a mesma avaliação. \n",
        "# Se o elemento na lista de condições for True retorna X senão Y\n",
        "resultado = np.where(cond, xarr, yarr)\n",
        "resultado"
      ],
      "execution_count": 309,
      "outputs": [
        {
          "output_type": "execute_result",
          "data": {
            "text/plain": [
              "array([1.1, 2.2, 1.3, 1.4, 2.5])"
            ]
          },
          "metadata": {
            "tags": []
          },
          "execution_count": 309
        }
      ]
    },
    {
      "cell_type": "code",
      "metadata": {
        "colab": {
          "base_uri": "https://localhost:8080/"
        },
        "id": "Pbz1kVy6tNQM",
        "outputId": "c0ff1783-f555-4b21-ad7f-f7ec1ad088c6"
      },
      "source": [
        "# Usando a condição diretamente\n",
        "# Obtem a lista de True/False original\n",
        "np.where(resultado < 2, True, False)"
      ],
      "execution_count": 311,
      "outputs": [
        {
          "output_type": "execute_result",
          "data": {
            "text/plain": [
              "array([ True, False,  True,  True, False])"
            ]
          },
          "metadata": {
            "tags": []
          },
          "execution_count": 311
        }
      ]
    },
    {
      "cell_type": "markdown",
      "metadata": {
        "id": "QyySa6YW1jxR"
      },
      "source": [
        "### Funções estatísticas e matemática, mean(), sum(), cumsum()"
      ]
    },
    {
      "cell_type": "code",
      "metadata": {
        "colab": {
          "base_uri": "https://localhost:8080/"
        },
        "id": "fVgd4FPTt1B1",
        "outputId": "f658daaf-9160-4e62-bcfc-3eef2de21ced"
      },
      "source": [
        "arr = np.arange(1, 16).reshape(3, 5)\n",
        "\n",
        "print(f\"Array original\\n {arr}\\n\")\n",
        "\n",
        "# Calculando como um método do obj\n",
        "# soma e faz a media de todos os elementos\n",
        "print(arr.mean())\n",
        "print(arr.sum())\n",
        "\n",
        "# Calculando como método do numpy\n",
        "# soma e faz a media de todos os elementos\n",
        "print(np.mean(arr))\n",
        "print(np.sum(arr))"
      ],
      "execution_count": 336,
      "outputs": [
        {
          "output_type": "stream",
          "text": [
            "Array original\n",
            " [[ 1  2  3  4  5]\n",
            " [ 6  7  8  9 10]\n",
            " [11 12 13 14 15]]\n",
            "\n",
            "8.0\n",
            "120\n",
            "8.0\n",
            "120\n"
          ],
          "name": "stdout"
        }
      ]
    },
    {
      "cell_type": "code",
      "metadata": {
        "colab": {
          "base_uri": "https://localhost:8080/"
        },
        "id": "R6UOeznc1xQY",
        "outputId": "9ed81863-4190-48f3-a3b9-60157f1aa49c"
      },
      "source": [
        "# axes1: soma das colunas\n",
        "np.sum(arr, axis=1)\n"
      ],
      "execution_count": 320,
      "outputs": [
        {
          "output_type": "execute_result",
          "data": {
            "text/plain": [
              "array([15, 40, 65])"
            ]
          },
          "metadata": {
            "tags": []
          },
          "execution_count": 320
        }
      ]
    },
    {
      "cell_type": "code",
      "metadata": {
        "colab": {
          "base_uri": "https://localhost:8080/"
        },
        "id": "4MmUsYvl3SGl",
        "outputId": "a6004598-c758-48f3-fecb-fef61baa1d62"
      },
      "source": [
        "# axes0: soma das linhas\n",
        "total = np.sum(arr, axis=0)\n",
        "total"
      ],
      "execution_count": 324,
      "outputs": [
        {
          "output_type": "execute_result",
          "data": {
            "text/plain": [
              "array([18, 21, 24, 27, 30])"
            ]
          },
          "metadata": {
            "tags": []
          },
          "execution_count": 324
        }
      ]
    },
    {
      "cell_type": "code",
      "metadata": {
        "colab": {
          "base_uri": "https://localhost:8080/"
        },
        "id": "SsO2BMip3lbF",
        "outputId": "c9b4f8c7-f61f-4c4b-b45b-b433f45c528d"
      },
      "source": [
        "# Soma acumulada\n",
        "total_acumulado_linhas = np.cumsum(arr, axis=0)\n",
        "print(f\"Acum. linhas:\\n {total_acumulado_linhas}\\n\")\n",
        "\n",
        "total_acumulado_col = np.cumsum(arr, axis=1)\n",
        "print(f\"Acum. col:\\n {total_acumulado_col}\\n\")\n"
      ],
      "execution_count": 330,
      "outputs": [
        {
          "output_type": "stream",
          "text": [
            "Acum. linhas:\n",
            " [[ 1  2  3  4  5]\n",
            " [ 7  9 11 13 15]\n",
            " [18 21 24 27 30]]\n",
            "\n",
            "Acum. col:\n",
            " [[ 1  3  6 10 15]\n",
            " [ 6 13 21 30 40]\n",
            " [11 23 36 50 65]]\n",
            "\n"
          ],
          "name": "stdout"
        }
      ]
    },
    {
      "cell_type": "markdown",
      "metadata": {
        "id": "Iuy8n5HY43L5"
      },
      "source": [
        "### Funçoes booleanas any(), all()"
      ]
    },
    {
      "cell_type": "code",
      "metadata": {
        "colab": {
          "base_uri": "https://localhost:8080/"
        },
        "id": "XiW7TCj74Ign",
        "outputId": "601bf464-097e-4847-c749-e27e4688a198"
      },
      "source": [
        "bools_any = np.array([False, False, True, False])\n",
        "\n",
        "# Verifica se existe algum elemento True\n",
        "print(f\"any(): {bools_any.any()}\")\n",
        "\n",
        "bools_all = np.array([True, True, True, True])\n",
        "print(f\"all(): {bools_all.all()}\")\n"
      ],
      "execution_count": 335,
      "outputs": [
        {
          "output_type": "stream",
          "text": [
            "any(): True\n",
            "all(): True\n"
          ],
          "name": "stdout"
        }
      ]
    },
    {
      "cell_type": "markdown",
      "metadata": {
        "id": "0Pdm7byN52uL"
      },
      "source": [
        "### Ordenação sort()"
      ]
    },
    {
      "cell_type": "code",
      "metadata": {
        "colab": {
          "base_uri": "https://localhost:8080/"
        },
        "id": "G_bhm47I5QRx",
        "outputId": "1dec5367-999e-4953-d63b-a42c6ecc9d2a"
      },
      "source": [
        "arr = np.arange(1, 16).reshape(5, 3)\n",
        "np.random.shuffle(arr)\n",
        "\n",
        "print(f\"Array embaralhado:\\n {arr}\")\n",
        "\n",
        "\n",
        "arr.sort(axis=0)\n",
        "print(f\"Array ordernado:\\n {arr}\")\n",
        "\n",
        "arr.sort(axis=1)\n",
        "print(f\"Array ordernado:\\n {arr}\")"
      ],
      "execution_count": 349,
      "outputs": [
        {
          "output_type": "stream",
          "text": [
            "Array embaralhado:\n",
            " [[ 4  5  6]\n",
            " [13 14 15]\n",
            " [10 11 12]\n",
            " [ 1  2  3]\n",
            " [ 7  8  9]]\n",
            "Array ordernado:\n",
            " [[ 1  2  3]\n",
            " [ 4  5  6]\n",
            " [ 7  8  9]\n",
            " [10 11 12]\n",
            " [13 14 15]]\n",
            "Array ordernado:\n",
            " [[ 1  2  3]\n",
            " [ 4  5  6]\n",
            " [ 7  8  9]\n",
            " [10 11 12]\n",
            " [13 14 15]]\n"
          ],
          "name": "stdout"
        }
      ]
    },
    {
      "cell_type": "markdown",
      "metadata": {
        "id": "cpHuKlE07w-Q"
      },
      "source": [
        "Lógica de conjuntos unique()"
      ]
    },
    {
      "cell_type": "code",
      "metadata": {
        "colab": {
          "base_uri": "https://localhost:8080/"
        },
        "id": "-mF57MhC5-HK",
        "outputId": "b911e06f-50ec-464b-a3df-4ec256312c20"
      },
      "source": [
        "print(f\"Lista original de nomes: {nomes}\\n\\n\")\n",
        "\n",
        "nomes_unicos_ordenados = np.unique(nomes)\n",
        "print(f\"Nomes únicos e ordenados {nomes_unicos_ordenados} usando unique()\\n\\n\")\n",
        "\n",
        "# Esta é oura forma de retornar.\n",
        "# Transforma set (elementos únicos) e ordena\n",
        "sorted(set(nomes))"
      ],
      "execution_count": 361,
      "outputs": [
        {
          "output_type": "stream",
          "text": [
            "Lista original de nomes: ['Leandro' 'Aline' 'Carlos' 'Christian' 'Leandro' 'Carlos' 'Aline'\n",
            " 'Christian']\n",
            "\n",
            "\n",
            "Nomes únicos e ordenados ['Aline' 'Carlos' 'Christian' 'Leandro'] usando unique()\n",
            "\n",
            "\n"
          ],
          "name": "stdout"
        },
        {
          "output_type": "execute_result",
          "data": {
            "text/plain": [
              "['Aline', 'Carlos', 'Christian', 'Leandro']"
            ]
          },
          "metadata": {
            "tags": []
          },
          "execution_count": 361
        }
      ]
    },
    {
      "cell_type": "code",
      "metadata": {
        "id": "p3sNoBFK_4C4"
      },
      "source": [
        ""
      ],
      "execution_count": 357,
      "outputs": []
    }
  ]
}