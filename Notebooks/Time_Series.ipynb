{
  "nbformat": 4,
  "nbformat_minor": 0,
  "metadata": {
    "colab": {
      "name": "Time Series.ipynb",
      "provenance": [],
      "collapsed_sections": [],
      "toc_visible": true,
      "authorship_tag": "ABX9TyOCSuaS43CZb7TNQn97U1FV",
      "include_colab_link": true
    },
    "kernelspec": {
      "name": "python3",
      "display_name": "Python 3"
    },
    "language_info": {
      "name": "python"
    }
  },
  "cells": [
    {
      "cell_type": "markdown",
      "metadata": {
        "id": "view-in-github",
        "colab_type": "text"
      },
      "source": [
        "<a href=\"https://colab.research.google.com/github/leandrobarbieri/pydata-book/blob/2nd-edition/Time_Series.ipynb\" target=\"_parent\"><img src=\"https://colab.research.google.com/assets/colab-badge.svg\" alt=\"Open In Colab\"/></a>"
      ]
    },
    {
      "cell_type": "markdown",
      "metadata": {
        "id": "Q4oaYil4uCX8"
      },
      "source": [
        "# Time Series\n",
        "Timestamps, períodos, intervalos"
      ]
    },
    {
      "cell_type": "code",
      "metadata": {
        "id": "OGelMMGdt7st"
      },
      "source": [
        "import numpy as np\n",
        "import pandas as pd\n",
        "np.random.seed(12345)\n",
        "import matplotlib.pyplot as plt\n",
        "plt.rc('figure', figsize=(10, 6))\n",
        "PREVIOUS_MAX_ROWS = pd.options.display.max_rows\n",
        "pd.options.display.max_rows = 20\n",
        "np.set_printoptions(precision=4, suppress=True)"
      ],
      "execution_count": null,
      "outputs": []
    },
    {
      "cell_type": "markdown",
      "metadata": {
        "id": "PJQmzhj_v6gd"
      },
      "source": [
        "# Operações com datas"
      ]
    },
    {
      "cell_type": "code",
      "metadata": {
        "colab": {
          "base_uri": "https://localhost:8080/"
        },
        "id": "lHsKw8bXt-G7",
        "outputId": "36980bdd-fa57-4893-9759-2b228fafec46"
      },
      "source": [
        "from datetime import datetime\n",
        "agora = datetime.now()\n",
        "utc = datetime.utcnow()\n",
        "\n",
        "agora.year\n",
        "agora.month\n",
        "agora.day\n",
        "agora"
      ],
      "execution_count": null,
      "outputs": [
        {
          "output_type": "execute_result",
          "data": {
            "text/plain": [
              "datetime.datetime(2021, 8, 11, 14, 6, 8, 731871)"
            ]
          },
          "metadata": {
            "tags": []
          },
          "execution_count": 3
        }
      ]
    },
    {
      "cell_type": "code",
      "metadata": {
        "colab": {
          "base_uri": "https://localhost:8080/"
        },
        "id": "Wh4IMtOrubm8",
        "outputId": "02524988-960d-4adc-9e17-8c9fa22f44d0"
      },
      "source": [
        "# aterar hora\n",
        "agora.replace(minute=10, hour=10, second=10)"
      ],
      "execution_count": null,
      "outputs": [
        {
          "output_type": "execute_result",
          "data": {
            "text/plain": [
              "datetime.datetime(2021, 8, 11, 10, 10, 10, 731871)"
            ]
          },
          "metadata": {
            "tags": []
          },
          "execution_count": 4
        }
      ]
    },
    {
      "cell_type": "code",
      "metadata": {
        "colab": {
          "base_uri": "https://localhost:8080/"
        },
        "id": "nOuOvuWtuy77",
        "outputId": "3daff441-d327-43b1-9a2d-4b754a791eff"
      },
      "source": [
        "# definir uma data\n",
        "evento = datetime(2021, 8, 1)\n",
        "evento"
      ],
      "execution_count": null,
      "outputs": [
        {
          "output_type": "execute_result",
          "data": {
            "text/plain": [
              "datetime.datetime(2021, 8, 1, 0, 0)"
            ]
          },
          "metadata": {
            "tags": []
          },
          "execution_count": 5
        }
      ]
    },
    {
      "cell_type": "code",
      "metadata": {
        "colab": {
          "base_uri": "https://localhost:8080/"
        },
        "id": "D-sTMaK-vNRM",
        "outputId": "dc20fed0-f0d5-4e19-ad53-4b832e3a2cb0"
      },
      "source": [
        "# diferença entre datas retorna um obj do tipo timedelta\n",
        "delta = agora - evento\n",
        "print(delta)\n",
        "print(f\"Desde o evento já se passaram {delta.days} dias e {delta.seconds // 3600} horas.\")"
      ],
      "execution_count": null,
      "outputs": [
        {
          "output_type": "stream",
          "text": [
            "10 days, 14:06:08.731871\n",
            "Desde o evento já se passaram 10 dias e 14 horas.\n"
          ],
          "name": "stdout"
        }
      ]
    },
    {
      "cell_type": "code",
      "metadata": {
        "colab": {
          "base_uri": "https://localhost:8080/"
        },
        "id": "KlztlfJovcl7",
        "outputId": "406ec6d8-4e5d-4100-ebcb-c0c1dd34e0b5"
      },
      "source": [
        "# soma retorna uma nova data e uma subtração retorna um delta\n",
        "evento + delta"
      ],
      "execution_count": null,
      "outputs": [
        {
          "output_type": "execute_result",
          "data": {
            "text/plain": [
              "datetime.datetime(2021, 8, 11, 14, 6, 8, 731871)"
            ]
          },
          "metadata": {
            "tags": []
          },
          "execution_count": 7
        }
      ]
    },
    {
      "cell_type": "code",
      "metadata": {
        "colab": {
          "base_uri": "https://localhost:8080/"
        },
        "id": "Ms3SYhfIyO6f",
        "outputId": "780e06b0-b96f-4280-c6ae-c4d68e608511"
      },
      "source": [
        "# dia da semana \n",
        "# usar tupla porque essa lista é imutavel\n",
        "dias = (\"Segunda\", \"Terça\", \"Quarta\", \"Quinta\", \"Sexta\", \"Sabado\", \"Domingo\")\n",
        "\n",
        "print(dias[agora.weekday()])\n",
        "\n",
        "print(f\"Dia que nasci: {dias[datetime(day=14, month=10, year=1985).weekday()]}\")"
      ],
      "execution_count": null,
      "outputs": [
        {
          "output_type": "stream",
          "text": [
            "Quarta\n",
            "Dia que nasci: Segunda\n"
          ],
          "name": "stdout"
        }
      ]
    },
    {
      "cell_type": "markdown",
      "metadata": {
        "id": "OfaRnsizxZ8-"
      },
      "source": [
        "# Conversão string e datetime"
      ]
    },
    {
      "cell_type": "markdown",
      "metadata": {
        "id": "ezsL5FU2uW5j"
      },
      "source": [
        "### strftime e strptime"
      ]
    },
    {
      "cell_type": "code",
      "metadata": {
        "colab": {
          "base_uri": "https://localhost:8080/"
        },
        "id": "7xywTepewYBU",
        "outputId": "bbfc2be1-bf35-45d1-f081-576cc5b8851c"
      },
      "source": [
        "# data para > string\n",
        "print(f\"Hoje (sem formatação): {agora}\")\n",
        "\n",
        "hoje_formatado = agora.strftime(\"%d/%m/%Y\")\n",
        "print(f\"Hoje (formatado dd/mm/aaaa): {hoje_formatado}\")\n",
        "\n",
        "hoje_formatado = agora.strftime(\"%m/%d/%y\")\n",
        "print(f\"Hoje (formatado mm/dd/aa): {hoje_formatado}\")\n",
        "\n",
        "hoje_formatado = agora.strftime(\"%d/%B/%y\")\n",
        "print(f\"Hoje (formatado): {hoje_formatado}\")"
      ],
      "execution_count": null,
      "outputs": [
        {
          "output_type": "stream",
          "text": [
            "Hoje (sem formatação): 2021-08-11 14:06:08.731871\n",
            "Hoje (formatado dd/mm/aaaa): 11/08/2021\n",
            "Hoje (formatado mm/dd/aa): 08/11/21\n",
            "Hoje (formatado): 11/August/21\n"
          ],
          "name": "stdout"
        }
      ]
    },
    {
      "cell_type": "code",
      "metadata": {
        "colab": {
          "base_uri": "https://localhost:8080/"
        },
        "id": "Isg37LlEzLMn",
        "outputId": "864bcafa-2a3e-404c-97fe-147427173afd"
      },
      "source": [
        "# String para > data. É diferente de strftime(), strftime é método do objeto e strptime é metodo da classe datetime\n",
        "nascimento = datetime.strptime(\"10/31/2021\", \"%m/%d/%Y\")\n",
        "print(nascimento)\n",
        "print(type(nascimento))"
      ],
      "execution_count": null,
      "outputs": [
        {
          "output_type": "stream",
          "text": [
            "2021-10-31 00:00:00\n",
            "<class 'datetime.datetime'>\n"
          ],
          "name": "stdout"
        }
      ]
    },
    {
      "cell_type": "code",
      "metadata": {
        "colab": {
          "base_uri": "https://localhost:8080/"
        },
        "id": "iwetaBGQzqrv",
        "outputId": "90182962-e522-4e1e-df1d-b14b26a95bfc"
      },
      "source": [
        "# converte uma lista de datas no formato str\n",
        "datestrs = ['7/6/2011', '8/6/2011', '18/10/2021']\n",
        "datestrs = [datetime.strptime(dt, \"%d/%m/%Y\") for dt in datestrs]\n",
        "datestrs"
      ],
      "execution_count": null,
      "outputs": [
        {
          "output_type": "execute_result",
          "data": {
            "text/plain": [
              "[datetime.datetime(2011, 6, 7, 0, 0),\n",
              " datetime.datetime(2011, 6, 8, 0, 0),\n",
              " datetime.datetime(2021, 10, 18, 0, 0)]"
            ]
          },
          "metadata": {
            "tags": []
          },
          "execution_count": 17
        }
      ]
    },
    {
      "cell_type": "markdown",
      "metadata": {
        "id": "DmhRWAs6uPlw"
      },
      "source": [
        "### parse"
      ]
    },
    {
      "cell_type": "code",
      "metadata": {
        "colab": {
          "base_uri": "https://localhost:8080/"
        },
        "id": "kCJbJwvxiJTb",
        "outputId": "1a3e7d42-7ea4-4fe6-b047-ad73ea7e7025"
      },
      "source": [
        "# Parse: uma alternativa para simplificar o mapeamento das strs para datas sem passar o formato\n",
        "from dateutil.parser import parse\n",
        "\n",
        "# faz a conversão mesmo com tipos de formatos diferentes\n",
        "datesparse = ['7/06/2011', '8/16/2011', '18/10/2021', 'Jan 31, 1997 10:45 PM', None]\n",
        "\n",
        "# daysfirst informa o padrão de reconhecimento\n",
        "# mesmo que o dia esteja no lugar do mês ele reconhece que é maior que 12 e trata como dia\n",
        "# precisa tratar os valores None senão retorna erro\n",
        "datesparse = [parse(dt, dayfirst=True) for dt in datesparse if dt != None]\n",
        "datesparse"
      ],
      "execution_count": null,
      "outputs": [
        {
          "output_type": "execute_result",
          "data": {
            "text/plain": [
              "[datetime.datetime(2011, 6, 7, 0, 0),\n",
              " datetime.datetime(2011, 8, 16, 0, 0),\n",
              " datetime.datetime(2021, 10, 18, 0, 0),\n",
              " datetime.datetime(1997, 1, 31, 22, 45)]"
            ]
          },
          "metadata": {
            "tags": []
          },
          "execution_count": 28
        }
      ]
    },
    {
      "cell_type": "markdown",
      "metadata": {
        "id": "yBb4N5eyuLG9"
      },
      "source": [
        "### to_datetime"
      ]
    },
    {
      "cell_type": "code",
      "metadata": {
        "colab": {
          "base_uri": "https://localhost:8080/"
        },
        "id": "WP5ygo31iyeC",
        "outputId": "c6b38959-8f7b-42f8-e7de-186f47dcbfdb"
      },
      "source": [
        "# o parse com to_datetime funciona igual, mas trata os erros, inserie como NaT (Not a Time)\n",
        "# retorna um obj do tipo DatetimeIndex com algumas propriedades adicionais \n",
        "dates_todatetime = ['2/01/2011', '7/06/2011', '8/16/2011', '8/16/2011', '18/10/2021', 'Jan 31, 1997 10:45 PM', None]\n",
        "dates_todatetime = pd.to_datetime(dates_todatetime)\n",
        "\n",
        "dates_todatetime.name = \"Indice_DateTime\"\n",
        "\n",
        "# propriedades adicionais de um indice\n",
        "print(dates_todatetime)\n",
        "print(\"---------------------\")\n",
        "print(type(dates_todatetime))\n",
        "print(dates_todatetime.is_unique)\n",
        "print(dates_todatetime.name)\n",
        "print(\"---------------------\")\n",
        "print(pd.isnull(dates_todatetime))\n",
        "print(\"---------------------\")\n",
        "\n",
        "# tratando o ultimo valor que é NaT com fillna\n",
        "dates_todatetime = dates_todatetime.fillna(datetime.now())\n",
        "dates_todatetime"
      ],
      "execution_count": null,
      "outputs": [
        {
          "output_type": "stream",
          "text": [
            "DatetimeIndex(['2011-02-01 00:00:00', '2011-07-06 00:00:00',\n",
            "               '2011-08-16 00:00:00', '2011-08-16 00:00:00',\n",
            "               '2021-10-18 00:00:00', '1997-01-31 22:45:00',\n",
            "                               'NaT'],\n",
            "              dtype='datetime64[ns]', name='Indice_DateTime', freq=None)\n",
            "---------------------\n",
            "<class 'pandas.core.indexes.datetimes.DatetimeIndex'>\n",
            "False\n",
            "Indice_DateTime\n",
            "---------------------\n",
            "[False False False False False False  True]\n",
            "---------------------\n"
          ],
          "name": "stdout"
        },
        {
          "output_type": "execute_result",
          "data": {
            "text/plain": [
              "DatetimeIndex([       '2011-02-01 00:00:00',        '2011-07-06 00:00:00',\n",
              "                      '2011-08-16 00:00:00',        '2011-08-16 00:00:00',\n",
              "                      '2021-10-18 00:00:00',        '1997-01-31 22:45:00',\n",
              "               '2021-08-11 14:43:06.047138'],\n",
              "              dtype='datetime64[ns]', name='Indice_DateTime', freq=None)"
            ]
          },
          "metadata": {
            "tags": []
          },
          "execution_count": 50
        }
      ]
    },
    {
      "cell_type": "markdown",
      "metadata": {
        "id": "-dxk5gUWpBRv"
      },
      "source": [
        "# Series Temporais\n",
        "São series indexadas por datas"
      ]
    },
    {
      "cell_type": "code",
      "metadata": {
        "colab": {
          "base_uri": "https://localhost:8080/"
        },
        "id": "fmWIVfRQmbC7",
        "outputId": "863ff36d-f5fc-4d3f-fbce-ff63166796b4"
      },
      "source": [
        "dates_list = [datetime(2011, 2, 1), datetime(2011, 1, 5), datetime(2011, 1, 7), datetime(2011, 1, 8), datetime(2011, 1, 10), datetime(2011, 1, 12)]\n",
        "\n",
        "# series indexada por datas\n",
        "time_series = pd.Series(np.random.randn(6), index=dates_list, name=\"time_series\")\n",
        "time_series.index"
      ],
      "execution_count": null,
      "outputs": [
        {
          "output_type": "execute_result",
          "data": {
            "text/plain": [
              "DatetimeIndex(['2011-02-01', '2011-01-05', '2011-01-07', '2011-01-08',\n",
              "               '2011-01-10', '2011-01-12'],\n",
              "              dtype='datetime64[ns]', freq=None)"
            ]
          },
          "metadata": {
            "tags": []
          },
          "execution_count": 55
        }
      ]
    },
    {
      "cell_type": "code",
      "metadata": {
        "colab": {
          "base_uri": "https://localhost:8080/"
        },
        "id": "M5y0ZfVapji1",
        "outputId": "d4dfc3af-9096-4cca-aafb-20669ed412de"
      },
      "source": [
        "# criando um novo ts usando a lista de dadas criadas anteriormente.\n",
        "time_series2 = pd.Series(np.random.randn(7), index=dates_todatetime, name=\"time_series2\")\n",
        "time_series2.index"
      ],
      "execution_count": null,
      "outputs": [
        {
          "output_type": "execute_result",
          "data": {
            "text/plain": [
              "DatetimeIndex([       '2011-02-01 00:00:00',        '2011-07-06 00:00:00',\n",
              "                      '2011-08-16 00:00:00',        '2011-08-16 00:00:00',\n",
              "                      '2021-10-18 00:00:00',        '1997-01-31 22:45:00',\n",
              "               '2021-08-11 14:43:06.047138'],\n",
              "              dtype='datetime64[ns]', name='Indice_DateTime', freq=None)"
            ]
          },
          "metadata": {
            "tags": []
          },
          "execution_count": 56
        }
      ]
    },
    {
      "cell_type": "markdown",
      "metadata": {
        "id": "ifkK4fFCuCJC"
      },
      "source": [
        "### operações entre series indexadas por datas"
      ]
    },
    {
      "cell_type": "code",
      "metadata": {
        "colab": {
          "base_uri": "https://localhost:8080/"
        },
        "id": "QOmegBhrqirY",
        "outputId": "f7f59d10-c1d9-41db-d501-ed7d9efd2519"
      },
      "source": [
        "# operações entre series indexadas por datas\n",
        "# ao fazer o alinhamento entre series pelo indice\n",
        "\n",
        "# pareamento das chaves e o calculo de soma\n",
        "ts_soma = time_series + time_series2\n",
        "\n",
        "# no dia 01/02/2011 existe uma correspondencia entre as chaves\n",
        "ts_soma.dropna()\n",
        "#ts_soma[ts_soma.notnull()]"
      ],
      "execution_count": null,
      "outputs": [
        {
          "output_type": "execute_result",
          "data": {
            "text/plain": [
              "2011-02-01   -2.314266\n",
              "dtype: float64"
            ]
          },
          "metadata": {
            "tags": []
          },
          "execution_count": 60
        }
      ]
    },
    {
      "cell_type": "markdown",
      "metadata": {
        "id": "HYwF_ik4vew7"
      },
      "source": [
        "## Filtrar series temporais (slice)"
      ]
    },
    {
      "cell_type": "code",
      "metadata": {
        "colab": {
          "base_uri": "https://localhost:8080/"
        },
        "id": "JVYnx441supD",
        "outputId": "cab5f8e4-f5b9-4f2e-e38e-c39fa91a153e"
      },
      "source": [
        "time_series"
      ],
      "execution_count": null,
      "outputs": [
        {
          "output_type": "execute_result",
          "data": {
            "text/plain": [
              "2011-02-01   -0.010032\n",
              "2011-01-05    0.050009\n",
              "2011-01-07    0.670216\n",
              "2011-01-08    0.852965\n",
              "2011-01-10   -0.955869\n",
              "2011-01-12   -0.023493\n",
              "Name: time_series, dtype: float64"
            ]
          },
          "metadata": {
            "tags": []
          },
          "execution_count": 61
        }
      ]
    },
    {
      "cell_type": "code",
      "metadata": {
        "colab": {
          "base_uri": "https://localhost:8080/"
        },
        "id": "8Xs4qRYRvhyz",
        "outputId": "ccd619ae-591d-4530-cedc-120af6c1d2a4"
      },
      "source": [
        "# Podemos usar uma string interpretável\n",
        "# Filtrar apenas as datas maiores que 2011-01-07\n",
        "time_series['2011-01-07':]"
      ],
      "execution_count": null,
      "outputs": [
        {
          "output_type": "execute_result",
          "data": {
            "text/plain": [
              "2011-01-07    0.670216\n",
              "2011-01-08    0.852965\n",
              "2011-01-10   -0.955869\n",
              "2011-01-12   -0.023493\n",
              "Name: time_series, dtype: float64"
            ]
          },
          "metadata": {
            "tags": []
          },
          "execution_count": 62
        }
      ]
    },
    {
      "cell_type": "code",
      "metadata": {
        "colab": {
          "base_uri": "https://localhost:8080/"
        },
        "id": "mRO-GZSpvm-O",
        "outputId": "6606728e-b109-44e6-a22a-726343d32405"
      },
      "source": [
        "# Filtrar dois dias específicos\n",
        "time_series[['2011-01-07', '2011-01-12']]"
      ],
      "execution_count": null,
      "outputs": [
        {
          "output_type": "execute_result",
          "data": {
            "text/plain": [
              "2011-01-07    0.670216\n",
              "2011-01-12   -0.023493\n",
              "Name: time_series, dtype: float64"
            ]
          },
          "metadata": {
            "tags": []
          },
          "execution_count": 64
        }
      ]
    },
    {
      "cell_type": "code",
      "metadata": {
        "colab": {
          "base_uri": "https://localhost:8080/"
        },
        "id": "xTRcWLwMv-bK",
        "outputId": "d699f4e7-f0f7-41a5-a277-c331ea3fe938"
      },
      "source": [
        "# Filtrar usando um indice sequencial implicito\n",
        "time_series[2:4]"
      ],
      "execution_count": null,
      "outputs": [
        {
          "output_type": "execute_result",
          "data": {
            "text/plain": [
              "2011-01-07    0.670216\n",
              "2011-01-08    0.852965\n",
              "Name: time_series, dtype: float64"
            ]
          },
          "metadata": {
            "tags": []
          },
          "execution_count": 66
        }
      ]
    },
    {
      "cell_type": "code",
      "metadata": {
        "colab": {
          "base_uri": "https://localhost:8080/"
        },
        "id": "Cq1eE2D-wFRY",
        "outputId": "b57d6d63-3bcf-4c16-e279-280bc7d20960"
      },
      "source": [
        "# em series temporais mais longas um ano ou um mês podem ser usado como filtro de período\n",
        "\n",
        "# criar uma serie longa\n",
        "idx_datarange = pd.date_range(start=\"2020-01-01\", end=\"2021-12-31\")\n",
        "time_series_grande = pd.Series(np.arange(len(idx_datarange)), index=idx_datarange)\n",
        "time_series_grande"
      ],
      "execution_count": null,
      "outputs": [
        {
          "output_type": "execute_result",
          "data": {
            "text/plain": [
              "2020-01-01      0\n",
              "2020-01-02      1\n",
              "2020-01-03      2\n",
              "2020-01-04      3\n",
              "2020-01-05      4\n",
              "             ... \n",
              "2021-12-27    726\n",
              "2021-12-28    727\n",
              "2021-12-29    728\n",
              "2021-12-30    729\n",
              "2021-12-31    730\n",
              "Freq: D, Length: 731, dtype: int64"
            ]
          },
          "metadata": {
            "tags": []
          },
          "execution_count": 69
        }
      ]
    },
    {
      "cell_type": "code",
      "metadata": {
        "colab": {
          "base_uri": "https://localhost:8080/"
        },
        "id": "YLyshAcDxSf4",
        "outputId": "73a81020-6ed8-41f3-e410-6548abaa51cb"
      },
      "source": [
        "# filtar todos os dias do ano 2021\n",
        "time_series_grande[\"2021\"]"
      ],
      "execution_count": null,
      "outputs": [
        {
          "output_type": "execute_result",
          "data": {
            "text/plain": [
              "2021-01-01    366\n",
              "2021-01-02    367\n",
              "2021-01-03    368\n",
              "2021-01-04    369\n",
              "2021-01-05    370\n",
              "             ... \n",
              "2021-12-27    726\n",
              "2021-12-28    727\n",
              "2021-12-29    728\n",
              "2021-12-30    729\n",
              "2021-12-31    730\n",
              "Freq: D, Length: 365, dtype: int64"
            ]
          },
          "metadata": {
            "tags": []
          },
          "execution_count": 70
        }
      ]
    },
    {
      "cell_type": "code",
      "metadata": {
        "colab": {
          "base_uri": "https://localhost:8080/"
        },
        "id": "TKwovytQxhvV",
        "outputId": "ece5145b-dd5b-422b-d3fd-59d116da9307"
      },
      "source": [
        "# filtrar um mês do ano\n",
        "time_series_grande[\"2021-12\"]"
      ],
      "execution_count": null,
      "outputs": [
        {
          "output_type": "execute_result",
          "data": {
            "text/plain": [
              "2021-12-01    700\n",
              "2021-12-02    701\n",
              "2021-12-03    702\n",
              "2021-12-04    703\n",
              "2021-12-05    704\n",
              "             ... \n",
              "2021-12-27    726\n",
              "2021-12-28    727\n",
              "2021-12-29    728\n",
              "2021-12-30    729\n",
              "2021-12-31    730\n",
              "Freq: D, Length: 31, dtype: int64"
            ]
          },
          "metadata": {
            "tags": []
          },
          "execution_count": 72
        }
      ]
    },
    {
      "cell_type": "code",
      "metadata": {
        "colab": {
          "base_uri": "https://localhost:8080/"
        },
        "id": "hewb3sFex1XL",
        "outputId": "f68bed8d-ca01-4590-e626-0c2ec4e6a2cf"
      },
      "source": [
        "# filtrar um periodo\n",
        "time_series_grande[\"2021-12-01\": \"2021-12-05\"]"
      ],
      "execution_count": null,
      "outputs": [
        {
          "output_type": "execute_result",
          "data": {
            "text/plain": [
              "2021-12-01    700\n",
              "2021-12-02    701\n",
              "2021-12-03    702\n",
              "2021-12-04    703\n",
              "2021-12-05    704\n",
              "Freq: D, dtype: int64"
            ]
          },
          "metadata": {
            "tags": []
          },
          "execution_count": 73
        }
      ]
    },
    {
      "cell_type": "code",
      "metadata": {
        "colab": {
          "base_uri": "https://localhost:8080/"
        },
        "id": "KUWdz9xZyE-T",
        "outputId": "5b91a2d1-9c9a-4ed9-a34d-54a72f3264e4"
      },
      "source": [
        "# remove todas as linhas \"depois\" de 2020-12-31\n",
        "time_series_grande.truncate(after=\"2020-12-31\")"
      ],
      "execution_count": null,
      "outputs": [
        {
          "output_type": "execute_result",
          "data": {
            "text/plain": [
              "2020-01-01      0\n",
              "2020-01-02      1\n",
              "2020-01-03      2\n",
              "2020-01-04      3\n",
              "2020-01-05      4\n",
              "             ... \n",
              "2020-12-27    361\n",
              "2020-12-28    362\n",
              "2020-12-29    363\n",
              "2020-12-30    364\n",
              "2020-12-31    365\n",
              "Freq: D, Length: 366, dtype: int64"
            ]
          },
          "metadata": {
            "tags": []
          },
          "execution_count": 75
        }
      ]
    },
    {
      "cell_type": "markdown",
      "metadata": {
        "id": "T4b-KkZ4zyvY"
      },
      "source": [
        "## Indices de data duplicados"
      ]
    },
    {
      "cell_type": "code",
      "metadata": {
        "colab": {
          "base_uri": "https://localhost:8080/"
        },
        "id": "Kfjamp4GzT1b",
        "outputId": "a0f8452c-39fc-4b04-82b5-83bff1381df6"
      },
      "source": [
        "dates = pd.DatetimeIndex(['1/1/2000', '1/2/2000', '1/2/2000',\n",
        "                          '1/2/2000', '1/3/2000'])\n",
        "dup_ts = pd.Series(np.arange(5), index=dates)\n",
        "dup_ts"
      ],
      "execution_count": null,
      "outputs": [
        {
          "output_type": "execute_result",
          "data": {
            "text/plain": [
              "2000-01-01    0\n",
              "2000-01-02    1\n",
              "2000-01-02    2\n",
              "2000-01-02    3\n",
              "2000-01-03    4\n",
              "dtype: int64"
            ]
          },
          "metadata": {
            "tags": []
          },
          "execution_count": 80
        }
      ]
    },
    {
      "cell_type": "code",
      "metadata": {
        "colab": {
          "base_uri": "https://localhost:8080/"
        },
        "id": "t3eNTxbSz9f4",
        "outputId": "b748f2ad-e96f-4883-d85a-ed476b2998b4"
      },
      "source": [
        "# possiu indice duplicado\n",
        "dup_ts.index.is_unique"
      ],
      "execution_count": null,
      "outputs": [
        {
          "output_type": "execute_result",
          "data": {
            "text/plain": [
              "False"
            ]
          },
          "metadata": {
            "tags": []
          },
          "execution_count": 83
        }
      ]
    },
    {
      "cell_type": "code",
      "metadata": {
        "colab": {
          "base_uri": "https://localhost:8080/"
        },
        "id": "Ol2QgR_90f7g",
        "outputId": "9cd262d7-723a-45d8-9ddb-672a8b47324b"
      },
      "source": [
        "# agregação para identificar o grau de duplicação para tratar ou agregar\n",
        "dup_ts.groupby(level=0).count()"
      ],
      "execution_count": null,
      "outputs": [
        {
          "output_type": "execute_result",
          "data": {
            "text/plain": [
              "2000-01-01    0\n",
              "2000-01-02    1\n",
              "2000-01-02    2\n",
              "2000-01-02    3\n",
              "2000-01-03    4\n",
              "dtype: int64"
            ]
          },
          "metadata": {
            "tags": []
          },
          "execution_count": 85
        }
      ]
    },
    {
      "cell_type": "code",
      "metadata": {
        "colab": {
          "base_uri": "https://localhost:8080/"
        },
        "id": "Q8oiqbnX06fv",
        "outputId": "1c63508c-9063-462b-d1dc-9c8de0fc1811"
      },
      "source": [
        "# atualiza a series apenas com os valores agregados. Agrega os duplicados usando a média \n",
        "dup_ts = dup_ts.groupby(level=0).mean()\n",
        "\n",
        "print(f\"O índice é unico? {dup_ts.is_unique}\\n\")\n",
        "\n",
        "dup_ts"
      ],
      "execution_count": 88,
      "outputs": [
        {
          "output_type": "stream",
          "text": [
            "O índice é unico? True\n",
            "\n"
          ],
          "name": "stdout"
        },
        {
          "output_type": "execute_result",
          "data": {
            "text/plain": [
              "2000-01-01    0\n",
              "2000-01-02    2\n",
              "2000-01-03    4\n",
              "dtype: int64"
            ]
          },
          "metadata": {
            "tags": []
          },
          "execution_count": 88
        }
      ]
    },
    {
      "cell_type": "markdown",
      "metadata": {
        "id": "XMOb6FTxNwNz"
      },
      "source": [
        "## Ranges de Datas"
      ]
    },
    {
      "cell_type": "code",
      "metadata": {
        "id": "SUIk9Sxz1lGy",
        "colab": {
          "base_uri": "https://localhost:8080/"
        },
        "outputId": "2d28fd6f-9a8d-46fa-890b-221ba461ed56"
      },
      "source": [
        "# criando um range a partir de uma data inicial. As datas avançam\n",
        "pd.date_range(start='2012-04-01', periods=20)"
      ],
      "execution_count": 89,
      "outputs": [
        {
          "output_type": "execute_result",
          "data": {
            "text/plain": [
              "DatetimeIndex(['2012-04-01', '2012-04-02', '2012-04-03', '2012-04-04',\n",
              "               '2012-04-05', '2012-04-06', '2012-04-07', '2012-04-08',\n",
              "               '2012-04-09', '2012-04-10', '2012-04-11', '2012-04-12',\n",
              "               '2012-04-13', '2012-04-14', '2012-04-15', '2012-04-16',\n",
              "               '2012-04-17', '2012-04-18', '2012-04-19', '2012-04-20'],\n",
              "              dtype='datetime64[ns]', freq='D')"
            ]
          },
          "metadata": {
            "tags": []
          },
          "execution_count": 89
        }
      ]
    },
    {
      "cell_type": "code",
      "metadata": {
        "colab": {
          "base_uri": "https://localhost:8080/"
        },
        "id": "I7fARvcEOfI0",
        "outputId": "03d5ce5b-338f-44ca-c623-24a9c4976f17"
      },
      "source": [
        "# criando um range de datas a partir da data final. As datas voltam\n",
        "pd.date_range(end='2012-06-01', periods=20)"
      ],
      "execution_count": 90,
      "outputs": [
        {
          "output_type": "execute_result",
          "data": {
            "text/plain": [
              "DatetimeIndex(['2012-05-13', '2012-05-14', '2012-05-15', '2012-05-16',\n",
              "               '2012-05-17', '2012-05-18', '2012-05-19', '2012-05-20',\n",
              "               '2012-05-21', '2012-05-22', '2012-05-23', '2012-05-24',\n",
              "               '2012-05-25', '2012-05-26', '2012-05-27', '2012-05-28',\n",
              "               '2012-05-29', '2012-05-30', '2012-05-31', '2012-06-01'],\n",
              "              dtype='datetime64[ns]', freq='D')"
            ]
          },
          "metadata": {
            "tags": []
          },
          "execution_count": 90
        }
      ]
    },
    {
      "cell_type": "code",
      "metadata": {
        "colab": {
          "base_uri": "https://localhost:8080/"
        },
        "id": "CVxlDKlSOp5P",
        "outputId": "76805b85-3907-4645-dfc8-e62d83445dfb"
      },
      "source": [
        "# Criando um range usando um período. freq=\"D\" uma data por dia no período\n",
        "date_index = pd.date_range(start=\"2020-01-01\", end=\"2021-12-31\", freq=\"D\")\n",
        "date_index"
      ],
      "execution_count": 98,
      "outputs": [
        {
          "output_type": "execute_result",
          "data": {
            "text/plain": [
              "DatetimeIndex(['2020-01-01', '2020-01-02', '2020-01-03', '2020-01-04',\n",
              "               '2020-01-05', '2020-01-06', '2020-01-07', '2020-01-08',\n",
              "               '2020-01-09', '2020-01-10',\n",
              "               ...\n",
              "               '2021-12-22', '2021-12-23', '2021-12-24', '2021-12-25',\n",
              "               '2021-12-26', '2021-12-27', '2021-12-28', '2021-12-29',\n",
              "               '2021-12-30', '2021-12-31'],\n",
              "              dtype='datetime64[ns]', length=731, freq='D')"
            ]
          },
          "metadata": {
            "tags": []
          },
          "execution_count": 98
        }
      ]
    },
    {
      "cell_type": "code",
      "metadata": {
        "colab": {
          "base_uri": "https://localhost:8080/"
        },
        "id": "e_LBrr_BPRP-",
        "outputId": "c59ca045-5e3c-485a-f210-86179c04b7d6"
      },
      "source": [
        "# altera da freq=\"BM\", a ultima data de cada mês do período.\n",
        "date_index = pd.date_range(start=\"2020-01-01\", end=\"2021-12-31\", freq=\"BM\")\n",
        "date_index"
      ],
      "execution_count": 99,
      "outputs": [
        {
          "output_type": "execute_result",
          "data": {
            "text/plain": [
              "DatetimeIndex(['2020-01-31', '2020-02-28', '2020-03-31', '2020-04-30',\n",
              "               '2020-05-29', '2020-06-30', '2020-07-31', '2020-08-31',\n",
              "               '2020-09-30', '2020-10-30', '2020-11-30', '2020-12-31',\n",
              "               '2021-01-29', '2021-02-26', '2021-03-31', '2021-04-30',\n",
              "               '2021-05-31', '2021-06-30', '2021-07-30', '2021-08-31',\n",
              "               '2021-09-30', '2021-10-29', '2021-11-30', '2021-12-31'],\n",
              "              dtype='datetime64[ns]', freq='BM')"
            ]
          },
          "metadata": {
            "tags": []
          },
          "execution_count": 99
        }
      ]
    },
    {
      "cell_type": "code",
      "metadata": {
        "colab": {
          "base_uri": "https://localhost:8080/"
        },
        "id": "gipaMgJCPgUq",
        "outputId": "ea7089ee-9e3f-42ec-beec-67c071fd917a"
      },
      "source": [
        "# normalize=True remove a parte do horário das datas que tenham horário\n",
        "date_index = pd.date_range(start=datetime.now(), periods=20, normalize=True)\n",
        "date_index"
      ],
      "execution_count": 136,
      "outputs": [
        {
          "output_type": "execute_result",
          "data": {
            "text/plain": [
              "DatetimeIndex(['2021-08-11', '2021-08-12', '2021-08-13', '2021-08-14',\n",
              "               '2021-08-15', '2021-08-16', '2021-08-17', '2021-08-18',\n",
              "               '2021-08-19', '2021-08-20', '2021-08-21', '2021-08-22',\n",
              "               '2021-08-23', '2021-08-24', '2021-08-25', '2021-08-26',\n",
              "               '2021-08-27', '2021-08-28', '2021-08-29', '2021-08-30'],\n",
              "              dtype='datetime64[ns]', freq='D')"
            ]
          },
          "metadata": {
            "tags": []
          },
          "execution_count": 136
        }
      ]
    },
    {
      "cell_type": "code",
      "metadata": {
        "colab": {
          "base_uri": "https://localhost:8080/"
        },
        "id": "z-NzlA1CTRyQ",
        "outputId": "0cd22283-e537-4160-a0ab-72ee11489543"
      },
      "source": [
        "# a cada 1h30min\n",
        "date_index = pd.date_range('2000-01-01', periods=10, freq='1h30min')\n",
        "date_index"
      ],
      "execution_count": 137,
      "outputs": [
        {
          "output_type": "execute_result",
          "data": {
            "text/plain": [
              "DatetimeIndex(['2000-01-01 00:00:00', '2000-01-01 01:30:00',\n",
              "               '2000-01-01 03:00:00', '2000-01-01 04:30:00',\n",
              "               '2000-01-01 06:00:00', '2000-01-01 07:30:00',\n",
              "               '2000-01-01 09:00:00', '2000-01-01 10:30:00',\n",
              "               '2000-01-01 12:00:00', '2000-01-01 13:30:00'],\n",
              "              dtype='datetime64[ns]', freq='90T')"
            ]
          },
          "metadata": {
            "tags": []
          },
          "execution_count": 137
        }
      ]
    },
    {
      "cell_type": "markdown",
      "metadata": {
        "id": "ucNMyjl3WEMF"
      },
      "source": [
        "## Time Zone"
      ]
    },
    {
      "cell_type": "code",
      "metadata": {
        "colab": {
          "base_uri": "https://localhost:8080/"
        },
        "id": "OKEbFDTTVf8J",
        "outputId": "028a2e10-d20e-4473-8517-b71c07f1a434"
      },
      "source": [
        "import pytz\n",
        "# pytz.common_timezones\n",
        "\n",
        "# lista de timezones ultimos 5\n",
        "print(\"US/Eastern\" in pytz.common_timezones[-5:])\n",
        "\n",
        "print(pytz.common_timezones[-5:])"
      ],
      "execution_count": 132,
      "outputs": [
        {
          "output_type": "stream",
          "text": [
            "True\n",
            "['US/Eastern', 'US/Hawaii', 'US/Mountain', 'US/Pacific', 'UTC']\n"
          ],
          "name": "stdout"
        }
      ]
    },
    {
      "cell_type": "code",
      "metadata": {
        "colab": {
          "base_uri": "https://localhost:8080/"
        },
        "id": "mf7mAbS0WMFc",
        "outputId": "13b7ce8b-63e9-4b3d-c81a-8049c4f316dc"
      },
      "source": [
        "# brasil\n",
        "[tz for tz in pytz.common_timezones if tz.startswith(\"America/Sao_Paulo\")]"
      ],
      "execution_count": 124,
      "outputs": [
        {
          "output_type": "execute_result",
          "data": {
            "text/plain": [
              "['America/Sao_Paulo']"
            ]
          },
          "metadata": {
            "tags": []
          },
          "execution_count": 124
        }
      ]
    },
    {
      "cell_type": "code",
      "metadata": {
        "colab": {
          "base_uri": "https://localhost:8080/"
        },
        "id": "AMdC5VybYbV6",
        "outputId": "c736186a-15e0-46ec-9e31-a1fe0801f7e1"
      },
      "source": [
        "# timezone por padrão é None\n",
        "print(date_index.tz)"
      ],
      "execution_count": 141,
      "outputs": [
        {
          "output_type": "stream",
          "text": [
            "None\n"
          ],
          "name": "stdout"
        }
      ]
    },
    {
      "cell_type": "code",
      "metadata": {
        "colab": {
          "base_uri": "https://localhost:8080/"
        },
        "id": "aV3mApHQcY2X",
        "outputId": "62022dcc-1c31-40b6-8dc6-a799d28edef7"
      },
      "source": [
        "# timezone UTC é o central +0 qualquer mundança adiciona ou subtrai\n",
        "date_index = pd.date_range('2000-01-01', periods=10, freq='1h30min', tz=\"UTC\")\n",
        "date_index"
      ],
      "execution_count": 144,
      "outputs": [
        {
          "output_type": "execute_result",
          "data": {
            "text/plain": [
              "DatetimeIndex(['2000-01-01 00:00:00+00:00', '2000-01-01 01:30:00+00:00',\n",
              "               '2000-01-01 03:00:00+00:00', '2000-01-01 04:30:00+00:00',\n",
              "               '2000-01-01 06:00:00+00:00', '2000-01-01 07:30:00+00:00',\n",
              "               '2000-01-01 09:00:00+00:00', '2000-01-01 10:30:00+00:00',\n",
              "               '2000-01-01 12:00:00+00:00', '2000-01-01 13:30:00+00:00'],\n",
              "              dtype='datetime64[ns, UTC]', freq='90T')"
            ]
          },
          "metadata": {
            "tags": []
          },
          "execution_count": 144
        }
      ]
    },
    {
      "cell_type": "code",
      "metadata": {
        "colab": {
          "base_uri": "https://localhost:8080/"
        },
        "id": "fTyAvS_YdTha",
        "outputId": "256a374f-70d8-4e16-ff84-bf7726f5d20e"
      },
      "source": [
        "# timezone Brasil é o central +2\n",
        "date_index = pd.date_range('2000-01-01', periods=10, freq='1h30min', tz=\"America/Sao_Paulo\")\n",
        "date_index"
      ],
      "execution_count": 148,
      "outputs": [
        {
          "output_type": "execute_result",
          "data": {
            "text/plain": [
              "DatetimeIndex(['2000-01-01 00:00:00-02:00', '2000-01-01 01:30:00-02:00',\n",
              "               '2000-01-01 03:00:00-02:00', '2000-01-01 04:30:00-02:00',\n",
              "               '2000-01-01 06:00:00-02:00', '2000-01-01 07:30:00-02:00',\n",
              "               '2000-01-01 09:00:00-02:00', '2000-01-01 10:30:00-02:00',\n",
              "               '2000-01-01 12:00:00-02:00', '2000-01-01 13:30:00-02:00'],\n",
              "              dtype='datetime64[ns, America/Sao_Paulo]', freq='90T')"
            ]
          },
          "metadata": {
            "tags": []
          },
          "execution_count": 148
        }
      ]
    },
    {
      "cell_type": "code",
      "metadata": {
        "colab": {
          "base_uri": "https://localhost:8080/"
        },
        "id": "Ha1NZsbDel5Z",
        "outputId": "9dc2ba2c-a665-43e7-8b51-67fe171fd76b"
      },
      "source": [
        "# converte de uma timezone para outra região (Brasil > Nova York)\n",
        "# -5 horas timezone\n",
        "date_index.tz_convert(\"America/New_York\")"
      ],
      "execution_count": 149,
      "outputs": [
        {
          "output_type": "execute_result",
          "data": {
            "text/plain": [
              "DatetimeIndex(['1999-12-31 21:00:00-05:00', '1999-12-31 22:30:00-05:00',\n",
              "               '2000-01-01 00:00:00-05:00', '2000-01-01 01:30:00-05:00',\n",
              "               '2000-01-01 03:00:00-05:00', '2000-01-01 04:30:00-05:00',\n",
              "               '2000-01-01 06:00:00-05:00', '2000-01-01 07:30:00-05:00',\n",
              "               '2000-01-01 09:00:00-05:00', '2000-01-01 10:30:00-05:00'],\n",
              "              dtype='datetime64[ns, America/New_York]', freq='90T')"
            ]
          },
          "metadata": {
            "tags": []
          },
          "execution_count": 149
        }
      ]
    },
    {
      "cell_type": "markdown",
      "metadata": {
        "id": "e_mXm_TGgls_"
      },
      "source": [
        "## Timestamp"
      ]
    },
    {
      "cell_type": "code",
      "metadata": {
        "colab": {
          "base_uri": "https://localhost:8080/"
        },
        "id": "0oWdJJDKfRRM",
        "outputId": "f6eb9975-1e6a-46f2-ffe2-e963d067810f"
      },
      "source": [
        "# criando localizando e convertendo para outro utc\n",
        "stamp = pd.Timestamp('2011-03-12 04:00')\n",
        "stamp_utc = stamp.tz_localize('utc')\n",
        "stamp_utc.tz_convert('America/New_York')"
      ],
      "execution_count": 150,
      "outputs": [
        {
          "output_type": "execute_result",
          "data": {
            "text/plain": [
              "Timestamp('2011-03-11 23:00:00-0500', tz='America/New_York')"
            ]
          },
          "metadata": {
            "tags": []
          },
          "execution_count": 150
        }
      ]
    },
    {
      "cell_type": "markdown",
      "metadata": {
        "id": "aLKWwZQbjWGa"
      },
      "source": [
        "# Reamostragem e conversão de frequência\n",
        "Transformar uma serie temporal que está em uma frequencia para outra\n",
        "- downsampling: frequencias mais altas para mais baixas\n",
        "- upsampling: "
      ]
    },
    {
      "cell_type": "markdown",
      "metadata": {
        "id": "xkIpxI54noBi"
      },
      "source": [
        "## Downsampling: resample()"
      ]
    },
    {
      "cell_type": "code",
      "metadata": {
        "colab": {
          "base_uri": "https://localhost:8080/"
        },
        "id": "r5MUmzINhEjG",
        "outputId": "cd9ef39e-6623-4235-e77e-3458d624b6c2"
      },
      "source": [
        "# frequencia diaria\n",
        "data_range_resample = pd.date_range('2000-01-01', periods=100, freq='D')\n",
        "\n",
        "ts = pd.Series(np.random.randn(len(data_range_resample)), index=data_range_resample)\n",
        "\n",
        "# semelhante a groupby. Agrupa no nivel de mes e aplica uma agregação mean\n",
        "ts.resample('M').mean()\n",
        "\n",
        "# ts.resample('M', kind='period').mean()\n"
      ],
      "execution_count": 154,
      "outputs": [
        {
          "output_type": "execute_result",
          "data": {
            "text/plain": [
              "2000-01-31    0.118426\n",
              "2000-02-29   -0.143746\n",
              "2000-03-31    0.021168\n",
              "2000-04-30    0.736457\n",
              "Freq: M, dtype: float64"
            ]
          },
          "metadata": {
            "tags": []
          },
          "execution_count": 154
        }
      ]
    },
    {
      "cell_type": "code",
      "metadata": {
        "id": "yt69UUDgoOP9"
      },
      "source": [
        ""
      ],
      "execution_count": null,
      "outputs": []
    }
  ]
}