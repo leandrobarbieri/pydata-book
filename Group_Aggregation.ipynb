{
  "nbformat": 4,
  "nbformat_minor": 0,
  "metadata": {
    "colab": {
      "name": "Group Aggregation.ipynb",
      "provenance": [],
      "collapsed_sections": [],
      "toc_visible": true,
      "authorship_tag": "ABX9TyNGgJ9dAnzsWK3eECunfB9b",
      "include_colab_link": true
    },
    "kernelspec": {
      "name": "python3",
      "display_name": "Python 3"
    },
    "language_info": {
      "name": "python"
    }
  },
  "cells": [
    {
      "cell_type": "markdown",
      "metadata": {
        "id": "view-in-github",
        "colab_type": "text"
      },
      "source": [
        "<a href=\"https://colab.research.google.com/github/leandrobarbieri/pydata-book/blob/2nd-edition/Group_Aggregation.ipynb\" target=\"_parent\"><img src=\"https://colab.research.google.com/assets/colab-badge.svg\" alt=\"Open In Colab\"/></a>"
      ]
    },
    {
      "cell_type": "markdown",
      "metadata": {
        "id": "ojSyrKkaWHnM"
      },
      "source": [
        "# Agrupamento e agregação\n",
        "- 1: Separa os grupos, 2: Aplica funções de agregação, 3: Recombina em um novo df agregado.\n",
        "- Cálculos estatísticos de resumo em colunas numéricas\n",
        "- Iteração nos grupos\n",
        "- Agrupamentos de colunas. Une várias colunas em uma\n",
        "- Agregaçao com funções\n",
        "- Agregaçao com mais de uma função por coluna numérica\n",
        "- Agregação de cada coluna numerica com uma fução diferente\n",
        "- Tabelas pivot e crosstab"
      ]
    },
    {
      "cell_type": "code",
      "metadata": {
        "id": "W_o02J4DWElg"
      },
      "source": [
        "# importações e configurações\n",
        "import numpy as np\n",
        "import pandas as pd\n",
        "import matplotlib.pyplot as plt\n",
        "\n",
        "plt.rc('figure', figsize=(10, 6))\n",
        "np.set_printoptions(precision=4, suppress=True)\n",
        "PREVIOUS_MAX_ROWS = pd.options.display.max_rows\n",
        "pd.options.display.max_rows = 20\n",
        "np.random.seed(12345)"
      ],
      "execution_count": 94,
      "outputs": []
    },
    {
      "cell_type": "markdown",
      "metadata": {
        "id": "umG-y0laaNoJ"
      },
      "source": [
        "# Group By"
      ]
    },
    {
      "cell_type": "code",
      "metadata": {
        "colab": {
          "base_uri": "https://localhost:8080/",
          "height": 204
        },
        "id": "Kfmhv3dvYkQI",
        "outputId": "77754cef-5224-477c-cd52-5fa242aa6f28"
      },
      "source": [
        "# cria um df de testes com dados categoricos (serão agrupado) e numéricos (serão agregados)\n",
        "df = pd.DataFrame({'key1' : ['a', 'a', 'b', 'b', 'a'],\n",
        "                   'key2' : ['one', 'two', 'one', 'two', 'one'],\n",
        "                   'data1' : np.arange(5),\n",
        "                   'data2' : np.random.randn(5)})\n",
        "df"
      ],
      "execution_count": 95,
      "outputs": [
        {
          "output_type": "execute_result",
          "data": {
            "text/html": [
              "<div>\n",
              "<style scoped>\n",
              "    .dataframe tbody tr th:only-of-type {\n",
              "        vertical-align: middle;\n",
              "    }\n",
              "\n",
              "    .dataframe tbody tr th {\n",
              "        vertical-align: top;\n",
              "    }\n",
              "\n",
              "    .dataframe thead th {\n",
              "        text-align: right;\n",
              "    }\n",
              "</style>\n",
              "<table border=\"1\" class=\"dataframe\">\n",
              "  <thead>\n",
              "    <tr style=\"text-align: right;\">\n",
              "      <th></th>\n",
              "      <th>key1</th>\n",
              "      <th>key2</th>\n",
              "      <th>data1</th>\n",
              "      <th>data2</th>\n",
              "    </tr>\n",
              "  </thead>\n",
              "  <tbody>\n",
              "    <tr>\n",
              "      <th>0</th>\n",
              "      <td>a</td>\n",
              "      <td>one</td>\n",
              "      <td>0</td>\n",
              "      <td>-0.204708</td>\n",
              "    </tr>\n",
              "    <tr>\n",
              "      <th>1</th>\n",
              "      <td>a</td>\n",
              "      <td>two</td>\n",
              "      <td>1</td>\n",
              "      <td>0.478943</td>\n",
              "    </tr>\n",
              "    <tr>\n",
              "      <th>2</th>\n",
              "      <td>b</td>\n",
              "      <td>one</td>\n",
              "      <td>2</td>\n",
              "      <td>-0.519439</td>\n",
              "    </tr>\n",
              "    <tr>\n",
              "      <th>3</th>\n",
              "      <td>b</td>\n",
              "      <td>two</td>\n",
              "      <td>3</td>\n",
              "      <td>-0.555730</td>\n",
              "    </tr>\n",
              "    <tr>\n",
              "      <th>4</th>\n",
              "      <td>a</td>\n",
              "      <td>one</td>\n",
              "      <td>4</td>\n",
              "      <td>1.965781</td>\n",
              "    </tr>\n",
              "  </tbody>\n",
              "</table>\n",
              "</div>"
            ],
            "text/plain": [
              "  key1 key2  data1     data2\n",
              "0    a  one      0 -0.204708\n",
              "1    a  two      1  0.478943\n",
              "2    b  one      2 -0.519439\n",
              "3    b  two      3 -0.555730\n",
              "4    a  one      4  1.965781"
            ]
          },
          "metadata": {
            "tags": []
          },
          "execution_count": 95
        }
      ]
    },
    {
      "cell_type": "code",
      "metadata": {
        "colab": {
          "base_uri": "https://localhost:8080/"
        },
        "id": "fS3xWk4dbQsZ",
        "outputId": "5711cc3a-391f-463d-a66a-5d5ef4db5d65"
      },
      "source": [
        "# primeiramente os grupos são criados com base nas colunas passadas para groupby\n",
        "# um obj do tipo pandas.core.groupby.generic.SeriesGroupBy é criado\n",
        "# esse obj pode ser iterado\n",
        "grouped = df.groupby(df['key1'])\n",
        "\n",
        "for g in grouped:\n",
        "  print(g)"
      ],
      "execution_count": 96,
      "outputs": [
        {
          "output_type": "stream",
          "text": [
            "('a',   key1 key2  data1     data2\n",
            "0    a  one      0 -0.204708\n",
            "1    a  two      1  0.478943\n",
            "4    a  one      4  1.965781)\n",
            "('b',   key1 key2  data1     data2\n",
            "2    b  one      2 -0.519439\n",
            "3    b  two      3 -0.555730)\n"
          ],
          "name": "stdout"
        }
      ]
    },
    {
      "cell_type": "code",
      "metadata": {
        "colab": {
          "base_uri": "https://localhost:8080/"
        },
        "id": "WLnEqaHfbxHB",
        "outputId": "8e9bee65-818d-48f2-dbc9-5d3171e5aa0b"
      },
      "source": [
        "# Agregar (soma) a coluna 'data1' a partir do agrupamento da coluna 'key1'\n",
        "soma_data1 = df['data1'].groupby(df['key1']).sum()\n",
        "soma_data1"
      ],
      "execution_count": 97,
      "outputs": [
        {
          "output_type": "execute_result",
          "data": {
            "text/plain": [
              "key1\n",
              "a    5\n",
              "b    5\n",
              "Name: data1, dtype: int64"
            ]
          },
          "metadata": {
            "tags": []
          },
          "execution_count": 97
        }
      ]
    },
    {
      "cell_type": "code",
      "metadata": {
        "colab": {
          "base_uri": "https://localhost:8080/"
        },
        "id": "FsNwKz0_dhli",
        "outputId": "3e13fdc6-b22f-4404-d366-55ab60facf8f"
      },
      "source": [
        "# Agrupamento com múltiplas colunas (key1 e key2)\n",
        "# Se não passar nada para df, todas as colunas numericas são agregadas\n",
        "media_data1 = df['data1'].groupby([df['key1'], df['key2']]).mean()\n",
        "media_data1"
      ],
      "execution_count": 98,
      "outputs": [
        {
          "output_type": "execute_result",
          "data": {
            "text/plain": [
              "key1  key2\n",
              "a     one     2\n",
              "      two     1\n",
              "b     one     2\n",
              "      two     3\n",
              "Name: data1, dtype: int64"
            ]
          },
          "metadata": {
            "tags": []
          },
          "execution_count": 98
        }
      ]
    },
    {
      "cell_type": "code",
      "metadata": {
        "colab": {
          "base_uri": "https://localhost:8080/",
          "height": 173
        },
        "id": "Ld_viMfxp9L9",
        "outputId": "eaad3479-97ad-40d3-c953-492821014de9"
      },
      "source": [
        "# Outra forma de fazer o mesmo comando acima\n",
        "# as_index=False faz com que as colunas agrupadas sejam tratadas como colunas e não como indices\n",
        "df.groupby(['key1', 'key2'], as_index=False)[['data1']].mean()"
      ],
      "execution_count": 99,
      "outputs": [
        {
          "output_type": "execute_result",
          "data": {
            "text/html": [
              "<div>\n",
              "<style scoped>\n",
              "    .dataframe tbody tr th:only-of-type {\n",
              "        vertical-align: middle;\n",
              "    }\n",
              "\n",
              "    .dataframe tbody tr th {\n",
              "        vertical-align: top;\n",
              "    }\n",
              "\n",
              "    .dataframe thead th {\n",
              "        text-align: right;\n",
              "    }\n",
              "</style>\n",
              "<table border=\"1\" class=\"dataframe\">\n",
              "  <thead>\n",
              "    <tr style=\"text-align: right;\">\n",
              "      <th></th>\n",
              "      <th>key1</th>\n",
              "      <th>key2</th>\n",
              "      <th>data1</th>\n",
              "    </tr>\n",
              "  </thead>\n",
              "  <tbody>\n",
              "    <tr>\n",
              "      <th>0</th>\n",
              "      <td>a</td>\n",
              "      <td>one</td>\n",
              "      <td>2</td>\n",
              "    </tr>\n",
              "    <tr>\n",
              "      <th>1</th>\n",
              "      <td>a</td>\n",
              "      <td>two</td>\n",
              "      <td>1</td>\n",
              "    </tr>\n",
              "    <tr>\n",
              "      <th>2</th>\n",
              "      <td>b</td>\n",
              "      <td>one</td>\n",
              "      <td>2</td>\n",
              "    </tr>\n",
              "    <tr>\n",
              "      <th>3</th>\n",
              "      <td>b</td>\n",
              "      <td>two</td>\n",
              "      <td>3</td>\n",
              "    </tr>\n",
              "  </tbody>\n",
              "</table>\n",
              "</div>"
            ],
            "text/plain": [
              "  key1 key2  data1\n",
              "0    a  one      2\n",
              "1    a  two      1\n",
              "2    b  one      2\n",
              "3    b  two      3"
            ]
          },
          "metadata": {
            "tags": []
          },
          "execution_count": 99
        }
      ]
    },
    {
      "cell_type": "code",
      "metadata": {
        "colab": {
          "base_uri": "https://localhost:8080/",
          "height": 142
        },
        "id": "XBtGmXr0d-ij",
        "outputId": "1ef5d548-3120-488a-8762-5c8c6a801997"
      },
      "source": [
        "# usando unstack para pivotear o indice mais interno para colunas e criar uma matriz\n",
        "media_data1.unstack()"
      ],
      "execution_count": 100,
      "outputs": [
        {
          "output_type": "execute_result",
          "data": {
            "text/html": [
              "<div>\n",
              "<style scoped>\n",
              "    .dataframe tbody tr th:only-of-type {\n",
              "        vertical-align: middle;\n",
              "    }\n",
              "\n",
              "    .dataframe tbody tr th {\n",
              "        vertical-align: top;\n",
              "    }\n",
              "\n",
              "    .dataframe thead th {\n",
              "        text-align: right;\n",
              "    }\n",
              "</style>\n",
              "<table border=\"1\" class=\"dataframe\">\n",
              "  <thead>\n",
              "    <tr style=\"text-align: right;\">\n",
              "      <th>key2</th>\n",
              "      <th>one</th>\n",
              "      <th>two</th>\n",
              "    </tr>\n",
              "    <tr>\n",
              "      <th>key1</th>\n",
              "      <th></th>\n",
              "      <th></th>\n",
              "    </tr>\n",
              "  </thead>\n",
              "  <tbody>\n",
              "    <tr>\n",
              "      <th>a</th>\n",
              "      <td>2</td>\n",
              "      <td>1</td>\n",
              "    </tr>\n",
              "    <tr>\n",
              "      <th>b</th>\n",
              "      <td>2</td>\n",
              "      <td>3</td>\n",
              "    </tr>\n",
              "  </tbody>\n",
              "</table>\n",
              "</div>"
            ],
            "text/plain": [
              "key2  one  two\n",
              "key1          \n",
              "a       2    1\n",
              "b       2    3"
            ]
          },
          "metadata": {
            "tags": []
          },
          "execution_count": 100
        }
      ]
    },
    {
      "cell_type": "code",
      "metadata": {
        "colab": {
          "base_uri": "https://localhost:8080/"
        },
        "id": "TdatEH75elM7",
        "outputId": "f2217554-5844-4d92-c50b-1fa5d03a3961"
      },
      "source": [
        "# tamanho dos grupos, quantidade de linhas que foram agrupadas em cada grupo\n",
        "\n",
        "# df.groupby([\"key1\", \"key2\"])[[\"data1\", \"data2\"]].size()\n",
        "\n",
        "df.groupby(['key1', 'key2']).size()"
      ],
      "execution_count": 101,
      "outputs": [
        {
          "output_type": "execute_result",
          "data": {
            "text/plain": [
              "key1  key2\n",
              "a     one     2\n",
              "      two     1\n",
              "b     one     1\n",
              "      two     1\n",
              "dtype: int64"
            ]
          },
          "metadata": {
            "tags": []
          },
          "execution_count": 101
        }
      ]
    },
    {
      "cell_type": "code",
      "metadata": {
        "colab": {
          "base_uri": "https://localhost:8080/",
          "height": 142
        },
        "id": "LNjLen5UghGe",
        "outputId": "54fda83a-7f4d-40d9-8d87-4d08a5ebd73b"
      },
      "source": [
        "# se não passar uma coluna numerica para df todas as colunas serão agregadas\n",
        "# data1 e data2 são agregadas\n",
        "df.groupby(df[\"key1\"]).sum()\n",
        "\n",
        "# df.groupby(\"key1\")[[\"data1\", \"data2\"]].sum()"
      ],
      "execution_count": 102,
      "outputs": [
        {
          "output_type": "execute_result",
          "data": {
            "text/html": [
              "<div>\n",
              "<style scoped>\n",
              "    .dataframe tbody tr th:only-of-type {\n",
              "        vertical-align: middle;\n",
              "    }\n",
              "\n",
              "    .dataframe tbody tr th {\n",
              "        vertical-align: top;\n",
              "    }\n",
              "\n",
              "    .dataframe thead th {\n",
              "        text-align: right;\n",
              "    }\n",
              "</style>\n",
              "<table border=\"1\" class=\"dataframe\">\n",
              "  <thead>\n",
              "    <tr style=\"text-align: right;\">\n",
              "      <th></th>\n",
              "      <th>data1</th>\n",
              "      <th>data2</th>\n",
              "    </tr>\n",
              "    <tr>\n",
              "      <th>key1</th>\n",
              "      <th></th>\n",
              "      <th></th>\n",
              "    </tr>\n",
              "  </thead>\n",
              "  <tbody>\n",
              "    <tr>\n",
              "      <th>a</th>\n",
              "      <td>5</td>\n",
              "      <td>2.240016</td>\n",
              "    </tr>\n",
              "    <tr>\n",
              "      <th>b</th>\n",
              "      <td>5</td>\n",
              "      <td>-1.075169</td>\n",
              "    </tr>\n",
              "  </tbody>\n",
              "</table>\n",
              "</div>"
            ],
            "text/plain": [
              "      data1     data2\n",
              "key1                 \n",
              "a         5  2.240016\n",
              "b         5 -1.075169"
            ]
          },
          "metadata": {
            "tags": []
          },
          "execution_count": 102
        }
      ]
    },
    {
      "cell_type": "markdown",
      "metadata": {
        "id": "nUkwscq6hYwG"
      },
      "source": [
        "## Iterando sob grupos\n",
        "Antes de aplicar a função de agregação os grupos são separados em varios subgrupos de acordo com a combinação de colunas que foram usadas no groupby. Esses gupos podem ser acessados antes de aplicar a agregação.\n",
        "> o groupby devolve um objeto iteravel"
      ]
    },
    {
      "cell_type": "code",
      "metadata": {
        "colab": {
          "base_uri": "https://localhost:8080/"
        },
        "id": "bWCku3uqhNF9",
        "outputId": "12c4491b-fe05-4216-de27-dcf9c6b11caf"
      },
      "source": [
        "# Iterando nos grupos e acessadi a tupla (o primeiro elemento é a coluna usada para agrupar e o segundo são os registros)\n",
        "# Fazer a iteração antes de aplicar a função de agregação\n",
        "for nome, grupo in df.groupby(['key1', 'key2']):\n",
        "  print(f\"\\nColunas agrupadas: {nome}\")\n",
        "  print(grupo)\n",
        "  "
      ],
      "execution_count": 103,
      "outputs": [
        {
          "output_type": "stream",
          "text": [
            "\n",
            "Colunas agrupadas: ('a', 'one')\n",
            "  key1 key2  data1     data2\n",
            "0    a  one      0 -0.204708\n",
            "4    a  one      4  1.965781\n",
            "\n",
            "Colunas agrupadas: ('a', 'two')\n",
            "  key1 key2  data1     data2\n",
            "1    a  two      1  0.478943\n",
            "\n",
            "Colunas agrupadas: ('b', 'one')\n",
            "  key1 key2  data1     data2\n",
            "2    b  one      2 -0.519439\n",
            "\n",
            "Colunas agrupadas: ('b', 'two')\n",
            "  key1 key2  data1    data2\n",
            "3    b  two      3 -0.55573\n"
          ],
          "name": "stdout"
        }
      ]
    },
    {
      "cell_type": "code",
      "metadata": {
        "colab": {
          "base_uri": "https://localhost:8080/",
          "height": 111
        },
        "id": "qBO1K5a3igUH",
        "outputId": "cdf35149-5733-4bee-eb17-3fd8e5622d92"
      },
      "source": [
        "# criando um dicionário onde a chave é uma tupla com as colunas agrupadas e os valores são as linhas dos subgrupos\n",
        "dicionario_grupos = dict(list(df.groupby(['key1', 'key2'])))\n",
        "\n",
        "# acessando um subconjunto pela chave dos agrupamentos\n",
        "dicionario_grupos[('a', 'one')]"
      ],
      "execution_count": 104,
      "outputs": [
        {
          "output_type": "execute_result",
          "data": {
            "text/html": [
              "<div>\n",
              "<style scoped>\n",
              "    .dataframe tbody tr th:only-of-type {\n",
              "        vertical-align: middle;\n",
              "    }\n",
              "\n",
              "    .dataframe tbody tr th {\n",
              "        vertical-align: top;\n",
              "    }\n",
              "\n",
              "    .dataframe thead th {\n",
              "        text-align: right;\n",
              "    }\n",
              "</style>\n",
              "<table border=\"1\" class=\"dataframe\">\n",
              "  <thead>\n",
              "    <tr style=\"text-align: right;\">\n",
              "      <th></th>\n",
              "      <th>key1</th>\n",
              "      <th>key2</th>\n",
              "      <th>data1</th>\n",
              "      <th>data2</th>\n",
              "    </tr>\n",
              "  </thead>\n",
              "  <tbody>\n",
              "    <tr>\n",
              "      <th>0</th>\n",
              "      <td>a</td>\n",
              "      <td>one</td>\n",
              "      <td>0</td>\n",
              "      <td>-0.204708</td>\n",
              "    </tr>\n",
              "    <tr>\n",
              "      <th>4</th>\n",
              "      <td>a</td>\n",
              "      <td>one</td>\n",
              "      <td>4</td>\n",
              "      <td>1.965781</td>\n",
              "    </tr>\n",
              "  </tbody>\n",
              "</table>\n",
              "</div>"
            ],
            "text/plain": [
              "  key1 key2  data1     data2\n",
              "0    a  one      0 -0.204708\n",
              "4    a  one      4  1.965781"
            ]
          },
          "metadata": {
            "tags": []
          },
          "execution_count": 104
        }
      ]
    },
    {
      "cell_type": "code",
      "metadata": {
        "colab": {
          "base_uri": "https://localhost:8080/"
        },
        "id": "a5q4IcmmkLDn",
        "outputId": "eee8fa72-d21d-4ca9-af99-1d15ad97ba81"
      },
      "source": [
        "# agrupando pelos tipos de colunas no eixo das colunas\n",
        "\n",
        "# o df tem duas colunas float e duas object\n",
        "print(f\"Tipos de dados:\\n{df.dtypes}\\n\")\n",
        "\n",
        "# separar em dois grupos as colunas de float e as de object. axis=1 faz pelas colunas\n",
        "grouped_columns = df.groupby(df.dtypes, axis=1)\n",
        "\n",
        "# cada grupos apenas com colunas do mesmo tipo\n",
        "for tipo, dados in grouped_columns:\n",
        "  print(tipo)\n",
        "  print(dados)"
      ],
      "execution_count": 105,
      "outputs": [
        {
          "output_type": "stream",
          "text": [
            "Tipos de dados:\n",
            "key1      object\n",
            "key2      object\n",
            "data1      int64\n",
            "data2    float64\n",
            "dtype: object\n",
            "\n",
            "int64\n",
            "   data1\n",
            "0      0\n",
            "1      1\n",
            "2      2\n",
            "3      3\n",
            "4      4\n",
            "float64\n",
            "      data2\n",
            "0 -0.204708\n",
            "1  0.478943\n",
            "2 -0.519439\n",
            "3 -0.555730\n",
            "4  1.965781\n",
            "object\n",
            "  key1 key2\n",
            "0    a  one\n",
            "1    a  two\n",
            "2    b  one\n",
            "3    b  two\n",
            "4    a  one\n"
          ],
          "name": "stdout"
        }
      ]
    },
    {
      "cell_type": "code",
      "metadata": {
        "colab": {
          "base_uri": "https://localhost:8080/"
        },
        "id": "OYzyRChCokcV",
        "outputId": "98c7dba4-ee8c-46c1-b549-473dc2078413"
      },
      "source": [
        "# Tranforma as tuplas em uma lista e acessa somente as colunas object\n",
        "list(grouped_columns)[2]"
      ],
      "execution_count": 106,
      "outputs": [
        {
          "output_type": "execute_result",
          "data": {
            "text/plain": [
              "(dtype('O'),   key1 key2\n",
              " 0    a  one\n",
              " 1    a  two\n",
              " 2    b  one\n",
              " 3    b  two\n",
              " 4    a  one)"
            ]
          },
          "metadata": {
            "tags": []
          },
          "execution_count": 106
        }
      ]
    },
    {
      "cell_type": "markdown",
      "metadata": {
        "id": "ruotHz0Vva-I"
      },
      "source": [
        "## Agrupando com dicts mapeados\n",
        "Passa um dicionário que determina a combinação de cada grupo, é como se estivessemos definindo um agrupamento sem que tenha um coluna no df, como um agrupamento externo usando um dict como referência"
      ]
    },
    {
      "cell_type": "code",
      "metadata": {
        "colab": {
          "base_uri": "https://localhost:8080/",
          "height": 204
        },
        "id": "WuLOFYu7pOyE",
        "outputId": "c27d29f2-abdf-4bc0-9064-c2676a342631"
      },
      "source": [
        "pessoas = pd.DataFrame(data=np.random.randn(5, 5),\n",
        "                       columns=['a', 'b', 'c', 'd', 'e'],\n",
        "                       index=[\"Leandro\", \"Bruna\", \"Breno\", \"João\", \"Maria\"])\n",
        "pessoas"
      ],
      "execution_count": 107,
      "outputs": [
        {
          "output_type": "execute_result",
          "data": {
            "text/html": [
              "<div>\n",
              "<style scoped>\n",
              "    .dataframe tbody tr th:only-of-type {\n",
              "        vertical-align: middle;\n",
              "    }\n",
              "\n",
              "    .dataframe tbody tr th {\n",
              "        vertical-align: top;\n",
              "    }\n",
              "\n",
              "    .dataframe thead th {\n",
              "        text-align: right;\n",
              "    }\n",
              "</style>\n",
              "<table border=\"1\" class=\"dataframe\">\n",
              "  <thead>\n",
              "    <tr style=\"text-align: right;\">\n",
              "      <th></th>\n",
              "      <th>a</th>\n",
              "      <th>b</th>\n",
              "      <th>c</th>\n",
              "      <th>d</th>\n",
              "      <th>e</th>\n",
              "    </tr>\n",
              "  </thead>\n",
              "  <tbody>\n",
              "    <tr>\n",
              "      <th>Leandro</th>\n",
              "      <td>1.393406</td>\n",
              "      <td>0.092908</td>\n",
              "      <td>0.281746</td>\n",
              "      <td>0.769023</td>\n",
              "      <td>1.246435</td>\n",
              "    </tr>\n",
              "    <tr>\n",
              "      <th>Bruna</th>\n",
              "      <td>1.007189</td>\n",
              "      <td>-1.296221</td>\n",
              "      <td>0.274992</td>\n",
              "      <td>0.228913</td>\n",
              "      <td>1.352917</td>\n",
              "    </tr>\n",
              "    <tr>\n",
              "      <th>Breno</th>\n",
              "      <td>0.886429</td>\n",
              "      <td>-2.001637</td>\n",
              "      <td>-0.371843</td>\n",
              "      <td>1.669025</td>\n",
              "      <td>-0.438570</td>\n",
              "    </tr>\n",
              "    <tr>\n",
              "      <th>João</th>\n",
              "      <td>-0.539741</td>\n",
              "      <td>0.476985</td>\n",
              "      <td>3.248944</td>\n",
              "      <td>-1.021228</td>\n",
              "      <td>-0.577087</td>\n",
              "    </tr>\n",
              "    <tr>\n",
              "      <th>Maria</th>\n",
              "      <td>0.124121</td>\n",
              "      <td>0.302614</td>\n",
              "      <td>0.523772</td>\n",
              "      <td>0.000940</td>\n",
              "      <td>1.343810</td>\n",
              "    </tr>\n",
              "  </tbody>\n",
              "</table>\n",
              "</div>"
            ],
            "text/plain": [
              "                a         b         c         d         e\n",
              "Leandro  1.393406  0.092908  0.281746  0.769023  1.246435\n",
              "Bruna    1.007189 -1.296221  0.274992  0.228913  1.352917\n",
              "Breno    0.886429 -2.001637 -0.371843  1.669025 -0.438570\n",
              "João    -0.539741  0.476985  3.248944 -1.021228 -0.577087\n",
              "Maria    0.124121  0.302614  0.523772  0.000940  1.343810"
            ]
          },
          "metadata": {
            "tags": []
          },
          "execution_count": 107
        }
      ]
    },
    {
      "cell_type": "code",
      "metadata": {
        "colab": {
          "base_uri": "https://localhost:8080/"
        },
        "id": "Np4__JFZwUhJ",
        "outputId": "65588689-a036-43ef-ccb2-bee2c1f1b9be"
      },
      "source": [
        "dict_mapeamento_grupos = {\"a\": \"Red\", \"b\": \"Red\", \"c\": \"Red\", \"d\": \"Blue\", \"e\": \"Blue\", \"f\":\"Orange\"}\n",
        "dict_mapeamento_grupos"
      ],
      "execution_count": 108,
      "outputs": [
        {
          "output_type": "execute_result",
          "data": {
            "text/plain": [
              "{'a': 'Red', 'b': 'Red', 'c': 'Red', 'd': 'Blue', 'e': 'Blue', 'f': 'Orange'}"
            ]
          },
          "metadata": {
            "tags": []
          },
          "execution_count": 108
        }
      ]
    },
    {
      "cell_type": "code",
      "metadata": {
        "colab": {
          "base_uri": "https://localhost:8080/",
          "height": 544
        },
        "id": "GbyzLpP2wtyo",
        "outputId": "3b1f3a6d-9acb-4239-fdf7-7a0c666cda09"
      },
      "source": [
        "# as colunas pode ser agrupadas de acordo com as combinações do dict\n",
        "# cada chave do dict é mapeada com cada coluna e é retornado o valor o dict como agrupamento\n",
        "agrupamento_por_colunas = pessoas.groupby(dict_mapeamento_grupos, axis=1)\n",
        "\n",
        "# aplica uma agregação no agrupamento. Por exemplo, soma a, b, c na cor Red\n",
        "print(f\"Quantidade de colunas de cada cor:\\n{agrupamento_por_colunas.size()}\\n\")\n",
        "\n",
        "# imprime os valores dos grupos antes da agregação\n",
        "print(f\"\\n{ [ print(grupo[1]) for grupo in agrupamento_por_colunas]}\\n\")\n",
        "\n",
        "agrupamento_por_colunas.sum()"
      ],
      "execution_count": 109,
      "outputs": [
        {
          "output_type": "stream",
          "text": [
            "Quantidade de colunas de cada cor:\n",
            "Blue    2\n",
            "Red     3\n",
            "dtype: int64\n",
            "\n",
            "                d         e\n",
            "Leandro  0.769023  1.246435\n",
            "Bruna    0.228913  1.352917\n",
            "Breno    1.669025 -0.438570\n",
            "João    -1.021228 -0.577087\n",
            "Maria    0.000940  1.343810\n",
            "                a         b         c\n",
            "Leandro  1.393406  0.092908  0.281746\n",
            "Bruna    1.007189 -1.296221  0.274992\n",
            "Breno    0.886429 -2.001637 -0.371843\n",
            "João    -0.539741  0.476985  3.248944\n",
            "Maria    0.124121  0.302614  0.523772\n",
            "\n",
            "[None, None]\n",
            "\n"
          ],
          "name": "stdout"
        },
        {
          "output_type": "execute_result",
          "data": {
            "text/html": [
              "<div>\n",
              "<style scoped>\n",
              "    .dataframe tbody tr th:only-of-type {\n",
              "        vertical-align: middle;\n",
              "    }\n",
              "\n",
              "    .dataframe tbody tr th {\n",
              "        vertical-align: top;\n",
              "    }\n",
              "\n",
              "    .dataframe thead th {\n",
              "        text-align: right;\n",
              "    }\n",
              "</style>\n",
              "<table border=\"1\" class=\"dataframe\">\n",
              "  <thead>\n",
              "    <tr style=\"text-align: right;\">\n",
              "      <th></th>\n",
              "      <th>Blue</th>\n",
              "      <th>Red</th>\n",
              "    </tr>\n",
              "  </thead>\n",
              "  <tbody>\n",
              "    <tr>\n",
              "      <th>Leandro</th>\n",
              "      <td>2.015457</td>\n",
              "      <td>1.768060</td>\n",
              "    </tr>\n",
              "    <tr>\n",
              "      <th>Bruna</th>\n",
              "      <td>1.581830</td>\n",
              "      <td>-0.014040</td>\n",
              "    </tr>\n",
              "    <tr>\n",
              "      <th>Breno</th>\n",
              "      <td>1.230456</td>\n",
              "      <td>-1.487051</td>\n",
              "    </tr>\n",
              "    <tr>\n",
              "      <th>João</th>\n",
              "      <td>-1.598315</td>\n",
              "      <td>3.186187</td>\n",
              "    </tr>\n",
              "    <tr>\n",
              "      <th>Maria</th>\n",
              "      <td>1.344750</td>\n",
              "      <td>0.950507</td>\n",
              "    </tr>\n",
              "  </tbody>\n",
              "</table>\n",
              "</div>"
            ],
            "text/plain": [
              "             Blue       Red\n",
              "Leandro  2.015457  1.768060\n",
              "Bruna    1.581830 -0.014040\n",
              "Breno    1.230456 -1.487051\n",
              "João    -1.598315  3.186187\n",
              "Maria    1.344750  0.950507"
            ]
          },
          "metadata": {
            "tags": []
          },
          "execution_count": 109
        }
      ]
    },
    {
      "cell_type": "code",
      "metadata": {
        "colab": {
          "base_uri": "https://localhost:8080/",
          "height": 204
        },
        "id": "RsjpST0mxp5R",
        "outputId": "c84c8f32-2274-4424-cdcb-6937c1fa5e1b"
      },
      "source": [
        "# o mapeamento também funciona se for feito com um obj series\n",
        "\n",
        "# tranforma o dict em series\n",
        "map_series = pd.Series(dict_mapeamento_grupos)\n",
        "\n",
        "# utiliza uma series para fazer o mapeamento\n",
        "pessoas.groupby(map_series, axis=1).sum()"
      ],
      "execution_count": 110,
      "outputs": [
        {
          "output_type": "execute_result",
          "data": {
            "text/html": [
              "<div>\n",
              "<style scoped>\n",
              "    .dataframe tbody tr th:only-of-type {\n",
              "        vertical-align: middle;\n",
              "    }\n",
              "\n",
              "    .dataframe tbody tr th {\n",
              "        vertical-align: top;\n",
              "    }\n",
              "\n",
              "    .dataframe thead th {\n",
              "        text-align: right;\n",
              "    }\n",
              "</style>\n",
              "<table border=\"1\" class=\"dataframe\">\n",
              "  <thead>\n",
              "    <tr style=\"text-align: right;\">\n",
              "      <th></th>\n",
              "      <th>Blue</th>\n",
              "      <th>Red</th>\n",
              "    </tr>\n",
              "  </thead>\n",
              "  <tbody>\n",
              "    <tr>\n",
              "      <th>Leandro</th>\n",
              "      <td>2.015457</td>\n",
              "      <td>1.768060</td>\n",
              "    </tr>\n",
              "    <tr>\n",
              "      <th>Bruna</th>\n",
              "      <td>1.581830</td>\n",
              "      <td>-0.014040</td>\n",
              "    </tr>\n",
              "    <tr>\n",
              "      <th>Breno</th>\n",
              "      <td>1.230456</td>\n",
              "      <td>-1.487051</td>\n",
              "    </tr>\n",
              "    <tr>\n",
              "      <th>João</th>\n",
              "      <td>-1.598315</td>\n",
              "      <td>3.186187</td>\n",
              "    </tr>\n",
              "    <tr>\n",
              "      <th>Maria</th>\n",
              "      <td>1.344750</td>\n",
              "      <td>0.950507</td>\n",
              "    </tr>\n",
              "  </tbody>\n",
              "</table>\n",
              "</div>"
            ],
            "text/plain": [
              "             Blue       Red\n",
              "Leandro  2.015457  1.768060\n",
              "Bruna    1.581830 -0.014040\n",
              "Breno    1.230456 -1.487051\n",
              "João    -1.598315  3.186187\n",
              "Maria    1.344750  0.950507"
            ]
          },
          "metadata": {
            "tags": []
          },
          "execution_count": 110
        }
      ]
    },
    {
      "cell_type": "markdown",
      "metadata": {
        "id": "1Su1KRBiVysV"
      },
      "source": [
        "## Agrupamentos com funções"
      ]
    },
    {
      "cell_type": "code",
      "metadata": {
        "colab": {
          "base_uri": "https://localhost:8080/",
          "height": 142
        },
        "id": "BrVJDX1s2kDF",
        "outputId": "f7524262-234f-4f44-d070-07f4fddb97a5"
      },
      "source": [
        "# agrupa pelo tamanho do nome da pessoa (indice)\n",
        "pessoas.groupby(len).sum()"
      ],
      "execution_count": 111,
      "outputs": [
        {
          "output_type": "execute_result",
          "data": {
            "text/html": [
              "<div>\n",
              "<style scoped>\n",
              "    .dataframe tbody tr th:only-of-type {\n",
              "        vertical-align: middle;\n",
              "    }\n",
              "\n",
              "    .dataframe tbody tr th {\n",
              "        vertical-align: top;\n",
              "    }\n",
              "\n",
              "    .dataframe thead th {\n",
              "        text-align: right;\n",
              "    }\n",
              "</style>\n",
              "<table border=\"1\" class=\"dataframe\">\n",
              "  <thead>\n",
              "    <tr style=\"text-align: right;\">\n",
              "      <th></th>\n",
              "      <th>a</th>\n",
              "      <th>b</th>\n",
              "      <th>c</th>\n",
              "      <th>d</th>\n",
              "      <th>e</th>\n",
              "    </tr>\n",
              "  </thead>\n",
              "  <tbody>\n",
              "    <tr>\n",
              "      <th>4</th>\n",
              "      <td>-0.539741</td>\n",
              "      <td>0.476985</td>\n",
              "      <td>3.248944</td>\n",
              "      <td>-1.021228</td>\n",
              "      <td>-0.577087</td>\n",
              "    </tr>\n",
              "    <tr>\n",
              "      <th>5</th>\n",
              "      <td>2.017740</td>\n",
              "      <td>-2.995245</td>\n",
              "      <td>0.426921</td>\n",
              "      <td>1.898878</td>\n",
              "      <td>2.258157</td>\n",
              "    </tr>\n",
              "    <tr>\n",
              "      <th>7</th>\n",
              "      <td>1.393406</td>\n",
              "      <td>0.092908</td>\n",
              "      <td>0.281746</td>\n",
              "      <td>0.769023</td>\n",
              "      <td>1.246435</td>\n",
              "    </tr>\n",
              "  </tbody>\n",
              "</table>\n",
              "</div>"
            ],
            "text/plain": [
              "          a         b         c         d         e\n",
              "4 -0.539741  0.476985  3.248944 -1.021228 -0.577087\n",
              "5  2.017740 -2.995245  0.426921  1.898878  2.258157\n",
              "7  1.393406  0.092908  0.281746  0.769023  1.246435"
            ]
          },
          "metadata": {
            "tags": []
          },
          "execution_count": 111
        }
      ]
    },
    {
      "cell_type": "code",
      "metadata": {
        "colab": {
          "base_uri": "https://localhost:8080/",
          "height": 235
        },
        "id": "CYHD5-VwWdX5",
        "outputId": "6efcadf9-f939-4c78-9b82-892e6f438f02"
      },
      "source": [
        "# agrupando usando um nível de índice\n",
        "indices_2niveis = pd.MultiIndex.from_arrays([[\"Leandro\", \"Bruna\", \"Breno\", \"João\", \"Maria\"],\n",
        "                                 [\"natacao\", \"natacao\", \"natacao\", \"basquete\", \"atletismo\"]], \n",
        "                                names=[\"familia\", \"esportes\"])\n",
        "\n",
        "# atribui o nome indice com 2 niveis para o dataframe\n",
        "pessoas.index = indices_2niveis\n",
        "\n",
        "# inverte os indices\n",
        "pessoas.swaplevel(\"esportes\", \"familia\")"
      ],
      "execution_count": 112,
      "outputs": [
        {
          "output_type": "execute_result",
          "data": {
            "text/html": [
              "<div>\n",
              "<style scoped>\n",
              "    .dataframe tbody tr th:only-of-type {\n",
              "        vertical-align: middle;\n",
              "    }\n",
              "\n",
              "    .dataframe tbody tr th {\n",
              "        vertical-align: top;\n",
              "    }\n",
              "\n",
              "    .dataframe thead th {\n",
              "        text-align: right;\n",
              "    }\n",
              "</style>\n",
              "<table border=\"1\" class=\"dataframe\">\n",
              "  <thead>\n",
              "    <tr style=\"text-align: right;\">\n",
              "      <th></th>\n",
              "      <th></th>\n",
              "      <th>a</th>\n",
              "      <th>b</th>\n",
              "      <th>c</th>\n",
              "      <th>d</th>\n",
              "      <th>e</th>\n",
              "    </tr>\n",
              "    <tr>\n",
              "      <th>esportes</th>\n",
              "      <th>familia</th>\n",
              "      <th></th>\n",
              "      <th></th>\n",
              "      <th></th>\n",
              "      <th></th>\n",
              "      <th></th>\n",
              "    </tr>\n",
              "  </thead>\n",
              "  <tbody>\n",
              "    <tr>\n",
              "      <th rowspan=\"3\" valign=\"top\">natacao</th>\n",
              "      <th>Leandro</th>\n",
              "      <td>1.393406</td>\n",
              "      <td>0.092908</td>\n",
              "      <td>0.281746</td>\n",
              "      <td>0.769023</td>\n",
              "      <td>1.246435</td>\n",
              "    </tr>\n",
              "    <tr>\n",
              "      <th>Bruna</th>\n",
              "      <td>1.007189</td>\n",
              "      <td>-1.296221</td>\n",
              "      <td>0.274992</td>\n",
              "      <td>0.228913</td>\n",
              "      <td>1.352917</td>\n",
              "    </tr>\n",
              "    <tr>\n",
              "      <th>Breno</th>\n",
              "      <td>0.886429</td>\n",
              "      <td>-2.001637</td>\n",
              "      <td>-0.371843</td>\n",
              "      <td>1.669025</td>\n",
              "      <td>-0.438570</td>\n",
              "    </tr>\n",
              "    <tr>\n",
              "      <th>basquete</th>\n",
              "      <th>João</th>\n",
              "      <td>-0.539741</td>\n",
              "      <td>0.476985</td>\n",
              "      <td>3.248944</td>\n",
              "      <td>-1.021228</td>\n",
              "      <td>-0.577087</td>\n",
              "    </tr>\n",
              "    <tr>\n",
              "      <th>atletismo</th>\n",
              "      <th>Maria</th>\n",
              "      <td>0.124121</td>\n",
              "      <td>0.302614</td>\n",
              "      <td>0.523772</td>\n",
              "      <td>0.000940</td>\n",
              "      <td>1.343810</td>\n",
              "    </tr>\n",
              "  </tbody>\n",
              "</table>\n",
              "</div>"
            ],
            "text/plain": [
              "                          a         b         c         d         e\n",
              "esportes  familia                                                  \n",
              "natacao   Leandro  1.393406  0.092908  0.281746  0.769023  1.246435\n",
              "          Bruna    1.007189 -1.296221  0.274992  0.228913  1.352917\n",
              "          Breno    0.886429 -2.001637 -0.371843  1.669025 -0.438570\n",
              "basquete  João    -0.539741  0.476985  3.248944 -1.021228 -0.577087\n",
              "atletismo Maria    0.124121  0.302614  0.523772  0.000940  1.343810"
            ]
          },
          "metadata": {
            "tags": []
          },
          "execution_count": 112
        }
      ]
    },
    {
      "cell_type": "code",
      "metadata": {
        "colab": {
          "base_uri": "https://localhost:8080/",
          "height": 173
        },
        "id": "G5jCR7qtY4gT",
        "outputId": "f12724a9-4e50-47f3-daaa-300f24779543"
      },
      "source": [
        "# agrupa pelo indice no level \"esportes\" apenas nas colunas numericas a e b\n",
        "pessoas.groupby(level=\"esportes\", axis=0)[[\"a\", \"b\"]].sum()"
      ],
      "execution_count": 113,
      "outputs": [
        {
          "output_type": "execute_result",
          "data": {
            "text/html": [
              "<div>\n",
              "<style scoped>\n",
              "    .dataframe tbody tr th:only-of-type {\n",
              "        vertical-align: middle;\n",
              "    }\n",
              "\n",
              "    .dataframe tbody tr th {\n",
              "        vertical-align: top;\n",
              "    }\n",
              "\n",
              "    .dataframe thead th {\n",
              "        text-align: right;\n",
              "    }\n",
              "</style>\n",
              "<table border=\"1\" class=\"dataframe\">\n",
              "  <thead>\n",
              "    <tr style=\"text-align: right;\">\n",
              "      <th></th>\n",
              "      <th>a</th>\n",
              "      <th>b</th>\n",
              "    </tr>\n",
              "    <tr>\n",
              "      <th>esportes</th>\n",
              "      <th></th>\n",
              "      <th></th>\n",
              "    </tr>\n",
              "  </thead>\n",
              "  <tbody>\n",
              "    <tr>\n",
              "      <th>atletismo</th>\n",
              "      <td>0.124121</td>\n",
              "      <td>0.302614</td>\n",
              "    </tr>\n",
              "    <tr>\n",
              "      <th>basquete</th>\n",
              "      <td>-0.539741</td>\n",
              "      <td>0.476985</td>\n",
              "    </tr>\n",
              "    <tr>\n",
              "      <th>natacao</th>\n",
              "      <td>3.287025</td>\n",
              "      <td>-3.204951</td>\n",
              "    </tr>\n",
              "  </tbody>\n",
              "</table>\n",
              "</div>"
            ],
            "text/plain": [
              "                  a         b\n",
              "esportes                     \n",
              "atletismo  0.124121  0.302614\n",
              "basquete  -0.539741  0.476985\n",
              "natacao    3.287025 -3.204951"
            ]
          },
          "metadata": {
            "tags": []
          },
          "execution_count": 113
        }
      ]
    },
    {
      "cell_type": "markdown",
      "metadata": {
        "id": "1nBQj_JGf9FR"
      },
      "source": [
        "# Agregação\n",
        "Depois que os grupos são criados pela função groupby as funções de agregação entram em ação fazendo os calculos.\n",
        "- count\n",
        "- min, max\n",
        "- str e var (desvio padrão e variancia)\n",
        "- prod (produto dois valores)\n",
        "- first, last"
      ]
    },
    {
      "cell_type": "code",
      "metadata": {
        "colab": {
          "base_uri": "https://localhost:8080/",
          "height": 173
        },
        "id": "BHzcW0UWbM9z",
        "outputId": "9fbed14d-2e1c-4342-d4ae-35223a51b132"
      },
      "source": [
        "# soma\n",
        "pessoas.reset_index()\n",
        "pessoas.groupby([\"esportes\"])[[\"a\", \"b\"]].sum()"
      ],
      "execution_count": 114,
      "outputs": [
        {
          "output_type": "execute_result",
          "data": {
            "text/html": [
              "<div>\n",
              "<style scoped>\n",
              "    .dataframe tbody tr th:only-of-type {\n",
              "        vertical-align: middle;\n",
              "    }\n",
              "\n",
              "    .dataframe tbody tr th {\n",
              "        vertical-align: top;\n",
              "    }\n",
              "\n",
              "    .dataframe thead th {\n",
              "        text-align: right;\n",
              "    }\n",
              "</style>\n",
              "<table border=\"1\" class=\"dataframe\">\n",
              "  <thead>\n",
              "    <tr style=\"text-align: right;\">\n",
              "      <th></th>\n",
              "      <th>a</th>\n",
              "      <th>b</th>\n",
              "    </tr>\n",
              "    <tr>\n",
              "      <th>esportes</th>\n",
              "      <th></th>\n",
              "      <th></th>\n",
              "    </tr>\n",
              "  </thead>\n",
              "  <tbody>\n",
              "    <tr>\n",
              "      <th>atletismo</th>\n",
              "      <td>0.124121</td>\n",
              "      <td>0.302614</td>\n",
              "    </tr>\n",
              "    <tr>\n",
              "      <th>basquete</th>\n",
              "      <td>-0.539741</td>\n",
              "      <td>0.476985</td>\n",
              "    </tr>\n",
              "    <tr>\n",
              "      <th>natacao</th>\n",
              "      <td>3.287025</td>\n",
              "      <td>-3.204951</td>\n",
              "    </tr>\n",
              "  </tbody>\n",
              "</table>\n",
              "</div>"
            ],
            "text/plain": [
              "                  a         b\n",
              "esportes                     \n",
              "atletismo  0.124121  0.302614\n",
              "basquete  -0.539741  0.476985\n",
              "natacao    3.287025 -3.204951"
            ]
          },
          "metadata": {
            "tags": []
          },
          "execution_count": 114
        }
      ]
    },
    {
      "cell_type": "code",
      "metadata": {
        "colab": {
          "base_uri": "https://localhost:8080/",
          "height": 173
        },
        "id": "9McbydPPg-LP",
        "outputId": "a0c00d8d-b6b4-435b-87a9-bdc4e0185052"
      },
      "source": [
        "# min\n",
        "pessoas.groupby([\"esportes\"])[[\"a\", \"b\"]].min()"
      ],
      "execution_count": 115,
      "outputs": [
        {
          "output_type": "execute_result",
          "data": {
            "text/html": [
              "<div>\n",
              "<style scoped>\n",
              "    .dataframe tbody tr th:only-of-type {\n",
              "        vertical-align: middle;\n",
              "    }\n",
              "\n",
              "    .dataframe tbody tr th {\n",
              "        vertical-align: top;\n",
              "    }\n",
              "\n",
              "    .dataframe thead th {\n",
              "        text-align: right;\n",
              "    }\n",
              "</style>\n",
              "<table border=\"1\" class=\"dataframe\">\n",
              "  <thead>\n",
              "    <tr style=\"text-align: right;\">\n",
              "      <th></th>\n",
              "      <th>a</th>\n",
              "      <th>b</th>\n",
              "    </tr>\n",
              "    <tr>\n",
              "      <th>esportes</th>\n",
              "      <th></th>\n",
              "      <th></th>\n",
              "    </tr>\n",
              "  </thead>\n",
              "  <tbody>\n",
              "    <tr>\n",
              "      <th>atletismo</th>\n",
              "      <td>0.124121</td>\n",
              "      <td>0.302614</td>\n",
              "    </tr>\n",
              "    <tr>\n",
              "      <th>basquete</th>\n",
              "      <td>-0.539741</td>\n",
              "      <td>0.476985</td>\n",
              "    </tr>\n",
              "    <tr>\n",
              "      <th>natacao</th>\n",
              "      <td>0.886429</td>\n",
              "      <td>-2.001637</td>\n",
              "    </tr>\n",
              "  </tbody>\n",
              "</table>\n",
              "</div>"
            ],
            "text/plain": [
              "                  a         b\n",
              "esportes                     \n",
              "atletismo  0.124121  0.302614\n",
              "basquete  -0.539741  0.476985\n",
              "natacao    0.886429 -2.001637"
            ]
          },
          "metadata": {
            "tags": []
          },
          "execution_count": 115
        }
      ]
    },
    {
      "cell_type": "code",
      "metadata": {
        "colab": {
          "base_uri": "https://localhost:8080/",
          "height": 204
        },
        "id": "vkMlFs8QhdPQ",
        "outputId": "e6774941-cd21-480e-fe4b-7307e1812abf"
      },
      "source": [
        "# agg: usando suas proprias funções, ou uma lista de funções\n",
        "# para cada coluna agregada, são aplicadas varias funções de agregação diferentes\n",
        "pessoas.groupby(\"esportes\").agg([\"min\", \"max\", \"count\", \"sum\"])[[\"a\", \"b\"]]"
      ],
      "execution_count": 116,
      "outputs": [
        {
          "output_type": "execute_result",
          "data": {
            "text/html": [
              "<div>\n",
              "<style scoped>\n",
              "    .dataframe tbody tr th:only-of-type {\n",
              "        vertical-align: middle;\n",
              "    }\n",
              "\n",
              "    .dataframe tbody tr th {\n",
              "        vertical-align: top;\n",
              "    }\n",
              "\n",
              "    .dataframe thead tr th {\n",
              "        text-align: left;\n",
              "    }\n",
              "\n",
              "    .dataframe thead tr:last-of-type th {\n",
              "        text-align: right;\n",
              "    }\n",
              "</style>\n",
              "<table border=\"1\" class=\"dataframe\">\n",
              "  <thead>\n",
              "    <tr>\n",
              "      <th></th>\n",
              "      <th colspan=\"4\" halign=\"left\">a</th>\n",
              "      <th colspan=\"4\" halign=\"left\">b</th>\n",
              "    </tr>\n",
              "    <tr>\n",
              "      <th></th>\n",
              "      <th>min</th>\n",
              "      <th>max</th>\n",
              "      <th>count</th>\n",
              "      <th>sum</th>\n",
              "      <th>min</th>\n",
              "      <th>max</th>\n",
              "      <th>count</th>\n",
              "      <th>sum</th>\n",
              "    </tr>\n",
              "    <tr>\n",
              "      <th>esportes</th>\n",
              "      <th></th>\n",
              "      <th></th>\n",
              "      <th></th>\n",
              "      <th></th>\n",
              "      <th></th>\n",
              "      <th></th>\n",
              "      <th></th>\n",
              "      <th></th>\n",
              "    </tr>\n",
              "  </thead>\n",
              "  <tbody>\n",
              "    <tr>\n",
              "      <th>atletismo</th>\n",
              "      <td>0.124121</td>\n",
              "      <td>0.124121</td>\n",
              "      <td>1</td>\n",
              "      <td>0.124121</td>\n",
              "      <td>0.302614</td>\n",
              "      <td>0.302614</td>\n",
              "      <td>1</td>\n",
              "      <td>0.302614</td>\n",
              "    </tr>\n",
              "    <tr>\n",
              "      <th>basquete</th>\n",
              "      <td>-0.539741</td>\n",
              "      <td>-0.539741</td>\n",
              "      <td>1</td>\n",
              "      <td>-0.539741</td>\n",
              "      <td>0.476985</td>\n",
              "      <td>0.476985</td>\n",
              "      <td>1</td>\n",
              "      <td>0.476985</td>\n",
              "    </tr>\n",
              "    <tr>\n",
              "      <th>natacao</th>\n",
              "      <td>0.886429</td>\n",
              "      <td>1.393406</td>\n",
              "      <td>3</td>\n",
              "      <td>3.287025</td>\n",
              "      <td>-2.001637</td>\n",
              "      <td>0.092908</td>\n",
              "      <td>3</td>\n",
              "      <td>-3.204951</td>\n",
              "    </tr>\n",
              "  </tbody>\n",
              "</table>\n",
              "</div>"
            ],
            "text/plain": [
              "                  a                  ...         b                \n",
              "                min       max count  ...       max count       sum\n",
              "esportes                             ...                          \n",
              "atletismo  0.124121  0.124121     1  ...  0.302614     1  0.302614\n",
              "basquete  -0.539741 -0.539741     1  ...  0.476985     1  0.476985\n",
              "natacao    0.886429  1.393406     3  ...  0.092908     3 -3.204951\n",
              "\n",
              "[3 rows x 8 columns]"
            ]
          },
          "metadata": {
            "tags": []
          },
          "execution_count": 116
        }
      ]
    },
    {
      "cell_type": "code",
      "metadata": {
        "colab": {
          "base_uri": "https://localhost:8080/",
          "height": 204
        },
        "id": "7_VmH2lqiBDj",
        "outputId": "eef4309d-ea4b-4463-8851-dfa9e3b1e66d"
      },
      "source": [
        "def max_min_dif(dados):\n",
        "  return dados.max() - dados.min()\n",
        "\n",
        "# Agrupa os esportes e faz a agregação das colunas \"a\" e \"b\" aplicando as funções de agregação \"max\", \"min\", \"max_min_dif\" (customizada)\n",
        "pessoas.groupby(\"esportes\").agg([\"count\", \"max\", \"min\", max_min_dif])[[\"a\", \"b\"]]"
      ],
      "execution_count": 117,
      "outputs": [
        {
          "output_type": "execute_result",
          "data": {
            "text/html": [
              "<div>\n",
              "<style scoped>\n",
              "    .dataframe tbody tr th:only-of-type {\n",
              "        vertical-align: middle;\n",
              "    }\n",
              "\n",
              "    .dataframe tbody tr th {\n",
              "        vertical-align: top;\n",
              "    }\n",
              "\n",
              "    .dataframe thead tr th {\n",
              "        text-align: left;\n",
              "    }\n",
              "\n",
              "    .dataframe thead tr:last-of-type th {\n",
              "        text-align: right;\n",
              "    }\n",
              "</style>\n",
              "<table border=\"1\" class=\"dataframe\">\n",
              "  <thead>\n",
              "    <tr>\n",
              "      <th></th>\n",
              "      <th colspan=\"4\" halign=\"left\">a</th>\n",
              "      <th colspan=\"4\" halign=\"left\">b</th>\n",
              "    </tr>\n",
              "    <tr>\n",
              "      <th></th>\n",
              "      <th>count</th>\n",
              "      <th>max</th>\n",
              "      <th>min</th>\n",
              "      <th>max_min_dif</th>\n",
              "      <th>count</th>\n",
              "      <th>max</th>\n",
              "      <th>min</th>\n",
              "      <th>max_min_dif</th>\n",
              "    </tr>\n",
              "    <tr>\n",
              "      <th>esportes</th>\n",
              "      <th></th>\n",
              "      <th></th>\n",
              "      <th></th>\n",
              "      <th></th>\n",
              "      <th></th>\n",
              "      <th></th>\n",
              "      <th></th>\n",
              "      <th></th>\n",
              "    </tr>\n",
              "  </thead>\n",
              "  <tbody>\n",
              "    <tr>\n",
              "      <th>atletismo</th>\n",
              "      <td>1</td>\n",
              "      <td>0.124121</td>\n",
              "      <td>0.124121</td>\n",
              "      <td>0.000000</td>\n",
              "      <td>1</td>\n",
              "      <td>0.302614</td>\n",
              "      <td>0.302614</td>\n",
              "      <td>0.000000</td>\n",
              "    </tr>\n",
              "    <tr>\n",
              "      <th>basquete</th>\n",
              "      <td>1</td>\n",
              "      <td>-0.539741</td>\n",
              "      <td>-0.539741</td>\n",
              "      <td>0.000000</td>\n",
              "      <td>1</td>\n",
              "      <td>0.476985</td>\n",
              "      <td>0.476985</td>\n",
              "      <td>0.000000</td>\n",
              "    </tr>\n",
              "    <tr>\n",
              "      <th>natacao</th>\n",
              "      <td>3</td>\n",
              "      <td>1.393406</td>\n",
              "      <td>0.886429</td>\n",
              "      <td>0.506976</td>\n",
              "      <td>3</td>\n",
              "      <td>0.092908</td>\n",
              "      <td>-2.001637</td>\n",
              "      <td>2.094545</td>\n",
              "    </tr>\n",
              "  </tbody>\n",
              "</table>\n",
              "</div>"
            ],
            "text/plain": [
              "              a                      ...         b                      \n",
              "          count       max       min  ...       max       min max_min_dif\n",
              "esportes                             ...                                \n",
              "atletismo     1  0.124121  0.124121  ...  0.302614  0.302614    0.000000\n",
              "basquete      1 -0.539741 -0.539741  ...  0.476985  0.476985    0.000000\n",
              "natacao       3  1.393406  0.886429  ...  0.092908 -2.001637    2.094545\n",
              "\n",
              "[3 rows x 8 columns]"
            ]
          },
          "metadata": {
            "tags": []
          },
          "execution_count": 117
        }
      ]
    },
    {
      "cell_type": "code",
      "metadata": {
        "colab": {
          "base_uri": "https://localhost:8080/",
          "height": 204
        },
        "id": "-uuehhOKjX0C",
        "outputId": "94beeb95-6cf7-4aa7-f532-338bd3b913fa"
      },
      "source": [
        "pessoas.groupby(\"esportes\").agg([\"count\", \"mean\", \"std\", \"min\", \"quantile\", \"max\" ])[[\"a\"]]"
      ],
      "execution_count": 118,
      "outputs": [
        {
          "output_type": "execute_result",
          "data": {
            "text/html": [
              "<div>\n",
              "<style scoped>\n",
              "    .dataframe tbody tr th:only-of-type {\n",
              "        vertical-align: middle;\n",
              "    }\n",
              "\n",
              "    .dataframe tbody tr th {\n",
              "        vertical-align: top;\n",
              "    }\n",
              "\n",
              "    .dataframe thead tr th {\n",
              "        text-align: left;\n",
              "    }\n",
              "\n",
              "    .dataframe thead tr:last-of-type th {\n",
              "        text-align: right;\n",
              "    }\n",
              "</style>\n",
              "<table border=\"1\" class=\"dataframe\">\n",
              "  <thead>\n",
              "    <tr>\n",
              "      <th></th>\n",
              "      <th colspan=\"6\" halign=\"left\">a</th>\n",
              "    </tr>\n",
              "    <tr>\n",
              "      <th></th>\n",
              "      <th>count</th>\n",
              "      <th>mean</th>\n",
              "      <th>std</th>\n",
              "      <th>min</th>\n",
              "      <th>quantile</th>\n",
              "      <th>max</th>\n",
              "    </tr>\n",
              "    <tr>\n",
              "      <th>esportes</th>\n",
              "      <th></th>\n",
              "      <th></th>\n",
              "      <th></th>\n",
              "      <th></th>\n",
              "      <th></th>\n",
              "      <th></th>\n",
              "    </tr>\n",
              "  </thead>\n",
              "  <tbody>\n",
              "    <tr>\n",
              "      <th>atletismo</th>\n",
              "      <td>1</td>\n",
              "      <td>0.124121</td>\n",
              "      <td>NaN</td>\n",
              "      <td>0.124121</td>\n",
              "      <td>0.124121</td>\n",
              "      <td>0.124121</td>\n",
              "    </tr>\n",
              "    <tr>\n",
              "      <th>basquete</th>\n",
              "      <td>1</td>\n",
              "      <td>-0.539741</td>\n",
              "      <td>NaN</td>\n",
              "      <td>-0.539741</td>\n",
              "      <td>-0.539741</td>\n",
              "      <td>-0.539741</td>\n",
              "    </tr>\n",
              "    <tr>\n",
              "      <th>natacao</th>\n",
              "      <td>3</td>\n",
              "      <td>1.095675</td>\n",
              "      <td>0.264818</td>\n",
              "      <td>0.886429</td>\n",
              "      <td>1.007189</td>\n",
              "      <td>1.393406</td>\n",
              "    </tr>\n",
              "  </tbody>\n",
              "</table>\n",
              "</div>"
            ],
            "text/plain": [
              "              a                                                  \n",
              "          count      mean       std       min  quantile       max\n",
              "esportes                                                         \n",
              "atletismo     1  0.124121       NaN  0.124121  0.124121  0.124121\n",
              "basquete      1 -0.539741       NaN -0.539741 -0.539741 -0.539741\n",
              "natacao       3  1.095675  0.264818  0.886429  1.007189  1.393406"
            ]
          },
          "metadata": {
            "tags": []
          },
          "execution_count": 118
        }
      ]
    },
    {
      "cell_type": "code",
      "metadata": {
        "colab": {
          "base_uri": "https://localhost:8080/",
          "height": 173
        },
        "id": "KuneUONkkKFP",
        "outputId": "40993598-7f53-4160-80dc-b9b557fd4676"
      },
      "source": [
        "# definindo o nome da função\n",
        "# por padrão os nome das colunas recebem os nome das funções utilizadas\n",
        "# para alterar os nomes passamos as tuplas na função agg\n",
        "pessoas.groupby(\"esportes\").agg([(\"Máximo\", \"max\"), (\"Mínimo\", \"min\"), (\"Quantidade\", \"count\"), (\"Mediana\", \"quantile\")])[\"a\"]"
      ],
      "execution_count": 119,
      "outputs": [
        {
          "output_type": "execute_result",
          "data": {
            "text/html": [
              "<div>\n",
              "<style scoped>\n",
              "    .dataframe tbody tr th:only-of-type {\n",
              "        vertical-align: middle;\n",
              "    }\n",
              "\n",
              "    .dataframe tbody tr th {\n",
              "        vertical-align: top;\n",
              "    }\n",
              "\n",
              "    .dataframe thead th {\n",
              "        text-align: right;\n",
              "    }\n",
              "</style>\n",
              "<table border=\"1\" class=\"dataframe\">\n",
              "  <thead>\n",
              "    <tr style=\"text-align: right;\">\n",
              "      <th></th>\n",
              "      <th>Máximo</th>\n",
              "      <th>Mínimo</th>\n",
              "      <th>Quantidade</th>\n",
              "      <th>Mediana</th>\n",
              "    </tr>\n",
              "    <tr>\n",
              "      <th>esportes</th>\n",
              "      <th></th>\n",
              "      <th></th>\n",
              "      <th></th>\n",
              "      <th></th>\n",
              "    </tr>\n",
              "  </thead>\n",
              "  <tbody>\n",
              "    <tr>\n",
              "      <th>atletismo</th>\n",
              "      <td>0.124121</td>\n",
              "      <td>0.124121</td>\n",
              "      <td>1</td>\n",
              "      <td>0.124121</td>\n",
              "    </tr>\n",
              "    <tr>\n",
              "      <th>basquete</th>\n",
              "      <td>-0.539741</td>\n",
              "      <td>-0.539741</td>\n",
              "      <td>1</td>\n",
              "      <td>-0.539741</td>\n",
              "    </tr>\n",
              "    <tr>\n",
              "      <th>natacao</th>\n",
              "      <td>1.393406</td>\n",
              "      <td>0.886429</td>\n",
              "      <td>3</td>\n",
              "      <td>1.007189</td>\n",
              "    </tr>\n",
              "  </tbody>\n",
              "</table>\n",
              "</div>"
            ],
            "text/plain": [
              "             Máximo    Mínimo  Quantidade   Mediana\n",
              "esportes                                           \n",
              "atletismo  0.124121  0.124121           1  0.124121\n",
              "basquete  -0.539741 -0.539741           1 -0.539741\n",
              "natacao    1.393406  0.886429           3  1.007189"
            ]
          },
          "metadata": {
            "tags": []
          },
          "execution_count": 119
        }
      ]
    },
    {
      "cell_type": "code",
      "metadata": {
        "colab": {
          "base_uri": "https://localhost:8080/",
          "height": 173
        },
        "id": "BBlzIl5zkzuB",
        "outputId": "81d9cd10-0e06-4c15-a5cb-0b962f46251c"
      },
      "source": [
        "# todas as 3 funções de agregação são aplicadas as colunas a e b\n",
        "func = (\"count\", \"max\", \"min\")\n",
        "resultado = pessoas[[\"a\", \"b\"]].groupby(\"esportes\").agg(func)\n",
        "\n",
        "resultado[\"a\"]"
      ],
      "execution_count": 120,
      "outputs": [
        {
          "output_type": "execute_result",
          "data": {
            "text/html": [
              "<div>\n",
              "<style scoped>\n",
              "    .dataframe tbody tr th:only-of-type {\n",
              "        vertical-align: middle;\n",
              "    }\n",
              "\n",
              "    .dataframe tbody tr th {\n",
              "        vertical-align: top;\n",
              "    }\n",
              "\n",
              "    .dataframe thead th {\n",
              "        text-align: right;\n",
              "    }\n",
              "</style>\n",
              "<table border=\"1\" class=\"dataframe\">\n",
              "  <thead>\n",
              "    <tr style=\"text-align: right;\">\n",
              "      <th></th>\n",
              "      <th>count</th>\n",
              "      <th>max</th>\n",
              "      <th>min</th>\n",
              "    </tr>\n",
              "    <tr>\n",
              "      <th>esportes</th>\n",
              "      <th></th>\n",
              "      <th></th>\n",
              "      <th></th>\n",
              "    </tr>\n",
              "  </thead>\n",
              "  <tbody>\n",
              "    <tr>\n",
              "      <th>atletismo</th>\n",
              "      <td>1</td>\n",
              "      <td>0.124121</td>\n",
              "      <td>0.124121</td>\n",
              "    </tr>\n",
              "    <tr>\n",
              "      <th>basquete</th>\n",
              "      <td>1</td>\n",
              "      <td>-0.539741</td>\n",
              "      <td>-0.539741</td>\n",
              "    </tr>\n",
              "    <tr>\n",
              "      <th>natacao</th>\n",
              "      <td>3</td>\n",
              "      <td>1.393406</td>\n",
              "      <td>0.886429</td>\n",
              "    </tr>\n",
              "  </tbody>\n",
              "</table>\n",
              "</div>"
            ],
            "text/plain": [
              "           count       max       min\n",
              "esportes                            \n",
              "atletismo      1  0.124121  0.124121\n",
              "basquete       1 -0.539741 -0.539741\n",
              "natacao        3  1.393406  0.886429"
            ]
          },
          "metadata": {
            "tags": []
          },
          "execution_count": 120
        }
      ]
    },
    {
      "cell_type": "code",
      "metadata": {
        "colab": {
          "base_uri": "https://localhost:8080/",
          "height": 173
        },
        "id": "9_fTdjEdnrl5",
        "outputId": "9d6ce338-77d3-47a1-84bf-84bb4496c424"
      },
      "source": [
        "# Para cada coluna numérica uma ou varias funções de agregação diferentes\n",
        "pessoas.reset_index(inplace=True)\n",
        "\n",
        "# agrupa os esportes e agrega para a coluna \"a\" usando a função sum e a coluna \"b\" usando as funções count, max, min\n",
        "pessoas.groupby(\"esportes\", as_index=False).agg({\"a\": \"sum\", \"b\": [\"count\", \"max\", \"min\"]})"
      ],
      "execution_count": 121,
      "outputs": [
        {
          "output_type": "execute_result",
          "data": {
            "text/html": [
              "<div>\n",
              "<style scoped>\n",
              "    .dataframe tbody tr th:only-of-type {\n",
              "        vertical-align: middle;\n",
              "    }\n",
              "\n",
              "    .dataframe tbody tr th {\n",
              "        vertical-align: top;\n",
              "    }\n",
              "\n",
              "    .dataframe thead tr th {\n",
              "        text-align: left;\n",
              "    }\n",
              "</style>\n",
              "<table border=\"1\" class=\"dataframe\">\n",
              "  <thead>\n",
              "    <tr>\n",
              "      <th></th>\n",
              "      <th>esportes</th>\n",
              "      <th>a</th>\n",
              "      <th colspan=\"3\" halign=\"left\">b</th>\n",
              "    </tr>\n",
              "    <tr>\n",
              "      <th></th>\n",
              "      <th></th>\n",
              "      <th>sum</th>\n",
              "      <th>count</th>\n",
              "      <th>max</th>\n",
              "      <th>min</th>\n",
              "    </tr>\n",
              "  </thead>\n",
              "  <tbody>\n",
              "    <tr>\n",
              "      <th>0</th>\n",
              "      <td>atletismo</td>\n",
              "      <td>0.124121</td>\n",
              "      <td>1</td>\n",
              "      <td>0.302614</td>\n",
              "      <td>0.302614</td>\n",
              "    </tr>\n",
              "    <tr>\n",
              "      <th>1</th>\n",
              "      <td>basquete</td>\n",
              "      <td>-0.539741</td>\n",
              "      <td>1</td>\n",
              "      <td>0.476985</td>\n",
              "      <td>0.476985</td>\n",
              "    </tr>\n",
              "    <tr>\n",
              "      <th>2</th>\n",
              "      <td>natacao</td>\n",
              "      <td>3.287025</td>\n",
              "      <td>3</td>\n",
              "      <td>0.092908</td>\n",
              "      <td>-2.001637</td>\n",
              "    </tr>\n",
              "  </tbody>\n",
              "</table>\n",
              "</div>"
            ],
            "text/plain": [
              "    esportes         a     b                    \n",
              "                   sum count       max       min\n",
              "0  atletismo  0.124121     1  0.302614  0.302614\n",
              "1   basquete -0.539741     1  0.476985  0.476985\n",
              "2    natacao  3.287025     3  0.092908 -2.001637"
            ]
          },
          "metadata": {
            "tags": []
          },
          "execution_count": 121
        }
      ]
    },
    {
      "cell_type": "markdown",
      "metadata": {
        "id": "yA-6Hh0ECqw_"
      },
      "source": [
        "# Apply\n",
        "Chama uma função a cada parde separada em grupos e depois reagrupa"
      ]
    },
    {
      "cell_type": "code",
      "metadata": {
        "id": "ZaSgIkoepz2q"
      },
      "source": [
        "# top 5 por grupo\n",
        "def topn_grupo(df, n=2, coluna=\"a\"):\n",
        "  \n",
        "  # retorna os valores ordenados pela coluna e apenas os ultimos n [-n:]\n",
        "  return df.sort_values(by=coluna)[-n:]"
      ],
      "execution_count": 122,
      "outputs": []
    },
    {
      "cell_type": "code",
      "metadata": {
        "colab": {
          "base_uri": "https://localhost:8080/",
          "height": 204
        },
        "id": "EMjUNTCB5jKs",
        "outputId": "cacfa908-6737-4663-f5c1-f2758d5d5000"
      },
      "source": [
        "#todos os valores ordenados\n",
        "pessoas.sort_values(by=\"a\", ascending=False)[[\"esportes\", \"familia\", \"a\"]]"
      ],
      "execution_count": 123,
      "outputs": [
        {
          "output_type": "execute_result",
          "data": {
            "text/html": [
              "<div>\n",
              "<style scoped>\n",
              "    .dataframe tbody tr th:only-of-type {\n",
              "        vertical-align: middle;\n",
              "    }\n",
              "\n",
              "    .dataframe tbody tr th {\n",
              "        vertical-align: top;\n",
              "    }\n",
              "\n",
              "    .dataframe thead th {\n",
              "        text-align: right;\n",
              "    }\n",
              "</style>\n",
              "<table border=\"1\" class=\"dataframe\">\n",
              "  <thead>\n",
              "    <tr style=\"text-align: right;\">\n",
              "      <th></th>\n",
              "      <th>esportes</th>\n",
              "      <th>familia</th>\n",
              "      <th>a</th>\n",
              "    </tr>\n",
              "  </thead>\n",
              "  <tbody>\n",
              "    <tr>\n",
              "      <th>0</th>\n",
              "      <td>natacao</td>\n",
              "      <td>Leandro</td>\n",
              "      <td>1.393406</td>\n",
              "    </tr>\n",
              "    <tr>\n",
              "      <th>1</th>\n",
              "      <td>natacao</td>\n",
              "      <td>Bruna</td>\n",
              "      <td>1.007189</td>\n",
              "    </tr>\n",
              "    <tr>\n",
              "      <th>2</th>\n",
              "      <td>natacao</td>\n",
              "      <td>Breno</td>\n",
              "      <td>0.886429</td>\n",
              "    </tr>\n",
              "    <tr>\n",
              "      <th>4</th>\n",
              "      <td>atletismo</td>\n",
              "      <td>Maria</td>\n",
              "      <td>0.124121</td>\n",
              "    </tr>\n",
              "    <tr>\n",
              "      <th>3</th>\n",
              "      <td>basquete</td>\n",
              "      <td>João</td>\n",
              "      <td>-0.539741</td>\n",
              "    </tr>\n",
              "  </tbody>\n",
              "</table>\n",
              "</div>"
            ],
            "text/plain": [
              "    esportes  familia         a\n",
              "0    natacao  Leandro  1.393406\n",
              "1    natacao    Bruna  1.007189\n",
              "2    natacao    Breno  0.886429\n",
              "4  atletismo    Maria  0.124121\n",
              "3   basquete     João -0.539741"
            ]
          },
          "metadata": {
            "tags": []
          },
          "execution_count": 123
        }
      ]
    },
    {
      "cell_type": "code",
      "metadata": {
        "colab": {
          "base_uri": "https://localhost:8080/",
          "height": 111
        },
        "id": "JiJGCPZ352Y5",
        "outputId": "d8ea939a-5904-4dd3-b4f4-0f1ed2766304"
      },
      "source": [
        "# top n para o df todo\n",
        "topn_grupo(pessoas)"
      ],
      "execution_count": 124,
      "outputs": [
        {
          "output_type": "execute_result",
          "data": {
            "text/html": [
              "<div>\n",
              "<style scoped>\n",
              "    .dataframe tbody tr th:only-of-type {\n",
              "        vertical-align: middle;\n",
              "    }\n",
              "\n",
              "    .dataframe tbody tr th {\n",
              "        vertical-align: top;\n",
              "    }\n",
              "\n",
              "    .dataframe thead th {\n",
              "        text-align: right;\n",
              "    }\n",
              "</style>\n",
              "<table border=\"1\" class=\"dataframe\">\n",
              "  <thead>\n",
              "    <tr style=\"text-align: right;\">\n",
              "      <th></th>\n",
              "      <th>familia</th>\n",
              "      <th>esportes</th>\n",
              "      <th>a</th>\n",
              "      <th>b</th>\n",
              "      <th>c</th>\n",
              "      <th>d</th>\n",
              "      <th>e</th>\n",
              "    </tr>\n",
              "  </thead>\n",
              "  <tbody>\n",
              "    <tr>\n",
              "      <th>1</th>\n",
              "      <td>Bruna</td>\n",
              "      <td>natacao</td>\n",
              "      <td>1.007189</td>\n",
              "      <td>-1.296221</td>\n",
              "      <td>0.274992</td>\n",
              "      <td>0.228913</td>\n",
              "      <td>1.352917</td>\n",
              "    </tr>\n",
              "    <tr>\n",
              "      <th>0</th>\n",
              "      <td>Leandro</td>\n",
              "      <td>natacao</td>\n",
              "      <td>1.393406</td>\n",
              "      <td>0.092908</td>\n",
              "      <td>0.281746</td>\n",
              "      <td>0.769023</td>\n",
              "      <td>1.246435</td>\n",
              "    </tr>\n",
              "  </tbody>\n",
              "</table>\n",
              "</div>"
            ],
            "text/plain": [
              "   familia esportes         a         b         c         d         e\n",
              "1    Bruna  natacao  1.007189 -1.296221  0.274992  0.228913  1.352917\n",
              "0  Leandro  natacao  1.393406  0.092908  0.281746  0.769023  1.246435"
            ]
          },
          "metadata": {
            "tags": []
          },
          "execution_count": 124
        }
      ]
    },
    {
      "cell_type": "code",
      "metadata": {
        "colab": {
          "base_uri": "https://localhost:8080/",
          "height": 204
        },
        "id": "IcfF5xf06ISZ",
        "outputId": "2a9e1476-f91d-47aa-f1f8-6bb961350560"
      },
      "source": [
        "# topn aplicado a cada grupo e depois os grupos são unidos usando a função concat (union) do pandas \n",
        "# neste exemplo, natação apesar de ter 3 linhas, retorna apenas os 2 primeiros\n",
        "# os argumentos da função são passados depois da função (n=2 e coluna=\"a\")\n",
        "pessoas.groupby([\"esportes\"]).apply(topn_grupo, n=2, coluna=\"a\")"
      ],
      "execution_count": 125,
      "outputs": [
        {
          "output_type": "execute_result",
          "data": {
            "text/html": [
              "<div>\n",
              "<style scoped>\n",
              "    .dataframe tbody tr th:only-of-type {\n",
              "        vertical-align: middle;\n",
              "    }\n",
              "\n",
              "    .dataframe tbody tr th {\n",
              "        vertical-align: top;\n",
              "    }\n",
              "\n",
              "    .dataframe thead th {\n",
              "        text-align: right;\n",
              "    }\n",
              "</style>\n",
              "<table border=\"1\" class=\"dataframe\">\n",
              "  <thead>\n",
              "    <tr style=\"text-align: right;\">\n",
              "      <th></th>\n",
              "      <th></th>\n",
              "      <th>familia</th>\n",
              "      <th>esportes</th>\n",
              "      <th>a</th>\n",
              "      <th>b</th>\n",
              "      <th>c</th>\n",
              "      <th>d</th>\n",
              "      <th>e</th>\n",
              "    </tr>\n",
              "    <tr>\n",
              "      <th>esportes</th>\n",
              "      <th></th>\n",
              "      <th></th>\n",
              "      <th></th>\n",
              "      <th></th>\n",
              "      <th></th>\n",
              "      <th></th>\n",
              "      <th></th>\n",
              "      <th></th>\n",
              "    </tr>\n",
              "  </thead>\n",
              "  <tbody>\n",
              "    <tr>\n",
              "      <th>atletismo</th>\n",
              "      <th>4</th>\n",
              "      <td>Maria</td>\n",
              "      <td>atletismo</td>\n",
              "      <td>0.124121</td>\n",
              "      <td>0.302614</td>\n",
              "      <td>0.523772</td>\n",
              "      <td>0.000940</td>\n",
              "      <td>1.343810</td>\n",
              "    </tr>\n",
              "    <tr>\n",
              "      <th>basquete</th>\n",
              "      <th>3</th>\n",
              "      <td>João</td>\n",
              "      <td>basquete</td>\n",
              "      <td>-0.539741</td>\n",
              "      <td>0.476985</td>\n",
              "      <td>3.248944</td>\n",
              "      <td>-1.021228</td>\n",
              "      <td>-0.577087</td>\n",
              "    </tr>\n",
              "    <tr>\n",
              "      <th rowspan=\"2\" valign=\"top\">natacao</th>\n",
              "      <th>1</th>\n",
              "      <td>Bruna</td>\n",
              "      <td>natacao</td>\n",
              "      <td>1.007189</td>\n",
              "      <td>-1.296221</td>\n",
              "      <td>0.274992</td>\n",
              "      <td>0.228913</td>\n",
              "      <td>1.352917</td>\n",
              "    </tr>\n",
              "    <tr>\n",
              "      <th>0</th>\n",
              "      <td>Leandro</td>\n",
              "      <td>natacao</td>\n",
              "      <td>1.393406</td>\n",
              "      <td>0.092908</td>\n",
              "      <td>0.281746</td>\n",
              "      <td>0.769023</td>\n",
              "      <td>1.246435</td>\n",
              "    </tr>\n",
              "  </tbody>\n",
              "</table>\n",
              "</div>"
            ],
            "text/plain": [
              "             familia   esportes         a  ...         c         d         e\n",
              "esportes                                   ...                              \n",
              "atletismo 4    Maria  atletismo  0.124121  ...  0.523772  0.000940  1.343810\n",
              "basquete  3     João   basquete -0.539741  ...  3.248944 -1.021228 -0.577087\n",
              "natacao   1    Bruna    natacao  1.007189  ...  0.274992  0.228913  1.352917\n",
              "          0  Leandro    natacao  1.393406  ...  0.281746  0.769023  1.246435\n",
              "\n",
              "[4 rows x 7 columns]"
            ]
          },
          "metadata": {
            "tags": []
          },
          "execution_count": 125
        }
      ]
    },
    {
      "cell_type": "code",
      "metadata": {
        "colab": {
          "base_uri": "https://localhost:8080/",
          "height": 173
        },
        "id": "Tc43zWPH6t6a",
        "outputId": "2fd2c950-6882-43b8-c62d-8699b8b34fec"
      },
      "source": [
        "# os grupos por padrão viram indices\n",
        "# para desativar group_keys=False\n",
        "pessoas.groupby(\"esportes\", group_keys=False).apply(topn_grupo, n=2, coluna=\"a\")"
      ],
      "execution_count": 126,
      "outputs": [
        {
          "output_type": "execute_result",
          "data": {
            "text/html": [
              "<div>\n",
              "<style scoped>\n",
              "    .dataframe tbody tr th:only-of-type {\n",
              "        vertical-align: middle;\n",
              "    }\n",
              "\n",
              "    .dataframe tbody tr th {\n",
              "        vertical-align: top;\n",
              "    }\n",
              "\n",
              "    .dataframe thead th {\n",
              "        text-align: right;\n",
              "    }\n",
              "</style>\n",
              "<table border=\"1\" class=\"dataframe\">\n",
              "  <thead>\n",
              "    <tr style=\"text-align: right;\">\n",
              "      <th></th>\n",
              "      <th>familia</th>\n",
              "      <th>esportes</th>\n",
              "      <th>a</th>\n",
              "      <th>b</th>\n",
              "      <th>c</th>\n",
              "      <th>d</th>\n",
              "      <th>e</th>\n",
              "    </tr>\n",
              "  </thead>\n",
              "  <tbody>\n",
              "    <tr>\n",
              "      <th>4</th>\n",
              "      <td>Maria</td>\n",
              "      <td>atletismo</td>\n",
              "      <td>0.124121</td>\n",
              "      <td>0.302614</td>\n",
              "      <td>0.523772</td>\n",
              "      <td>0.000940</td>\n",
              "      <td>1.343810</td>\n",
              "    </tr>\n",
              "    <tr>\n",
              "      <th>3</th>\n",
              "      <td>João</td>\n",
              "      <td>basquete</td>\n",
              "      <td>-0.539741</td>\n",
              "      <td>0.476985</td>\n",
              "      <td>3.248944</td>\n",
              "      <td>-1.021228</td>\n",
              "      <td>-0.577087</td>\n",
              "    </tr>\n",
              "    <tr>\n",
              "      <th>1</th>\n",
              "      <td>Bruna</td>\n",
              "      <td>natacao</td>\n",
              "      <td>1.007189</td>\n",
              "      <td>-1.296221</td>\n",
              "      <td>0.274992</td>\n",
              "      <td>0.228913</td>\n",
              "      <td>1.352917</td>\n",
              "    </tr>\n",
              "    <tr>\n",
              "      <th>0</th>\n",
              "      <td>Leandro</td>\n",
              "      <td>natacao</td>\n",
              "      <td>1.393406</td>\n",
              "      <td>0.092908</td>\n",
              "      <td>0.281746</td>\n",
              "      <td>0.769023</td>\n",
              "      <td>1.246435</td>\n",
              "    </tr>\n",
              "  </tbody>\n",
              "</table>\n",
              "</div>"
            ],
            "text/plain": [
              "   familia   esportes         a         b         c         d         e\n",
              "4    Maria  atletismo  0.124121  0.302614  0.523772  0.000940  1.343810\n",
              "3     João   basquete -0.539741  0.476985  3.248944 -1.021228 -0.577087\n",
              "1    Bruna    natacao  1.007189 -1.296221  0.274992  0.228913  1.352917\n",
              "0  Leandro    natacao  1.393406  0.092908  0.281746  0.769023  1.246435"
            ]
          },
          "metadata": {
            "tags": []
          },
          "execution_count": 126
        }
      ]
    },
    {
      "cell_type": "markdown",
      "metadata": {
        "id": "8w_UAaQM-H-1"
      },
      "source": [
        "# Fillna com a média do grupo\n",
        "Uma alternativa para o preenchimento de valores NaN é remover, usar a média da coluna ou zerar valor. Mas pode ser interessante atribuir a média do valor de acordo com um agrupamento significativo no qual o registro pertence."
      ]
    },
    {
      "cell_type": "code",
      "metadata": {
        "colab": {
          "base_uri": "https://localhost:8080/"
        },
        "id": "gbXAVWFp9rNs",
        "outputId": "8054558b-4a65-4676-a7c5-dc2683fb69d9"
      },
      "source": [
        "# criando uma serie com alguns elementos NaN\n",
        "states = ['Ohio', 'New York', 'Vermont', 'Florida', 'Oregon', 'Nevada', 'California', 'Idaho']\n",
        "data = pd.Series(np.random.randn(8), index=states)\n",
        "data[['Vermont', 'Nevada', 'Idaho']] = np.nan\n",
        "\n",
        "data"
      ],
      "execution_count": 127,
      "outputs": [
        {
          "output_type": "execute_result",
          "data": {
            "text/plain": [
              "Ohio         -0.713544\n",
              "New York     -0.831154\n",
              "Vermont            NaN\n",
              "Florida      -1.860761\n",
              "Oregon       -0.860757\n",
              "Nevada             NaN\n",
              "California   -1.265934\n",
              "Idaho              NaN\n",
              "dtype: float64"
            ]
          },
          "metadata": {
            "tags": []
          },
          "execution_count": 127
        }
      ]
    },
    {
      "cell_type": "code",
      "metadata": {
        "colab": {
          "base_uri": "https://localhost:8080/"
        },
        "id": "pt-vAtcQAoI0",
        "outputId": "457d4bfe-5e5c-495a-dc03-3eddb7fea481"
      },
      "source": [
        "# criando uma lista para ser usada como agrupamento\n",
        "group_key = ['East'] * 4 + ['West'] * 4\n",
        "\n",
        "# média dos grupos\n",
        "data.groupby(group_key).mean()"
      ],
      "execution_count": 128,
      "outputs": [
        {
          "output_type": "execute_result",
          "data": {
            "text/plain": [
              "East   -1.135153\n",
              "West   -1.063346\n",
              "dtype: float64"
            ]
          },
          "metadata": {
            "tags": []
          },
          "execution_count": 128
        }
      ]
    },
    {
      "cell_type": "code",
      "metadata": {
        "colab": {
          "base_uri": "https://localhost:8080/"
        },
        "id": "CoufBYKUAxEa",
        "outputId": "ee47cd20-d564-454f-db1d-eda400846e5f"
      },
      "source": [
        "# função para preencher com a média do grupo passado como param\n",
        "fill_mean = lambda g: g.fillna(g.mean())\n",
        "\n",
        "# separa os grupos por \"east\" e \"west\", aplica a função lambda, passa o grupos para a função que preenche com fillna\n",
        "data.groupby(group_key).apply(fill_mean)"
      ],
      "execution_count": 129,
      "outputs": [
        {
          "output_type": "execute_result",
          "data": {
            "text/plain": [
              "Ohio         -0.713544\n",
              "New York     -0.831154\n",
              "Vermont      -1.135153\n",
              "Florida      -1.860761\n",
              "Oregon       -0.860757\n",
              "Nevada       -1.063346\n",
              "California   -1.265934\n",
              "Idaho        -1.063346\n",
              "dtype: float64"
            ]
          },
          "metadata": {
            "tags": []
          },
          "execution_count": 129
        }
      ]
    },
    {
      "cell_type": "code",
      "metadata": {
        "id": "a2yMpLgGA3j-",
        "colab": {
          "base_uri": "https://localhost:8080/"
        },
        "outputId": "ec6bb642-f6d6-4a1b-d38a-176065e2a1bf"
      },
      "source": [
        "# preenchimento dos grupos com valores fixos\n",
        "fill_values = {'East': 999, 'West': -999}\n",
        "\n",
        "# usa o atributo name (\"east\" e \"west\") interno de cada grupo para buscar no dict a chave e retorna o valor fixo para fillna\n",
        "fill_func = lambda g: g.fillna(fill_values[g.name])\n",
        "\n",
        "# separa os grupos por \"east\" e \"west\", aplica a função lambda\n",
        "data.groupby(group_key).apply(fill_func)\n",
        "\n",
        "# valoes name e g do grupo\n",
        "# for name, g in data.groupby(group_key):\n",
        "#   print(name)\n",
        "#   print(g)"
      ],
      "execution_count": 130,
      "outputs": [
        {
          "output_type": "execute_result",
          "data": {
            "text/plain": [
              "Ohio           -0.713544\n",
              "New York       -0.831154\n",
              "Vermont       999.000000\n",
              "Florida        -1.860761\n",
              "Oregon         -0.860757\n",
              "Nevada       -999.000000\n",
              "California     -1.265934\n",
              "Idaho        -999.000000\n",
              "dtype: float64"
            ]
          },
          "metadata": {
            "tags": []
          },
          "execution_count": 130
        }
      ]
    },
    {
      "cell_type": "markdown",
      "metadata": {
        "id": "Qr5U1AbKzPeO"
      },
      "source": [
        "# Média ponderada de grupos\n",
        "media ponderada: soma da multiplicação dos valores pelos pesos, dividido pela soma dos pesos"
      ]
    },
    {
      "cell_type": "code",
      "metadata": {
        "colab": {
          "base_uri": "https://localhost:8080/",
          "height": 297
        },
        "id": "DzLFwts3yIHb",
        "outputId": "7602098e-d160-4e3d-99b4-4f270101247f"
      },
      "source": [
        "df = pd.DataFrame({'category': ['a', 'a', 'a', 'a',\n",
        "                                'b', 'b', 'b', 'b'],\n",
        "                   'data': np.random.randn(8),\n",
        "                   'weights': np.random.rand(8)})\n",
        "\n",
        "df[\"calc\"] = df[\"data\"] * df[\"weights\"]\n",
        "df"
      ],
      "execution_count": 131,
      "outputs": [
        {
          "output_type": "execute_result",
          "data": {
            "text/html": [
              "<div>\n",
              "<style scoped>\n",
              "    .dataframe tbody tr th:only-of-type {\n",
              "        vertical-align: middle;\n",
              "    }\n",
              "\n",
              "    .dataframe tbody tr th {\n",
              "        vertical-align: top;\n",
              "    }\n",
              "\n",
              "    .dataframe thead th {\n",
              "        text-align: right;\n",
              "    }\n",
              "</style>\n",
              "<table border=\"1\" class=\"dataframe\">\n",
              "  <thead>\n",
              "    <tr style=\"text-align: right;\">\n",
              "      <th></th>\n",
              "      <th>category</th>\n",
              "      <th>data</th>\n",
              "      <th>weights</th>\n",
              "      <th>calc</th>\n",
              "    </tr>\n",
              "  </thead>\n",
              "  <tbody>\n",
              "    <tr>\n",
              "      <th>0</th>\n",
              "      <td>a</td>\n",
              "      <td>-1.063512</td>\n",
              "      <td>0.125842</td>\n",
              "      <td>-0.133834</td>\n",
              "    </tr>\n",
              "    <tr>\n",
              "      <th>1</th>\n",
              "      <td>a</td>\n",
              "      <td>0.332883</td>\n",
              "      <td>0.687596</td>\n",
              "      <td>0.228889</td>\n",
              "    </tr>\n",
              "    <tr>\n",
              "      <th>2</th>\n",
              "      <td>a</td>\n",
              "      <td>-2.359419</td>\n",
              "      <td>0.799607</td>\n",
              "      <td>-1.886607</td>\n",
              "    </tr>\n",
              "    <tr>\n",
              "      <th>3</th>\n",
              "      <td>a</td>\n",
              "      <td>-0.199543</td>\n",
              "      <td>0.573537</td>\n",
              "      <td>-0.114445</td>\n",
              "    </tr>\n",
              "    <tr>\n",
              "      <th>4</th>\n",
              "      <td>b</td>\n",
              "      <td>-1.541996</td>\n",
              "      <td>0.973230</td>\n",
              "      <td>-1.500716</td>\n",
              "    </tr>\n",
              "    <tr>\n",
              "      <th>5</th>\n",
              "      <td>b</td>\n",
              "      <td>-0.970736</td>\n",
              "      <td>0.634054</td>\n",
              "      <td>-0.615499</td>\n",
              "    </tr>\n",
              "    <tr>\n",
              "      <th>6</th>\n",
              "      <td>b</td>\n",
              "      <td>-1.307030</td>\n",
              "      <td>0.888422</td>\n",
              "      <td>-1.161194</td>\n",
              "    </tr>\n",
              "    <tr>\n",
              "      <th>7</th>\n",
              "      <td>b</td>\n",
              "      <td>0.286350</td>\n",
              "      <td>0.495415</td>\n",
              "      <td>0.141862</td>\n",
              "    </tr>\n",
              "  </tbody>\n",
              "</table>\n",
              "</div>"
            ],
            "text/plain": [
              "  category      data   weights      calc\n",
              "0        a -1.063512  0.125842 -0.133834\n",
              "1        a  0.332883  0.687596  0.228889\n",
              "2        a -2.359419  0.799607 -1.886607\n",
              "3        a -0.199543  0.573537 -0.114445\n",
              "4        b -1.541996  0.973230 -1.500716\n",
              "5        b -0.970736  0.634054 -0.615499\n",
              "6        b -1.307030  0.888422 -1.161194\n",
              "7        b  0.286350  0.495415  0.141862"
            ]
          },
          "metadata": {
            "tags": []
          },
          "execution_count": 131
        }
      ]
    },
    {
      "cell_type": "code",
      "metadata": {
        "colab": {
          "base_uri": "https://localhost:8080/"
        },
        "id": "4nq8Z-QHzY7Z",
        "outputId": "4d5108d9-9b54-4f1b-a52a-0dfb672ce2cd"
      },
      "source": [
        "# media ponderada\n",
        "df[\"calc\"].sum() / df[\"weights\"].sum()"
      ],
      "execution_count": 132,
      "outputs": [
        {
          "output_type": "execute_result",
          "data": {
            "text/plain": [
              "-0.9737033772826028"
            ]
          },
          "metadata": {
            "tags": []
          },
          "execution_count": 132
        }
      ]
    },
    {
      "cell_type": "code",
      "metadata": {
        "colab": {
          "base_uri": "https://localhost:8080/"
        },
        "id": "Tb2x2tqu0Gfy",
        "outputId": "40073b2b-53aa-4bf2-9f9c-8dc00acfd60a"
      },
      "source": [
        "# separa em grupos \"a\" e \"b\"\n",
        "grouped = df.groupby('category')\n",
        "\n",
        "# recebe o grupo e faz o calculo da média ponderada\n",
        "get_wavg = lambda g: np.average(g['data'], weights=g['weights'])\n",
        "\n",
        "# passa os grupos e aplica a média ponderada em cada grupos e depois concatena (union)\n",
        "grouped.apply(get_wavg)"
      ],
      "execution_count": 133,
      "outputs": [
        {
          "output_type": "execute_result",
          "data": {
            "text/plain": [
              "category\n",
              "a   -0.871680\n",
              "b   -1.048285\n",
              "dtype: float64"
            ]
          },
          "metadata": {
            "tags": []
          },
          "execution_count": 133
        }
      ]
    },
    {
      "cell_type": "markdown",
      "metadata": {
        "id": "wi2j0K3h1mzv"
      },
      "source": [
        "# Pivot table\n",
        "Uma alternativa conveniente para agrupamentos e agregações com recursos para calculos de subtotais"
      ]
    },
    {
      "cell_type": "code",
      "metadata": {
        "colab": {
          "base_uri": "https://localhost:8080/",
          "height": 204
        },
        "id": "DGj84EZx0zzy",
        "outputId": "f01b4e4d-7ba1-405a-db63-62ae652e8a99"
      },
      "source": [
        "pessoas"
      ],
      "execution_count": 134,
      "outputs": [
        {
          "output_type": "execute_result",
          "data": {
            "text/html": [
              "<div>\n",
              "<style scoped>\n",
              "    .dataframe tbody tr th:only-of-type {\n",
              "        vertical-align: middle;\n",
              "    }\n",
              "\n",
              "    .dataframe tbody tr th {\n",
              "        vertical-align: top;\n",
              "    }\n",
              "\n",
              "    .dataframe thead th {\n",
              "        text-align: right;\n",
              "    }\n",
              "</style>\n",
              "<table border=\"1\" class=\"dataframe\">\n",
              "  <thead>\n",
              "    <tr style=\"text-align: right;\">\n",
              "      <th></th>\n",
              "      <th>familia</th>\n",
              "      <th>esportes</th>\n",
              "      <th>a</th>\n",
              "      <th>b</th>\n",
              "      <th>c</th>\n",
              "      <th>d</th>\n",
              "      <th>e</th>\n",
              "    </tr>\n",
              "  </thead>\n",
              "  <tbody>\n",
              "    <tr>\n",
              "      <th>0</th>\n",
              "      <td>Leandro</td>\n",
              "      <td>natacao</td>\n",
              "      <td>1.393406</td>\n",
              "      <td>0.092908</td>\n",
              "      <td>0.281746</td>\n",
              "      <td>0.769023</td>\n",
              "      <td>1.246435</td>\n",
              "    </tr>\n",
              "    <tr>\n",
              "      <th>1</th>\n",
              "      <td>Bruna</td>\n",
              "      <td>natacao</td>\n",
              "      <td>1.007189</td>\n",
              "      <td>-1.296221</td>\n",
              "      <td>0.274992</td>\n",
              "      <td>0.228913</td>\n",
              "      <td>1.352917</td>\n",
              "    </tr>\n",
              "    <tr>\n",
              "      <th>2</th>\n",
              "      <td>Breno</td>\n",
              "      <td>natacao</td>\n",
              "      <td>0.886429</td>\n",
              "      <td>-2.001637</td>\n",
              "      <td>-0.371843</td>\n",
              "      <td>1.669025</td>\n",
              "      <td>-0.438570</td>\n",
              "    </tr>\n",
              "    <tr>\n",
              "      <th>3</th>\n",
              "      <td>João</td>\n",
              "      <td>basquete</td>\n",
              "      <td>-0.539741</td>\n",
              "      <td>0.476985</td>\n",
              "      <td>3.248944</td>\n",
              "      <td>-1.021228</td>\n",
              "      <td>-0.577087</td>\n",
              "    </tr>\n",
              "    <tr>\n",
              "      <th>4</th>\n",
              "      <td>Maria</td>\n",
              "      <td>atletismo</td>\n",
              "      <td>0.124121</td>\n",
              "      <td>0.302614</td>\n",
              "      <td>0.523772</td>\n",
              "      <td>0.000940</td>\n",
              "      <td>1.343810</td>\n",
              "    </tr>\n",
              "  </tbody>\n",
              "</table>\n",
              "</div>"
            ],
            "text/plain": [
              "   familia   esportes         a         b         c         d         e\n",
              "0  Leandro    natacao  1.393406  0.092908  0.281746  0.769023  1.246435\n",
              "1    Bruna    natacao  1.007189 -1.296221  0.274992  0.228913  1.352917\n",
              "2    Breno    natacao  0.886429 -2.001637 -0.371843  1.669025 -0.438570\n",
              "3     João   basquete -0.539741  0.476985  3.248944 -1.021228 -0.577087\n",
              "4    Maria  atletismo  0.124121  0.302614  0.523772  0.000940  1.343810"
            ]
          },
          "metadata": {
            "tags": []
          },
          "execution_count": 134
        }
      ]
    },
    {
      "cell_type": "code",
      "metadata": {
        "colab": {
          "base_uri": "https://localhost:8080/",
          "height": 235
        },
        "id": "M-qFGFsV13lU",
        "outputId": "ce5f3fbe-39b8-417d-f6f1-8424d87413f9"
      },
      "source": [
        "# a agregação padrão usada é aggfunc=mean caso não seja informado\n",
        "pessoas.pivot_table(index=[\"esportes\", \"familia\"])"
      ],
      "execution_count": 135,
      "outputs": [
        {
          "output_type": "execute_result",
          "data": {
            "text/html": [
              "<div>\n",
              "<style scoped>\n",
              "    .dataframe tbody tr th:only-of-type {\n",
              "        vertical-align: middle;\n",
              "    }\n",
              "\n",
              "    .dataframe tbody tr th {\n",
              "        vertical-align: top;\n",
              "    }\n",
              "\n",
              "    .dataframe thead th {\n",
              "        text-align: right;\n",
              "    }\n",
              "</style>\n",
              "<table border=\"1\" class=\"dataframe\">\n",
              "  <thead>\n",
              "    <tr style=\"text-align: right;\">\n",
              "      <th></th>\n",
              "      <th></th>\n",
              "      <th>a</th>\n",
              "      <th>b</th>\n",
              "      <th>c</th>\n",
              "      <th>d</th>\n",
              "      <th>e</th>\n",
              "    </tr>\n",
              "    <tr>\n",
              "      <th>esportes</th>\n",
              "      <th>familia</th>\n",
              "      <th></th>\n",
              "      <th></th>\n",
              "      <th></th>\n",
              "      <th></th>\n",
              "      <th></th>\n",
              "    </tr>\n",
              "  </thead>\n",
              "  <tbody>\n",
              "    <tr>\n",
              "      <th>atletismo</th>\n",
              "      <th>Maria</th>\n",
              "      <td>0.124121</td>\n",
              "      <td>0.302614</td>\n",
              "      <td>0.523772</td>\n",
              "      <td>0.000940</td>\n",
              "      <td>1.343810</td>\n",
              "    </tr>\n",
              "    <tr>\n",
              "      <th>basquete</th>\n",
              "      <th>João</th>\n",
              "      <td>-0.539741</td>\n",
              "      <td>0.476985</td>\n",
              "      <td>3.248944</td>\n",
              "      <td>-1.021228</td>\n",
              "      <td>-0.577087</td>\n",
              "    </tr>\n",
              "    <tr>\n",
              "      <th rowspan=\"3\" valign=\"top\">natacao</th>\n",
              "      <th>Breno</th>\n",
              "      <td>0.886429</td>\n",
              "      <td>-2.001637</td>\n",
              "      <td>-0.371843</td>\n",
              "      <td>1.669025</td>\n",
              "      <td>-0.438570</td>\n",
              "    </tr>\n",
              "    <tr>\n",
              "      <th>Bruna</th>\n",
              "      <td>1.007189</td>\n",
              "      <td>-1.296221</td>\n",
              "      <td>0.274992</td>\n",
              "      <td>0.228913</td>\n",
              "      <td>1.352917</td>\n",
              "    </tr>\n",
              "    <tr>\n",
              "      <th>Leandro</th>\n",
              "      <td>1.393406</td>\n",
              "      <td>0.092908</td>\n",
              "      <td>0.281746</td>\n",
              "      <td>0.769023</td>\n",
              "      <td>1.246435</td>\n",
              "    </tr>\n",
              "  </tbody>\n",
              "</table>\n",
              "</div>"
            ],
            "text/plain": [
              "                          a         b         c         d         e\n",
              "esportes  familia                                                  \n",
              "atletismo Maria    0.124121  0.302614  0.523772  0.000940  1.343810\n",
              "basquete  João    -0.539741  0.476985  3.248944 -1.021228 -0.577087\n",
              "natacao   Breno    0.886429 -2.001637 -0.371843  1.669025 -0.438570\n",
              "          Bruna    1.007189 -1.296221  0.274992  0.228913  1.352917\n",
              "          Leandro  1.393406  0.092908  0.281746  0.769023  1.246435"
            ]
          },
          "metadata": {
            "tags": []
          },
          "execution_count": 135
        }
      ]
    },
    {
      "cell_type": "code",
      "metadata": {
        "colab": {
          "base_uri": "https://localhost:8080/",
          "height": 297
        },
        "id": "O3Tpt3_f2A8k",
        "outputId": "e3e46ab0-ffcd-4269-ce37-c5cfedb2baee"
      },
      "source": [
        "# agrega esportes nas colunas, familia nas linhas e usa apenas as medidas \"a\" e \"b\" com sum para agregação\n",
        "# values=<colunas usadas para agregar os valores \"medidas\"> \n",
        "# index=<atributo usado nas linhas>\n",
        "# columns=<atributo usado nas colunas>\n",
        "# aggfunc=<função de agregação>\n",
        "# margins=<true para incluir subtotais>\n",
        "# fill_value=<preenche as combinações vazias com o valor informado>\n",
        "pessoas.pivot_table(values=[\"a\", \"b\"], index=[\"familia\"], columns=[\"esportes\"], aggfunc=sum, margins=True, margins_name=\"Total Parcial\", fill_value=\"-\")"
      ],
      "execution_count": 136,
      "outputs": [
        {
          "output_type": "execute_result",
          "data": {
            "text/html": [
              "<div>\n",
              "<style scoped>\n",
              "    .dataframe tbody tr th:only-of-type {\n",
              "        vertical-align: middle;\n",
              "    }\n",
              "\n",
              "    .dataframe tbody tr th {\n",
              "        vertical-align: top;\n",
              "    }\n",
              "\n",
              "    .dataframe thead tr th {\n",
              "        text-align: left;\n",
              "    }\n",
              "\n",
              "    .dataframe thead tr:last-of-type th {\n",
              "        text-align: right;\n",
              "    }\n",
              "</style>\n",
              "<table border=\"1\" class=\"dataframe\">\n",
              "  <thead>\n",
              "    <tr>\n",
              "      <th></th>\n",
              "      <th colspan=\"4\" halign=\"left\">a</th>\n",
              "      <th colspan=\"4\" halign=\"left\">b</th>\n",
              "    </tr>\n",
              "    <tr>\n",
              "      <th>esportes</th>\n",
              "      <th>atletismo</th>\n",
              "      <th>basquete</th>\n",
              "      <th>natacao</th>\n",
              "      <th>Total Parcial</th>\n",
              "      <th>atletismo</th>\n",
              "      <th>basquete</th>\n",
              "      <th>natacao</th>\n",
              "      <th>Total Parcial</th>\n",
              "    </tr>\n",
              "    <tr>\n",
              "      <th>familia</th>\n",
              "      <th></th>\n",
              "      <th></th>\n",
              "      <th></th>\n",
              "      <th></th>\n",
              "      <th></th>\n",
              "      <th></th>\n",
              "      <th></th>\n",
              "      <th></th>\n",
              "    </tr>\n",
              "  </thead>\n",
              "  <tbody>\n",
              "    <tr>\n",
              "      <th>Breno</th>\n",
              "      <td>-</td>\n",
              "      <td>-</td>\n",
              "      <td>0.886429</td>\n",
              "      <td>0.886429</td>\n",
              "      <td>-</td>\n",
              "      <td>-</td>\n",
              "      <td>-2.00164</td>\n",
              "      <td>-2.00164</td>\n",
              "    </tr>\n",
              "    <tr>\n",
              "      <th>Bruna</th>\n",
              "      <td>-</td>\n",
              "      <td>-</td>\n",
              "      <td>1.00719</td>\n",
              "      <td>1.00719</td>\n",
              "      <td>-</td>\n",
              "      <td>-</td>\n",
              "      <td>-1.29622</td>\n",
              "      <td>-1.29622</td>\n",
              "    </tr>\n",
              "    <tr>\n",
              "      <th>João</th>\n",
              "      <td>-</td>\n",
              "      <td>-0.539741</td>\n",
              "      <td>-</td>\n",
              "      <td>-0.539741</td>\n",
              "      <td>-</td>\n",
              "      <td>0.476985</td>\n",
              "      <td>-</td>\n",
              "      <td>0.476985</td>\n",
              "    </tr>\n",
              "    <tr>\n",
              "      <th>Leandro</th>\n",
              "      <td>-</td>\n",
              "      <td>-</td>\n",
              "      <td>1.39341</td>\n",
              "      <td>1.39341</td>\n",
              "      <td>-</td>\n",
              "      <td>-</td>\n",
              "      <td>0.0929079</td>\n",
              "      <td>0.0929079</td>\n",
              "    </tr>\n",
              "    <tr>\n",
              "      <th>Maria</th>\n",
              "      <td>0.124121</td>\n",
              "      <td>-</td>\n",
              "      <td>-</td>\n",
              "      <td>0.124121</td>\n",
              "      <td>0.302614</td>\n",
              "      <td>-</td>\n",
              "      <td>-</td>\n",
              "      <td>0.302614</td>\n",
              "    </tr>\n",
              "    <tr>\n",
              "      <th>Total Parcial</th>\n",
              "      <td>0.124121</td>\n",
              "      <td>-0.539741</td>\n",
              "      <td>3.28702</td>\n",
              "      <td>2.8714</td>\n",
              "      <td>0.302614</td>\n",
              "      <td>0.476985</td>\n",
              "      <td>-3.20495</td>\n",
              "      <td>-2.42535</td>\n",
              "    </tr>\n",
              "  </tbody>\n",
              "</table>\n",
              "</div>"
            ],
            "text/plain": [
              "                      a                      ...         b                         \n",
              "esportes      atletismo  basquete   natacao  ...  basquete    natacao Total Parcial\n",
              "familia                                      ...                                   \n",
              "Breno                 -         -  0.886429  ...         -   -2.00164      -2.00164\n",
              "Bruna                 -         -   1.00719  ...         -   -1.29622      -1.29622\n",
              "João                  - -0.539741         -  ...  0.476985          -      0.476985\n",
              "Leandro               -         -   1.39341  ...         -  0.0929079     0.0929079\n",
              "Maria          0.124121         -         -  ...         -          -      0.302614\n",
              "Total Parcial  0.124121 -0.539741   3.28702  ...  0.476985   -3.20495      -2.42535\n",
              "\n",
              "[6 rows x 8 columns]"
            ]
          },
          "metadata": {
            "tags": []
          },
          "execution_count": 136
        }
      ]
    },
    {
      "cell_type": "markdown",
      "metadata": {
        "id": "wjnVycSN4eV3"
      },
      "source": [
        "# Crosstab\n",
        "É um caso especial de aplicação pivot_table"
      ]
    },
    {
      "cell_type": "code",
      "metadata": {
        "colab": {
          "base_uri": "https://localhost:8080/",
          "height": 359
        },
        "id": "FVAr-ixU2b8s",
        "outputId": "6b7e9b82-9ed8-4c9c-d8f1-040fd0051c76"
      },
      "source": [
        "# transforma uma string em um stream de string para leitura\n",
        "from io import StringIO\n",
        "\n",
        "data = \"\"\"\\\n",
        "Medalhas  Nationality  Handedness\n",
        "10   USA  Right-handed\n",
        "20   Japan    Left-handed\n",
        "13   USA  Right-handed\n",
        "4   Japan    Right-handed\n",
        "15   Japan    Left-handed\n",
        "6   Japan    Right-handed\n",
        "17   USA  Right-handed\n",
        "8   USA  Left-handed\n",
        "9   Japan    Right-handed\n",
        "10  USA  Right-handed\"\"\"\n",
        "\n",
        "# cria um df lendo um StringIO com separador de espaços\n",
        "# sep='s+' representa serador de espaços com quantidade de espaços variado (separa as colunas da tabela quando identifica um ou mais espaços)\n",
        "data = pd.read_table(StringIO(data), sep='\\s+')\n",
        "\n",
        "data.sort_values(by=\"Nationality\")"
      ],
      "execution_count": 137,
      "outputs": [
        {
          "output_type": "execute_result",
          "data": {
            "text/html": [
              "<div>\n",
              "<style scoped>\n",
              "    .dataframe tbody tr th:only-of-type {\n",
              "        vertical-align: middle;\n",
              "    }\n",
              "\n",
              "    .dataframe tbody tr th {\n",
              "        vertical-align: top;\n",
              "    }\n",
              "\n",
              "    .dataframe thead th {\n",
              "        text-align: right;\n",
              "    }\n",
              "</style>\n",
              "<table border=\"1\" class=\"dataframe\">\n",
              "  <thead>\n",
              "    <tr style=\"text-align: right;\">\n",
              "      <th></th>\n",
              "      <th>Medalhas</th>\n",
              "      <th>Nationality</th>\n",
              "      <th>Handedness</th>\n",
              "    </tr>\n",
              "  </thead>\n",
              "  <tbody>\n",
              "    <tr>\n",
              "      <th>1</th>\n",
              "      <td>20</td>\n",
              "      <td>Japan</td>\n",
              "      <td>Left-handed</td>\n",
              "    </tr>\n",
              "    <tr>\n",
              "      <th>3</th>\n",
              "      <td>4</td>\n",
              "      <td>Japan</td>\n",
              "      <td>Right-handed</td>\n",
              "    </tr>\n",
              "    <tr>\n",
              "      <th>4</th>\n",
              "      <td>15</td>\n",
              "      <td>Japan</td>\n",
              "      <td>Left-handed</td>\n",
              "    </tr>\n",
              "    <tr>\n",
              "      <th>5</th>\n",
              "      <td>6</td>\n",
              "      <td>Japan</td>\n",
              "      <td>Right-handed</td>\n",
              "    </tr>\n",
              "    <tr>\n",
              "      <th>8</th>\n",
              "      <td>9</td>\n",
              "      <td>Japan</td>\n",
              "      <td>Right-handed</td>\n",
              "    </tr>\n",
              "    <tr>\n",
              "      <th>0</th>\n",
              "      <td>10</td>\n",
              "      <td>USA</td>\n",
              "      <td>Right-handed</td>\n",
              "    </tr>\n",
              "    <tr>\n",
              "      <th>2</th>\n",
              "      <td>13</td>\n",
              "      <td>USA</td>\n",
              "      <td>Right-handed</td>\n",
              "    </tr>\n",
              "    <tr>\n",
              "      <th>6</th>\n",
              "      <td>17</td>\n",
              "      <td>USA</td>\n",
              "      <td>Right-handed</td>\n",
              "    </tr>\n",
              "    <tr>\n",
              "      <th>7</th>\n",
              "      <td>8</td>\n",
              "      <td>USA</td>\n",
              "      <td>Left-handed</td>\n",
              "    </tr>\n",
              "    <tr>\n",
              "      <th>9</th>\n",
              "      <td>10</td>\n",
              "      <td>USA</td>\n",
              "      <td>Right-handed</td>\n",
              "    </tr>\n",
              "  </tbody>\n",
              "</table>\n",
              "</div>"
            ],
            "text/plain": [
              "   Medalhas Nationality    Handedness\n",
              "1        20       Japan   Left-handed\n",
              "3         4       Japan  Right-handed\n",
              "4        15       Japan   Left-handed\n",
              "5         6       Japan  Right-handed\n",
              "8         9       Japan  Right-handed\n",
              "0        10         USA  Right-handed\n",
              "2        13         USA  Right-handed\n",
              "6        17         USA  Right-handed\n",
              "7         8         USA   Left-handed\n",
              "9        10         USA  Right-handed"
            ]
          },
          "metadata": {
            "tags": []
          },
          "execution_count": 137
        }
      ]
    },
    {
      "cell_type": "code",
      "metadata": {
        "colab": {
          "base_uri": "https://localhost:8080/",
          "height": 173
        },
        "id": "14XY7IT-6BWJ",
        "outputId": "27942eeb-ca38-4e39-9577-7cd60a7d93c8"
      },
      "source": [
        "# por padrão a função de agregação é a quantidade de registros\n",
        "# margins True conta a quantidade de registros\n",
        "pd.crosstab(index=data[\"Nationality\"], columns=data[\"Handedness\"], margins=True)"
      ],
      "execution_count": 138,
      "outputs": [
        {
          "output_type": "execute_result",
          "data": {
            "text/html": [
              "<div>\n",
              "<style scoped>\n",
              "    .dataframe tbody tr th:only-of-type {\n",
              "        vertical-align: middle;\n",
              "    }\n",
              "\n",
              "    .dataframe tbody tr th {\n",
              "        vertical-align: top;\n",
              "    }\n",
              "\n",
              "    .dataframe thead th {\n",
              "        text-align: right;\n",
              "    }\n",
              "</style>\n",
              "<table border=\"1\" class=\"dataframe\">\n",
              "  <thead>\n",
              "    <tr style=\"text-align: right;\">\n",
              "      <th>Handedness</th>\n",
              "      <th>Left-handed</th>\n",
              "      <th>Right-handed</th>\n",
              "      <th>All</th>\n",
              "    </tr>\n",
              "    <tr>\n",
              "      <th>Nationality</th>\n",
              "      <th></th>\n",
              "      <th></th>\n",
              "      <th></th>\n",
              "    </tr>\n",
              "  </thead>\n",
              "  <tbody>\n",
              "    <tr>\n",
              "      <th>Japan</th>\n",
              "      <td>2</td>\n",
              "      <td>3</td>\n",
              "      <td>5</td>\n",
              "    </tr>\n",
              "    <tr>\n",
              "      <th>USA</th>\n",
              "      <td>1</td>\n",
              "      <td>4</td>\n",
              "      <td>5</td>\n",
              "    </tr>\n",
              "    <tr>\n",
              "      <th>All</th>\n",
              "      <td>3</td>\n",
              "      <td>7</td>\n",
              "      <td>10</td>\n",
              "    </tr>\n",
              "  </tbody>\n",
              "</table>\n",
              "</div>"
            ],
            "text/plain": [
              "Handedness   Left-handed  Right-handed  All\n",
              "Nationality                                \n",
              "Japan                  2             3    5\n",
              "USA                    1             4    5\n",
              "All                    3             7   10"
            ]
          },
          "metadata": {
            "tags": []
          },
          "execution_count": 138
        }
      ]
    },
    {
      "cell_type": "code",
      "metadata": {
        "colab": {
          "base_uri": "https://localhost:8080/",
          "height": 173
        },
        "id": "MfRLwo9u6q79",
        "outputId": "77a681be-4bff-4ef4-82d5-8af2fa8673d1"
      },
      "source": [
        "# por padrão a função de agregação é a quantidade de registros\n",
        "# para alterar a função de agregação passamos values= e a função aggfunc\n",
        "pd.crosstab(index=data[\"Nationality\"], columns=data[\"Handedness\"], margins=True, values=data[\"Medalhas\"], aggfunc=\"sum\")"
      ],
      "execution_count": 140,
      "outputs": [
        {
          "output_type": "execute_result",
          "data": {
            "text/html": [
              "<div>\n",
              "<style scoped>\n",
              "    .dataframe tbody tr th:only-of-type {\n",
              "        vertical-align: middle;\n",
              "    }\n",
              "\n",
              "    .dataframe tbody tr th {\n",
              "        vertical-align: top;\n",
              "    }\n",
              "\n",
              "    .dataframe thead th {\n",
              "        text-align: right;\n",
              "    }\n",
              "</style>\n",
              "<table border=\"1\" class=\"dataframe\">\n",
              "  <thead>\n",
              "    <tr style=\"text-align: right;\">\n",
              "      <th>Handedness</th>\n",
              "      <th>Left-handed</th>\n",
              "      <th>Right-handed</th>\n",
              "      <th>All</th>\n",
              "    </tr>\n",
              "    <tr>\n",
              "      <th>Nationality</th>\n",
              "      <th></th>\n",
              "      <th></th>\n",
              "      <th></th>\n",
              "    </tr>\n",
              "  </thead>\n",
              "  <tbody>\n",
              "    <tr>\n",
              "      <th>Japan</th>\n",
              "      <td>35</td>\n",
              "      <td>19</td>\n",
              "      <td>54</td>\n",
              "    </tr>\n",
              "    <tr>\n",
              "      <th>USA</th>\n",
              "      <td>8</td>\n",
              "      <td>50</td>\n",
              "      <td>58</td>\n",
              "    </tr>\n",
              "    <tr>\n",
              "      <th>All</th>\n",
              "      <td>43</td>\n",
              "      <td>69</td>\n",
              "      <td>112</td>\n",
              "    </tr>\n",
              "  </tbody>\n",
              "</table>\n",
              "</div>"
            ],
            "text/plain": [
              "Handedness   Left-handed  Right-handed  All\n",
              "Nationality                                \n",
              "Japan                 35            19   54\n",
              "USA                    8            50   58\n",
              "All                   43            69  112"
            ]
          },
          "metadata": {
            "tags": []
          },
          "execution_count": 140
        }
      ]
    },
    {
      "cell_type": "code",
      "metadata": {
        "colab": {
          "base_uri": "https://localhost:8080/",
          "height": 173
        },
        "id": "hm6QA--O7oJC",
        "outputId": "a109bfcf-59dd-4d93-e8f0-1cb9cd93692e"
      },
      "source": [
        "# normalize=True transforma os numeros e percentual do total geral\n",
        "pd.crosstab(index=data[\"Nationality\"], columns=data[\"Handedness\"], margins=True, values=data[\"Medalhas\"], aggfunc=\"sum\", normalize=True, margins_name=\"Total\")"
      ],
      "execution_count": 153,
      "outputs": [
        {
          "output_type": "execute_result",
          "data": {
            "text/html": [
              "<div>\n",
              "<style scoped>\n",
              "    .dataframe tbody tr th:only-of-type {\n",
              "        vertical-align: middle;\n",
              "    }\n",
              "\n",
              "    .dataframe tbody tr th {\n",
              "        vertical-align: top;\n",
              "    }\n",
              "\n",
              "    .dataframe thead th {\n",
              "        text-align: right;\n",
              "    }\n",
              "</style>\n",
              "<table border=\"1\" class=\"dataframe\">\n",
              "  <thead>\n",
              "    <tr style=\"text-align: right;\">\n",
              "      <th>Handedness</th>\n",
              "      <th>Left-handed</th>\n",
              "      <th>Right-handed</th>\n",
              "      <th>Total</th>\n",
              "    </tr>\n",
              "    <tr>\n",
              "      <th>Nationality</th>\n",
              "      <th></th>\n",
              "      <th></th>\n",
              "      <th></th>\n",
              "    </tr>\n",
              "  </thead>\n",
              "  <tbody>\n",
              "    <tr>\n",
              "      <th>Japan</th>\n",
              "      <td>0.312500</td>\n",
              "      <td>0.169643</td>\n",
              "      <td>0.482143</td>\n",
              "    </tr>\n",
              "    <tr>\n",
              "      <th>USA</th>\n",
              "      <td>0.071429</td>\n",
              "      <td>0.446429</td>\n",
              "      <td>0.517857</td>\n",
              "    </tr>\n",
              "    <tr>\n",
              "      <th>Total</th>\n",
              "      <td>0.383929</td>\n",
              "      <td>0.616071</td>\n",
              "      <td>1.000000</td>\n",
              "    </tr>\n",
              "  </tbody>\n",
              "</table>\n",
              "</div>"
            ],
            "text/plain": [
              "Handedness   Left-handed  Right-handed     Total\n",
              "Nationality                                     \n",
              "Japan           0.312500      0.169643  0.482143\n",
              "USA             0.071429      0.446429  0.517857\n",
              "Total           0.383929      0.616071  1.000000"
            ]
          },
          "metadata": {
            "tags": []
          },
          "execution_count": 153
        }
      ]
    },
    {
      "cell_type": "code",
      "metadata": {
        "id": "vRYcRd72YKXF"
      },
      "source": [
        ""
      ],
      "execution_count": 152,
      "outputs": []
    }
  ]
}