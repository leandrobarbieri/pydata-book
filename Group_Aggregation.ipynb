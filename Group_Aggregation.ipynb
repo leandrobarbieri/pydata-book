{
  "nbformat": 4,
  "nbformat_minor": 0,
  "metadata": {
    "colab": {
      "name": "Group Aggregation.ipynb",
      "provenance": [],
      "collapsed_sections": [],
      "toc_visible": true,
      "authorship_tag": "ABX9TyN8kE3jGwHZbzb+TSn09qkD",
      "include_colab_link": true
    },
    "kernelspec": {
      "name": "python3",
      "display_name": "Python 3"
    },
    "language_info": {
      "name": "python"
    }
  },
  "cells": [
    {
      "cell_type": "markdown",
      "metadata": {
        "id": "view-in-github",
        "colab_type": "text"
      },
      "source": [
        "<a href=\"https://colab.research.google.com/github/leandrobarbieri/pydata-book/blob/2nd-edition/Group_Aggregation.ipynb\" target=\"_parent\"><img src=\"https://colab.research.google.com/assets/colab-badge.svg\" alt=\"Open In Colab\"/></a>"
      ]
    },
    {
      "cell_type": "markdown",
      "metadata": {
        "id": "ojSyrKkaWHnM"
      },
      "source": [
        "# Agrupamento e agregação\n",
        "- 1: Separa os grupos, 2: Aplica funções de agregação, 3: Recombina em um novo df agregado.\n",
        "- Cálculos estatísticos de resumo em colunas numéricas\n",
        "- Iteração nos grupos\n",
        "- Agrupamentos de colunas. Une várias colunas em uma\n",
        "- Agregaçao com funções\n",
        "- Agregaçao com mais de uma função por coluna numérica\n",
        "- Agregação de cada coluna numerica com uma fução diferente\n",
        "- Tabelas pivot e crosstab"
      ]
    },
    {
      "cell_type": "code",
      "metadata": {
        "id": "W_o02J4DWElg"
      },
      "source": [
        "# importações e configurações\n",
        "import numpy as np\n",
        "import pandas as pd\n",
        "import matplotlib.pyplot as plt\n",
        "\n",
        "plt.rc('figure', figsize=(10, 6))\n",
        "np.set_printoptions(precision=4, suppress=True)\n",
        "PREVIOUS_MAX_ROWS = pd.options.display.max_rows\n",
        "pd.options.display.max_rows = 20\n",
        "np.random.seed(12345)"
      ],
      "execution_count": 114,
      "outputs": []
    },
    {
      "cell_type": "markdown",
      "metadata": {
        "id": "umG-y0laaNoJ"
      },
      "source": [
        "# Group By"
      ]
    },
    {
      "cell_type": "code",
      "metadata": {
        "colab": {
          "base_uri": "https://localhost:8080/",
          "height": 204
        },
        "id": "Kfmhv3dvYkQI",
        "outputId": "91e257da-4323-4e8d-ce31-6f23bad5b9cf"
      },
      "source": [
        "# cria um df de testes com dados categoricos (serão agrupado) e numéricos (serão agregados)\n",
        "df = pd.DataFrame({'key1' : ['a', 'a', 'b', 'b', 'a'],\n",
        "                   'key2' : ['one', 'two', 'one', 'two', 'one'],\n",
        "                   'data1' : np.arange(5),\n",
        "                   'data2' : np.random.randn(5)})\n",
        "df"
      ],
      "execution_count": 115,
      "outputs": [
        {
          "output_type": "execute_result",
          "data": {
            "text/html": [
              "<div>\n",
              "<style scoped>\n",
              "    .dataframe tbody tr th:only-of-type {\n",
              "        vertical-align: middle;\n",
              "    }\n",
              "\n",
              "    .dataframe tbody tr th {\n",
              "        vertical-align: top;\n",
              "    }\n",
              "\n",
              "    .dataframe thead th {\n",
              "        text-align: right;\n",
              "    }\n",
              "</style>\n",
              "<table border=\"1\" class=\"dataframe\">\n",
              "  <thead>\n",
              "    <tr style=\"text-align: right;\">\n",
              "      <th></th>\n",
              "      <th>key1</th>\n",
              "      <th>key2</th>\n",
              "      <th>data1</th>\n",
              "      <th>data2</th>\n",
              "    </tr>\n",
              "  </thead>\n",
              "  <tbody>\n",
              "    <tr>\n",
              "      <th>0</th>\n",
              "      <td>a</td>\n",
              "      <td>one</td>\n",
              "      <td>0</td>\n",
              "      <td>-0.204708</td>\n",
              "    </tr>\n",
              "    <tr>\n",
              "      <th>1</th>\n",
              "      <td>a</td>\n",
              "      <td>two</td>\n",
              "      <td>1</td>\n",
              "      <td>0.478943</td>\n",
              "    </tr>\n",
              "    <tr>\n",
              "      <th>2</th>\n",
              "      <td>b</td>\n",
              "      <td>one</td>\n",
              "      <td>2</td>\n",
              "      <td>-0.519439</td>\n",
              "    </tr>\n",
              "    <tr>\n",
              "      <th>3</th>\n",
              "      <td>b</td>\n",
              "      <td>two</td>\n",
              "      <td>3</td>\n",
              "      <td>-0.555730</td>\n",
              "    </tr>\n",
              "    <tr>\n",
              "      <th>4</th>\n",
              "      <td>a</td>\n",
              "      <td>one</td>\n",
              "      <td>4</td>\n",
              "      <td>1.965781</td>\n",
              "    </tr>\n",
              "  </tbody>\n",
              "</table>\n",
              "</div>"
            ],
            "text/plain": [
              "  key1 key2  data1     data2\n",
              "0    a  one      0 -0.204708\n",
              "1    a  two      1  0.478943\n",
              "2    b  one      2 -0.519439\n",
              "3    b  two      3 -0.555730\n",
              "4    a  one      4  1.965781"
            ]
          },
          "metadata": {
            "tags": []
          },
          "execution_count": 115
        }
      ]
    },
    {
      "cell_type": "code",
      "metadata": {
        "colab": {
          "base_uri": "https://localhost:8080/"
        },
        "id": "fS3xWk4dbQsZ",
        "outputId": "226e60c0-0ca3-4eae-8ad7-183009fae04b"
      },
      "source": [
        "# primeiramente os grupos são criados com base nas colunas passadas para groupby\n",
        "# um obj do tipo pandas.core.groupby.generic.SeriesGroupBy é criado\n",
        "# esse obj pode ser iterado\n",
        "grouped = df.groupby(df['key1'])\n",
        "\n",
        "for g in grouped:\n",
        "  print(g)"
      ],
      "execution_count": 116,
      "outputs": [
        {
          "output_type": "stream",
          "text": [
            "('a',   key1 key2  data1     data2\n",
            "0    a  one      0 -0.204708\n",
            "1    a  two      1  0.478943\n",
            "4    a  one      4  1.965781)\n",
            "('b',   key1 key2  data1     data2\n",
            "2    b  one      2 -0.519439\n",
            "3    b  two      3 -0.555730)\n"
          ],
          "name": "stdout"
        }
      ]
    },
    {
      "cell_type": "code",
      "metadata": {
        "colab": {
          "base_uri": "https://localhost:8080/"
        },
        "id": "WLnEqaHfbxHB",
        "outputId": "fd961a18-296d-4340-908b-dbb42c73d651"
      },
      "source": [
        "# Agregar (soma) a coluna 'data1' a partir do agrupamento da coluna 'key1'\n",
        "soma_data1 = df['data1'].groupby(df['key1']).sum()\n",
        "soma_data1"
      ],
      "execution_count": 117,
      "outputs": [
        {
          "output_type": "execute_result",
          "data": {
            "text/plain": [
              "key1\n",
              "a    5\n",
              "b    5\n",
              "Name: data1, dtype: int64"
            ]
          },
          "metadata": {
            "tags": []
          },
          "execution_count": 117
        }
      ]
    },
    {
      "cell_type": "code",
      "metadata": {
        "colab": {
          "base_uri": "https://localhost:8080/"
        },
        "id": "FsNwKz0_dhli",
        "outputId": "765ec61e-b256-4643-8bc6-9a481072d8a6"
      },
      "source": [
        "# Agrupamento com múltiplas colunas (key1 e key2)\n",
        "# Se não passar nada para df, todas as colunas numericas são agregadas\n",
        "media_data1 = df['data1'].groupby([df['key1'], df['key2']]).mean()\n",
        "media_data1"
      ],
      "execution_count": 118,
      "outputs": [
        {
          "output_type": "execute_result",
          "data": {
            "text/plain": [
              "key1  key2\n",
              "a     one     2\n",
              "      two     1\n",
              "b     one     2\n",
              "      two     3\n",
              "Name: data1, dtype: int64"
            ]
          },
          "metadata": {
            "tags": []
          },
          "execution_count": 118
        }
      ]
    },
    {
      "cell_type": "code",
      "metadata": {
        "colab": {
          "base_uri": "https://localhost:8080/",
          "height": 173
        },
        "id": "Ld_viMfxp9L9",
        "outputId": "f2717712-7d2c-4fba-8773-5996dbc3e9d3"
      },
      "source": [
        "# Outra forma de fazer o mesmo comando acima\n",
        "# as_index=False faz com que as colunas agrupadas seja tratadas como colunas e não como indices\n",
        "df.groupby(['key1', 'key2'], as_index=False)[['data1']].mean()"
      ],
      "execution_count": 119,
      "outputs": [
        {
          "output_type": "execute_result",
          "data": {
            "text/html": [
              "<div>\n",
              "<style scoped>\n",
              "    .dataframe tbody tr th:only-of-type {\n",
              "        vertical-align: middle;\n",
              "    }\n",
              "\n",
              "    .dataframe tbody tr th {\n",
              "        vertical-align: top;\n",
              "    }\n",
              "\n",
              "    .dataframe thead th {\n",
              "        text-align: right;\n",
              "    }\n",
              "</style>\n",
              "<table border=\"1\" class=\"dataframe\">\n",
              "  <thead>\n",
              "    <tr style=\"text-align: right;\">\n",
              "      <th></th>\n",
              "      <th>key1</th>\n",
              "      <th>key2</th>\n",
              "      <th>data1</th>\n",
              "    </tr>\n",
              "  </thead>\n",
              "  <tbody>\n",
              "    <tr>\n",
              "      <th>0</th>\n",
              "      <td>a</td>\n",
              "      <td>one</td>\n",
              "      <td>2</td>\n",
              "    </tr>\n",
              "    <tr>\n",
              "      <th>1</th>\n",
              "      <td>a</td>\n",
              "      <td>two</td>\n",
              "      <td>1</td>\n",
              "    </tr>\n",
              "    <tr>\n",
              "      <th>2</th>\n",
              "      <td>b</td>\n",
              "      <td>one</td>\n",
              "      <td>2</td>\n",
              "    </tr>\n",
              "    <tr>\n",
              "      <th>3</th>\n",
              "      <td>b</td>\n",
              "      <td>two</td>\n",
              "      <td>3</td>\n",
              "    </tr>\n",
              "  </tbody>\n",
              "</table>\n",
              "</div>"
            ],
            "text/plain": [
              "  key1 key2  data1\n",
              "0    a  one      2\n",
              "1    a  two      1\n",
              "2    b  one      2\n",
              "3    b  two      3"
            ]
          },
          "metadata": {
            "tags": []
          },
          "execution_count": 119
        }
      ]
    },
    {
      "cell_type": "code",
      "metadata": {
        "colab": {
          "base_uri": "https://localhost:8080/",
          "height": 142
        },
        "id": "XBtGmXr0d-ij",
        "outputId": "d3ddc778-4011-4621-e2a7-a101580af9a2"
      },
      "source": [
        "# usando unstack para pivotear o indice mais interno para colunas e criar uma matriz\n",
        "media_data1.unstack()"
      ],
      "execution_count": 120,
      "outputs": [
        {
          "output_type": "execute_result",
          "data": {
            "text/html": [
              "<div>\n",
              "<style scoped>\n",
              "    .dataframe tbody tr th:only-of-type {\n",
              "        vertical-align: middle;\n",
              "    }\n",
              "\n",
              "    .dataframe tbody tr th {\n",
              "        vertical-align: top;\n",
              "    }\n",
              "\n",
              "    .dataframe thead th {\n",
              "        text-align: right;\n",
              "    }\n",
              "</style>\n",
              "<table border=\"1\" class=\"dataframe\">\n",
              "  <thead>\n",
              "    <tr style=\"text-align: right;\">\n",
              "      <th>key2</th>\n",
              "      <th>one</th>\n",
              "      <th>two</th>\n",
              "    </tr>\n",
              "    <tr>\n",
              "      <th>key1</th>\n",
              "      <th></th>\n",
              "      <th></th>\n",
              "    </tr>\n",
              "  </thead>\n",
              "  <tbody>\n",
              "    <tr>\n",
              "      <th>a</th>\n",
              "      <td>2</td>\n",
              "      <td>1</td>\n",
              "    </tr>\n",
              "    <tr>\n",
              "      <th>b</th>\n",
              "      <td>2</td>\n",
              "      <td>3</td>\n",
              "    </tr>\n",
              "  </tbody>\n",
              "</table>\n",
              "</div>"
            ],
            "text/plain": [
              "key2  one  two\n",
              "key1          \n",
              "a       2    1\n",
              "b       2    3"
            ]
          },
          "metadata": {
            "tags": []
          },
          "execution_count": 120
        }
      ]
    },
    {
      "cell_type": "code",
      "metadata": {
        "colab": {
          "base_uri": "https://localhost:8080/"
        },
        "id": "TdatEH75elM7",
        "outputId": "23c826af-7d55-456d-d234-89bc10300ed8"
      },
      "source": [
        "# tamanho dos grupos, quantidade de linhas que foram agrupadas em cada grupo\n",
        "\n",
        "# df.groupby([\"key1\", \"key2\"])[[\"data1\", \"data2\"]].size()\n",
        "\n",
        "df.groupby(['key1', 'key2']).size()"
      ],
      "execution_count": 121,
      "outputs": [
        {
          "output_type": "execute_result",
          "data": {
            "text/plain": [
              "key1  key2\n",
              "a     one     2\n",
              "      two     1\n",
              "b     one     1\n",
              "      two     1\n",
              "dtype: int64"
            ]
          },
          "metadata": {
            "tags": []
          },
          "execution_count": 121
        }
      ]
    },
    {
      "cell_type": "code",
      "metadata": {
        "colab": {
          "base_uri": "https://localhost:8080/",
          "height": 142
        },
        "id": "LNjLen5UghGe",
        "outputId": "96ff88c8-fd1d-4673-f9e2-b1a72eb934df"
      },
      "source": [
        "# se não passar uma coluna numerica para df todas as colunas serão agregadas\n",
        "# data1 e data2 são agregadas\n",
        "df.groupby(df[\"key1\"]).sum()\n",
        "\n",
        "# df.groupby(\"key1\")[[\"data1\", \"data2\"]].sum()"
      ],
      "execution_count": 122,
      "outputs": [
        {
          "output_type": "execute_result",
          "data": {
            "text/html": [
              "<div>\n",
              "<style scoped>\n",
              "    .dataframe tbody tr th:only-of-type {\n",
              "        vertical-align: middle;\n",
              "    }\n",
              "\n",
              "    .dataframe tbody tr th {\n",
              "        vertical-align: top;\n",
              "    }\n",
              "\n",
              "    .dataframe thead th {\n",
              "        text-align: right;\n",
              "    }\n",
              "</style>\n",
              "<table border=\"1\" class=\"dataframe\">\n",
              "  <thead>\n",
              "    <tr style=\"text-align: right;\">\n",
              "      <th></th>\n",
              "      <th>data1</th>\n",
              "      <th>data2</th>\n",
              "    </tr>\n",
              "    <tr>\n",
              "      <th>key1</th>\n",
              "      <th></th>\n",
              "      <th></th>\n",
              "    </tr>\n",
              "  </thead>\n",
              "  <tbody>\n",
              "    <tr>\n",
              "      <th>a</th>\n",
              "      <td>5</td>\n",
              "      <td>2.240016</td>\n",
              "    </tr>\n",
              "    <tr>\n",
              "      <th>b</th>\n",
              "      <td>5</td>\n",
              "      <td>-1.075169</td>\n",
              "    </tr>\n",
              "  </tbody>\n",
              "</table>\n",
              "</div>"
            ],
            "text/plain": [
              "      data1     data2\n",
              "key1                 \n",
              "a         5  2.240016\n",
              "b         5 -1.075169"
            ]
          },
          "metadata": {
            "tags": []
          },
          "execution_count": 122
        }
      ]
    },
    {
      "cell_type": "markdown",
      "metadata": {
        "id": "nUkwscq6hYwG"
      },
      "source": [
        "## Iterando sob grupos\n",
        "Antes de aplicar a função de agregação os grupos são separados em varios subgrupos de acordo com a combinação de colunas que foram usadas no groupby. Esses gupos podem ser acessados antes de aplicar a agregação.\n",
        "> o groupby devolve um objeto iteravel"
      ]
    },
    {
      "cell_type": "code",
      "metadata": {
        "colab": {
          "base_uri": "https://localhost:8080/"
        },
        "id": "bWCku3uqhNF9",
        "outputId": "c55107e9-777e-4305-ff51-b77238495463"
      },
      "source": [
        "# Iterando nos grupos e acessadi a tupla (o primeiro elemento é a coluna usada para agrupar e o segundo são os registros)\n",
        "# Fazer a iteração antes de aplicar a função de agregação\n",
        "for nome, grupo in df.groupby(['key1', 'key2']):\n",
        "  print(f\"\\nColunas agrupadas: {nome}\")\n",
        "  print(grupo)\n",
        "  "
      ],
      "execution_count": 123,
      "outputs": [
        {
          "output_type": "stream",
          "text": [
            "\n",
            "Colunas agrupadas: ('a', 'one')\n",
            "  key1 key2  data1     data2\n",
            "0    a  one      0 -0.204708\n",
            "4    a  one      4  1.965781\n",
            "\n",
            "Colunas agrupadas: ('a', 'two')\n",
            "  key1 key2  data1     data2\n",
            "1    a  two      1  0.478943\n",
            "\n",
            "Colunas agrupadas: ('b', 'one')\n",
            "  key1 key2  data1     data2\n",
            "2    b  one      2 -0.519439\n",
            "\n",
            "Colunas agrupadas: ('b', 'two')\n",
            "  key1 key2  data1    data2\n",
            "3    b  two      3 -0.55573\n"
          ],
          "name": "stdout"
        }
      ]
    },
    {
      "cell_type": "code",
      "metadata": {
        "colab": {
          "base_uri": "https://localhost:8080/",
          "height": 111
        },
        "id": "qBO1K5a3igUH",
        "outputId": "f55dd935-4037-45d6-b8de-05136e1618ec"
      },
      "source": [
        "# criando um dicionário onde a chave é uma tupla com as colunas agrupadas e os valores são as linhas dos subgrupos\n",
        "dicionario_grupos = dict(list(df.groupby(['key1', 'key2'])))\n",
        "\n",
        "# acessando um subconjunto pela chave dos agrupamentos\n",
        "dicionario_grupos[('a', 'one')]"
      ],
      "execution_count": 124,
      "outputs": [
        {
          "output_type": "execute_result",
          "data": {
            "text/html": [
              "<div>\n",
              "<style scoped>\n",
              "    .dataframe tbody tr th:only-of-type {\n",
              "        vertical-align: middle;\n",
              "    }\n",
              "\n",
              "    .dataframe tbody tr th {\n",
              "        vertical-align: top;\n",
              "    }\n",
              "\n",
              "    .dataframe thead th {\n",
              "        text-align: right;\n",
              "    }\n",
              "</style>\n",
              "<table border=\"1\" class=\"dataframe\">\n",
              "  <thead>\n",
              "    <tr style=\"text-align: right;\">\n",
              "      <th></th>\n",
              "      <th>key1</th>\n",
              "      <th>key2</th>\n",
              "      <th>data1</th>\n",
              "      <th>data2</th>\n",
              "    </tr>\n",
              "  </thead>\n",
              "  <tbody>\n",
              "    <tr>\n",
              "      <th>0</th>\n",
              "      <td>a</td>\n",
              "      <td>one</td>\n",
              "      <td>0</td>\n",
              "      <td>-0.204708</td>\n",
              "    </tr>\n",
              "    <tr>\n",
              "      <th>4</th>\n",
              "      <td>a</td>\n",
              "      <td>one</td>\n",
              "      <td>4</td>\n",
              "      <td>1.965781</td>\n",
              "    </tr>\n",
              "  </tbody>\n",
              "</table>\n",
              "</div>"
            ],
            "text/plain": [
              "  key1 key2  data1     data2\n",
              "0    a  one      0 -0.204708\n",
              "4    a  one      4  1.965781"
            ]
          },
          "metadata": {
            "tags": []
          },
          "execution_count": 124
        }
      ]
    },
    {
      "cell_type": "code",
      "metadata": {
        "colab": {
          "base_uri": "https://localhost:8080/"
        },
        "id": "a5q4IcmmkLDn",
        "outputId": "684d0778-1f15-4ea7-b485-1470653e314b"
      },
      "source": [
        "# agrupando pelos tipos de colunas no eixo das colunas\n",
        "\n",
        "# o df tem duas colunas float e duas object\n",
        "print(f\"Tipos de dados:\\n{df.dtypes}\\n\")\n",
        "\n",
        "# separar em dois grupos as colunas de float e as de object. axis=1 faz pelas colunas\n",
        "grouped_columns = df.groupby(df.dtypes, axis=1)\n",
        "\n",
        "# cada grupos apenas com colunas do mesmo tipo\n",
        "for tipo, dados in grouped_columns:\n",
        "  print(tipo)\n",
        "  print(dados)"
      ],
      "execution_count": 125,
      "outputs": [
        {
          "output_type": "stream",
          "text": [
            "Tipos de dados:\n",
            "key1      object\n",
            "key2      object\n",
            "data1      int64\n",
            "data2    float64\n",
            "dtype: object\n",
            "\n",
            "int64\n",
            "   data1\n",
            "0      0\n",
            "1      1\n",
            "2      2\n",
            "3      3\n",
            "4      4\n",
            "float64\n",
            "      data2\n",
            "0 -0.204708\n",
            "1  0.478943\n",
            "2 -0.519439\n",
            "3 -0.555730\n",
            "4  1.965781\n",
            "object\n",
            "  key1 key2\n",
            "0    a  one\n",
            "1    a  two\n",
            "2    b  one\n",
            "3    b  two\n",
            "4    a  one\n"
          ],
          "name": "stdout"
        }
      ]
    },
    {
      "cell_type": "code",
      "metadata": {
        "colab": {
          "base_uri": "https://localhost:8080/"
        },
        "id": "OYzyRChCokcV",
        "outputId": "41d9d797-6d50-4b62-fc1d-c1761906d793"
      },
      "source": [
        "# Tranforma as tuplas em uma lista e acessa somente as colunas object\n",
        "list(grouped_columns)[2]"
      ],
      "execution_count": 126,
      "outputs": [
        {
          "output_type": "execute_result",
          "data": {
            "text/plain": [
              "(dtype('O'),   key1 key2\n",
              " 0    a  one\n",
              " 1    a  two\n",
              " 2    b  one\n",
              " 3    b  two\n",
              " 4    a  one)"
            ]
          },
          "metadata": {
            "tags": []
          },
          "execution_count": 126
        }
      ]
    },
    {
      "cell_type": "markdown",
      "metadata": {
        "id": "ruotHz0Vva-I"
      },
      "source": [
        "## Agrupando com dicts mapeados\n",
        "Passa um dicionário que determina a combinação de cada grupo, é como se estivessemos definindo um agrupamento sem que tenha um coluna no df, como um agrupamento externo usando um dict como referência"
      ]
    },
    {
      "cell_type": "code",
      "metadata": {
        "colab": {
          "base_uri": "https://localhost:8080/",
          "height": 204
        },
        "id": "WuLOFYu7pOyE",
        "outputId": "d6b63546-61e6-4d5a-ece9-c1c255b7a6ca"
      },
      "source": [
        "pessoas = pd.DataFrame(data=np.random.randn(5, 5),\n",
        "                       columns=['a', 'b', 'c', 'd', 'e'],\n",
        "                       index=[\"Leandro\", \"Bruna\", \"Breno\", \"João\", \"Maria\"])\n",
        "pessoas"
      ],
      "execution_count": 127,
      "outputs": [
        {
          "output_type": "execute_result",
          "data": {
            "text/html": [
              "<div>\n",
              "<style scoped>\n",
              "    .dataframe tbody tr th:only-of-type {\n",
              "        vertical-align: middle;\n",
              "    }\n",
              "\n",
              "    .dataframe tbody tr th {\n",
              "        vertical-align: top;\n",
              "    }\n",
              "\n",
              "    .dataframe thead th {\n",
              "        text-align: right;\n",
              "    }\n",
              "</style>\n",
              "<table border=\"1\" class=\"dataframe\">\n",
              "  <thead>\n",
              "    <tr style=\"text-align: right;\">\n",
              "      <th></th>\n",
              "      <th>a</th>\n",
              "      <th>b</th>\n",
              "      <th>c</th>\n",
              "      <th>d</th>\n",
              "      <th>e</th>\n",
              "    </tr>\n",
              "  </thead>\n",
              "  <tbody>\n",
              "    <tr>\n",
              "      <th>Leandro</th>\n",
              "      <td>1.393406</td>\n",
              "      <td>0.092908</td>\n",
              "      <td>0.281746</td>\n",
              "      <td>0.769023</td>\n",
              "      <td>1.246435</td>\n",
              "    </tr>\n",
              "    <tr>\n",
              "      <th>Bruna</th>\n",
              "      <td>1.007189</td>\n",
              "      <td>-1.296221</td>\n",
              "      <td>0.274992</td>\n",
              "      <td>0.228913</td>\n",
              "      <td>1.352917</td>\n",
              "    </tr>\n",
              "    <tr>\n",
              "      <th>Breno</th>\n",
              "      <td>0.886429</td>\n",
              "      <td>-2.001637</td>\n",
              "      <td>-0.371843</td>\n",
              "      <td>1.669025</td>\n",
              "      <td>-0.438570</td>\n",
              "    </tr>\n",
              "    <tr>\n",
              "      <th>João</th>\n",
              "      <td>-0.539741</td>\n",
              "      <td>0.476985</td>\n",
              "      <td>3.248944</td>\n",
              "      <td>-1.021228</td>\n",
              "      <td>-0.577087</td>\n",
              "    </tr>\n",
              "    <tr>\n",
              "      <th>Maria</th>\n",
              "      <td>0.124121</td>\n",
              "      <td>0.302614</td>\n",
              "      <td>0.523772</td>\n",
              "      <td>0.000940</td>\n",
              "      <td>1.343810</td>\n",
              "    </tr>\n",
              "  </tbody>\n",
              "</table>\n",
              "</div>"
            ],
            "text/plain": [
              "                a         b         c         d         e\n",
              "Leandro  1.393406  0.092908  0.281746  0.769023  1.246435\n",
              "Bruna    1.007189 -1.296221  0.274992  0.228913  1.352917\n",
              "Breno    0.886429 -2.001637 -0.371843  1.669025 -0.438570\n",
              "João    -0.539741  0.476985  3.248944 -1.021228 -0.577087\n",
              "Maria    0.124121  0.302614  0.523772  0.000940  1.343810"
            ]
          },
          "metadata": {
            "tags": []
          },
          "execution_count": 127
        }
      ]
    },
    {
      "cell_type": "code",
      "metadata": {
        "colab": {
          "base_uri": "https://localhost:8080/"
        },
        "id": "Np4__JFZwUhJ",
        "outputId": "71b7d6dd-90fc-487e-b8ce-ce8a371c34a5"
      },
      "source": [
        "dict_mapeamento_grupos = {\"a\": \"Red\", \"b\": \"Red\", \"c\": \"Red\", \"d\": \"Blue\", \"e\": \"Blue\", \"f\":\"Orange\"}\n",
        "dict_mapeamento_grupos"
      ],
      "execution_count": 128,
      "outputs": [
        {
          "output_type": "execute_result",
          "data": {
            "text/plain": [
              "{'a': 'Red', 'b': 'Red', 'c': 'Red', 'd': 'Blue', 'e': 'Blue', 'f': 'Orange'}"
            ]
          },
          "metadata": {
            "tags": []
          },
          "execution_count": 128
        }
      ]
    },
    {
      "cell_type": "code",
      "metadata": {
        "colab": {
          "base_uri": "https://localhost:8080/",
          "height": 544
        },
        "id": "GbyzLpP2wtyo",
        "outputId": "e48cfd5d-4063-40c6-dc7b-b029b291f4b1"
      },
      "source": [
        "# as colunas pode ser agrupadas de acordo com as combinações do dict\n",
        "# cada chave do dict é mapeada com cada coluna e é retornado o valor o dict como agrupamento\n",
        "agrupamento_por_colunas = pessoas.groupby(dict_mapeamento_grupos, axis=1)\n",
        "\n",
        "# aplica uma agregação no agrupamento. Por exemplo, soma a, b, c na cor Red\n",
        "print(f\"Quantidade de colunas de cada cor:\\n{agrupamento_por_colunas.size()}\\n\")\n",
        "\n",
        "# imprime os valores dos grupos antes da agregação\n",
        "print(f\"\\n{ [ print(grupo[1]) for grupo in agrupamento_por_colunas]}\\n\")\n",
        "\n",
        "agrupamento_por_colunas.sum()"
      ],
      "execution_count": 129,
      "outputs": [
        {
          "output_type": "stream",
          "text": [
            "Quantidade de colunas de cada cor:\n",
            "Blue    2\n",
            "Red     3\n",
            "dtype: int64\n",
            "\n",
            "                d         e\n",
            "Leandro  0.769023  1.246435\n",
            "Bruna    0.228913  1.352917\n",
            "Breno    1.669025 -0.438570\n",
            "João    -1.021228 -0.577087\n",
            "Maria    0.000940  1.343810\n",
            "                a         b         c\n",
            "Leandro  1.393406  0.092908  0.281746\n",
            "Bruna    1.007189 -1.296221  0.274992\n",
            "Breno    0.886429 -2.001637 -0.371843\n",
            "João    -0.539741  0.476985  3.248944\n",
            "Maria    0.124121  0.302614  0.523772\n",
            "\n",
            "[None, None]\n",
            "\n"
          ],
          "name": "stdout"
        },
        {
          "output_type": "execute_result",
          "data": {
            "text/html": [
              "<div>\n",
              "<style scoped>\n",
              "    .dataframe tbody tr th:only-of-type {\n",
              "        vertical-align: middle;\n",
              "    }\n",
              "\n",
              "    .dataframe tbody tr th {\n",
              "        vertical-align: top;\n",
              "    }\n",
              "\n",
              "    .dataframe thead th {\n",
              "        text-align: right;\n",
              "    }\n",
              "</style>\n",
              "<table border=\"1\" class=\"dataframe\">\n",
              "  <thead>\n",
              "    <tr style=\"text-align: right;\">\n",
              "      <th></th>\n",
              "      <th>Blue</th>\n",
              "      <th>Red</th>\n",
              "    </tr>\n",
              "  </thead>\n",
              "  <tbody>\n",
              "    <tr>\n",
              "      <th>Leandro</th>\n",
              "      <td>2.015457</td>\n",
              "      <td>1.768060</td>\n",
              "    </tr>\n",
              "    <tr>\n",
              "      <th>Bruna</th>\n",
              "      <td>1.581830</td>\n",
              "      <td>-0.014040</td>\n",
              "    </tr>\n",
              "    <tr>\n",
              "      <th>Breno</th>\n",
              "      <td>1.230456</td>\n",
              "      <td>-1.487051</td>\n",
              "    </tr>\n",
              "    <tr>\n",
              "      <th>João</th>\n",
              "      <td>-1.598315</td>\n",
              "      <td>3.186187</td>\n",
              "    </tr>\n",
              "    <tr>\n",
              "      <th>Maria</th>\n",
              "      <td>1.344750</td>\n",
              "      <td>0.950507</td>\n",
              "    </tr>\n",
              "  </tbody>\n",
              "</table>\n",
              "</div>"
            ],
            "text/plain": [
              "             Blue       Red\n",
              "Leandro  2.015457  1.768060\n",
              "Bruna    1.581830 -0.014040\n",
              "Breno    1.230456 -1.487051\n",
              "João    -1.598315  3.186187\n",
              "Maria    1.344750  0.950507"
            ]
          },
          "metadata": {
            "tags": []
          },
          "execution_count": 129
        }
      ]
    },
    {
      "cell_type": "code",
      "metadata": {
        "colab": {
          "base_uri": "https://localhost:8080/",
          "height": 204
        },
        "id": "RsjpST0mxp5R",
        "outputId": "6ad75110-b86c-4bfc-c022-718c1a712684"
      },
      "source": [
        "# o mapeamento também funciona se for feito com um obj series\n",
        "\n",
        "# tranforma o dict em series\n",
        "map_series = pd.Series(dict_mapeamento_grupos)\n",
        "\n",
        "# utiliza uma series para fazer o mapeamento\n",
        "pessoas.groupby(map_series, axis=1).sum()"
      ],
      "execution_count": 130,
      "outputs": [
        {
          "output_type": "execute_result",
          "data": {
            "text/html": [
              "<div>\n",
              "<style scoped>\n",
              "    .dataframe tbody tr th:only-of-type {\n",
              "        vertical-align: middle;\n",
              "    }\n",
              "\n",
              "    .dataframe tbody tr th {\n",
              "        vertical-align: top;\n",
              "    }\n",
              "\n",
              "    .dataframe thead th {\n",
              "        text-align: right;\n",
              "    }\n",
              "</style>\n",
              "<table border=\"1\" class=\"dataframe\">\n",
              "  <thead>\n",
              "    <tr style=\"text-align: right;\">\n",
              "      <th></th>\n",
              "      <th>Blue</th>\n",
              "      <th>Red</th>\n",
              "    </tr>\n",
              "  </thead>\n",
              "  <tbody>\n",
              "    <tr>\n",
              "      <th>Leandro</th>\n",
              "      <td>2.015457</td>\n",
              "      <td>1.768060</td>\n",
              "    </tr>\n",
              "    <tr>\n",
              "      <th>Bruna</th>\n",
              "      <td>1.581830</td>\n",
              "      <td>-0.014040</td>\n",
              "    </tr>\n",
              "    <tr>\n",
              "      <th>Breno</th>\n",
              "      <td>1.230456</td>\n",
              "      <td>-1.487051</td>\n",
              "    </tr>\n",
              "    <tr>\n",
              "      <th>João</th>\n",
              "      <td>-1.598315</td>\n",
              "      <td>3.186187</td>\n",
              "    </tr>\n",
              "    <tr>\n",
              "      <th>Maria</th>\n",
              "      <td>1.344750</td>\n",
              "      <td>0.950507</td>\n",
              "    </tr>\n",
              "  </tbody>\n",
              "</table>\n",
              "</div>"
            ],
            "text/plain": [
              "             Blue       Red\n",
              "Leandro  2.015457  1.768060\n",
              "Bruna    1.581830 -0.014040\n",
              "Breno    1.230456 -1.487051\n",
              "João    -1.598315  3.186187\n",
              "Maria    1.344750  0.950507"
            ]
          },
          "metadata": {
            "tags": []
          },
          "execution_count": 130
        }
      ]
    },
    {
      "cell_type": "markdown",
      "metadata": {
        "id": "1Su1KRBiVysV"
      },
      "source": [
        "## Agrupamentos com funções"
      ]
    },
    {
      "cell_type": "code",
      "metadata": {
        "colab": {
          "base_uri": "https://localhost:8080/",
          "height": 142
        },
        "id": "BrVJDX1s2kDF",
        "outputId": "710cf952-226e-456d-de4b-f2719abeda5b"
      },
      "source": [
        "# agrupa pelo tamanho do nome da pessoa (indice)\n",
        "pessoas.groupby(len).sum()"
      ],
      "execution_count": 131,
      "outputs": [
        {
          "output_type": "execute_result",
          "data": {
            "text/html": [
              "<div>\n",
              "<style scoped>\n",
              "    .dataframe tbody tr th:only-of-type {\n",
              "        vertical-align: middle;\n",
              "    }\n",
              "\n",
              "    .dataframe tbody tr th {\n",
              "        vertical-align: top;\n",
              "    }\n",
              "\n",
              "    .dataframe thead th {\n",
              "        text-align: right;\n",
              "    }\n",
              "</style>\n",
              "<table border=\"1\" class=\"dataframe\">\n",
              "  <thead>\n",
              "    <tr style=\"text-align: right;\">\n",
              "      <th></th>\n",
              "      <th>a</th>\n",
              "      <th>b</th>\n",
              "      <th>c</th>\n",
              "      <th>d</th>\n",
              "      <th>e</th>\n",
              "    </tr>\n",
              "  </thead>\n",
              "  <tbody>\n",
              "    <tr>\n",
              "      <th>4</th>\n",
              "      <td>-0.539741</td>\n",
              "      <td>0.476985</td>\n",
              "      <td>3.248944</td>\n",
              "      <td>-1.021228</td>\n",
              "      <td>-0.577087</td>\n",
              "    </tr>\n",
              "    <tr>\n",
              "      <th>5</th>\n",
              "      <td>2.017740</td>\n",
              "      <td>-2.995245</td>\n",
              "      <td>0.426921</td>\n",
              "      <td>1.898878</td>\n",
              "      <td>2.258157</td>\n",
              "    </tr>\n",
              "    <tr>\n",
              "      <th>7</th>\n",
              "      <td>1.393406</td>\n",
              "      <td>0.092908</td>\n",
              "      <td>0.281746</td>\n",
              "      <td>0.769023</td>\n",
              "      <td>1.246435</td>\n",
              "    </tr>\n",
              "  </tbody>\n",
              "</table>\n",
              "</div>"
            ],
            "text/plain": [
              "          a         b         c         d         e\n",
              "4 -0.539741  0.476985  3.248944 -1.021228 -0.577087\n",
              "5  2.017740 -2.995245  0.426921  1.898878  2.258157\n",
              "7  1.393406  0.092908  0.281746  0.769023  1.246435"
            ]
          },
          "metadata": {
            "tags": []
          },
          "execution_count": 131
        }
      ]
    },
    {
      "cell_type": "code",
      "metadata": {
        "colab": {
          "base_uri": "https://localhost:8080/",
          "height": 235
        },
        "id": "CYHD5-VwWdX5",
        "outputId": "d86f44f9-3b05-4897-e7e4-066e844f5267"
      },
      "source": [
        "# agrupando usando um nível de índice\n",
        "indices_2niveis = pd.MultiIndex.from_arrays([[\"Leandro\", \"Bruna\", \"Breno\", \"João\", \"Maria\"],\n",
        "                                 [\"natacao\", \"natacao\", \"natacao\", \"basquete\", \"atletismo\"]], \n",
        "                                names=[\"familia\", \"esportes\"])\n",
        "\n",
        "# atribui o nome indice com 2 niveis para o dataframe\n",
        "pessoas.index = indices_2niveis\n",
        "\n",
        "# inverte os indices\n",
        "pessoas.swaplevel(\"esportes\", \"familia\")"
      ],
      "execution_count": 132,
      "outputs": [
        {
          "output_type": "execute_result",
          "data": {
            "text/html": [
              "<div>\n",
              "<style scoped>\n",
              "    .dataframe tbody tr th:only-of-type {\n",
              "        vertical-align: middle;\n",
              "    }\n",
              "\n",
              "    .dataframe tbody tr th {\n",
              "        vertical-align: top;\n",
              "    }\n",
              "\n",
              "    .dataframe thead th {\n",
              "        text-align: right;\n",
              "    }\n",
              "</style>\n",
              "<table border=\"1\" class=\"dataframe\">\n",
              "  <thead>\n",
              "    <tr style=\"text-align: right;\">\n",
              "      <th></th>\n",
              "      <th></th>\n",
              "      <th>a</th>\n",
              "      <th>b</th>\n",
              "      <th>c</th>\n",
              "      <th>d</th>\n",
              "      <th>e</th>\n",
              "    </tr>\n",
              "    <tr>\n",
              "      <th>esportes</th>\n",
              "      <th>familia</th>\n",
              "      <th></th>\n",
              "      <th></th>\n",
              "      <th></th>\n",
              "      <th></th>\n",
              "      <th></th>\n",
              "    </tr>\n",
              "  </thead>\n",
              "  <tbody>\n",
              "    <tr>\n",
              "      <th rowspan=\"3\" valign=\"top\">natacao</th>\n",
              "      <th>Leandro</th>\n",
              "      <td>1.393406</td>\n",
              "      <td>0.092908</td>\n",
              "      <td>0.281746</td>\n",
              "      <td>0.769023</td>\n",
              "      <td>1.246435</td>\n",
              "    </tr>\n",
              "    <tr>\n",
              "      <th>Bruna</th>\n",
              "      <td>1.007189</td>\n",
              "      <td>-1.296221</td>\n",
              "      <td>0.274992</td>\n",
              "      <td>0.228913</td>\n",
              "      <td>1.352917</td>\n",
              "    </tr>\n",
              "    <tr>\n",
              "      <th>Breno</th>\n",
              "      <td>0.886429</td>\n",
              "      <td>-2.001637</td>\n",
              "      <td>-0.371843</td>\n",
              "      <td>1.669025</td>\n",
              "      <td>-0.438570</td>\n",
              "    </tr>\n",
              "    <tr>\n",
              "      <th>basquete</th>\n",
              "      <th>João</th>\n",
              "      <td>-0.539741</td>\n",
              "      <td>0.476985</td>\n",
              "      <td>3.248944</td>\n",
              "      <td>-1.021228</td>\n",
              "      <td>-0.577087</td>\n",
              "    </tr>\n",
              "    <tr>\n",
              "      <th>atletismo</th>\n",
              "      <th>Maria</th>\n",
              "      <td>0.124121</td>\n",
              "      <td>0.302614</td>\n",
              "      <td>0.523772</td>\n",
              "      <td>0.000940</td>\n",
              "      <td>1.343810</td>\n",
              "    </tr>\n",
              "  </tbody>\n",
              "</table>\n",
              "</div>"
            ],
            "text/plain": [
              "                          a         b         c         d         e\n",
              "esportes  familia                                                  \n",
              "natacao   Leandro  1.393406  0.092908  0.281746  0.769023  1.246435\n",
              "          Bruna    1.007189 -1.296221  0.274992  0.228913  1.352917\n",
              "          Breno    0.886429 -2.001637 -0.371843  1.669025 -0.438570\n",
              "basquete  João    -0.539741  0.476985  3.248944 -1.021228 -0.577087\n",
              "atletismo Maria    0.124121  0.302614  0.523772  0.000940  1.343810"
            ]
          },
          "metadata": {
            "tags": []
          },
          "execution_count": 132
        }
      ]
    },
    {
      "cell_type": "code",
      "metadata": {
        "colab": {
          "base_uri": "https://localhost:8080/",
          "height": 173
        },
        "id": "G5jCR7qtY4gT",
        "outputId": "862dace4-3958-410e-acb1-a1bec4ec6ca0"
      },
      "source": [
        "# agrupa pelo indice no level \"esportes\" apenas nas colunas numericas a e b\n",
        "pessoas.groupby(level=\"esportes\", axis=0)[[\"a\", \"b\"]].sum()"
      ],
      "execution_count": 133,
      "outputs": [
        {
          "output_type": "execute_result",
          "data": {
            "text/html": [
              "<div>\n",
              "<style scoped>\n",
              "    .dataframe tbody tr th:only-of-type {\n",
              "        vertical-align: middle;\n",
              "    }\n",
              "\n",
              "    .dataframe tbody tr th {\n",
              "        vertical-align: top;\n",
              "    }\n",
              "\n",
              "    .dataframe thead th {\n",
              "        text-align: right;\n",
              "    }\n",
              "</style>\n",
              "<table border=\"1\" class=\"dataframe\">\n",
              "  <thead>\n",
              "    <tr style=\"text-align: right;\">\n",
              "      <th></th>\n",
              "      <th>a</th>\n",
              "      <th>b</th>\n",
              "    </tr>\n",
              "    <tr>\n",
              "      <th>esportes</th>\n",
              "      <th></th>\n",
              "      <th></th>\n",
              "    </tr>\n",
              "  </thead>\n",
              "  <tbody>\n",
              "    <tr>\n",
              "      <th>atletismo</th>\n",
              "      <td>0.124121</td>\n",
              "      <td>0.302614</td>\n",
              "    </tr>\n",
              "    <tr>\n",
              "      <th>basquete</th>\n",
              "      <td>-0.539741</td>\n",
              "      <td>0.476985</td>\n",
              "    </tr>\n",
              "    <tr>\n",
              "      <th>natacao</th>\n",
              "      <td>3.287025</td>\n",
              "      <td>-3.204951</td>\n",
              "    </tr>\n",
              "  </tbody>\n",
              "</table>\n",
              "</div>"
            ],
            "text/plain": [
              "                  a         b\n",
              "esportes                     \n",
              "atletismo  0.124121  0.302614\n",
              "basquete  -0.539741  0.476985\n",
              "natacao    3.287025 -3.204951"
            ]
          },
          "metadata": {
            "tags": []
          },
          "execution_count": 133
        }
      ]
    },
    {
      "cell_type": "markdown",
      "metadata": {
        "id": "1nBQj_JGf9FR"
      },
      "source": [
        "# Agregação\n",
        "Depois que os grupos são criados pela função groupby as funções de agregação entram em ação fazendo os calculos.\n",
        "- count\n",
        "- min, max\n",
        "- str e var (desvio padrão e variancia)\n",
        "- prod (produto dois valores)\n",
        "- first, last"
      ]
    },
    {
      "cell_type": "code",
      "metadata": {
        "colab": {
          "base_uri": "https://localhost:8080/",
          "height": 173
        },
        "id": "BHzcW0UWbM9z",
        "outputId": "d5a8b7a7-1072-4d4e-e327-dcbd644038f7"
      },
      "source": [
        "# soma\n",
        "pessoas.reset_index()\n",
        "pessoas.groupby([\"esportes\"])[[\"a\", \"b\"]].sum()"
      ],
      "execution_count": 134,
      "outputs": [
        {
          "output_type": "execute_result",
          "data": {
            "text/html": [
              "<div>\n",
              "<style scoped>\n",
              "    .dataframe tbody tr th:only-of-type {\n",
              "        vertical-align: middle;\n",
              "    }\n",
              "\n",
              "    .dataframe tbody tr th {\n",
              "        vertical-align: top;\n",
              "    }\n",
              "\n",
              "    .dataframe thead th {\n",
              "        text-align: right;\n",
              "    }\n",
              "</style>\n",
              "<table border=\"1\" class=\"dataframe\">\n",
              "  <thead>\n",
              "    <tr style=\"text-align: right;\">\n",
              "      <th></th>\n",
              "      <th>a</th>\n",
              "      <th>b</th>\n",
              "    </tr>\n",
              "    <tr>\n",
              "      <th>esportes</th>\n",
              "      <th></th>\n",
              "      <th></th>\n",
              "    </tr>\n",
              "  </thead>\n",
              "  <tbody>\n",
              "    <tr>\n",
              "      <th>atletismo</th>\n",
              "      <td>0.124121</td>\n",
              "      <td>0.302614</td>\n",
              "    </tr>\n",
              "    <tr>\n",
              "      <th>basquete</th>\n",
              "      <td>-0.539741</td>\n",
              "      <td>0.476985</td>\n",
              "    </tr>\n",
              "    <tr>\n",
              "      <th>natacao</th>\n",
              "      <td>3.287025</td>\n",
              "      <td>-3.204951</td>\n",
              "    </tr>\n",
              "  </tbody>\n",
              "</table>\n",
              "</div>"
            ],
            "text/plain": [
              "                  a         b\n",
              "esportes                     \n",
              "atletismo  0.124121  0.302614\n",
              "basquete  -0.539741  0.476985\n",
              "natacao    3.287025 -3.204951"
            ]
          },
          "metadata": {
            "tags": []
          },
          "execution_count": 134
        }
      ]
    },
    {
      "cell_type": "code",
      "metadata": {
        "colab": {
          "base_uri": "https://localhost:8080/",
          "height": 173
        },
        "id": "9McbydPPg-LP",
        "outputId": "ca61cb47-ab19-4b57-fe3f-ac3073f74930"
      },
      "source": [
        "# min\n",
        "pessoas.groupby([\"esportes\"])[[\"a\", \"b\"]].min()"
      ],
      "execution_count": 135,
      "outputs": [
        {
          "output_type": "execute_result",
          "data": {
            "text/html": [
              "<div>\n",
              "<style scoped>\n",
              "    .dataframe tbody tr th:only-of-type {\n",
              "        vertical-align: middle;\n",
              "    }\n",
              "\n",
              "    .dataframe tbody tr th {\n",
              "        vertical-align: top;\n",
              "    }\n",
              "\n",
              "    .dataframe thead th {\n",
              "        text-align: right;\n",
              "    }\n",
              "</style>\n",
              "<table border=\"1\" class=\"dataframe\">\n",
              "  <thead>\n",
              "    <tr style=\"text-align: right;\">\n",
              "      <th></th>\n",
              "      <th>a</th>\n",
              "      <th>b</th>\n",
              "    </tr>\n",
              "    <tr>\n",
              "      <th>esportes</th>\n",
              "      <th></th>\n",
              "      <th></th>\n",
              "    </tr>\n",
              "  </thead>\n",
              "  <tbody>\n",
              "    <tr>\n",
              "      <th>atletismo</th>\n",
              "      <td>0.124121</td>\n",
              "      <td>0.302614</td>\n",
              "    </tr>\n",
              "    <tr>\n",
              "      <th>basquete</th>\n",
              "      <td>-0.539741</td>\n",
              "      <td>0.476985</td>\n",
              "    </tr>\n",
              "    <tr>\n",
              "      <th>natacao</th>\n",
              "      <td>0.886429</td>\n",
              "      <td>-2.001637</td>\n",
              "    </tr>\n",
              "  </tbody>\n",
              "</table>\n",
              "</div>"
            ],
            "text/plain": [
              "                  a         b\n",
              "esportes                     \n",
              "atletismo  0.124121  0.302614\n",
              "basquete  -0.539741  0.476985\n",
              "natacao    0.886429 -2.001637"
            ]
          },
          "metadata": {
            "tags": []
          },
          "execution_count": 135
        }
      ]
    },
    {
      "cell_type": "code",
      "metadata": {
        "colab": {
          "base_uri": "https://localhost:8080/",
          "height": 204
        },
        "id": "vkMlFs8QhdPQ",
        "outputId": "1473308c-7de4-46bc-d417-a9a743c9503c"
      },
      "source": [
        "# agg: usando suas proprias funções, ou uma lista de funções\n",
        "# para cada coluna agregada, são aplicadas varias funções de agregação diferentes\n",
        "pessoas.groupby(\"esportes\").agg([\"min\", \"max\", \"count\", \"sum\"])[[\"a\", \"b\"]]"
      ],
      "execution_count": 136,
      "outputs": [
        {
          "output_type": "execute_result",
          "data": {
            "text/html": [
              "<div>\n",
              "<style scoped>\n",
              "    .dataframe tbody tr th:only-of-type {\n",
              "        vertical-align: middle;\n",
              "    }\n",
              "\n",
              "    .dataframe tbody tr th {\n",
              "        vertical-align: top;\n",
              "    }\n",
              "\n",
              "    .dataframe thead tr th {\n",
              "        text-align: left;\n",
              "    }\n",
              "\n",
              "    .dataframe thead tr:last-of-type th {\n",
              "        text-align: right;\n",
              "    }\n",
              "</style>\n",
              "<table border=\"1\" class=\"dataframe\">\n",
              "  <thead>\n",
              "    <tr>\n",
              "      <th></th>\n",
              "      <th colspan=\"4\" halign=\"left\">a</th>\n",
              "      <th colspan=\"4\" halign=\"left\">b</th>\n",
              "    </tr>\n",
              "    <tr>\n",
              "      <th></th>\n",
              "      <th>min</th>\n",
              "      <th>max</th>\n",
              "      <th>count</th>\n",
              "      <th>sum</th>\n",
              "      <th>min</th>\n",
              "      <th>max</th>\n",
              "      <th>count</th>\n",
              "      <th>sum</th>\n",
              "    </tr>\n",
              "    <tr>\n",
              "      <th>esportes</th>\n",
              "      <th></th>\n",
              "      <th></th>\n",
              "      <th></th>\n",
              "      <th></th>\n",
              "      <th></th>\n",
              "      <th></th>\n",
              "      <th></th>\n",
              "      <th></th>\n",
              "    </tr>\n",
              "  </thead>\n",
              "  <tbody>\n",
              "    <tr>\n",
              "      <th>atletismo</th>\n",
              "      <td>0.124121</td>\n",
              "      <td>0.124121</td>\n",
              "      <td>1</td>\n",
              "      <td>0.124121</td>\n",
              "      <td>0.302614</td>\n",
              "      <td>0.302614</td>\n",
              "      <td>1</td>\n",
              "      <td>0.302614</td>\n",
              "    </tr>\n",
              "    <tr>\n",
              "      <th>basquete</th>\n",
              "      <td>-0.539741</td>\n",
              "      <td>-0.539741</td>\n",
              "      <td>1</td>\n",
              "      <td>-0.539741</td>\n",
              "      <td>0.476985</td>\n",
              "      <td>0.476985</td>\n",
              "      <td>1</td>\n",
              "      <td>0.476985</td>\n",
              "    </tr>\n",
              "    <tr>\n",
              "      <th>natacao</th>\n",
              "      <td>0.886429</td>\n",
              "      <td>1.393406</td>\n",
              "      <td>3</td>\n",
              "      <td>3.287025</td>\n",
              "      <td>-2.001637</td>\n",
              "      <td>0.092908</td>\n",
              "      <td>3</td>\n",
              "      <td>-3.204951</td>\n",
              "    </tr>\n",
              "  </tbody>\n",
              "</table>\n",
              "</div>"
            ],
            "text/plain": [
              "                  a                  ...         b                \n",
              "                min       max count  ...       max count       sum\n",
              "esportes                             ...                          \n",
              "atletismo  0.124121  0.124121     1  ...  0.302614     1  0.302614\n",
              "basquete  -0.539741 -0.539741     1  ...  0.476985     1  0.476985\n",
              "natacao    0.886429  1.393406     3  ...  0.092908     3 -3.204951\n",
              "\n",
              "[3 rows x 8 columns]"
            ]
          },
          "metadata": {
            "tags": []
          },
          "execution_count": 136
        }
      ]
    },
    {
      "cell_type": "code",
      "metadata": {
        "colab": {
          "base_uri": "https://localhost:8080/",
          "height": 204
        },
        "id": "7_VmH2lqiBDj",
        "outputId": "8c31e7e6-449f-4865-ebe5-6cd9701fb86c"
      },
      "source": [
        "def max_min_dif(dados):\n",
        "  return dados.max() - dados.min()\n",
        "\n",
        "# Agrupa os esportes e faz a agregação das colunas \"a\" e \"b\" aplicando as funções de agregação \"max\", \"min\", \"max_min_dif\" (customizada)\n",
        "pessoas.groupby(\"esportes\").agg([\"count\", \"max\", \"min\", max_min_dif])[[\"a\", \"b\"]]"
      ],
      "execution_count": 137,
      "outputs": [
        {
          "output_type": "execute_result",
          "data": {
            "text/html": [
              "<div>\n",
              "<style scoped>\n",
              "    .dataframe tbody tr th:only-of-type {\n",
              "        vertical-align: middle;\n",
              "    }\n",
              "\n",
              "    .dataframe tbody tr th {\n",
              "        vertical-align: top;\n",
              "    }\n",
              "\n",
              "    .dataframe thead tr th {\n",
              "        text-align: left;\n",
              "    }\n",
              "\n",
              "    .dataframe thead tr:last-of-type th {\n",
              "        text-align: right;\n",
              "    }\n",
              "</style>\n",
              "<table border=\"1\" class=\"dataframe\">\n",
              "  <thead>\n",
              "    <tr>\n",
              "      <th></th>\n",
              "      <th colspan=\"4\" halign=\"left\">a</th>\n",
              "      <th colspan=\"4\" halign=\"left\">b</th>\n",
              "    </tr>\n",
              "    <tr>\n",
              "      <th></th>\n",
              "      <th>count</th>\n",
              "      <th>max</th>\n",
              "      <th>min</th>\n",
              "      <th>max_min_dif</th>\n",
              "      <th>count</th>\n",
              "      <th>max</th>\n",
              "      <th>min</th>\n",
              "      <th>max_min_dif</th>\n",
              "    </tr>\n",
              "    <tr>\n",
              "      <th>esportes</th>\n",
              "      <th></th>\n",
              "      <th></th>\n",
              "      <th></th>\n",
              "      <th></th>\n",
              "      <th></th>\n",
              "      <th></th>\n",
              "      <th></th>\n",
              "      <th></th>\n",
              "    </tr>\n",
              "  </thead>\n",
              "  <tbody>\n",
              "    <tr>\n",
              "      <th>atletismo</th>\n",
              "      <td>1</td>\n",
              "      <td>0.124121</td>\n",
              "      <td>0.124121</td>\n",
              "      <td>0.000000</td>\n",
              "      <td>1</td>\n",
              "      <td>0.302614</td>\n",
              "      <td>0.302614</td>\n",
              "      <td>0.000000</td>\n",
              "    </tr>\n",
              "    <tr>\n",
              "      <th>basquete</th>\n",
              "      <td>1</td>\n",
              "      <td>-0.539741</td>\n",
              "      <td>-0.539741</td>\n",
              "      <td>0.000000</td>\n",
              "      <td>1</td>\n",
              "      <td>0.476985</td>\n",
              "      <td>0.476985</td>\n",
              "      <td>0.000000</td>\n",
              "    </tr>\n",
              "    <tr>\n",
              "      <th>natacao</th>\n",
              "      <td>3</td>\n",
              "      <td>1.393406</td>\n",
              "      <td>0.886429</td>\n",
              "      <td>0.506976</td>\n",
              "      <td>3</td>\n",
              "      <td>0.092908</td>\n",
              "      <td>-2.001637</td>\n",
              "      <td>2.094545</td>\n",
              "    </tr>\n",
              "  </tbody>\n",
              "</table>\n",
              "</div>"
            ],
            "text/plain": [
              "              a                      ...         b                      \n",
              "          count       max       min  ...       max       min max_min_dif\n",
              "esportes                             ...                                \n",
              "atletismo     1  0.124121  0.124121  ...  0.302614  0.302614    0.000000\n",
              "basquete      1 -0.539741 -0.539741  ...  0.476985  0.476985    0.000000\n",
              "natacao       3  1.393406  0.886429  ...  0.092908 -2.001637    2.094545\n",
              "\n",
              "[3 rows x 8 columns]"
            ]
          },
          "metadata": {
            "tags": []
          },
          "execution_count": 137
        }
      ]
    },
    {
      "cell_type": "code",
      "metadata": {
        "colab": {
          "base_uri": "https://localhost:8080/",
          "height": 204
        },
        "id": "-uuehhOKjX0C",
        "outputId": "291e5aa1-fb71-49a3-f561-8ef6be1fa708"
      },
      "source": [
        "pessoas.groupby(\"esportes\").agg([\"count\", \"mean\", \"std\", \"min\", \"quantile\", \"max\" ])[[\"a\"]]"
      ],
      "execution_count": 138,
      "outputs": [
        {
          "output_type": "execute_result",
          "data": {
            "text/html": [
              "<div>\n",
              "<style scoped>\n",
              "    .dataframe tbody tr th:only-of-type {\n",
              "        vertical-align: middle;\n",
              "    }\n",
              "\n",
              "    .dataframe tbody tr th {\n",
              "        vertical-align: top;\n",
              "    }\n",
              "\n",
              "    .dataframe thead tr th {\n",
              "        text-align: left;\n",
              "    }\n",
              "\n",
              "    .dataframe thead tr:last-of-type th {\n",
              "        text-align: right;\n",
              "    }\n",
              "</style>\n",
              "<table border=\"1\" class=\"dataframe\">\n",
              "  <thead>\n",
              "    <tr>\n",
              "      <th></th>\n",
              "      <th colspan=\"6\" halign=\"left\">a</th>\n",
              "    </tr>\n",
              "    <tr>\n",
              "      <th></th>\n",
              "      <th>count</th>\n",
              "      <th>mean</th>\n",
              "      <th>std</th>\n",
              "      <th>min</th>\n",
              "      <th>quantile</th>\n",
              "      <th>max</th>\n",
              "    </tr>\n",
              "    <tr>\n",
              "      <th>esportes</th>\n",
              "      <th></th>\n",
              "      <th></th>\n",
              "      <th></th>\n",
              "      <th></th>\n",
              "      <th></th>\n",
              "      <th></th>\n",
              "    </tr>\n",
              "  </thead>\n",
              "  <tbody>\n",
              "    <tr>\n",
              "      <th>atletismo</th>\n",
              "      <td>1</td>\n",
              "      <td>0.124121</td>\n",
              "      <td>NaN</td>\n",
              "      <td>0.124121</td>\n",
              "      <td>0.124121</td>\n",
              "      <td>0.124121</td>\n",
              "    </tr>\n",
              "    <tr>\n",
              "      <th>basquete</th>\n",
              "      <td>1</td>\n",
              "      <td>-0.539741</td>\n",
              "      <td>NaN</td>\n",
              "      <td>-0.539741</td>\n",
              "      <td>-0.539741</td>\n",
              "      <td>-0.539741</td>\n",
              "    </tr>\n",
              "    <tr>\n",
              "      <th>natacao</th>\n",
              "      <td>3</td>\n",
              "      <td>1.095675</td>\n",
              "      <td>0.264818</td>\n",
              "      <td>0.886429</td>\n",
              "      <td>1.007189</td>\n",
              "      <td>1.393406</td>\n",
              "    </tr>\n",
              "  </tbody>\n",
              "</table>\n",
              "</div>"
            ],
            "text/plain": [
              "              a                                                  \n",
              "          count      mean       std       min  quantile       max\n",
              "esportes                                                         \n",
              "atletismo     1  0.124121       NaN  0.124121  0.124121  0.124121\n",
              "basquete      1 -0.539741       NaN -0.539741 -0.539741 -0.539741\n",
              "natacao       3  1.095675  0.264818  0.886429  1.007189  1.393406"
            ]
          },
          "metadata": {
            "tags": []
          },
          "execution_count": 138
        }
      ]
    },
    {
      "cell_type": "code",
      "metadata": {
        "colab": {
          "base_uri": "https://localhost:8080/",
          "height": 173
        },
        "id": "KuneUONkkKFP",
        "outputId": "c06f3b65-08db-4095-826b-ac6633ba7a5a"
      },
      "source": [
        "# definindo o nome da função\n",
        "# por padrão os nome das colunas recebem os nome das funções utilizadas\n",
        "# para alterar os nomes passamos as tuplas na função agg\n",
        "pessoas.groupby(\"esportes\").agg([(\"Máximo\", \"max\"), (\"Mínimo\", \"min\"), (\"Quantidade\", \"count\"), (\"Mediana\", \"quantile\")])[\"a\"]"
      ],
      "execution_count": 139,
      "outputs": [
        {
          "output_type": "execute_result",
          "data": {
            "text/html": [
              "<div>\n",
              "<style scoped>\n",
              "    .dataframe tbody tr th:only-of-type {\n",
              "        vertical-align: middle;\n",
              "    }\n",
              "\n",
              "    .dataframe tbody tr th {\n",
              "        vertical-align: top;\n",
              "    }\n",
              "\n",
              "    .dataframe thead th {\n",
              "        text-align: right;\n",
              "    }\n",
              "</style>\n",
              "<table border=\"1\" class=\"dataframe\">\n",
              "  <thead>\n",
              "    <tr style=\"text-align: right;\">\n",
              "      <th></th>\n",
              "      <th>Máximo</th>\n",
              "      <th>Mínimo</th>\n",
              "      <th>Quantidade</th>\n",
              "      <th>Mediana</th>\n",
              "    </tr>\n",
              "    <tr>\n",
              "      <th>esportes</th>\n",
              "      <th></th>\n",
              "      <th></th>\n",
              "      <th></th>\n",
              "      <th></th>\n",
              "    </tr>\n",
              "  </thead>\n",
              "  <tbody>\n",
              "    <tr>\n",
              "      <th>atletismo</th>\n",
              "      <td>0.124121</td>\n",
              "      <td>0.124121</td>\n",
              "      <td>1</td>\n",
              "      <td>0.124121</td>\n",
              "    </tr>\n",
              "    <tr>\n",
              "      <th>basquete</th>\n",
              "      <td>-0.539741</td>\n",
              "      <td>-0.539741</td>\n",
              "      <td>1</td>\n",
              "      <td>-0.539741</td>\n",
              "    </tr>\n",
              "    <tr>\n",
              "      <th>natacao</th>\n",
              "      <td>1.393406</td>\n",
              "      <td>0.886429</td>\n",
              "      <td>3</td>\n",
              "      <td>1.007189</td>\n",
              "    </tr>\n",
              "  </tbody>\n",
              "</table>\n",
              "</div>"
            ],
            "text/plain": [
              "             Máximo    Mínimo  Quantidade   Mediana\n",
              "esportes                                           \n",
              "atletismo  0.124121  0.124121           1  0.124121\n",
              "basquete  -0.539741 -0.539741           1 -0.539741\n",
              "natacao    1.393406  0.886429           3  1.007189"
            ]
          },
          "metadata": {
            "tags": []
          },
          "execution_count": 139
        }
      ]
    },
    {
      "cell_type": "code",
      "metadata": {
        "colab": {
          "base_uri": "https://localhost:8080/",
          "height": 173
        },
        "id": "BBlzIl5zkzuB",
        "outputId": "db0a91d6-780d-4b2c-ca4a-49443b661673"
      },
      "source": [
        "# todas as 3 funções de agregação são aplicadas as colunas a e b\n",
        "func = (\"count\", \"max\", \"min\")\n",
        "resultado = pessoas[[\"a\", \"b\"]].groupby(\"esportes\").agg(func)\n",
        "\n",
        "resultado[\"a\"]"
      ],
      "execution_count": 140,
      "outputs": [
        {
          "output_type": "execute_result",
          "data": {
            "text/html": [
              "<div>\n",
              "<style scoped>\n",
              "    .dataframe tbody tr th:only-of-type {\n",
              "        vertical-align: middle;\n",
              "    }\n",
              "\n",
              "    .dataframe tbody tr th {\n",
              "        vertical-align: top;\n",
              "    }\n",
              "\n",
              "    .dataframe thead th {\n",
              "        text-align: right;\n",
              "    }\n",
              "</style>\n",
              "<table border=\"1\" class=\"dataframe\">\n",
              "  <thead>\n",
              "    <tr style=\"text-align: right;\">\n",
              "      <th></th>\n",
              "      <th>count</th>\n",
              "      <th>max</th>\n",
              "      <th>min</th>\n",
              "    </tr>\n",
              "    <tr>\n",
              "      <th>esportes</th>\n",
              "      <th></th>\n",
              "      <th></th>\n",
              "      <th></th>\n",
              "    </tr>\n",
              "  </thead>\n",
              "  <tbody>\n",
              "    <tr>\n",
              "      <th>atletismo</th>\n",
              "      <td>1</td>\n",
              "      <td>0.124121</td>\n",
              "      <td>0.124121</td>\n",
              "    </tr>\n",
              "    <tr>\n",
              "      <th>basquete</th>\n",
              "      <td>1</td>\n",
              "      <td>-0.539741</td>\n",
              "      <td>-0.539741</td>\n",
              "    </tr>\n",
              "    <tr>\n",
              "      <th>natacao</th>\n",
              "      <td>3</td>\n",
              "      <td>1.393406</td>\n",
              "      <td>0.886429</td>\n",
              "    </tr>\n",
              "  </tbody>\n",
              "</table>\n",
              "</div>"
            ],
            "text/plain": [
              "           count       max       min\n",
              "esportes                            \n",
              "atletismo      1  0.124121  0.124121\n",
              "basquete       1 -0.539741 -0.539741\n",
              "natacao        3  1.393406  0.886429"
            ]
          },
          "metadata": {
            "tags": []
          },
          "execution_count": 140
        }
      ]
    },
    {
      "cell_type": "code",
      "metadata": {
        "colab": {
          "base_uri": "https://localhost:8080/",
          "height": 204
        },
        "id": "9_fTdjEdnrl5",
        "outputId": "e7e88960-9a6b-44f3-b6ea-146ca9f32deb"
      },
      "source": [
        "# Para cada coluna numérica uma ou varias funções de agregação diferentes\n",
        "pessoas.reset_index(inplace=True)\n",
        "\n",
        "# agrupa os esportes e agrega para a coluna \"a\" usando a função sum e a coluna \"b\" usando as funções count, max, min\n",
        "pessoas.groupby(\"esportes\").agg({\"a\": \"sum\", \"b\": [\"count\", \"max\", \"min\"]})"
      ],
      "execution_count": 142,
      "outputs": [
        {
          "output_type": "execute_result",
          "data": {
            "text/html": [
              "<div>\n",
              "<style scoped>\n",
              "    .dataframe tbody tr th:only-of-type {\n",
              "        vertical-align: middle;\n",
              "    }\n",
              "\n",
              "    .dataframe tbody tr th {\n",
              "        vertical-align: top;\n",
              "    }\n",
              "\n",
              "    .dataframe thead tr th {\n",
              "        text-align: left;\n",
              "    }\n",
              "\n",
              "    .dataframe thead tr:last-of-type th {\n",
              "        text-align: right;\n",
              "    }\n",
              "</style>\n",
              "<table border=\"1\" class=\"dataframe\">\n",
              "  <thead>\n",
              "    <tr>\n",
              "      <th></th>\n",
              "      <th>a</th>\n",
              "      <th colspan=\"3\" halign=\"left\">b</th>\n",
              "    </tr>\n",
              "    <tr>\n",
              "      <th></th>\n",
              "      <th>sum</th>\n",
              "      <th>count</th>\n",
              "      <th>max</th>\n",
              "      <th>min</th>\n",
              "    </tr>\n",
              "    <tr>\n",
              "      <th>esportes</th>\n",
              "      <th></th>\n",
              "      <th></th>\n",
              "      <th></th>\n",
              "      <th></th>\n",
              "    </tr>\n",
              "  </thead>\n",
              "  <tbody>\n",
              "    <tr>\n",
              "      <th>atletismo</th>\n",
              "      <td>0.124121</td>\n",
              "      <td>1</td>\n",
              "      <td>0.302614</td>\n",
              "      <td>0.302614</td>\n",
              "    </tr>\n",
              "    <tr>\n",
              "      <th>basquete</th>\n",
              "      <td>-0.539741</td>\n",
              "      <td>1</td>\n",
              "      <td>0.476985</td>\n",
              "      <td>0.476985</td>\n",
              "    </tr>\n",
              "    <tr>\n",
              "      <th>natacao</th>\n",
              "      <td>3.287025</td>\n",
              "      <td>3</td>\n",
              "      <td>0.092908</td>\n",
              "      <td>-2.001637</td>\n",
              "    </tr>\n",
              "  </tbody>\n",
              "</table>\n",
              "</div>"
            ],
            "text/plain": [
              "                  a     b                    \n",
              "                sum count       max       min\n",
              "esportes                                     \n",
              "atletismo  0.124121     1  0.302614  0.302614\n",
              "basquete  -0.539741     1  0.476985  0.476985\n",
              "natacao    3.287025     3  0.092908 -2.001637"
            ]
          },
          "metadata": {
            "tags": []
          },
          "execution_count": 142
        }
      ]
    },
    {
      "cell_type": "code",
      "metadata": {
        "id": "ZaSgIkoepz2q"
      },
      "source": [
        ""
      ],
      "execution_count": 141,
      "outputs": []
    }
  ]
}