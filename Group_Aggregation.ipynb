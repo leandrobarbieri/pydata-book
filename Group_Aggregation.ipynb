{
  "nbformat": 4,
  "nbformat_minor": 0,
  "metadata": {
    "colab": {
      "name": "Group Aggregation.ipynb",
      "provenance": [],
      "collapsed_sections": [],
      "toc_visible": true,
      "authorship_tag": "ABX9TyPcZXKgXYCQfQC8/JpxRIpB",
      "include_colab_link": true
    },
    "kernelspec": {
      "name": "python3",
      "display_name": "Python 3"
    },
    "language_info": {
      "name": "python"
    }
  },
  "cells": [
    {
      "cell_type": "markdown",
      "metadata": {
        "id": "view-in-github",
        "colab_type": "text"
      },
      "source": [
        "<a href=\"https://colab.research.google.com/github/leandrobarbieri/pydata-book/blob/2nd-edition/Group_Aggregation.ipynb\" target=\"_parent\"><img src=\"https://colab.research.google.com/assets/colab-badge.svg\" alt=\"Open In Colab\"/></a>"
      ]
    },
    {
      "cell_type": "markdown",
      "metadata": {
        "id": "ojSyrKkaWHnM"
      },
      "source": [
        "# Agrupamento e agregação\n",
        "- 1: Separa os grupos, 2: Aplica funções de agregação, 3: Recombina em um novo df agregado.\n",
        "- Cálculos estatísticos de resumo em colunas numéricas\n",
        "- Iteração nos grupos\n",
        "- Agrupamentos de colunas. Une várias colunas em uma\n",
        "- Agregaçao com funções\n",
        "- Agregaçao com mais de uma função por coluna numérica\n",
        "- Agregação de cada coluna numerica com uma fução diferente\n",
        "- Tabelas pivot e crosstab"
      ]
    },
    {
      "cell_type": "code",
      "metadata": {
        "id": "W_o02J4DWElg"
      },
      "source": [
        "# importações e configurações\n",
        "import numpy as np\n",
        "import pandas as pd\n",
        "import matplotlib.pyplot as plt\n",
        "\n",
        "plt.rc('figure', figsize=(10, 6))\n",
        "np.set_printoptions(precision=4, suppress=True)\n",
        "PREVIOUS_MAX_ROWS = pd.options.display.max_rows\n",
        "pd.options.display.max_rows = 20\n",
        "np.random.seed(12345)"
      ],
      "execution_count": 632,
      "outputs": []
    },
    {
      "cell_type": "markdown",
      "metadata": {
        "id": "umG-y0laaNoJ"
      },
      "source": [
        "# Group By"
      ]
    },
    {
      "cell_type": "code",
      "metadata": {
        "colab": {
          "base_uri": "https://localhost:8080/",
          "height": 204
        },
        "id": "Kfmhv3dvYkQI",
        "outputId": "1ea25286-12f7-4004-ce6b-2d3dc9d7e31f"
      },
      "source": [
        "# cria um df de testes com dados categoricos (serão agrupado) e numéricos (serão agregados)\n",
        "df = pd.DataFrame({'key1' : ['a', 'a', 'b', 'b', 'a'],\n",
        "                   'key2' : ['one', 'two', 'one', 'two', 'one'],\n",
        "                   'data1' : np.arange(5),\n",
        "                   'data2' : np.random.randn(5)})\n",
        "df"
      ],
      "execution_count": 633,
      "outputs": [
        {
          "output_type": "execute_result",
          "data": {
            "text/html": [
              "<div>\n",
              "<style scoped>\n",
              "    .dataframe tbody tr th:only-of-type {\n",
              "        vertical-align: middle;\n",
              "    }\n",
              "\n",
              "    .dataframe tbody tr th {\n",
              "        vertical-align: top;\n",
              "    }\n",
              "\n",
              "    .dataframe thead th {\n",
              "        text-align: right;\n",
              "    }\n",
              "</style>\n",
              "<table border=\"1\" class=\"dataframe\">\n",
              "  <thead>\n",
              "    <tr style=\"text-align: right;\">\n",
              "      <th></th>\n",
              "      <th>key1</th>\n",
              "      <th>key2</th>\n",
              "      <th>data1</th>\n",
              "      <th>data2</th>\n",
              "    </tr>\n",
              "  </thead>\n",
              "  <tbody>\n",
              "    <tr>\n",
              "      <th>0</th>\n",
              "      <td>a</td>\n",
              "      <td>one</td>\n",
              "      <td>0</td>\n",
              "      <td>-0.204708</td>\n",
              "    </tr>\n",
              "    <tr>\n",
              "      <th>1</th>\n",
              "      <td>a</td>\n",
              "      <td>two</td>\n",
              "      <td>1</td>\n",
              "      <td>0.478943</td>\n",
              "    </tr>\n",
              "    <tr>\n",
              "      <th>2</th>\n",
              "      <td>b</td>\n",
              "      <td>one</td>\n",
              "      <td>2</td>\n",
              "      <td>-0.519439</td>\n",
              "    </tr>\n",
              "    <tr>\n",
              "      <th>3</th>\n",
              "      <td>b</td>\n",
              "      <td>two</td>\n",
              "      <td>3</td>\n",
              "      <td>-0.555730</td>\n",
              "    </tr>\n",
              "    <tr>\n",
              "      <th>4</th>\n",
              "      <td>a</td>\n",
              "      <td>one</td>\n",
              "      <td>4</td>\n",
              "      <td>1.965781</td>\n",
              "    </tr>\n",
              "  </tbody>\n",
              "</table>\n",
              "</div>"
            ],
            "text/plain": [
              "  key1 key2  data1     data2\n",
              "0    a  one      0 -0.204708\n",
              "1    a  two      1  0.478943\n",
              "2    b  one      2 -0.519439\n",
              "3    b  two      3 -0.555730\n",
              "4    a  one      4  1.965781"
            ]
          },
          "metadata": {
            "tags": []
          },
          "execution_count": 633
        }
      ]
    },
    {
      "cell_type": "code",
      "metadata": {
        "colab": {
          "base_uri": "https://localhost:8080/"
        },
        "id": "fS3xWk4dbQsZ",
        "outputId": "d839d426-e7e6-4905-b437-6cc0f5865532"
      },
      "source": [
        "# primeiramente os grupos são criados com base nas colunas passadas para groupby\n",
        "# um obj do tipo pandas.core.groupby.generic.SeriesGroupBy é criado\n",
        "# esse obj pode ser iterado\n",
        "grouped = df.groupby(df['key1'])\n",
        "\n",
        "for name, g in grouped:\n",
        "  print(\"--------\")\n",
        "  print(name)\n",
        "  print(g)"
      ],
      "execution_count": 634,
      "outputs": [
        {
          "output_type": "stream",
          "text": [
            "--------\n",
            "a\n",
            "  key1 key2  data1     data2\n",
            "0    a  one      0 -0.204708\n",
            "1    a  two      1  0.478943\n",
            "4    a  one      4  1.965781\n",
            "--------\n",
            "b\n",
            "  key1 key2  data1     data2\n",
            "2    b  one      2 -0.519439\n",
            "3    b  two      3 -0.555730\n"
          ],
          "name": "stdout"
        }
      ]
    },
    {
      "cell_type": "code",
      "metadata": {
        "colab": {
          "base_uri": "https://localhost:8080/"
        },
        "id": "WLnEqaHfbxHB",
        "outputId": "cbad64ff-ba65-4416-d44a-89a17a91256a"
      },
      "source": [
        "# Agregar (soma) a coluna 'data1' a partir do agrupamento da coluna 'key1'\n",
        "soma_data1 = df['data1'].groupby(df['key1']).sum() \n",
        "\n",
        "# igual\n",
        "# soma_data1 = df.groupby(['key1'])['data1'].sum()\n",
        "\n",
        "soma_data1"
      ],
      "execution_count": 635,
      "outputs": [
        {
          "output_type": "execute_result",
          "data": {
            "text/plain": [
              "key1\n",
              "a    5\n",
              "b    5\n",
              "Name: data1, dtype: int64"
            ]
          },
          "metadata": {
            "tags": []
          },
          "execution_count": 635
        }
      ]
    },
    {
      "cell_type": "code",
      "metadata": {
        "colab": {
          "base_uri": "https://localhost:8080/"
        },
        "id": "FsNwKz0_dhli",
        "outputId": "8d38b1f8-7deb-406c-ad05-f53be2b15ec6"
      },
      "source": [
        "# Agrupamento com múltiplas colunas (key1 e key2)\n",
        "# Se não passar nada para df, todas as colunas numericas são agregadas\n",
        "media_data1 = df['data1'].groupby([df['key1'], df['key2']]).mean()\n",
        "media_data1"
      ],
      "execution_count": 636,
      "outputs": [
        {
          "output_type": "execute_result",
          "data": {
            "text/plain": [
              "key1  key2\n",
              "a     one     2\n",
              "      two     1\n",
              "b     one     2\n",
              "      two     3\n",
              "Name: data1, dtype: int64"
            ]
          },
          "metadata": {
            "tags": []
          },
          "execution_count": 636
        }
      ]
    },
    {
      "cell_type": "code",
      "metadata": {
        "colab": {
          "base_uri": "https://localhost:8080/",
          "height": 173
        },
        "id": "Ld_viMfxp9L9",
        "outputId": "1e8a9288-130f-44c6-b7ca-4c624add6186"
      },
      "source": [
        "# Outra forma de fazer o mesmo comando acima\n",
        "# as_index=False faz com que as colunas agrupadas sejam tratadas como colunas e não como indices\n",
        "df.groupby(['key1', 'key2'], as_index=False)[['data1']].count()"
      ],
      "execution_count": 637,
      "outputs": [
        {
          "output_type": "execute_result",
          "data": {
            "text/html": [
              "<div>\n",
              "<style scoped>\n",
              "    .dataframe tbody tr th:only-of-type {\n",
              "        vertical-align: middle;\n",
              "    }\n",
              "\n",
              "    .dataframe tbody tr th {\n",
              "        vertical-align: top;\n",
              "    }\n",
              "\n",
              "    .dataframe thead th {\n",
              "        text-align: right;\n",
              "    }\n",
              "</style>\n",
              "<table border=\"1\" class=\"dataframe\">\n",
              "  <thead>\n",
              "    <tr style=\"text-align: right;\">\n",
              "      <th></th>\n",
              "      <th>key1</th>\n",
              "      <th>key2</th>\n",
              "      <th>data1</th>\n",
              "    </tr>\n",
              "  </thead>\n",
              "  <tbody>\n",
              "    <tr>\n",
              "      <th>0</th>\n",
              "      <td>a</td>\n",
              "      <td>one</td>\n",
              "      <td>2</td>\n",
              "    </tr>\n",
              "    <tr>\n",
              "      <th>1</th>\n",
              "      <td>a</td>\n",
              "      <td>two</td>\n",
              "      <td>1</td>\n",
              "    </tr>\n",
              "    <tr>\n",
              "      <th>2</th>\n",
              "      <td>b</td>\n",
              "      <td>one</td>\n",
              "      <td>1</td>\n",
              "    </tr>\n",
              "    <tr>\n",
              "      <th>3</th>\n",
              "      <td>b</td>\n",
              "      <td>two</td>\n",
              "      <td>1</td>\n",
              "    </tr>\n",
              "  </tbody>\n",
              "</table>\n",
              "</div>"
            ],
            "text/plain": [
              "  key1 key2  data1\n",
              "0    a  one      2\n",
              "1    a  two      1\n",
              "2    b  one      1\n",
              "3    b  two      1"
            ]
          },
          "metadata": {
            "tags": []
          },
          "execution_count": 637
        }
      ]
    },
    {
      "cell_type": "code",
      "metadata": {
        "colab": {
          "base_uri": "https://localhost:8080/",
          "height": 142
        },
        "id": "XBtGmXr0d-ij",
        "outputId": "1c02c1c3-3b96-4ec9-9e2c-18ad29c0811f"
      },
      "source": [
        "# usando unstack para pivotear o indice mais interno para colunas e criar uma matriz\n",
        "media_data1.unstack()"
      ],
      "execution_count": 638,
      "outputs": [
        {
          "output_type": "execute_result",
          "data": {
            "text/html": [
              "<div>\n",
              "<style scoped>\n",
              "    .dataframe tbody tr th:only-of-type {\n",
              "        vertical-align: middle;\n",
              "    }\n",
              "\n",
              "    .dataframe tbody tr th {\n",
              "        vertical-align: top;\n",
              "    }\n",
              "\n",
              "    .dataframe thead th {\n",
              "        text-align: right;\n",
              "    }\n",
              "</style>\n",
              "<table border=\"1\" class=\"dataframe\">\n",
              "  <thead>\n",
              "    <tr style=\"text-align: right;\">\n",
              "      <th>key2</th>\n",
              "      <th>one</th>\n",
              "      <th>two</th>\n",
              "    </tr>\n",
              "    <tr>\n",
              "      <th>key1</th>\n",
              "      <th></th>\n",
              "      <th></th>\n",
              "    </tr>\n",
              "  </thead>\n",
              "  <tbody>\n",
              "    <tr>\n",
              "      <th>a</th>\n",
              "      <td>2</td>\n",
              "      <td>1</td>\n",
              "    </tr>\n",
              "    <tr>\n",
              "      <th>b</th>\n",
              "      <td>2</td>\n",
              "      <td>3</td>\n",
              "    </tr>\n",
              "  </tbody>\n",
              "</table>\n",
              "</div>"
            ],
            "text/plain": [
              "key2  one  two\n",
              "key1          \n",
              "a       2    1\n",
              "b       2    3"
            ]
          },
          "metadata": {
            "tags": []
          },
          "execution_count": 638
        }
      ]
    },
    {
      "cell_type": "code",
      "metadata": {
        "colab": {
          "base_uri": "https://localhost:8080/"
        },
        "id": "TdatEH75elM7",
        "outputId": "7f65e458-7788-461f-b6b4-8d910b6ba111"
      },
      "source": [
        "# tamanho dos grupos, quantidade de linhas que foram agrupadas em cada grupo\n",
        "\n",
        "# df.groupby([\"key1\", \"key2\"])[[\"data1\", \"data2\"]].size()\n",
        "\n",
        "df.groupby(['key1', 'key2']).size()"
      ],
      "execution_count": 639,
      "outputs": [
        {
          "output_type": "execute_result",
          "data": {
            "text/plain": [
              "key1  key2\n",
              "a     one     2\n",
              "      two     1\n",
              "b     one     1\n",
              "      two     1\n",
              "dtype: int64"
            ]
          },
          "metadata": {
            "tags": []
          },
          "execution_count": 639
        }
      ]
    },
    {
      "cell_type": "code",
      "metadata": {
        "colab": {
          "base_uri": "https://localhost:8080/",
          "height": 142
        },
        "id": "LNjLen5UghGe",
        "outputId": "89cb5205-c39e-449d-c2a2-253e441377cd"
      },
      "source": [
        "# se não passar uma coluna numerica para df todas as colunas serão agregadas\n",
        "# data1 e data2 são agregadas automaticamente\n",
        "df.groupby(df[\"key1\"]).sum()\n",
        "\n",
        "# igual ao comando acima\n",
        "# df.groupby(\"key1\")[[\"data1\", \"data2\"]].sum()"
      ],
      "execution_count": 640,
      "outputs": [
        {
          "output_type": "execute_result",
          "data": {
            "text/html": [
              "<div>\n",
              "<style scoped>\n",
              "    .dataframe tbody tr th:only-of-type {\n",
              "        vertical-align: middle;\n",
              "    }\n",
              "\n",
              "    .dataframe tbody tr th {\n",
              "        vertical-align: top;\n",
              "    }\n",
              "\n",
              "    .dataframe thead th {\n",
              "        text-align: right;\n",
              "    }\n",
              "</style>\n",
              "<table border=\"1\" class=\"dataframe\">\n",
              "  <thead>\n",
              "    <tr style=\"text-align: right;\">\n",
              "      <th></th>\n",
              "      <th>data1</th>\n",
              "      <th>data2</th>\n",
              "    </tr>\n",
              "    <tr>\n",
              "      <th>key1</th>\n",
              "      <th></th>\n",
              "      <th></th>\n",
              "    </tr>\n",
              "  </thead>\n",
              "  <tbody>\n",
              "    <tr>\n",
              "      <th>a</th>\n",
              "      <td>5</td>\n",
              "      <td>2.240016</td>\n",
              "    </tr>\n",
              "    <tr>\n",
              "      <th>b</th>\n",
              "      <td>5</td>\n",
              "      <td>-1.075169</td>\n",
              "    </tr>\n",
              "  </tbody>\n",
              "</table>\n",
              "</div>"
            ],
            "text/plain": [
              "      data1     data2\n",
              "key1                 \n",
              "a         5  2.240016\n",
              "b         5 -1.075169"
            ]
          },
          "metadata": {
            "tags": []
          },
          "execution_count": 640
        }
      ]
    },
    {
      "cell_type": "markdown",
      "metadata": {
        "id": "nUkwscq6hYwG"
      },
      "source": [
        "## Iterando sob grupos\n",
        "Antes de aplicar a função de agregação os grupos são separados em varios subgrupos de acordo com a combinação de colunas que foram usadas no groupby. Esses gupos podem ser acessados antes de aplicar a agregação.\n",
        "> *o groupby devolve um objeto iteravel com uma tupla contendo o name do agrupamento um df com as linhas do grupo*"
      ]
    },
    {
      "cell_type": "code",
      "metadata": {
        "colab": {
          "base_uri": "https://localhost:8080/"
        },
        "id": "bWCku3uqhNF9",
        "outputId": "7361735c-6884-40aa-add3-1225247c8b6b"
      },
      "source": [
        "# Iterando nos grupos e acessadi a tupla (o primeiro elemento é a coluna usada para agrupar e o segundo são os registros)\n",
        "# Fazer a iteração antes de aplicar a função de agregação\n",
        "for nome, grupo in df.groupby(['key1', 'key2']):\n",
        "  print(f\"\\nColunas agrupadas: {nome}\")\n",
        "  print(grupo)\n",
        "  "
      ],
      "execution_count": 641,
      "outputs": [
        {
          "output_type": "stream",
          "text": [
            "\n",
            "Colunas agrupadas: ('a', 'one')\n",
            "  key1 key2  data1     data2\n",
            "0    a  one      0 -0.204708\n",
            "4    a  one      4  1.965781\n",
            "\n",
            "Colunas agrupadas: ('a', 'two')\n",
            "  key1 key2  data1     data2\n",
            "1    a  two      1  0.478943\n",
            "\n",
            "Colunas agrupadas: ('b', 'one')\n",
            "  key1 key2  data1     data2\n",
            "2    b  one      2 -0.519439\n",
            "\n",
            "Colunas agrupadas: ('b', 'two')\n",
            "  key1 key2  data1    data2\n",
            "3    b  two      3 -0.55573\n"
          ],
          "name": "stdout"
        }
      ]
    },
    {
      "cell_type": "code",
      "metadata": {
        "colab": {
          "base_uri": "https://localhost:8080/"
        },
        "id": "qBO1K5a3igUH",
        "outputId": "71061fad-6d5b-4e1e-da1f-ae8db9275a29"
      },
      "source": [
        "# criando um dicionário onde a chave é uma tupla com as colunas agrupadas e os valores são as linhas dos subgrupos\n",
        "dicionario_grupos = dict(list(df.groupby(['key1', 'key2'])))\n",
        "dicionario_grupos"
      ],
      "execution_count": 642,
      "outputs": [
        {
          "output_type": "execute_result",
          "data": {
            "text/plain": [
              "{('a', 'one'):   key1 key2  data1     data2\n",
              " 0    a  one      0 -0.204708\n",
              " 4    a  one      4  1.965781, ('a', 'two'):   key1 key2  data1     data2\n",
              " 1    a  two      1  0.478943, ('b', 'one'):   key1 key2  data1     data2\n",
              " 2    b  one      2 -0.519439, ('b', 'two'):   key1 key2  data1    data2\n",
              " 3    b  two      3 -0.55573}"
            ]
          },
          "metadata": {
            "tags": []
          },
          "execution_count": 642
        }
      ]
    },
    {
      "cell_type": "code",
      "metadata": {
        "colab": {
          "base_uri": "https://localhost:8080/",
          "height": 111
        },
        "id": "LQzUlruNDRgM",
        "outputId": "3b1f1ec1-c0c0-4ba0-9574-05ab20a15909"
      },
      "source": [
        "# acessando um subconjunto pela chave dos agrupamentos\n",
        "dicionario_grupos[('a', 'one')]"
      ],
      "execution_count": 643,
      "outputs": [
        {
          "output_type": "execute_result",
          "data": {
            "text/html": [
              "<div>\n",
              "<style scoped>\n",
              "    .dataframe tbody tr th:only-of-type {\n",
              "        vertical-align: middle;\n",
              "    }\n",
              "\n",
              "    .dataframe tbody tr th {\n",
              "        vertical-align: top;\n",
              "    }\n",
              "\n",
              "    .dataframe thead th {\n",
              "        text-align: right;\n",
              "    }\n",
              "</style>\n",
              "<table border=\"1\" class=\"dataframe\">\n",
              "  <thead>\n",
              "    <tr style=\"text-align: right;\">\n",
              "      <th></th>\n",
              "      <th>key1</th>\n",
              "      <th>key2</th>\n",
              "      <th>data1</th>\n",
              "      <th>data2</th>\n",
              "    </tr>\n",
              "  </thead>\n",
              "  <tbody>\n",
              "    <tr>\n",
              "      <th>0</th>\n",
              "      <td>a</td>\n",
              "      <td>one</td>\n",
              "      <td>0</td>\n",
              "      <td>-0.204708</td>\n",
              "    </tr>\n",
              "    <tr>\n",
              "      <th>4</th>\n",
              "      <td>a</td>\n",
              "      <td>one</td>\n",
              "      <td>4</td>\n",
              "      <td>1.965781</td>\n",
              "    </tr>\n",
              "  </tbody>\n",
              "</table>\n",
              "</div>"
            ],
            "text/plain": [
              "  key1 key2  data1     data2\n",
              "0    a  one      0 -0.204708\n",
              "4    a  one      4  1.965781"
            ]
          },
          "metadata": {
            "tags": []
          },
          "execution_count": 643
        }
      ]
    },
    {
      "cell_type": "code",
      "metadata": {
        "colab": {
          "base_uri": "https://localhost:8080/"
        },
        "id": "a5q4IcmmkLDn",
        "outputId": "8d0aac1d-d84e-4e1f-b636-2d9939e2687a"
      },
      "source": [
        "# agrupando pelos tipos de colunas no eixo das colunas\n",
        "\n",
        "# o df tem duas colunas float e duas object\n",
        "print(f\"Tipos de dados:\\n{df.dtypes}\\n\")\n",
        "\n",
        "# separar em 3 grupos as colunas de float, object, int. \n",
        "# axis=1 faz o agrupamento pelas colunas. Separa um grupo para cada coluna\n",
        "grouped_columns = df.groupby(df.dtypes, axis=1)\n",
        "\n",
        "# cada grupo apenas com colunas do tipo\n",
        "# exemplo: 2 colunas do tipo obj estão no mesmo agrupamento\n",
        "for tipo, dados in grouped_columns:\n",
        "  print(\"----------\")\n",
        "  print(tipo)\n",
        "  print(dados)"
      ],
      "execution_count": 644,
      "outputs": [
        {
          "output_type": "stream",
          "text": [
            "Tipos de dados:\n",
            "key1      object\n",
            "key2      object\n",
            "data1      int64\n",
            "data2    float64\n",
            "dtype: object\n",
            "\n",
            "----------\n",
            "int64\n",
            "   data1\n",
            "0      0\n",
            "1      1\n",
            "2      2\n",
            "3      3\n",
            "4      4\n",
            "----------\n",
            "float64\n",
            "      data2\n",
            "0 -0.204708\n",
            "1  0.478943\n",
            "2 -0.519439\n",
            "3 -0.555730\n",
            "4  1.965781\n",
            "----------\n",
            "object\n",
            "  key1 key2\n",
            "0    a  one\n",
            "1    a  two\n",
            "2    b  one\n",
            "3    b  two\n",
            "4    a  one\n"
          ],
          "name": "stdout"
        }
      ]
    },
    {
      "cell_type": "code",
      "metadata": {
        "colab": {
          "base_uri": "https://localhost:8080/"
        },
        "id": "OYzyRChCokcV",
        "outputId": "934e1c20-fdd8-41c2-8905-c0f7d9f647a3"
      },
      "source": [
        "# Acessando o grupp de colunas do tipo obj\n",
        "# Tranforma as tuplas em uma lista e acessa somente as colunas object\n",
        "list(grouped_columns)[2]"
      ],
      "execution_count": 645,
      "outputs": [
        {
          "output_type": "execute_result",
          "data": {
            "text/plain": [
              "(dtype('O'),   key1 key2\n",
              " 0    a  one\n",
              " 1    a  two\n",
              " 2    b  one\n",
              " 3    b  two\n",
              " 4    a  one)"
            ]
          },
          "metadata": {
            "tags": []
          },
          "execution_count": 645
        }
      ]
    },
    {
      "cell_type": "markdown",
      "metadata": {
        "id": "ruotHz0Vva-I"
      },
      "source": [
        "## Agrupando com dicts mapeados\n",
        "> Passa um dicionário que determina a combinação de cada grupo, é como se estivessemos definindo um agrupamento sem que tenha um coluna no df, como um agrupamento externo usando um dict como referência para juntar linha ou colunas."
      ]
    },
    {
      "cell_type": "code",
      "metadata": {
        "colab": {
          "base_uri": "https://localhost:8080/",
          "height": 204
        },
        "id": "WuLOFYu7pOyE",
        "outputId": "5631a232-3d88-480a-cbf6-6af63d397868"
      },
      "source": [
        "pessoas = pd.DataFrame(data=np.random.randn(5, 5),\n",
        "                       columns=['a', 'b', 'c', 'd', 'e'],\n",
        "                       index=[\"Leandro\", \"Bruna\", \"Breno\", \"João\", \"Maria\"])\n",
        "pessoas"
      ],
      "execution_count": 646,
      "outputs": [
        {
          "output_type": "execute_result",
          "data": {
            "text/html": [
              "<div>\n",
              "<style scoped>\n",
              "    .dataframe tbody tr th:only-of-type {\n",
              "        vertical-align: middle;\n",
              "    }\n",
              "\n",
              "    .dataframe tbody tr th {\n",
              "        vertical-align: top;\n",
              "    }\n",
              "\n",
              "    .dataframe thead th {\n",
              "        text-align: right;\n",
              "    }\n",
              "</style>\n",
              "<table border=\"1\" class=\"dataframe\">\n",
              "  <thead>\n",
              "    <tr style=\"text-align: right;\">\n",
              "      <th></th>\n",
              "      <th>a</th>\n",
              "      <th>b</th>\n",
              "      <th>c</th>\n",
              "      <th>d</th>\n",
              "      <th>e</th>\n",
              "    </tr>\n",
              "  </thead>\n",
              "  <tbody>\n",
              "    <tr>\n",
              "      <th>Leandro</th>\n",
              "      <td>1.393406</td>\n",
              "      <td>0.092908</td>\n",
              "      <td>0.281746</td>\n",
              "      <td>0.769023</td>\n",
              "      <td>1.246435</td>\n",
              "    </tr>\n",
              "    <tr>\n",
              "      <th>Bruna</th>\n",
              "      <td>1.007189</td>\n",
              "      <td>-1.296221</td>\n",
              "      <td>0.274992</td>\n",
              "      <td>0.228913</td>\n",
              "      <td>1.352917</td>\n",
              "    </tr>\n",
              "    <tr>\n",
              "      <th>Breno</th>\n",
              "      <td>0.886429</td>\n",
              "      <td>-2.001637</td>\n",
              "      <td>-0.371843</td>\n",
              "      <td>1.669025</td>\n",
              "      <td>-0.438570</td>\n",
              "    </tr>\n",
              "    <tr>\n",
              "      <th>João</th>\n",
              "      <td>-0.539741</td>\n",
              "      <td>0.476985</td>\n",
              "      <td>3.248944</td>\n",
              "      <td>-1.021228</td>\n",
              "      <td>-0.577087</td>\n",
              "    </tr>\n",
              "    <tr>\n",
              "      <th>Maria</th>\n",
              "      <td>0.124121</td>\n",
              "      <td>0.302614</td>\n",
              "      <td>0.523772</td>\n",
              "      <td>0.000940</td>\n",
              "      <td>1.343810</td>\n",
              "    </tr>\n",
              "  </tbody>\n",
              "</table>\n",
              "</div>"
            ],
            "text/plain": [
              "                a         b         c         d         e\n",
              "Leandro  1.393406  0.092908  0.281746  0.769023  1.246435\n",
              "Bruna    1.007189 -1.296221  0.274992  0.228913  1.352917\n",
              "Breno    0.886429 -2.001637 -0.371843  1.669025 -0.438570\n",
              "João    -0.539741  0.476985  3.248944 -1.021228 -0.577087\n",
              "Maria    0.124121  0.302614  0.523772  0.000940  1.343810"
            ]
          },
          "metadata": {
            "tags": []
          },
          "execution_count": 646
        }
      ]
    },
    {
      "cell_type": "code",
      "metadata": {
        "colab": {
          "base_uri": "https://localhost:8080/"
        },
        "id": "Np4__JFZwUhJ",
        "outputId": "bd334cf6-e548-42d8-9273-006bc21727ea"
      },
      "source": [
        "# será usado para agrupamento de colunas. Uma cor para mais de uma coluna\n",
        "dict_mapeamento_grupos = {\"a\": \"Red\", \"b\": \"Red\", \"c\": \"Red\", \"d\": \"Blue\", \"e\": \"Blue\", \"f\":\"Orange\"}\n",
        "dict_mapeamento_grupos"
      ],
      "execution_count": 647,
      "outputs": [
        {
          "output_type": "execute_result",
          "data": {
            "text/plain": [
              "{'a': 'Red', 'b': 'Red', 'c': 'Red', 'd': 'Blue', 'e': 'Blue', 'f': 'Orange'}"
            ]
          },
          "metadata": {
            "tags": []
          },
          "execution_count": 647
        }
      ]
    },
    {
      "cell_type": "code",
      "metadata": {
        "colab": {
          "base_uri": "https://localhost:8080/",
          "height": 561
        },
        "id": "GbyzLpP2wtyo",
        "outputId": "a2bb97db-3d8f-49dc-c39c-8a7fc47ddd51"
      },
      "source": [
        "# as colunas podem ser agrupadas de acordo com as combinações do dict\n",
        "# cada chave do dict (a, b, c, d, e) é mapeada com cada coluna do df e é retornado o valor do dict como agrupamento\n",
        "agrupamento_por_colunas = pessoas.groupby(dict_mapeamento_grupos, axis=1)\n",
        "\n",
        "# aplica uma agregação no agrupamento. Por exemplo, soma a, b, c na cor Red\n",
        "print(f\"Quantidade de colunas de cada cor:\\n{agrupamento_por_colunas.size()}\\n\")\n",
        "\n",
        "# imprime os valores dos grupos antes da agregação. grupo[0] representa a chave de agrupamento e grupo[1] a dataframe do subgrupo\n",
        "[print(f\"Grupo: {nome}\\n{grupo}\\n\") for nome, grupo in agrupamento_por_colunas]\n",
        "\n",
        "agrupamento_por_colunas.sum()"
      ],
      "execution_count": 648,
      "outputs": [
        {
          "output_type": "stream",
          "text": [
            "Quantidade de colunas de cada cor:\n",
            "Blue    2\n",
            "Red     3\n",
            "dtype: int64\n",
            "\n",
            "Grupo: Blue\n",
            "                d         e\n",
            "Leandro  0.769023  1.246435\n",
            "Bruna    0.228913  1.352917\n",
            "Breno    1.669025 -0.438570\n",
            "João    -1.021228 -0.577087\n",
            "Maria    0.000940  1.343810\n",
            "\n",
            "Grupo: Red\n",
            "                a         b         c\n",
            "Leandro  1.393406  0.092908  0.281746\n",
            "Bruna    1.007189 -1.296221  0.274992\n",
            "Breno    0.886429 -2.001637 -0.371843\n",
            "João    -0.539741  0.476985  3.248944\n",
            "Maria    0.124121  0.302614  0.523772\n",
            "\n"
          ],
          "name": "stdout"
        },
        {
          "output_type": "execute_result",
          "data": {
            "text/html": [
              "<div>\n",
              "<style scoped>\n",
              "    .dataframe tbody tr th:only-of-type {\n",
              "        vertical-align: middle;\n",
              "    }\n",
              "\n",
              "    .dataframe tbody tr th {\n",
              "        vertical-align: top;\n",
              "    }\n",
              "\n",
              "    .dataframe thead th {\n",
              "        text-align: right;\n",
              "    }\n",
              "</style>\n",
              "<table border=\"1\" class=\"dataframe\">\n",
              "  <thead>\n",
              "    <tr style=\"text-align: right;\">\n",
              "      <th></th>\n",
              "      <th>Blue</th>\n",
              "      <th>Red</th>\n",
              "    </tr>\n",
              "  </thead>\n",
              "  <tbody>\n",
              "    <tr>\n",
              "      <th>Leandro</th>\n",
              "      <td>2.015457</td>\n",
              "      <td>1.768060</td>\n",
              "    </tr>\n",
              "    <tr>\n",
              "      <th>Bruna</th>\n",
              "      <td>1.581830</td>\n",
              "      <td>-0.014040</td>\n",
              "    </tr>\n",
              "    <tr>\n",
              "      <th>Breno</th>\n",
              "      <td>1.230456</td>\n",
              "      <td>-1.487051</td>\n",
              "    </tr>\n",
              "    <tr>\n",
              "      <th>João</th>\n",
              "      <td>-1.598315</td>\n",
              "      <td>3.186187</td>\n",
              "    </tr>\n",
              "    <tr>\n",
              "      <th>Maria</th>\n",
              "      <td>1.344750</td>\n",
              "      <td>0.950507</td>\n",
              "    </tr>\n",
              "  </tbody>\n",
              "</table>\n",
              "</div>"
            ],
            "text/plain": [
              "             Blue       Red\n",
              "Leandro  2.015457  1.768060\n",
              "Bruna    1.581830 -0.014040\n",
              "Breno    1.230456 -1.487051\n",
              "João    -1.598315  3.186187\n",
              "Maria    1.344750  0.950507"
            ]
          },
          "metadata": {
            "tags": []
          },
          "execution_count": 648
        }
      ]
    },
    {
      "cell_type": "code",
      "metadata": {
        "colab": {
          "base_uri": "https://localhost:8080/",
          "height": 204
        },
        "id": "RsjpST0mxp5R",
        "outputId": "0fa870a1-6b21-496a-b04b-958816617662"
      },
      "source": [
        "# o mapeamento também funciona e pode ser feito com um obj series\n",
        "\n",
        "# tranforma o dict em series\n",
        "map_series = pd.Series(dict_mapeamento_grupos)\n",
        "\n",
        "# utiliza uma series para fazer o mapeamento, para cada chave em series é mapeado com as colunas do df e retorna o valor da series como chave de agrupamento\n",
        "pessoas.groupby(map_series, axis=1).sum()"
      ],
      "execution_count": 649,
      "outputs": [
        {
          "output_type": "execute_result",
          "data": {
            "text/html": [
              "<div>\n",
              "<style scoped>\n",
              "    .dataframe tbody tr th:only-of-type {\n",
              "        vertical-align: middle;\n",
              "    }\n",
              "\n",
              "    .dataframe tbody tr th {\n",
              "        vertical-align: top;\n",
              "    }\n",
              "\n",
              "    .dataframe thead th {\n",
              "        text-align: right;\n",
              "    }\n",
              "</style>\n",
              "<table border=\"1\" class=\"dataframe\">\n",
              "  <thead>\n",
              "    <tr style=\"text-align: right;\">\n",
              "      <th></th>\n",
              "      <th>Blue</th>\n",
              "      <th>Red</th>\n",
              "    </tr>\n",
              "  </thead>\n",
              "  <tbody>\n",
              "    <tr>\n",
              "      <th>Leandro</th>\n",
              "      <td>2.015457</td>\n",
              "      <td>1.768060</td>\n",
              "    </tr>\n",
              "    <tr>\n",
              "      <th>Bruna</th>\n",
              "      <td>1.581830</td>\n",
              "      <td>-0.014040</td>\n",
              "    </tr>\n",
              "    <tr>\n",
              "      <th>Breno</th>\n",
              "      <td>1.230456</td>\n",
              "      <td>-1.487051</td>\n",
              "    </tr>\n",
              "    <tr>\n",
              "      <th>João</th>\n",
              "      <td>-1.598315</td>\n",
              "      <td>3.186187</td>\n",
              "    </tr>\n",
              "    <tr>\n",
              "      <th>Maria</th>\n",
              "      <td>1.344750</td>\n",
              "      <td>0.950507</td>\n",
              "    </tr>\n",
              "  </tbody>\n",
              "</table>\n",
              "</div>"
            ],
            "text/plain": [
              "             Blue       Red\n",
              "Leandro  2.015457  1.768060\n",
              "Bruna    1.581830 -0.014040\n",
              "Breno    1.230456 -1.487051\n",
              "João    -1.598315  3.186187\n",
              "Maria    1.344750  0.950507"
            ]
          },
          "metadata": {
            "tags": []
          },
          "execution_count": 649
        }
      ]
    },
    {
      "cell_type": "markdown",
      "metadata": {
        "id": "1Su1KRBiVysV"
      },
      "source": [
        "## Agrupamentos com funções"
      ]
    },
    {
      "cell_type": "code",
      "metadata": {
        "colab": {
          "base_uri": "https://localhost:8080/",
          "height": 142
        },
        "id": "BrVJDX1s2kDF",
        "outputId": "e4623780-57ab-479d-c54a-34439464dea5"
      },
      "source": [
        "# agrupa pelo tamanho do nome da pessoa (como não passou nada usa o indice)\n",
        "pessoas.groupby(len).sum()"
      ],
      "execution_count": 650,
      "outputs": [
        {
          "output_type": "execute_result",
          "data": {
            "text/html": [
              "<div>\n",
              "<style scoped>\n",
              "    .dataframe tbody tr th:only-of-type {\n",
              "        vertical-align: middle;\n",
              "    }\n",
              "\n",
              "    .dataframe tbody tr th {\n",
              "        vertical-align: top;\n",
              "    }\n",
              "\n",
              "    .dataframe thead th {\n",
              "        text-align: right;\n",
              "    }\n",
              "</style>\n",
              "<table border=\"1\" class=\"dataframe\">\n",
              "  <thead>\n",
              "    <tr style=\"text-align: right;\">\n",
              "      <th></th>\n",
              "      <th>a</th>\n",
              "      <th>b</th>\n",
              "      <th>c</th>\n",
              "      <th>d</th>\n",
              "      <th>e</th>\n",
              "    </tr>\n",
              "  </thead>\n",
              "  <tbody>\n",
              "    <tr>\n",
              "      <th>4</th>\n",
              "      <td>-0.539741</td>\n",
              "      <td>0.476985</td>\n",
              "      <td>3.248944</td>\n",
              "      <td>-1.021228</td>\n",
              "      <td>-0.577087</td>\n",
              "    </tr>\n",
              "    <tr>\n",
              "      <th>5</th>\n",
              "      <td>2.017740</td>\n",
              "      <td>-2.995245</td>\n",
              "      <td>0.426921</td>\n",
              "      <td>1.898878</td>\n",
              "      <td>2.258157</td>\n",
              "    </tr>\n",
              "    <tr>\n",
              "      <th>7</th>\n",
              "      <td>1.393406</td>\n",
              "      <td>0.092908</td>\n",
              "      <td>0.281746</td>\n",
              "      <td>0.769023</td>\n",
              "      <td>1.246435</td>\n",
              "    </tr>\n",
              "  </tbody>\n",
              "</table>\n",
              "</div>"
            ],
            "text/plain": [
              "          a         b         c         d         e\n",
              "4 -0.539741  0.476985  3.248944 -1.021228 -0.577087\n",
              "5  2.017740 -2.995245  0.426921  1.898878  2.258157\n",
              "7  1.393406  0.092908  0.281746  0.769023  1.246435"
            ]
          },
          "metadata": {
            "tags": []
          },
          "execution_count": 650
        }
      ]
    },
    {
      "cell_type": "code",
      "metadata": {
        "colab": {
          "base_uri": "https://localhost:8080/",
          "height": 235
        },
        "id": "CYHD5-VwWdX5",
        "outputId": "7c538b73-fef5-45db-eed6-f0c11d1338f9"
      },
      "source": [
        "# agrupando usando um nível de índice\n",
        "indices_2niveis = pd.MultiIndex.from_arrays([[\"Leandro\", \"Bruna\", \"Breno\", \"João\", \"Maria\"],\n",
        "                                 [\"natacao\", \"natacao\", \"natacao\", \"basquete\", \"atletismo\"]], \n",
        "                                names=[\"familia\", \"esportes\"])\n",
        "\n",
        "# atribui o nome indice com 2 niveis para o dataframe\n",
        "pessoas.index = indices_2niveis\n",
        "\n",
        "# inverte os indices\n",
        "pessoas.swaplevel(\"esportes\", \"familia\")"
      ],
      "execution_count": 651,
      "outputs": [
        {
          "output_type": "execute_result",
          "data": {
            "text/html": [
              "<div>\n",
              "<style scoped>\n",
              "    .dataframe tbody tr th:only-of-type {\n",
              "        vertical-align: middle;\n",
              "    }\n",
              "\n",
              "    .dataframe tbody tr th {\n",
              "        vertical-align: top;\n",
              "    }\n",
              "\n",
              "    .dataframe thead th {\n",
              "        text-align: right;\n",
              "    }\n",
              "</style>\n",
              "<table border=\"1\" class=\"dataframe\">\n",
              "  <thead>\n",
              "    <tr style=\"text-align: right;\">\n",
              "      <th></th>\n",
              "      <th></th>\n",
              "      <th>a</th>\n",
              "      <th>b</th>\n",
              "      <th>c</th>\n",
              "      <th>d</th>\n",
              "      <th>e</th>\n",
              "    </tr>\n",
              "    <tr>\n",
              "      <th>esportes</th>\n",
              "      <th>familia</th>\n",
              "      <th></th>\n",
              "      <th></th>\n",
              "      <th></th>\n",
              "      <th></th>\n",
              "      <th></th>\n",
              "    </tr>\n",
              "  </thead>\n",
              "  <tbody>\n",
              "    <tr>\n",
              "      <th rowspan=\"3\" valign=\"top\">natacao</th>\n",
              "      <th>Leandro</th>\n",
              "      <td>1.393406</td>\n",
              "      <td>0.092908</td>\n",
              "      <td>0.281746</td>\n",
              "      <td>0.769023</td>\n",
              "      <td>1.246435</td>\n",
              "    </tr>\n",
              "    <tr>\n",
              "      <th>Bruna</th>\n",
              "      <td>1.007189</td>\n",
              "      <td>-1.296221</td>\n",
              "      <td>0.274992</td>\n",
              "      <td>0.228913</td>\n",
              "      <td>1.352917</td>\n",
              "    </tr>\n",
              "    <tr>\n",
              "      <th>Breno</th>\n",
              "      <td>0.886429</td>\n",
              "      <td>-2.001637</td>\n",
              "      <td>-0.371843</td>\n",
              "      <td>1.669025</td>\n",
              "      <td>-0.438570</td>\n",
              "    </tr>\n",
              "    <tr>\n",
              "      <th>basquete</th>\n",
              "      <th>João</th>\n",
              "      <td>-0.539741</td>\n",
              "      <td>0.476985</td>\n",
              "      <td>3.248944</td>\n",
              "      <td>-1.021228</td>\n",
              "      <td>-0.577087</td>\n",
              "    </tr>\n",
              "    <tr>\n",
              "      <th>atletismo</th>\n",
              "      <th>Maria</th>\n",
              "      <td>0.124121</td>\n",
              "      <td>0.302614</td>\n",
              "      <td>0.523772</td>\n",
              "      <td>0.000940</td>\n",
              "      <td>1.343810</td>\n",
              "    </tr>\n",
              "  </tbody>\n",
              "</table>\n",
              "</div>"
            ],
            "text/plain": [
              "                          a         b         c         d         e\n",
              "esportes  familia                                                  \n",
              "natacao   Leandro  1.393406  0.092908  0.281746  0.769023  1.246435\n",
              "          Bruna    1.007189 -1.296221  0.274992  0.228913  1.352917\n",
              "          Breno    0.886429 -2.001637 -0.371843  1.669025 -0.438570\n",
              "basquete  João    -0.539741  0.476985  3.248944 -1.021228 -0.577087\n",
              "atletismo Maria    0.124121  0.302614  0.523772  0.000940  1.343810"
            ]
          },
          "metadata": {
            "tags": []
          },
          "execution_count": 651
        }
      ]
    },
    {
      "cell_type": "code",
      "metadata": {
        "colab": {
          "base_uri": "https://localhost:8080/",
          "height": 173
        },
        "id": "G5jCR7qtY4gT",
        "outputId": "c15d6787-5217-49ba-f6b3-9422462c9c54"
      },
      "source": [
        "# agrupa pelo indice no level \"esportes\" apenas nas colunas numericas a e b\n",
        "pessoas.groupby(level=\"esportes\", axis=0)[[\"a\", \"b\"]].sum()"
      ],
      "execution_count": 652,
      "outputs": [
        {
          "output_type": "execute_result",
          "data": {
            "text/html": [
              "<div>\n",
              "<style scoped>\n",
              "    .dataframe tbody tr th:only-of-type {\n",
              "        vertical-align: middle;\n",
              "    }\n",
              "\n",
              "    .dataframe tbody tr th {\n",
              "        vertical-align: top;\n",
              "    }\n",
              "\n",
              "    .dataframe thead th {\n",
              "        text-align: right;\n",
              "    }\n",
              "</style>\n",
              "<table border=\"1\" class=\"dataframe\">\n",
              "  <thead>\n",
              "    <tr style=\"text-align: right;\">\n",
              "      <th></th>\n",
              "      <th>a</th>\n",
              "      <th>b</th>\n",
              "    </tr>\n",
              "    <tr>\n",
              "      <th>esportes</th>\n",
              "      <th></th>\n",
              "      <th></th>\n",
              "    </tr>\n",
              "  </thead>\n",
              "  <tbody>\n",
              "    <tr>\n",
              "      <th>atletismo</th>\n",
              "      <td>0.124121</td>\n",
              "      <td>0.302614</td>\n",
              "    </tr>\n",
              "    <tr>\n",
              "      <th>basquete</th>\n",
              "      <td>-0.539741</td>\n",
              "      <td>0.476985</td>\n",
              "    </tr>\n",
              "    <tr>\n",
              "      <th>natacao</th>\n",
              "      <td>3.287025</td>\n",
              "      <td>-3.204951</td>\n",
              "    </tr>\n",
              "  </tbody>\n",
              "</table>\n",
              "</div>"
            ],
            "text/plain": [
              "                  a         b\n",
              "esportes                     \n",
              "atletismo  0.124121  0.302614\n",
              "basquete  -0.539741  0.476985\n",
              "natacao    3.287025 -3.204951"
            ]
          },
          "metadata": {
            "tags": []
          },
          "execution_count": 652
        }
      ]
    },
    {
      "cell_type": "markdown",
      "metadata": {
        "id": "1nBQj_JGf9FR"
      },
      "source": [
        "# Agregação\n",
        "Depois que os grupos são criados pela função groupby as funções de agregação entram em ação fazendo os calculos.\n",
        "- count\n",
        "- min, max\n",
        "- str e var (desvio padrão e variancia)\n",
        "- prod (produto dois valores)\n",
        "- first, last"
      ]
    },
    {
      "cell_type": "code",
      "metadata": {
        "colab": {
          "base_uri": "https://localhost:8080/",
          "height": 173
        },
        "id": "BHzcW0UWbM9z",
        "outputId": "adee90b3-52ca-4d43-c407-58e3ef60760a"
      },
      "source": [
        "# soma\n",
        "pessoas.reset_index()\n",
        "pessoas.groupby([\"esportes\"])[[\"a\", \"b\"]].sum()"
      ],
      "execution_count": 653,
      "outputs": [
        {
          "output_type": "execute_result",
          "data": {
            "text/html": [
              "<div>\n",
              "<style scoped>\n",
              "    .dataframe tbody tr th:only-of-type {\n",
              "        vertical-align: middle;\n",
              "    }\n",
              "\n",
              "    .dataframe tbody tr th {\n",
              "        vertical-align: top;\n",
              "    }\n",
              "\n",
              "    .dataframe thead th {\n",
              "        text-align: right;\n",
              "    }\n",
              "</style>\n",
              "<table border=\"1\" class=\"dataframe\">\n",
              "  <thead>\n",
              "    <tr style=\"text-align: right;\">\n",
              "      <th></th>\n",
              "      <th>a</th>\n",
              "      <th>b</th>\n",
              "    </tr>\n",
              "    <tr>\n",
              "      <th>esportes</th>\n",
              "      <th></th>\n",
              "      <th></th>\n",
              "    </tr>\n",
              "  </thead>\n",
              "  <tbody>\n",
              "    <tr>\n",
              "      <th>atletismo</th>\n",
              "      <td>0.124121</td>\n",
              "      <td>0.302614</td>\n",
              "    </tr>\n",
              "    <tr>\n",
              "      <th>basquete</th>\n",
              "      <td>-0.539741</td>\n",
              "      <td>0.476985</td>\n",
              "    </tr>\n",
              "    <tr>\n",
              "      <th>natacao</th>\n",
              "      <td>3.287025</td>\n",
              "      <td>-3.204951</td>\n",
              "    </tr>\n",
              "  </tbody>\n",
              "</table>\n",
              "</div>"
            ],
            "text/plain": [
              "                  a         b\n",
              "esportes                     \n",
              "atletismo  0.124121  0.302614\n",
              "basquete  -0.539741  0.476985\n",
              "natacao    3.287025 -3.204951"
            ]
          },
          "metadata": {
            "tags": []
          },
          "execution_count": 653
        }
      ]
    },
    {
      "cell_type": "code",
      "metadata": {
        "colab": {
          "base_uri": "https://localhost:8080/",
          "height": 173
        },
        "id": "9McbydPPg-LP",
        "outputId": "36cfdc5c-5fce-4174-de90-d223dd452ecd"
      },
      "source": [
        "# min\n",
        "pessoas.groupby([\"esportes\"])[[\"a\", \"b\"]].min()"
      ],
      "execution_count": 654,
      "outputs": [
        {
          "output_type": "execute_result",
          "data": {
            "text/html": [
              "<div>\n",
              "<style scoped>\n",
              "    .dataframe tbody tr th:only-of-type {\n",
              "        vertical-align: middle;\n",
              "    }\n",
              "\n",
              "    .dataframe tbody tr th {\n",
              "        vertical-align: top;\n",
              "    }\n",
              "\n",
              "    .dataframe thead th {\n",
              "        text-align: right;\n",
              "    }\n",
              "</style>\n",
              "<table border=\"1\" class=\"dataframe\">\n",
              "  <thead>\n",
              "    <tr style=\"text-align: right;\">\n",
              "      <th></th>\n",
              "      <th>a</th>\n",
              "      <th>b</th>\n",
              "    </tr>\n",
              "    <tr>\n",
              "      <th>esportes</th>\n",
              "      <th></th>\n",
              "      <th></th>\n",
              "    </tr>\n",
              "  </thead>\n",
              "  <tbody>\n",
              "    <tr>\n",
              "      <th>atletismo</th>\n",
              "      <td>0.124121</td>\n",
              "      <td>0.302614</td>\n",
              "    </tr>\n",
              "    <tr>\n",
              "      <th>basquete</th>\n",
              "      <td>-0.539741</td>\n",
              "      <td>0.476985</td>\n",
              "    </tr>\n",
              "    <tr>\n",
              "      <th>natacao</th>\n",
              "      <td>0.886429</td>\n",
              "      <td>-2.001637</td>\n",
              "    </tr>\n",
              "  </tbody>\n",
              "</table>\n",
              "</div>"
            ],
            "text/plain": [
              "                  a         b\n",
              "esportes                     \n",
              "atletismo  0.124121  0.302614\n",
              "basquete  -0.539741  0.476985\n",
              "natacao    0.886429 -2.001637"
            ]
          },
          "metadata": {
            "tags": []
          },
          "execution_count": 654
        }
      ]
    },
    {
      "cell_type": "code",
      "metadata": {
        "colab": {
          "base_uri": "https://localhost:8080/",
          "height": 204
        },
        "id": "vkMlFs8QhdPQ",
        "outputId": "0d4ce83c-2d8d-4e49-f156-82ba9cd98e56"
      },
      "source": [
        "# agg: usando suas proprias funções, ou uma lista de funções\n",
        "# para cada coluna agregada, são aplicadas varias funções de agregação diferentes\n",
        "pessoas.groupby(\"esportes\").agg([\"min\", \"max\", \"count\", \"sum\"])[[\"a\", \"b\"]]"
      ],
      "execution_count": 655,
      "outputs": [
        {
          "output_type": "execute_result",
          "data": {
            "text/html": [
              "<div>\n",
              "<style scoped>\n",
              "    .dataframe tbody tr th:only-of-type {\n",
              "        vertical-align: middle;\n",
              "    }\n",
              "\n",
              "    .dataframe tbody tr th {\n",
              "        vertical-align: top;\n",
              "    }\n",
              "\n",
              "    .dataframe thead tr th {\n",
              "        text-align: left;\n",
              "    }\n",
              "\n",
              "    .dataframe thead tr:last-of-type th {\n",
              "        text-align: right;\n",
              "    }\n",
              "</style>\n",
              "<table border=\"1\" class=\"dataframe\">\n",
              "  <thead>\n",
              "    <tr>\n",
              "      <th></th>\n",
              "      <th colspan=\"4\" halign=\"left\">a</th>\n",
              "      <th colspan=\"4\" halign=\"left\">b</th>\n",
              "    </tr>\n",
              "    <tr>\n",
              "      <th></th>\n",
              "      <th>min</th>\n",
              "      <th>max</th>\n",
              "      <th>count</th>\n",
              "      <th>sum</th>\n",
              "      <th>min</th>\n",
              "      <th>max</th>\n",
              "      <th>count</th>\n",
              "      <th>sum</th>\n",
              "    </tr>\n",
              "    <tr>\n",
              "      <th>esportes</th>\n",
              "      <th></th>\n",
              "      <th></th>\n",
              "      <th></th>\n",
              "      <th></th>\n",
              "      <th></th>\n",
              "      <th></th>\n",
              "      <th></th>\n",
              "      <th></th>\n",
              "    </tr>\n",
              "  </thead>\n",
              "  <tbody>\n",
              "    <tr>\n",
              "      <th>atletismo</th>\n",
              "      <td>0.124121</td>\n",
              "      <td>0.124121</td>\n",
              "      <td>1</td>\n",
              "      <td>0.124121</td>\n",
              "      <td>0.302614</td>\n",
              "      <td>0.302614</td>\n",
              "      <td>1</td>\n",
              "      <td>0.302614</td>\n",
              "    </tr>\n",
              "    <tr>\n",
              "      <th>basquete</th>\n",
              "      <td>-0.539741</td>\n",
              "      <td>-0.539741</td>\n",
              "      <td>1</td>\n",
              "      <td>-0.539741</td>\n",
              "      <td>0.476985</td>\n",
              "      <td>0.476985</td>\n",
              "      <td>1</td>\n",
              "      <td>0.476985</td>\n",
              "    </tr>\n",
              "    <tr>\n",
              "      <th>natacao</th>\n",
              "      <td>0.886429</td>\n",
              "      <td>1.393406</td>\n",
              "      <td>3</td>\n",
              "      <td>3.287025</td>\n",
              "      <td>-2.001637</td>\n",
              "      <td>0.092908</td>\n",
              "      <td>3</td>\n",
              "      <td>-3.204951</td>\n",
              "    </tr>\n",
              "  </tbody>\n",
              "</table>\n",
              "</div>"
            ],
            "text/plain": [
              "                  a                  ...         b                \n",
              "                min       max count  ...       max count       sum\n",
              "esportes                             ...                          \n",
              "atletismo  0.124121  0.124121     1  ...  0.302614     1  0.302614\n",
              "basquete  -0.539741 -0.539741     1  ...  0.476985     1  0.476985\n",
              "natacao    0.886429  1.393406     3  ...  0.092908     3 -3.204951\n",
              "\n",
              "[3 rows x 8 columns]"
            ]
          },
          "metadata": {
            "tags": []
          },
          "execution_count": 655
        }
      ]
    },
    {
      "cell_type": "code",
      "metadata": {
        "colab": {
          "base_uri": "https://localhost:8080/",
          "height": 204
        },
        "id": "7_VmH2lqiBDj",
        "outputId": "3cfc4dc7-6a34-41cc-ae10-b0bbe222157d"
      },
      "source": [
        "def max_min_dif(dados):\n",
        "  return dados.max() - dados.min()\n",
        "\n",
        "# Agrupa os esportes e faz a agregação das colunas \"a\" e \"b\" aplicando as funções de agregação \"max\", \"min\", \"max_min_dif\" (customizada)\n",
        "pessoas.groupby(\"esportes\").agg([\"count\", \"max\", \"min\", max_min_dif])[[\"a\", \"b\"]]"
      ],
      "execution_count": 656,
      "outputs": [
        {
          "output_type": "execute_result",
          "data": {
            "text/html": [
              "<div>\n",
              "<style scoped>\n",
              "    .dataframe tbody tr th:only-of-type {\n",
              "        vertical-align: middle;\n",
              "    }\n",
              "\n",
              "    .dataframe tbody tr th {\n",
              "        vertical-align: top;\n",
              "    }\n",
              "\n",
              "    .dataframe thead tr th {\n",
              "        text-align: left;\n",
              "    }\n",
              "\n",
              "    .dataframe thead tr:last-of-type th {\n",
              "        text-align: right;\n",
              "    }\n",
              "</style>\n",
              "<table border=\"1\" class=\"dataframe\">\n",
              "  <thead>\n",
              "    <tr>\n",
              "      <th></th>\n",
              "      <th colspan=\"4\" halign=\"left\">a</th>\n",
              "      <th colspan=\"4\" halign=\"left\">b</th>\n",
              "    </tr>\n",
              "    <tr>\n",
              "      <th></th>\n",
              "      <th>count</th>\n",
              "      <th>max</th>\n",
              "      <th>min</th>\n",
              "      <th>max_min_dif</th>\n",
              "      <th>count</th>\n",
              "      <th>max</th>\n",
              "      <th>min</th>\n",
              "      <th>max_min_dif</th>\n",
              "    </tr>\n",
              "    <tr>\n",
              "      <th>esportes</th>\n",
              "      <th></th>\n",
              "      <th></th>\n",
              "      <th></th>\n",
              "      <th></th>\n",
              "      <th></th>\n",
              "      <th></th>\n",
              "      <th></th>\n",
              "      <th></th>\n",
              "    </tr>\n",
              "  </thead>\n",
              "  <tbody>\n",
              "    <tr>\n",
              "      <th>atletismo</th>\n",
              "      <td>1</td>\n",
              "      <td>0.124121</td>\n",
              "      <td>0.124121</td>\n",
              "      <td>0.000000</td>\n",
              "      <td>1</td>\n",
              "      <td>0.302614</td>\n",
              "      <td>0.302614</td>\n",
              "      <td>0.000000</td>\n",
              "    </tr>\n",
              "    <tr>\n",
              "      <th>basquete</th>\n",
              "      <td>1</td>\n",
              "      <td>-0.539741</td>\n",
              "      <td>-0.539741</td>\n",
              "      <td>0.000000</td>\n",
              "      <td>1</td>\n",
              "      <td>0.476985</td>\n",
              "      <td>0.476985</td>\n",
              "      <td>0.000000</td>\n",
              "    </tr>\n",
              "    <tr>\n",
              "      <th>natacao</th>\n",
              "      <td>3</td>\n",
              "      <td>1.393406</td>\n",
              "      <td>0.886429</td>\n",
              "      <td>0.506976</td>\n",
              "      <td>3</td>\n",
              "      <td>0.092908</td>\n",
              "      <td>-2.001637</td>\n",
              "      <td>2.094545</td>\n",
              "    </tr>\n",
              "  </tbody>\n",
              "</table>\n",
              "</div>"
            ],
            "text/plain": [
              "              a                      ...         b                      \n",
              "          count       max       min  ...       max       min max_min_dif\n",
              "esportes                             ...                                \n",
              "atletismo     1  0.124121  0.124121  ...  0.302614  0.302614    0.000000\n",
              "basquete      1 -0.539741 -0.539741  ...  0.476985  0.476985    0.000000\n",
              "natacao       3  1.393406  0.886429  ...  0.092908 -2.001637    2.094545\n",
              "\n",
              "[3 rows x 8 columns]"
            ]
          },
          "metadata": {
            "tags": []
          },
          "execution_count": 656
        }
      ]
    },
    {
      "cell_type": "code",
      "metadata": {
        "colab": {
          "base_uri": "https://localhost:8080/",
          "height": 204
        },
        "id": "-uuehhOKjX0C",
        "outputId": "b5390fb1-77a6-4f2e-9710-0de82c1ba8c0"
      },
      "source": [
        "pessoas.groupby(\"esportes\").agg([\"count\", \"mean\", \"std\", \"min\", \"quantile\", \"max\"])[[\"a\"]]"
      ],
      "execution_count": 657,
      "outputs": [
        {
          "output_type": "execute_result",
          "data": {
            "text/html": [
              "<div>\n",
              "<style scoped>\n",
              "    .dataframe tbody tr th:only-of-type {\n",
              "        vertical-align: middle;\n",
              "    }\n",
              "\n",
              "    .dataframe tbody tr th {\n",
              "        vertical-align: top;\n",
              "    }\n",
              "\n",
              "    .dataframe thead tr th {\n",
              "        text-align: left;\n",
              "    }\n",
              "\n",
              "    .dataframe thead tr:last-of-type th {\n",
              "        text-align: right;\n",
              "    }\n",
              "</style>\n",
              "<table border=\"1\" class=\"dataframe\">\n",
              "  <thead>\n",
              "    <tr>\n",
              "      <th></th>\n",
              "      <th colspan=\"6\" halign=\"left\">a</th>\n",
              "    </tr>\n",
              "    <tr>\n",
              "      <th></th>\n",
              "      <th>count</th>\n",
              "      <th>mean</th>\n",
              "      <th>std</th>\n",
              "      <th>min</th>\n",
              "      <th>quantile</th>\n",
              "      <th>max</th>\n",
              "    </tr>\n",
              "    <tr>\n",
              "      <th>esportes</th>\n",
              "      <th></th>\n",
              "      <th></th>\n",
              "      <th></th>\n",
              "      <th></th>\n",
              "      <th></th>\n",
              "      <th></th>\n",
              "    </tr>\n",
              "  </thead>\n",
              "  <tbody>\n",
              "    <tr>\n",
              "      <th>atletismo</th>\n",
              "      <td>1</td>\n",
              "      <td>0.124121</td>\n",
              "      <td>NaN</td>\n",
              "      <td>0.124121</td>\n",
              "      <td>0.124121</td>\n",
              "      <td>0.124121</td>\n",
              "    </tr>\n",
              "    <tr>\n",
              "      <th>basquete</th>\n",
              "      <td>1</td>\n",
              "      <td>-0.539741</td>\n",
              "      <td>NaN</td>\n",
              "      <td>-0.539741</td>\n",
              "      <td>-0.539741</td>\n",
              "      <td>-0.539741</td>\n",
              "    </tr>\n",
              "    <tr>\n",
              "      <th>natacao</th>\n",
              "      <td>3</td>\n",
              "      <td>1.095675</td>\n",
              "      <td>0.264818</td>\n",
              "      <td>0.886429</td>\n",
              "      <td>1.007189</td>\n",
              "      <td>1.393406</td>\n",
              "    </tr>\n",
              "  </tbody>\n",
              "</table>\n",
              "</div>"
            ],
            "text/plain": [
              "              a                                                  \n",
              "          count      mean       std       min  quantile       max\n",
              "esportes                                                         \n",
              "atletismo     1  0.124121       NaN  0.124121  0.124121  0.124121\n",
              "basquete      1 -0.539741       NaN -0.539741 -0.539741 -0.539741\n",
              "natacao       3  1.095675  0.264818  0.886429  1.007189  1.393406"
            ]
          },
          "metadata": {
            "tags": []
          },
          "execution_count": 657
        }
      ]
    },
    {
      "cell_type": "code",
      "metadata": {
        "colab": {
          "base_uri": "https://localhost:8080/",
          "height": 173
        },
        "id": "KuneUONkkKFP",
        "outputId": "9f2b63ea-8bd0-467f-c1b5-11b4cd515159"
      },
      "source": [
        "# definindo o nome da função\n",
        "# por padrão os nome das colunas recebem os nome das funções utilizadas\n",
        "# para alterar os nomes passamos as tuplas na função agg\n",
        "pessoas.groupby(\"esportes\").agg([(\"Máximo\", \"max\"), (\"Mínimo\", \"min\"), (\"Quantidade\", \"count\"), (\"Mediana\", \"quantile\")])[\"a\"]"
      ],
      "execution_count": 658,
      "outputs": [
        {
          "output_type": "execute_result",
          "data": {
            "text/html": [
              "<div>\n",
              "<style scoped>\n",
              "    .dataframe tbody tr th:only-of-type {\n",
              "        vertical-align: middle;\n",
              "    }\n",
              "\n",
              "    .dataframe tbody tr th {\n",
              "        vertical-align: top;\n",
              "    }\n",
              "\n",
              "    .dataframe thead th {\n",
              "        text-align: right;\n",
              "    }\n",
              "</style>\n",
              "<table border=\"1\" class=\"dataframe\">\n",
              "  <thead>\n",
              "    <tr style=\"text-align: right;\">\n",
              "      <th></th>\n",
              "      <th>Máximo</th>\n",
              "      <th>Mínimo</th>\n",
              "      <th>Quantidade</th>\n",
              "      <th>Mediana</th>\n",
              "    </tr>\n",
              "    <tr>\n",
              "      <th>esportes</th>\n",
              "      <th></th>\n",
              "      <th></th>\n",
              "      <th></th>\n",
              "      <th></th>\n",
              "    </tr>\n",
              "  </thead>\n",
              "  <tbody>\n",
              "    <tr>\n",
              "      <th>atletismo</th>\n",
              "      <td>0.124121</td>\n",
              "      <td>0.124121</td>\n",
              "      <td>1</td>\n",
              "      <td>0.124121</td>\n",
              "    </tr>\n",
              "    <tr>\n",
              "      <th>basquete</th>\n",
              "      <td>-0.539741</td>\n",
              "      <td>-0.539741</td>\n",
              "      <td>1</td>\n",
              "      <td>-0.539741</td>\n",
              "    </tr>\n",
              "    <tr>\n",
              "      <th>natacao</th>\n",
              "      <td>1.393406</td>\n",
              "      <td>0.886429</td>\n",
              "      <td>3</td>\n",
              "      <td>1.007189</td>\n",
              "    </tr>\n",
              "  </tbody>\n",
              "</table>\n",
              "</div>"
            ],
            "text/plain": [
              "             Máximo    Mínimo  Quantidade   Mediana\n",
              "esportes                                           \n",
              "atletismo  0.124121  0.124121           1  0.124121\n",
              "basquete  -0.539741 -0.539741           1 -0.539741\n",
              "natacao    1.393406  0.886429           3  1.007189"
            ]
          },
          "metadata": {
            "tags": []
          },
          "execution_count": 658
        }
      ]
    },
    {
      "cell_type": "code",
      "metadata": {
        "colab": {
          "base_uri": "https://localhost:8080/",
          "height": 173
        },
        "id": "BBlzIl5zkzuB",
        "outputId": "a74caac3-1d74-478a-b229-49091d2733ec"
      },
      "source": [
        "# todas as 3 funções de agregação são aplicadas as colunas a e b\n",
        "func = (\"count\", \"max\", \"min\")\n",
        "resultado = pessoas[[\"a\", \"b\"]].groupby(\"esportes\").agg(func)\n",
        "\n",
        "resultado[\"a\"]"
      ],
      "execution_count": 659,
      "outputs": [
        {
          "output_type": "execute_result",
          "data": {
            "text/html": [
              "<div>\n",
              "<style scoped>\n",
              "    .dataframe tbody tr th:only-of-type {\n",
              "        vertical-align: middle;\n",
              "    }\n",
              "\n",
              "    .dataframe tbody tr th {\n",
              "        vertical-align: top;\n",
              "    }\n",
              "\n",
              "    .dataframe thead th {\n",
              "        text-align: right;\n",
              "    }\n",
              "</style>\n",
              "<table border=\"1\" class=\"dataframe\">\n",
              "  <thead>\n",
              "    <tr style=\"text-align: right;\">\n",
              "      <th></th>\n",
              "      <th>count</th>\n",
              "      <th>max</th>\n",
              "      <th>min</th>\n",
              "    </tr>\n",
              "    <tr>\n",
              "      <th>esportes</th>\n",
              "      <th></th>\n",
              "      <th></th>\n",
              "      <th></th>\n",
              "    </tr>\n",
              "  </thead>\n",
              "  <tbody>\n",
              "    <tr>\n",
              "      <th>atletismo</th>\n",
              "      <td>1</td>\n",
              "      <td>0.124121</td>\n",
              "      <td>0.124121</td>\n",
              "    </tr>\n",
              "    <tr>\n",
              "      <th>basquete</th>\n",
              "      <td>1</td>\n",
              "      <td>-0.539741</td>\n",
              "      <td>-0.539741</td>\n",
              "    </tr>\n",
              "    <tr>\n",
              "      <th>natacao</th>\n",
              "      <td>3</td>\n",
              "      <td>1.393406</td>\n",
              "      <td>0.886429</td>\n",
              "    </tr>\n",
              "  </tbody>\n",
              "</table>\n",
              "</div>"
            ],
            "text/plain": [
              "           count       max       min\n",
              "esportes                            \n",
              "atletismo      1  0.124121  0.124121\n",
              "basquete       1 -0.539741 -0.539741\n",
              "natacao        3  1.393406  0.886429"
            ]
          },
          "metadata": {
            "tags": []
          },
          "execution_count": 659
        }
      ]
    },
    {
      "cell_type": "code",
      "metadata": {
        "colab": {
          "base_uri": "https://localhost:8080/",
          "height": 173
        },
        "id": "9_fTdjEdnrl5",
        "outputId": "6802231d-37a5-4a9a-a468-296b9fbe834a"
      },
      "source": [
        "# retorna para o indice padrão\n",
        "pessoas.reset_index(inplace=True)\n",
        "\n",
        "# Para cada coluna numérica uma ou varias funções de agregação diferentes\n",
        "# agrupa os esportes e agrega para a coluna \"a\" usando a função sum e a coluna \"b\" usando as funções count, max, min\n",
        "pessoas.groupby(\"esportes\", as_index=False).agg({\"a\": \"sum\", \"b\": [\"count\", \"max\", \"min\"]})"
      ],
      "execution_count": 660,
      "outputs": [
        {
          "output_type": "execute_result",
          "data": {
            "text/html": [
              "<div>\n",
              "<style scoped>\n",
              "    .dataframe tbody tr th:only-of-type {\n",
              "        vertical-align: middle;\n",
              "    }\n",
              "\n",
              "    .dataframe tbody tr th {\n",
              "        vertical-align: top;\n",
              "    }\n",
              "\n",
              "    .dataframe thead tr th {\n",
              "        text-align: left;\n",
              "    }\n",
              "</style>\n",
              "<table border=\"1\" class=\"dataframe\">\n",
              "  <thead>\n",
              "    <tr>\n",
              "      <th></th>\n",
              "      <th>esportes</th>\n",
              "      <th>a</th>\n",
              "      <th colspan=\"3\" halign=\"left\">b</th>\n",
              "    </tr>\n",
              "    <tr>\n",
              "      <th></th>\n",
              "      <th></th>\n",
              "      <th>sum</th>\n",
              "      <th>count</th>\n",
              "      <th>max</th>\n",
              "      <th>min</th>\n",
              "    </tr>\n",
              "  </thead>\n",
              "  <tbody>\n",
              "    <tr>\n",
              "      <th>0</th>\n",
              "      <td>atletismo</td>\n",
              "      <td>0.124121</td>\n",
              "      <td>1</td>\n",
              "      <td>0.302614</td>\n",
              "      <td>0.302614</td>\n",
              "    </tr>\n",
              "    <tr>\n",
              "      <th>1</th>\n",
              "      <td>basquete</td>\n",
              "      <td>-0.539741</td>\n",
              "      <td>1</td>\n",
              "      <td>0.476985</td>\n",
              "      <td>0.476985</td>\n",
              "    </tr>\n",
              "    <tr>\n",
              "      <th>2</th>\n",
              "      <td>natacao</td>\n",
              "      <td>3.287025</td>\n",
              "      <td>3</td>\n",
              "      <td>0.092908</td>\n",
              "      <td>-2.001637</td>\n",
              "    </tr>\n",
              "  </tbody>\n",
              "</table>\n",
              "</div>"
            ],
            "text/plain": [
              "    esportes         a     b                    \n",
              "                   sum count       max       min\n",
              "0  atletismo  0.124121     1  0.302614  0.302614\n",
              "1   basquete -0.539741     1  0.476985  0.476985\n",
              "2    natacao  3.287025     3  0.092908 -2.001637"
            ]
          },
          "metadata": {
            "tags": []
          },
          "execution_count": 660
        }
      ]
    },
    {
      "cell_type": "markdown",
      "metadata": {
        "id": "yA-6Hh0ECqw_"
      },
      "source": [
        "# Apply\n",
        "Chama uma função a cada parte separada em grupos e depois reagrupa"
      ]
    },
    {
      "cell_type": "code",
      "metadata": {
        "id": "ZaSgIkoepz2q"
      },
      "source": [
        "# top 5 por grupo\n",
        "def topn_grupo(df, n=2, coluna=\"a\"):\n",
        "  \n",
        "  # retorna os valores ordenados pela coluna e apenas os ultimos n [-n:]\n",
        "  return df.sort_values(by=coluna)[-n:]"
      ],
      "execution_count": 661,
      "outputs": []
    },
    {
      "cell_type": "code",
      "metadata": {
        "colab": {
          "base_uri": "https://localhost:8080/",
          "height": 204
        },
        "id": "EMjUNTCB5jKs",
        "outputId": "8584ef20-7ad9-4473-aa38-fce6f82b4017"
      },
      "source": [
        "#todos os valores ordenados\n",
        "pessoas.sort_values(by=\"a\", ascending=False)[[\"esportes\", \"familia\", \"a\"]]"
      ],
      "execution_count": 662,
      "outputs": [
        {
          "output_type": "execute_result",
          "data": {
            "text/html": [
              "<div>\n",
              "<style scoped>\n",
              "    .dataframe tbody tr th:only-of-type {\n",
              "        vertical-align: middle;\n",
              "    }\n",
              "\n",
              "    .dataframe tbody tr th {\n",
              "        vertical-align: top;\n",
              "    }\n",
              "\n",
              "    .dataframe thead th {\n",
              "        text-align: right;\n",
              "    }\n",
              "</style>\n",
              "<table border=\"1\" class=\"dataframe\">\n",
              "  <thead>\n",
              "    <tr style=\"text-align: right;\">\n",
              "      <th></th>\n",
              "      <th>esportes</th>\n",
              "      <th>familia</th>\n",
              "      <th>a</th>\n",
              "    </tr>\n",
              "  </thead>\n",
              "  <tbody>\n",
              "    <tr>\n",
              "      <th>0</th>\n",
              "      <td>natacao</td>\n",
              "      <td>Leandro</td>\n",
              "      <td>1.393406</td>\n",
              "    </tr>\n",
              "    <tr>\n",
              "      <th>1</th>\n",
              "      <td>natacao</td>\n",
              "      <td>Bruna</td>\n",
              "      <td>1.007189</td>\n",
              "    </tr>\n",
              "    <tr>\n",
              "      <th>2</th>\n",
              "      <td>natacao</td>\n",
              "      <td>Breno</td>\n",
              "      <td>0.886429</td>\n",
              "    </tr>\n",
              "    <tr>\n",
              "      <th>4</th>\n",
              "      <td>atletismo</td>\n",
              "      <td>Maria</td>\n",
              "      <td>0.124121</td>\n",
              "    </tr>\n",
              "    <tr>\n",
              "      <th>3</th>\n",
              "      <td>basquete</td>\n",
              "      <td>João</td>\n",
              "      <td>-0.539741</td>\n",
              "    </tr>\n",
              "  </tbody>\n",
              "</table>\n",
              "</div>"
            ],
            "text/plain": [
              "    esportes  familia         a\n",
              "0    natacao  Leandro  1.393406\n",
              "1    natacao    Bruna  1.007189\n",
              "2    natacao    Breno  0.886429\n",
              "4  atletismo    Maria  0.124121\n",
              "3   basquete     João -0.539741"
            ]
          },
          "metadata": {
            "tags": []
          },
          "execution_count": 662
        }
      ]
    },
    {
      "cell_type": "code",
      "metadata": {
        "colab": {
          "base_uri": "https://localhost:8080/",
          "height": 111
        },
        "id": "JiJGCPZ352Y5",
        "outputId": "4f9d2c95-11a4-4cc5-84d8-3fc4206ed212"
      },
      "source": [
        "# top n para o df todo\n",
        "topn_grupo(pessoas)"
      ],
      "execution_count": 663,
      "outputs": [
        {
          "output_type": "execute_result",
          "data": {
            "text/html": [
              "<div>\n",
              "<style scoped>\n",
              "    .dataframe tbody tr th:only-of-type {\n",
              "        vertical-align: middle;\n",
              "    }\n",
              "\n",
              "    .dataframe tbody tr th {\n",
              "        vertical-align: top;\n",
              "    }\n",
              "\n",
              "    .dataframe thead th {\n",
              "        text-align: right;\n",
              "    }\n",
              "</style>\n",
              "<table border=\"1\" class=\"dataframe\">\n",
              "  <thead>\n",
              "    <tr style=\"text-align: right;\">\n",
              "      <th></th>\n",
              "      <th>familia</th>\n",
              "      <th>esportes</th>\n",
              "      <th>a</th>\n",
              "      <th>b</th>\n",
              "      <th>c</th>\n",
              "      <th>d</th>\n",
              "      <th>e</th>\n",
              "    </tr>\n",
              "  </thead>\n",
              "  <tbody>\n",
              "    <tr>\n",
              "      <th>1</th>\n",
              "      <td>Bruna</td>\n",
              "      <td>natacao</td>\n",
              "      <td>1.007189</td>\n",
              "      <td>-1.296221</td>\n",
              "      <td>0.274992</td>\n",
              "      <td>0.228913</td>\n",
              "      <td>1.352917</td>\n",
              "    </tr>\n",
              "    <tr>\n",
              "      <th>0</th>\n",
              "      <td>Leandro</td>\n",
              "      <td>natacao</td>\n",
              "      <td>1.393406</td>\n",
              "      <td>0.092908</td>\n",
              "      <td>0.281746</td>\n",
              "      <td>0.769023</td>\n",
              "      <td>1.246435</td>\n",
              "    </tr>\n",
              "  </tbody>\n",
              "</table>\n",
              "</div>"
            ],
            "text/plain": [
              "   familia esportes         a         b         c         d         e\n",
              "1    Bruna  natacao  1.007189 -1.296221  0.274992  0.228913  1.352917\n",
              "0  Leandro  natacao  1.393406  0.092908  0.281746  0.769023  1.246435"
            ]
          },
          "metadata": {
            "tags": []
          },
          "execution_count": 663
        }
      ]
    },
    {
      "cell_type": "code",
      "metadata": {
        "colab": {
          "base_uri": "https://localhost:8080/",
          "height": 204
        },
        "id": "IcfF5xf06ISZ",
        "outputId": "fa842e7f-38df-4b47-ec19-86e936df9fe9"
      },
      "source": [
        "# topn aplicado a cada grupo e depois os grupos são unidos usando a função concat (union) do pandas \n",
        "# neste exemplo, natação apesar de ter 3 linhas, retorna apenas os 2 primeiros\n",
        "# os argumentos da função são passados depois da função (n=2 e coluna=\"a\")\n",
        "pessoas.groupby([\"esportes\"]).apply(topn_grupo, n=2, coluna=\"a\")"
      ],
      "execution_count": 664,
      "outputs": [
        {
          "output_type": "execute_result",
          "data": {
            "text/html": [
              "<div>\n",
              "<style scoped>\n",
              "    .dataframe tbody tr th:only-of-type {\n",
              "        vertical-align: middle;\n",
              "    }\n",
              "\n",
              "    .dataframe tbody tr th {\n",
              "        vertical-align: top;\n",
              "    }\n",
              "\n",
              "    .dataframe thead th {\n",
              "        text-align: right;\n",
              "    }\n",
              "</style>\n",
              "<table border=\"1\" class=\"dataframe\">\n",
              "  <thead>\n",
              "    <tr style=\"text-align: right;\">\n",
              "      <th></th>\n",
              "      <th></th>\n",
              "      <th>familia</th>\n",
              "      <th>esportes</th>\n",
              "      <th>a</th>\n",
              "      <th>b</th>\n",
              "      <th>c</th>\n",
              "      <th>d</th>\n",
              "      <th>e</th>\n",
              "    </tr>\n",
              "    <tr>\n",
              "      <th>esportes</th>\n",
              "      <th></th>\n",
              "      <th></th>\n",
              "      <th></th>\n",
              "      <th></th>\n",
              "      <th></th>\n",
              "      <th></th>\n",
              "      <th></th>\n",
              "      <th></th>\n",
              "    </tr>\n",
              "  </thead>\n",
              "  <tbody>\n",
              "    <tr>\n",
              "      <th>atletismo</th>\n",
              "      <th>4</th>\n",
              "      <td>Maria</td>\n",
              "      <td>atletismo</td>\n",
              "      <td>0.124121</td>\n",
              "      <td>0.302614</td>\n",
              "      <td>0.523772</td>\n",
              "      <td>0.000940</td>\n",
              "      <td>1.343810</td>\n",
              "    </tr>\n",
              "    <tr>\n",
              "      <th>basquete</th>\n",
              "      <th>3</th>\n",
              "      <td>João</td>\n",
              "      <td>basquete</td>\n",
              "      <td>-0.539741</td>\n",
              "      <td>0.476985</td>\n",
              "      <td>3.248944</td>\n",
              "      <td>-1.021228</td>\n",
              "      <td>-0.577087</td>\n",
              "    </tr>\n",
              "    <tr>\n",
              "      <th rowspan=\"2\" valign=\"top\">natacao</th>\n",
              "      <th>1</th>\n",
              "      <td>Bruna</td>\n",
              "      <td>natacao</td>\n",
              "      <td>1.007189</td>\n",
              "      <td>-1.296221</td>\n",
              "      <td>0.274992</td>\n",
              "      <td>0.228913</td>\n",
              "      <td>1.352917</td>\n",
              "    </tr>\n",
              "    <tr>\n",
              "      <th>0</th>\n",
              "      <td>Leandro</td>\n",
              "      <td>natacao</td>\n",
              "      <td>1.393406</td>\n",
              "      <td>0.092908</td>\n",
              "      <td>0.281746</td>\n",
              "      <td>0.769023</td>\n",
              "      <td>1.246435</td>\n",
              "    </tr>\n",
              "  </tbody>\n",
              "</table>\n",
              "</div>"
            ],
            "text/plain": [
              "             familia   esportes         a  ...         c         d         e\n",
              "esportes                                   ...                              \n",
              "atletismo 4    Maria  atletismo  0.124121  ...  0.523772  0.000940  1.343810\n",
              "basquete  3     João   basquete -0.539741  ...  3.248944 -1.021228 -0.577087\n",
              "natacao   1    Bruna    natacao  1.007189  ...  0.274992  0.228913  1.352917\n",
              "          0  Leandro    natacao  1.393406  ...  0.281746  0.769023  1.246435\n",
              "\n",
              "[4 rows x 7 columns]"
            ]
          },
          "metadata": {
            "tags": []
          },
          "execution_count": 664
        }
      ]
    },
    {
      "cell_type": "code",
      "metadata": {
        "colab": {
          "base_uri": "https://localhost:8080/",
          "height": 173
        },
        "id": "Tc43zWPH6t6a",
        "outputId": "6dc3cc02-32e2-423d-bd20-fe34da9e470b"
      },
      "source": [
        "# os grupos por padrão viram indices\n",
        "# para desativar group_keys=False\n",
        "pessoas.groupby(\"esportes\", group_keys=False).apply(topn_grupo, n=2, coluna=\"a\")"
      ],
      "execution_count": 665,
      "outputs": [
        {
          "output_type": "execute_result",
          "data": {
            "text/html": [
              "<div>\n",
              "<style scoped>\n",
              "    .dataframe tbody tr th:only-of-type {\n",
              "        vertical-align: middle;\n",
              "    }\n",
              "\n",
              "    .dataframe tbody tr th {\n",
              "        vertical-align: top;\n",
              "    }\n",
              "\n",
              "    .dataframe thead th {\n",
              "        text-align: right;\n",
              "    }\n",
              "</style>\n",
              "<table border=\"1\" class=\"dataframe\">\n",
              "  <thead>\n",
              "    <tr style=\"text-align: right;\">\n",
              "      <th></th>\n",
              "      <th>familia</th>\n",
              "      <th>esportes</th>\n",
              "      <th>a</th>\n",
              "      <th>b</th>\n",
              "      <th>c</th>\n",
              "      <th>d</th>\n",
              "      <th>e</th>\n",
              "    </tr>\n",
              "  </thead>\n",
              "  <tbody>\n",
              "    <tr>\n",
              "      <th>4</th>\n",
              "      <td>Maria</td>\n",
              "      <td>atletismo</td>\n",
              "      <td>0.124121</td>\n",
              "      <td>0.302614</td>\n",
              "      <td>0.523772</td>\n",
              "      <td>0.000940</td>\n",
              "      <td>1.343810</td>\n",
              "    </tr>\n",
              "    <tr>\n",
              "      <th>3</th>\n",
              "      <td>João</td>\n",
              "      <td>basquete</td>\n",
              "      <td>-0.539741</td>\n",
              "      <td>0.476985</td>\n",
              "      <td>3.248944</td>\n",
              "      <td>-1.021228</td>\n",
              "      <td>-0.577087</td>\n",
              "    </tr>\n",
              "    <tr>\n",
              "      <th>1</th>\n",
              "      <td>Bruna</td>\n",
              "      <td>natacao</td>\n",
              "      <td>1.007189</td>\n",
              "      <td>-1.296221</td>\n",
              "      <td>0.274992</td>\n",
              "      <td>0.228913</td>\n",
              "      <td>1.352917</td>\n",
              "    </tr>\n",
              "    <tr>\n",
              "      <th>0</th>\n",
              "      <td>Leandro</td>\n",
              "      <td>natacao</td>\n",
              "      <td>1.393406</td>\n",
              "      <td>0.092908</td>\n",
              "      <td>0.281746</td>\n",
              "      <td>0.769023</td>\n",
              "      <td>1.246435</td>\n",
              "    </tr>\n",
              "  </tbody>\n",
              "</table>\n",
              "</div>"
            ],
            "text/plain": [
              "   familia   esportes         a         b         c         d         e\n",
              "4    Maria  atletismo  0.124121  0.302614  0.523772  0.000940  1.343810\n",
              "3     João   basquete -0.539741  0.476985  3.248944 -1.021228 -0.577087\n",
              "1    Bruna    natacao  1.007189 -1.296221  0.274992  0.228913  1.352917\n",
              "0  Leandro    natacao  1.393406  0.092908  0.281746  0.769023  1.246435"
            ]
          },
          "metadata": {
            "tags": []
          },
          "execution_count": 665
        }
      ]
    },
    {
      "cell_type": "markdown",
      "metadata": {
        "id": "8w_UAaQM-H-1"
      },
      "source": [
        "# Fillna com a média do grupo\n",
        "Uma alternativa para o preenchimento de valores NaN é remover, usar a média da coluna ou zerar valor. Mas pode ser interessante atribuir a média do valor de acordo com um agrupamento significativo no qual o registro pertence."
      ]
    },
    {
      "cell_type": "code",
      "metadata": {
        "colab": {
          "base_uri": "https://localhost:8080/"
        },
        "id": "gbXAVWFp9rNs",
        "outputId": "930268c0-0373-4da1-a7ba-c099f23722e5"
      },
      "source": [
        "# criando uma serie com alguns elementos NaN\n",
        "states = ['Ohio', 'New York', 'Vermont', 'Florida', 'Oregon', 'Nevada', 'California', 'Idaho']\n",
        "data = pd.Series(np.random.randn(8), index=states)\n",
        "data[['Vermont', 'Nevada', 'Idaho']] = np.nan\n",
        "\n",
        "data"
      ],
      "execution_count": 666,
      "outputs": [
        {
          "output_type": "execute_result",
          "data": {
            "text/plain": [
              "Ohio         -0.713544\n",
              "New York     -0.831154\n",
              "Vermont            NaN\n",
              "Florida      -1.860761\n",
              "Oregon       -0.860757\n",
              "Nevada             NaN\n",
              "California   -1.265934\n",
              "Idaho              NaN\n",
              "dtype: float64"
            ]
          },
          "metadata": {
            "tags": []
          },
          "execution_count": 666
        }
      ]
    },
    {
      "cell_type": "code",
      "metadata": {
        "colab": {
          "base_uri": "https://localhost:8080/"
        },
        "id": "pt-vAtcQAoI0",
        "outputId": "c7a9ed98-4e16-4db2-d40e-779b1615e5ac"
      },
      "source": [
        "# criando uma lista para ser usada como agrupamento\n",
        "group_key = ['East'] * 4 + ['West'] * 4\n",
        "\n",
        "# média dos grupos\n",
        "data.groupby(group_key).mean()"
      ],
      "execution_count": 667,
      "outputs": [
        {
          "output_type": "execute_result",
          "data": {
            "text/plain": [
              "East   -1.135153\n",
              "West   -1.063346\n",
              "dtype: float64"
            ]
          },
          "metadata": {
            "tags": []
          },
          "execution_count": 667
        }
      ]
    },
    {
      "cell_type": "code",
      "metadata": {
        "colab": {
          "base_uri": "https://localhost:8080/"
        },
        "id": "CoufBYKUAxEa",
        "outputId": "2687008e-b43a-4382-c700-6ded07d7527b"
      },
      "source": [
        "# função para preencher com a média do grupo passado como param\n",
        "fill_mean = lambda g: g.fillna(g.mean())\n",
        "\n",
        "# separa os grupos por \"east\" e \"west\", aplica a função lambda, passa o grupos para a função que preenche com fillna\n",
        "data.groupby(group_key).apply(fill_mean)"
      ],
      "execution_count": 668,
      "outputs": [
        {
          "output_type": "execute_result",
          "data": {
            "text/plain": [
              "Ohio         -0.713544\n",
              "New York     -0.831154\n",
              "Vermont      -1.135153\n",
              "Florida      -1.860761\n",
              "Oregon       -0.860757\n",
              "Nevada       -1.063346\n",
              "California   -1.265934\n",
              "Idaho        -1.063346\n",
              "dtype: float64"
            ]
          },
          "metadata": {
            "tags": []
          },
          "execution_count": 668
        }
      ]
    },
    {
      "cell_type": "code",
      "metadata": {
        "id": "a2yMpLgGA3j-",
        "colab": {
          "base_uri": "https://localhost:8080/"
        },
        "outputId": "903bbde9-99e0-472a-bc29-e5c7dee6f036"
      },
      "source": [
        "# preenchimento dos grupos com valores fixos\n",
        "fill_values = {'East': 999, 'West': -999}\n",
        "\n",
        "# usa o atributo name (\"east\" e \"west\") interno de cada grupo para buscar no dict a chave e retorna o valor fixo para fillna\n",
        "fill_func = lambda g: g.fillna(fill_values[g.name])\n",
        "\n",
        "# separa os grupos por \"east\" e \"west\", aplica a função lambda\n",
        "data.groupby(group_key).apply(fill_func)\n",
        "\n",
        "# valoes name e g do grupo\n",
        "# for name, g in data.groupby(group_key):\n",
        "#   print(name)\n",
        "#   print(g)"
      ],
      "execution_count": 669,
      "outputs": [
        {
          "output_type": "execute_result",
          "data": {
            "text/plain": [
              "Ohio           -0.713544\n",
              "New York       -0.831154\n",
              "Vermont       999.000000\n",
              "Florida        -1.860761\n",
              "Oregon         -0.860757\n",
              "Nevada       -999.000000\n",
              "California     -1.265934\n",
              "Idaho        -999.000000\n",
              "dtype: float64"
            ]
          },
          "metadata": {
            "tags": []
          },
          "execution_count": 669
        }
      ]
    },
    {
      "cell_type": "markdown",
      "metadata": {
        "id": "Qr5U1AbKzPeO"
      },
      "source": [
        "# Média ponderada de grupos\n",
        "media ponderada: soma da multiplicação dos valores pelos pesos, dividido pela soma dos pesos"
      ]
    },
    {
      "cell_type": "code",
      "metadata": {
        "colab": {
          "base_uri": "https://localhost:8080/",
          "height": 297
        },
        "id": "DzLFwts3yIHb",
        "outputId": "d5ae6f0d-483c-401f-e195-285f0d5be84c"
      },
      "source": [
        "df = pd.DataFrame({'category': ['a', 'a', 'a', 'a',\n",
        "                                'b', 'b', 'b', 'b'],\n",
        "                   'data': np.random.randn(8),\n",
        "                   'weights': np.random.rand(8)})\n",
        "\n",
        "df[\"calc\"] = df[\"data\"] * df[\"weights\"]\n",
        "df"
      ],
      "execution_count": 670,
      "outputs": [
        {
          "output_type": "execute_result",
          "data": {
            "text/html": [
              "<div>\n",
              "<style scoped>\n",
              "    .dataframe tbody tr th:only-of-type {\n",
              "        vertical-align: middle;\n",
              "    }\n",
              "\n",
              "    .dataframe tbody tr th {\n",
              "        vertical-align: top;\n",
              "    }\n",
              "\n",
              "    .dataframe thead th {\n",
              "        text-align: right;\n",
              "    }\n",
              "</style>\n",
              "<table border=\"1\" class=\"dataframe\">\n",
              "  <thead>\n",
              "    <tr style=\"text-align: right;\">\n",
              "      <th></th>\n",
              "      <th>category</th>\n",
              "      <th>data</th>\n",
              "      <th>weights</th>\n",
              "      <th>calc</th>\n",
              "    </tr>\n",
              "  </thead>\n",
              "  <tbody>\n",
              "    <tr>\n",
              "      <th>0</th>\n",
              "      <td>a</td>\n",
              "      <td>-1.063512</td>\n",
              "      <td>0.125842</td>\n",
              "      <td>-0.133834</td>\n",
              "    </tr>\n",
              "    <tr>\n",
              "      <th>1</th>\n",
              "      <td>a</td>\n",
              "      <td>0.332883</td>\n",
              "      <td>0.687596</td>\n",
              "      <td>0.228889</td>\n",
              "    </tr>\n",
              "    <tr>\n",
              "      <th>2</th>\n",
              "      <td>a</td>\n",
              "      <td>-2.359419</td>\n",
              "      <td>0.799607</td>\n",
              "      <td>-1.886607</td>\n",
              "    </tr>\n",
              "    <tr>\n",
              "      <th>3</th>\n",
              "      <td>a</td>\n",
              "      <td>-0.199543</td>\n",
              "      <td>0.573537</td>\n",
              "      <td>-0.114445</td>\n",
              "    </tr>\n",
              "    <tr>\n",
              "      <th>4</th>\n",
              "      <td>b</td>\n",
              "      <td>-1.541996</td>\n",
              "      <td>0.973230</td>\n",
              "      <td>-1.500716</td>\n",
              "    </tr>\n",
              "    <tr>\n",
              "      <th>5</th>\n",
              "      <td>b</td>\n",
              "      <td>-0.970736</td>\n",
              "      <td>0.634054</td>\n",
              "      <td>-0.615499</td>\n",
              "    </tr>\n",
              "    <tr>\n",
              "      <th>6</th>\n",
              "      <td>b</td>\n",
              "      <td>-1.307030</td>\n",
              "      <td>0.888422</td>\n",
              "      <td>-1.161194</td>\n",
              "    </tr>\n",
              "    <tr>\n",
              "      <th>7</th>\n",
              "      <td>b</td>\n",
              "      <td>0.286350</td>\n",
              "      <td>0.495415</td>\n",
              "      <td>0.141862</td>\n",
              "    </tr>\n",
              "  </tbody>\n",
              "</table>\n",
              "</div>"
            ],
            "text/plain": [
              "  category      data   weights      calc\n",
              "0        a -1.063512  0.125842 -0.133834\n",
              "1        a  0.332883  0.687596  0.228889\n",
              "2        a -2.359419  0.799607 -1.886607\n",
              "3        a -0.199543  0.573537 -0.114445\n",
              "4        b -1.541996  0.973230 -1.500716\n",
              "5        b -0.970736  0.634054 -0.615499\n",
              "6        b -1.307030  0.888422 -1.161194\n",
              "7        b  0.286350  0.495415  0.141862"
            ]
          },
          "metadata": {
            "tags": []
          },
          "execution_count": 670
        }
      ]
    },
    {
      "cell_type": "code",
      "metadata": {
        "colab": {
          "base_uri": "https://localhost:8080/"
        },
        "id": "4nq8Z-QHzY7Z",
        "outputId": "5e178294-9028-48a1-cc23-228764a9fc9b"
      },
      "source": [
        "# media ponderada\n",
        "df[\"calc\"].sum() / df[\"weights\"].sum()"
      ],
      "execution_count": 671,
      "outputs": [
        {
          "output_type": "execute_result",
          "data": {
            "text/plain": [
              "-0.9737033772826028"
            ]
          },
          "metadata": {
            "tags": []
          },
          "execution_count": 671
        }
      ]
    },
    {
      "cell_type": "code",
      "metadata": {
        "colab": {
          "base_uri": "https://localhost:8080/"
        },
        "id": "Tb2x2tqu0Gfy",
        "outputId": "846bc65b-f4c3-45c8-ddc5-c56b60317885"
      },
      "source": [
        "# separa em grupos \"a\" e \"b\"\n",
        "grouped = df.groupby('category')\n",
        "\n",
        "# recebe o grupo e faz o calculo da média ponderada\n",
        "get_wavg = lambda g: np.average(g['data'], weights=g['weights'])\n",
        "\n",
        "# passa os grupos e aplica a média ponderada em cada grupos e depois concatena (union)\n",
        "grouped.apply(get_wavg)"
      ],
      "execution_count": 672,
      "outputs": [
        {
          "output_type": "execute_result",
          "data": {
            "text/plain": [
              "category\n",
              "a   -0.871680\n",
              "b   -1.048285\n",
              "dtype: float64"
            ]
          },
          "metadata": {
            "tags": []
          },
          "execution_count": 672
        }
      ]
    },
    {
      "cell_type": "markdown",
      "metadata": {
        "id": "wi2j0K3h1mzv"
      },
      "source": [
        "# Pivot table\n",
        "Uma alternativa conveniente para agrupamentos e agregações com recursos para calculos de subtotais"
      ]
    },
    {
      "cell_type": "code",
      "metadata": {
        "colab": {
          "base_uri": "https://localhost:8080/",
          "height": 204
        },
        "id": "DGj84EZx0zzy",
        "outputId": "62441141-8a4b-4016-bbc5-06dfbc33bf43"
      },
      "source": [
        "pessoas"
      ],
      "execution_count": 673,
      "outputs": [
        {
          "output_type": "execute_result",
          "data": {
            "text/html": [
              "<div>\n",
              "<style scoped>\n",
              "    .dataframe tbody tr th:only-of-type {\n",
              "        vertical-align: middle;\n",
              "    }\n",
              "\n",
              "    .dataframe tbody tr th {\n",
              "        vertical-align: top;\n",
              "    }\n",
              "\n",
              "    .dataframe thead th {\n",
              "        text-align: right;\n",
              "    }\n",
              "</style>\n",
              "<table border=\"1\" class=\"dataframe\">\n",
              "  <thead>\n",
              "    <tr style=\"text-align: right;\">\n",
              "      <th></th>\n",
              "      <th>familia</th>\n",
              "      <th>esportes</th>\n",
              "      <th>a</th>\n",
              "      <th>b</th>\n",
              "      <th>c</th>\n",
              "      <th>d</th>\n",
              "      <th>e</th>\n",
              "    </tr>\n",
              "  </thead>\n",
              "  <tbody>\n",
              "    <tr>\n",
              "      <th>0</th>\n",
              "      <td>Leandro</td>\n",
              "      <td>natacao</td>\n",
              "      <td>1.393406</td>\n",
              "      <td>0.092908</td>\n",
              "      <td>0.281746</td>\n",
              "      <td>0.769023</td>\n",
              "      <td>1.246435</td>\n",
              "    </tr>\n",
              "    <tr>\n",
              "      <th>1</th>\n",
              "      <td>Bruna</td>\n",
              "      <td>natacao</td>\n",
              "      <td>1.007189</td>\n",
              "      <td>-1.296221</td>\n",
              "      <td>0.274992</td>\n",
              "      <td>0.228913</td>\n",
              "      <td>1.352917</td>\n",
              "    </tr>\n",
              "    <tr>\n",
              "      <th>2</th>\n",
              "      <td>Breno</td>\n",
              "      <td>natacao</td>\n",
              "      <td>0.886429</td>\n",
              "      <td>-2.001637</td>\n",
              "      <td>-0.371843</td>\n",
              "      <td>1.669025</td>\n",
              "      <td>-0.438570</td>\n",
              "    </tr>\n",
              "    <tr>\n",
              "      <th>3</th>\n",
              "      <td>João</td>\n",
              "      <td>basquete</td>\n",
              "      <td>-0.539741</td>\n",
              "      <td>0.476985</td>\n",
              "      <td>3.248944</td>\n",
              "      <td>-1.021228</td>\n",
              "      <td>-0.577087</td>\n",
              "    </tr>\n",
              "    <tr>\n",
              "      <th>4</th>\n",
              "      <td>Maria</td>\n",
              "      <td>atletismo</td>\n",
              "      <td>0.124121</td>\n",
              "      <td>0.302614</td>\n",
              "      <td>0.523772</td>\n",
              "      <td>0.000940</td>\n",
              "      <td>1.343810</td>\n",
              "    </tr>\n",
              "  </tbody>\n",
              "</table>\n",
              "</div>"
            ],
            "text/plain": [
              "   familia   esportes         a         b         c         d         e\n",
              "0  Leandro    natacao  1.393406  0.092908  0.281746  0.769023  1.246435\n",
              "1    Bruna    natacao  1.007189 -1.296221  0.274992  0.228913  1.352917\n",
              "2    Breno    natacao  0.886429 -2.001637 -0.371843  1.669025 -0.438570\n",
              "3     João   basquete -0.539741  0.476985  3.248944 -1.021228 -0.577087\n",
              "4    Maria  atletismo  0.124121  0.302614  0.523772  0.000940  1.343810"
            ]
          },
          "metadata": {
            "tags": []
          },
          "execution_count": 673
        }
      ]
    },
    {
      "cell_type": "code",
      "metadata": {
        "colab": {
          "base_uri": "https://localhost:8080/",
          "height": 235
        },
        "id": "M-qFGFsV13lU",
        "outputId": "49777e35-d8a6-4d50-f4cd-64b28fb935db"
      },
      "source": [
        "# a agregação padrão usada é aggfunc=mean caso não seja informado\n",
        "pessoas.pivot_table(index=[\"esportes\", \"familia\"])"
      ],
      "execution_count": 674,
      "outputs": [
        {
          "output_type": "execute_result",
          "data": {
            "text/html": [
              "<div>\n",
              "<style scoped>\n",
              "    .dataframe tbody tr th:only-of-type {\n",
              "        vertical-align: middle;\n",
              "    }\n",
              "\n",
              "    .dataframe tbody tr th {\n",
              "        vertical-align: top;\n",
              "    }\n",
              "\n",
              "    .dataframe thead th {\n",
              "        text-align: right;\n",
              "    }\n",
              "</style>\n",
              "<table border=\"1\" class=\"dataframe\">\n",
              "  <thead>\n",
              "    <tr style=\"text-align: right;\">\n",
              "      <th></th>\n",
              "      <th></th>\n",
              "      <th>a</th>\n",
              "      <th>b</th>\n",
              "      <th>c</th>\n",
              "      <th>d</th>\n",
              "      <th>e</th>\n",
              "    </tr>\n",
              "    <tr>\n",
              "      <th>esportes</th>\n",
              "      <th>familia</th>\n",
              "      <th></th>\n",
              "      <th></th>\n",
              "      <th></th>\n",
              "      <th></th>\n",
              "      <th></th>\n",
              "    </tr>\n",
              "  </thead>\n",
              "  <tbody>\n",
              "    <tr>\n",
              "      <th>atletismo</th>\n",
              "      <th>Maria</th>\n",
              "      <td>0.124121</td>\n",
              "      <td>0.302614</td>\n",
              "      <td>0.523772</td>\n",
              "      <td>0.000940</td>\n",
              "      <td>1.343810</td>\n",
              "    </tr>\n",
              "    <tr>\n",
              "      <th>basquete</th>\n",
              "      <th>João</th>\n",
              "      <td>-0.539741</td>\n",
              "      <td>0.476985</td>\n",
              "      <td>3.248944</td>\n",
              "      <td>-1.021228</td>\n",
              "      <td>-0.577087</td>\n",
              "    </tr>\n",
              "    <tr>\n",
              "      <th rowspan=\"3\" valign=\"top\">natacao</th>\n",
              "      <th>Breno</th>\n",
              "      <td>0.886429</td>\n",
              "      <td>-2.001637</td>\n",
              "      <td>-0.371843</td>\n",
              "      <td>1.669025</td>\n",
              "      <td>-0.438570</td>\n",
              "    </tr>\n",
              "    <tr>\n",
              "      <th>Bruna</th>\n",
              "      <td>1.007189</td>\n",
              "      <td>-1.296221</td>\n",
              "      <td>0.274992</td>\n",
              "      <td>0.228913</td>\n",
              "      <td>1.352917</td>\n",
              "    </tr>\n",
              "    <tr>\n",
              "      <th>Leandro</th>\n",
              "      <td>1.393406</td>\n",
              "      <td>0.092908</td>\n",
              "      <td>0.281746</td>\n",
              "      <td>0.769023</td>\n",
              "      <td>1.246435</td>\n",
              "    </tr>\n",
              "  </tbody>\n",
              "</table>\n",
              "</div>"
            ],
            "text/plain": [
              "                          a         b         c         d         e\n",
              "esportes  familia                                                  \n",
              "atletismo Maria    0.124121  0.302614  0.523772  0.000940  1.343810\n",
              "basquete  João    -0.539741  0.476985  3.248944 -1.021228 -0.577087\n",
              "natacao   Breno    0.886429 -2.001637 -0.371843  1.669025 -0.438570\n",
              "          Bruna    1.007189 -1.296221  0.274992  0.228913  1.352917\n",
              "          Leandro  1.393406  0.092908  0.281746  0.769023  1.246435"
            ]
          },
          "metadata": {
            "tags": []
          },
          "execution_count": 674
        }
      ]
    },
    {
      "cell_type": "code",
      "metadata": {
        "colab": {
          "base_uri": "https://localhost:8080/",
          "height": 297
        },
        "id": "O3Tpt3_f2A8k",
        "outputId": "9e979dda-e06a-4e30-dcc0-ffeb40fc0315"
      },
      "source": [
        "# agrega esportes nas colunas, familia nas linhas e usa apenas as medidas \"a\" e \"b\" com sum para agregação\n",
        "# values=<colunas usadas para agregar os valores \"medidas\"> \n",
        "# index=<atributo usado nas linhas>\n",
        "# columns=<atributo usado nas colunas>\n",
        "# aggfunc=<função de agregação>\n",
        "# margins=<true para incluir subtotais>\n",
        "# fill_value=<preenche as combinações vazias com o valor informado>\n",
        "pessoas.pivot_table(values=[\"a\", \"b\"], index=[\"familia\"], columns=[\"esportes\"], aggfunc=sum, margins=True, margins_name=\"Total Parcial\", fill_value=\"-\")"
      ],
      "execution_count": 675,
      "outputs": [
        {
          "output_type": "execute_result",
          "data": {
            "text/html": [
              "<div>\n",
              "<style scoped>\n",
              "    .dataframe tbody tr th:only-of-type {\n",
              "        vertical-align: middle;\n",
              "    }\n",
              "\n",
              "    .dataframe tbody tr th {\n",
              "        vertical-align: top;\n",
              "    }\n",
              "\n",
              "    .dataframe thead tr th {\n",
              "        text-align: left;\n",
              "    }\n",
              "\n",
              "    .dataframe thead tr:last-of-type th {\n",
              "        text-align: right;\n",
              "    }\n",
              "</style>\n",
              "<table border=\"1\" class=\"dataframe\">\n",
              "  <thead>\n",
              "    <tr>\n",
              "      <th></th>\n",
              "      <th colspan=\"4\" halign=\"left\">a</th>\n",
              "      <th colspan=\"4\" halign=\"left\">b</th>\n",
              "    </tr>\n",
              "    <tr>\n",
              "      <th>esportes</th>\n",
              "      <th>atletismo</th>\n",
              "      <th>basquete</th>\n",
              "      <th>natacao</th>\n",
              "      <th>Total Parcial</th>\n",
              "      <th>atletismo</th>\n",
              "      <th>basquete</th>\n",
              "      <th>natacao</th>\n",
              "      <th>Total Parcial</th>\n",
              "    </tr>\n",
              "    <tr>\n",
              "      <th>familia</th>\n",
              "      <th></th>\n",
              "      <th></th>\n",
              "      <th></th>\n",
              "      <th></th>\n",
              "      <th></th>\n",
              "      <th></th>\n",
              "      <th></th>\n",
              "      <th></th>\n",
              "    </tr>\n",
              "  </thead>\n",
              "  <tbody>\n",
              "    <tr>\n",
              "      <th>Breno</th>\n",
              "      <td>-</td>\n",
              "      <td>-</td>\n",
              "      <td>0.886429</td>\n",
              "      <td>0.886429</td>\n",
              "      <td>-</td>\n",
              "      <td>-</td>\n",
              "      <td>-2.00164</td>\n",
              "      <td>-2.00164</td>\n",
              "    </tr>\n",
              "    <tr>\n",
              "      <th>Bruna</th>\n",
              "      <td>-</td>\n",
              "      <td>-</td>\n",
              "      <td>1.00719</td>\n",
              "      <td>1.00719</td>\n",
              "      <td>-</td>\n",
              "      <td>-</td>\n",
              "      <td>-1.29622</td>\n",
              "      <td>-1.29622</td>\n",
              "    </tr>\n",
              "    <tr>\n",
              "      <th>João</th>\n",
              "      <td>-</td>\n",
              "      <td>-0.539741</td>\n",
              "      <td>-</td>\n",
              "      <td>-0.539741</td>\n",
              "      <td>-</td>\n",
              "      <td>0.476985</td>\n",
              "      <td>-</td>\n",
              "      <td>0.476985</td>\n",
              "    </tr>\n",
              "    <tr>\n",
              "      <th>Leandro</th>\n",
              "      <td>-</td>\n",
              "      <td>-</td>\n",
              "      <td>1.39341</td>\n",
              "      <td>1.39341</td>\n",
              "      <td>-</td>\n",
              "      <td>-</td>\n",
              "      <td>0.0929079</td>\n",
              "      <td>0.0929079</td>\n",
              "    </tr>\n",
              "    <tr>\n",
              "      <th>Maria</th>\n",
              "      <td>0.124121</td>\n",
              "      <td>-</td>\n",
              "      <td>-</td>\n",
              "      <td>0.124121</td>\n",
              "      <td>0.302614</td>\n",
              "      <td>-</td>\n",
              "      <td>-</td>\n",
              "      <td>0.302614</td>\n",
              "    </tr>\n",
              "    <tr>\n",
              "      <th>Total Parcial</th>\n",
              "      <td>0.124121</td>\n",
              "      <td>-0.539741</td>\n",
              "      <td>3.28702</td>\n",
              "      <td>2.8714</td>\n",
              "      <td>0.302614</td>\n",
              "      <td>0.476985</td>\n",
              "      <td>-3.20495</td>\n",
              "      <td>-2.42535</td>\n",
              "    </tr>\n",
              "  </tbody>\n",
              "</table>\n",
              "</div>"
            ],
            "text/plain": [
              "                      a                      ...         b                         \n",
              "esportes      atletismo  basquete   natacao  ...  basquete    natacao Total Parcial\n",
              "familia                                      ...                                   \n",
              "Breno                 -         -  0.886429  ...         -   -2.00164      -2.00164\n",
              "Bruna                 -         -   1.00719  ...         -   -1.29622      -1.29622\n",
              "João                  - -0.539741         -  ...  0.476985          -      0.476985\n",
              "Leandro               -         -   1.39341  ...         -  0.0929079     0.0929079\n",
              "Maria          0.124121         -         -  ...         -          -      0.302614\n",
              "Total Parcial  0.124121 -0.539741   3.28702  ...  0.476985   -3.20495      -2.42535\n",
              "\n",
              "[6 rows x 8 columns]"
            ]
          },
          "metadata": {
            "tags": []
          },
          "execution_count": 675
        }
      ]
    },
    {
      "cell_type": "markdown",
      "metadata": {
        "id": "wjnVycSN4eV3"
      },
      "source": [
        "# Crosstab\n",
        "É um caso especial de aplicação pivot_table"
      ]
    },
    {
      "cell_type": "code",
      "metadata": {
        "colab": {
          "base_uri": "https://localhost:8080/",
          "height": 359
        },
        "id": "FVAr-ixU2b8s",
        "outputId": "6e2602f3-9395-41d1-8090-9d564e7c1534"
      },
      "source": [
        "# transforma uma string em um stream de string para leitura\n",
        "from io import StringIO\n",
        "\n",
        "data = \"\"\"\\\n",
        "Medalhas  Nationality  Handedness\n",
        "10   USA  Right-handed\n",
        "20   Japan    Left-handed\n",
        "13   USA  Right-handed\n",
        "4   Japan    Right-handed\n",
        "15   Japan    Left-handed\n",
        "6   Japan    Right-handed\n",
        "17   USA  Right-handed\n",
        "8   USA  Left-handed\n",
        "9   Japan    Right-handed\n",
        "10  USA  Right-handed\"\"\"\n",
        "\n",
        "# cria um df lendo um StringIO com separador de espaços\n",
        "# sep='s+' representa serador de espaços com quantidade de espaços variado (separa as colunas da tabela quando identifica um ou mais espaços)\n",
        "data = pd.read_table(StringIO(data), sep='\\s+')\n",
        "\n",
        "data.sort_values(by=\"Nationality\")"
      ],
      "execution_count": 676,
      "outputs": [
        {
          "output_type": "execute_result",
          "data": {
            "text/html": [
              "<div>\n",
              "<style scoped>\n",
              "    .dataframe tbody tr th:only-of-type {\n",
              "        vertical-align: middle;\n",
              "    }\n",
              "\n",
              "    .dataframe tbody tr th {\n",
              "        vertical-align: top;\n",
              "    }\n",
              "\n",
              "    .dataframe thead th {\n",
              "        text-align: right;\n",
              "    }\n",
              "</style>\n",
              "<table border=\"1\" class=\"dataframe\">\n",
              "  <thead>\n",
              "    <tr style=\"text-align: right;\">\n",
              "      <th></th>\n",
              "      <th>Medalhas</th>\n",
              "      <th>Nationality</th>\n",
              "      <th>Handedness</th>\n",
              "    </tr>\n",
              "  </thead>\n",
              "  <tbody>\n",
              "    <tr>\n",
              "      <th>1</th>\n",
              "      <td>20</td>\n",
              "      <td>Japan</td>\n",
              "      <td>Left-handed</td>\n",
              "    </tr>\n",
              "    <tr>\n",
              "      <th>3</th>\n",
              "      <td>4</td>\n",
              "      <td>Japan</td>\n",
              "      <td>Right-handed</td>\n",
              "    </tr>\n",
              "    <tr>\n",
              "      <th>4</th>\n",
              "      <td>15</td>\n",
              "      <td>Japan</td>\n",
              "      <td>Left-handed</td>\n",
              "    </tr>\n",
              "    <tr>\n",
              "      <th>5</th>\n",
              "      <td>6</td>\n",
              "      <td>Japan</td>\n",
              "      <td>Right-handed</td>\n",
              "    </tr>\n",
              "    <tr>\n",
              "      <th>8</th>\n",
              "      <td>9</td>\n",
              "      <td>Japan</td>\n",
              "      <td>Right-handed</td>\n",
              "    </tr>\n",
              "    <tr>\n",
              "      <th>0</th>\n",
              "      <td>10</td>\n",
              "      <td>USA</td>\n",
              "      <td>Right-handed</td>\n",
              "    </tr>\n",
              "    <tr>\n",
              "      <th>2</th>\n",
              "      <td>13</td>\n",
              "      <td>USA</td>\n",
              "      <td>Right-handed</td>\n",
              "    </tr>\n",
              "    <tr>\n",
              "      <th>6</th>\n",
              "      <td>17</td>\n",
              "      <td>USA</td>\n",
              "      <td>Right-handed</td>\n",
              "    </tr>\n",
              "    <tr>\n",
              "      <th>7</th>\n",
              "      <td>8</td>\n",
              "      <td>USA</td>\n",
              "      <td>Left-handed</td>\n",
              "    </tr>\n",
              "    <tr>\n",
              "      <th>9</th>\n",
              "      <td>10</td>\n",
              "      <td>USA</td>\n",
              "      <td>Right-handed</td>\n",
              "    </tr>\n",
              "  </tbody>\n",
              "</table>\n",
              "</div>"
            ],
            "text/plain": [
              "   Medalhas Nationality    Handedness\n",
              "1        20       Japan   Left-handed\n",
              "3         4       Japan  Right-handed\n",
              "4        15       Japan   Left-handed\n",
              "5         6       Japan  Right-handed\n",
              "8         9       Japan  Right-handed\n",
              "0        10         USA  Right-handed\n",
              "2        13         USA  Right-handed\n",
              "6        17         USA  Right-handed\n",
              "7         8         USA   Left-handed\n",
              "9        10         USA  Right-handed"
            ]
          },
          "metadata": {
            "tags": []
          },
          "execution_count": 676
        }
      ]
    },
    {
      "cell_type": "code",
      "metadata": {
        "colab": {
          "base_uri": "https://localhost:8080/",
          "height": 173
        },
        "id": "14XY7IT-6BWJ",
        "outputId": "6c1de61b-228a-4ba3-b821-acc6001b79c9"
      },
      "source": [
        "# por padrão a função de agregação é a quantidade de registros\n",
        "# margins True conta a quantidade de registros\n",
        "pd.crosstab(index=data[\"Nationality\"], columns=data[\"Handedness\"], margins=True)"
      ],
      "execution_count": 677,
      "outputs": [
        {
          "output_type": "execute_result",
          "data": {
            "text/html": [
              "<div>\n",
              "<style scoped>\n",
              "    .dataframe tbody tr th:only-of-type {\n",
              "        vertical-align: middle;\n",
              "    }\n",
              "\n",
              "    .dataframe tbody tr th {\n",
              "        vertical-align: top;\n",
              "    }\n",
              "\n",
              "    .dataframe thead th {\n",
              "        text-align: right;\n",
              "    }\n",
              "</style>\n",
              "<table border=\"1\" class=\"dataframe\">\n",
              "  <thead>\n",
              "    <tr style=\"text-align: right;\">\n",
              "      <th>Handedness</th>\n",
              "      <th>Left-handed</th>\n",
              "      <th>Right-handed</th>\n",
              "      <th>All</th>\n",
              "    </tr>\n",
              "    <tr>\n",
              "      <th>Nationality</th>\n",
              "      <th></th>\n",
              "      <th></th>\n",
              "      <th></th>\n",
              "    </tr>\n",
              "  </thead>\n",
              "  <tbody>\n",
              "    <tr>\n",
              "      <th>Japan</th>\n",
              "      <td>2</td>\n",
              "      <td>3</td>\n",
              "      <td>5</td>\n",
              "    </tr>\n",
              "    <tr>\n",
              "      <th>USA</th>\n",
              "      <td>1</td>\n",
              "      <td>4</td>\n",
              "      <td>5</td>\n",
              "    </tr>\n",
              "    <tr>\n",
              "      <th>All</th>\n",
              "      <td>3</td>\n",
              "      <td>7</td>\n",
              "      <td>10</td>\n",
              "    </tr>\n",
              "  </tbody>\n",
              "</table>\n",
              "</div>"
            ],
            "text/plain": [
              "Handedness   Left-handed  Right-handed  All\n",
              "Nationality                                \n",
              "Japan                  2             3    5\n",
              "USA                    1             4    5\n",
              "All                    3             7   10"
            ]
          },
          "metadata": {
            "tags": []
          },
          "execution_count": 677
        }
      ]
    },
    {
      "cell_type": "code",
      "metadata": {
        "colab": {
          "base_uri": "https://localhost:8080/",
          "height": 173
        },
        "id": "MfRLwo9u6q79",
        "outputId": "06411847-4087-47cf-8229-2f71219f1877"
      },
      "source": [
        "# por padrão a função de agregação é a quantidade de registros\n",
        "# para alterar a função de agregação passamos values= e a função aggfunc\n",
        "pd.crosstab(index=data[\"Nationality\"], columns=data[\"Handedness\"], margins=True, values=data[\"Medalhas\"], aggfunc=\"sum\")"
      ],
      "execution_count": 678,
      "outputs": [
        {
          "output_type": "execute_result",
          "data": {
            "text/html": [
              "<div>\n",
              "<style scoped>\n",
              "    .dataframe tbody tr th:only-of-type {\n",
              "        vertical-align: middle;\n",
              "    }\n",
              "\n",
              "    .dataframe tbody tr th {\n",
              "        vertical-align: top;\n",
              "    }\n",
              "\n",
              "    .dataframe thead th {\n",
              "        text-align: right;\n",
              "    }\n",
              "</style>\n",
              "<table border=\"1\" class=\"dataframe\">\n",
              "  <thead>\n",
              "    <tr style=\"text-align: right;\">\n",
              "      <th>Handedness</th>\n",
              "      <th>Left-handed</th>\n",
              "      <th>Right-handed</th>\n",
              "      <th>All</th>\n",
              "    </tr>\n",
              "    <tr>\n",
              "      <th>Nationality</th>\n",
              "      <th></th>\n",
              "      <th></th>\n",
              "      <th></th>\n",
              "    </tr>\n",
              "  </thead>\n",
              "  <tbody>\n",
              "    <tr>\n",
              "      <th>Japan</th>\n",
              "      <td>35</td>\n",
              "      <td>19</td>\n",
              "      <td>54</td>\n",
              "    </tr>\n",
              "    <tr>\n",
              "      <th>USA</th>\n",
              "      <td>8</td>\n",
              "      <td>50</td>\n",
              "      <td>58</td>\n",
              "    </tr>\n",
              "    <tr>\n",
              "      <th>All</th>\n",
              "      <td>43</td>\n",
              "      <td>69</td>\n",
              "      <td>112</td>\n",
              "    </tr>\n",
              "  </tbody>\n",
              "</table>\n",
              "</div>"
            ],
            "text/plain": [
              "Handedness   Left-handed  Right-handed  All\n",
              "Nationality                                \n",
              "Japan                 35            19   54\n",
              "USA                    8            50   58\n",
              "All                   43            69  112"
            ]
          },
          "metadata": {
            "tags": []
          },
          "execution_count": 678
        }
      ]
    },
    {
      "cell_type": "code",
      "metadata": {
        "colab": {
          "base_uri": "https://localhost:8080/",
          "height": 173
        },
        "id": "hm6QA--O7oJC",
        "outputId": "659c56f8-08ba-4832-e004-66e995598d13"
      },
      "source": [
        "# normalize=True transforma os numeros e percentual do total geral\n",
        "pd.crosstab(index=data[\"Nationality\"], columns=data[\"Handedness\"], margins=True, values=data[\"Medalhas\"], aggfunc=\"sum\", normalize=True, margins_name=\"Total\")"
      ],
      "execution_count": 679,
      "outputs": [
        {
          "output_type": "execute_result",
          "data": {
            "text/html": [
              "<div>\n",
              "<style scoped>\n",
              "    .dataframe tbody tr th:only-of-type {\n",
              "        vertical-align: middle;\n",
              "    }\n",
              "\n",
              "    .dataframe tbody tr th {\n",
              "        vertical-align: top;\n",
              "    }\n",
              "\n",
              "    .dataframe thead th {\n",
              "        text-align: right;\n",
              "    }\n",
              "</style>\n",
              "<table border=\"1\" class=\"dataframe\">\n",
              "  <thead>\n",
              "    <tr style=\"text-align: right;\">\n",
              "      <th>Handedness</th>\n",
              "      <th>Left-handed</th>\n",
              "      <th>Right-handed</th>\n",
              "      <th>Total</th>\n",
              "    </tr>\n",
              "    <tr>\n",
              "      <th>Nationality</th>\n",
              "      <th></th>\n",
              "      <th></th>\n",
              "      <th></th>\n",
              "    </tr>\n",
              "  </thead>\n",
              "  <tbody>\n",
              "    <tr>\n",
              "      <th>Japan</th>\n",
              "      <td>0.312500</td>\n",
              "      <td>0.169643</td>\n",
              "      <td>0.482143</td>\n",
              "    </tr>\n",
              "    <tr>\n",
              "      <th>USA</th>\n",
              "      <td>0.071429</td>\n",
              "      <td>0.446429</td>\n",
              "      <td>0.517857</td>\n",
              "    </tr>\n",
              "    <tr>\n",
              "      <th>Total</th>\n",
              "      <td>0.383929</td>\n",
              "      <td>0.616071</td>\n",
              "      <td>1.000000</td>\n",
              "    </tr>\n",
              "  </tbody>\n",
              "</table>\n",
              "</div>"
            ],
            "text/plain": [
              "Handedness   Left-handed  Right-handed     Total\n",
              "Nationality                                     \n",
              "Japan           0.312500      0.169643  0.482143\n",
              "USA             0.071429      0.446429  0.517857\n",
              "Total           0.383929      0.616071  1.000000"
            ]
          },
          "metadata": {
            "tags": []
          },
          "execution_count": 679
        }
      ]
    }
  ]
}