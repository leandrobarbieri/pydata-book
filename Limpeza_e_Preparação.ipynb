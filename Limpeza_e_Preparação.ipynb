{
  "nbformat": 4,
  "nbformat_minor": 0,
  "metadata": {
    "colab": {
      "name": "Limpeza e Preparação.ipynb",
      "provenance": [],
      "collapsed_sections": [],
      "toc_visible": true,
      "authorship_tag": "ABX9TyNjd6wxWRcmNyalwLiII2R/",
      "include_colab_link": true
    },
    "kernelspec": {
      "name": "python3",
      "display_name": "Python 3"
    },
    "language_info": {
      "name": "python"
    }
  },
  "cells": [
    {
      "cell_type": "markdown",
      "metadata": {
        "id": "view-in-github",
        "colab_type": "text"
      },
      "source": [
        "<a href=\"https://colab.research.google.com/github/leandrobarbieri/pydata-book/blob/2nd-edition/Limpeza_e_Prepara%C3%A7%C3%A3o.ipynb\" target=\"_parent\"><img src=\"https://colab.research.google.com/assets/colab-badge.svg\" alt=\"Open In Colab\"/></a>"
      ]
    },
    {
      "cell_type": "markdown",
      "metadata": {
        "id": "bZi5znukVZxF"
      },
      "source": [
        "# Limpeza e preparação\n",
        "- Tratamento dos dados em branco (remover, usar médias, zerar)\n",
        "- Remover duplicidades\n",
        "- Trasformações (dê-para). switch replace\n",
        "- Renomear indices e colunas\n",
        "- Discretização de colunas numéricas\n",
        "- Tratar os outliers\n",
        "- Converção de tipos mais adequados\n",
        "- Filtragem\n",
        "- Agrupamentos"
      ]
    },
    {
      "cell_type": "code",
      "metadata": {
        "id": "rHMkaUPLVSRV"
      },
      "source": [
        "import numpy as np\n",
        "import pandas as pd \n",
        "import matplotlib.pyplot as plt\n",
        "\n",
        "# configurações de exibição\n",
        "PREVIOUS_MAX_ROWS = pd.options.display.max_rows\n",
        "pd.options.display.max_rows = 20\n",
        "np.random.seed(12345)\n",
        "plt.rc('figure', figsize=(10, 6))\n",
        "np.set_printoptions(precision=4, suppress=True)"
      ],
      "execution_count": 1,
      "outputs": []
    },
    {
      "cell_type": "markdown",
      "metadata": {
        "id": "ZbezX6zmWjxu"
      },
      "source": [
        "## Tratamento de dados em branco"
      ]
    },
    {
      "cell_type": "markdown",
      "metadata": {
        "id": "M5Ek2APFYmSb"
      },
      "source": [
        "### Series"
      ]
    },
    {
      "cell_type": "code",
      "metadata": {
        "colab": {
          "base_uri": "https://localhost:8080/"
        },
        "id": "wirXYo8zWZvG",
        "outputId": "b9b64991-9363-4a6c-ad1b-a0e4bbcbabc4"
      },
      "source": [
        "# criando uma serie com um elemento nan\n",
        "strings_serie = pd.Series([\"Leandro\", \"Barbieri\", np.nan, \"Moraes\"])\n",
        "strings_serie"
      ],
      "execution_count": 2,
      "outputs": [
        {
          "output_type": "execute_result",
          "data": {
            "text/plain": [
              "0     Leandro\n",
              "1    Barbieri\n",
              "2         NaN\n",
              "3      Moraes\n",
              "dtype: object"
            ]
          },
          "metadata": {
            "tags": []
          },
          "execution_count": 2
        }
      ]
    },
    {
      "cell_type": "code",
      "metadata": {
        "colab": {
          "base_uri": "https://localhost:8080/"
        },
        "id": "poanmxiKW8LD",
        "outputId": "18c347b2-4c62-42b8-c2e7-e27da76ec2f0"
      },
      "source": [
        "# filtrando um elemento nulo, nan\n",
        "strings_serie.isnull()"
      ],
      "execution_count": 3,
      "outputs": [
        {
          "output_type": "execute_result",
          "data": {
            "text/plain": [
              "0    False\n",
              "1    False\n",
              "2     True\n",
              "3    False\n",
              "dtype: bool"
            ]
          },
          "metadata": {
            "tags": []
          },
          "execution_count": 3
        }
      ]
    },
    {
      "cell_type": "code",
      "metadata": {
        "colab": {
          "base_uri": "https://localhost:8080/"
        },
        "id": "7qZbyR3IXI2u",
        "outputId": "a0a0b9c9-2dd7-43e5-c365-60848b532eac"
      },
      "source": [
        "# removendo elemento nulo nan\n",
        "strings_serie.dropna()"
      ],
      "execution_count": 4,
      "outputs": [
        {
          "output_type": "execute_result",
          "data": {
            "text/plain": [
              "0     Leandro\n",
              "1    Barbieri\n",
              "3      Moraes\n",
              "dtype: object"
            ]
          },
          "metadata": {
            "tags": []
          },
          "execution_count": 4
        }
      ]
    },
    {
      "cell_type": "code",
      "metadata": {
        "colab": {
          "base_uri": "https://localhost:8080/"
        },
        "id": "bvtSOPFDXuwd",
        "outputId": "a3198cb0-9dd6-4069-b361-094c7abbf834"
      },
      "source": [
        "# Usando indexação boleana. O comando acima é igual ao comando abaixo\n",
        "strings_serie[strings_serie.notnull()]"
      ],
      "execution_count": 5,
      "outputs": [
        {
          "output_type": "execute_result",
          "data": {
            "text/plain": [
              "0     Leandro\n",
              "1    Barbieri\n",
              "3      Moraes\n",
              "dtype: object"
            ]
          },
          "metadata": {
            "tags": []
          },
          "execution_count": 5
        }
      ]
    },
    {
      "cell_type": "markdown",
      "metadata": {
        "id": "wKuBPzZdYryG"
      },
      "source": [
        "### DataFrame"
      ]
    },
    {
      "cell_type": "code",
      "metadata": {
        "colab": {
          "base_uri": "https://localhost:8080/",
          "height": 142
        },
        "id": "ewfl9ONGX9Ra",
        "outputId": "c4cd1ae9-6ac7-47b5-8ac6-430ef187e0aa"
      },
      "source": [
        "dados1 = pd.DataFrame([ [1, 2, 3], [np.nan, np.nan, np.nan], [np.nan, 4, 5] ])\n",
        "dados1"
      ],
      "execution_count": 6,
      "outputs": [
        {
          "output_type": "execute_result",
          "data": {
            "text/html": [
              "<div>\n",
              "<style scoped>\n",
              "    .dataframe tbody tr th:only-of-type {\n",
              "        vertical-align: middle;\n",
              "    }\n",
              "\n",
              "    .dataframe tbody tr th {\n",
              "        vertical-align: top;\n",
              "    }\n",
              "\n",
              "    .dataframe thead th {\n",
              "        text-align: right;\n",
              "    }\n",
              "</style>\n",
              "<table border=\"1\" class=\"dataframe\">\n",
              "  <thead>\n",
              "    <tr style=\"text-align: right;\">\n",
              "      <th></th>\n",
              "      <th>0</th>\n",
              "      <th>1</th>\n",
              "      <th>2</th>\n",
              "    </tr>\n",
              "  </thead>\n",
              "  <tbody>\n",
              "    <tr>\n",
              "      <th>0</th>\n",
              "      <td>1.0</td>\n",
              "      <td>2.0</td>\n",
              "      <td>3.0</td>\n",
              "    </tr>\n",
              "    <tr>\n",
              "      <th>1</th>\n",
              "      <td>NaN</td>\n",
              "      <td>NaN</td>\n",
              "      <td>NaN</td>\n",
              "    </tr>\n",
              "    <tr>\n",
              "      <th>2</th>\n",
              "      <td>NaN</td>\n",
              "      <td>4.0</td>\n",
              "      <td>5.0</td>\n",
              "    </tr>\n",
              "  </tbody>\n",
              "</table>\n",
              "</div>"
            ],
            "text/plain": [
              "     0    1    2\n",
              "0  1.0  2.0  3.0\n",
              "1  NaN  NaN  NaN\n",
              "2  NaN  4.0  5.0"
            ]
          },
          "metadata": {
            "tags": []
          },
          "execution_count": 6
        }
      ]
    },
    {
      "cell_type": "markdown",
      "metadata": {
        "id": "9ikIbpBXhOSt"
      },
      "source": [
        "#### Removendo dropna"
      ]
    },
    {
      "cell_type": "code",
      "metadata": {
        "colab": {
          "base_uri": "https://localhost:8080/",
          "height": 80
        },
        "id": "zsXkhqd5ZHLt",
        "outputId": "f206c668-4c3f-477d-9377-0764cfbc7cc0"
      },
      "source": [
        "# removendo linhas (padrão axis=0): Remove todas as linhas que tenham pelo menos um NaN\n",
        "dados1.dropna(axis=0)"
      ],
      "execution_count": 7,
      "outputs": [
        {
          "output_type": "execute_result",
          "data": {
            "text/html": [
              "<div>\n",
              "<style scoped>\n",
              "    .dataframe tbody tr th:only-of-type {\n",
              "        vertical-align: middle;\n",
              "    }\n",
              "\n",
              "    .dataframe tbody tr th {\n",
              "        vertical-align: top;\n",
              "    }\n",
              "\n",
              "    .dataframe thead th {\n",
              "        text-align: right;\n",
              "    }\n",
              "</style>\n",
              "<table border=\"1\" class=\"dataframe\">\n",
              "  <thead>\n",
              "    <tr style=\"text-align: right;\">\n",
              "      <th></th>\n",
              "      <th>0</th>\n",
              "      <th>1</th>\n",
              "      <th>2</th>\n",
              "    </tr>\n",
              "  </thead>\n",
              "  <tbody>\n",
              "    <tr>\n",
              "      <th>0</th>\n",
              "      <td>1.0</td>\n",
              "      <td>2.0</td>\n",
              "      <td>3.0</td>\n",
              "    </tr>\n",
              "  </tbody>\n",
              "</table>\n",
              "</div>"
            ],
            "text/plain": [
              "     0    1    2\n",
              "0  1.0  2.0  3.0"
            ]
          },
          "metadata": {
            "tags": []
          },
          "execution_count": 7
        }
      ]
    },
    {
      "cell_type": "code",
      "metadata": {
        "colab": {
          "base_uri": "https://localhost:8080/",
          "height": 111
        },
        "id": "aikmMzhTZPp-",
        "outputId": "0fc8b8f7-71aa-46df-c182-7626b04801ee"
      },
      "source": [
        "# descarta apenas as linhas que tenham TODAS as colunas com NaN\n",
        "dados1.dropna(how=\"all\")"
      ],
      "execution_count": 8,
      "outputs": [
        {
          "output_type": "execute_result",
          "data": {
            "text/html": [
              "<div>\n",
              "<style scoped>\n",
              "    .dataframe tbody tr th:only-of-type {\n",
              "        vertical-align: middle;\n",
              "    }\n",
              "\n",
              "    .dataframe tbody tr th {\n",
              "        vertical-align: top;\n",
              "    }\n",
              "\n",
              "    .dataframe thead th {\n",
              "        text-align: right;\n",
              "    }\n",
              "</style>\n",
              "<table border=\"1\" class=\"dataframe\">\n",
              "  <thead>\n",
              "    <tr style=\"text-align: right;\">\n",
              "      <th></th>\n",
              "      <th>0</th>\n",
              "      <th>1</th>\n",
              "      <th>2</th>\n",
              "    </tr>\n",
              "  </thead>\n",
              "  <tbody>\n",
              "    <tr>\n",
              "      <th>0</th>\n",
              "      <td>1.0</td>\n",
              "      <td>2.0</td>\n",
              "      <td>3.0</td>\n",
              "    </tr>\n",
              "    <tr>\n",
              "      <th>2</th>\n",
              "      <td>NaN</td>\n",
              "      <td>4.0</td>\n",
              "      <td>5.0</td>\n",
              "    </tr>\n",
              "  </tbody>\n",
              "</table>\n",
              "</div>"
            ],
            "text/plain": [
              "     0    1    2\n",
              "0  1.0  2.0  3.0\n",
              "2  NaN  4.0  5.0"
            ]
          },
          "metadata": {
            "tags": []
          },
          "execution_count": 8
        }
      ]
    },
    {
      "cell_type": "code",
      "metadata": {
        "colab": {
          "base_uri": "https://localhost:8080/",
          "height": 142
        },
        "id": "xlTVllN8ZQl5",
        "outputId": "bcbff193-6c7e-4daf-8332-352d85e7befc"
      },
      "source": [
        "# faz com que todas as linhas da coluna 2 tenham valor nulo para testes\n",
        "dados1.loc[:, 2] = np.nan\n",
        "\n",
        "# descartar apenas as colunas (axis=1) que tenham todas as linhas (how=\"all\") com o valor NaN\n",
        "dados1.dropna(axis=1, how=\"all\")"
      ],
      "execution_count": 9,
      "outputs": [
        {
          "output_type": "execute_result",
          "data": {
            "text/html": [
              "<div>\n",
              "<style scoped>\n",
              "    .dataframe tbody tr th:only-of-type {\n",
              "        vertical-align: middle;\n",
              "    }\n",
              "\n",
              "    .dataframe tbody tr th {\n",
              "        vertical-align: top;\n",
              "    }\n",
              "\n",
              "    .dataframe thead th {\n",
              "        text-align: right;\n",
              "    }\n",
              "</style>\n",
              "<table border=\"1\" class=\"dataframe\">\n",
              "  <thead>\n",
              "    <tr style=\"text-align: right;\">\n",
              "      <th></th>\n",
              "      <th>0</th>\n",
              "      <th>1</th>\n",
              "    </tr>\n",
              "  </thead>\n",
              "  <tbody>\n",
              "    <tr>\n",
              "      <th>0</th>\n",
              "      <td>1.0</td>\n",
              "      <td>2.0</td>\n",
              "    </tr>\n",
              "    <tr>\n",
              "      <th>1</th>\n",
              "      <td>NaN</td>\n",
              "      <td>NaN</td>\n",
              "    </tr>\n",
              "    <tr>\n",
              "      <th>2</th>\n",
              "      <td>NaN</td>\n",
              "      <td>4.0</td>\n",
              "    </tr>\n",
              "  </tbody>\n",
              "</table>\n",
              "</div>"
            ],
            "text/plain": [
              "     0    1\n",
              "0  1.0  2.0\n",
              "1  NaN  NaN\n",
              "2  NaN  4.0"
            ]
          },
          "metadata": {
            "tags": []
          },
          "execution_count": 9
        }
      ]
    },
    {
      "cell_type": "code",
      "metadata": {
        "colab": {
          "base_uri": "https://localhost:8080/",
          "height": 266
        },
        "id": "YFHLZ8Y0aCnq",
        "outputId": "950939a7-5b7b-4bd5-f54a-b355bd7295cf"
      },
      "source": [
        "# removendo com limite de quantidade\n",
        "dados2 = pd.DataFrame(np.random.randn(7,3))\n",
        "dados2"
      ],
      "execution_count": 10,
      "outputs": [
        {
          "output_type": "execute_result",
          "data": {
            "text/html": [
              "<div>\n",
              "<style scoped>\n",
              "    .dataframe tbody tr th:only-of-type {\n",
              "        vertical-align: middle;\n",
              "    }\n",
              "\n",
              "    .dataframe tbody tr th {\n",
              "        vertical-align: top;\n",
              "    }\n",
              "\n",
              "    .dataframe thead th {\n",
              "        text-align: right;\n",
              "    }\n",
              "</style>\n",
              "<table border=\"1\" class=\"dataframe\">\n",
              "  <thead>\n",
              "    <tr style=\"text-align: right;\">\n",
              "      <th></th>\n",
              "      <th>0</th>\n",
              "      <th>1</th>\n",
              "      <th>2</th>\n",
              "    </tr>\n",
              "  </thead>\n",
              "  <tbody>\n",
              "    <tr>\n",
              "      <th>0</th>\n",
              "      <td>-0.204708</td>\n",
              "      <td>0.478943</td>\n",
              "      <td>-0.519439</td>\n",
              "    </tr>\n",
              "    <tr>\n",
              "      <th>1</th>\n",
              "      <td>-0.555730</td>\n",
              "      <td>1.965781</td>\n",
              "      <td>1.393406</td>\n",
              "    </tr>\n",
              "    <tr>\n",
              "      <th>2</th>\n",
              "      <td>0.092908</td>\n",
              "      <td>0.281746</td>\n",
              "      <td>0.769023</td>\n",
              "    </tr>\n",
              "    <tr>\n",
              "      <th>3</th>\n",
              "      <td>1.246435</td>\n",
              "      <td>1.007189</td>\n",
              "      <td>-1.296221</td>\n",
              "    </tr>\n",
              "    <tr>\n",
              "      <th>4</th>\n",
              "      <td>0.274992</td>\n",
              "      <td>0.228913</td>\n",
              "      <td>1.352917</td>\n",
              "    </tr>\n",
              "    <tr>\n",
              "      <th>5</th>\n",
              "      <td>0.886429</td>\n",
              "      <td>-2.001637</td>\n",
              "      <td>-0.371843</td>\n",
              "    </tr>\n",
              "    <tr>\n",
              "      <th>6</th>\n",
              "      <td>1.669025</td>\n",
              "      <td>-0.438570</td>\n",
              "      <td>-0.539741</td>\n",
              "    </tr>\n",
              "  </tbody>\n",
              "</table>\n",
              "</div>"
            ],
            "text/plain": [
              "          0         1         2\n",
              "0 -0.204708  0.478943 -0.519439\n",
              "1 -0.555730  1.965781  1.393406\n",
              "2  0.092908  0.281746  0.769023\n",
              "3  1.246435  1.007189 -1.296221\n",
              "4  0.274992  0.228913  1.352917\n",
              "5  0.886429 -2.001637 -0.371843\n",
              "6  1.669025 -0.438570 -0.539741"
            ]
          },
          "metadata": {
            "tags": []
          },
          "execution_count": 10
        }
      ]
    },
    {
      "cell_type": "code",
      "metadata": {
        "colab": {
          "base_uri": "https://localhost:8080/",
          "height": 266
        },
        "id": "XhJnI5r2bCwN",
        "outputId": "7dadcfc1-0468-4587-912c-d24f15cf6d13"
      },
      "source": [
        "# setando alguns valores nulos para testes\n",
        "# quatro primeiras linhas da segunda coluna\n",
        "dados2.iloc[:4, 1] = np.nan\n",
        "# duas primeiras linhas da terceira coluna\n",
        "dados2.iloc[:2, 2] = np.nan\n",
        "\n",
        "dados2"
      ],
      "execution_count": 11,
      "outputs": [
        {
          "output_type": "execute_result",
          "data": {
            "text/html": [
              "<div>\n",
              "<style scoped>\n",
              "    .dataframe tbody tr th:only-of-type {\n",
              "        vertical-align: middle;\n",
              "    }\n",
              "\n",
              "    .dataframe tbody tr th {\n",
              "        vertical-align: top;\n",
              "    }\n",
              "\n",
              "    .dataframe thead th {\n",
              "        text-align: right;\n",
              "    }\n",
              "</style>\n",
              "<table border=\"1\" class=\"dataframe\">\n",
              "  <thead>\n",
              "    <tr style=\"text-align: right;\">\n",
              "      <th></th>\n",
              "      <th>0</th>\n",
              "      <th>1</th>\n",
              "      <th>2</th>\n",
              "    </tr>\n",
              "  </thead>\n",
              "  <tbody>\n",
              "    <tr>\n",
              "      <th>0</th>\n",
              "      <td>-0.204708</td>\n",
              "      <td>NaN</td>\n",
              "      <td>NaN</td>\n",
              "    </tr>\n",
              "    <tr>\n",
              "      <th>1</th>\n",
              "      <td>-0.555730</td>\n",
              "      <td>NaN</td>\n",
              "      <td>NaN</td>\n",
              "    </tr>\n",
              "    <tr>\n",
              "      <th>2</th>\n",
              "      <td>0.092908</td>\n",
              "      <td>NaN</td>\n",
              "      <td>0.769023</td>\n",
              "    </tr>\n",
              "    <tr>\n",
              "      <th>3</th>\n",
              "      <td>1.246435</td>\n",
              "      <td>NaN</td>\n",
              "      <td>-1.296221</td>\n",
              "    </tr>\n",
              "    <tr>\n",
              "      <th>4</th>\n",
              "      <td>0.274992</td>\n",
              "      <td>0.228913</td>\n",
              "      <td>1.352917</td>\n",
              "    </tr>\n",
              "    <tr>\n",
              "      <th>5</th>\n",
              "      <td>0.886429</td>\n",
              "      <td>-2.001637</td>\n",
              "      <td>-0.371843</td>\n",
              "    </tr>\n",
              "    <tr>\n",
              "      <th>6</th>\n",
              "      <td>1.669025</td>\n",
              "      <td>-0.438570</td>\n",
              "      <td>-0.539741</td>\n",
              "    </tr>\n",
              "  </tbody>\n",
              "</table>\n",
              "</div>"
            ],
            "text/plain": [
              "          0         1         2\n",
              "0 -0.204708       NaN       NaN\n",
              "1 -0.555730       NaN       NaN\n",
              "2  0.092908       NaN  0.769023\n",
              "3  1.246435       NaN -1.296221\n",
              "4  0.274992  0.228913  1.352917\n",
              "5  0.886429 -2.001637 -0.371843\n",
              "6  1.669025 -0.438570 -0.539741"
            ]
          },
          "metadata": {
            "tags": []
          },
          "execution_count": 11
        }
      ]
    },
    {
      "cell_type": "code",
      "metadata": {
        "colab": {
          "base_uri": "https://localhost:8080/",
          "height": 204
        },
        "id": "9ZqT85jxcYjZ",
        "outputId": "7fa78d4f-a5ba-4077-9dc1-72883986b205"
      },
      "source": [
        "# remove apenas as duas primeiras linhas apesar de existir 4 linhas com valor NaN na coluna 1\n",
        "dados2.dropna(axis=0, thresh=2)"
      ],
      "execution_count": 12,
      "outputs": [
        {
          "output_type": "execute_result",
          "data": {
            "text/html": [
              "<div>\n",
              "<style scoped>\n",
              "    .dataframe tbody tr th:only-of-type {\n",
              "        vertical-align: middle;\n",
              "    }\n",
              "\n",
              "    .dataframe tbody tr th {\n",
              "        vertical-align: top;\n",
              "    }\n",
              "\n",
              "    .dataframe thead th {\n",
              "        text-align: right;\n",
              "    }\n",
              "</style>\n",
              "<table border=\"1\" class=\"dataframe\">\n",
              "  <thead>\n",
              "    <tr style=\"text-align: right;\">\n",
              "      <th></th>\n",
              "      <th>0</th>\n",
              "      <th>1</th>\n",
              "      <th>2</th>\n",
              "    </tr>\n",
              "  </thead>\n",
              "  <tbody>\n",
              "    <tr>\n",
              "      <th>2</th>\n",
              "      <td>0.092908</td>\n",
              "      <td>NaN</td>\n",
              "      <td>0.769023</td>\n",
              "    </tr>\n",
              "    <tr>\n",
              "      <th>3</th>\n",
              "      <td>1.246435</td>\n",
              "      <td>NaN</td>\n",
              "      <td>-1.296221</td>\n",
              "    </tr>\n",
              "    <tr>\n",
              "      <th>4</th>\n",
              "      <td>0.274992</td>\n",
              "      <td>0.228913</td>\n",
              "      <td>1.352917</td>\n",
              "    </tr>\n",
              "    <tr>\n",
              "      <th>5</th>\n",
              "      <td>0.886429</td>\n",
              "      <td>-2.001637</td>\n",
              "      <td>-0.371843</td>\n",
              "    </tr>\n",
              "    <tr>\n",
              "      <th>6</th>\n",
              "      <td>1.669025</td>\n",
              "      <td>-0.438570</td>\n",
              "      <td>-0.539741</td>\n",
              "    </tr>\n",
              "  </tbody>\n",
              "</table>\n",
              "</div>"
            ],
            "text/plain": [
              "          0         1         2\n",
              "2  0.092908       NaN  0.769023\n",
              "3  1.246435       NaN -1.296221\n",
              "4  0.274992  0.228913  1.352917\n",
              "5  0.886429 -2.001637 -0.371843\n",
              "6  1.669025 -0.438570 -0.539741"
            ]
          },
          "metadata": {
            "tags": []
          },
          "execution_count": 12
        }
      ]
    },
    {
      "cell_type": "markdown",
      "metadata": {
        "id": "neTLWkh1dm4P"
      },
      "source": [
        "#### Preenchimento fillna"
      ]
    },
    {
      "cell_type": "code",
      "metadata": {
        "colab": {
          "base_uri": "https://localhost:8080/",
          "height": 266
        },
        "id": "DKVvt7hFc4gl",
        "outputId": "55b011d6-f473-492b-f1a9-3ad27df74527"
      },
      "source": [
        "# preenche com o valor zero os dados np.nan\n",
        "dados2.fillna(0)"
      ],
      "execution_count": 13,
      "outputs": [
        {
          "output_type": "execute_result",
          "data": {
            "text/html": [
              "<div>\n",
              "<style scoped>\n",
              "    .dataframe tbody tr th:only-of-type {\n",
              "        vertical-align: middle;\n",
              "    }\n",
              "\n",
              "    .dataframe tbody tr th {\n",
              "        vertical-align: top;\n",
              "    }\n",
              "\n",
              "    .dataframe thead th {\n",
              "        text-align: right;\n",
              "    }\n",
              "</style>\n",
              "<table border=\"1\" class=\"dataframe\">\n",
              "  <thead>\n",
              "    <tr style=\"text-align: right;\">\n",
              "      <th></th>\n",
              "      <th>0</th>\n",
              "      <th>1</th>\n",
              "      <th>2</th>\n",
              "    </tr>\n",
              "  </thead>\n",
              "  <tbody>\n",
              "    <tr>\n",
              "      <th>0</th>\n",
              "      <td>-0.204708</td>\n",
              "      <td>0.000000</td>\n",
              "      <td>0.000000</td>\n",
              "    </tr>\n",
              "    <tr>\n",
              "      <th>1</th>\n",
              "      <td>-0.555730</td>\n",
              "      <td>0.000000</td>\n",
              "      <td>0.000000</td>\n",
              "    </tr>\n",
              "    <tr>\n",
              "      <th>2</th>\n",
              "      <td>0.092908</td>\n",
              "      <td>0.000000</td>\n",
              "      <td>0.769023</td>\n",
              "    </tr>\n",
              "    <tr>\n",
              "      <th>3</th>\n",
              "      <td>1.246435</td>\n",
              "      <td>0.000000</td>\n",
              "      <td>-1.296221</td>\n",
              "    </tr>\n",
              "    <tr>\n",
              "      <th>4</th>\n",
              "      <td>0.274992</td>\n",
              "      <td>0.228913</td>\n",
              "      <td>1.352917</td>\n",
              "    </tr>\n",
              "    <tr>\n",
              "      <th>5</th>\n",
              "      <td>0.886429</td>\n",
              "      <td>-2.001637</td>\n",
              "      <td>-0.371843</td>\n",
              "    </tr>\n",
              "    <tr>\n",
              "      <th>6</th>\n",
              "      <td>1.669025</td>\n",
              "      <td>-0.438570</td>\n",
              "      <td>-0.539741</td>\n",
              "    </tr>\n",
              "  </tbody>\n",
              "</table>\n",
              "</div>"
            ],
            "text/plain": [
              "          0         1         2\n",
              "0 -0.204708  0.000000  0.000000\n",
              "1 -0.555730  0.000000  0.000000\n",
              "2  0.092908  0.000000  0.769023\n",
              "3  1.246435  0.000000 -1.296221\n",
              "4  0.274992  0.228913  1.352917\n",
              "5  0.886429 -2.001637 -0.371843\n",
              "6  1.669025 -0.438570 -0.539741"
            ]
          },
          "metadata": {
            "tags": []
          },
          "execution_count": 13
        }
      ]
    },
    {
      "cell_type": "code",
      "metadata": {
        "colab": {
          "base_uri": "https://localhost:8080/",
          "height": 266
        },
        "id": "f2OKLgQKd9lF",
        "outputId": "f0c7c53d-d8a7-4802-ca39-df973a427171"
      },
      "source": [
        "# definindo nomes para as colunas\n",
        "dados2.columns = [\"Primeira\", \"Segunda\", \"Terceira\"]\n",
        "\n",
        "# passa um dict com o nome de cada coluna e o valor padrão para ser usado caso seja encontrado um valor np.nan\n",
        "dados2.fillna({\"Primeira\": 0, \"Segunda\": 888, \"Terceira\": 999})"
      ],
      "execution_count": 14,
      "outputs": [
        {
          "output_type": "execute_result",
          "data": {
            "text/html": [
              "<div>\n",
              "<style scoped>\n",
              "    .dataframe tbody tr th:only-of-type {\n",
              "        vertical-align: middle;\n",
              "    }\n",
              "\n",
              "    .dataframe tbody tr th {\n",
              "        vertical-align: top;\n",
              "    }\n",
              "\n",
              "    .dataframe thead th {\n",
              "        text-align: right;\n",
              "    }\n",
              "</style>\n",
              "<table border=\"1\" class=\"dataframe\">\n",
              "  <thead>\n",
              "    <tr style=\"text-align: right;\">\n",
              "      <th></th>\n",
              "      <th>Primeira</th>\n",
              "      <th>Segunda</th>\n",
              "      <th>Terceira</th>\n",
              "    </tr>\n",
              "  </thead>\n",
              "  <tbody>\n",
              "    <tr>\n",
              "      <th>0</th>\n",
              "      <td>-0.204708</td>\n",
              "      <td>888.000000</td>\n",
              "      <td>999.000000</td>\n",
              "    </tr>\n",
              "    <tr>\n",
              "      <th>1</th>\n",
              "      <td>-0.555730</td>\n",
              "      <td>888.000000</td>\n",
              "      <td>999.000000</td>\n",
              "    </tr>\n",
              "    <tr>\n",
              "      <th>2</th>\n",
              "      <td>0.092908</td>\n",
              "      <td>888.000000</td>\n",
              "      <td>0.769023</td>\n",
              "    </tr>\n",
              "    <tr>\n",
              "      <th>3</th>\n",
              "      <td>1.246435</td>\n",
              "      <td>888.000000</td>\n",
              "      <td>-1.296221</td>\n",
              "    </tr>\n",
              "    <tr>\n",
              "      <th>4</th>\n",
              "      <td>0.274992</td>\n",
              "      <td>0.228913</td>\n",
              "      <td>1.352917</td>\n",
              "    </tr>\n",
              "    <tr>\n",
              "      <th>5</th>\n",
              "      <td>0.886429</td>\n",
              "      <td>-2.001637</td>\n",
              "      <td>-0.371843</td>\n",
              "    </tr>\n",
              "    <tr>\n",
              "      <th>6</th>\n",
              "      <td>1.669025</td>\n",
              "      <td>-0.438570</td>\n",
              "      <td>-0.539741</td>\n",
              "    </tr>\n",
              "  </tbody>\n",
              "</table>\n",
              "</div>"
            ],
            "text/plain": [
              "   Primeira     Segunda    Terceira\n",
              "0 -0.204708  888.000000  999.000000\n",
              "1 -0.555730  888.000000  999.000000\n",
              "2  0.092908  888.000000    0.769023\n",
              "3  1.246435  888.000000   -1.296221\n",
              "4  0.274992    0.228913    1.352917\n",
              "5  0.886429   -2.001637   -0.371843\n",
              "6  1.669025   -0.438570   -0.539741"
            ]
          },
          "metadata": {
            "tags": []
          },
          "execution_count": 14
        }
      ]
    },
    {
      "cell_type": "code",
      "metadata": {
        "colab": {
          "base_uri": "https://localhost:8080/",
          "height": 266
        },
        "id": "E2Xz-QZ7ehid",
        "outputId": "4042d278-32aa-43a9-e257-5f0b6355cebd"
      },
      "source": [
        "# fillna retorna um novo df alterado, para alterar o df original\n",
        "# usar inplace=True\n",
        "dados2.fillna({\"Primeira\": 0, \"Segunda\": 888, \"Terceira\": 999}, inplace=True)\n",
        "dados2"
      ],
      "execution_count": 15,
      "outputs": [
        {
          "output_type": "execute_result",
          "data": {
            "text/html": [
              "<div>\n",
              "<style scoped>\n",
              "    .dataframe tbody tr th:only-of-type {\n",
              "        vertical-align: middle;\n",
              "    }\n",
              "\n",
              "    .dataframe tbody tr th {\n",
              "        vertical-align: top;\n",
              "    }\n",
              "\n",
              "    .dataframe thead th {\n",
              "        text-align: right;\n",
              "    }\n",
              "</style>\n",
              "<table border=\"1\" class=\"dataframe\">\n",
              "  <thead>\n",
              "    <tr style=\"text-align: right;\">\n",
              "      <th></th>\n",
              "      <th>Primeira</th>\n",
              "      <th>Segunda</th>\n",
              "      <th>Terceira</th>\n",
              "    </tr>\n",
              "  </thead>\n",
              "  <tbody>\n",
              "    <tr>\n",
              "      <th>0</th>\n",
              "      <td>-0.204708</td>\n",
              "      <td>888.000000</td>\n",
              "      <td>999.000000</td>\n",
              "    </tr>\n",
              "    <tr>\n",
              "      <th>1</th>\n",
              "      <td>-0.555730</td>\n",
              "      <td>888.000000</td>\n",
              "      <td>999.000000</td>\n",
              "    </tr>\n",
              "    <tr>\n",
              "      <th>2</th>\n",
              "      <td>0.092908</td>\n",
              "      <td>888.000000</td>\n",
              "      <td>0.769023</td>\n",
              "    </tr>\n",
              "    <tr>\n",
              "      <th>3</th>\n",
              "      <td>1.246435</td>\n",
              "      <td>888.000000</td>\n",
              "      <td>-1.296221</td>\n",
              "    </tr>\n",
              "    <tr>\n",
              "      <th>4</th>\n",
              "      <td>0.274992</td>\n",
              "      <td>0.228913</td>\n",
              "      <td>1.352917</td>\n",
              "    </tr>\n",
              "    <tr>\n",
              "      <th>5</th>\n",
              "      <td>0.886429</td>\n",
              "      <td>-2.001637</td>\n",
              "      <td>-0.371843</td>\n",
              "    </tr>\n",
              "    <tr>\n",
              "      <th>6</th>\n",
              "      <td>1.669025</td>\n",
              "      <td>-0.438570</td>\n",
              "      <td>-0.539741</td>\n",
              "    </tr>\n",
              "  </tbody>\n",
              "</table>\n",
              "</div>"
            ],
            "text/plain": [
              "   Primeira     Segunda    Terceira\n",
              "0 -0.204708  888.000000  999.000000\n",
              "1 -0.555730  888.000000  999.000000\n",
              "2  0.092908  888.000000    0.769023\n",
              "3  1.246435  888.000000   -1.296221\n",
              "4  0.274992    0.228913    1.352917\n",
              "5  0.886429   -2.001637   -0.371843\n",
              "6  1.669025   -0.438570   -0.539741"
            ]
          },
          "metadata": {
            "tags": []
          },
          "execution_count": 15
        }
      ]
    },
    {
      "cell_type": "markdown",
      "metadata": {
        "id": "XaL9uxDkhDQ3"
      },
      "source": [
        "#### Interpolação ffill"
      ]
    },
    {
      "cell_type": "code",
      "metadata": {
        "colab": {
          "base_uri": "https://localhost:8080/",
          "height": 235
        },
        "id": "owdvqRKTfrm2",
        "outputId": "87d1fae9-e68e-4bfc-cc44-133451627499"
      },
      "source": [
        "# metodos de interpolação, preencher para frente ou para trás\n",
        "dados3 = pd.DataFrame(np.random.randn(6,3), columns=[\"Pri\", \"Seg\", \"Ter\"])\n",
        "dados3"
      ],
      "execution_count": 16,
      "outputs": [
        {
          "output_type": "execute_result",
          "data": {
            "text/html": [
              "<div>\n",
              "<style scoped>\n",
              "    .dataframe tbody tr th:only-of-type {\n",
              "        vertical-align: middle;\n",
              "    }\n",
              "\n",
              "    .dataframe tbody tr th {\n",
              "        vertical-align: top;\n",
              "    }\n",
              "\n",
              "    .dataframe thead th {\n",
              "        text-align: right;\n",
              "    }\n",
              "</style>\n",
              "<table border=\"1\" class=\"dataframe\">\n",
              "  <thead>\n",
              "    <tr style=\"text-align: right;\">\n",
              "      <th></th>\n",
              "      <th>Pri</th>\n",
              "      <th>Seg</th>\n",
              "      <th>Ter</th>\n",
              "    </tr>\n",
              "  </thead>\n",
              "  <tbody>\n",
              "    <tr>\n",
              "      <th>0</th>\n",
              "      <td>0.476985</td>\n",
              "      <td>3.248944</td>\n",
              "      <td>-1.021228</td>\n",
              "    </tr>\n",
              "    <tr>\n",
              "      <th>1</th>\n",
              "      <td>-0.577087</td>\n",
              "      <td>0.124121</td>\n",
              "      <td>0.302614</td>\n",
              "    </tr>\n",
              "    <tr>\n",
              "      <th>2</th>\n",
              "      <td>0.523772</td>\n",
              "      <td>0.000940</td>\n",
              "      <td>1.343810</td>\n",
              "    </tr>\n",
              "    <tr>\n",
              "      <th>3</th>\n",
              "      <td>-0.713544</td>\n",
              "      <td>-0.831154</td>\n",
              "      <td>-2.370232</td>\n",
              "    </tr>\n",
              "    <tr>\n",
              "      <th>4</th>\n",
              "      <td>-1.860761</td>\n",
              "      <td>-0.860757</td>\n",
              "      <td>0.560145</td>\n",
              "    </tr>\n",
              "    <tr>\n",
              "      <th>5</th>\n",
              "      <td>-1.265934</td>\n",
              "      <td>0.119827</td>\n",
              "      <td>-1.063512</td>\n",
              "    </tr>\n",
              "  </tbody>\n",
              "</table>\n",
              "</div>"
            ],
            "text/plain": [
              "        Pri       Seg       Ter\n",
              "0  0.476985  3.248944 -1.021228\n",
              "1 -0.577087  0.124121  0.302614\n",
              "2  0.523772  0.000940  1.343810\n",
              "3 -0.713544 -0.831154 -2.370232\n",
              "4 -1.860761 -0.860757  0.560145\n",
              "5 -1.265934  0.119827 -1.063512"
            ]
          },
          "metadata": {
            "tags": []
          },
          "execution_count": 16
        }
      ]
    },
    {
      "cell_type": "code",
      "metadata": {
        "colab": {
          "base_uri": "https://localhost:8080/",
          "height": 235
        },
        "id": "eBF0XdC-hzHN",
        "outputId": "46eebdc7-9700-4103-c2fd-0e3ac1d594b8"
      },
      "source": [
        "# criando alguns dados em np.nan para testes\n",
        "dados3.iloc[2:, 1] = np.nan\n",
        "dados3.iloc[4:, 2] = np.nan\n",
        "dados3"
      ],
      "execution_count": 17,
      "outputs": [
        {
          "output_type": "execute_result",
          "data": {
            "text/html": [
              "<div>\n",
              "<style scoped>\n",
              "    .dataframe tbody tr th:only-of-type {\n",
              "        vertical-align: middle;\n",
              "    }\n",
              "\n",
              "    .dataframe tbody tr th {\n",
              "        vertical-align: top;\n",
              "    }\n",
              "\n",
              "    .dataframe thead th {\n",
              "        text-align: right;\n",
              "    }\n",
              "</style>\n",
              "<table border=\"1\" class=\"dataframe\">\n",
              "  <thead>\n",
              "    <tr style=\"text-align: right;\">\n",
              "      <th></th>\n",
              "      <th>Pri</th>\n",
              "      <th>Seg</th>\n",
              "      <th>Ter</th>\n",
              "    </tr>\n",
              "  </thead>\n",
              "  <tbody>\n",
              "    <tr>\n",
              "      <th>0</th>\n",
              "      <td>0.476985</td>\n",
              "      <td>3.248944</td>\n",
              "      <td>-1.021228</td>\n",
              "    </tr>\n",
              "    <tr>\n",
              "      <th>1</th>\n",
              "      <td>-0.577087</td>\n",
              "      <td>0.124121</td>\n",
              "      <td>0.302614</td>\n",
              "    </tr>\n",
              "    <tr>\n",
              "      <th>2</th>\n",
              "      <td>0.523772</td>\n",
              "      <td>NaN</td>\n",
              "      <td>1.343810</td>\n",
              "    </tr>\n",
              "    <tr>\n",
              "      <th>3</th>\n",
              "      <td>-0.713544</td>\n",
              "      <td>NaN</td>\n",
              "      <td>-2.370232</td>\n",
              "    </tr>\n",
              "    <tr>\n",
              "      <th>4</th>\n",
              "      <td>-1.860761</td>\n",
              "      <td>NaN</td>\n",
              "      <td>NaN</td>\n",
              "    </tr>\n",
              "    <tr>\n",
              "      <th>5</th>\n",
              "      <td>-1.265934</td>\n",
              "      <td>NaN</td>\n",
              "      <td>NaN</td>\n",
              "    </tr>\n",
              "  </tbody>\n",
              "</table>\n",
              "</div>"
            ],
            "text/plain": [
              "        Pri       Seg       Ter\n",
              "0  0.476985  3.248944 -1.021228\n",
              "1 -0.577087  0.124121  0.302614\n",
              "2  0.523772       NaN  1.343810\n",
              "3 -0.713544       NaN -2.370232\n",
              "4 -1.860761       NaN       NaN\n",
              "5 -1.265934       NaN       NaN"
            ]
          },
          "metadata": {
            "tags": []
          },
          "execution_count": 17
        }
      ]
    },
    {
      "cell_type": "code",
      "metadata": {
        "colab": {
          "base_uri": "https://localhost:8080/",
          "height": 235
        },
        "id": "UZGcNttLg-pB",
        "outputId": "c945c245-2b0c-4d73-b99d-3891a9e1f646"
      },
      "source": [
        "# preenche com o ultimo dado as linhas na sequencia para baixo ffill\n",
        "# limit=2 limita o preenchimento apenas nas proximas 2 linhas apos o primeiro NAN\n",
        "dados3.fillna(method=\"ffill\", limit=2)"
      ],
      "execution_count": 18,
      "outputs": [
        {
          "output_type": "execute_result",
          "data": {
            "text/html": [
              "<div>\n",
              "<style scoped>\n",
              "    .dataframe tbody tr th:only-of-type {\n",
              "        vertical-align: middle;\n",
              "    }\n",
              "\n",
              "    .dataframe tbody tr th {\n",
              "        vertical-align: top;\n",
              "    }\n",
              "\n",
              "    .dataframe thead th {\n",
              "        text-align: right;\n",
              "    }\n",
              "</style>\n",
              "<table border=\"1\" class=\"dataframe\">\n",
              "  <thead>\n",
              "    <tr style=\"text-align: right;\">\n",
              "      <th></th>\n",
              "      <th>Pri</th>\n",
              "      <th>Seg</th>\n",
              "      <th>Ter</th>\n",
              "    </tr>\n",
              "  </thead>\n",
              "  <tbody>\n",
              "    <tr>\n",
              "      <th>0</th>\n",
              "      <td>0.476985</td>\n",
              "      <td>3.248944</td>\n",
              "      <td>-1.021228</td>\n",
              "    </tr>\n",
              "    <tr>\n",
              "      <th>1</th>\n",
              "      <td>-0.577087</td>\n",
              "      <td>0.124121</td>\n",
              "      <td>0.302614</td>\n",
              "    </tr>\n",
              "    <tr>\n",
              "      <th>2</th>\n",
              "      <td>0.523772</td>\n",
              "      <td>0.124121</td>\n",
              "      <td>1.343810</td>\n",
              "    </tr>\n",
              "    <tr>\n",
              "      <th>3</th>\n",
              "      <td>-0.713544</td>\n",
              "      <td>0.124121</td>\n",
              "      <td>-2.370232</td>\n",
              "    </tr>\n",
              "    <tr>\n",
              "      <th>4</th>\n",
              "      <td>-1.860761</td>\n",
              "      <td>NaN</td>\n",
              "      <td>-2.370232</td>\n",
              "    </tr>\n",
              "    <tr>\n",
              "      <th>5</th>\n",
              "      <td>-1.265934</td>\n",
              "      <td>NaN</td>\n",
              "      <td>-2.370232</td>\n",
              "    </tr>\n",
              "  </tbody>\n",
              "</table>\n",
              "</div>"
            ],
            "text/plain": [
              "        Pri       Seg       Ter\n",
              "0  0.476985  3.248944 -1.021228\n",
              "1 -0.577087  0.124121  0.302614\n",
              "2  0.523772  0.124121  1.343810\n",
              "3 -0.713544  0.124121 -2.370232\n",
              "4 -1.860761       NaN -2.370232\n",
              "5 -1.265934       NaN -2.370232"
            ]
          },
          "metadata": {
            "tags": []
          },
          "execution_count": 18
        }
      ]
    },
    {
      "cell_type": "code",
      "metadata": {
        "colab": {
          "base_uri": "https://localhost:8080/"
        },
        "id": "CgXJpXwekRtS",
        "outputId": "9d574b6d-9260-4337-b069-721465e9ef73"
      },
      "source": [
        "# preencher com a média da coluna\n",
        "# Todas as colunas numéricas: dados3.fillna(dados3.mean())\n",
        "dados3[\"Seg\"].fillna(dados3[\"Seg\"].mean())"
      ],
      "execution_count": 20,
      "outputs": [
        {
          "output_type": "execute_result",
          "data": {
            "text/plain": [
              "0    3.248944\n",
              "1    0.124121\n",
              "2    1.686533\n",
              "3    1.686533\n",
              "4    1.686533\n",
              "5    1.686533\n",
              "Name: Seg, dtype: float64"
            ]
          },
          "metadata": {
            "tags": []
          },
          "execution_count": 20
        }
      ]
    },
    {
      "cell_type": "markdown",
      "metadata": {
        "id": "atKVUiS_jJT5"
      },
      "source": [
        "## Trasnformação dos dados"
      ]
    },
    {
      "cell_type": "markdown",
      "metadata": {
        "id": "BhTGU-VGrOEs"
      },
      "source": [
        "#### Removendo duplicados"
      ]
    },
    {
      "cell_type": "code",
      "metadata": {
        "colab": {
          "base_uri": "https://localhost:8080/",
          "height": 266
        },
        "id": "pdYZ9pqlhwCb",
        "outputId": "3f41b9a8-c7de-443b-9d9e-00a861024b9a"
      },
      "source": [
        "# criando um dataframe de exemplo\n",
        "dados4 = pd.DataFrame({\"k1\": [\"um\",\"dois\"] * 3 + [\"dois\"], \"k2\": [1, 2, 1, 2, 1, 2, 2]})\n",
        "dados4"
      ],
      "execution_count": 21,
      "outputs": [
        {
          "output_type": "execute_result",
          "data": {
            "text/html": [
              "<div>\n",
              "<style scoped>\n",
              "    .dataframe tbody tr th:only-of-type {\n",
              "        vertical-align: middle;\n",
              "    }\n",
              "\n",
              "    .dataframe tbody tr th {\n",
              "        vertical-align: top;\n",
              "    }\n",
              "\n",
              "    .dataframe thead th {\n",
              "        text-align: right;\n",
              "    }\n",
              "</style>\n",
              "<table border=\"1\" class=\"dataframe\">\n",
              "  <thead>\n",
              "    <tr style=\"text-align: right;\">\n",
              "      <th></th>\n",
              "      <th>k1</th>\n",
              "      <th>k2</th>\n",
              "    </tr>\n",
              "  </thead>\n",
              "  <tbody>\n",
              "    <tr>\n",
              "      <th>0</th>\n",
              "      <td>um</td>\n",
              "      <td>1</td>\n",
              "    </tr>\n",
              "    <tr>\n",
              "      <th>1</th>\n",
              "      <td>dois</td>\n",
              "      <td>2</td>\n",
              "    </tr>\n",
              "    <tr>\n",
              "      <th>2</th>\n",
              "      <td>um</td>\n",
              "      <td>1</td>\n",
              "    </tr>\n",
              "    <tr>\n",
              "      <th>3</th>\n",
              "      <td>dois</td>\n",
              "      <td>2</td>\n",
              "    </tr>\n",
              "    <tr>\n",
              "      <th>4</th>\n",
              "      <td>um</td>\n",
              "      <td>1</td>\n",
              "    </tr>\n",
              "    <tr>\n",
              "      <th>5</th>\n",
              "      <td>dois</td>\n",
              "      <td>2</td>\n",
              "    </tr>\n",
              "    <tr>\n",
              "      <th>6</th>\n",
              "      <td>dois</td>\n",
              "      <td>2</td>\n",
              "    </tr>\n",
              "  </tbody>\n",
              "</table>\n",
              "</div>"
            ],
            "text/plain": [
              "     k1  k2\n",
              "0    um   1\n",
              "1  dois   2\n",
              "2    um   1\n",
              "3  dois   2\n",
              "4    um   1\n",
              "5  dois   2\n",
              "6  dois   2"
            ]
          },
          "metadata": {
            "tags": []
          },
          "execution_count": 21
        }
      ]
    },
    {
      "cell_type": "code",
      "metadata": {
        "colab": {
          "base_uri": "https://localhost:8080/"
        },
        "id": "nuPrqFzJj1Gw",
        "outputId": "e6ef765f-d8da-448b-f296-fe505c106af8"
      },
      "source": [
        "# True se a combinação ja existe nas linhas superiores\n",
        "dados4.duplicated()"
      ],
      "execution_count": 22,
      "outputs": [
        {
          "output_type": "execute_result",
          "data": {
            "text/plain": [
              "0    False\n",
              "1    False\n",
              "2     True\n",
              "3     True\n",
              "4     True\n",
              "5     True\n",
              "6     True\n",
              "dtype: bool"
            ]
          },
          "metadata": {
            "tags": []
          },
          "execution_count": 22
        }
      ]
    },
    {
      "cell_type": "code",
      "metadata": {
        "colab": {
          "base_uri": "https://localhost:8080/",
          "height": 111
        },
        "id": "0KZ9SAlkleVk",
        "outputId": "38eef723-7e42-4f4c-8e3b-d56e77caac4e"
      },
      "source": [
        "# mantém apenas os não duplicados, apaga a partir da segunda ocorrência. Mantém as primeiras ocorrências\n",
        "dados4.drop_duplicates()"
      ],
      "execution_count": 23,
      "outputs": [
        {
          "output_type": "execute_result",
          "data": {
            "text/html": [
              "<div>\n",
              "<style scoped>\n",
              "    .dataframe tbody tr th:only-of-type {\n",
              "        vertical-align: middle;\n",
              "    }\n",
              "\n",
              "    .dataframe tbody tr th {\n",
              "        vertical-align: top;\n",
              "    }\n",
              "\n",
              "    .dataframe thead th {\n",
              "        text-align: right;\n",
              "    }\n",
              "</style>\n",
              "<table border=\"1\" class=\"dataframe\">\n",
              "  <thead>\n",
              "    <tr style=\"text-align: right;\">\n",
              "      <th></th>\n",
              "      <th>k1</th>\n",
              "      <th>k2</th>\n",
              "    </tr>\n",
              "  </thead>\n",
              "  <tbody>\n",
              "    <tr>\n",
              "      <th>0</th>\n",
              "      <td>um</td>\n",
              "      <td>1</td>\n",
              "    </tr>\n",
              "    <tr>\n",
              "      <th>1</th>\n",
              "      <td>dois</td>\n",
              "      <td>2</td>\n",
              "    </tr>\n",
              "  </tbody>\n",
              "</table>\n",
              "</div>"
            ],
            "text/plain": [
              "     k1  k2\n",
              "0    um   1\n",
              "1  dois   2"
            ]
          },
          "metadata": {
            "tags": []
          },
          "execution_count": 23
        }
      ]
    },
    {
      "cell_type": "code",
      "metadata": {
        "colab": {
          "base_uri": "https://localhost:8080/",
          "height": 111
        },
        "id": "uSdne9rWmXSz",
        "outputId": "ab810986-2f4d-4470-e000-bd4dddfae9f5"
      },
      "source": [
        "# podemos detectar as duplicidades usando um subconjunto de colunas\n",
        "# usando a coluna k1 e preservando apenas a ultima ocorrencia (o ultimo \"Um\" da lista e o ultimo \"Dois\" da lista)\n",
        "dados4.drop_duplicates([\"k1\"], keep=\"last\")"
      ],
      "execution_count": 24,
      "outputs": [
        {
          "output_type": "execute_result",
          "data": {
            "text/html": [
              "<div>\n",
              "<style scoped>\n",
              "    .dataframe tbody tr th:only-of-type {\n",
              "        vertical-align: middle;\n",
              "    }\n",
              "\n",
              "    .dataframe tbody tr th {\n",
              "        vertical-align: top;\n",
              "    }\n",
              "\n",
              "    .dataframe thead th {\n",
              "        text-align: right;\n",
              "    }\n",
              "</style>\n",
              "<table border=\"1\" class=\"dataframe\">\n",
              "  <thead>\n",
              "    <tr style=\"text-align: right;\">\n",
              "      <th></th>\n",
              "      <th>k1</th>\n",
              "      <th>k2</th>\n",
              "    </tr>\n",
              "  </thead>\n",
              "  <tbody>\n",
              "    <tr>\n",
              "      <th>4</th>\n",
              "      <td>um</td>\n",
              "      <td>1</td>\n",
              "    </tr>\n",
              "    <tr>\n",
              "      <th>6</th>\n",
              "      <td>dois</td>\n",
              "      <td>2</td>\n",
              "    </tr>\n",
              "  </tbody>\n",
              "</table>\n",
              "</div>"
            ],
            "text/plain": [
              "     k1  k2\n",
              "4    um   1\n",
              "6  dois   2"
            ]
          },
          "metadata": {
            "tags": []
          },
          "execution_count": 24
        }
      ]
    },
    {
      "cell_type": "markdown",
      "metadata": {
        "id": "tt5PEbQRrS59"
      },
      "source": [
        "#### Dê-Para"
      ]
    },
    {
      "cell_type": "code",
      "metadata": {
        "colab": {
          "base_uri": "https://localhost:8080/",
          "height": 328
        },
        "id": "5OEnrtWQqqZw",
        "outputId": "0d39eefb-43e0-4ac1-b38e-c30b6a729619"
      },
      "source": [
        "# DataFrame com uma coluna de comidas e um valor total\n",
        "dados5 = pd.DataFrame({'food': ['bacon', 'pulled pork', 'bacon', 'Pastrami', 'corned beef', 'Bacon', 'pastrami', 'honey ham', 'nova lox'],\n",
        "                      'total': [4, 3, 12, 6, 7.5, 8, 3, 5, 6]})\n",
        "dados5"
      ],
      "execution_count": 25,
      "outputs": [
        {
          "output_type": "execute_result",
          "data": {
            "text/html": [
              "<div>\n",
              "<style scoped>\n",
              "    .dataframe tbody tr th:only-of-type {\n",
              "        vertical-align: middle;\n",
              "    }\n",
              "\n",
              "    .dataframe tbody tr th {\n",
              "        vertical-align: top;\n",
              "    }\n",
              "\n",
              "    .dataframe thead th {\n",
              "        text-align: right;\n",
              "    }\n",
              "</style>\n",
              "<table border=\"1\" class=\"dataframe\">\n",
              "  <thead>\n",
              "    <tr style=\"text-align: right;\">\n",
              "      <th></th>\n",
              "      <th>food</th>\n",
              "      <th>total</th>\n",
              "    </tr>\n",
              "  </thead>\n",
              "  <tbody>\n",
              "    <tr>\n",
              "      <th>0</th>\n",
              "      <td>bacon</td>\n",
              "      <td>4.0</td>\n",
              "    </tr>\n",
              "    <tr>\n",
              "      <th>1</th>\n",
              "      <td>pulled pork</td>\n",
              "      <td>3.0</td>\n",
              "    </tr>\n",
              "    <tr>\n",
              "      <th>2</th>\n",
              "      <td>bacon</td>\n",
              "      <td>12.0</td>\n",
              "    </tr>\n",
              "    <tr>\n",
              "      <th>3</th>\n",
              "      <td>Pastrami</td>\n",
              "      <td>6.0</td>\n",
              "    </tr>\n",
              "    <tr>\n",
              "      <th>4</th>\n",
              "      <td>corned beef</td>\n",
              "      <td>7.5</td>\n",
              "    </tr>\n",
              "    <tr>\n",
              "      <th>5</th>\n",
              "      <td>Bacon</td>\n",
              "      <td>8.0</td>\n",
              "    </tr>\n",
              "    <tr>\n",
              "      <th>6</th>\n",
              "      <td>pastrami</td>\n",
              "      <td>3.0</td>\n",
              "    </tr>\n",
              "    <tr>\n",
              "      <th>7</th>\n",
              "      <td>honey ham</td>\n",
              "      <td>5.0</td>\n",
              "    </tr>\n",
              "    <tr>\n",
              "      <th>8</th>\n",
              "      <td>nova lox</td>\n",
              "      <td>6.0</td>\n",
              "    </tr>\n",
              "  </tbody>\n",
              "</table>\n",
              "</div>"
            ],
            "text/plain": [
              "          food  total\n",
              "0        bacon    4.0\n",
              "1  pulled pork    3.0\n",
              "2        bacon   12.0\n",
              "3     Pastrami    6.0\n",
              "4  corned beef    7.5\n",
              "5        Bacon    8.0\n",
              "6     pastrami    3.0\n",
              "7    honey ham    5.0\n",
              "8     nova lox    6.0"
            ]
          },
          "metadata": {
            "tags": []
          },
          "execution_count": 25
        }
      ]
    },
    {
      "cell_type": "code",
      "metadata": {
        "id": "DD1cEYr6rtZP"
      },
      "source": [
        "# Dicionário que será usado para fazer o de-para entre a comida e o tipo de carne\n",
        "comida_carne = {\n",
        "    'bacon': 'pig', \n",
        "    'pulled pork': 'pig', \n",
        "    'pastrami': 'cow', \n",
        "    'corned beef': 'cow', \n",
        "    'honey ham': 'pig', \n",
        "    'nova lox': 'salmon'\n",
        "}"
      ],
      "execution_count": 26,
      "outputs": []
    },
    {
      "cell_type": "code",
      "metadata": {
        "colab": {
          "base_uri": "https://localhost:8080/",
          "height": 328
        },
        "id": "z84zhf9lsjcE",
        "outputId": "c4a6d495-d0a9-479d-feef-7fda17878270"
      },
      "source": [
        "# lista de comidas padronizada para evitar problemas de upper case no mapeamento\n",
        "lista_comidas = dados5[\"food\"].str.lower()\n",
        "\n",
        "# criar uma coluna com o tipo de carne de cada animal\n",
        "# mapeia cada comida (lista_comidas) com as chaves do dicionario (comida_carne). inner join\n",
        "dados5[\"tipo_carne\"] = lista_comidas.map(comida_carne)\n",
        "\n",
        "dados5"
      ],
      "execution_count": 27,
      "outputs": [
        {
          "output_type": "execute_result",
          "data": {
            "text/html": [
              "<div>\n",
              "<style scoped>\n",
              "    .dataframe tbody tr th:only-of-type {\n",
              "        vertical-align: middle;\n",
              "    }\n",
              "\n",
              "    .dataframe tbody tr th {\n",
              "        vertical-align: top;\n",
              "    }\n",
              "\n",
              "    .dataframe thead th {\n",
              "        text-align: right;\n",
              "    }\n",
              "</style>\n",
              "<table border=\"1\" class=\"dataframe\">\n",
              "  <thead>\n",
              "    <tr style=\"text-align: right;\">\n",
              "      <th></th>\n",
              "      <th>food</th>\n",
              "      <th>total</th>\n",
              "      <th>tipo_carne</th>\n",
              "    </tr>\n",
              "  </thead>\n",
              "  <tbody>\n",
              "    <tr>\n",
              "      <th>0</th>\n",
              "      <td>bacon</td>\n",
              "      <td>4.0</td>\n",
              "      <td>pig</td>\n",
              "    </tr>\n",
              "    <tr>\n",
              "      <th>1</th>\n",
              "      <td>pulled pork</td>\n",
              "      <td>3.0</td>\n",
              "      <td>pig</td>\n",
              "    </tr>\n",
              "    <tr>\n",
              "      <th>2</th>\n",
              "      <td>bacon</td>\n",
              "      <td>12.0</td>\n",
              "      <td>pig</td>\n",
              "    </tr>\n",
              "    <tr>\n",
              "      <th>3</th>\n",
              "      <td>Pastrami</td>\n",
              "      <td>6.0</td>\n",
              "      <td>cow</td>\n",
              "    </tr>\n",
              "    <tr>\n",
              "      <th>4</th>\n",
              "      <td>corned beef</td>\n",
              "      <td>7.5</td>\n",
              "      <td>cow</td>\n",
              "    </tr>\n",
              "    <tr>\n",
              "      <th>5</th>\n",
              "      <td>Bacon</td>\n",
              "      <td>8.0</td>\n",
              "      <td>pig</td>\n",
              "    </tr>\n",
              "    <tr>\n",
              "      <th>6</th>\n",
              "      <td>pastrami</td>\n",
              "      <td>3.0</td>\n",
              "      <td>cow</td>\n",
              "    </tr>\n",
              "    <tr>\n",
              "      <th>7</th>\n",
              "      <td>honey ham</td>\n",
              "      <td>5.0</td>\n",
              "      <td>pig</td>\n",
              "    </tr>\n",
              "    <tr>\n",
              "      <th>8</th>\n",
              "      <td>nova lox</td>\n",
              "      <td>6.0</td>\n",
              "      <td>salmon</td>\n",
              "    </tr>\n",
              "  </tbody>\n",
              "</table>\n",
              "</div>"
            ],
            "text/plain": [
              "          food  total tipo_carne\n",
              "0        bacon    4.0        pig\n",
              "1  pulled pork    3.0        pig\n",
              "2        bacon   12.0        pig\n",
              "3     Pastrami    6.0        cow\n",
              "4  corned beef    7.5        cow\n",
              "5        Bacon    8.0        pig\n",
              "6     pastrami    3.0        cow\n",
              "7    honey ham    5.0        pig\n",
              "8     nova lox    6.0     salmon"
            ]
          },
          "metadata": {
            "tags": []
          },
          "execution_count": 27
        }
      ]
    },
    {
      "cell_type": "code",
      "metadata": {
        "id": "eQTnPkBItLEN"
      },
      "source": [
        "# outra forma de fazer o mapeamento entre os valores da coluna com os valores do dict\n",
        "dados5[\"food\"].map(lambda x: comida_carne[x.lower()])"
      ],
      "execution_count": null,
      "outputs": []
    },
    {
      "cell_type": "code",
      "metadata": {
        "colab": {
          "base_uri": "https://localhost:8080/",
          "height": 266
        },
        "id": "VgsWJamFvPP1",
        "outputId": "6f64e11e-1262-43e4-e919-a7508c9f6e6e"
      },
      "source": [
        "# Altera um valor por outro fazendo um de-para\n",
        "# fillna é um caso específico de substituição\n",
        "dados4.replace({\"um\": \"Primeiro\", \"dois\": \"Segundo\"}, inplace=True)\n",
        "dados4.replace({1: \"1ª\", 2: \"2º\"}, inplace=True)\n",
        "\n",
        "dados4"
      ],
      "execution_count": 28,
      "outputs": [
        {
          "output_type": "execute_result",
          "data": {
            "text/html": [
              "<div>\n",
              "<style scoped>\n",
              "    .dataframe tbody tr th:only-of-type {\n",
              "        vertical-align: middle;\n",
              "    }\n",
              "\n",
              "    .dataframe tbody tr th {\n",
              "        vertical-align: top;\n",
              "    }\n",
              "\n",
              "    .dataframe thead th {\n",
              "        text-align: right;\n",
              "    }\n",
              "</style>\n",
              "<table border=\"1\" class=\"dataframe\">\n",
              "  <thead>\n",
              "    <tr style=\"text-align: right;\">\n",
              "      <th></th>\n",
              "      <th>k1</th>\n",
              "      <th>k2</th>\n",
              "    </tr>\n",
              "  </thead>\n",
              "  <tbody>\n",
              "    <tr>\n",
              "      <th>0</th>\n",
              "      <td>Primeiro</td>\n",
              "      <td>1ª</td>\n",
              "    </tr>\n",
              "    <tr>\n",
              "      <th>1</th>\n",
              "      <td>Segundo</td>\n",
              "      <td>2º</td>\n",
              "    </tr>\n",
              "    <tr>\n",
              "      <th>2</th>\n",
              "      <td>Primeiro</td>\n",
              "      <td>1ª</td>\n",
              "    </tr>\n",
              "    <tr>\n",
              "      <th>3</th>\n",
              "      <td>Segundo</td>\n",
              "      <td>2º</td>\n",
              "    </tr>\n",
              "    <tr>\n",
              "      <th>4</th>\n",
              "      <td>Primeiro</td>\n",
              "      <td>1ª</td>\n",
              "    </tr>\n",
              "    <tr>\n",
              "      <th>5</th>\n",
              "      <td>Segundo</td>\n",
              "      <td>2º</td>\n",
              "    </tr>\n",
              "    <tr>\n",
              "      <th>6</th>\n",
              "      <td>Segundo</td>\n",
              "      <td>2º</td>\n",
              "    </tr>\n",
              "  </tbody>\n",
              "</table>\n",
              "</div>"
            ],
            "text/plain": [
              "         k1  k2\n",
              "0  Primeiro  1ª\n",
              "1   Segundo  2º\n",
              "2  Primeiro  1ª\n",
              "3   Segundo  2º\n",
              "4  Primeiro  1ª\n",
              "5   Segundo  2º\n",
              "6   Segundo  2º"
            ]
          },
          "metadata": {
            "tags": []
          },
          "execution_count": 28
        }
      ]
    },
    {
      "cell_type": "markdown",
      "metadata": {
        "id": "UhPZJWMFyDSk"
      },
      "source": [
        "#### Renomeando indices"
      ]
    },
    {
      "cell_type": "code",
      "metadata": {
        "colab": {
          "base_uri": "https://localhost:8080/",
          "height": 266
        },
        "id": "oL_XRaqewfMQ",
        "outputId": "9426e08b-d5cb-483c-ec19-cb40bb7d6b7a"
      },
      "source": [
        "# alterando o índice das linhas\n",
        "dados4.index = dados4.index.map(lambda x: x ** 2)\n",
        "dados4"
      ],
      "execution_count": 29,
      "outputs": [
        {
          "output_type": "execute_result",
          "data": {
            "text/html": [
              "<div>\n",
              "<style scoped>\n",
              "    .dataframe tbody tr th:only-of-type {\n",
              "        vertical-align: middle;\n",
              "    }\n",
              "\n",
              "    .dataframe tbody tr th {\n",
              "        vertical-align: top;\n",
              "    }\n",
              "\n",
              "    .dataframe thead th {\n",
              "        text-align: right;\n",
              "    }\n",
              "</style>\n",
              "<table border=\"1\" class=\"dataframe\">\n",
              "  <thead>\n",
              "    <tr style=\"text-align: right;\">\n",
              "      <th></th>\n",
              "      <th>k1</th>\n",
              "      <th>k2</th>\n",
              "    </tr>\n",
              "  </thead>\n",
              "  <tbody>\n",
              "    <tr>\n",
              "      <th>0</th>\n",
              "      <td>Primeiro</td>\n",
              "      <td>1ª</td>\n",
              "    </tr>\n",
              "    <tr>\n",
              "      <th>1</th>\n",
              "      <td>Segundo</td>\n",
              "      <td>2º</td>\n",
              "    </tr>\n",
              "    <tr>\n",
              "      <th>4</th>\n",
              "      <td>Primeiro</td>\n",
              "      <td>1ª</td>\n",
              "    </tr>\n",
              "    <tr>\n",
              "      <th>9</th>\n",
              "      <td>Segundo</td>\n",
              "      <td>2º</td>\n",
              "    </tr>\n",
              "    <tr>\n",
              "      <th>16</th>\n",
              "      <td>Primeiro</td>\n",
              "      <td>1ª</td>\n",
              "    </tr>\n",
              "    <tr>\n",
              "      <th>25</th>\n",
              "      <td>Segundo</td>\n",
              "      <td>2º</td>\n",
              "    </tr>\n",
              "    <tr>\n",
              "      <th>36</th>\n",
              "      <td>Segundo</td>\n",
              "      <td>2º</td>\n",
              "    </tr>\n",
              "  </tbody>\n",
              "</table>\n",
              "</div>"
            ],
            "text/plain": [
              "          k1  k2\n",
              "0   Primeiro  1ª\n",
              "1    Segundo  2º\n",
              "4   Primeiro  1ª\n",
              "9    Segundo  2º\n",
              "16  Primeiro  1ª\n",
              "25   Segundo  2º\n",
              "36   Segundo  2º"
            ]
          },
          "metadata": {
            "tags": []
          },
          "execution_count": 29
        }
      ]
    },
    {
      "cell_type": "code",
      "metadata": {
        "colab": {
          "base_uri": "https://localhost:8080/",
          "height": 266
        },
        "id": "6XdVTK0Wyl8l",
        "outputId": "5fc1602d-3998-4c01-eb33-56ab956e46df"
      },
      "source": [
        "# alterando nome das colunas\n",
        "dados4.rename(columns=str.upper)"
      ],
      "execution_count": 30,
      "outputs": [
        {
          "output_type": "execute_result",
          "data": {
            "text/html": [
              "<div>\n",
              "<style scoped>\n",
              "    .dataframe tbody tr th:only-of-type {\n",
              "        vertical-align: middle;\n",
              "    }\n",
              "\n",
              "    .dataframe tbody tr th {\n",
              "        vertical-align: top;\n",
              "    }\n",
              "\n",
              "    .dataframe thead th {\n",
              "        text-align: right;\n",
              "    }\n",
              "</style>\n",
              "<table border=\"1\" class=\"dataframe\">\n",
              "  <thead>\n",
              "    <tr style=\"text-align: right;\">\n",
              "      <th></th>\n",
              "      <th>K1</th>\n",
              "      <th>K2</th>\n",
              "    </tr>\n",
              "  </thead>\n",
              "  <tbody>\n",
              "    <tr>\n",
              "      <th>0</th>\n",
              "      <td>Primeiro</td>\n",
              "      <td>1ª</td>\n",
              "    </tr>\n",
              "    <tr>\n",
              "      <th>1</th>\n",
              "      <td>Segundo</td>\n",
              "      <td>2º</td>\n",
              "    </tr>\n",
              "    <tr>\n",
              "      <th>4</th>\n",
              "      <td>Primeiro</td>\n",
              "      <td>1ª</td>\n",
              "    </tr>\n",
              "    <tr>\n",
              "      <th>9</th>\n",
              "      <td>Segundo</td>\n",
              "      <td>2º</td>\n",
              "    </tr>\n",
              "    <tr>\n",
              "      <th>16</th>\n",
              "      <td>Primeiro</td>\n",
              "      <td>1ª</td>\n",
              "    </tr>\n",
              "    <tr>\n",
              "      <th>25</th>\n",
              "      <td>Segundo</td>\n",
              "      <td>2º</td>\n",
              "    </tr>\n",
              "    <tr>\n",
              "      <th>36</th>\n",
              "      <td>Segundo</td>\n",
              "      <td>2º</td>\n",
              "    </tr>\n",
              "  </tbody>\n",
              "</table>\n",
              "</div>"
            ],
            "text/plain": [
              "          K1  K2\n",
              "0   Primeiro  1ª\n",
              "1    Segundo  2º\n",
              "4   Primeiro  1ª\n",
              "9    Segundo  2º\n",
              "16  Primeiro  1ª\n",
              "25   Segundo  2º\n",
              "36   Segundo  2º"
            ]
          },
          "metadata": {
            "tags": []
          },
          "execution_count": 30
        }
      ]
    },
    {
      "cell_type": "code",
      "metadata": {
        "colab": {
          "base_uri": "https://localhost:8080/",
          "height": 266
        },
        "id": "T8ZuRBFJzyQL",
        "outputId": "e0734883-12fa-426b-bbf2-5dab240e76ba"
      },
      "source": [
        "# alterando nome das colunas usando um dict\n",
        "dados4.rename(columns={\"k1\": \"COLUNA1\", \"k2\": \"COLUNA2\"})"
      ],
      "execution_count": 31,
      "outputs": [
        {
          "output_type": "execute_result",
          "data": {
            "text/html": [
              "<div>\n",
              "<style scoped>\n",
              "    .dataframe tbody tr th:only-of-type {\n",
              "        vertical-align: middle;\n",
              "    }\n",
              "\n",
              "    .dataframe tbody tr th {\n",
              "        vertical-align: top;\n",
              "    }\n",
              "\n",
              "    .dataframe thead th {\n",
              "        text-align: right;\n",
              "    }\n",
              "</style>\n",
              "<table border=\"1\" class=\"dataframe\">\n",
              "  <thead>\n",
              "    <tr style=\"text-align: right;\">\n",
              "      <th></th>\n",
              "      <th>COLUNA1</th>\n",
              "      <th>COLUNA2</th>\n",
              "    </tr>\n",
              "  </thead>\n",
              "  <tbody>\n",
              "    <tr>\n",
              "      <th>0</th>\n",
              "      <td>Primeiro</td>\n",
              "      <td>1ª</td>\n",
              "    </tr>\n",
              "    <tr>\n",
              "      <th>1</th>\n",
              "      <td>Segundo</td>\n",
              "      <td>2º</td>\n",
              "    </tr>\n",
              "    <tr>\n",
              "      <th>4</th>\n",
              "      <td>Primeiro</td>\n",
              "      <td>1ª</td>\n",
              "    </tr>\n",
              "    <tr>\n",
              "      <th>9</th>\n",
              "      <td>Segundo</td>\n",
              "      <td>2º</td>\n",
              "    </tr>\n",
              "    <tr>\n",
              "      <th>16</th>\n",
              "      <td>Primeiro</td>\n",
              "      <td>1ª</td>\n",
              "    </tr>\n",
              "    <tr>\n",
              "      <th>25</th>\n",
              "      <td>Segundo</td>\n",
              "      <td>2º</td>\n",
              "    </tr>\n",
              "    <tr>\n",
              "      <th>36</th>\n",
              "      <td>Segundo</td>\n",
              "      <td>2º</td>\n",
              "    </tr>\n",
              "  </tbody>\n",
              "</table>\n",
              "</div>"
            ],
            "text/plain": [
              "     COLUNA1 COLUNA2\n",
              "0   Primeiro      1ª\n",
              "1    Segundo      2º\n",
              "4   Primeiro      1ª\n",
              "9    Segundo      2º\n",
              "16  Primeiro      1ª\n",
              "25   Segundo      2º\n",
              "36   Segundo      2º"
            ]
          },
          "metadata": {
            "tags": []
          },
          "execution_count": 31
        }
      ]
    },
    {
      "cell_type": "markdown",
      "metadata": {
        "id": "Pi89R-xplY21"
      },
      "source": [
        "#### Discretização bins"
      ]
    },
    {
      "cell_type": "code",
      "metadata": {
        "colab": {
          "base_uri": "https://localhost:8080/"
        },
        "id": "2Zhopexjzm7-",
        "outputId": "c75cae42-e276-4a79-c0a0-6d49a43de2fb"
      },
      "source": [
        "idades = np.random.randint(0, 100, size=100)\n",
        "idades.sort()\n",
        "idades"
      ],
      "execution_count": 32,
      "outputs": [
        {
          "output_type": "execute_result",
          "data": {
            "text/plain": [
              "array([ 1,  2,  3,  4,  5,  5,  5,  5,  7,  8,  8,  9, 11, 12, 12, 12, 13,\n",
              "       15, 18, 18, 18, 21, 23, 23, 24, 24, 25, 25, 25, 25, 26, 28, 32, 32,\n",
              "       35, 37, 37, 37, 39, 41, 42, 43, 43, 44, 45, 46, 48, 51, 53, 55, 56,\n",
              "       59, 59, 60, 60, 61, 62, 62, 62, 64, 64, 65, 65, 65, 69, 69, 69, 70,\n",
              "       71, 72, 72, 75, 77, 77, 77, 78, 79, 82, 83, 83, 83, 84, 84, 86, 86,\n",
              "       86, 88, 89, 90, 90, 92, 93, 94, 95, 96, 96, 96, 96, 97, 98])"
            ]
          },
          "metadata": {
            "tags": []
          },
          "execution_count": 32
        }
      ]
    },
    {
      "cell_type": "code",
      "metadata": {
        "colab": {
          "base_uri": "https://localhost:8080/"
        },
        "id": "hrCpOSUUlsSf",
        "outputId": "9fa3276d-2957-43e5-be61-c95f0d63b216"
      },
      "source": [
        "# definindo as faixas\n",
        "bins = [0, 18, 35, 65, 100]\n",
        "\n",
        "# Compartimentos criados: [(0, 18] < (18, 35] < (35, 65] < (65, 100]]\n",
        "# rigth controla o lado do compartimento que é incluído\n",
        "categorias = pd.cut(idades, bins=bins, right=True, \n",
        "                    labels=[\"Faixa de 0 a 18 anos\", \"Faixa de 19 a 35 anos\", \"Faixa de 36 a 65 anos\", \"Faixa de 66 a 100 anos\"])\n",
        "\n",
        "# parenteses representa que está incluído no range\n",
        "categorias"
      ],
      "execution_count": 33,
      "outputs": [
        {
          "output_type": "execute_result",
          "data": {
            "text/plain": [
              "['Faixa de 0 a 18 anos', 'Faixa de 0 a 18 anos', 'Faixa de 0 a 18 anos', 'Faixa de 0 a 18 anos', 'Faixa de 0 a 18 anos', ..., 'Faixa de 66 a 100 anos', 'Faixa de 66 a 100 anos', 'Faixa de 66 a 100 anos', 'Faixa de 66 a 100 anos', 'Faixa de 66 a 100 anos']\n",
              "Length: 100\n",
              "Categories (4, object): ['Faixa de 0 a 18 anos' < 'Faixa de 19 a 35 anos' < 'Faixa de 36 a 65 anos' <\n",
              "                         'Faixa de 66 a 100 anos']"
            ]
          },
          "metadata": {
            "tags": []
          },
          "execution_count": 33
        }
      ]
    },
    {
      "cell_type": "code",
      "metadata": {
        "colab": {
          "base_uri": "https://localhost:8080/"
        },
        "id": "xadFZI9cmVLt",
        "outputId": "d6efb90a-66c0-46f6-a723-923ae70d3d80"
      },
      "source": [
        "# codigo de cada categoria na sequencia das faixas\n",
        "categorias.codes"
      ],
      "execution_count": 34,
      "outputs": [
        {
          "output_type": "execute_result",
          "data": {
            "text/plain": [
              "array([0, 0, 0, 0, 0, 0, 0, 0, 0, 0, 0, 0, 0, 0, 0, 0, 0, 0, 0, 0, 0, 1,\n",
              "       1, 1, 1, 1, 1, 1, 1, 1, 1, 1, 1, 1, 1, 2, 2, 2, 2, 2, 2, 2, 2, 2,\n",
              "       2, 2, 2, 2, 2, 2, 2, 2, 2, 2, 2, 2, 2, 2, 2, 2, 2, 2, 2, 2, 3, 3,\n",
              "       3, 3, 3, 3, 3, 3, 3, 3, 3, 3, 3, 3, 3, 3, 3, 3, 3, 3, 3, 3, 3, 3,\n",
              "       3, 3, 3, 3, 3, 3, 3, 3, 3, 3, 3, 3], dtype=int8)"
            ]
          },
          "metadata": {
            "tags": []
          },
          "execution_count": 34
        }
      ]
    },
    {
      "cell_type": "code",
      "metadata": {
        "colab": {
          "base_uri": "https://localhost:8080/"
        },
        "id": "HrS1hAQ5mwFJ",
        "outputId": "d0b4d278-317c-436b-9049-500fe1329847"
      },
      "source": [
        "categorias.categories"
      ],
      "execution_count": 35,
      "outputs": [
        {
          "output_type": "execute_result",
          "data": {
            "text/plain": [
              "Index(['Faixa de 0 a 18 anos', 'Faixa de 19 a 35 anos',\n",
              "       'Faixa de 36 a 65 anos', 'Faixa de 66 a 100 anos'],\n",
              "      dtype='object')"
            ]
          },
          "metadata": {
            "tags": []
          },
          "execution_count": 35
        }
      ]
    },
    {
      "cell_type": "code",
      "metadata": {
        "colab": {
          "base_uri": "https://localhost:8080/"
        },
        "id": "bzzL1PNnm2ct",
        "outputId": "e0c75777-039b-4d58-d6d6-535cdf2e527d"
      },
      "source": [
        "# quantidade por categoria\n",
        "categorias.value_counts()"
      ],
      "execution_count": 37,
      "outputs": [
        {
          "output_type": "execute_result",
          "data": {
            "text/plain": [
              "Faixa de 0 a 18 anos      21\n",
              "Faixa de 19 a 35 anos     14\n",
              "Faixa de 36 a 65 anos     29\n",
              "Faixa de 66 a 100 anos    36\n",
              "dtype: int64"
            ]
          },
          "metadata": {
            "tags": []
          },
          "execution_count": 37
        }
      ]
    },
    {
      "cell_type": "code",
      "metadata": {
        "colab": {
          "base_uri": "https://localhost:8080/"
        },
        "id": "F1oRe01zngP4",
        "outputId": "7f7f4b90-1187-4ea7-aa7b-70d30f1bdc24"
      },
      "source": [
        "# criando compartimentos com quantidades de itens iguais, passar um valor inteiro que representa a quantidade de compartimentos\n",
        "# divide a distribuição\n",
        "\n",
        "# neste caso separa em quatro partes (quartis) com 25% dos elementos\n",
        "categorias_quartis = pd.qcut(idades, 4)\n",
        "categorias_quartis.value_counts()"
      ],
      "execution_count": 38,
      "outputs": [
        {
          "output_type": "execute_result",
          "data": {
            "text/plain": [
              "(0.999, 24.0]    26\n",
              "(24.0, 55.5]     24\n",
              "(55.5, 77.25]    25\n",
              "(77.25, 98.0]    25\n",
              "dtype: int64"
            ]
          },
          "metadata": {
            "tags": []
          },
          "execution_count": 38
        }
      ]
    },
    {
      "cell_type": "markdown",
      "metadata": {
        "id": "55JjYTHApxw6"
      },
      "source": [
        "## Filtrando outliers"
      ]
    },
    {
      "cell_type": "code",
      "metadata": {
        "colab": {
          "base_uri": "https://localhost:8080/",
          "height": 419
        },
        "id": "cRLMZUaTobDo",
        "outputId": "436a4bb1-64e1-466a-8b7e-73afa7987cb1"
      },
      "source": [
        "# dados de testes\n",
        "dados5 = pd.DataFrame(np.random.randn(1000, 4), columns=[\"Um\", \"Dois\", \"Tres\", \"Quatro\"])\n",
        "dados5"
      ],
      "execution_count": 39,
      "outputs": [
        {
          "output_type": "execute_result",
          "data": {
            "text/html": [
              "<div>\n",
              "<style scoped>\n",
              "    .dataframe tbody tr th:only-of-type {\n",
              "        vertical-align: middle;\n",
              "    }\n",
              "\n",
              "    .dataframe tbody tr th {\n",
              "        vertical-align: top;\n",
              "    }\n",
              "\n",
              "    .dataframe thead th {\n",
              "        text-align: right;\n",
              "    }\n",
              "</style>\n",
              "<table border=\"1\" class=\"dataframe\">\n",
              "  <thead>\n",
              "    <tr style=\"text-align: right;\">\n",
              "      <th></th>\n",
              "      <th>Um</th>\n",
              "      <th>Dois</th>\n",
              "      <th>Tres</th>\n",
              "      <th>Quatro</th>\n",
              "    </tr>\n",
              "  </thead>\n",
              "  <tbody>\n",
              "    <tr>\n",
              "      <th>0</th>\n",
              "      <td>0.332883</td>\n",
              "      <td>-1.596719</td>\n",
              "      <td>-0.708593</td>\n",
              "      <td>1.544770</td>\n",
              "    </tr>\n",
              "    <tr>\n",
              "      <th>1</th>\n",
              "      <td>-0.288232</td>\n",
              "      <td>-1.857159</td>\n",
              "      <td>1.217502</td>\n",
              "      <td>1.403172</td>\n",
              "    </tr>\n",
              "    <tr>\n",
              "      <th>2</th>\n",
              "      <td>0.718054</td>\n",
              "      <td>0.067005</td>\n",
              "      <td>0.862797</td>\n",
              "      <td>-0.955341</td>\n",
              "    </tr>\n",
              "    <tr>\n",
              "      <th>3</th>\n",
              "      <td>0.042841</td>\n",
              "      <td>0.326556</td>\n",
              "      <td>-0.859770</td>\n",
              "      <td>-0.787531</td>\n",
              "    </tr>\n",
              "    <tr>\n",
              "      <th>4</th>\n",
              "      <td>-0.100442</td>\n",
              "      <td>-0.622144</td>\n",
              "      <td>0.958238</td>\n",
              "      <td>0.794095</td>\n",
              "    </tr>\n",
              "    <tr>\n",
              "      <th>...</th>\n",
              "      <td>...</td>\n",
              "      <td>...</td>\n",
              "      <td>...</td>\n",
              "      <td>...</td>\n",
              "    </tr>\n",
              "    <tr>\n",
              "      <th>995</th>\n",
              "      <td>-1.243393</td>\n",
              "      <td>-0.387105</td>\n",
              "      <td>-0.659995</td>\n",
              "      <td>1.172514</td>\n",
              "    </tr>\n",
              "    <tr>\n",
              "      <th>996</th>\n",
              "      <td>-1.249906</td>\n",
              "      <td>1.769541</td>\n",
              "      <td>1.519160</td>\n",
              "      <td>-0.140340</td>\n",
              "    </tr>\n",
              "    <tr>\n",
              "      <th>997</th>\n",
              "      <td>1.656912</td>\n",
              "      <td>0.006151</td>\n",
              "      <td>-0.500004</td>\n",
              "      <td>-1.310766</td>\n",
              "    </tr>\n",
              "    <tr>\n",
              "      <th>998</th>\n",
              "      <td>-0.832910</td>\n",
              "      <td>-0.055174</td>\n",
              "      <td>-1.444944</td>\n",
              "      <td>0.944028</td>\n",
              "    </tr>\n",
              "    <tr>\n",
              "      <th>999</th>\n",
              "      <td>0.064720</td>\n",
              "      <td>-0.441021</td>\n",
              "      <td>-0.595338</td>\n",
              "      <td>1.308789</td>\n",
              "    </tr>\n",
              "  </tbody>\n",
              "</table>\n",
              "<p>1000 rows × 4 columns</p>\n",
              "</div>"
            ],
            "text/plain": [
              "           Um      Dois      Tres    Quatro\n",
              "0    0.332883 -1.596719 -0.708593  1.544770\n",
              "1   -0.288232 -1.857159  1.217502  1.403172\n",
              "2    0.718054  0.067005  0.862797 -0.955341\n",
              "3    0.042841  0.326556 -0.859770 -0.787531\n",
              "4   -0.100442 -0.622144  0.958238  0.794095\n",
              "..        ...       ...       ...       ...\n",
              "995 -1.243393 -0.387105 -0.659995  1.172514\n",
              "996 -1.249906  1.769541  1.519160 -0.140340\n",
              "997  1.656912  0.006151 -0.500004 -1.310766\n",
              "998 -0.832910 -0.055174 -1.444944  0.944028\n",
              "999  0.064720 -0.441021 -0.595338  1.308789\n",
              "\n",
              "[1000 rows x 4 columns]"
            ]
          },
          "metadata": {
            "tags": []
          },
          "execution_count": 39
        }
      ]
    },
    {
      "cell_type": "code",
      "metadata": {
        "colab": {
          "base_uri": "https://localhost:8080/",
          "height": 173
        },
        "id": "oKSGzI0xp6aD",
        "outputId": "5a5c0293-8f6e-49e5-ee74-29027bf72c22"
      },
      "source": [
        "# exibe estatíticas que ajudam a identificar se existem dados muito fora da distribuição\n",
        "# por exemplo muito acima da média, ou abaixo\n",
        "dados5.describe().T"
      ],
      "execution_count": 40,
      "outputs": [
        {
          "output_type": "execute_result",
          "data": {
            "text/html": [
              "<div>\n",
              "<style scoped>\n",
              "    .dataframe tbody tr th:only-of-type {\n",
              "        vertical-align: middle;\n",
              "    }\n",
              "\n",
              "    .dataframe tbody tr th {\n",
              "        vertical-align: top;\n",
              "    }\n",
              "\n",
              "    .dataframe thead th {\n",
              "        text-align: right;\n",
              "    }\n",
              "</style>\n",
              "<table border=\"1\" class=\"dataframe\">\n",
              "  <thead>\n",
              "    <tr style=\"text-align: right;\">\n",
              "      <th></th>\n",
              "      <th>count</th>\n",
              "      <th>mean</th>\n",
              "      <th>std</th>\n",
              "      <th>min</th>\n",
              "      <th>25%</th>\n",
              "      <th>50%</th>\n",
              "      <th>75%</th>\n",
              "      <th>max</th>\n",
              "    </tr>\n",
              "  </thead>\n",
              "  <tbody>\n",
              "    <tr>\n",
              "      <th>Um</th>\n",
              "      <td>1000.0</td>\n",
              "      <td>-0.033069</td>\n",
              "      <td>0.989949</td>\n",
              "      <td>-3.187784</td>\n",
              "      <td>-0.669611</td>\n",
              "      <td>-0.018139</td>\n",
              "      <td>0.635164</td>\n",
              "      <td>3.513777</td>\n",
              "    </tr>\n",
              "    <tr>\n",
              "      <th>Dois</th>\n",
              "      <td>1000.0</td>\n",
              "      <td>0.001834</td>\n",
              "      <td>1.006886</td>\n",
              "      <td>-2.934568</td>\n",
              "      <td>-0.653901</td>\n",
              "      <td>-0.025089</td>\n",
              "      <td>0.670842</td>\n",
              "      <td>3.389123</td>\n",
              "    </tr>\n",
              "    <tr>\n",
              "      <th>Tres</th>\n",
              "      <td>1000.0</td>\n",
              "      <td>-0.034493</td>\n",
              "      <td>0.997871</td>\n",
              "      <td>-3.812984</td>\n",
              "      <td>-0.679426</td>\n",
              "      <td>-0.075966</td>\n",
              "      <td>0.664632</td>\n",
              "      <td>2.718222</td>\n",
              "    </tr>\n",
              "    <tr>\n",
              "      <th>Quatro</th>\n",
              "      <td>1000.0</td>\n",
              "      <td>0.018250</td>\n",
              "      <td>0.985691</td>\n",
              "      <td>-2.695522</td>\n",
              "      <td>-0.657990</td>\n",
              "      <td>0.013495</td>\n",
              "      <td>0.692102</td>\n",
              "      <td>3.363466</td>\n",
              "    </tr>\n",
              "  </tbody>\n",
              "</table>\n",
              "</div>"
            ],
            "text/plain": [
              "         count      mean       std  ...       50%       75%       max\n",
              "Um      1000.0 -0.033069  0.989949  ... -0.018139  0.635164  3.513777\n",
              "Dois    1000.0  0.001834  1.006886  ... -0.025089  0.670842  3.389123\n",
              "Tres    1000.0 -0.034493  0.997871  ... -0.075966  0.664632  2.718222\n",
              "Quatro  1000.0  0.018250  0.985691  ...  0.013495  0.692102  3.363466\n",
              "\n",
              "[4 rows x 8 columns]"
            ]
          },
          "metadata": {
            "tags": []
          },
          "execution_count": 40
        }
      ]
    },
    {
      "cell_type": "code",
      "metadata": {
        "colab": {
          "base_uri": "https://localhost:8080/"
        },
        "id": "PD4QBs-bqTSn",
        "outputId": "8b318e0f-379e-424e-80c4-dfe753479395"
      },
      "source": [
        "# Identifica as colunas que tem valores nulos\n",
        "dados5.info()"
      ],
      "execution_count": 41,
      "outputs": [
        {
          "output_type": "stream",
          "text": [
            "<class 'pandas.core.frame.DataFrame'>\n",
            "RangeIndex: 1000 entries, 0 to 999\n",
            "Data columns (total 4 columns):\n",
            " #   Column  Non-Null Count  Dtype  \n",
            "---  ------  --------------  -----  \n",
            " 0   Um      1000 non-null   float64\n",
            " 1   Dois    1000 non-null   float64\n",
            " 2   Tres    1000 non-null   float64\n",
            " 3   Quatro  1000 non-null   float64\n",
            "dtypes: float64(4)\n",
            "memory usage: 31.4 KB\n"
          ],
          "name": "stdout"
        }
      ]
    },
    {
      "cell_type": "code",
      "metadata": {
        "colab": {
          "base_uri": "https://localhost:8080/",
          "height": 419
        },
        "id": "OKp25ktO8Nny",
        "outputId": "4b6ca86b-0a80-4b84-e992-636e9199d97c"
      },
      "source": [
        "# filtrando dados nulos\n",
        "dados5.dropna(axis=0, how=\"all\")"
      ],
      "execution_count": 42,
      "outputs": [
        {
          "output_type": "execute_result",
          "data": {
            "text/html": [
              "<div>\n",
              "<style scoped>\n",
              "    .dataframe tbody tr th:only-of-type {\n",
              "        vertical-align: middle;\n",
              "    }\n",
              "\n",
              "    .dataframe tbody tr th {\n",
              "        vertical-align: top;\n",
              "    }\n",
              "\n",
              "    .dataframe thead th {\n",
              "        text-align: right;\n",
              "    }\n",
              "</style>\n",
              "<table border=\"1\" class=\"dataframe\">\n",
              "  <thead>\n",
              "    <tr style=\"text-align: right;\">\n",
              "      <th></th>\n",
              "      <th>Um</th>\n",
              "      <th>Dois</th>\n",
              "      <th>Tres</th>\n",
              "      <th>Quatro</th>\n",
              "    </tr>\n",
              "  </thead>\n",
              "  <tbody>\n",
              "    <tr>\n",
              "      <th>0</th>\n",
              "      <td>0.332883</td>\n",
              "      <td>-1.596719</td>\n",
              "      <td>-0.708593</td>\n",
              "      <td>1.544770</td>\n",
              "    </tr>\n",
              "    <tr>\n",
              "      <th>1</th>\n",
              "      <td>-0.288232</td>\n",
              "      <td>-1.857159</td>\n",
              "      <td>1.217502</td>\n",
              "      <td>1.403172</td>\n",
              "    </tr>\n",
              "    <tr>\n",
              "      <th>2</th>\n",
              "      <td>0.718054</td>\n",
              "      <td>0.067005</td>\n",
              "      <td>0.862797</td>\n",
              "      <td>-0.955341</td>\n",
              "    </tr>\n",
              "    <tr>\n",
              "      <th>3</th>\n",
              "      <td>0.042841</td>\n",
              "      <td>0.326556</td>\n",
              "      <td>-0.859770</td>\n",
              "      <td>-0.787531</td>\n",
              "    </tr>\n",
              "    <tr>\n",
              "      <th>4</th>\n",
              "      <td>-0.100442</td>\n",
              "      <td>-0.622144</td>\n",
              "      <td>0.958238</td>\n",
              "      <td>0.794095</td>\n",
              "    </tr>\n",
              "    <tr>\n",
              "      <th>...</th>\n",
              "      <td>...</td>\n",
              "      <td>...</td>\n",
              "      <td>...</td>\n",
              "      <td>...</td>\n",
              "    </tr>\n",
              "    <tr>\n",
              "      <th>995</th>\n",
              "      <td>-1.243393</td>\n",
              "      <td>-0.387105</td>\n",
              "      <td>-0.659995</td>\n",
              "      <td>1.172514</td>\n",
              "    </tr>\n",
              "    <tr>\n",
              "      <th>996</th>\n",
              "      <td>-1.249906</td>\n",
              "      <td>1.769541</td>\n",
              "      <td>1.519160</td>\n",
              "      <td>-0.140340</td>\n",
              "    </tr>\n",
              "    <tr>\n",
              "      <th>997</th>\n",
              "      <td>1.656912</td>\n",
              "      <td>0.006151</td>\n",
              "      <td>-0.500004</td>\n",
              "      <td>-1.310766</td>\n",
              "    </tr>\n",
              "    <tr>\n",
              "      <th>998</th>\n",
              "      <td>-0.832910</td>\n",
              "      <td>-0.055174</td>\n",
              "      <td>-1.444944</td>\n",
              "      <td>0.944028</td>\n",
              "    </tr>\n",
              "    <tr>\n",
              "      <th>999</th>\n",
              "      <td>0.064720</td>\n",
              "      <td>-0.441021</td>\n",
              "      <td>-0.595338</td>\n",
              "      <td>1.308789</td>\n",
              "    </tr>\n",
              "  </tbody>\n",
              "</table>\n",
              "<p>1000 rows × 4 columns</p>\n",
              "</div>"
            ],
            "text/plain": [
              "           Um      Dois      Tres    Quatro\n",
              "0    0.332883 -1.596719 -0.708593  1.544770\n",
              "1   -0.288232 -1.857159  1.217502  1.403172\n",
              "2    0.718054  0.067005  0.862797 -0.955341\n",
              "3    0.042841  0.326556 -0.859770 -0.787531\n",
              "4   -0.100442 -0.622144  0.958238  0.794095\n",
              "..        ...       ...       ...       ...\n",
              "995 -1.243393 -0.387105 -0.659995  1.172514\n",
              "996 -1.249906  1.769541  1.519160 -0.140340\n",
              "997  1.656912  0.006151 -0.500004 -1.310766\n",
              "998 -0.832910 -0.055174 -1.444944  0.944028\n",
              "999  0.064720 -0.441021 -0.595338  1.308789\n",
              "\n",
              "[1000 rows x 4 columns]"
            ]
          },
          "metadata": {
            "tags": []
          },
          "execution_count": 42
        }
      ]
    },
    {
      "cell_type": "code",
      "metadata": {
        "colab": {
          "base_uri": "https://localhost:8080/",
          "height": 173
        },
        "id": "VrLZcgzOq33v",
        "outputId": "6878a0c4-51a2-4c9b-a939-0536079fe730"
      },
      "source": [
        "# filtrando valores acima de 3 e abaixo de -3 (corte)\n",
        "dados5[np.abs(dados5) < 3].describe().T"
      ],
      "execution_count": 43,
      "outputs": [
        {
          "output_type": "execute_result",
          "data": {
            "text/html": [
              "<div>\n",
              "<style scoped>\n",
              "    .dataframe tbody tr th:only-of-type {\n",
              "        vertical-align: middle;\n",
              "    }\n",
              "\n",
              "    .dataframe tbody tr th {\n",
              "        vertical-align: top;\n",
              "    }\n",
              "\n",
              "    .dataframe thead th {\n",
              "        text-align: right;\n",
              "    }\n",
              "</style>\n",
              "<table border=\"1\" class=\"dataframe\">\n",
              "  <thead>\n",
              "    <tr style=\"text-align: right;\">\n",
              "      <th></th>\n",
              "      <th>count</th>\n",
              "      <th>mean</th>\n",
              "      <th>std</th>\n",
              "      <th>min</th>\n",
              "      <th>25%</th>\n",
              "      <th>50%</th>\n",
              "      <th>75%</th>\n",
              "      <th>max</th>\n",
              "    </tr>\n",
              "  </thead>\n",
              "  <tbody>\n",
              "    <tr>\n",
              "      <th>Um</th>\n",
              "      <td>997.0</td>\n",
              "      <td>-0.030434</td>\n",
              "      <td>0.975279</td>\n",
              "      <td>-2.900738</td>\n",
              "      <td>-0.664425</td>\n",
              "      <td>-0.018020</td>\n",
              "      <td>0.635139</td>\n",
              "      <td>2.963221</td>\n",
              "    </tr>\n",
              "    <tr>\n",
              "      <th>Dois</th>\n",
              "      <td>997.0</td>\n",
              "      <td>-0.007897</td>\n",
              "      <td>0.992592</td>\n",
              "      <td>-2.934568</td>\n",
              "      <td>-0.654779</td>\n",
              "      <td>-0.027631</td>\n",
              "      <td>0.668588</td>\n",
              "      <td>2.925225</td>\n",
              "    </tr>\n",
              "    <tr>\n",
              "      <th>Tres</th>\n",
              "      <td>997.0</td>\n",
              "      <td>-0.023983</td>\n",
              "      <td>0.980615</td>\n",
              "      <td>-2.848962</td>\n",
              "      <td>-0.676430</td>\n",
              "      <td>-0.074842</td>\n",
              "      <td>0.669622</td>\n",
              "      <td>2.718222</td>\n",
              "    </tr>\n",
              "    <tr>\n",
              "      <th>Quatro</th>\n",
              "      <td>997.0</td>\n",
              "      <td>0.008382</td>\n",
              "      <td>0.970576</td>\n",
              "      <td>-2.695522</td>\n",
              "      <td>-0.658604</td>\n",
              "      <td>0.007275</td>\n",
              "      <td>0.689393</td>\n",
              "      <td>2.970426</td>\n",
              "    </tr>\n",
              "  </tbody>\n",
              "</table>\n",
              "</div>"
            ],
            "text/plain": [
              "        count      mean       std  ...       50%       75%       max\n",
              "Um      997.0 -0.030434  0.975279  ... -0.018020  0.635139  2.963221\n",
              "Dois    997.0 -0.007897  0.992592  ... -0.027631  0.668588  2.925225\n",
              "Tres    997.0 -0.023983  0.980615  ... -0.074842  0.669622  2.718222\n",
              "Quatro  997.0  0.008382  0.970576  ...  0.007275  0.689393  2.970426\n",
              "\n",
              "[4 rows x 8 columns]"
            ]
          },
          "metadata": {
            "tags": []
          },
          "execution_count": 43
        }
      ]
    },
    {
      "cell_type": "code",
      "metadata": {
        "colab": {
          "base_uri": "https://localhost:8080/",
          "height": 421
        },
        "id": "GprtMlwfrvrd",
        "outputId": "9cbc44c9-f098-44d0-8519-51b3b42c70b9"
      },
      "source": [
        "# somente os registros que estão acima de 3 e abaixo de 3. São as 11 linhas removidas na filtragem anterior\n",
        "dados5[(np.abs(dados5) > 3).any(1)]"
      ],
      "execution_count": 45,
      "outputs": [
        {
          "output_type": "execute_result",
          "data": {
            "text/html": [
              "<div>\n",
              "<style scoped>\n",
              "    .dataframe tbody tr th:only-of-type {\n",
              "        vertical-align: middle;\n",
              "    }\n",
              "\n",
              "    .dataframe tbody tr th {\n",
              "        vertical-align: top;\n",
              "    }\n",
              "\n",
              "    .dataframe thead th {\n",
              "        text-align: right;\n",
              "    }\n",
              "</style>\n",
              "<table border=\"1\" class=\"dataframe\">\n",
              "  <thead>\n",
              "    <tr style=\"text-align: right;\">\n",
              "      <th></th>\n",
              "      <th>Um</th>\n",
              "      <th>Dois</th>\n",
              "      <th>Tres</th>\n",
              "      <th>Quatro</th>\n",
              "    </tr>\n",
              "  </thead>\n",
              "  <tbody>\n",
              "    <tr>\n",
              "      <th>166</th>\n",
              "      <td>0.210226</td>\n",
              "      <td>3.216770</td>\n",
              "      <td>-0.912121</td>\n",
              "      <td>-0.907541</td>\n",
              "    </tr>\n",
              "    <tr>\n",
              "      <th>257</th>\n",
              "      <td>-0.958620</td>\n",
              "      <td>0.267005</td>\n",
              "      <td>-3.105453</td>\n",
              "      <td>1.257237</td>\n",
              "    </tr>\n",
              "    <tr>\n",
              "      <th>353</th>\n",
              "      <td>-0.946487</td>\n",
              "      <td>3.100805</td>\n",
              "      <td>-1.320509</td>\n",
              "      <td>1.720393</td>\n",
              "    </tr>\n",
              "    <tr>\n",
              "      <th>369</th>\n",
              "      <td>0.552412</td>\n",
              "      <td>-1.451778</td>\n",
              "      <td>-3.812984</td>\n",
              "      <td>-0.461761</td>\n",
              "    </tr>\n",
              "    <tr>\n",
              "      <th>431</th>\n",
              "      <td>3.513777</td>\n",
              "      <td>1.923768</td>\n",
              "      <td>-0.667283</td>\n",
              "      <td>-0.262455</td>\n",
              "    </tr>\n",
              "    <tr>\n",
              "      <th>584</th>\n",
              "      <td>0.037474</td>\n",
              "      <td>0.601002</td>\n",
              "      <td>0.803782</td>\n",
              "      <td>3.363466</td>\n",
              "    </tr>\n",
              "    <tr>\n",
              "      <th>646</th>\n",
              "      <td>-3.051999</td>\n",
              "      <td>-1.828086</td>\n",
              "      <td>-0.349763</td>\n",
              "      <td>0.285649</td>\n",
              "    </tr>\n",
              "    <tr>\n",
              "      <th>790</th>\n",
              "      <td>-3.187784</td>\n",
              "      <td>-2.052495</td>\n",
              "      <td>-0.676430</td>\n",
              "      <td>0.372812</td>\n",
              "    </tr>\n",
              "    <tr>\n",
              "      <th>828</th>\n",
              "      <td>1.350441</td>\n",
              "      <td>-0.949437</td>\n",
              "      <td>-3.664025</td>\n",
              "      <td>2.046295</td>\n",
              "    </tr>\n",
              "    <tr>\n",
              "      <th>843</th>\n",
              "      <td>-0.070477</td>\n",
              "      <td>-0.175003</td>\n",
              "      <td>1.122770</td>\n",
              "      <td>3.278531</td>\n",
              "    </tr>\n",
              "    <tr>\n",
              "      <th>930</th>\n",
              "      <td>-0.025481</td>\n",
              "      <td>1.434030</td>\n",
              "      <td>-0.170217</td>\n",
              "      <td>3.250855</td>\n",
              "    </tr>\n",
              "    <tr>\n",
              "      <th>953</th>\n",
              "      <td>-0.020040</td>\n",
              "      <td>3.389123</td>\n",
              "      <td>1.302207</td>\n",
              "      <td>-0.440508</td>\n",
              "    </tr>\n",
              "  </tbody>\n",
              "</table>\n",
              "</div>"
            ],
            "text/plain": [
              "           Um      Dois      Tres    Quatro\n",
              "166  0.210226  3.216770 -0.912121 -0.907541\n",
              "257 -0.958620  0.267005 -3.105453  1.257237\n",
              "353 -0.946487  3.100805 -1.320509  1.720393\n",
              "369  0.552412 -1.451778 -3.812984 -0.461761\n",
              "431  3.513777  1.923768 -0.667283 -0.262455\n",
              "584  0.037474  0.601002  0.803782  3.363466\n",
              "646 -3.051999 -1.828086 -0.349763  0.285649\n",
              "790 -3.187784 -2.052495 -0.676430  0.372812\n",
              "828  1.350441 -0.949437 -3.664025  2.046295\n",
              "843 -0.070477 -0.175003  1.122770  3.278531\n",
              "930 -0.025481  1.434030 -0.170217  3.250855\n",
              "953 -0.020040  3.389123  1.302207 -0.440508"
            ]
          },
          "metadata": {
            "tags": []
          },
          "execution_count": 45
        }
      ]
    },
    {
      "cell_type": "markdown",
      "metadata": {
        "id": "WnWs3Gx2t8a9"
      },
      "source": [
        "### Amostra aleatória"
      ]
    },
    {
      "cell_type": "code",
      "metadata": {
        "id": "XU1c4cyOteRp"
      },
      "source": [
        "# reordenar aleatoriamente as linhas de um df\n"
      ],
      "execution_count": null,
      "outputs": []
    }
  ]
}