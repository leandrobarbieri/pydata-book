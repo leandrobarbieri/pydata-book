{
 "cells": [
  {
   "cell_type": "markdown",
   "metadata": {
    "colab_type": "text",
    "id": "view-in-github"
   },
   "source": [
    "<a href=\"https://colab.research.google.com/github/leandrobarbieri/pydata-book/blob/2nd-edition/Pandas.ipynb\" target=\"_parent\"><img src=\"https://colab.research.google.com/assets/colab-badge.svg\" alt=\"Open In Colab\"/></a>"
   ]
  },
  {
   "cell_type": "markdown",
   "metadata": {
    "id": "MNoyLFA2JjOE"
   },
   "source": [
    "# Pandas"
   ]
  },
  {
   "cell_type": "code",
   "execution_count": 376,
   "metadata": {
    "id": "HHBRVc7NEnD6"
   },
   "outputs": [],
   "source": [
    "# Importando os pacotes/modulos do pandas\n",
    "import pandas as pd\n",
    "from pandas import Series, DataFrame\n",
    "import numpy as np\n",
    "import matplotlib.pyplot as plt\n",
    "\n",
    "# Configurações inicias das bibliotecas\n",
    "np.random.seed(1234)\n",
    "plt.rc('figure', figsize=(10, 6))\n",
    "\n",
    "# salva a quantidade original de linhas exibidas\n",
    "PREVIOUS_MAX_ROWS = pd.options.display.max_rows\n",
    "\n",
    "# set a nova quantidade de itens máximo exibidos ao dar um display em um dataframe, usar ... para representar os itens intermediarios\n",
    "pd.options.display.max_rows = 20\n",
    "\n",
    "# set o formato de apresentação\n",
    "np.set_printoptions(precision=4, suppress=True)\n"
   ]
  },
  {
   "cell_type": "markdown",
   "metadata": {
    "id": "2iqtgZb5Jc70"
   },
   "source": [
    "## Series"
   ]
  },
  {
   "cell_type": "markdown",
   "metadata": {
    "id": "HWzodXMAiCNT"
   },
   "source": [
    "### index e values"
   ]
  },
  {
   "cell_type": "code",
   "execution_count": 377,
   "metadata": {
    "colab": {
     "base_uri": "https://localhost:8080/"
    },
    "id": "NykuDnEkG3JF",
    "outputId": "98ae7f4b-a29f-4914-956b-f566366973c9"
   },
   "outputs": [
    {
     "name": "stdout",
     "output_type": "stream",
     "text": [
      "0    4\n",
      "1    5\n",
      "2    6\n",
      "3   -2\n",
      "4    2\n",
      "dtype: int64\n",
      "\n",
      "Tipo: <class 'pandas.core.indexes.range.RangeIndex'>\n",
      "\n",
      "Somente o index: [0, 1, 2, 3, 4]\n",
      "\n",
      "Somente o index: [0 1 2 3 4]\n",
      "\n"
     ]
    }
   ],
   "source": [
    "# Series do pandas é como um array numpy com um indice que pode conter labels\n",
    "serie1 = pd.Series([4, 5, 6, -2, 2])\n",
    "\n",
    "# atribui um indice automaticamente\n",
    "print(f\"{serie1}\\n\")\n",
    "\n",
    "# index é um obj do tipo range com inicio, fim, step\n",
    "print(f\"Tipo: {type(serie1.index)}\\n\")\n",
    "\n",
    "index = [x for x in serie1.index]\n",
    "print(f\"Somente o index: {index}\\n\")\n",
    "print(f\"Somente o index: {serie1.index.values}\\n\")"
   ]
  },
  {
   "cell_type": "code",
   "execution_count": 378,
   "metadata": {
    "colab": {
     "base_uri": "https://localhost:8080/"
    },
    "id": "gQhN-au_J4_M",
    "outputId": "f66e87f1-8fac-4bde-d411-fdce83a75929"
   },
   "outputs": [
    {
     "name": "stdout",
     "output_type": "stream",
     "text": [
      "Labels como índice:\n",
      "a    1\n",
      "b    2\n",
      "c    4\n",
      "d    5\n",
      "dtype: int64\n",
      "\n",
      "Indice: Index(['a', 'b', 'c', 'd'], dtype='object') \n",
      "Valores: [1 2 4 5]\n"
     ]
    }
   ],
   "source": [
    "# definindo lables para o indice\n",
    "serie2 = pd.Series(data=[1, 2, 4, 5], index=[\"a\", \"b\", \"c\", \"d\"])\n",
    "print(f\"Labels como índice:\\n{serie2}\\n\")\n",
    "print(f\"Indice: {serie2.index} \\nValores: {serie2.values}\")"
   ]
  },
  {
   "cell_type": "markdown",
   "metadata": {
    "id": "FTTIQutniJEy"
   },
   "source": [
    "### slice e atribuição"
   ]
  },
  {
   "cell_type": "code",
   "execution_count": 379,
   "metadata": {
    "colab": {
     "base_uri": "https://localhost:8080/"
    },
    "id": "Hqe3Gp_HQtx8",
    "outputId": "ca7f0ada-3213-478c-b4a3-3433ecef1ec3"
   },
   "outputs": [
    {
     "data": {
      "text/plain": [
       "1"
      ]
     },
     "execution_count": 379,
     "metadata": {
      "tags": []
     },
     "output_type": "execute_result"
    }
   ],
   "source": [
    "# um item específico\n",
    "serie2[\"a\"]"
   ]
  },
  {
   "cell_type": "code",
   "execution_count": 380,
   "metadata": {
    "colab": {
     "base_uri": "https://localhost:8080/"
    },
    "id": "KFR6vXaCRZYW",
    "outputId": "027d37d1-be19-4375-9828-3650623d7464"
   },
   "outputs": [
    {
     "data": {
      "text/plain": [
       "a    1\n",
       "b    2\n",
       "c    4\n",
       "dtype: int64"
      ]
     },
     "execution_count": 380,
     "metadata": {
      "tags": []
     },
     "output_type": "execute_result"
    }
   ],
   "source": [
    "# um range de itens. Limite superior incluido (diferente de indices numpy)\n",
    "serie2[\"a\":\"c\"]"
   ]
  },
  {
   "cell_type": "code",
   "execution_count": 381,
   "metadata": {
    "colab": {
     "base_uri": "https://localhost:8080/"
    },
    "id": "-75Ls6u3Rihi",
    "outputId": "4c2ba495-7950-428d-9351-6fdb264d074b"
   },
   "outputs": [
    {
     "data": {
      "text/plain": [
       "b    2\n",
       "d    5\n",
       "c    4\n",
       "dtype: int64"
      ]
     },
     "execution_count": 381,
     "metadata": {
      "tags": []
     },
     "output_type": "execute_result"
    }
   ],
   "source": [
    "# itens específicos em ordem específica\n",
    "serie2[[\"b\", \"d\", \"c\"]]"
   ]
  },
  {
   "cell_type": "code",
   "execution_count": 382,
   "metadata": {
    "colab": {
     "base_uri": "https://localhost:8080/"
    },
    "id": "6NCwTl84SX0X",
    "outputId": "8395aee5-5373-4eff-ccae-4bddfc7420fc"
   },
   "outputs": [
    {
     "name": "stdout",
     "output_type": "stream",
     "text": [
      "a      1\n",
      "b    999\n",
      "c      4\n",
      "d    999\n",
      "dtype: int64\n"
     ]
    }
   ],
   "source": [
    "# atribuir valores\n",
    "serie2[[\"d\", \"b\"]] = 999\n",
    "print(serie2)"
   ]
  },
  {
   "cell_type": "code",
   "execution_count": 383,
   "metadata": {
    "colab": {
     "base_uri": "https://localhost:8080/"
    },
    "id": "lMDQFl2eSpFJ",
    "outputId": "d3bb8973-f966-46a7-ab99-83210e610c34"
   },
   "outputs": [
    {
     "data": {
      "text/plain": [
       "a    1\n",
       "c    4\n",
       "dtype: int64"
      ]
     },
     "execution_count": 383,
     "metadata": {
      "tags": []
     },
     "output_type": "execute_result"
    }
   ],
   "source": [
    "# operações logicas nas series retornam resultados fitrados\n",
    "serie_nova = serie2[serie2 < 10]\n",
    "serie_nova"
   ]
  },
  {
   "cell_type": "code",
   "execution_count": 384,
   "metadata": {
    "colab": {
     "base_uri": "https://localhost:8080/"
    },
    "id": "20NZ8HIHTEra",
    "outputId": "01e4951f-b9e2-4be3-f1d9-286f5d9acc7e"
   },
   "outputs": [
    {
     "data": {
      "text/plain": [
       "a    2\n",
       "c    8\n",
       "dtype: int64"
      ]
     },
     "execution_count": 384,
     "metadata": {
      "tags": []
     },
     "output_type": "execute_result"
    }
   ],
   "source": [
    "# operação vetorizada\n",
    "serie_nova * 2"
   ]
  },
  {
   "cell_type": "code",
   "execution_count": 385,
   "metadata": {
    "colab": {
     "base_uri": "https://localhost:8080/"
    },
    "id": "o5fUoo81THJ5",
    "outputId": "2355546a-be4a-4f06-fb5b-2b7e7ffba0ac"
   },
   "outputs": [
    {
     "name": "stdout",
     "output_type": "stream",
     "text": [
      "a in serie2: True\n",
      "1 in serie2: [True]\n",
      "serie2['a']: 1\n",
      "serie2[serie2.index == 'a']: a    1\n",
      "dtype: int64\n"
     ]
    }
   ],
   "source": [
    "# verificar se um item está na serie (index)\n",
    "\n",
    "# Retorna True/false\n",
    "print(f\"a in serie2: {'a' in serie2}\")\n",
    "\n",
    "# Retorna True/false\n",
    "print(f\"1 in serie2: {[True for valor in serie2 if valor == 1]}\")\n",
    "\n",
    "# Retona o elemento\n",
    "print(f\"serie2['a']: {serie2['a']}\")\n",
    "\n",
    "# Retona chave/valor\n",
    "print(f\"serie2[serie2.index == 'a']: {serie2[serie2.index == 'a']}\")"
   ]
  },
  {
   "cell_type": "markdown",
   "metadata": {
    "id": "0ACKbCvciX4K"
   },
   "source": [
    "### pareamento a partir do index"
   ]
  },
  {
   "cell_type": "code",
   "execution_count": 386,
   "metadata": {
    "colab": {
     "base_uri": "https://localhost:8080/"
    },
    "id": "CntXcYQcTZ_7",
    "outputId": "6a4ee9a1-5aa8-4249-a460-1bc54b545b07"
   },
   "outputs": [
    {
     "name": "stdout",
     "output_type": "stream",
     "text": [
      "serie3:\n",
      "Sao Paulo         45000\n",
      "Rio de Janeiro    50141\n",
      "Espirito Santo    30914\n",
      "dtype: int64\n",
      "\n",
      "index:\n",
      "Index(['Sao Paulo', 'Rio de Janeiro', 'Espirito Santo'], dtype='object')\n",
      "\n",
      "values:\n",
      "[45000 50141 30914]\n",
      "\n"
     ]
    }
   ],
   "source": [
    "# Criar uma serie a partir de um dict\n",
    "estados_dict = {\"Sao Paulo\": 45000, \"Rio de Janeiro\": 50141, \"Espirito Santo\": 30914}\n",
    "\n",
    "# os estados são transformados em index e os valores e values\n",
    "serie3 = pd.Series(estados_dict)\n",
    "\n",
    "print(f\"serie3:\\n{serie3}\\n\")\n",
    "print(f\"index:\\n{serie3.index}\\n\")\n",
    "print(f\"values:\\n{serie3.values}\\n\")\n"
   ]
  },
  {
   "cell_type": "code",
   "execution_count": 387,
   "metadata": {
    "colab": {
     "base_uri": "https://localhost:8080/"
    },
    "id": "C4GxcGFzaW8q",
    "outputId": "41e2ce19-a0ef-499b-dccf-18f685177fd7"
   },
   "outputs": [
    {
     "data": {
      "text/plain": [
       "Sao Paulo         45000\n",
       "Rio de Janeiro    50141\n",
       "dtype: int64"
      ]
     },
     "execution_count": 387,
     "metadata": {
      "tags": []
     },
     "output_type": "execute_result"
    }
   ],
   "source": [
    "# definindo a propria lista de index. \n",
    "\n",
    "# A lista tem apenas 2 estados, ES ficou de fora \n",
    "estados_index = [\"Sao Paulo\", \"Rio de Janeiro\"]\n",
    "\n",
    "# apesar dos dados terem o ES, ele não aparece porque foi definido apenas SP e RJ na lista de indices\n",
    "serie4 = pd.Series(estados_dict, index=estados_index)\n",
    "serie4"
   ]
  },
  {
   "cell_type": "code",
   "execution_count": 388,
   "metadata": {
    "colab": {
     "base_uri": "https://localhost:8080/"
    },
    "id": "d1hD8-ymbvqd",
    "outputId": "b6d37ab5-e9e8-4a5a-b891-d9f63dbd4dba"
   },
   "outputs": [
    {
     "data": {
      "text/plain": [
       "Sao Paulo         45000.0\n",
       "Rio de Janeiro    50141.0\n",
       "Novo Estado           NaN\n",
       "dtype: float64"
      ]
     },
     "execution_count": 388,
     "metadata": {
      "tags": []
     },
     "output_type": "execute_result"
    }
   ],
   "source": [
    "# se um index não existir na serie de dados, será preenchido com NaN\n",
    "# É como se um left join entre os indices informados no parametro index de series e os indices preexistentes na serie de dados\n",
    "serie5 = pd.Series(data=estados_dict, index=[\"Sao Paulo\", \"Rio de Janeiro\", \"Novo Estado\"])\n",
    "serie5"
   ]
  },
  {
   "cell_type": "code",
   "execution_count": 389,
   "metadata": {
    "colab": {
     "base_uri": "https://localhost:8080/"
    },
    "id": "rrrq4_SScIEu",
    "outputId": "2370aa51-5aa2-49c2-a319-6df42921f40d"
   },
   "outputs": [
    {
     "data": {
      "text/plain": [
       "Sao Paulo         False\n",
       "Rio de Janeiro    False\n",
       "Novo Estado        True\n",
       "dtype: bool"
      ]
     },
     "execution_count": 389,
     "metadata": {
      "tags": []
     },
     "output_type": "execute_result"
    }
   ],
   "source": [
    "# descobrir se existe elementos null na serie\n",
    "# serie5.isnull()\n",
    "pd.isnull(serie5)"
   ]
  },
  {
   "cell_type": "code",
   "execution_count": 390,
   "metadata": {
    "colab": {
     "base_uri": "https://localhost:8080/"
    },
    "id": "V3jvmTHEdr5I",
    "outputId": "ba1e3a6a-5cca-4b0b-d1d5-2e94e6328d35"
   },
   "outputs": [
    {
     "data": {
      "text/plain": [
       "Sao Paulo         45000.0\n",
       "Rio de Janeiro    50141.0\n",
       "dtype: float64"
      ]
     },
     "execution_count": 390,
     "metadata": {
      "tags": []
     },
     "output_type": "execute_result"
    }
   ],
   "source": [
    "# Retorna somente itens não null\n",
    "serie5[~pd.isnull(serie5)]"
   ]
  },
  {
   "cell_type": "code",
   "execution_count": 391,
   "metadata": {
    "colab": {
     "base_uri": "https://localhost:8080/"
    },
    "id": "SvroWxYneZuK",
    "outputId": "ebe841d9-bf11-49a5-d5c6-3e293904d175"
   },
   "outputs": [
    {
     "data": {
      "text/plain": [
       "Espirito Santo         NaN\n",
       "Novo Estado            NaN\n",
       "Rio de Janeiro    100282.0\n",
       "Sao Paulo          90000.0\n",
       "dtype: float64"
      ]
     },
     "execution_count": 391,
     "metadata": {
      "tags": []
     },
     "output_type": "execute_result"
    }
   ],
   "source": [
    "# somar series faz o pareamento pelo indice\n",
    "# na serie3 existe ES mas na serie5 não\n",
    "# Novo Estado existe na serie5 mas não na serie3\n",
    "# qualquer um que tenha NaN vai gerar um NaN na soma final, mesmo que exista algum valor\n",
    "# no final faz a soma daqueles que existem nos dois lados\n",
    "serie3 + serie5"
   ]
  },
  {
   "cell_type": "code",
   "execution_count": 392,
   "metadata": {
    "colab": {
     "base_uri": "https://localhost:8080/"
    },
    "id": "vm6AbnHeelsj",
    "outputId": "0718f1a9-b485-4bbf-9734-dbd1870bb9b9"
   },
   "outputs": [
    {
     "data": {
      "text/plain": [
       "Espirito Santo     30914.0\n",
       "Novo Estado            NaN\n",
       "Rio de Janeiro    100282.0\n",
       "Sao Paulo          90000.0\n",
       "dtype: float64"
      ]
     },
     "execution_count": 392,
     "metadata": {
      "tags": []
     },
     "output_type": "execute_result"
    }
   ],
   "source": [
    "# para somar sem perder o valor caso tenha algum valor NaN na soma\n",
    "# o ES agora retorna a população mesmo com uma soma com NaN (porque serie5 não tem ES)\n",
    "serie3.add(serie5, fill_value=0)"
   ]
  },
  {
   "cell_type": "code",
   "execution_count": 393,
   "metadata": {
    "colab": {
     "base_uri": "https://localhost:8080/"
    },
    "id": "CTMdjJkZgG72",
    "outputId": "f108ea9d-3058-42f5-835f-26f046036872"
   },
   "outputs": [
    {
     "data": {
      "text/plain": [
       "UF\n",
       "Sao Paulo         45000.0\n",
       "Rio de Janeiro    50141.0\n",
       "Novo Estado           NaN\n",
       "Name: Populacao, dtype: float64"
      ]
     },
     "execution_count": 393,
     "metadata": {
      "tags": []
     },
     "output_type": "execute_result"
    }
   ],
   "source": [
    "# metadado da serie, identifica o nome para a serie\n",
    "serie5.name = \"Populacao\"\n",
    "# nome do index\n",
    "serie5.index.name = \"Estados\"\n",
    "\n",
    "# renomeando os indices\n",
    "# serie5.index = [\"a\", \"b\", \"c\"]\n",
    "\n",
    "# alterando o nome da coluna de index\n",
    "serie5.index.rename('UF', inplace=True)\n",
    "\n",
    "serie5"
   ]
  },
  {
   "cell_type": "markdown",
   "metadata": {
    "id": "nMMw1oPji9E7"
   },
   "source": [
    "## DataFrames\n",
    "São tabelas com linhas e colunas que podem ser indexadas com os parametros index ou columns.\n",
    "Vários tipos de objetos podem ser transformados em DataFrames (lists, dicts..)\n",
    "Possuem uma série de funções para manipulação dos dados e filtragem"
   ]
  },
  {
   "cell_type": "markdown",
   "metadata": {
    "id": "Gu4CO5DDTTe4"
   },
   "source": [
    "### Dataframe a partir de um dict"
   ]
  },
  {
   "cell_type": "code",
   "execution_count": 394,
   "metadata": {
    "colab": {
     "base_uri": "https://localhost:8080/",
     "height": 331
    },
    "id": "uiwuGdAwgquH",
    "outputId": "b4bc0958-61a6-4db3-8823-35ade9971c16"
   },
   "outputs": [
    {
     "data": {
      "text/html": [
       "<div>\n",
       "<style scoped>\n",
       "    .dataframe tbody tr th:only-of-type {\n",
       "        vertical-align: middle;\n",
       "    }\n",
       "\n",
       "    .dataframe tbody tr th {\n",
       "        vertical-align: top;\n",
       "    }\n",
       "\n",
       "    .dataframe thead th {\n",
       "        text-align: right;\n",
       "    }\n",
       "</style>\n",
       "<table border=\"1\" class=\"dataframe\">\n",
       "  <thead>\n",
       "    <tr style=\"text-align: right;\">\n",
       "      <th></th>\n",
       "      <th>estado</th>\n",
       "      <th>ano</th>\n",
       "      <th>populacao</th>\n",
       "    </tr>\n",
       "  </thead>\n",
       "  <tbody>\n",
       "    <tr>\n",
       "      <th>0</th>\n",
       "      <td>SP</td>\n",
       "      <td>2000</td>\n",
       "      <td>50000</td>\n",
       "    </tr>\n",
       "    <tr>\n",
       "      <th>1</th>\n",
       "      <td>RJ</td>\n",
       "      <td>2000</td>\n",
       "      <td>30000</td>\n",
       "    </tr>\n",
       "    <tr>\n",
       "      <th>2</th>\n",
       "      <td>ES</td>\n",
       "      <td>2000</td>\n",
       "      <td>20000</td>\n",
       "    </tr>\n",
       "    <tr>\n",
       "      <th>3</th>\n",
       "      <td>SP</td>\n",
       "      <td>2010</td>\n",
       "      <td>55000</td>\n",
       "    </tr>\n",
       "    <tr>\n",
       "      <th>4</th>\n",
       "      <td>RJ</td>\n",
       "      <td>2010</td>\n",
       "      <td>33000</td>\n",
       "    </tr>\n",
       "    <tr>\n",
       "      <th>5</th>\n",
       "      <td>ES</td>\n",
       "      <td>2010</td>\n",
       "      <td>22000</td>\n",
       "    </tr>\n",
       "    <tr>\n",
       "      <th>6</th>\n",
       "      <td>SP</td>\n",
       "      <td>2020</td>\n",
       "      <td>60000</td>\n",
       "    </tr>\n",
       "    <tr>\n",
       "      <th>7</th>\n",
       "      <td>RJ</td>\n",
       "      <td>2020</td>\n",
       "      <td>40000</td>\n",
       "    </tr>\n",
       "    <tr>\n",
       "      <th>8</th>\n",
       "      <td>ES</td>\n",
       "      <td>2020</td>\n",
       "      <td>30000</td>\n",
       "    </tr>\n",
       "  </tbody>\n",
       "</table>\n",
       "</div>"
      ],
      "text/plain": [
       "  estado   ano  populacao\n",
       "0     SP  2000      50000\n",
       "1     RJ  2000      30000\n",
       "2     ES  2000      20000\n",
       "3     SP  2010      55000\n",
       "4     RJ  2010      33000\n",
       "5     ES  2010      22000\n",
       "6     SP  2020      60000\n",
       "7     RJ  2020      40000\n",
       "8     ES  2020      30000"
      ]
     },
     "execution_count": 394,
     "metadata": {
      "tags": []
     },
     "output_type": "execute_result"
    }
   ],
   "source": [
    "# dataframes são como series multidimensionais que compartilham o mesmo index\n",
    "# possuem index/labels nas linhas (index=) e colunas (columns=)\n",
    "\n",
    "# criando um dataframe a partir de um dict\n",
    "dados1 = {\"estado\": [\"SP\", \"RJ\", \"ES\"] * 3, \n",
    "          \"ano\": [2000, 2000, 2000, 2010, 2010, 2010, 2020, 2020, 2020],\n",
    "          \"populacao\": [50_000, 30_000, 20_000, 55_000, 33_000, 22_000, 60_000, 40_000, 30_000]}\n",
    "\n",
    "# transforma um dicionario em um dataframe\n",
    "df1 = pd.DataFrame(dados1)\n",
    "df1"
   ]
  },
  {
   "cell_type": "markdown",
   "metadata": {
    "id": "_d4t3CD5Tiy0"
   },
   "source": [
    "### listar dataframes"
   ]
  },
  {
   "cell_type": "code",
   "execution_count": 395,
   "metadata": {
    "colab": {
     "base_uri": "https://localhost:8080/",
     "height": 205
    },
    "id": "jaEbG0KkmV8i",
    "outputId": "c414b994-c56d-418b-a603-c03498472aa7"
   },
   "outputs": [
    {
     "data": {
      "text/html": [
       "<div>\n",
       "<style scoped>\n",
       "    .dataframe tbody tr th:only-of-type {\n",
       "        vertical-align: middle;\n",
       "    }\n",
       "\n",
       "    .dataframe tbody tr th {\n",
       "        vertical-align: top;\n",
       "    }\n",
       "\n",
       "    .dataframe thead th {\n",
       "        text-align: right;\n",
       "    }\n",
       "</style>\n",
       "<table border=\"1\" class=\"dataframe\">\n",
       "  <thead>\n",
       "    <tr style=\"text-align: right;\">\n",
       "      <th></th>\n",
       "      <th>estado</th>\n",
       "      <th>ano</th>\n",
       "      <th>populacao</th>\n",
       "    </tr>\n",
       "  </thead>\n",
       "  <tbody>\n",
       "    <tr>\n",
       "      <th>0</th>\n",
       "      <td>SP</td>\n",
       "      <td>2000</td>\n",
       "      <td>50000</td>\n",
       "    </tr>\n",
       "    <tr>\n",
       "      <th>1</th>\n",
       "      <td>RJ</td>\n",
       "      <td>2000</td>\n",
       "      <td>30000</td>\n",
       "    </tr>\n",
       "    <tr>\n",
       "      <th>2</th>\n",
       "      <td>ES</td>\n",
       "      <td>2000</td>\n",
       "      <td>20000</td>\n",
       "    </tr>\n",
       "    <tr>\n",
       "      <th>3</th>\n",
       "      <td>SP</td>\n",
       "      <td>2010</td>\n",
       "      <td>55000</td>\n",
       "    </tr>\n",
       "    <tr>\n",
       "      <th>4</th>\n",
       "      <td>RJ</td>\n",
       "      <td>2010</td>\n",
       "      <td>33000</td>\n",
       "    </tr>\n",
       "  </tbody>\n",
       "</table>\n",
       "</div>"
      ],
      "text/plain": [
       "  estado   ano  populacao\n",
       "0     SP  2000      50000\n",
       "1     RJ  2000      30000\n",
       "2     ES  2000      20000\n",
       "3     SP  2010      55000\n",
       "4     RJ  2010      33000"
      ]
     },
     "execution_count": 395,
     "metadata": {
      "tags": []
     },
     "output_type": "execute_result"
    }
   ],
   "source": [
    "# alguns metodos úteis para listar dataframes\n",
    "\n",
    "# top5\n",
    "df1.head(5)\n",
    "#df1[:5]\n",
    "\n",
    "# ultimos 2\n",
    "# df1.tail(2)\n",
    "# df1[-2:]\n",
    "\n",
    "# lista tudo\n",
    "#display(df1)"
   ]
  },
  {
   "cell_type": "code",
   "execution_count": 396,
   "metadata": {
    "colab": {
     "base_uri": "https://localhost:8080/"
    },
    "id": "-7eRB8AKqxHj",
    "outputId": "36c809fa-29ca-4b60-e07f-22e533523e47"
   },
   "outputs": [
    {
     "data": {
      "text/plain": [
       "count        9.000000\n",
       "mean     37777.777778\n",
       "std      14376.871859\n",
       "min      20000.000000\n",
       "25%      30000.000000\n",
       "50%      33000.000000\n",
       "75%      50000.000000\n",
       "max      60000.000000\n",
       "Name: populacao, dtype: float64"
      ]
     },
     "execution_count": 396,
     "metadata": {
      "tags": []
     },
     "output_type": "execute_result"
    }
   ],
   "source": [
    "# lista algumas colunas\n",
    "df1[[\"estado\", \"populacao\"]]\n",
    "\n",
    "# estatisticas da coluna populaçao\n",
    "df1[\"populacao\"].describe()"
   ]
  },
  {
   "cell_type": "markdown",
   "metadata": {
    "id": "05ho16saTqh8"
   },
   "source": [
    "### alterando a sequencia das colunas"
   ]
  },
  {
   "cell_type": "code",
   "execution_count": 397,
   "metadata": {
    "colab": {
     "base_uri": "https://localhost:8080/",
     "height": 367
    },
    "id": "W4m529zQpX3g",
    "outputId": "92f604ce-4815-4425-b49c-5bf247119e23"
   },
   "outputs": [
    {
     "name": "stdout",
     "output_type": "stream",
     "text": [
      "Sequência atual das colunas: ['estado', 'ano', 'populacao']\n",
      "\n"
     ]
    },
    {
     "data": {
      "text/html": [
       "<div>\n",
       "<style scoped>\n",
       "    .dataframe tbody tr th:only-of-type {\n",
       "        vertical-align: middle;\n",
       "    }\n",
       "\n",
       "    .dataframe tbody tr th {\n",
       "        vertical-align: top;\n",
       "    }\n",
       "\n",
       "    .dataframe thead th {\n",
       "        text-align: right;\n",
       "    }\n",
       "</style>\n",
       "<table border=\"1\" class=\"dataframe\">\n",
       "  <thead>\n",
       "    <tr style=\"text-align: right;\">\n",
       "      <th></th>\n",
       "      <th>ano</th>\n",
       "      <th>estado</th>\n",
       "      <th>populacao</th>\n",
       "    </tr>\n",
       "  </thead>\n",
       "  <tbody>\n",
       "    <tr>\n",
       "      <th>0</th>\n",
       "      <td>2000</td>\n",
       "      <td>SP</td>\n",
       "      <td>50000</td>\n",
       "    </tr>\n",
       "    <tr>\n",
       "      <th>1</th>\n",
       "      <td>2000</td>\n",
       "      <td>RJ</td>\n",
       "      <td>30000</td>\n",
       "    </tr>\n",
       "    <tr>\n",
       "      <th>2</th>\n",
       "      <td>2000</td>\n",
       "      <td>ES</td>\n",
       "      <td>20000</td>\n",
       "    </tr>\n",
       "    <tr>\n",
       "      <th>3</th>\n",
       "      <td>2010</td>\n",
       "      <td>SP</td>\n",
       "      <td>55000</td>\n",
       "    </tr>\n",
       "    <tr>\n",
       "      <th>4</th>\n",
       "      <td>2010</td>\n",
       "      <td>RJ</td>\n",
       "      <td>33000</td>\n",
       "    </tr>\n",
       "    <tr>\n",
       "      <th>5</th>\n",
       "      <td>2010</td>\n",
       "      <td>ES</td>\n",
       "      <td>22000</td>\n",
       "    </tr>\n",
       "    <tr>\n",
       "      <th>6</th>\n",
       "      <td>2020</td>\n",
       "      <td>SP</td>\n",
       "      <td>60000</td>\n",
       "    </tr>\n",
       "    <tr>\n",
       "      <th>7</th>\n",
       "      <td>2020</td>\n",
       "      <td>RJ</td>\n",
       "      <td>40000</td>\n",
       "    </tr>\n",
       "    <tr>\n",
       "      <th>8</th>\n",
       "      <td>2020</td>\n",
       "      <td>ES</td>\n",
       "      <td>30000</td>\n",
       "    </tr>\n",
       "  </tbody>\n",
       "</table>\n",
       "</div>"
      ],
      "text/plain": [
       "    ano estado  populacao\n",
       "0  2000     SP      50000\n",
       "1  2000     RJ      30000\n",
       "2  2000     ES      20000\n",
       "3  2010     SP      55000\n",
       "4  2010     RJ      33000\n",
       "5  2010     ES      22000\n",
       "6  2020     SP      60000\n",
       "7  2020     RJ      40000\n",
       "8  2020     ES      30000"
      ]
     },
     "execution_count": 397,
     "metadata": {
      "tags": []
     },
     "output_type": "execute_result"
    }
   ],
   "source": [
    "print(f\"Sequência atual das colunas: {list(df1.columns)}\\n\")\n",
    "\n",
    "# alterando a sequencia\n",
    "df_sequencia_colunas_alteradas = pd.DataFrame(df1, columns=[\"ano\", \"estado\", \"populacao\"])\n",
    "df_sequencia_colunas_alteradas"
   ]
  },
  {
   "cell_type": "markdown",
   "metadata": {
    "id": "mIx9YPq9TxbU"
   },
   "source": [
    "### criando colunas em df existente"
   ]
  },
  {
   "cell_type": "code",
   "execution_count": 398,
   "metadata": {
    "colab": {
     "base_uri": "https://localhost:8080/",
     "height": 331
    },
    "id": "eTXPvg7cpf5I",
    "outputId": "4af5215a-a860-407f-e0dd-126208c2f94e"
   },
   "outputs": [
    {
     "data": {
      "text/html": [
       "<div>\n",
       "<style scoped>\n",
       "    .dataframe tbody tr th:only-of-type {\n",
       "        vertical-align: middle;\n",
       "    }\n",
       "\n",
       "    .dataframe tbody tr th {\n",
       "        vertical-align: top;\n",
       "    }\n",
       "\n",
       "    .dataframe thead th {\n",
       "        text-align: right;\n",
       "    }\n",
       "</style>\n",
       "<table border=\"1\" class=\"dataframe\">\n",
       "  <thead>\n",
       "    <tr style=\"text-align: right;\">\n",
       "      <th></th>\n",
       "      <th>ano</th>\n",
       "      <th>estado</th>\n",
       "      <th>populacao</th>\n",
       "      <th>dif</th>\n",
       "    </tr>\n",
       "  </thead>\n",
       "  <tbody>\n",
       "    <tr>\n",
       "      <th>a</th>\n",
       "      <td>2000</td>\n",
       "      <td>SP</td>\n",
       "      <td>50000</td>\n",
       "      <td>NaN</td>\n",
       "    </tr>\n",
       "    <tr>\n",
       "      <th>b</th>\n",
       "      <td>2000</td>\n",
       "      <td>RJ</td>\n",
       "      <td>30000</td>\n",
       "      <td>NaN</td>\n",
       "    </tr>\n",
       "    <tr>\n",
       "      <th>c</th>\n",
       "      <td>2000</td>\n",
       "      <td>ES</td>\n",
       "      <td>20000</td>\n",
       "      <td>NaN</td>\n",
       "    </tr>\n",
       "    <tr>\n",
       "      <th>d</th>\n",
       "      <td>2010</td>\n",
       "      <td>SP</td>\n",
       "      <td>55000</td>\n",
       "      <td>NaN</td>\n",
       "    </tr>\n",
       "    <tr>\n",
       "      <th>e</th>\n",
       "      <td>2010</td>\n",
       "      <td>RJ</td>\n",
       "      <td>33000</td>\n",
       "      <td>NaN</td>\n",
       "    </tr>\n",
       "    <tr>\n",
       "      <th>f</th>\n",
       "      <td>2010</td>\n",
       "      <td>ES</td>\n",
       "      <td>22000</td>\n",
       "      <td>NaN</td>\n",
       "    </tr>\n",
       "    <tr>\n",
       "      <th>g</th>\n",
       "      <td>2020</td>\n",
       "      <td>SP</td>\n",
       "      <td>60000</td>\n",
       "      <td>NaN</td>\n",
       "    </tr>\n",
       "    <tr>\n",
       "      <th>h</th>\n",
       "      <td>2020</td>\n",
       "      <td>RJ</td>\n",
       "      <td>40000</td>\n",
       "      <td>NaN</td>\n",
       "    </tr>\n",
       "    <tr>\n",
       "      <th>i</th>\n",
       "      <td>2020</td>\n",
       "      <td>ES</td>\n",
       "      <td>30000</td>\n",
       "      <td>NaN</td>\n",
       "    </tr>\n",
       "  </tbody>\n",
       "</table>\n",
       "</div>"
      ],
      "text/plain": [
       "    ano estado  populacao  dif\n",
       "a  2000     SP      50000  NaN\n",
       "b  2000     RJ      30000  NaN\n",
       "c  2000     ES      20000  NaN\n",
       "d  2010     SP      55000  NaN\n",
       "e  2010     RJ      33000  NaN\n",
       "f  2010     ES      22000  NaN\n",
       "g  2020     SP      60000  NaN\n",
       "h  2020     RJ      40000  NaN\n",
       "i  2020     ES      30000  NaN"
      ]
     },
     "execution_count": 398,
     "metadata": {
      "tags": []
     },
     "output_type": "execute_result"
    }
   ],
   "source": [
    "# criando um df novo a partir de um que já existe mas com a coluna dif que ainda não exite\n",
    "df3 = pd.DataFrame(dados1, columns=[\"ano\", \"estado\", \"populacao\", \"dif\"], \n",
    "                                          index=[\"a\", \"b\", \"c\", \"d\", \"e\", \"f\", \"g\", \"h\", \"i\"])\n",
    "\n",
    "df3"
   ]
  },
  {
   "cell_type": "markdown",
   "metadata": {
    "id": "l6A2rxmCT6ac"
   },
   "source": [
    "### filtrando linhas e colunas loc e iloc"
   ]
  },
  {
   "cell_type": "code",
   "execution_count": 399,
   "metadata": {
    "colab": {
     "base_uri": "https://localhost:8080/",
     "height": 143
    },
    "id": "2fAjiAGm_MCM",
    "outputId": "62a4c62c-3956-4c9d-c626-bd316b9f8333"
   },
   "outputs": [
    {
     "data": {
      "text/html": [
       "<div>\n",
       "<style scoped>\n",
       "    .dataframe tbody tr th:only-of-type {\n",
       "        vertical-align: middle;\n",
       "    }\n",
       "\n",
       "    .dataframe tbody tr th {\n",
       "        vertical-align: top;\n",
       "    }\n",
       "\n",
       "    .dataframe thead th {\n",
       "        text-align: right;\n",
       "    }\n",
       "</style>\n",
       "<table border=\"1\" class=\"dataframe\">\n",
       "  <thead>\n",
       "    <tr style=\"text-align: right;\">\n",
       "      <th></th>\n",
       "      <th>estado</th>\n",
       "      <th>ano</th>\n",
       "      <th>populacao</th>\n",
       "    </tr>\n",
       "  </thead>\n",
       "  <tbody>\n",
       "    <tr>\n",
       "      <th>c</th>\n",
       "      <td>ES</td>\n",
       "      <td>2000</td>\n",
       "      <td>20000</td>\n",
       "    </tr>\n",
       "    <tr>\n",
       "      <th>f</th>\n",
       "      <td>ES</td>\n",
       "      <td>2010</td>\n",
       "      <td>22000</td>\n",
       "    </tr>\n",
       "    <tr>\n",
       "      <th>i</th>\n",
       "      <td>ES</td>\n",
       "      <td>2020</td>\n",
       "      <td>30000</td>\n",
       "    </tr>\n",
       "  </tbody>\n",
       "</table>\n",
       "</div>"
      ],
      "text/plain": [
       "  estado   ano  populacao\n",
       "c     ES  2000      20000\n",
       "f     ES  2010      22000\n",
       "i     ES  2020      30000"
      ]
     },
     "execution_count": 399,
     "metadata": {
      "tags": []
     },
     "output_type": "execute_result"
    }
   ],
   "source": [
    "# localizando linhas e colunas usando loc e iloc\n",
    "\n",
    "# filtrando uma coluna\n",
    "dados_es = df3.loc[df3[\"estado\"] == \"ES\", [\"estado\", \"ano\", \"populacao\"]]\n",
    "dados_es\n",
    "#print(dados_es[[\"ano\", \"estado\", \"populacao\"]])"
   ]
  },
  {
   "cell_type": "code",
   "execution_count": 400,
   "metadata": {
    "colab": {
     "base_uri": "https://localhost:8080/"
    },
    "id": "PN3flqUXUAXc",
    "outputId": "0680acd1-0a37-419f-dbd1-bdc5d60c6ef8"
   },
   "outputs": [
    {
     "name": "stdout",
     "output_type": "stream",
     "text": [
      "    ano estado\n",
      "a  2000     SP\n",
      "b  2000     RJ\n",
      "c  2000     ES\n"
     ]
    }
   ],
   "source": [
    "# filtrando com iloc: usando indices para buscar os 3 primeiros registros e as duas primeiras colunas\n",
    "dados_es = df3.iloc[:3, :2]\n",
    "print(dados_es[[\"ano\", \"estado\"]])"
   ]
  },
  {
   "cell_type": "markdown",
   "metadata": {
    "id": "A9AmbtBwU7ev"
   },
   "source": [
    "### filtrando uma coluna com mais de uma condição"
   ]
  },
  {
   "cell_type": "code",
   "execution_count": 401,
   "metadata": {
    "colab": {
     "base_uri": "https://localhost:8080/"
    },
    "id": "QNHyEtLu_sjP",
    "outputId": "55910a19-76b1-463a-d95d-57910d506d28"
   },
   "outputs": [
    {
     "name": "stdout",
     "output_type": "stream",
     "text": [
      "    ano estado  populacao\n",
      "f  2010     ES      22000\n"
     ]
    }
   ],
   "source": [
    "# filtrando uma coluna com mais de uma condição\n",
    "dados_es_2010 = df3.loc[ (df3[\"ano\"] == 2010) & (df3[\"estado\"] == \"ES\") ]\n",
    "\n",
    "print(dados_es_2010[[\"ano\", \"estado\", \"populacao\"]])"
   ]
  },
  {
   "cell_type": "markdown",
   "metadata": {
    "id": "ZzoHO-uRVBpy"
   },
   "source": [
    "### preencher a nova coluna"
   ]
  },
  {
   "cell_type": "code",
   "execution_count": 402,
   "metadata": {
    "colab": {
     "base_uri": "https://localhost:8080/",
     "height": 331
    },
    "id": "LOAUwwgjItft",
    "outputId": "6a4b7494-8925-452d-c419-6d483f15f233"
   },
   "outputs": [
    {
     "data": {
      "text/html": [
       "<div>\n",
       "<style scoped>\n",
       "    .dataframe tbody tr th:only-of-type {\n",
       "        vertical-align: middle;\n",
       "    }\n",
       "\n",
       "    .dataframe tbody tr th {\n",
       "        vertical-align: top;\n",
       "    }\n",
       "\n",
       "    .dataframe thead th {\n",
       "        text-align: right;\n",
       "    }\n",
       "</style>\n",
       "<table border=\"1\" class=\"dataframe\">\n",
       "  <thead>\n",
       "    <tr style=\"text-align: right;\">\n",
       "      <th></th>\n",
       "      <th>ano</th>\n",
       "      <th>estado</th>\n",
       "      <th>populacao</th>\n",
       "      <th>dif</th>\n",
       "    </tr>\n",
       "  </thead>\n",
       "  <tbody>\n",
       "    <tr>\n",
       "      <th>a</th>\n",
       "      <td>2000</td>\n",
       "      <td>SP</td>\n",
       "      <td>50000</td>\n",
       "      <td>0</td>\n",
       "    </tr>\n",
       "    <tr>\n",
       "      <th>b</th>\n",
       "      <td>2000</td>\n",
       "      <td>RJ</td>\n",
       "      <td>30000</td>\n",
       "      <td>1</td>\n",
       "    </tr>\n",
       "    <tr>\n",
       "      <th>c</th>\n",
       "      <td>2000</td>\n",
       "      <td>ES</td>\n",
       "      <td>20000</td>\n",
       "      <td>2</td>\n",
       "    </tr>\n",
       "    <tr>\n",
       "      <th>d</th>\n",
       "      <td>2010</td>\n",
       "      <td>SP</td>\n",
       "      <td>55000</td>\n",
       "      <td>3</td>\n",
       "    </tr>\n",
       "    <tr>\n",
       "      <th>e</th>\n",
       "      <td>2010</td>\n",
       "      <td>RJ</td>\n",
       "      <td>33000</td>\n",
       "      <td>4</td>\n",
       "    </tr>\n",
       "    <tr>\n",
       "      <th>f</th>\n",
       "      <td>2010</td>\n",
       "      <td>ES</td>\n",
       "      <td>22000</td>\n",
       "      <td>5</td>\n",
       "    </tr>\n",
       "    <tr>\n",
       "      <th>g</th>\n",
       "      <td>2020</td>\n",
       "      <td>SP</td>\n",
       "      <td>60000</td>\n",
       "      <td>6</td>\n",
       "    </tr>\n",
       "    <tr>\n",
       "      <th>h</th>\n",
       "      <td>2020</td>\n",
       "      <td>RJ</td>\n",
       "      <td>40000</td>\n",
       "      <td>7</td>\n",
       "    </tr>\n",
       "    <tr>\n",
       "      <th>i</th>\n",
       "      <td>2020</td>\n",
       "      <td>ES</td>\n",
       "      <td>30000</td>\n",
       "      <td>8</td>\n",
       "    </tr>\n",
       "  </tbody>\n",
       "</table>\n",
       "</div>"
      ],
      "text/plain": [
       "    ano estado  populacao  dif\n",
       "a  2000     SP      50000    0\n",
       "b  2000     RJ      30000    1\n",
       "c  2000     ES      20000    2\n",
       "d  2010     SP      55000    3\n",
       "e  2010     RJ      33000    4\n",
       "f  2010     ES      22000    5\n",
       "g  2020     SP      60000    6\n",
       "h  2020     RJ      40000    7\n",
       "i  2020     ES      30000    8"
      ]
     },
     "execution_count": 402,
     "metadata": {
      "tags": []
     },
     "output_type": "execute_result"
    }
   ],
   "source": [
    "# preencher a nova coluna com dados incrementais de arange iniciando em zero e indo até o tamanho maximo da tabela\n",
    "df3[\"dif\"] = np.arange(len(df3))\n",
    "df3"
   ]
  },
  {
   "cell_type": "code",
   "execution_count": 403,
   "metadata": {
    "colab": {
     "base_uri": "https://localhost:8080/",
     "height": 331
    },
    "id": "6XdMydrzI9uH",
    "outputId": "1a932b90-2a9a-4bc9-deab-ef7cd12436eb"
   },
   "outputs": [
    {
     "data": {
      "text/html": [
       "<div>\n",
       "<style scoped>\n",
       "    .dataframe tbody tr th:only-of-type {\n",
       "        vertical-align: middle;\n",
       "    }\n",
       "\n",
       "    .dataframe tbody tr th {\n",
       "        vertical-align: top;\n",
       "    }\n",
       "\n",
       "    .dataframe thead th {\n",
       "        text-align: right;\n",
       "    }\n",
       "</style>\n",
       "<table border=\"1\" class=\"dataframe\">\n",
       "  <thead>\n",
       "    <tr style=\"text-align: right;\">\n",
       "      <th></th>\n",
       "      <th>ano</th>\n",
       "      <th>estado</th>\n",
       "      <th>populacao</th>\n",
       "      <th>dif</th>\n",
       "    </tr>\n",
       "  </thead>\n",
       "  <tbody>\n",
       "    <tr>\n",
       "      <th>a</th>\n",
       "      <td>2000</td>\n",
       "      <td>SP</td>\n",
       "      <td>50000</td>\n",
       "      <td>0.0</td>\n",
       "    </tr>\n",
       "    <tr>\n",
       "      <th>b</th>\n",
       "      <td>2000</td>\n",
       "      <td>RJ</td>\n",
       "      <td>30000</td>\n",
       "      <td>1.0</td>\n",
       "    </tr>\n",
       "    <tr>\n",
       "      <th>c</th>\n",
       "      <td>2000</td>\n",
       "      <td>ES</td>\n",
       "      <td>20000</td>\n",
       "      <td>2.0</td>\n",
       "    </tr>\n",
       "    <tr>\n",
       "      <th>d</th>\n",
       "      <td>2010</td>\n",
       "      <td>SP</td>\n",
       "      <td>55000</td>\n",
       "      <td>999.0</td>\n",
       "    </tr>\n",
       "    <tr>\n",
       "      <th>e</th>\n",
       "      <td>2010</td>\n",
       "      <td>RJ</td>\n",
       "      <td>33000</td>\n",
       "      <td>999.0</td>\n",
       "    </tr>\n",
       "    <tr>\n",
       "      <th>f</th>\n",
       "      <td>2010</td>\n",
       "      <td>ES</td>\n",
       "      <td>22000</td>\n",
       "      <td>999.0</td>\n",
       "    </tr>\n",
       "    <tr>\n",
       "      <th>g</th>\n",
       "      <td>2020</td>\n",
       "      <td>SP</td>\n",
       "      <td>60000</td>\n",
       "      <td>999.0</td>\n",
       "    </tr>\n",
       "    <tr>\n",
       "      <th>h</th>\n",
       "      <td>2020</td>\n",
       "      <td>RJ</td>\n",
       "      <td>40000</td>\n",
       "      <td>999.0</td>\n",
       "    </tr>\n",
       "    <tr>\n",
       "      <th>i</th>\n",
       "      <td>2020</td>\n",
       "      <td>ES</td>\n",
       "      <td>30000</td>\n",
       "      <td>999.0</td>\n",
       "    </tr>\n",
       "  </tbody>\n",
       "</table>\n",
       "</div>"
      ],
      "text/plain": [
       "    ano estado  populacao    dif\n",
       "a  2000     SP      50000    0.0\n",
       "b  2000     RJ      30000    1.0\n",
       "c  2000     ES      20000    2.0\n",
       "d  2010     SP      55000  999.0\n",
       "e  2010     RJ      33000  999.0\n",
       "f  2010     ES      22000  999.0\n",
       "g  2020     SP      60000  999.0\n",
       "h  2020     RJ      40000  999.0\n",
       "i  2020     ES      30000  999.0"
      ]
     },
     "execution_count": 403,
     "metadata": {
      "tags": []
     },
     "output_type": "execute_result"
    }
   ],
   "source": [
    "# Cria uma serie independente somente com valores [\"a\", \"b\", \"c\"]\n",
    "# Faz um left join da serie com o dataframe. Somente onde os indices da nova serie correspondem com o dataframe será inserido\n",
    "valores_dif = pd.Series(np.arange(3), index=[\"a\", \"b\", \"c\"])\n",
    "\n",
    "# Preenche os primeiros registros com os valores da serie. Acontece um pareamento dos índices do df com a serie\n",
    "df3[\"dif\"] = valores_dif\n",
    "\n",
    "# completa os demais com o valor zero\n",
    "df3.fillna(value=999, inplace=True)\n",
    "df3"
   ]
  },
  {
   "cell_type": "markdown",
   "metadata": {
    "id": "fHynFGLgwBsC"
   },
   "source": [
    "### Criar coluna com logica boleana"
   ]
  },
  {
   "cell_type": "code",
   "execution_count": 404,
   "metadata": {
    "colab": {
     "base_uri": "https://localhost:8080/",
     "height": 331
    },
    "id": "2iJEEFg6JDSt",
    "outputId": "70b0ad96-0c22-4a19-ed90-ae8c01c5efe9"
   },
   "outputs": [
    {
     "data": {
      "text/html": [
       "<div>\n",
       "<style scoped>\n",
       "    .dataframe tbody tr th:only-of-type {\n",
       "        vertical-align: middle;\n",
       "    }\n",
       "\n",
       "    .dataframe tbody tr th {\n",
       "        vertical-align: top;\n",
       "    }\n",
       "\n",
       "    .dataframe thead th {\n",
       "        text-align: right;\n",
       "    }\n",
       "</style>\n",
       "<table border=\"1\" class=\"dataframe\">\n",
       "  <thead>\n",
       "    <tr style=\"text-align: right;\">\n",
       "      <th></th>\n",
       "      <th>ano</th>\n",
       "      <th>estado</th>\n",
       "      <th>populacao</th>\n",
       "      <th>dif</th>\n",
       "      <th>Regiao</th>\n",
       "    </tr>\n",
       "  </thead>\n",
       "  <tbody>\n",
       "    <tr>\n",
       "      <th>a</th>\n",
       "      <td>2000</td>\n",
       "      <td>SP</td>\n",
       "      <td>50000</td>\n",
       "      <td>0.0</td>\n",
       "      <td>SUDESTE-OUTRA</td>\n",
       "    </tr>\n",
       "    <tr>\n",
       "      <th>b</th>\n",
       "      <td>2000</td>\n",
       "      <td>RJ</td>\n",
       "      <td>30000</td>\n",
       "      <td>1.0</td>\n",
       "      <td>SUDESTE-OUTRA</td>\n",
       "    </tr>\n",
       "    <tr>\n",
       "      <th>c</th>\n",
       "      <td>2000</td>\n",
       "      <td>ES</td>\n",
       "      <td>20000</td>\n",
       "      <td>2.0</td>\n",
       "      <td>SUDESTE-ES</td>\n",
       "    </tr>\n",
       "    <tr>\n",
       "      <th>d</th>\n",
       "      <td>2010</td>\n",
       "      <td>SP</td>\n",
       "      <td>55000</td>\n",
       "      <td>999.0</td>\n",
       "      <td>SUDESTE-OUTRA</td>\n",
       "    </tr>\n",
       "    <tr>\n",
       "      <th>e</th>\n",
       "      <td>2010</td>\n",
       "      <td>RJ</td>\n",
       "      <td>33000</td>\n",
       "      <td>999.0</td>\n",
       "      <td>SUDESTE-OUTRA</td>\n",
       "    </tr>\n",
       "    <tr>\n",
       "      <th>f</th>\n",
       "      <td>2010</td>\n",
       "      <td>ES</td>\n",
       "      <td>22000</td>\n",
       "      <td>999.0</td>\n",
       "      <td>SUDESTE-ES</td>\n",
       "    </tr>\n",
       "    <tr>\n",
       "      <th>g</th>\n",
       "      <td>2020</td>\n",
       "      <td>SP</td>\n",
       "      <td>60000</td>\n",
       "      <td>999.0</td>\n",
       "      <td>SUDESTE-OUTRA</td>\n",
       "    </tr>\n",
       "    <tr>\n",
       "      <th>h</th>\n",
       "      <td>2020</td>\n",
       "      <td>RJ</td>\n",
       "      <td>40000</td>\n",
       "      <td>999.0</td>\n",
       "      <td>SUDESTE-OUTRA</td>\n",
       "    </tr>\n",
       "    <tr>\n",
       "      <th>i</th>\n",
       "      <td>2020</td>\n",
       "      <td>ES</td>\n",
       "      <td>30000</td>\n",
       "      <td>999.0</td>\n",
       "      <td>SUDESTE-ES</td>\n",
       "    </tr>\n",
       "  </tbody>\n",
       "</table>\n",
       "</div>"
      ],
      "text/plain": [
       "    ano estado  populacao    dif         Regiao\n",
       "a  2000     SP      50000    0.0  SUDESTE-OUTRA\n",
       "b  2000     RJ      30000    1.0  SUDESTE-OUTRA\n",
       "c  2000     ES      20000    2.0     SUDESTE-ES\n",
       "d  2010     SP      55000  999.0  SUDESTE-OUTRA\n",
       "e  2010     RJ      33000  999.0  SUDESTE-OUTRA\n",
       "f  2010     ES      22000  999.0     SUDESTE-ES\n",
       "g  2020     SP      60000  999.0  SUDESTE-OUTRA\n",
       "h  2020     RJ      40000  999.0  SUDESTE-OUTRA\n",
       "i  2020     ES      30000  999.0     SUDESTE-ES"
      ]
     },
     "execution_count": 404,
     "metadata": {
      "tags": []
     },
     "output_type": "execute_result"
    }
   ],
   "source": [
    "# Criando uma nova coluna a partir de um resultado lógico de outra\n",
    "df3[\"Regiao\"] = [\"SUDESTE-ES\" if uf == \"ES\" else \"SUDESTE-OUTRA\" for uf in df3[\"estado\"]]\n",
    "df3"
   ]
  },
  {
   "cell_type": "code",
   "execution_count": 405,
   "metadata": {
    "colab": {
     "base_uri": "https://localhost:8080/",
     "height": 143
    },
    "id": "6sfSrWtlLFPa",
    "outputId": "69cbbf9c-d036-440b-8b63-bba31716816c"
   },
   "outputs": [
    {
     "data": {
      "text/html": [
       "<div>\n",
       "<style scoped>\n",
       "    .dataframe tbody tr th:only-of-type {\n",
       "        vertical-align: middle;\n",
       "    }\n",
       "\n",
       "    .dataframe tbody tr th {\n",
       "        vertical-align: top;\n",
       "    }\n",
       "\n",
       "    .dataframe thead th {\n",
       "        text-align: right;\n",
       "    }\n",
       "</style>\n",
       "<table border=\"1\" class=\"dataframe\">\n",
       "  <thead>\n",
       "    <tr style=\"text-align: right;\">\n",
       "      <th></th>\n",
       "      <th>ES</th>\n",
       "      <th>RJ</th>\n",
       "    </tr>\n",
       "  </thead>\n",
       "  <tbody>\n",
       "    <tr>\n",
       "      <th>2000</th>\n",
       "      <td>22000.0</td>\n",
       "      <td>33000</td>\n",
       "    </tr>\n",
       "    <tr>\n",
       "      <th>2010</th>\n",
       "      <td>24000.0</td>\n",
       "      <td>36000</td>\n",
       "    </tr>\n",
       "    <tr>\n",
       "      <th>2020</th>\n",
       "      <td>NaN</td>\n",
       "      <td>66000</td>\n",
       "    </tr>\n",
       "  </tbody>\n",
       "</table>\n",
       "</div>"
      ],
      "text/plain": [
       "           ES     RJ\n",
       "2000  22000.0  33000\n",
       "2010  24000.0  36000\n",
       "2020      NaN  66000"
      ]
     },
     "execution_count": 405,
     "metadata": {
      "tags": []
     },
     "output_type": "execute_result"
    }
   ],
   "source": [
    "# dict de dicts de população dos estados\n",
    "pop = {\"ES\": {2000: 22000, 2010: 24000},\n",
    "       \"RJ\": {2000: 33000, 2010: 36000, 2020: 66000}}\n",
    "# type(pop)\n",
    "\n",
    "# pd.DataFrame(pop).T\n",
    "df4 = pd.DataFrame(pop, index=[2000, 2010, 2020])\n",
    "df4"
   ]
  },
  {
   "cell_type": "code",
   "execution_count": 406,
   "metadata": {
    "colab": {
     "base_uri": "https://localhost:8080/",
     "height": 143
    },
    "id": "5pGgn71DPvj5",
    "outputId": "cc9a2cae-56ed-45fd-b7d1-233c3b70dcaa"
   },
   "outputs": [
    {
     "data": {
      "text/html": [
       "<div>\n",
       "<style scoped>\n",
       "    .dataframe tbody tr th:only-of-type {\n",
       "        vertical-align: middle;\n",
       "    }\n",
       "\n",
       "    .dataframe tbody tr th {\n",
       "        vertical-align: top;\n",
       "    }\n",
       "\n",
       "    .dataframe thead th {\n",
       "        text-align: right;\n",
       "    }\n",
       "</style>\n",
       "<table border=\"1\" class=\"dataframe\">\n",
       "  <thead>\n",
       "    <tr style=\"text-align: right;\">\n",
       "      <th>UF</th>\n",
       "      <th>ES</th>\n",
       "      <th>RJ</th>\n",
       "    </tr>\n",
       "    <tr>\n",
       "      <th>ANO</th>\n",
       "      <th></th>\n",
       "      <th></th>\n",
       "    </tr>\n",
       "  </thead>\n",
       "  <tbody>\n",
       "    <tr>\n",
       "      <th>2000</th>\n",
       "      <td>22000.0</td>\n",
       "      <td>33000</td>\n",
       "    </tr>\n",
       "    <tr>\n",
       "      <th>2010</th>\n",
       "      <td>24000.0</td>\n",
       "      <td>36000</td>\n",
       "    </tr>\n",
       "  </tbody>\n",
       "</table>\n",
       "</div>"
      ],
      "text/plain": [
       "UF         ES     RJ\n",
       "ANO                 \n",
       "2000  22000.0  33000\n",
       "2010  24000.0  36000"
      ]
     },
     "execution_count": 406,
     "metadata": {
      "tags": []
     },
     "output_type": "execute_result"
    }
   ],
   "source": [
    "# remove a ultima linha de ES que tem NaN e considera apenas as dias primeiras de RJ\n",
    "pdata = {\"ES\": df4[\"ES\"][:-1], \n",
    "         \"RJ\": df4[\"RJ\"][:2]}\n",
    "\n",
    "# Define um nome para a coluna de indices e um nome para as colunas da tabela\n",
    "df4= pd.DataFrame(pdata)\n",
    "df4.index.name = \"ANO\"\n",
    "df4.columns.name = \"UF\"\n",
    "df4"
   ]
  },
  {
   "cell_type": "markdown",
   "metadata": {
    "id": "UWopTXSeVWDs"
   },
   "source": [
    "## Objeto Index\n",
    "São os objetos responsaveis por armazenar os rotulos dos eixos e outros metadados"
   ]
  },
  {
   "cell_type": "code",
   "execution_count": 407,
   "metadata": {
    "colab": {
     "base_uri": "https://localhost:8080/"
    },
    "id": "CunypBy0RHr0",
    "outputId": "50f40c8f-ed1b-4f4f-c1c6-e02c7e60dcc6"
   },
   "outputs": [
    {
     "name": "stdout",
     "output_type": "stream",
     "text": [
      "Index(['a', 'b', 'c'], dtype='object')\n",
      "a\n"
     ]
    }
   ],
   "source": [
    "obj_index = pd.Series(np.arange(3), index=[\"a\", \"b\", \"c\"])\n",
    "\n",
    "# armazena o index da serie\n",
    "index = obj_index.index\n",
    "\n",
    "# pandas.core.indexes.base.Index\n",
    "type(index)\n",
    "print(index)\n",
    "print(index[0])\n",
    "\n",
    "# um index é sempre imutavel: TypeError: Index does not support mutable operations\n",
    "# index[\"a\"] = \"x\""
   ]
  },
  {
   "cell_type": "code",
   "execution_count": 408,
   "metadata": {
    "colab": {
     "base_uri": "https://localhost:8080/"
    },
    "id": "9LjfstyJVUiO",
    "outputId": "b9ec2616-6a7b-4476-8da6-53ae73e21213"
   },
   "outputs": [
    {
     "data": {
      "text/plain": [
       "Int64Index([0, 1, 2], dtype='int64')"
      ]
     },
     "execution_count": 408,
     "metadata": {
      "tags": []
     },
     "output_type": "execute_result"
    }
   ],
   "source": [
    "# criando um obj index\n",
    "labels = pd.Index(np.arange(3))\n",
    "labels"
   ]
  },
  {
   "cell_type": "code",
   "execution_count": 409,
   "metadata": {
    "colab": {
     "base_uri": "https://localhost:8080/"
    },
    "id": "reFK3yFBXHz0",
    "outputId": "f2ab5369-bd3e-472b-f1af-881d39fb936a"
   },
   "outputs": [
    {
     "data": {
      "text/plain": [
       "0    1.4\n",
       "1    3.5\n",
       "2    5.2\n",
       "dtype: float64"
      ]
     },
     "execution_count": 409,
     "metadata": {
      "tags": []
     },
     "output_type": "execute_result"
    }
   ],
   "source": [
    "# Usando um obj do tipo index para criar uma series\n",
    "obj_Series2 = pd.Series([1.4, 3.5, 5.2], index=labels)\n",
    "obj_Series2"
   ]
  },
  {
   "cell_type": "code",
   "execution_count": 410,
   "metadata": {
    "colab": {
     "base_uri": "https://localhost:8080/"
    },
    "id": "ggUPLqg-XU7o",
    "outputId": "80938bd7-8bc4-4de0-bb79-cd71eeff5cf7"
   },
   "outputs": [
    {
     "name": "stdout",
     "output_type": "stream",
     "text": [
      "df original:\n",
      " UF         ES     RJ\n",
      "ANO                 \n",
      "2000  22000.0  33000\n",
      "2010  24000.0  36000\n",
      "\n",
      "True\n",
      "True\n"
     ]
    }
   ],
   "source": [
    "print(f\"df original:\\n {df4}\\n\")\n",
    "\n",
    "# verificando a existencia de uma coluna\n",
    "print(\"ES\" in df4.columns)\n",
    "\n",
    "# verificando a existencia de um indice\n",
    "print(2010 in df4.index)"
   ]
  },
  {
   "cell_type": "markdown",
   "metadata": {
    "id": "3vX6VKRIwp5E"
   },
   "source": [
    "## Reindexação de linhas e colunas\n",
    "\n",
    "Redefine o indice de um df já criado. \n",
    "Se os novos indices já existem serão mantidos senão serão introduzidos com valores faltantes NaN"
   ]
  },
  {
   "cell_type": "code",
   "execution_count": 411,
   "metadata": {
    "colab": {
     "base_uri": "https://localhost:8080/"
    },
    "id": "4w746f2Uv6v3",
    "outputId": "069c6526-d1b9-4454-b4eb-502bda495ab5"
   },
   "outputs": [
    {
     "data": {
      "text/plain": [
       "a    0.471435\n",
       "b   -1.190976\n",
       "c    1.432707\n",
       "d   -0.312652\n",
       "dtype: float64"
      ]
     },
     "execution_count": 411,
     "metadata": {
      "tags": []
     },
     "output_type": "execute_result"
    }
   ],
   "source": [
    "obj_Series3 = pd.Series(np.random.randn(4), index=[\"a\", \"b\", \"c\", \"d\"])\n",
    "obj_Series3"
   ]
  },
  {
   "cell_type": "code",
   "execution_count": 412,
   "metadata": {
    "colab": {
     "base_uri": "https://localhost:8080/"
    },
    "id": "16BapwS4xXza",
    "outputId": "582e33c9-b312-46ac-fabb-cab2492abfb3"
   },
   "outputs": [
    {
     "data": {
      "text/plain": [
       "a    0.471435\n",
       "b   -1.190976\n",
       "c    1.432707\n",
       "d   -0.312652\n",
       "x         NaN\n",
       "y         NaN\n",
       "z         NaN\n",
       "dtype: float64"
      ]
     },
     "execution_count": 412,
     "metadata": {
      "tags": []
     },
     "output_type": "execute_result"
    }
   ],
   "source": [
    "# Os indices com os mesmos valores são mantidos, os novos recebem os valores NaN\n",
    "obj_Series3 = obj_Series3.reindex([\"a\", \"b\", \"c\", \"d\", \"x\", \"y\", \"z\"])\n",
    "obj_Series3"
   ]
  },
  {
   "cell_type": "code",
   "execution_count": 413,
   "metadata": {
    "colab": {
     "base_uri": "https://localhost:8080/"
    },
    "id": "7R6NH9t-xmaw",
    "outputId": "d2cf379c-4f80-4c81-96d9-87054fdac7bf"
   },
   "outputs": [
    {
     "data": {
      "text/plain": [
       "0       Azul\n",
       "1        NaN\n",
       "2    Amarelo\n",
       "3        NaN\n",
       "4      Verde\n",
       "5        NaN\n",
       "dtype: object"
      ]
     },
     "execution_count": 413,
     "metadata": {
      "tags": []
     },
     "output_type": "execute_result"
    }
   ],
   "source": [
    "obj_Series4 = pd.Series([\"Azul\", \"Amarelo\", \"Verde\"], index=[0, 2, 4])\n",
    "\n",
    "# passando um range de 6 os valores auxentes no indice atual ficam com o valor NaN\n",
    "obj_Series4.reindex(range(6))"
   ]
  },
  {
   "cell_type": "code",
   "execution_count": 414,
   "metadata": {
    "colab": {
     "base_uri": "https://localhost:8080/"
    },
    "id": "1zrRlXCPy4BT",
    "outputId": "4a517280-201c-4b6a-8b07-2fe859ce52f9"
   },
   "outputs": [
    {
     "data": {
      "text/plain": [
       "0       Azul\n",
       "1       Azul\n",
       "2    Amarelo\n",
       "3    Amarelo\n",
       "4      Verde\n",
       "5      Verde\n",
       "dtype: object"
      ]
     },
     "execution_count": 414,
     "metadata": {
      "tags": []
     },
     "output_type": "execute_result"
    }
   ],
   "source": [
    "# usando o metodo ffill (forward fill) preenche os valores NaN com o valor anterior a ocorrencia do NaN\n",
    "# é como um \"preencher para frente\"\n",
    "obj_Series4.reindex(range(6), method=\"ffill\")"
   ]
  },
  {
   "cell_type": "code",
   "execution_count": 415,
   "metadata": {
    "colab": {
     "base_uri": "https://localhost:8080/",
     "height": 143
    },
    "id": "Q1sOquG8zk0J",
    "outputId": "c2c91c55-a7ed-4c3d-e819-9b1f3263ea69"
   },
   "outputs": [
    {
     "data": {
      "text/html": [
       "<div>\n",
       "<style scoped>\n",
       "    .dataframe tbody tr th:only-of-type {\n",
       "        vertical-align: middle;\n",
       "    }\n",
       "\n",
       "    .dataframe tbody tr th {\n",
       "        vertical-align: top;\n",
       "    }\n",
       "\n",
       "    .dataframe thead th {\n",
       "        text-align: right;\n",
       "    }\n",
       "</style>\n",
       "<table border=\"1\" class=\"dataframe\">\n",
       "  <thead>\n",
       "    <tr style=\"text-align: right;\">\n",
       "      <th></th>\n",
       "      <th>ES</th>\n",
       "      <th>RJ</th>\n",
       "      <th>SP</th>\n",
       "    </tr>\n",
       "  </thead>\n",
       "  <tbody>\n",
       "    <tr>\n",
       "      <th>a</th>\n",
       "      <td>0</td>\n",
       "      <td>1</td>\n",
       "      <td>2</td>\n",
       "    </tr>\n",
       "    <tr>\n",
       "      <th>c</th>\n",
       "      <td>3</td>\n",
       "      <td>4</td>\n",
       "      <td>5</td>\n",
       "    </tr>\n",
       "    <tr>\n",
       "      <th>d</th>\n",
       "      <td>6</td>\n",
       "      <td>7</td>\n",
       "      <td>8</td>\n",
       "    </tr>\n",
       "  </tbody>\n",
       "</table>\n",
       "</div>"
      ],
      "text/plain": [
       "   ES  RJ  SP\n",
       "a   0   1   2\n",
       "c   3   4   5\n",
       "d   6   7   8"
      ]
     },
     "execution_count": 415,
     "metadata": {
      "tags": []
     },
     "output_type": "execute_result"
    }
   ],
   "source": [
    "# reindexando linhas e colunas\n",
    "df5 = pd.DataFrame(np.arange(9).reshape((3, 3)),\n",
    "                   index=[\"a\", \"c\", \"d\"],\n",
    "                   columns=[\"ES\",\"RJ\", \"SP\"]\n",
    "                   )\n",
    "df5"
   ]
  },
  {
   "cell_type": "code",
   "execution_count": 416,
   "metadata": {
    "colab": {
     "base_uri": "https://localhost:8080/",
     "height": 175
    },
    "id": "b4ksLTLlz8vu",
    "outputId": "2faea9c3-29b5-47f7-b905-4eaed1020507"
   },
   "outputs": [
    {
     "data": {
      "text/html": [
       "<div>\n",
       "<style scoped>\n",
       "    .dataframe tbody tr th:only-of-type {\n",
       "        vertical-align: middle;\n",
       "    }\n",
       "\n",
       "    .dataframe tbody tr th {\n",
       "        vertical-align: top;\n",
       "    }\n",
       "\n",
       "    .dataframe thead th {\n",
       "        text-align: right;\n",
       "    }\n",
       "</style>\n",
       "<table border=\"1\" class=\"dataframe\">\n",
       "  <thead>\n",
       "    <tr style=\"text-align: right;\">\n",
       "      <th></th>\n",
       "      <th>ES</th>\n",
       "      <th>RJ</th>\n",
       "      <th>SP</th>\n",
       "      <th>MG</th>\n",
       "    </tr>\n",
       "  </thead>\n",
       "  <tbody>\n",
       "    <tr>\n",
       "      <th>a</th>\n",
       "      <td>0.0</td>\n",
       "      <td>1.0</td>\n",
       "      <td>2.0</td>\n",
       "      <td>NaN</td>\n",
       "    </tr>\n",
       "    <tr>\n",
       "      <th>b</th>\n",
       "      <td>NaN</td>\n",
       "      <td>NaN</td>\n",
       "      <td>NaN</td>\n",
       "      <td>NaN</td>\n",
       "    </tr>\n",
       "    <tr>\n",
       "      <th>c</th>\n",
       "      <td>3.0</td>\n",
       "      <td>4.0</td>\n",
       "      <td>5.0</td>\n",
       "      <td>NaN</td>\n",
       "    </tr>\n",
       "    <tr>\n",
       "      <th>d</th>\n",
       "      <td>6.0</td>\n",
       "      <td>7.0</td>\n",
       "      <td>8.0</td>\n",
       "      <td>NaN</td>\n",
       "    </tr>\n",
       "  </tbody>\n",
       "</table>\n",
       "</div>"
      ],
      "text/plain": [
       "    ES   RJ   SP  MG\n",
       "a  0.0  1.0  2.0 NaN\n",
       "b  NaN  NaN  NaN NaN\n",
       "c  3.0  4.0  5.0 NaN\n",
       "d  6.0  7.0  8.0 NaN"
      ]
     },
     "execution_count": 416,
     "metadata": {
      "tags": []
     },
     "output_type": "execute_result"
    }
   ],
   "source": [
    "# reindexar as linhas: inclui o indice \"b\"\n",
    "# index=<default>\n",
    "# columns=<lista de colunas>\n",
    "df5 = df5.reindex(index=[\"a\", \"b\", \"c\", \"d\"], columns=[\"ES\",\"RJ\", \"SP\", \"MG\"])\n",
    "df5"
   ]
  },
  {
   "cell_type": "code",
   "execution_count": 417,
   "metadata": {
    "colab": {
     "base_uri": "https://localhost:8080/",
     "height": 175
    },
    "id": "Mh8339Cl0d_p",
    "outputId": "dafeba16-c034-4114-b6a5-73c3875d5dda"
   },
   "outputs": [
    {
     "data": {
      "text/html": [
       "<div>\n",
       "<style scoped>\n",
       "    .dataframe tbody tr th:only-of-type {\n",
       "        vertical-align: middle;\n",
       "    }\n",
       "\n",
       "    .dataframe tbody tr th {\n",
       "        vertical-align: top;\n",
       "    }\n",
       "\n",
       "    .dataframe thead th {\n",
       "        text-align: right;\n",
       "    }\n",
       "</style>\n",
       "<table border=\"1\" class=\"dataframe\">\n",
       "  <thead>\n",
       "    <tr style=\"text-align: right;\">\n",
       "      <th></th>\n",
       "      <th>ES</th>\n",
       "      <th>RJ</th>\n",
       "      <th>SP</th>\n",
       "      <th>MG</th>\n",
       "      <th>RS</th>\n",
       "      <th>PR</th>\n",
       "      <th>BA</th>\n",
       "    </tr>\n",
       "  </thead>\n",
       "  <tbody>\n",
       "    <tr>\n",
       "      <th>a</th>\n",
       "      <td>0.0</td>\n",
       "      <td>1.0</td>\n",
       "      <td>2.0</td>\n",
       "      <td>NaN</td>\n",
       "      <td>NaN</td>\n",
       "      <td>NaN</td>\n",
       "      <td>NaN</td>\n",
       "    </tr>\n",
       "    <tr>\n",
       "      <th>b</th>\n",
       "      <td>NaN</td>\n",
       "      <td>NaN</td>\n",
       "      <td>NaN</td>\n",
       "      <td>NaN</td>\n",
       "      <td>NaN</td>\n",
       "      <td>NaN</td>\n",
       "      <td>NaN</td>\n",
       "    </tr>\n",
       "    <tr>\n",
       "      <th>c</th>\n",
       "      <td>3.0</td>\n",
       "      <td>4.0</td>\n",
       "      <td>5.0</td>\n",
       "      <td>NaN</td>\n",
       "      <td>NaN</td>\n",
       "      <td>NaN</td>\n",
       "      <td>NaN</td>\n",
       "    </tr>\n",
       "    <tr>\n",
       "      <th>d</th>\n",
       "      <td>6.0</td>\n",
       "      <td>7.0</td>\n",
       "      <td>8.0</td>\n",
       "      <td>NaN</td>\n",
       "      <td>NaN</td>\n",
       "      <td>NaN</td>\n",
       "      <td>NaN</td>\n",
       "    </tr>\n",
       "  </tbody>\n",
       "</table>\n",
       "</div>"
      ],
      "text/plain": [
       "    ES   RJ   SP  MG  RS  PR  BA\n",
       "a  0.0  1.0  2.0 NaN NaN NaN NaN\n",
       "b  NaN  NaN  NaN NaN NaN NaN NaN\n",
       "c  3.0  4.0  5.0 NaN NaN NaN NaN\n",
       "d  6.0  7.0  8.0 NaN NaN NaN NaN"
      ]
     },
     "execution_count": 417,
     "metadata": {
      "tags": []
     },
     "output_type": "execute_result"
    }
   ],
   "source": [
    "# se passar outra lista para indexação, irá ser feito um left join, os valores atuais serão mantidos e os novos serão inseridos com o valor NaN\n",
    "novos_estados = [\"ES\",\"RJ\", \"SP\", \"MG\", \"RS\", \"PR\", \"BA\"]\n",
    "\n",
    "df5 = df5.reindex(columns=novos_estados)\n",
    "df5"
   ]
  },
  {
   "cell_type": "code",
   "execution_count": 418,
   "metadata": {
    "id": "NJKMu5BB1jVb"
   },
   "outputs": [],
   "source": [
    "# selecionando colunas a partir de uma lista\n",
    "filtro_estados = [\"ES\",\"RJ\", \"SP\"]\n",
    "dados = df5.loc[:, filtro_estados]"
   ]
  },
  {
   "cell_type": "markdown",
   "metadata": {
    "id": "n3zyyY8I3a5I"
   },
   "source": [
    "### drop apagando linhas ou colunas"
   ]
  },
  {
   "cell_type": "code",
   "execution_count": 419,
   "metadata": {
    "colab": {
     "base_uri": "https://localhost:8080/",
     "height": 112
    },
    "id": "rswnVKp-2FVC",
    "outputId": "a0dcf646-bbd5-4a8c-c4f2-bb314a589711"
   },
   "outputs": [
    {
     "data": {
      "text/html": [
       "<div>\n",
       "<style scoped>\n",
       "    .dataframe tbody tr th:only-of-type {\n",
       "        vertical-align: middle;\n",
       "    }\n",
       "\n",
       "    .dataframe tbody tr th {\n",
       "        vertical-align: top;\n",
       "    }\n",
       "\n",
       "    .dataframe thead th {\n",
       "        text-align: right;\n",
       "    }\n",
       "</style>\n",
       "<table border=\"1\" class=\"dataframe\">\n",
       "  <thead>\n",
       "    <tr style=\"text-align: right;\">\n",
       "      <th></th>\n",
       "      <th>ES</th>\n",
       "      <th>RJ</th>\n",
       "      <th>SP</th>\n",
       "    </tr>\n",
       "  </thead>\n",
       "  <tbody>\n",
       "    <tr>\n",
       "      <th>a</th>\n",
       "      <td>0.0</td>\n",
       "      <td>1.0</td>\n",
       "      <td>2.0</td>\n",
       "    </tr>\n",
       "    <tr>\n",
       "      <th>c</th>\n",
       "      <td>3.0</td>\n",
       "      <td>4.0</td>\n",
       "      <td>5.0</td>\n",
       "    </tr>\n",
       "  </tbody>\n",
       "</table>\n",
       "</div>"
      ],
      "text/plain": [
       "    ES   RJ   SP\n",
       "a  0.0  1.0  2.0\n",
       "c  3.0  4.0  5.0"
      ]
     },
     "execution_count": 419,
     "metadata": {
      "tags": []
     },
     "output_type": "execute_result"
    }
   ],
   "source": [
    "# copiando dados do df anterior\n",
    "dados_para_apagar = dados\n",
    "\n",
    "# apagar linhas\n",
    "\n",
    "# inplace True para de verdade, False (padrão), remove na memoria mas não apaga do obj original\n",
    "dados_para_apagar.drop([\"b\", \"d\"], inplace=True)\n",
    "\n",
    "dados_para_apagar"
   ]
  },
  {
   "cell_type": "code",
   "execution_count": 420,
   "metadata": {
    "colab": {
     "base_uri": "https://localhost:8080/",
     "height": 112
    },
    "id": "E077vKt93zJx",
    "outputId": "db43ffae-d23d-4e0e-a081-02b5b8ad23d9"
   },
   "outputs": [
    {
     "data": {
      "text/html": [
       "<div>\n",
       "<style scoped>\n",
       "    .dataframe tbody tr th:only-of-type {\n",
       "        vertical-align: middle;\n",
       "    }\n",
       "\n",
       "    .dataframe tbody tr th {\n",
       "        vertical-align: top;\n",
       "    }\n",
       "\n",
       "    .dataframe thead th {\n",
       "        text-align: right;\n",
       "    }\n",
       "</style>\n",
       "<table border=\"1\" class=\"dataframe\">\n",
       "  <thead>\n",
       "    <tr style=\"text-align: right;\">\n",
       "      <th></th>\n",
       "      <th>ES</th>\n",
       "    </tr>\n",
       "  </thead>\n",
       "  <tbody>\n",
       "    <tr>\n",
       "      <th>a</th>\n",
       "      <td>0.0</td>\n",
       "    </tr>\n",
       "    <tr>\n",
       "      <th>c</th>\n",
       "      <td>3.0</td>\n",
       "    </tr>\n",
       "  </tbody>\n",
       "</table>\n",
       "</div>"
      ],
      "text/plain": [
       "    ES\n",
       "a  0.0\n",
       "c  3.0"
      ]
     },
     "execution_count": 420,
     "metadata": {
      "tags": []
     },
     "output_type": "execute_result"
    }
   ],
   "source": [
    "# apagar colunas axis=1\n",
    "dados_sem_RJ_SP = dados_para_apagar.drop([\"SP\", \"RJ\"], axis=1)\n",
    "dados_sem_RJ_SP"
   ]
  },
  {
   "cell_type": "code",
   "execution_count": 421,
   "metadata": {
    "colab": {
     "base_uri": "https://localhost:8080/",
     "height": 112
    },
    "id": "lxqmF7fi5LJD",
    "outputId": "e993e55b-4106-4e7d-d764-31419184de66"
   },
   "outputs": [
    {
     "data": {
      "text/html": [
       "<div>\n",
       "<style scoped>\n",
       "    .dataframe tbody tr th:only-of-type {\n",
       "        vertical-align: middle;\n",
       "    }\n",
       "\n",
       "    .dataframe tbody tr th {\n",
       "        vertical-align: top;\n",
       "    }\n",
       "\n",
       "    .dataframe thead th {\n",
       "        text-align: right;\n",
       "    }\n",
       "</style>\n",
       "<table border=\"1\" class=\"dataframe\">\n",
       "  <thead>\n",
       "    <tr style=\"text-align: right;\">\n",
       "      <th></th>\n",
       "      <th>ES</th>\n",
       "    </tr>\n",
       "  </thead>\n",
       "  <tbody>\n",
       "    <tr>\n",
       "      <th>a</th>\n",
       "      <td>0.0</td>\n",
       "    </tr>\n",
       "    <tr>\n",
       "      <th>c</th>\n",
       "      <td>3.0</td>\n",
       "    </tr>\n",
       "  </tbody>\n",
       "</table>\n",
       "</div>"
      ],
      "text/plain": [
       "    ES\n",
       "a  0.0\n",
       "c  3.0"
      ]
     },
     "execution_count": 421,
     "metadata": {
      "tags": []
     },
     "output_type": "execute_result"
    }
   ],
   "source": [
    "dados_para_apagar.drop([\"SP\", \"RJ\"], axis=\"columns\", inplace=True)\n",
    "dados_para_apagar"
   ]
  },
  {
   "cell_type": "code",
   "execution_count": 422,
   "metadata": {
    "colab": {
     "base_uri": "https://localhost:8080/",
     "height": 81
    },
    "id": "ABVphySW1yD8",
    "outputId": "3675a308-3378-4369-99cd-55815d82c364"
   },
   "outputs": [
    {
     "data": {
      "text/html": [
       "<div>\n",
       "<style scoped>\n",
       "    .dataframe tbody tr th:only-of-type {\n",
       "        vertical-align: middle;\n",
       "    }\n",
       "\n",
       "    .dataframe tbody tr th {\n",
       "        vertical-align: top;\n",
       "    }\n",
       "\n",
       "    .dataframe thead th {\n",
       "        text-align: right;\n",
       "    }\n",
       "</style>\n",
       "<table border=\"1\" class=\"dataframe\">\n",
       "  <thead>\n",
       "    <tr style=\"text-align: right;\">\n",
       "      <th></th>\n",
       "      <th>ES</th>\n",
       "    </tr>\n",
       "  </thead>\n",
       "  <tbody>\n",
       "    <tr>\n",
       "      <th>c</th>\n",
       "      <td>3.0</td>\n",
       "    </tr>\n",
       "  </tbody>\n",
       "</table>\n",
       "</div>"
      ],
      "text/plain": [
       "    ES\n",
       "c  3.0"
      ]
     },
     "execution_count": 422,
     "metadata": {
      "tags": []
     },
     "output_type": "execute_result"
    }
   ],
   "source": [
    "dados_para_apagar.drop([\"a\"], axis=\"index\", inplace=True)\n",
    "dados_para_apagar"
   ]
  },
  {
   "cell_type": "markdown",
   "metadata": {
    "id": "417nAQCQ6XCJ"
   },
   "source": [
    "## Seleção e Filtragem\n",
    "a seleção e filtragem de df é semelhante a arrays numpy porém com o uso de rotulos nomeados nos dois eixos."
   ]
  },
  {
   "cell_type": "markdown",
   "metadata": {
    "id": "5B7NEzBO-yL9"
   },
   "source": [
    "### Series"
   ]
  },
  {
   "cell_type": "code",
   "execution_count": 423,
   "metadata": {
    "colab": {
     "base_uri": "https://localhost:8080/"
    },
    "id": "msIj7DrS5hB0",
    "outputId": "da2f260d-e8d9-4e0d-834b-9a17295a759b"
   },
   "outputs": [
    {
     "data": {
      "text/plain": [
       "a    0.0\n",
       "b    1.0\n",
       "c    2.0\n",
       "d    3.0\n",
       "dtype: float64"
      ]
     },
     "execution_count": 423,
     "metadata": {
      "tags": []
     },
     "output_type": "execute_result"
    }
   ],
   "source": [
    "# criando uma Series para testes\n",
    "obj_Series5 = pd.Series(np.arange(4.0), index=[\"a\", \"b\", \"c\", \"d\"])\n",
    "obj_Series5"
   ]
  },
  {
   "cell_type": "code",
   "execution_count": 424,
   "metadata": {
    "colab": {
     "base_uri": "https://localhost:8080/"
    },
    "id": "MsZGTkJZ7CVC",
    "outputId": "159296c4-9234-4193-9071-35386b121e86"
   },
   "outputs": [
    {
     "data": {
      "text/plain": [
       "3.0"
      ]
     },
     "execution_count": 424,
     "metadata": {
      "tags": []
     },
     "output_type": "execute_result"
    }
   ],
   "source": [
    "# filtrando pelo rótulo da linha\n",
    "obj_Series5[\"d\"]"
   ]
  },
  {
   "cell_type": "code",
   "execution_count": 425,
   "metadata": {
    "colab": {
     "base_uri": "https://localhost:8080/"
    },
    "id": "ZqDk0jEP7v71",
    "outputId": "2f834ad1-b6cd-4354-ea0d-e9e556b1ab3a"
   },
   "outputs": [
    {
     "data": {
      "text/plain": [
       "3.0"
      ]
     },
     "execution_count": 425,
     "metadata": {
      "tags": []
     },
     "output_type": "execute_result"
    }
   ],
   "source": [
    "# filtrando pelo indice da linha: implicitamente o pandas cria um índice mesmo que exista um rótulo nomeado\n",
    "obj_Series5[3]"
   ]
  },
  {
   "cell_type": "code",
   "execution_count": 426,
   "metadata": {
    "colab": {
     "base_uri": "https://localhost:8080/"
    },
    "id": "EAA2WgZ670mc",
    "outputId": "31001d71-0162-46e9-c67b-95946d9bb78a"
   },
   "outputs": [
    {
     "data": {
      "text/plain": [
       "c    2.0\n",
       "d    3.0\n",
       "dtype: float64"
      ]
     },
     "execution_count": 426,
     "metadata": {
      "tags": []
     },
     "output_type": "execute_result"
    }
   ],
   "source": [
    "# slice do intervalo do índice implicito de 2 ate o 4 (não incluído)\n",
    "obj_Series5[2:4]"
   ]
  },
  {
   "cell_type": "code",
   "execution_count": 427,
   "metadata": {
    "colab": {
     "base_uri": "https://localhost:8080/"
    },
    "id": "BKdsOoem8EQL",
    "outputId": "846dabf5-f943-4efe-bb4c-a28b8b22da97"
   },
   "outputs": [
    {
     "data": {
      "text/plain": [
       "b    1.0\n",
       "c    2.0\n",
       "d    3.0\n",
       "dtype: float64"
      ]
     },
     "execution_count": 427,
     "metadata": {
      "tags": []
     },
     "output_type": "execute_result"
    }
   ],
   "source": [
    "# diferentemente do acesso pelo índice implicito, o indice pelo rotulo sempre inclui o ultimo elemento\n",
    "obj_Series5[\"b\":\"d\"]"
   ]
  },
  {
   "cell_type": "code",
   "execution_count": 428,
   "metadata": {
    "colab": {
     "base_uri": "https://localhost:8080/"
    },
    "id": "Tje-v5tm8Qh4",
    "outputId": "60cda0bf-cf5c-441c-918d-d48837a0f0ca"
   },
   "outputs": [
    {
     "data": {
      "text/plain": [
       "a    0.0\n",
       "c    2.0\n",
       "d    3.0\n",
       "dtype: float64"
      ]
     },
     "execution_count": 428,
     "metadata": {
      "tags": []
     },
     "output_type": "execute_result"
    }
   ],
   "source": [
    "# elementos específicos. Lista de elementos dentro dos colchetes\n",
    "obj_Series5[[\"a\", \"c\", \"d\"]]"
   ]
  },
  {
   "cell_type": "code",
   "execution_count": 429,
   "metadata": {
    "colab": {
     "base_uri": "https://localhost:8080/"
    },
    "id": "8pVwTxPW8iWr",
    "outputId": "d9b5cfc4-3cc2-4e09-e1dd-203ad2f259a9"
   },
   "outputs": [
    {
     "data": {
      "text/plain": [
       "d    3.0\n",
       "dtype: float64"
      ]
     },
     "execution_count": 429,
     "metadata": {
      "tags": []
     },
     "output_type": "execute_result"
    }
   ],
   "source": [
    "# filtrando usando uma condição: retorna os itens que \n",
    "obj_Series5[obj_Series5 > 2]"
   ]
  },
  {
   "cell_type": "code",
   "execution_count": 430,
   "metadata": {
    "colab": {
     "base_uri": "https://localhost:8080/"
    },
    "id": "KAgj5TLO8wiV",
    "outputId": "d8d62541-206a-40a9-de3f-8161b9d6953f"
   },
   "outputs": [
    {
     "data": {
      "text/plain": [
       "a    0.0\n",
       "b    4.0\n",
       "c    4.0\n",
       "d    4.0\n",
       "dtype: float64"
      ]
     },
     "execution_count": 430,
     "metadata": {
      "tags": []
     },
     "output_type": "execute_result"
    }
   ],
   "source": [
    "# atribuindo valores a uma faixa de indices\n",
    "obj_Series5[\"b\":\"d\"] = 4\n",
    "obj_Series5"
   ]
  },
  {
   "cell_type": "markdown",
   "metadata": {
    "id": "ILazDfSv-3Vb"
   },
   "source": [
    "### DataFrame"
   ]
  },
  {
   "cell_type": "code",
   "execution_count": 431,
   "metadata": {
    "colab": {
     "base_uri": "https://localhost:8080/",
     "height": 211
    },
    "id": "0XiHPdJT9Hwa",
    "outputId": "f18961a6-a524-435d-b7ed-dfbe3df5d55a"
   },
   "outputs": [
    {
     "name": "stdout",
     "output_type": "stream",
     "text": [
      "Dados Iniciais:\n",
      "\n"
     ]
    },
    {
     "data": {
      "text/html": [
       "<div>\n",
       "<style scoped>\n",
       "    .dataframe tbody tr th:only-of-type {\n",
       "        vertical-align: middle;\n",
       "    }\n",
       "\n",
       "    .dataframe tbody tr th {\n",
       "        vertical-align: top;\n",
       "    }\n",
       "\n",
       "    .dataframe thead th {\n",
       "        text-align: right;\n",
       "    }\n",
       "</style>\n",
       "<table border=\"1\" class=\"dataframe\">\n",
       "  <thead>\n",
       "    <tr style=\"text-align: right;\">\n",
       "      <th></th>\n",
       "      <th>2000</th>\n",
       "      <th>2010</th>\n",
       "      <th>2020</th>\n",
       "      <th>2030</th>\n",
       "    </tr>\n",
       "  </thead>\n",
       "  <tbody>\n",
       "    <tr>\n",
       "      <th>ES</th>\n",
       "      <td>-0.720589</td>\n",
       "      <td>0.887163</td>\n",
       "      <td>0.859588</td>\n",
       "      <td>-0.636524</td>\n",
       "    </tr>\n",
       "    <tr>\n",
       "      <th>RJ</th>\n",
       "      <td>0.015696</td>\n",
       "      <td>-2.242685</td>\n",
       "      <td>1.150036</td>\n",
       "      <td>0.991946</td>\n",
       "    </tr>\n",
       "    <tr>\n",
       "      <th>SP</th>\n",
       "      <td>0.953324</td>\n",
       "      <td>-2.021255</td>\n",
       "      <td>-0.334077</td>\n",
       "      <td>0.002118</td>\n",
       "    </tr>\n",
       "    <tr>\n",
       "      <th>MG</th>\n",
       "      <td>0.405453</td>\n",
       "      <td>0.289092</td>\n",
       "      <td>1.321158</td>\n",
       "      <td>-1.546906</td>\n",
       "    </tr>\n",
       "  </tbody>\n",
       "</table>\n",
       "</div>"
      ],
      "text/plain": [
       "        2000      2010      2020      2030\n",
       "ES -0.720589  0.887163  0.859588 -0.636524\n",
       "RJ  0.015696 -2.242685  1.150036  0.991946\n",
       "SP  0.953324 -2.021255 -0.334077  0.002118\n",
       "MG  0.405453  0.289092  1.321158 -1.546906"
      ]
     },
     "execution_count": 431,
     "metadata": {
      "tags": []
     },
     "output_type": "execute_result"
    }
   ],
   "source": [
    "df6 = pd.DataFrame(np.random.randn(16).reshape(4, 4), \n",
    "                   index=[\"ES\", \"RJ\", \"SP\", \"MG\"],\n",
    "                   columns=[2000, 2010, 2020, 2030])\n",
    "print(\"Dados Iniciais:\\n\")\n",
    "df6                   "
   ]
  },
  {
   "cell_type": "code",
   "execution_count": 432,
   "metadata": {
    "colab": {
     "base_uri": "https://localhost:8080/"
    },
    "id": "4uhamq9T-l8v",
    "outputId": "91a148a8-0772-4c5e-fe02-fdbee61239e4"
   },
   "outputs": [
    {
     "data": {
      "text/plain": [
       "ES    0.859588\n",
       "RJ    1.150036\n",
       "SP   -0.334077\n",
       "MG    1.321158\n",
       "Name: 2020, dtype: float64"
      ]
     },
     "execution_count": 432,
     "metadata": {
      "tags": []
     },
     "output_type": "execute_result"
    }
   ],
   "source": [
    "# uma coluna específica\n",
    "df6[2020]"
   ]
  },
  {
   "cell_type": "code",
   "execution_count": 433,
   "metadata": {
    "colab": {
     "base_uri": "https://localhost:8080/",
     "height": 175
    },
    "id": "ipZJLbf5_r4k",
    "outputId": "feddf5c0-68d5-47de-fdfa-352a77441e14"
   },
   "outputs": [
    {
     "data": {
      "text/html": [
       "<div>\n",
       "<style scoped>\n",
       "    .dataframe tbody tr th:only-of-type {\n",
       "        vertical-align: middle;\n",
       "    }\n",
       "\n",
       "    .dataframe tbody tr th {\n",
       "        vertical-align: top;\n",
       "    }\n",
       "\n",
       "    .dataframe thead th {\n",
       "        text-align: right;\n",
       "    }\n",
       "</style>\n",
       "<table border=\"1\" class=\"dataframe\">\n",
       "  <thead>\n",
       "    <tr style=\"text-align: right;\">\n",
       "      <th></th>\n",
       "      <th>2010</th>\n",
       "      <th>2020</th>\n",
       "    </tr>\n",
       "  </thead>\n",
       "  <tbody>\n",
       "    <tr>\n",
       "      <th>ES</th>\n",
       "      <td>0.887163</td>\n",
       "      <td>0.859588</td>\n",
       "    </tr>\n",
       "    <tr>\n",
       "      <th>RJ</th>\n",
       "      <td>-2.242685</td>\n",
       "      <td>1.150036</td>\n",
       "    </tr>\n",
       "    <tr>\n",
       "      <th>SP</th>\n",
       "      <td>-2.021255</td>\n",
       "      <td>-0.334077</td>\n",
       "    </tr>\n",
       "    <tr>\n",
       "      <th>MG</th>\n",
       "      <td>0.289092</td>\n",
       "      <td>1.321158</td>\n",
       "    </tr>\n",
       "  </tbody>\n",
       "</table>\n",
       "</div>"
      ],
      "text/plain": [
       "        2010      2020\n",
       "ES  0.887163  0.859588\n",
       "RJ -2.242685  1.150036\n",
       "SP -2.021255 -0.334077\n",
       "MG  0.289092  1.321158"
      ]
     },
     "execution_count": 433,
     "metadata": {
      "tags": []
     },
     "output_type": "execute_result"
    }
   ],
   "source": [
    "# subconjunto de colunas\n",
    "df6[[2010, 2020]]"
   ]
  },
  {
   "cell_type": "code",
   "execution_count": 434,
   "metadata": {
    "colab": {
     "base_uri": "https://localhost:8080/",
     "height": 112
    },
    "id": "w30CCsVI_3Lp",
    "outputId": "f75f47e6-0336-40b0-8ce1-61109d5c924d"
   },
   "outputs": [
    {
     "data": {
      "text/html": [
       "<div>\n",
       "<style scoped>\n",
       "    .dataframe tbody tr th:only-of-type {\n",
       "        vertical-align: middle;\n",
       "    }\n",
       "\n",
       "    .dataframe tbody tr th {\n",
       "        vertical-align: top;\n",
       "    }\n",
       "\n",
       "    .dataframe thead th {\n",
       "        text-align: right;\n",
       "    }\n",
       "</style>\n",
       "<table border=\"1\" class=\"dataframe\">\n",
       "  <thead>\n",
       "    <tr style=\"text-align: right;\">\n",
       "      <th></th>\n",
       "      <th>2000</th>\n",
       "      <th>2010</th>\n",
       "      <th>2020</th>\n",
       "      <th>2030</th>\n",
       "    </tr>\n",
       "  </thead>\n",
       "  <tbody>\n",
       "    <tr>\n",
       "      <th>RJ</th>\n",
       "      <td>0.015696</td>\n",
       "      <td>-2.242685</td>\n",
       "      <td>1.150036</td>\n",
       "      <td>0.991946</td>\n",
       "    </tr>\n",
       "    <tr>\n",
       "      <th>SP</th>\n",
       "      <td>0.953324</td>\n",
       "      <td>-2.021255</td>\n",
       "      <td>-0.334077</td>\n",
       "      <td>0.002118</td>\n",
       "    </tr>\n",
       "  </tbody>\n",
       "</table>\n",
       "</div>"
      ],
      "text/plain": [
       "        2000      2010      2020      2030\n",
       "RJ  0.015696 -2.242685  1.150036  0.991946\n",
       "SP  0.953324 -2.021255 -0.334077  0.002118"
      ]
     },
     "execution_count": 434,
     "metadata": {
      "tags": []
     },
     "output_type": "execute_result"
    }
   ],
   "source": [
    "# quando informa um intervalo, o filtro inicia no eixo das linhas\n",
    "df6[1:3]"
   ]
  },
  {
   "cell_type": "code",
   "execution_count": 435,
   "metadata": {
    "colab": {
     "base_uri": "https://localhost:8080/",
     "height": 112
    },
    "id": "iB481fH1Aakx",
    "outputId": "ec6e95cc-e6ca-4ebd-b2f8-16af220026f7"
   },
   "outputs": [
    {
     "data": {
      "text/html": [
       "<div>\n",
       "<style scoped>\n",
       "    .dataframe tbody tr th:only-of-type {\n",
       "        vertical-align: middle;\n",
       "    }\n",
       "\n",
       "    .dataframe tbody tr th {\n",
       "        vertical-align: top;\n",
       "    }\n",
       "\n",
       "    .dataframe thead th {\n",
       "        text-align: right;\n",
       "    }\n",
       "</style>\n",
       "<table border=\"1\" class=\"dataframe\">\n",
       "  <thead>\n",
       "    <tr style=\"text-align: right;\">\n",
       "      <th></th>\n",
       "      <th>2000</th>\n",
       "      <th>2030</th>\n",
       "    </tr>\n",
       "  </thead>\n",
       "  <tbody>\n",
       "    <tr>\n",
       "      <th>RJ</th>\n",
       "      <td>0.015696</td>\n",
       "      <td>0.991946</td>\n",
       "    </tr>\n",
       "    <tr>\n",
       "      <th>SP</th>\n",
       "      <td>0.953324</td>\n",
       "      <td>0.002118</td>\n",
       "    </tr>\n",
       "  </tbody>\n",
       "</table>\n",
       "</div>"
      ],
      "text/plain": [
       "        2000      2030\n",
       "RJ  0.015696  0.991946\n",
       "SP  0.953324  0.002118"
      ]
     },
     "execution_count": 435,
     "metadata": {
      "tags": []
     },
     "output_type": "execute_result"
    }
   ],
   "source": [
    "# subconjunto de linhas e colunas (podemos misturar acesso pelo indice e pelo rotulo no mesmo comando)\n",
    "df6[1:3][[2000, 2030]]"
   ]
  },
  {
   "cell_type": "code",
   "execution_count": 436,
   "metadata": {
    "colab": {
     "base_uri": "https://localhost:8080/"
    },
    "id": "DnlBEIx3Baa9",
    "outputId": "b84ecb69-c585-44b3-b987-7984a8e0b9bd"
   },
   "outputs": [
    {
     "data": {
      "text/plain": [
       "RJ    0.991946\n",
       "SP    0.002118\n",
       "Name: 2030, dtype: float64"
      ]
     },
     "execution_count": 436,
     "metadata": {
      "tags": []
     },
     "output_type": "execute_result"
    }
   ],
   "source": [
    "# acessando dados com filtro: somente dados onde no ano de 2030 os valores são maiores que Zero\n",
    "df6[df6[2030] > 0][2030]"
   ]
  },
  {
   "cell_type": "code",
   "execution_count": 437,
   "metadata": {
    "colab": {
     "base_uri": "https://localhost:8080/",
     "height": 175
    },
    "id": "7D-UfcepCA-d",
    "outputId": "8740193b-849e-43bd-bf21-bfa475d4fb6f"
   },
   "outputs": [
    {
     "data": {
      "text/html": [
       "<div>\n",
       "<style scoped>\n",
       "    .dataframe tbody tr th:only-of-type {\n",
       "        vertical-align: middle;\n",
       "    }\n",
       "\n",
       "    .dataframe tbody tr th {\n",
       "        vertical-align: top;\n",
       "    }\n",
       "\n",
       "    .dataframe thead th {\n",
       "        text-align: right;\n",
       "    }\n",
       "</style>\n",
       "<table border=\"1\" class=\"dataframe\">\n",
       "  <thead>\n",
       "    <tr style=\"text-align: right;\">\n",
       "      <th></th>\n",
       "      <th>2000</th>\n",
       "      <th>2010</th>\n",
       "      <th>2020</th>\n",
       "      <th>2030</th>\n",
       "    </tr>\n",
       "  </thead>\n",
       "  <tbody>\n",
       "    <tr>\n",
       "      <th>ES</th>\n",
       "      <td>0.000000</td>\n",
       "      <td>0.887163</td>\n",
       "      <td>0.859588</td>\n",
       "      <td>0.000000</td>\n",
       "    </tr>\n",
       "    <tr>\n",
       "      <th>RJ</th>\n",
       "      <td>0.015696</td>\n",
       "      <td>0.000000</td>\n",
       "      <td>1.150036</td>\n",
       "      <td>0.991946</td>\n",
       "    </tr>\n",
       "    <tr>\n",
       "      <th>SP</th>\n",
       "      <td>0.953324</td>\n",
       "      <td>0.000000</td>\n",
       "      <td>0.000000</td>\n",
       "      <td>0.002118</td>\n",
       "    </tr>\n",
       "    <tr>\n",
       "      <th>MG</th>\n",
       "      <td>0.405453</td>\n",
       "      <td>0.289092</td>\n",
       "      <td>1.321158</td>\n",
       "      <td>0.000000</td>\n",
       "    </tr>\n",
       "  </tbody>\n",
       "</table>\n",
       "</div>"
      ],
      "text/plain": [
       "        2000      2010      2020      2030\n",
       "ES  0.000000  0.887163  0.859588  0.000000\n",
       "RJ  0.015696  0.000000  1.150036  0.991946\n",
       "SP  0.953324  0.000000  0.000000  0.002118\n",
       "MG  0.405453  0.289092  1.321158  0.000000"
      ]
     },
     "execution_count": 437,
     "metadata": {
      "tags": []
     },
     "output_type": "execute_result"
    }
   ],
   "source": [
    "# atribuindo valores Zero onde o valor for negativo\n",
    "df6[df6 < 0] = 0\n",
    "df6"
   ]
  },
  {
   "cell_type": "markdown",
   "metadata": {
    "id": "tDZ35ZLaBTum"
   },
   "source": [
    "### usando loc e iloc"
   ]
  },
  {
   "cell_type": "code",
   "execution_count": 478,
   "metadata": {
    "colab": {
     "base_uri": "https://localhost:8080/"
    },
    "id": "ia9cNI69AmEb",
    "outputId": "528c8894-2841-4ac0-f950-0d1d36e1ea21"
   },
   "outputs": [
    {
     "data": {
      "text/plain": [
       "2000    0.000000\n",
       "2020    0.859588\n",
       "Name: ES, dtype: float64"
      ]
     },
     "execution_count": 478,
     "metadata": {
      "tags": []
     },
     "output_type": "execute_result"
    }
   ],
   "source": [
    "# selecionando linhas e colunas pelos rótulos: df6.loc[ [<linhas], [<colunas>] ] \n",
    "df6.loc[\"ES\", [2000, 2020]] "
   ]
  },
  {
   "cell_type": "code",
   "execution_count": 479,
   "metadata": {
    "colab": {
     "base_uri": "https://localhost:8080/"
    },
    "id": "4VsqHSrqBMie",
    "outputId": "cbae18b9-45f4-4932-8dd8-e823d680ad91"
   },
   "outputs": [
    {
     "data": {
      "text/plain": [
       "2000    0.000000\n",
       "2020    0.859588\n",
       "Name: ES, dtype: float64"
      ]
     },
     "execution_count": 479,
     "metadata": {
      "tags": []
     },
     "output_type": "execute_result"
    }
   ],
   "source": [
    "# iloc funciona da mesma forma. Mas opera com os índices implicitos que iniciam em zero\n",
    "# o mesmo comando acima acessando pelos índices\n",
    "df6.iloc[0, [0,2]]"
   ]
  },
  {
   "cell_type": "code",
   "execution_count": 440,
   "metadata": {
    "colab": {
     "base_uri": "https://localhost:8080/",
     "height": 143
    },
    "id": "Z_mh5LtCE4Sn",
    "outputId": "d6d7b708-1c21-459d-e542-70f4aa10c8b4"
   },
   "outputs": [
    {
     "data": {
      "text/html": [
       "<div>\n",
       "<style scoped>\n",
       "    .dataframe tbody tr th:only-of-type {\n",
       "        vertical-align: middle;\n",
       "    }\n",
       "\n",
       "    .dataframe tbody tr th {\n",
       "        vertical-align: top;\n",
       "    }\n",
       "\n",
       "    .dataframe thead th {\n",
       "        text-align: right;\n",
       "    }\n",
       "</style>\n",
       "<table border=\"1\" class=\"dataframe\">\n",
       "  <thead>\n",
       "    <tr style=\"text-align: right;\">\n",
       "      <th></th>\n",
       "      <th>2020</th>\n",
       "      <th>2030</th>\n",
       "    </tr>\n",
       "  </thead>\n",
       "  <tbody>\n",
       "    <tr>\n",
       "      <th>RJ</th>\n",
       "      <td>1.150036</td>\n",
       "      <td>0.991946</td>\n",
       "    </tr>\n",
       "    <tr>\n",
       "      <th>SP</th>\n",
       "      <td>0.000000</td>\n",
       "      <td>0.002118</td>\n",
       "    </tr>\n",
       "    <tr>\n",
       "      <th>MG</th>\n",
       "      <td>1.321158</td>\n",
       "      <td>0.000000</td>\n",
       "    </tr>\n",
       "  </tbody>\n",
       "</table>\n",
       "</div>"
      ],
      "text/plain": [
       "        2020      2030\n",
       "RJ  1.150036  0.991946\n",
       "SP  0.000000  0.002118\n",
       "MG  1.321158  0.000000"
      ]
     },
     "execution_count": 440,
     "metadata": {
      "tags": []
     },
     "output_type": "execute_result"
    }
   ],
   "source": [
    "# loc e iloc acessam por intervalos. Não precisam dos colchetes internos para formar os ranges\n",
    "df6.loc[\"RJ\":\"MG\", 2020:2030]"
   ]
  },
  {
   "cell_type": "markdown",
   "metadata": {
    "id": "2SW9qAHrFpA7"
   },
   "source": [
    "## Cálculos e Alinhamento de Dados"
   ]
  },
  {
   "cell_type": "code",
   "execution_count": 441,
   "metadata": {
    "colab": {
     "base_uri": "https://localhost:8080/",
     "height": 143
    },
    "id": "c-qxGwfNFKOX",
    "outputId": "bded86f8-938d-4e01-f32b-b0870f1e898f"
   },
   "outputs": [
    {
     "data": {
      "text/html": [
       "<div>\n",
       "<style scoped>\n",
       "    .dataframe tbody tr th:only-of-type {\n",
       "        vertical-align: middle;\n",
       "    }\n",
       "\n",
       "    .dataframe tbody tr th {\n",
       "        vertical-align: top;\n",
       "    }\n",
       "\n",
       "    .dataframe thead th {\n",
       "        text-align: right;\n",
       "    }\n",
       "</style>\n",
       "<table border=\"1\" class=\"dataframe\">\n",
       "  <thead>\n",
       "    <tr style=\"text-align: right;\">\n",
       "      <th></th>\n",
       "      <th>b</th>\n",
       "      <th>c</th>\n",
       "      <th>d</th>\n",
       "    </tr>\n",
       "  </thead>\n",
       "  <tbody>\n",
       "    <tr>\n",
       "      <th>ES</th>\n",
       "      <td>-0.202646</td>\n",
       "      <td>-0.655969</td>\n",
       "      <td>0.193421</td>\n",
       "    </tr>\n",
       "    <tr>\n",
       "      <th>RJ</th>\n",
       "      <td>0.553439</td>\n",
       "      <td>1.318152</td>\n",
       "      <td>-0.469305</td>\n",
       "    </tr>\n",
       "    <tr>\n",
       "      <th>SP</th>\n",
       "      <td>0.675554</td>\n",
       "      <td>-1.817027</td>\n",
       "      <td>-0.183109</td>\n",
       "    </tr>\n",
       "  </tbody>\n",
       "</table>\n",
       "</div>"
      ],
      "text/plain": [
       "           b         c         d\n",
       "ES -0.202646 -0.655969  0.193421\n",
       "RJ  0.553439  1.318152 -0.469305\n",
       "SP  0.675554 -1.817027 -0.183109"
      ]
     },
     "execution_count": 441,
     "metadata": {
      "tags": []
     },
     "output_type": "execute_result"
    }
   ],
   "source": [
    "# dois DataFrames que compartilham algumas colunas e indices podem ser alinhados\n",
    "# mesmo com shapes diferentes\n",
    "\n",
    "data_left = pd.DataFrame(np.random.randn(9).reshape(3,3),\n",
    "                         index=[\"ES\", \"RJ\", \"SP\"],\n",
    "                         columns=list(\"bcd\"))\n",
    "data_left"
   ]
  },
  {
   "cell_type": "code",
   "execution_count": 442,
   "metadata": {
    "colab": {
     "base_uri": "https://localhost:8080/",
     "height": 175
    },
    "id": "8Ly8IBc2Gfze",
    "outputId": "8f9f0800-d5c6-47f1-e310-229f0816ba9d"
   },
   "outputs": [
    {
     "data": {
      "text/html": [
       "<div>\n",
       "<style scoped>\n",
       "    .dataframe tbody tr th:only-of-type {\n",
       "        vertical-align: middle;\n",
       "    }\n",
       "\n",
       "    .dataframe tbody tr th {\n",
       "        vertical-align: top;\n",
       "    }\n",
       "\n",
       "    .dataframe thead th {\n",
       "        text-align: right;\n",
       "    }\n",
       "</style>\n",
       "<table border=\"1\" class=\"dataframe\">\n",
       "  <thead>\n",
       "    <tr style=\"text-align: right;\">\n",
       "      <th></th>\n",
       "      <th>b</th>\n",
       "      <th>d</th>\n",
       "      <th>e</th>\n",
       "    </tr>\n",
       "  </thead>\n",
       "  <tbody>\n",
       "    <tr>\n",
       "      <th>SP</th>\n",
       "      <td>1.058969</td>\n",
       "      <td>-0.397840</td>\n",
       "      <td>0.337438</td>\n",
       "    </tr>\n",
       "    <tr>\n",
       "      <th>RJ</th>\n",
       "      <td>1.047579</td>\n",
       "      <td>1.045938</td>\n",
       "      <td>0.863717</td>\n",
       "    </tr>\n",
       "    <tr>\n",
       "      <th>MG</th>\n",
       "      <td>-0.122092</td>\n",
       "      <td>0.124713</td>\n",
       "      <td>-0.322795</td>\n",
       "    </tr>\n",
       "    <tr>\n",
       "      <th>RS</th>\n",
       "      <td>0.841675</td>\n",
       "      <td>2.390961</td>\n",
       "      <td>0.076200</td>\n",
       "    </tr>\n",
       "  </tbody>\n",
       "</table>\n",
       "</div>"
      ],
      "text/plain": [
       "           b         d         e\n",
       "SP  1.058969 -0.397840  0.337438\n",
       "RJ  1.047579  1.045938  0.863717\n",
       "MG -0.122092  0.124713 -0.322795\n",
       "RS  0.841675  2.390961  0.076200"
      ]
     },
     "execution_count": 442,
     "metadata": {
      "tags": []
     },
     "output_type": "execute_result"
    }
   ],
   "source": [
    "# possue shape diferente\n",
    "data_rigth = pd.DataFrame(np.random.randn(12).reshape(4, 3),\n",
    "                          index=[\"SP\", \"RJ\", \"MG\", \"RS\"],\n",
    "                          columns=list(\"bde\"))\n",
    "data_rigth"
   ]
  },
  {
   "cell_type": "code",
   "execution_count": 443,
   "metadata": {
    "colab": {
     "base_uri": "https://localhost:8080/",
     "height": 205
    },
    "id": "qJAk9JbeHRKx",
    "outputId": "6dbab8fa-8089-4458-8e2a-2c8c6773aef3"
   },
   "outputs": [
    {
     "data": {
      "text/html": [
       "<div>\n",
       "<style scoped>\n",
       "    .dataframe tbody tr th:only-of-type {\n",
       "        vertical-align: middle;\n",
       "    }\n",
       "\n",
       "    .dataframe tbody tr th {\n",
       "        vertical-align: top;\n",
       "    }\n",
       "\n",
       "    .dataframe thead th {\n",
       "        text-align: right;\n",
       "    }\n",
       "</style>\n",
       "<table border=\"1\" class=\"dataframe\">\n",
       "  <thead>\n",
       "    <tr style=\"text-align: right;\">\n",
       "      <th></th>\n",
       "      <th>b</th>\n",
       "      <th>c</th>\n",
       "      <th>d</th>\n",
       "      <th>e</th>\n",
       "    </tr>\n",
       "  </thead>\n",
       "  <tbody>\n",
       "    <tr>\n",
       "      <th>ES</th>\n",
       "      <td>NaN</td>\n",
       "      <td>NaN</td>\n",
       "      <td>NaN</td>\n",
       "      <td>NaN</td>\n",
       "    </tr>\n",
       "    <tr>\n",
       "      <th>MG</th>\n",
       "      <td>NaN</td>\n",
       "      <td>NaN</td>\n",
       "      <td>NaN</td>\n",
       "      <td>NaN</td>\n",
       "    </tr>\n",
       "    <tr>\n",
       "      <th>RJ</th>\n",
       "      <td>1.601017</td>\n",
       "      <td>NaN</td>\n",
       "      <td>0.576633</td>\n",
       "      <td>NaN</td>\n",
       "    </tr>\n",
       "    <tr>\n",
       "      <th>RS</th>\n",
       "      <td>NaN</td>\n",
       "      <td>NaN</td>\n",
       "      <td>NaN</td>\n",
       "      <td>NaN</td>\n",
       "    </tr>\n",
       "    <tr>\n",
       "      <th>SP</th>\n",
       "      <td>1.734523</td>\n",
       "      <td>NaN</td>\n",
       "      <td>-0.580949</td>\n",
       "      <td>NaN</td>\n",
       "    </tr>\n",
       "  </tbody>\n",
       "</table>\n",
       "</div>"
      ],
      "text/plain": [
       "           b   c         d   e\n",
       "ES       NaN NaN       NaN NaN\n",
       "MG       NaN NaN       NaN NaN\n",
       "RJ  1.601017 NaN  0.576633 NaN\n",
       "RS       NaN NaN       NaN NaN\n",
       "SP  1.734523 NaN -0.580949 NaN"
      ]
     },
     "execution_count": 443,
     "metadata": {
      "tags": []
     },
     "output_type": "execute_result"
    }
   ],
   "source": [
    "# o que acontece ao somar os dos dfs com shapes diferentes\n",
    "# acontece o alinhamento pelos rotulos dos indices\n",
    "# se o calculo envolver algum valor NaN então retorna NaN\n",
    "\n",
    "# só retorna algum resultado onde houver um inner join. apenas a coluna b e d e linhas RJ e SP existem nos dois\n",
    "data_left + data_rigth"
   ]
  },
  {
   "cell_type": "code",
   "execution_count": 444,
   "metadata": {
    "colab": {
     "base_uri": "https://localhost:8080/",
     "height": 205
    },
    "id": "qKH19NsLHc8k",
    "outputId": "c43b4c86-6feb-45bd-b770-f7f2fed2069a"
   },
   "outputs": [
    {
     "data": {
      "text/html": [
       "<div>\n",
       "<style scoped>\n",
       "    .dataframe tbody tr th:only-of-type {\n",
       "        vertical-align: middle;\n",
       "    }\n",
       "\n",
       "    .dataframe tbody tr th {\n",
       "        vertical-align: top;\n",
       "    }\n",
       "\n",
       "    .dataframe thead th {\n",
       "        text-align: right;\n",
       "    }\n",
       "</style>\n",
       "<table border=\"1\" class=\"dataframe\">\n",
       "  <thead>\n",
       "    <tr style=\"text-align: right;\">\n",
       "      <th></th>\n",
       "      <th>b</th>\n",
       "      <th>c</th>\n",
       "      <th>d</th>\n",
       "      <th>e</th>\n",
       "    </tr>\n",
       "  </thead>\n",
       "  <tbody>\n",
       "    <tr>\n",
       "      <th>ES</th>\n",
       "      <td>-0.202646</td>\n",
       "      <td>-0.655969</td>\n",
       "      <td>0.193421</td>\n",
       "      <td>NaN</td>\n",
       "    </tr>\n",
       "    <tr>\n",
       "      <th>MG</th>\n",
       "      <td>-0.122092</td>\n",
       "      <td>NaN</td>\n",
       "      <td>0.124713</td>\n",
       "      <td>-0.322795</td>\n",
       "    </tr>\n",
       "    <tr>\n",
       "      <th>RJ</th>\n",
       "      <td>1.601017</td>\n",
       "      <td>1.318152</td>\n",
       "      <td>0.576633</td>\n",
       "      <td>0.863717</td>\n",
       "    </tr>\n",
       "    <tr>\n",
       "      <th>RS</th>\n",
       "      <td>0.841675</td>\n",
       "      <td>NaN</td>\n",
       "      <td>2.390961</td>\n",
       "      <td>0.076200</td>\n",
       "    </tr>\n",
       "    <tr>\n",
       "      <th>SP</th>\n",
       "      <td>1.734523</td>\n",
       "      <td>-1.817027</td>\n",
       "      <td>-0.580949</td>\n",
       "      <td>0.337438</td>\n",
       "    </tr>\n",
       "  </tbody>\n",
       "</table>\n",
       "</div>"
      ],
      "text/plain": [
       "           b         c         d         e\n",
       "ES -0.202646 -0.655969  0.193421       NaN\n",
       "MG -0.122092       NaN  0.124713 -0.322795\n",
       "RJ  1.601017  1.318152  0.576633  0.863717\n",
       "RS  0.841675       NaN  2.390961  0.076200\n",
       "SP  1.734523 -1.817027 -0.580949  0.337438"
      ]
     },
     "execution_count": 444,
     "metadata": {
      "tags": []
     },
     "output_type": "execute_result"
    }
   ],
   "source": [
    "# preenche com Zero o valor NaN quando um dos elementos da soma for NaN, isso presenva o valor que existe em um dos dois lados\n",
    "# quando os dois valores da soma for NaN retorna NaN\n",
    "data_left.add(data_rigth, fill_value=0)"
   ]
  },
  {
   "cell_type": "code",
   "execution_count": 445,
   "metadata": {
    "colab": {
     "base_uri": "https://localhost:8080/",
     "height": 143
    },
    "id": "x-YUSd-hIfW8",
    "outputId": "1dadc380-99c6-424a-b9b6-6e32b72d11dc"
   },
   "outputs": [
    {
     "data": {
      "text/html": [
       "<div>\n",
       "<style scoped>\n",
       "    .dataframe tbody tr th:only-of-type {\n",
       "        vertical-align: middle;\n",
       "    }\n",
       "\n",
       "    .dataframe tbody tr th {\n",
       "        vertical-align: top;\n",
       "    }\n",
       "\n",
       "    .dataframe thead th {\n",
       "        text-align: right;\n",
       "    }\n",
       "</style>\n",
       "<table border=\"1\" class=\"dataframe\">\n",
       "  <thead>\n",
       "    <tr style=\"text-align: right;\">\n",
       "      <th></th>\n",
       "      <th>b</th>\n",
       "      <th>d</th>\n",
       "      <th>e</th>\n",
       "    </tr>\n",
       "  </thead>\n",
       "  <tbody>\n",
       "    <tr>\n",
       "      <th>ES</th>\n",
       "      <td>-0.202646</td>\n",
       "      <td>0.193421</td>\n",
       "      <td>0</td>\n",
       "    </tr>\n",
       "    <tr>\n",
       "      <th>RJ</th>\n",
       "      <td>0.553439</td>\n",
       "      <td>-0.469305</td>\n",
       "      <td>0</td>\n",
       "    </tr>\n",
       "    <tr>\n",
       "      <th>SP</th>\n",
       "      <td>0.675554</td>\n",
       "      <td>-0.183109</td>\n",
       "      <td>0</td>\n",
       "    </tr>\n",
       "  </tbody>\n",
       "</table>\n",
       "</div>"
      ],
      "text/plain": [
       "           b         d  e\n",
       "ES -0.202646  0.193421  0\n",
       "RJ  0.553439 -0.469305  0\n",
       "SP  0.675554 -0.183109  0"
      ]
     },
     "execution_count": 445,
     "metadata": {
      "tags": []
     },
     "output_type": "execute_result"
    }
   ],
   "source": [
    "# reindexa o data_left usando apenas as colunas do data_rigth. É como um RIGTH JOIN\n",
    "data_left.reindex(columns=data_rigth.columns, fill_value=0)"
   ]
  },
  {
   "cell_type": "markdown",
   "metadata": {
    "id": "9LaFzTzPJ7ER"
   },
   "source": [
    "## Operações entre DataFrames e Series"
   ]
  },
  {
   "cell_type": "code",
   "execution_count": 446,
   "metadata": {
    "colab": {
     "base_uri": "https://localhost:8080/",
     "height": 175
    },
    "id": "1dmU8aFgJV3i",
    "outputId": "6bf348cd-0765-4ae8-8fa1-5ffd6d08fdd4"
   },
   "outputs": [
    {
     "data": {
      "text/html": [
       "<div>\n",
       "<style scoped>\n",
       "    .dataframe tbody tr th:only-of-type {\n",
       "        vertical-align: middle;\n",
       "    }\n",
       "\n",
       "    .dataframe tbody tr th {\n",
       "        vertical-align: top;\n",
       "    }\n",
       "\n",
       "    .dataframe thead th {\n",
       "        text-align: right;\n",
       "    }\n",
       "</style>\n",
       "<table border=\"1\" class=\"dataframe\">\n",
       "  <thead>\n",
       "    <tr style=\"text-align: right;\">\n",
       "      <th></th>\n",
       "      <th>b</th>\n",
       "      <th>d</th>\n",
       "      <th>e</th>\n",
       "    </tr>\n",
       "  </thead>\n",
       "  <tbody>\n",
       "    <tr>\n",
       "      <th>ES</th>\n",
       "      <td>0.0</td>\n",
       "      <td>1.0</td>\n",
       "      <td>2.0</td>\n",
       "    </tr>\n",
       "    <tr>\n",
       "      <th>RJ</th>\n",
       "      <td>3.0</td>\n",
       "      <td>4.0</td>\n",
       "      <td>5.0</td>\n",
       "    </tr>\n",
       "    <tr>\n",
       "      <th>SP</th>\n",
       "      <td>6.0</td>\n",
       "      <td>7.0</td>\n",
       "      <td>8.0</td>\n",
       "    </tr>\n",
       "    <tr>\n",
       "      <th>MG</th>\n",
       "      <td>9.0</td>\n",
       "      <td>10.0</td>\n",
       "      <td>11.0</td>\n",
       "    </tr>\n",
       "  </tbody>\n",
       "</table>\n",
       "</div>"
      ],
      "text/plain": [
       "      b     d     e\n",
       "ES  0.0   1.0   2.0\n",
       "RJ  3.0   4.0   5.0\n",
       "SP  6.0   7.0   8.0\n",
       "MG  9.0  10.0  11.0"
      ]
     },
     "execution_count": 446,
     "metadata": {
      "tags": []
     },
     "output_type": "execute_result"
    }
   ],
   "source": [
    "# criando um df de exemplo\n",
    "df7 = pd.DataFrame(np.arange(12.).reshape((4, 3)),\n",
    "                     columns=list('bde'),\n",
    "                     index=['ES', 'RJ', 'SP', 'MG'])\n",
    "\n",
    "# criando uma serie a partir de uma linha (MG)\n",
    "serie6 = df7.iloc[3]\n",
    "\n",
    "# dataframe do exemplo\n",
    "df7"
   ]
  },
  {
   "cell_type": "code",
   "execution_count": 447,
   "metadata": {
    "colab": {
     "base_uri": "https://localhost:8080/"
    },
    "id": "Bs2gBL1SLjWC",
    "outputId": "3e252898-3061-46dc-d490-5783e384b0b0"
   },
   "outputs": [
    {
     "data": {
      "text/plain": [
       "b     9.0\n",
       "d    10.0\n",
       "e    11.0\n",
       "Name: MG, dtype: float64"
      ]
     },
     "execution_count": 447,
     "metadata": {
      "tags": []
     },
     "output_type": "execute_result"
    }
   ],
   "source": [
    "# serie criada a partir da linha com o indice MG\n",
    "serie6"
   ]
  },
  {
   "cell_type": "code",
   "execution_count": 448,
   "metadata": {
    "colab": {
     "base_uri": "https://localhost:8080/",
     "height": 175
    },
    "id": "qUY87waNKXiU",
    "outputId": "d773a985-51f9-4964-94ff-9147c206f897"
   },
   "outputs": [
    {
     "data": {
      "text/html": [
       "<div>\n",
       "<style scoped>\n",
       "    .dataframe tbody tr th:only-of-type {\n",
       "        vertical-align: middle;\n",
       "    }\n",
       "\n",
       "    .dataframe tbody tr th {\n",
       "        vertical-align: top;\n",
       "    }\n",
       "\n",
       "    .dataframe thead th {\n",
       "        text-align: right;\n",
       "    }\n",
       "</style>\n",
       "<table border=\"1\" class=\"dataframe\">\n",
       "  <thead>\n",
       "    <tr style=\"text-align: right;\">\n",
       "      <th></th>\n",
       "      <th>b</th>\n",
       "      <th>d</th>\n",
       "      <th>e</th>\n",
       "    </tr>\n",
       "  </thead>\n",
       "  <tbody>\n",
       "    <tr>\n",
       "      <th>ES</th>\n",
       "      <td>-9.0</td>\n",
       "      <td>-9.0</td>\n",
       "      <td>-9.0</td>\n",
       "    </tr>\n",
       "    <tr>\n",
       "      <th>RJ</th>\n",
       "      <td>-6.0</td>\n",
       "      <td>-6.0</td>\n",
       "      <td>-6.0</td>\n",
       "    </tr>\n",
       "    <tr>\n",
       "      <th>SP</th>\n",
       "      <td>-3.0</td>\n",
       "      <td>-3.0</td>\n",
       "      <td>-3.0</td>\n",
       "    </tr>\n",
       "    <tr>\n",
       "      <th>MG</th>\n",
       "      <td>0.0</td>\n",
       "      <td>0.0</td>\n",
       "      <td>0.0</td>\n",
       "    </tr>\n",
       "  </tbody>\n",
       "</table>\n",
       "</div>"
      ],
      "text/plain": [
       "      b    d    e\n",
       "ES -9.0 -9.0 -9.0\n",
       "RJ -6.0 -6.0 -6.0\n",
       "SP -3.0 -3.0 -3.0\n",
       "MG  0.0  0.0  0.0"
      ]
     },
     "execution_count": 448,
     "metadata": {
      "tags": []
     },
     "output_type": "execute_result"
    }
   ],
   "source": [
    "# faz o alinhamento do índice da serie com os índice das colunas em df e faz o calculo nos correspondentes para todas as linhas\n",
    "df7 - serie6"
   ]
  },
  {
   "cell_type": "code",
   "execution_count": 449,
   "metadata": {
    "id": "aYUNFYYeKkt3"
   },
   "outputs": [],
   "source": [
    "# df7.sub(serie6, axis=\"index\") ???"
   ]
  },
  {
   "cell_type": "markdown",
   "metadata": {
    "id": "lK3-JyXsMfrw"
   },
   "source": [
    "## Apply: Mapping  e Function\n",
    "Mapeando funções em valores de series. Aplica a função em todos elementos da serie ou coluna"
   ]
  },
  {
   "cell_type": "code",
   "execution_count": 450,
   "metadata": {
    "colab": {
     "base_uri": "https://localhost:8080/",
     "height": 302
    },
    "id": "7PJmvEFmMPLJ",
    "outputId": "ab77a7e2-0827-4564-e01a-74ee7d6ef155"
   },
   "outputs": [
    {
     "name": "stdout",
     "output_type": "stream",
     "text": [
      "df8 original:\n",
      "            b         d         e\n",
      "ES -0.566446  0.036142 -2.074978\n",
      "RJ  0.247792 -0.897157 -0.136795\n",
      "SP  0.018289  0.755414  0.215269\n",
      "MG  0.841009 -1.445810 -1.401973\n",
      "\n"
     ]
    },
    {
     "data": {
      "text/html": [
       "<div>\n",
       "<style scoped>\n",
       "    .dataframe tbody tr th:only-of-type {\n",
       "        vertical-align: middle;\n",
       "    }\n",
       "\n",
       "    .dataframe tbody tr th {\n",
       "        vertical-align: top;\n",
       "    }\n",
       "\n",
       "    .dataframe thead th {\n",
       "        text-align: right;\n",
       "    }\n",
       "</style>\n",
       "<table border=\"1\" class=\"dataframe\">\n",
       "  <thead>\n",
       "    <tr style=\"text-align: right;\">\n",
       "      <th></th>\n",
       "      <th>b</th>\n",
       "      <th>d</th>\n",
       "      <th>e</th>\n",
       "    </tr>\n",
       "  </thead>\n",
       "  <tbody>\n",
       "    <tr>\n",
       "      <th>ES</th>\n",
       "      <td>0.566446</td>\n",
       "      <td>0.036142</td>\n",
       "      <td>2.074978</td>\n",
       "    </tr>\n",
       "    <tr>\n",
       "      <th>RJ</th>\n",
       "      <td>0.247792</td>\n",
       "      <td>0.897157</td>\n",
       "      <td>0.136795</td>\n",
       "    </tr>\n",
       "    <tr>\n",
       "      <th>SP</th>\n",
       "      <td>0.018289</td>\n",
       "      <td>0.755414</td>\n",
       "      <td>0.215269</td>\n",
       "    </tr>\n",
       "    <tr>\n",
       "      <th>MG</th>\n",
       "      <td>0.841009</td>\n",
       "      <td>1.445810</td>\n",
       "      <td>1.401973</td>\n",
       "    </tr>\n",
       "  </tbody>\n",
       "</table>\n",
       "</div>"
      ],
      "text/plain": [
       "           b         d         e\n",
       "ES  0.566446  0.036142  2.074978\n",
       "RJ  0.247792  0.897157  0.136795\n",
       "SP  0.018289  0.755414  0.215269\n",
       "MG  0.841009  1.445810  1.401973"
      ]
     },
     "execution_count": 450,
     "metadata": {
      "tags": []
     },
     "output_type": "execute_result"
    }
   ],
   "source": [
    "# criando um df de exemplo\n",
    "df8 = pd.DataFrame(np.random.randn(12).reshape((4, 3)),\n",
    "                     columns=list('bde'),\n",
    "                     index=['ES', 'RJ', 'SP', 'MG'])\n",
    "\n",
    "print(f\"df8 original:\\n {df8}\\n\")\n",
    "\n",
    "# transforma todos os numeros em absolutos removendo os valores negativos\n",
    "np.abs(df8)"
   ]
  },
  {
   "cell_type": "code",
   "execution_count": 451,
   "metadata": {
    "colab": {
     "base_uri": "https://localhost:8080/"
    },
    "id": "BvYzps6XM1JY",
    "outputId": "a2a4703e-668e-4cce-eddb-a6d6e3fd9678"
   },
   "outputs": [
    {
     "data": {
      "text/plain": [
       "b    1.407455\n",
       "d    2.201224\n",
       "e    2.290246\n",
       "dtype: float64"
      ]
     },
     "execution_count": 451,
     "metadata": {
      "tags": []
     },
     "output_type": "execute_result"
    }
   ],
   "source": [
    "# funções que calculam a diferença entre o max e min de uma coluna\n",
    "funcao_dif_max_min = lambda x: x.max() - x.min()\n",
    "funcao_max = lambda x: x.max()\n",
    "funcao_min = lambda x: x.min()\n",
    "\n",
    "# APPLY: por padrão a função é aplicada no sentido de agregação das linhas (vertical)\n",
    "df8.apply(funcao_dif_max_min)"
   ]
  },
  {
   "cell_type": "code",
   "execution_count": 452,
   "metadata": {
    "colab": {
     "base_uri": "https://localhost:8080/"
    },
    "id": "P7WEmuVpNvfl",
    "outputId": "b5f26776-1be5-4a8a-fc5d-47b54b134ea7"
   },
   "outputs": [
    {
     "data": {
      "text/plain": [
       "b    0.841009\n",
       "d    0.755414\n",
       "e    0.215269\n",
       "dtype: float64"
      ]
     },
     "execution_count": 452,
     "metadata": {
      "tags": []
     },
     "output_type": "execute_result"
    }
   ],
   "source": [
    "df8.apply(funcao_max)"
   ]
  },
  {
   "cell_type": "code",
   "execution_count": 453,
   "metadata": {
    "colab": {
     "base_uri": "https://localhost:8080/"
    },
    "id": "YCxW6k0BOGu9",
    "outputId": "31c633d0-b65c-423d-c183-31660a7cc0e0"
   },
   "outputs": [
    {
     "data": {
      "text/plain": [
       "b   -0.566446\n",
       "d   -1.445810\n",
       "e   -2.074978\n",
       "dtype: float64"
      ]
     },
     "execution_count": 453,
     "metadata": {
      "tags": []
     },
     "output_type": "execute_result"
    }
   ],
   "source": [
    "df8.apply(funcao_min)"
   ]
  },
  {
   "cell_type": "code",
   "execution_count": 454,
   "metadata": {
    "colab": {
     "base_uri": "https://localhost:8080/"
    },
    "id": "LttPlKafOIiJ",
    "outputId": "2b37dde7-c09a-466e-e174-d617d161d3e2"
   },
   "outputs": [
    {
     "data": {
      "text/plain": [
       "ES   -2.074978\n",
       "RJ   -0.897157\n",
       "SP    0.018289\n",
       "MG   -1.445810\n",
       "dtype: float64"
      ]
     },
     "execution_count": 454,
     "metadata": {
      "tags": []
     },
     "output_type": "execute_result"
    }
   ],
   "source": [
    "# aplicar o calculo no sentido das colunas (horizontal)\n",
    "df8.apply(funcao_min, axis=\"columns\")"
   ]
  },
  {
   "cell_type": "code",
   "execution_count": 455,
   "metadata": {
    "colab": {
     "base_uri": "https://localhost:8080/",
     "height": 112
    },
    "id": "I5Jh_3vROhiz",
    "outputId": "890b1126-af63-4e7f-801c-b7ba705ca32a"
   },
   "outputs": [
    {
     "data": {
      "text/html": [
       "<div>\n",
       "<style scoped>\n",
       "    .dataframe tbody tr th:only-of-type {\n",
       "        vertical-align: middle;\n",
       "    }\n",
       "\n",
       "    .dataframe tbody tr th {\n",
       "        vertical-align: top;\n",
       "    }\n",
       "\n",
       "    .dataframe thead th {\n",
       "        text-align: right;\n",
       "    }\n",
       "</style>\n",
       "<table border=\"1\" class=\"dataframe\">\n",
       "  <thead>\n",
       "    <tr style=\"text-align: right;\">\n",
       "      <th></th>\n",
       "      <th>b</th>\n",
       "      <th>d</th>\n",
       "      <th>e</th>\n",
       "    </tr>\n",
       "  </thead>\n",
       "  <tbody>\n",
       "    <tr>\n",
       "      <th>max</th>\n",
       "      <td>0.841009</td>\n",
       "      <td>0.755414</td>\n",
       "      <td>0.215269</td>\n",
       "    </tr>\n",
       "    <tr>\n",
       "      <th>min</th>\n",
       "      <td>-0.566446</td>\n",
       "      <td>-1.445810</td>\n",
       "      <td>-2.074978</td>\n",
       "    </tr>\n",
       "  </tbody>\n",
       "</table>\n",
       "</div>"
      ],
      "text/plain": [
       "            b         d         e\n",
       "max  0.841009  0.755414  0.215269\n",
       "min -0.566446 -1.445810 -2.074978"
      ]
     },
     "execution_count": 455,
     "metadata": {
      "tags": []
     },
     "output_type": "execute_result"
    }
   ],
   "source": [
    "# aplicando uma função com multiplos retornos\n",
    "#def f(x):\n",
    "#  return pd.Series([x.max(), x.min()], index=[\"max\", \"min\"])\n",
    "\n",
    "f_lambda = lambda x: pd.Series([x.max(), x.min()], index=[\"max\", \"min\"])\n",
    "df8.apply(f_lambda)"
   ]
  },
  {
   "cell_type": "code",
   "execution_count": 480,
   "metadata": {
    "colab": {
     "base_uri": "https://localhost:8080/",
     "height": 175
    },
    "id": "GoePCyNRPYp1",
    "outputId": "5b6f6ecb-4550-4eb2-9079-fcabf2a660a9"
   },
   "outputs": [
    {
     "data": {
      "text/html": [
       "<div>\n",
       "<style scoped>\n",
       "    .dataframe tbody tr th:only-of-type {\n",
       "        vertical-align: middle;\n",
       "    }\n",
       "\n",
       "    .dataframe tbody tr th {\n",
       "        vertical-align: top;\n",
       "    }\n",
       "\n",
       "    .dataframe thead th {\n",
       "        text-align: right;\n",
       "    }\n",
       "</style>\n",
       "<table border=\"1\" class=\"dataframe\">\n",
       "  <thead>\n",
       "    <tr style=\"text-align: right;\">\n",
       "      <th></th>\n",
       "      <th>b</th>\n",
       "      <th>d</th>\n",
       "      <th>e</th>\n",
       "    </tr>\n",
       "  </thead>\n",
       "  <tbody>\n",
       "    <tr>\n",
       "      <th>ES</th>\n",
       "      <td>R$ -0.57</td>\n",
       "      <td>R$  0.04</td>\n",
       "      <td>R$ -2.07</td>\n",
       "    </tr>\n",
       "    <tr>\n",
       "      <th>RJ</th>\n",
       "      <td>R$  0.25</td>\n",
       "      <td>R$ -0.90</td>\n",
       "      <td>R$ -0.14</td>\n",
       "    </tr>\n",
       "    <tr>\n",
       "      <th>SP</th>\n",
       "      <td>R$  0.02</td>\n",
       "      <td>R$  0.76</td>\n",
       "      <td>R$  0.22</td>\n",
       "    </tr>\n",
       "    <tr>\n",
       "      <th>MG</th>\n",
       "      <td>R$  0.84</td>\n",
       "      <td>R$ -1.45</td>\n",
       "      <td>R$ -1.40</td>\n",
       "    </tr>\n",
       "  </tbody>\n",
       "</table>\n",
       "</div>"
      ],
      "text/plain": [
       "           b         d         e\n",
       "ES  R$ -0.57  R$  0.04  R$ -2.07\n",
       "RJ  R$  0.25  R$ -0.90  R$ -0.14\n",
       "SP  R$  0.02  R$  0.76  R$  0.22\n",
       "MG  R$  0.84  R$ -1.45  R$ -1.40"
      ]
     },
     "execution_count": 480,
     "metadata": {
      "tags": []
     },
     "output_type": "execute_result"
    }
   ],
   "source": [
    "# applymap: aplicando uma formatação em cada elemento da serie\n",
    "# diferentemente de apply, applymap não faz agregação ela aplica em todas as celulas\n",
    "formato = lambda x: f\"R$ {x: ,.2f}\"\n",
    "df8.applymap(formato)"
   ]
  },
  {
   "cell_type": "code",
   "execution_count": 484,
   "metadata": {
    "colab": {
     "base_uri": "https://localhost:8080/"
    },
    "id": "eoLIPto5QGA6",
    "outputId": "80c97f71-38ff-44df-fbd1-5c4074cfcd88"
   },
   "outputs": [
    {
     "data": {
      "text/plain": [
       "ES    R$ -0.57\n",
       "RJ    R$  0.25\n",
       "SP    R$  0.02\n",
       "MG    R$  0.84\n",
       "Name: b, dtype: object"
      ]
     },
     "execution_count": 484,
     "metadata": {
      "tags": []
     },
     "output_type": "execute_result"
    }
   ],
   "source": [
    "# map aplica a formatacao\n",
    "df8[\"b\"].map(formato)"
   ]
  },
  {
   "cell_type": "markdown",
   "metadata": {
    "id": "vlfsp6BLUIw4"
   },
   "source": [
    "## Ordenação e Rank"
   ]
  },
  {
   "cell_type": "code",
   "execution_count": 458,
   "metadata": {
    "colab": {
     "base_uri": "https://localhost:8080/"
    },
    "id": "bPHeGu76RP18",
    "outputId": "bf8a031d-aea3-4f71-ffb2-f262f30b3e66"
   },
   "outputs": [
    {
     "data": {
      "text/plain": [
       "a    3\n",
       "b    4\n",
       "x    0\n",
       "y    1\n",
       "z    2\n",
       "dtype: int64"
      ]
     },
     "execution_count": 458,
     "metadata": {
      "tags": []
     },
     "output_type": "execute_result"
    }
   ],
   "source": [
    "obj_Series5 = pd.Series(range(5), index=[\"x\", \"y\", \"z\", \"a\", \"b\"])\n",
    "\n",
    "# ordenando uma serie pelo index\n",
    "obj_Series5.sort_index(ascending=True)"
   ]
  },
  {
   "cell_type": "code",
   "execution_count": 459,
   "metadata": {
    "colab": {
     "base_uri": "https://localhost:8080/"
    },
    "id": "Cw5IgXAXbtab",
    "outputId": "faf1e372-ef1f-480f-deba-8a9c49111c25"
   },
   "outputs": [
    {
     "data": {
      "text/plain": [
       "b    4\n",
       "a    3\n",
       "z    2\n",
       "y    1\n",
       "x    0\n",
       "dtype: int64"
      ]
     },
     "execution_count": 459,
     "metadata": {
      "tags": []
     },
     "output_type": "execute_result"
    }
   ],
   "source": [
    "# ordenando uma serie pelos VALORES\n",
    "obj_Series5.sort_values(ascending=False)"
   ]
  },
  {
   "cell_type": "code",
   "execution_count": 460,
   "metadata": {
    "colab": {
     "base_uri": "https://localhost:8080/",
     "height": 112
    },
    "id": "UeK3Gn3Ab2_i",
    "outputId": "0b04d233-ca73-42d3-9098-29bc03dd11cf"
   },
   "outputs": [
    {
     "data": {
      "text/html": [
       "<div>\n",
       "<style scoped>\n",
       "    .dataframe tbody tr th:only-of-type {\n",
       "        vertical-align: middle;\n",
       "    }\n",
       "\n",
       "    .dataframe tbody tr th {\n",
       "        vertical-align: top;\n",
       "    }\n",
       "\n",
       "    .dataframe thead th {\n",
       "        text-align: right;\n",
       "    }\n",
       "</style>\n",
       "<table border=\"1\" class=\"dataframe\">\n",
       "  <thead>\n",
       "    <tr style=\"text-align: right;\">\n",
       "      <th></th>\n",
       "      <th>a</th>\n",
       "      <th>b</th>\n",
       "      <th>c</th>\n",
       "      <th>d</th>\n",
       "    </tr>\n",
       "  </thead>\n",
       "  <tbody>\n",
       "    <tr>\n",
       "      <th>LinhaA</th>\n",
       "      <td>1</td>\n",
       "      <td>2</td>\n",
       "      <td>3</td>\n",
       "      <td>0</td>\n",
       "    </tr>\n",
       "    <tr>\n",
       "      <th>LinhaB</th>\n",
       "      <td>5</td>\n",
       "      <td>6</td>\n",
       "      <td>7</td>\n",
       "      <td>4</td>\n",
       "    </tr>\n",
       "  </tbody>\n",
       "</table>\n",
       "</div>"
      ],
      "text/plain": [
       "        a  b  c  d\n",
       "LinhaA  1  2  3  0\n",
       "LinhaB  5  6  7  4"
      ]
     },
     "execution_count": 460,
     "metadata": {
      "tags": []
     },
     "output_type": "execute_result"
    }
   ],
   "source": [
    "# ordenação de índices de dataframe\n",
    "df9 = pd.DataFrame(np.arange(8).reshape((2, 4)),\n",
    "                     index=['LinhaA', 'LinhaB'],\n",
    "                     columns=['d', 'a', 'b', 'c'])\n",
    "\n",
    "# ordenando as linhas (padrao) pelos valores dos INDICES\n",
    "df9.sort_index()\n",
    "\n",
    "# ordenando as colunas (axis=1) pelos valores dos ROTULOS de coluna\n",
    "df9.sort_index(axis=1)"
   ]
  },
  {
   "cell_type": "code",
   "execution_count": 461,
   "metadata": {
    "colab": {
     "base_uri": "https://localhost:8080/",
     "height": 112
    },
    "id": "Lc5J3XOccoe_",
    "outputId": "e73261f8-f6e8-4002-d333-5c544499010f"
   },
   "outputs": [
    {
     "data": {
      "text/html": [
       "<div>\n",
       "<style scoped>\n",
       "    .dataframe tbody tr th:only-of-type {\n",
       "        vertical-align: middle;\n",
       "    }\n",
       "\n",
       "    .dataframe tbody tr th {\n",
       "        vertical-align: top;\n",
       "    }\n",
       "\n",
       "    .dataframe thead th {\n",
       "        text-align: right;\n",
       "    }\n",
       "</style>\n",
       "<table border=\"1\" class=\"dataframe\">\n",
       "  <thead>\n",
       "    <tr style=\"text-align: right;\">\n",
       "      <th></th>\n",
       "      <th>d</th>\n",
       "      <th>a</th>\n",
       "      <th>b</th>\n",
       "      <th>c</th>\n",
       "    </tr>\n",
       "  </thead>\n",
       "  <tbody>\n",
       "    <tr>\n",
       "      <th>LinhaB</th>\n",
       "      <td>4</td>\n",
       "      <td>5</td>\n",
       "      <td>6</td>\n",
       "      <td>7</td>\n",
       "    </tr>\n",
       "    <tr>\n",
       "      <th>LinhaA</th>\n",
       "      <td>0</td>\n",
       "      <td>1</td>\n",
       "      <td>2</td>\n",
       "      <td>3</td>\n",
       "    </tr>\n",
       "  </tbody>\n",
       "</table>\n",
       "</div>"
      ],
      "text/plain": [
       "        d  a  b  c\n",
       "LinhaB  4  5  6  7\n",
       "LinhaA  0  1  2  3"
      ]
     },
     "execution_count": 461,
     "metadata": {
      "tags": []
     },
     "output_type": "execute_result"
    }
   ],
   "source": [
    "# controlando o sentido da ordenação do índice. ascending=TRUE\n",
    "df9.sort_index(axis=0, ascending=False)"
   ]
  },
  {
   "cell_type": "code",
   "execution_count": 462,
   "metadata": {
    "colab": {
     "base_uri": "https://localhost:8080/",
     "height": 112
    },
    "id": "8Igo2UKqdMr5",
    "outputId": "d1f36251-1530-476a-8d43-18bc91ca7762"
   },
   "outputs": [
    {
     "data": {
      "text/html": [
       "<div>\n",
       "<style scoped>\n",
       "    .dataframe tbody tr th:only-of-type {\n",
       "        vertical-align: middle;\n",
       "    }\n",
       "\n",
       "    .dataframe tbody tr th {\n",
       "        vertical-align: top;\n",
       "    }\n",
       "\n",
       "    .dataframe thead th {\n",
       "        text-align: right;\n",
       "    }\n",
       "</style>\n",
       "<table border=\"1\" class=\"dataframe\">\n",
       "  <thead>\n",
       "    <tr style=\"text-align: right;\">\n",
       "      <th></th>\n",
       "      <th>d</th>\n",
       "      <th>c</th>\n",
       "      <th>b</th>\n",
       "      <th>a</th>\n",
       "    </tr>\n",
       "  </thead>\n",
       "  <tbody>\n",
       "    <tr>\n",
       "      <th>LinhaA</th>\n",
       "      <td>0</td>\n",
       "      <td>3</td>\n",
       "      <td>2</td>\n",
       "      <td>1</td>\n",
       "    </tr>\n",
       "    <tr>\n",
       "      <th>LinhaB</th>\n",
       "      <td>4</td>\n",
       "      <td>7</td>\n",
       "      <td>6</td>\n",
       "      <td>5</td>\n",
       "    </tr>\n",
       "  </tbody>\n",
       "</table>\n",
       "</div>"
      ],
      "text/plain": [
       "        d  c  b  a\n",
       "LinhaA  0  3  2  1\n",
       "LinhaB  4  7  6  5"
      ]
     },
     "execution_count": 462,
     "metadata": {
      "tags": []
     },
     "output_type": "execute_result"
    }
   ],
   "source": [
    "# controlando o sentido da ordenação dos INDICES. ascending=True representa DESC\n",
    "df9.sort_index(axis=1, ascending=False)"
   ]
  },
  {
   "cell_type": "code",
   "execution_count": 463,
   "metadata": {
    "colab": {
     "base_uri": "https://localhost:8080/",
     "height": 112
    },
    "id": "InNajl1udP-6",
    "outputId": "e094cc23-59fd-4c95-db25-653c94c6d8ec"
   },
   "outputs": [
    {
     "data": {
      "text/html": [
       "<div>\n",
       "<style scoped>\n",
       "    .dataframe tbody tr th:only-of-type {\n",
       "        vertical-align: middle;\n",
       "    }\n",
       "\n",
       "    .dataframe tbody tr th {\n",
       "        vertical-align: top;\n",
       "    }\n",
       "\n",
       "    .dataframe thead th {\n",
       "        text-align: right;\n",
       "    }\n",
       "</style>\n",
       "<table border=\"1\" class=\"dataframe\">\n",
       "  <thead>\n",
       "    <tr style=\"text-align: right;\">\n",
       "      <th></th>\n",
       "      <th>d</th>\n",
       "      <th>a</th>\n",
       "      <th>b</th>\n",
       "      <th>c</th>\n",
       "    </tr>\n",
       "  </thead>\n",
       "  <tbody>\n",
       "    <tr>\n",
       "      <th>LinhaB</th>\n",
       "      <td>4</td>\n",
       "      <td>5</td>\n",
       "      <td>6</td>\n",
       "      <td>7</td>\n",
       "    </tr>\n",
       "    <tr>\n",
       "      <th>LinhaA</th>\n",
       "      <td>0</td>\n",
       "      <td>1</td>\n",
       "      <td>2</td>\n",
       "      <td>3</td>\n",
       "    </tr>\n",
       "  </tbody>\n",
       "</table>\n",
       "</div>"
      ],
      "text/plain": [
       "        d  a  b  c\n",
       "LinhaB  4  5  6  7\n",
       "LinhaA  0  1  2  3"
      ]
     },
     "execution_count": 463,
     "metadata": {
      "tags": []
     },
     "output_type": "execute_result"
    }
   ],
   "source": [
    "# ordenando os VALORES de uma ou várias colunas de um um DataFrame\n",
    "df9.sort_values(by=[\"c\", \"d\"], ascending=False)"
   ]
  },
  {
   "cell_type": "code",
   "execution_count": 464,
   "metadata": {
    "colab": {
     "base_uri": "https://localhost:8080/",
     "height": 112
    },
    "id": "OKzvHZ9Yd00U",
    "outputId": "f4a283a6-c54b-4ff9-9495-f54bfcee76af"
   },
   "outputs": [
    {
     "data": {
      "text/html": [
       "<div>\n",
       "<style scoped>\n",
       "    .dataframe tbody tr th:only-of-type {\n",
       "        vertical-align: middle;\n",
       "    }\n",
       "\n",
       "    .dataframe tbody tr th {\n",
       "        vertical-align: top;\n",
       "    }\n",
       "\n",
       "    .dataframe thead th {\n",
       "        text-align: right;\n",
       "    }\n",
       "</style>\n",
       "<table border=\"1\" class=\"dataframe\">\n",
       "  <thead>\n",
       "    <tr style=\"text-align: right;\">\n",
       "      <th></th>\n",
       "      <th>c</th>\n",
       "      <th>b</th>\n",
       "      <th>a</th>\n",
       "      <th>d</th>\n",
       "    </tr>\n",
       "  </thead>\n",
       "  <tbody>\n",
       "    <tr>\n",
       "      <th>LinhaA</th>\n",
       "      <td>3</td>\n",
       "      <td>2</td>\n",
       "      <td>1</td>\n",
       "      <td>0</td>\n",
       "    </tr>\n",
       "    <tr>\n",
       "      <th>LinhaB</th>\n",
       "      <td>7</td>\n",
       "      <td>6</td>\n",
       "      <td>5</td>\n",
       "      <td>4</td>\n",
       "    </tr>\n",
       "  </tbody>\n",
       "</table>\n",
       "</div>"
      ],
      "text/plain": [
       "        c  b  a  d\n",
       "LinhaA  3  2  1  0\n",
       "LinhaB  7  6  5  4"
      ]
     },
     "execution_count": 464,
     "metadata": {
      "tags": []
     },
     "output_type": "execute_result"
    }
   ],
   "source": [
    "# Ordenação dos VALORES no sentido horizontal (colunas)\n",
    "df9.sort_values(by=[\"LinhaB\"], ascending=False, axis=1)"
   ]
  },
  {
   "cell_type": "markdown",
   "metadata": {
    "id": "PPSbl7fefCp7"
   },
   "source": [
    "## Agregação soma, max, min, mean, cumsum\n",
    "Funções de agregação de colunas numéricas. Permite analisar as estatísticas e analisar as distribuições dos valores"
   ]
  },
  {
   "cell_type": "code",
   "execution_count": 465,
   "metadata": {
    "colab": {
     "base_uri": "https://localhost:8080/"
    },
    "id": "avGly6LmfAtS",
    "outputId": "fec890ef-7099-4f36-8665-69559b2a8ed4"
   },
   "outputs": [
    {
     "data": {
      "text/plain": [
       "d     4\n",
       "a     6\n",
       "b     8\n",
       "c    10\n",
       "dtype: int64"
      ]
     },
     "execution_count": 465,
     "metadata": {
      "tags": []
     },
     "output_type": "execute_result"
    }
   ],
   "source": [
    "# a soma acontece no sentido das linhas (vertical) para todas as colunas quando não é especificada\n",
    "df9.sum()"
   ]
  },
  {
   "cell_type": "code",
   "execution_count": 466,
   "metadata": {
    "colab": {
     "base_uri": "https://localhost:8080/"
    },
    "id": "HkDuv-C_eORP",
    "outputId": "4f05b1a9-2af8-4b50-d398-942da61d3253"
   },
   "outputs": [
    {
     "data": {
      "text/plain": [
       "8"
      ]
     },
     "execution_count": 466,
     "metadata": {
      "tags": []
     },
     "output_type": "execute_result"
    }
   ],
   "source": [
    "# soma de apenas uma coluna\n",
    "df9[\"b\"].sum()"
   ]
  },
  {
   "cell_type": "code",
   "execution_count": 467,
   "metadata": {
    "colab": {
     "base_uri": "https://localhost:8080/"
    },
    "id": "9CpV4PKkfYZN",
    "outputId": "fe4e3fc7-c641-4279-f69b-2b6f52c785ad"
   },
   "outputs": [
    {
     "data": {
      "text/plain": [
       "c    10\n",
       "a     6\n",
       "dtype: int64"
      ]
     },
     "execution_count": 467,
     "metadata": {
      "tags": []
     },
     "output_type": "execute_result"
    }
   ],
   "source": [
    "# soma de colunas específicas\n",
    "df9[[\"c\",\"a\"]].sum()"
   ]
  },
  {
   "cell_type": "code",
   "execution_count": 468,
   "metadata": {
    "colab": {
     "base_uri": "https://localhost:8080/"
    },
    "id": "HfvIJvaEfhKp",
    "outputId": "d1ee7df8-db6e-4e3d-8401-d4d1738c1009"
   },
   "outputs": [
    {
     "data": {
      "text/plain": [
       "LinhaA     6\n",
       "LinhaB    22\n",
       "dtype: int64"
      ]
     },
     "execution_count": 468,
     "metadata": {
      "tags": []
     },
     "output_type": "execute_result"
    }
   ],
   "source": [
    "# soma no sentido horizontal, agrega as colunas para obter o todal da linha\n",
    "df9.sum(axis=\"columns\")"
   ]
  },
  {
   "cell_type": "code",
   "execution_count": 469,
   "metadata": {
    "colab": {
     "base_uri": "https://localhost:8080/"
    },
    "id": "iTtLOt0Ef52R",
    "outputId": "99e7b68a-e11e-49c2-d7a9-9830a86d2327"
   },
   "outputs": [
    {
     "data": {
      "text/plain": [
       "LinhaA    6\n",
       "dtype: int64"
      ]
     },
     "execution_count": 469,
     "metadata": {
      "tags": []
     },
     "output_type": "execute_result"
    }
   ],
   "source": [
    "df9[:1].sum(axis=\"columns\")"
   ]
  },
  {
   "cell_type": "code",
   "execution_count": 470,
   "metadata": {
    "colab": {
     "base_uri": "https://localhost:8080/"
    },
    "id": "s1wn8J2mgNRQ",
    "outputId": "5db44354-eacc-40be-970b-075569bd20c6"
   },
   "outputs": [
    {
     "data": {
      "text/plain": [
       "LinhaA    1.5\n",
       "LinhaB    5.5\n",
       "dtype: float64"
      ]
     },
     "execution_count": 470,
     "metadata": {
      "tags": []
     },
     "output_type": "execute_result"
    }
   ],
   "source": [
    "# outras medidas de agregação\n",
    "df9.mean(axis='columns', skipna=False)"
   ]
  },
  {
   "cell_type": "code",
   "execution_count": 471,
   "metadata": {
    "colab": {
     "base_uri": "https://localhost:8080/",
     "height": 112
    },
    "id": "eHpXkFgZgcVw",
    "outputId": "28d2ab0a-c60c-4f68-9e24-6e9443ede43e"
   },
   "outputs": [
    {
     "data": {
      "text/html": [
       "<div>\n",
       "<style scoped>\n",
       "    .dataframe tbody tr th:only-of-type {\n",
       "        vertical-align: middle;\n",
       "    }\n",
       "\n",
       "    .dataframe tbody tr th {\n",
       "        vertical-align: top;\n",
       "    }\n",
       "\n",
       "    .dataframe thead th {\n",
       "        text-align: right;\n",
       "    }\n",
       "</style>\n",
       "<table border=\"1\" class=\"dataframe\">\n",
       "  <thead>\n",
       "    <tr style=\"text-align: right;\">\n",
       "      <th></th>\n",
       "      <th>d</th>\n",
       "      <th>a</th>\n",
       "      <th>b</th>\n",
       "      <th>c</th>\n",
       "    </tr>\n",
       "  </thead>\n",
       "  <tbody>\n",
       "    <tr>\n",
       "      <th>LinhaA</th>\n",
       "      <td>0</td>\n",
       "      <td>1</td>\n",
       "      <td>3</td>\n",
       "      <td>6</td>\n",
       "    </tr>\n",
       "    <tr>\n",
       "      <th>LinhaB</th>\n",
       "      <td>4</td>\n",
       "      <td>9</td>\n",
       "      <td>15</td>\n",
       "      <td>22</td>\n",
       "    </tr>\n",
       "  </tbody>\n",
       "</table>\n",
       "</div>"
      ],
      "text/plain": [
       "        d  a   b   c\n",
       "LinhaA  0  1   3   6\n",
       "LinhaB  4  9  15  22"
      ]
     },
     "execution_count": 471,
     "metadata": {
      "tags": []
     },
     "output_type": "execute_result"
    }
   ],
   "source": [
    "# agregação do acumulado na horizontal (colunas)\n",
    "df9.cumsum(axis=1)"
   ]
  },
  {
   "cell_type": "code",
   "execution_count": 472,
   "metadata": {
    "colab": {
     "base_uri": "https://localhost:8080/",
     "height": 112
    },
    "id": "Y8uQgMUpGL__",
    "outputId": "741004ae-b031-4601-eab4-ccae1c3492c6"
   },
   "outputs": [
    {
     "data": {
      "text/html": [
       "<div>\n",
       "<style scoped>\n",
       "    .dataframe tbody tr th:only-of-type {\n",
       "        vertical-align: middle;\n",
       "    }\n",
       "\n",
       "    .dataframe tbody tr th {\n",
       "        vertical-align: top;\n",
       "    }\n",
       "\n",
       "    .dataframe thead th {\n",
       "        text-align: right;\n",
       "    }\n",
       "</style>\n",
       "<table border=\"1\" class=\"dataframe\">\n",
       "  <thead>\n",
       "    <tr style=\"text-align: right;\">\n",
       "      <th></th>\n",
       "      <th>d</th>\n",
       "      <th>a</th>\n",
       "      <th>b</th>\n",
       "      <th>c</th>\n",
       "    </tr>\n",
       "  </thead>\n",
       "  <tbody>\n",
       "    <tr>\n",
       "      <th>LinhaA</th>\n",
       "      <td>0</td>\n",
       "      <td>1</td>\n",
       "      <td>2</td>\n",
       "      <td>3</td>\n",
       "    </tr>\n",
       "    <tr>\n",
       "      <th>LinhaB</th>\n",
       "      <td>4</td>\n",
       "      <td>6</td>\n",
       "      <td>8</td>\n",
       "      <td>10</td>\n",
       "    </tr>\n",
       "  </tbody>\n",
       "</table>\n",
       "</div>"
      ],
      "text/plain": [
       "        d  a  b   c\n",
       "LinhaA  0  1  2   3\n",
       "LinhaB  4  6  8  10"
      ]
     },
     "execution_count": 472,
     "metadata": {
      "tags": []
     },
     "output_type": "execute_result"
    }
   ],
   "source": [
    "# agregação do acumulado na vertical (linhas)\n",
    "df9.cumsum(axis=0)"
   ]
  },
  {
   "cell_type": "code",
   "execution_count": 473,
   "metadata": {
    "colab": {
     "base_uri": "https://localhost:8080/",
     "height": 299
    },
    "id": "IdMhn299gfyA",
    "outputId": "c6d8a806-05cd-4b1a-a0db-327776c39ed7"
   },
   "outputs": [
    {
     "data": {
      "text/html": [
       "<div>\n",
       "<style scoped>\n",
       "    .dataframe tbody tr th:only-of-type {\n",
       "        vertical-align: middle;\n",
       "    }\n",
       "\n",
       "    .dataframe tbody tr th {\n",
       "        vertical-align: top;\n",
       "    }\n",
       "\n",
       "    .dataframe thead th {\n",
       "        text-align: right;\n",
       "    }\n",
       "</style>\n",
       "<table border=\"1\" class=\"dataframe\">\n",
       "  <thead>\n",
       "    <tr style=\"text-align: right;\">\n",
       "      <th></th>\n",
       "      <th>d</th>\n",
       "      <th>a</th>\n",
       "      <th>b</th>\n",
       "      <th>c</th>\n",
       "    </tr>\n",
       "  </thead>\n",
       "  <tbody>\n",
       "    <tr>\n",
       "      <th>count</th>\n",
       "      <td>2.000000</td>\n",
       "      <td>2.000000</td>\n",
       "      <td>2.000000</td>\n",
       "      <td>2.000000</td>\n",
       "    </tr>\n",
       "    <tr>\n",
       "      <th>mean</th>\n",
       "      <td>2.000000</td>\n",
       "      <td>3.000000</td>\n",
       "      <td>4.000000</td>\n",
       "      <td>5.000000</td>\n",
       "    </tr>\n",
       "    <tr>\n",
       "      <th>std</th>\n",
       "      <td>2.828427</td>\n",
       "      <td>2.828427</td>\n",
       "      <td>2.828427</td>\n",
       "      <td>2.828427</td>\n",
       "    </tr>\n",
       "    <tr>\n",
       "      <th>min</th>\n",
       "      <td>0.000000</td>\n",
       "      <td>1.000000</td>\n",
       "      <td>2.000000</td>\n",
       "      <td>3.000000</td>\n",
       "    </tr>\n",
       "    <tr>\n",
       "      <th>25%</th>\n",
       "      <td>1.000000</td>\n",
       "      <td>2.000000</td>\n",
       "      <td>3.000000</td>\n",
       "      <td>4.000000</td>\n",
       "    </tr>\n",
       "    <tr>\n",
       "      <th>50%</th>\n",
       "      <td>2.000000</td>\n",
       "      <td>3.000000</td>\n",
       "      <td>4.000000</td>\n",
       "      <td>5.000000</td>\n",
       "    </tr>\n",
       "    <tr>\n",
       "      <th>75%</th>\n",
       "      <td>3.000000</td>\n",
       "      <td>4.000000</td>\n",
       "      <td>5.000000</td>\n",
       "      <td>6.000000</td>\n",
       "    </tr>\n",
       "    <tr>\n",
       "      <th>max</th>\n",
       "      <td>4.000000</td>\n",
       "      <td>5.000000</td>\n",
       "      <td>6.000000</td>\n",
       "      <td>7.000000</td>\n",
       "    </tr>\n",
       "  </tbody>\n",
       "</table>\n",
       "</div>"
      ],
      "text/plain": [
       "              d         a         b         c\n",
       "count  2.000000  2.000000  2.000000  2.000000\n",
       "mean   2.000000  3.000000  4.000000  5.000000\n",
       "std    2.828427  2.828427  2.828427  2.828427\n",
       "min    0.000000  1.000000  2.000000  3.000000\n",
       "25%    1.000000  2.000000  3.000000  4.000000\n",
       "50%    2.000000  3.000000  4.000000  5.000000\n",
       "75%    3.000000  4.000000  5.000000  6.000000\n",
       "max    4.000000  5.000000  6.000000  7.000000"
      ]
     },
     "execution_count": 473,
     "metadata": {
      "tags": []
     },
     "output_type": "execute_result"
    }
   ],
   "source": [
    "# Estatísticas descritivas das colunas numéricas\n",
    "df9.describe()"
   ]
  },
  {
   "cell_type": "markdown",
   "metadata": {
    "id": "OUwKkqWgg9hx"
   },
   "source": [
    "## Valores únicos value counts\n",
    "Exibe a lista com valores distintos de uma serie ou de uma coluna de um dataframe"
   ]
  },
  {
   "cell_type": "code",
   "execution_count": 474,
   "metadata": {
    "colab": {
     "base_uri": "https://localhost:8080/"
    },
    "id": "sG-yAekcgqqY",
    "outputId": "8b0b063b-b1f5-4e82-cd3f-342528f3d157"
   },
   "outputs": [
    {
     "data": {
      "text/plain": [
       "array(['c', 'a', 'd', 'b'], dtype=object)"
      ]
     },
     "execution_count": 474,
     "metadata": {
      "tags": []
     },
     "output_type": "execute_result"
    }
   ],
   "source": [
    "# Valores únicos de uma serie\n",
    "obj_Series6 = pd.Series(['c', 'a', 'd', 'a', 'a', 'b', 'b', 'c', 'c'])\n",
    "obj_Series6.unique()"
   ]
  },
  {
   "cell_type": "code",
   "execution_count": 475,
   "metadata": {
    "colab": {
     "base_uri": "https://localhost:8080/"
    },
    "id": "EzLmmkGYhMeX",
    "outputId": "b5f5659b-9816-4d51-f842-60c2d689fc33"
   },
   "outputs": [
    {
     "data": {
      "text/plain": [
       "a    3\n",
       "c    3\n",
       "b    2\n",
       "d    1\n",
       "dtype: int64"
      ]
     },
     "execution_count": 475,
     "metadata": {
      "tags": []
     },
     "output_type": "execute_result"
    }
   ],
   "source": [
    "# valores únicos e frequencia da ocorrência do valor ordenado do maior para o menor\n",
    "obj_Series6.value_counts()"
   ]
  },
  {
   "cell_type": "code",
   "execution_count": 476,
   "metadata": {
    "colab": {
     "base_uri": "https://localhost:8080/"
    },
    "id": "vFiK2xfhE12T",
    "outputId": "85ecdf3a-c4a1-4d76-a040-e65c5a6eb556"
   },
   "outputs": [
    {
     "data": {
      "text/plain": [
       "array([3, 3, 2, 1])"
      ]
     },
     "execution_count": 476,
     "metadata": {
      "tags": []
     },
     "output_type": "execute_result"
    }
   ],
   "source": [
    "# os elementos das categorias agregadas são o index e os totais agregados são os values\n",
    "obj_Series6.value_counts().index\n",
    "obj_Series6.value_counts().values\n"
   ]
  },
  {
   "cell_type": "code",
   "execution_count": 486,
   "metadata": {
    "colab": {
     "base_uri": "https://localhost:8080/"
    },
    "id": "_QTRGYsBhSdo",
    "outputId": "c3ed65a0-8a10-4b44-fd2c-08fbb52feba0"
   },
   "outputs": [
    {
     "data": {
      "text/plain": [
       "4    2\n",
       "3    2\n",
       "1    1\n",
       "Name: Qu1, dtype: int64"
      ]
     },
     "execution_count": 486,
     "metadata": {
      "tags": []
     },
     "output_type": "execute_result"
    }
   ],
   "source": [
    "# totais de valores únicos e frequencia por colunas\n",
    "\n",
    "df10 = pd.DataFrame({'Qu1': [1, 3, 4, 3, 4],\n",
    "                     'Qu2': [2, 3, 1, 2, 3],\n",
    "                     'Qu3': [1, 5, 2, 4, 4]})\n",
    "\n",
    "df10[\"Qu1\"].value_counts()"
   ]
  }
 ],
 "metadata": {
  "colab": {
   "authorship_tag": "ABX9TyNgc6mgn7a1xYzR2pVoTL2R",
   "collapsed_sections": [],
   "include_colab_link": true,
   "name": "Pandas.ipynb",
   "provenance": [],
   "toc_visible": true
  },
  "kernelspec": {
   "display_name": "Python 3",
   "language": "python",
   "name": "python3"
  },
  "language_info": {
   "codemirror_mode": {
    "name": "ipython",
    "version": 3
   },
   "file_extension": ".py",
   "mimetype": "text/x-python",
   "name": "python",
   "nbconvert_exporter": "python",
   "pygments_lexer": "ipython3",
   "version": "3.7.4"
  }
 },
 "nbformat": 4,
 "nbformat_minor": 1
}
