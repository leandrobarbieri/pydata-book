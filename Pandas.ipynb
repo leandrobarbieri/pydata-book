{
  "nbformat": 4,
  "nbformat_minor": 0,
  "metadata": {
    "colab": {
      "name": "Pandas.ipynb",
      "provenance": [],
      "collapsed_sections": [],
      "toc_visible": true,
      "authorship_tag": "ABX9TyMEaUrCTS0t3AY5JzUpAtge",
      "include_colab_link": true
    },
    "kernelspec": {
      "name": "python3",
      "display_name": "Python 3"
    },
    "language_info": {
      "name": "python"
    }
  },
  "cells": [
    {
      "cell_type": "markdown",
      "metadata": {
        "id": "view-in-github",
        "colab_type": "text"
      },
      "source": [
        "<a href=\"https://colab.research.google.com/github/leandrobarbieri/pydata-book/blob/2nd-edition/Pandas.ipynb\" target=\"_parent\"><img src=\"https://colab.research.google.com/assets/colab-badge.svg\" alt=\"Open In Colab\"/></a>"
      ]
    },
    {
      "cell_type": "markdown",
      "metadata": {
        "id": "MNoyLFA2JjOE"
      },
      "source": [
        "# Pandas"
      ]
    },
    {
      "cell_type": "code",
      "metadata": {
        "id": "HHBRVc7NEnD6"
      },
      "source": [
        "# Importando os pacotes/modulos do pandas\n",
        "import pandas as pd\n",
        "from pandas import Series, DataFrame\n",
        "import numpy as np\n",
        "import matplotlib.pyplot as plt\n",
        "\n",
        "# Configurações inicias das bibliotecas\n",
        "np.random.seed(1234)\n",
        "plt.rc('figure', figsize=(10, 6))\n",
        "\n",
        "# salva a quantidade original de linhas exibidas\n",
        "PREVIOUS_MAX_ROWS = pd.options.display.max_rows\n",
        "\n",
        "# set a nova quantidade de itens máximo exibidos ao dar um display em um dataframe, usar ... para representar os itens intermediarios\n",
        "pd.options.display.max_rows = 20\n",
        "\n",
        "# set o formato de apresentação\n",
        "np.set_printoptions(precision=4, suppress=True)\n"
      ],
      "execution_count": null,
      "outputs": []
    },
    {
      "cell_type": "markdown",
      "metadata": {
        "id": "2iqtgZb5Jc70"
      },
      "source": [
        "## Series"
      ]
    },
    {
      "cell_type": "markdown",
      "metadata": {
        "id": "HWzodXMAiCNT"
      },
      "source": [
        "### index e values"
      ]
    },
    {
      "cell_type": "code",
      "metadata": {
        "colab": {
          "base_uri": "https://localhost:8080/"
        },
        "id": "NykuDnEkG3JF",
        "outputId": "d169ab89-bade-4ea6-f9fd-46ac68ab99c4"
      },
      "source": [
        "# Series do pandas é como um array numpy com um indice que pode conter labels\n",
        "serie1 = pd.Series([4, 5, 6, -2, 2])\n",
        "\n",
        "# atribui um indice automaticamente\n",
        "print(f\"{serie1}\\n\")\n",
        "\n",
        "# index é um obj do tipo range com inicio, fim, step\n",
        "print(f\"Tipo: {type(serie1.index)}\\n\")\n",
        "\n",
        "index = [x for x in serie1.index]\n",
        "print(f\"Somente o index: {index}\\n\")"
      ],
      "execution_count": null,
      "outputs": [
        {
          "output_type": "stream",
          "text": [
            "0    4\n",
            "1    5\n",
            "2    6\n",
            "3   -2\n",
            "4    2\n",
            "dtype: int64\n",
            "\n",
            "Tipo: <class 'pandas.core.indexes.range.RangeIndex'>\n",
            "\n",
            "Somente o index: [0, 1, 2, 3, 4]\n",
            "\n"
          ],
          "name": "stdout"
        }
      ]
    },
    {
      "cell_type": "code",
      "metadata": {
        "colab": {
          "base_uri": "https://localhost:8080/"
        },
        "id": "gQhN-au_J4_M",
        "outputId": "8f974265-f38f-440b-82f4-95736d0278f2"
      },
      "source": [
        "# definindo lables para o indice\n",
        "serie2 = pd.Series([1, 2, 4, 5], index=[\"a\", \"b\", \"c\", \"d\"])\n",
        "print(f\"Labels como índice:\\n{serie2}\\n\")\n",
        "print(f\"Indice: {serie2.index} \\nValores: {serie2.values}\")\n"
      ],
      "execution_count": null,
      "outputs": [
        {
          "output_type": "stream",
          "text": [
            "Labels como índice:\n",
            "a    1\n",
            "b    2\n",
            "c    4\n",
            "d    5\n",
            "dtype: int64\n",
            "\n",
            "Indice: Index(['a', 'b', 'c', 'd'], dtype='object') \n",
            "Valores: [1 2 4 5]\n"
          ],
          "name": "stdout"
        }
      ]
    },
    {
      "cell_type": "markdown",
      "metadata": {
        "id": "FTTIQutniJEy"
      },
      "source": [
        "### slice e atribuição"
      ]
    },
    {
      "cell_type": "code",
      "metadata": {
        "colab": {
          "base_uri": "https://localhost:8080/"
        },
        "id": "Hqe3Gp_HQtx8",
        "outputId": "d5edb0fe-daa6-49cb-9d0d-faaba871fdb5"
      },
      "source": [
        "# um item específico\n",
        "serie2[\"a\"]"
      ],
      "execution_count": null,
      "outputs": [
        {
          "output_type": "execute_result",
          "data": {
            "text/plain": [
              "1"
            ]
          },
          "metadata": {
            "tags": []
          },
          "execution_count": 612
        }
      ]
    },
    {
      "cell_type": "code",
      "metadata": {
        "colab": {
          "base_uri": "https://localhost:8080/"
        },
        "id": "KFR6vXaCRZYW",
        "outputId": "d8999c4b-2227-4c19-97dc-ce5e8786d47e"
      },
      "source": [
        "# um range de itens. Limite superior incluido (diferente de indices numpy)\n",
        "serie2[\"a\":\"c\"]"
      ],
      "execution_count": null,
      "outputs": [
        {
          "output_type": "execute_result",
          "data": {
            "text/plain": [
              "a    1\n",
              "b    2\n",
              "c    4\n",
              "dtype: int64"
            ]
          },
          "metadata": {
            "tags": []
          },
          "execution_count": 613
        }
      ]
    },
    {
      "cell_type": "code",
      "metadata": {
        "colab": {
          "base_uri": "https://localhost:8080/"
        },
        "id": "-75Ls6u3Rihi",
        "outputId": "8b36c274-f24e-4ab3-9263-daf1bf61dd5b"
      },
      "source": [
        "# itens específicos em ordem específica\n",
        "serie2[[\"b\", \"d\", \"c\"]]"
      ],
      "execution_count": null,
      "outputs": [
        {
          "output_type": "execute_result",
          "data": {
            "text/plain": [
              "b    2\n",
              "d    5\n",
              "c    4\n",
              "dtype: int64"
            ]
          },
          "metadata": {
            "tags": []
          },
          "execution_count": 614
        }
      ]
    },
    {
      "cell_type": "code",
      "metadata": {
        "colab": {
          "base_uri": "https://localhost:8080/"
        },
        "id": "6NCwTl84SX0X",
        "outputId": "e0809f76-ace1-4d35-80de-0844157d32c1"
      },
      "source": [
        "# atribuir valores\n",
        "serie2[[\"d\", \"b\"]] = 999\n",
        "print(serie2)"
      ],
      "execution_count": null,
      "outputs": [
        {
          "output_type": "stream",
          "text": [
            "a      1\n",
            "b    999\n",
            "c      4\n",
            "d    999\n",
            "dtype: int64\n"
          ],
          "name": "stdout"
        }
      ]
    },
    {
      "cell_type": "code",
      "metadata": {
        "colab": {
          "base_uri": "https://localhost:8080/"
        },
        "id": "lMDQFl2eSpFJ",
        "outputId": "7387b027-23d1-43f5-8d34-c48a9359e3af"
      },
      "source": [
        "# operações logicas nas series retornam resultados fitrados\n",
        "serie_nova = serie2[serie2 < 10]\n",
        "serie_nova"
      ],
      "execution_count": null,
      "outputs": [
        {
          "output_type": "execute_result",
          "data": {
            "text/plain": [
              "a    1\n",
              "c    4\n",
              "dtype: int64"
            ]
          },
          "metadata": {
            "tags": []
          },
          "execution_count": 616
        }
      ]
    },
    {
      "cell_type": "code",
      "metadata": {
        "colab": {
          "base_uri": "https://localhost:8080/"
        },
        "id": "20NZ8HIHTEra",
        "outputId": "438f068a-0f8b-4098-ceef-38185a3e2aa4"
      },
      "source": [
        "# operação vetorizada\n",
        "serie_nova * 2"
      ],
      "execution_count": null,
      "outputs": [
        {
          "output_type": "execute_result",
          "data": {
            "text/plain": [
              "a    2\n",
              "c    8\n",
              "dtype: int64"
            ]
          },
          "metadata": {
            "tags": []
          },
          "execution_count": 617
        }
      ]
    },
    {
      "cell_type": "code",
      "metadata": {
        "colab": {
          "base_uri": "https://localhost:8080/"
        },
        "id": "o5fUoo81THJ5",
        "outputId": "e72e22ed-17f6-45a7-bbf5-3bc4857be7ba"
      },
      "source": [
        "# verificar se um item está na serie (index)\n",
        "\n",
        "# Retorna True/false\n",
        "print(f\"a in serie2: {'a' in serie2}\")\n",
        "\n",
        "# Retona o elemento\n",
        "print(f\"serie2['a']: {serie2['a']}\")\n",
        "\n",
        "# Retona chave/valor\n",
        "print(f\"serie2[serie2.index == 'a']: {serie2[serie2.index == 'a']}\")"
      ],
      "execution_count": null,
      "outputs": [
        {
          "output_type": "stream",
          "text": [
            "a in serie2: True\n",
            "serie2['a']: 1\n",
            "serie2[serie2.index == 'a']: a    1\n",
            "dtype: int64\n"
          ],
          "name": "stdout"
        }
      ]
    },
    {
      "cell_type": "markdown",
      "metadata": {
        "id": "0ACKbCvciX4K"
      },
      "source": [
        "### pareamento a partir do index"
      ]
    },
    {
      "cell_type": "code",
      "metadata": {
        "colab": {
          "base_uri": "https://localhost:8080/"
        },
        "id": "CntXcYQcTZ_7",
        "outputId": "621882e6-3770-437f-f244-2428b95d755a"
      },
      "source": [
        "# Criar uma serie a partir de um dict\n",
        "estados_dict = {\"Sao Paulo\": 45000, \"Rio de Janeiro\": 50141, \"Espirito Santo\": 30914}\n",
        "\n",
        "# os estados são transformados em index e os valores e values\n",
        "serie3 = pd.Series(estados_dict)\n",
        "\n",
        "print(f\"serie3:\\n{serie3}\\n\")\n",
        "print(f\"index:\\n{serie3.index}\\n\")\n",
        "print(f\"values:\\n{serie3.values}\\n\")\n"
      ],
      "execution_count": null,
      "outputs": [
        {
          "output_type": "stream",
          "text": [
            "serie3:\n",
            "Sao Paulo         45000\n",
            "Rio de Janeiro    50141\n",
            "Espirito Santo    30914\n",
            "dtype: int64\n",
            "\n",
            "index:\n",
            "Index(['Sao Paulo', 'Rio de Janeiro', 'Espirito Santo'], dtype='object')\n",
            "\n",
            "values:\n",
            "[45000 50141 30914]\n",
            "\n"
          ],
          "name": "stdout"
        }
      ]
    },
    {
      "cell_type": "code",
      "metadata": {
        "colab": {
          "base_uri": "https://localhost:8080/"
        },
        "id": "C4GxcGFzaW8q",
        "outputId": "ab19b64c-3095-415a-bb35-d3a62c7ca80b"
      },
      "source": [
        "# definindo a propria lista de index. \n",
        "\n",
        "# A lista tem apenas 2 estados, ES ficou de fora \n",
        "estados_index = [\"Sao Paulo\", \"Rio de Janeiro\"]\n",
        "\n",
        "# apesar dos dados terem o ES, ele não aparece porque foi definido apenas SP e RJ na lista de indices\n",
        "serie4 = pd.Series(estados_dict, index=estados_index)\n",
        "serie4"
      ],
      "execution_count": null,
      "outputs": [
        {
          "output_type": "execute_result",
          "data": {
            "text/plain": [
              "Sao Paulo         45000\n",
              "Rio de Janeiro    50141\n",
              "dtype: int64"
            ]
          },
          "metadata": {
            "tags": []
          },
          "execution_count": 620
        }
      ]
    },
    {
      "cell_type": "code",
      "metadata": {
        "colab": {
          "base_uri": "https://localhost:8080/"
        },
        "id": "d1hD8-ymbvqd",
        "outputId": "69f72c38-d05f-4caf-98a6-08bba9f47924"
      },
      "source": [
        "# se um index não existir na serie de dados, será preenchido com NaN\n",
        "# É como se um left join entre os indices informados no parametro index de series e os indices preexistentes na serie de dados\n",
        "serie5 = pd.Series(data=estados_dict, index=[\"Sao Paulo\", \"Rio de Janeiro\", \"Novo Estado\"])\n",
        "serie5"
      ],
      "execution_count": null,
      "outputs": [
        {
          "output_type": "execute_result",
          "data": {
            "text/plain": [
              "Sao Paulo         45000.0\n",
              "Rio de Janeiro    50141.0\n",
              "Novo Estado           NaN\n",
              "dtype: float64"
            ]
          },
          "metadata": {
            "tags": []
          },
          "execution_count": 621
        }
      ]
    },
    {
      "cell_type": "code",
      "metadata": {
        "colab": {
          "base_uri": "https://localhost:8080/"
        },
        "id": "rrrq4_SScIEu",
        "outputId": "c198731e-4787-4aef-c481-b54180f60ebd"
      },
      "source": [
        "# descobrir se existe elementos null na serie\n",
        "# serie5.isnull()\n",
        "pd.isnull(serie5)"
      ],
      "execution_count": null,
      "outputs": [
        {
          "output_type": "execute_result",
          "data": {
            "text/plain": [
              "Sao Paulo         False\n",
              "Rio de Janeiro    False\n",
              "Novo Estado        True\n",
              "dtype: bool"
            ]
          },
          "metadata": {
            "tags": []
          },
          "execution_count": 622
        }
      ]
    },
    {
      "cell_type": "code",
      "metadata": {
        "colab": {
          "base_uri": "https://localhost:8080/"
        },
        "id": "V3jvmTHEdr5I",
        "outputId": "284a5cb8-1885-4f6d-8160-db29c1036b01"
      },
      "source": [
        "# Retorna somente itens null\n",
        "serie5[pd.isnull(serie5)]"
      ],
      "execution_count": null,
      "outputs": [
        {
          "output_type": "execute_result",
          "data": {
            "text/plain": [
              "Novo Estado   NaN\n",
              "dtype: float64"
            ]
          },
          "metadata": {
            "tags": []
          },
          "execution_count": 623
        }
      ]
    },
    {
      "cell_type": "code",
      "metadata": {
        "colab": {
          "base_uri": "https://localhost:8080/"
        },
        "id": "SvroWxYneZuK",
        "outputId": "104edf46-0bc1-4040-f7e9-3721ef8aa376"
      },
      "source": [
        "# somar series faz o pareamento pelo indice\n",
        "# na serie3 existe ES mas na serie5 não\n",
        "# Novo Estado existe na serie5 mas não na serie3\n",
        "# qualquer um que tenha NaN vai gerar um NaN na soma final, mesmo que exista algum valore\n",
        "serie3 + serie5"
      ],
      "execution_count": null,
      "outputs": [
        {
          "output_type": "execute_result",
          "data": {
            "text/plain": [
              "Espirito Santo         NaN\n",
              "Novo Estado            NaN\n",
              "Rio de Janeiro    100282.0\n",
              "Sao Paulo          90000.0\n",
              "dtype: float64"
            ]
          },
          "metadata": {
            "tags": []
          },
          "execution_count": 624
        }
      ]
    },
    {
      "cell_type": "code",
      "metadata": {
        "colab": {
          "base_uri": "https://localhost:8080/"
        },
        "id": "vm6AbnHeelsj",
        "outputId": "666ab61b-db0d-41d4-ce1e-76ed1f48c181"
      },
      "source": [
        "# para somar sem perder o valor caso tenha algum valor NaN na soma\n",
        "# o ES agora retorna a população mesmo com uma soma com NaN (porque serie5 não tem ES)\n",
        "serie3.add(serie5, fill_value=0)"
      ],
      "execution_count": null,
      "outputs": [
        {
          "output_type": "execute_result",
          "data": {
            "text/plain": [
              "Espirito Santo     30914.0\n",
              "Novo Estado            NaN\n",
              "Rio de Janeiro    100282.0\n",
              "Sao Paulo          90000.0\n",
              "dtype: float64"
            ]
          },
          "metadata": {
            "tags": []
          },
          "execution_count": 625
        }
      ]
    },
    {
      "cell_type": "code",
      "metadata": {
        "colab": {
          "base_uri": "https://localhost:8080/"
        },
        "id": "CTMdjJkZgG72",
        "outputId": "29a51703-4adc-412f-bb7a-4d7c6fbbce96"
      },
      "source": [
        "# metadado da serie, identifica o nome para a serie\n",
        "serie5.name = \"Populacao\"\n",
        "# nome do index\n",
        "serie5.index.name = \"Estados\"\n",
        "\n",
        "# renomeando os indices\n",
        "# serie5.index = [\"a\", \"b\", \"c\"]\n",
        "\n",
        "# alterando o nome da coluna de index\n",
        "serie5.index.rename('UF', inplace=True)\n",
        "\n",
        "serie5"
      ],
      "execution_count": null,
      "outputs": [
        {
          "output_type": "execute_result",
          "data": {
            "text/plain": [
              "UF\n",
              "Sao Paulo         45000.0\n",
              "Rio de Janeiro    50141.0\n",
              "Novo Estado           NaN\n",
              "Name: Populacao, dtype: float64"
            ]
          },
          "metadata": {
            "tags": []
          },
          "execution_count": 626
        }
      ]
    },
    {
      "cell_type": "markdown",
      "metadata": {
        "id": "nMMw1oPji9E7"
      },
      "source": [
        "## DataFrames\n",
        "São tabelas com linhas e colunas que podem ser indexadas com os parametros index ou columns.\n",
        "Vários tipos de objetos podem ser transformados em DataFrames (lists, dicts..)\n",
        "Possuem uma sério de funções para manipulação dos dados e filtragem"
      ]
    },
    {
      "cell_type": "markdown",
      "metadata": {
        "id": "Gu4CO5DDTTe4"
      },
      "source": [
        "### criando um dataframe a partir de um dict"
      ]
    },
    {
      "cell_type": "code",
      "metadata": {
        "colab": {
          "base_uri": "https://localhost:8080/",
          "height": 328
        },
        "id": "uiwuGdAwgquH",
        "outputId": "dc23b467-3a3e-40ac-8299-57223ee15406"
      },
      "source": [
        "# são como series multidimensionais que compartilham o mesmo index\n",
        "# possuem index/labels nas linhas (index=) e colunas (columns=)\n",
        "\n",
        "# criando um dataframe a partir de um dict\n",
        "dados1 = {\"estado\": [\"SP\", \"RJ\", \"ES\"] * 3, \n",
        "          \"ano\": [2000, 2000, 2000, 2010, 2010, 2010, 2020, 2020, 2020],\n",
        "          \"populacao\": [50_000, 30_000, 20_000, 55_000, 33_000, 22_000, 60_000, 40_000, 30_000]}\n",
        "\n",
        "# transforma um dicionario em um dataframe\n",
        "df1 = pd.DataFrame(dados1)\n",
        "df1"
      ],
      "execution_count": null,
      "outputs": [
        {
          "output_type": "execute_result",
          "data": {
            "text/html": [
              "<div>\n",
              "<style scoped>\n",
              "    .dataframe tbody tr th:only-of-type {\n",
              "        vertical-align: middle;\n",
              "    }\n",
              "\n",
              "    .dataframe tbody tr th {\n",
              "        vertical-align: top;\n",
              "    }\n",
              "\n",
              "    .dataframe thead th {\n",
              "        text-align: right;\n",
              "    }\n",
              "</style>\n",
              "<table border=\"1\" class=\"dataframe\">\n",
              "  <thead>\n",
              "    <tr style=\"text-align: right;\">\n",
              "      <th></th>\n",
              "      <th>estado</th>\n",
              "      <th>ano</th>\n",
              "      <th>populacao</th>\n",
              "    </tr>\n",
              "  </thead>\n",
              "  <tbody>\n",
              "    <tr>\n",
              "      <th>0</th>\n",
              "      <td>SP</td>\n",
              "      <td>2000</td>\n",
              "      <td>50000</td>\n",
              "    </tr>\n",
              "    <tr>\n",
              "      <th>1</th>\n",
              "      <td>RJ</td>\n",
              "      <td>2000</td>\n",
              "      <td>30000</td>\n",
              "    </tr>\n",
              "    <tr>\n",
              "      <th>2</th>\n",
              "      <td>ES</td>\n",
              "      <td>2000</td>\n",
              "      <td>20000</td>\n",
              "    </tr>\n",
              "    <tr>\n",
              "      <th>3</th>\n",
              "      <td>SP</td>\n",
              "      <td>2010</td>\n",
              "      <td>55000</td>\n",
              "    </tr>\n",
              "    <tr>\n",
              "      <th>4</th>\n",
              "      <td>RJ</td>\n",
              "      <td>2010</td>\n",
              "      <td>33000</td>\n",
              "    </tr>\n",
              "    <tr>\n",
              "      <th>5</th>\n",
              "      <td>ES</td>\n",
              "      <td>2010</td>\n",
              "      <td>22000</td>\n",
              "    </tr>\n",
              "    <tr>\n",
              "      <th>6</th>\n",
              "      <td>SP</td>\n",
              "      <td>2020</td>\n",
              "      <td>60000</td>\n",
              "    </tr>\n",
              "    <tr>\n",
              "      <th>7</th>\n",
              "      <td>RJ</td>\n",
              "      <td>2020</td>\n",
              "      <td>40000</td>\n",
              "    </tr>\n",
              "    <tr>\n",
              "      <th>8</th>\n",
              "      <td>ES</td>\n",
              "      <td>2020</td>\n",
              "      <td>30000</td>\n",
              "    </tr>\n",
              "  </tbody>\n",
              "</table>\n",
              "</div>"
            ],
            "text/plain": [
              "  estado   ano  populacao\n",
              "0     SP  2000      50000\n",
              "1     RJ  2000      30000\n",
              "2     ES  2000      20000\n",
              "3     SP  2010      55000\n",
              "4     RJ  2010      33000\n",
              "5     ES  2010      22000\n",
              "6     SP  2020      60000\n",
              "7     RJ  2020      40000\n",
              "8     ES  2020      30000"
            ]
          },
          "metadata": {
            "tags": []
          },
          "execution_count": 627
        }
      ]
    },
    {
      "cell_type": "markdown",
      "metadata": {
        "id": "_d4t3CD5Tiy0"
      },
      "source": [
        "### listar dataframes"
      ]
    },
    {
      "cell_type": "code",
      "metadata": {
        "colab": {
          "base_uri": "https://localhost:8080/",
          "height": 204
        },
        "id": "jaEbG0KkmV8i",
        "outputId": "11f2a022-c6f3-4aa3-ab4c-4906a69e0ca4"
      },
      "source": [
        "# alguns metodos úteis para listar dataframes\n",
        "\n",
        "# top5\n",
        "df1.head(5)\n",
        "#df1[:5]\n",
        "\n",
        "# ultimos 2\n",
        "# df1.tail(2)\n",
        "# df1[-2:]\n",
        "\n",
        "# lista tudo\n",
        "#display(df1)"
      ],
      "execution_count": null,
      "outputs": [
        {
          "output_type": "execute_result",
          "data": {
            "text/html": [
              "<div>\n",
              "<style scoped>\n",
              "    .dataframe tbody tr th:only-of-type {\n",
              "        vertical-align: middle;\n",
              "    }\n",
              "\n",
              "    .dataframe tbody tr th {\n",
              "        vertical-align: top;\n",
              "    }\n",
              "\n",
              "    .dataframe thead th {\n",
              "        text-align: right;\n",
              "    }\n",
              "</style>\n",
              "<table border=\"1\" class=\"dataframe\">\n",
              "  <thead>\n",
              "    <tr style=\"text-align: right;\">\n",
              "      <th></th>\n",
              "      <th>estado</th>\n",
              "      <th>ano</th>\n",
              "      <th>populacao</th>\n",
              "    </tr>\n",
              "  </thead>\n",
              "  <tbody>\n",
              "    <tr>\n",
              "      <th>0</th>\n",
              "      <td>SP</td>\n",
              "      <td>2000</td>\n",
              "      <td>50000</td>\n",
              "    </tr>\n",
              "    <tr>\n",
              "      <th>1</th>\n",
              "      <td>RJ</td>\n",
              "      <td>2000</td>\n",
              "      <td>30000</td>\n",
              "    </tr>\n",
              "    <tr>\n",
              "      <th>2</th>\n",
              "      <td>ES</td>\n",
              "      <td>2000</td>\n",
              "      <td>20000</td>\n",
              "    </tr>\n",
              "    <tr>\n",
              "      <th>3</th>\n",
              "      <td>SP</td>\n",
              "      <td>2010</td>\n",
              "      <td>55000</td>\n",
              "    </tr>\n",
              "    <tr>\n",
              "      <th>4</th>\n",
              "      <td>RJ</td>\n",
              "      <td>2010</td>\n",
              "      <td>33000</td>\n",
              "    </tr>\n",
              "  </tbody>\n",
              "</table>\n",
              "</div>"
            ],
            "text/plain": [
              "  estado   ano  populacao\n",
              "0     SP  2000      50000\n",
              "1     RJ  2000      30000\n",
              "2     ES  2000      20000\n",
              "3     SP  2010      55000\n",
              "4     RJ  2010      33000"
            ]
          },
          "metadata": {
            "tags": []
          },
          "execution_count": 628
        }
      ]
    },
    {
      "cell_type": "code",
      "metadata": {
        "colab": {
          "base_uri": "https://localhost:8080/"
        },
        "id": "-7eRB8AKqxHj",
        "outputId": "7966b644-b233-4993-8a48-d279c04ac857"
      },
      "source": [
        "# lista algumas colunas\n",
        "df1[[\"estado\", \"populacao\"]]\n",
        "\n",
        "# estatisticas da populaçao\n",
        "df1[\"populacao\"].describe()"
      ],
      "execution_count": null,
      "outputs": [
        {
          "output_type": "execute_result",
          "data": {
            "text/plain": [
              "count        9.000000\n",
              "mean     37777.777778\n",
              "std      14376.871859\n",
              "min      20000.000000\n",
              "25%      30000.000000\n",
              "50%      33000.000000\n",
              "75%      50000.000000\n",
              "max      60000.000000\n",
              "Name: populacao, dtype: float64"
            ]
          },
          "metadata": {
            "tags": []
          },
          "execution_count": 629
        }
      ]
    },
    {
      "cell_type": "markdown",
      "metadata": {
        "id": "05ho16saTqh8"
      },
      "source": [
        "### alterando a sequencia das colunas"
      ]
    },
    {
      "cell_type": "code",
      "metadata": {
        "colab": {
          "base_uri": "https://localhost:8080/",
          "height": 362
        },
        "id": "W4m529zQpX3g",
        "outputId": "fa65acb1-63d0-44ef-9da2-0fef9a6a3e56"
      },
      "source": [
        "print(f\"Sequência atual das colunas: {list(df1.columns)}\\n\")\n",
        "\n",
        "# alterando a sequencia\n",
        "df_sequencia_colunas_alteradas = pd.DataFrame(df1, columns=[\"ano\", \"estado\", \"populacao\"])\n",
        "df_sequencia_colunas_alteradas"
      ],
      "execution_count": null,
      "outputs": [
        {
          "output_type": "stream",
          "text": [
            "Sequência atual das colunas: ['estado', 'ano', 'populacao']\n",
            "\n"
          ],
          "name": "stdout"
        },
        {
          "output_type": "execute_result",
          "data": {
            "text/html": [
              "<div>\n",
              "<style scoped>\n",
              "    .dataframe tbody tr th:only-of-type {\n",
              "        vertical-align: middle;\n",
              "    }\n",
              "\n",
              "    .dataframe tbody tr th {\n",
              "        vertical-align: top;\n",
              "    }\n",
              "\n",
              "    .dataframe thead th {\n",
              "        text-align: right;\n",
              "    }\n",
              "</style>\n",
              "<table border=\"1\" class=\"dataframe\">\n",
              "  <thead>\n",
              "    <tr style=\"text-align: right;\">\n",
              "      <th></th>\n",
              "      <th>ano</th>\n",
              "      <th>estado</th>\n",
              "      <th>populacao</th>\n",
              "    </tr>\n",
              "  </thead>\n",
              "  <tbody>\n",
              "    <tr>\n",
              "      <th>0</th>\n",
              "      <td>2000</td>\n",
              "      <td>SP</td>\n",
              "      <td>50000</td>\n",
              "    </tr>\n",
              "    <tr>\n",
              "      <th>1</th>\n",
              "      <td>2000</td>\n",
              "      <td>RJ</td>\n",
              "      <td>30000</td>\n",
              "    </tr>\n",
              "    <tr>\n",
              "      <th>2</th>\n",
              "      <td>2000</td>\n",
              "      <td>ES</td>\n",
              "      <td>20000</td>\n",
              "    </tr>\n",
              "    <tr>\n",
              "      <th>3</th>\n",
              "      <td>2010</td>\n",
              "      <td>SP</td>\n",
              "      <td>55000</td>\n",
              "    </tr>\n",
              "    <tr>\n",
              "      <th>4</th>\n",
              "      <td>2010</td>\n",
              "      <td>RJ</td>\n",
              "      <td>33000</td>\n",
              "    </tr>\n",
              "    <tr>\n",
              "      <th>5</th>\n",
              "      <td>2010</td>\n",
              "      <td>ES</td>\n",
              "      <td>22000</td>\n",
              "    </tr>\n",
              "    <tr>\n",
              "      <th>6</th>\n",
              "      <td>2020</td>\n",
              "      <td>SP</td>\n",
              "      <td>60000</td>\n",
              "    </tr>\n",
              "    <tr>\n",
              "      <th>7</th>\n",
              "      <td>2020</td>\n",
              "      <td>RJ</td>\n",
              "      <td>40000</td>\n",
              "    </tr>\n",
              "    <tr>\n",
              "      <th>8</th>\n",
              "      <td>2020</td>\n",
              "      <td>ES</td>\n",
              "      <td>30000</td>\n",
              "    </tr>\n",
              "  </tbody>\n",
              "</table>\n",
              "</div>"
            ],
            "text/plain": [
              "    ano estado  populacao\n",
              "0  2000     SP      50000\n",
              "1  2000     RJ      30000\n",
              "2  2000     ES      20000\n",
              "3  2010     SP      55000\n",
              "4  2010     RJ      33000\n",
              "5  2010     ES      22000\n",
              "6  2020     SP      60000\n",
              "7  2020     RJ      40000\n",
              "8  2020     ES      30000"
            ]
          },
          "metadata": {
            "tags": []
          },
          "execution_count": 630
        }
      ]
    },
    {
      "cell_type": "markdown",
      "metadata": {
        "id": "mIx9YPq9TxbU"
      },
      "source": [
        "### criando colunas em df existente"
      ]
    },
    {
      "cell_type": "code",
      "metadata": {
        "id": "eTXPvg7cpf5I"
      },
      "source": [
        "# criando um df novo com colunas e indices que ainda não exitem no dict (coluna dif e index 9)\n",
        "\n",
        "df3 = pd.DataFrame(dados1, columns=[\"ano\", \"estado\", \"populacao\", \"dif\"], \n",
        "                                          index=[0, 1, 2, 3, 4, 5, 6, 7, 8])\n"
      ],
      "execution_count": null,
      "outputs": []
    },
    {
      "cell_type": "code",
      "metadata": {
        "id": "d1XakZA_vDqi",
        "colab": {
          "base_uri": "https://localhost:8080/",
          "height": 328
        },
        "outputId": "74afe69c-e1b3-4deb-aba5-512fb443e3d9"
      },
      "source": [
        "df3"
      ],
      "execution_count": null,
      "outputs": [
        {
          "output_type": "execute_result",
          "data": {
            "text/html": [
              "<div>\n",
              "<style scoped>\n",
              "    .dataframe tbody tr th:only-of-type {\n",
              "        vertical-align: middle;\n",
              "    }\n",
              "\n",
              "    .dataframe tbody tr th {\n",
              "        vertical-align: top;\n",
              "    }\n",
              "\n",
              "    .dataframe thead th {\n",
              "        text-align: right;\n",
              "    }\n",
              "</style>\n",
              "<table border=\"1\" class=\"dataframe\">\n",
              "  <thead>\n",
              "    <tr style=\"text-align: right;\">\n",
              "      <th></th>\n",
              "      <th>ano</th>\n",
              "      <th>estado</th>\n",
              "      <th>populacao</th>\n",
              "      <th>dif</th>\n",
              "    </tr>\n",
              "  </thead>\n",
              "  <tbody>\n",
              "    <tr>\n",
              "      <th>0</th>\n",
              "      <td>2000</td>\n",
              "      <td>SP</td>\n",
              "      <td>50000</td>\n",
              "      <td>NaN</td>\n",
              "    </tr>\n",
              "    <tr>\n",
              "      <th>1</th>\n",
              "      <td>2000</td>\n",
              "      <td>RJ</td>\n",
              "      <td>30000</td>\n",
              "      <td>NaN</td>\n",
              "    </tr>\n",
              "    <tr>\n",
              "      <th>2</th>\n",
              "      <td>2000</td>\n",
              "      <td>ES</td>\n",
              "      <td>20000</td>\n",
              "      <td>NaN</td>\n",
              "    </tr>\n",
              "    <tr>\n",
              "      <th>3</th>\n",
              "      <td>2010</td>\n",
              "      <td>SP</td>\n",
              "      <td>55000</td>\n",
              "      <td>NaN</td>\n",
              "    </tr>\n",
              "    <tr>\n",
              "      <th>4</th>\n",
              "      <td>2010</td>\n",
              "      <td>RJ</td>\n",
              "      <td>33000</td>\n",
              "      <td>NaN</td>\n",
              "    </tr>\n",
              "    <tr>\n",
              "      <th>5</th>\n",
              "      <td>2010</td>\n",
              "      <td>ES</td>\n",
              "      <td>22000</td>\n",
              "      <td>NaN</td>\n",
              "    </tr>\n",
              "    <tr>\n",
              "      <th>6</th>\n",
              "      <td>2020</td>\n",
              "      <td>SP</td>\n",
              "      <td>60000</td>\n",
              "      <td>NaN</td>\n",
              "    </tr>\n",
              "    <tr>\n",
              "      <th>7</th>\n",
              "      <td>2020</td>\n",
              "      <td>RJ</td>\n",
              "      <td>40000</td>\n",
              "      <td>NaN</td>\n",
              "    </tr>\n",
              "    <tr>\n",
              "      <th>8</th>\n",
              "      <td>2020</td>\n",
              "      <td>ES</td>\n",
              "      <td>30000</td>\n",
              "      <td>NaN</td>\n",
              "    </tr>\n",
              "  </tbody>\n",
              "</table>\n",
              "</div>"
            ],
            "text/plain": [
              "    ano estado  populacao  dif\n",
              "0  2000     SP      50000  NaN\n",
              "1  2000     RJ      30000  NaN\n",
              "2  2000     ES      20000  NaN\n",
              "3  2010     SP      55000  NaN\n",
              "4  2010     RJ      33000  NaN\n",
              "5  2010     ES      22000  NaN\n",
              "6  2020     SP      60000  NaN\n",
              "7  2020     RJ      40000  NaN\n",
              "8  2020     ES      30000  NaN"
            ]
          },
          "metadata": {
            "tags": []
          },
          "execution_count": 632
        }
      ]
    },
    {
      "cell_type": "markdown",
      "metadata": {
        "id": "l6A2rxmCT6ac"
      },
      "source": [
        "### filtrando linhas e colunas loc e iloc"
      ]
    },
    {
      "cell_type": "code",
      "metadata": {
        "colab": {
          "base_uri": "https://localhost:8080/",
          "height": 142
        },
        "id": "2fAjiAGm_MCM",
        "outputId": "40eac5ef-ea0f-4c38-edf1-c0138b9f7afd"
      },
      "source": [
        "# localizando linhas e colunas usando loc e iloc\n",
        "\n",
        "# filtrando uma coluna\n",
        "dados_es = df3.loc[df3[\"estado\"] == \"ES\", [\"estado\", \"ano\", \"populacao\"]]\n",
        "dados_es\n",
        "#print(dados_es[[\"ano\", \"estado\", \"populacao\"]])"
      ],
      "execution_count": null,
      "outputs": [
        {
          "output_type": "execute_result",
          "data": {
            "text/html": [
              "<div>\n",
              "<style scoped>\n",
              "    .dataframe tbody tr th:only-of-type {\n",
              "        vertical-align: middle;\n",
              "    }\n",
              "\n",
              "    .dataframe tbody tr th {\n",
              "        vertical-align: top;\n",
              "    }\n",
              "\n",
              "    .dataframe thead th {\n",
              "        text-align: right;\n",
              "    }\n",
              "</style>\n",
              "<table border=\"1\" class=\"dataframe\">\n",
              "  <thead>\n",
              "    <tr style=\"text-align: right;\">\n",
              "      <th></th>\n",
              "      <th>estado</th>\n",
              "      <th>ano</th>\n",
              "      <th>populacao</th>\n",
              "    </tr>\n",
              "  </thead>\n",
              "  <tbody>\n",
              "    <tr>\n",
              "      <th>2</th>\n",
              "      <td>ES</td>\n",
              "      <td>2000</td>\n",
              "      <td>20000</td>\n",
              "    </tr>\n",
              "    <tr>\n",
              "      <th>5</th>\n",
              "      <td>ES</td>\n",
              "      <td>2010</td>\n",
              "      <td>22000</td>\n",
              "    </tr>\n",
              "    <tr>\n",
              "      <th>8</th>\n",
              "      <td>ES</td>\n",
              "      <td>2020</td>\n",
              "      <td>30000</td>\n",
              "    </tr>\n",
              "  </tbody>\n",
              "</table>\n",
              "</div>"
            ],
            "text/plain": [
              "  estado   ano  populacao\n",
              "2     ES  2000      20000\n",
              "5     ES  2010      22000\n",
              "8     ES  2020      30000"
            ]
          },
          "metadata": {
            "tags": []
          },
          "execution_count": 633
        }
      ]
    },
    {
      "cell_type": "code",
      "metadata": {
        "colab": {
          "base_uri": "https://localhost:8080/"
        },
        "id": "PN3flqUXUAXc",
        "outputId": "db73cd03-3882-4114-bef7-bc2988f672fd"
      },
      "source": [
        "# filtrando com iloc: usando indices para buscar os 3 primeiros registros e as duas primeiras colunas\n",
        "dados_es = df3.iloc[:3, :2]\n",
        "print(dados_es[[\"ano\", \"estado\"]])"
      ],
      "execution_count": null,
      "outputs": [
        {
          "output_type": "stream",
          "text": [
            "    ano estado\n",
            "0  2000     SP\n",
            "1  2000     RJ\n",
            "2  2000     ES\n"
          ],
          "name": "stdout"
        }
      ]
    },
    {
      "cell_type": "markdown",
      "metadata": {
        "id": "A9AmbtBwU7ev"
      },
      "source": [
        "#### filtrando uma coluna com mais de uma condição"
      ]
    },
    {
      "cell_type": "code",
      "metadata": {
        "id": "QNHyEtLu_sjP",
        "colab": {
          "base_uri": "https://localhost:8080/"
        },
        "outputId": "e23c65be-6989-4f84-e49a-64d8650b55da"
      },
      "source": [
        "# filtrando uma coluna com mais de uma condição\n",
        "dados_es_2010 = df3.loc[ (df3[\"ano\"] == 2010) & (df3[\"estado\"] == \"ES\") ]\n",
        "\n",
        "print(dados_es_2010[[\"ano\", \"estado\", \"populacao\"]])\n",
        "\n"
      ],
      "execution_count": null,
      "outputs": [
        {
          "output_type": "stream",
          "text": [
            "    ano estado  populacao\n",
            "5  2010     ES      22000\n"
          ],
          "name": "stdout"
        }
      ]
    },
    {
      "cell_type": "markdown",
      "metadata": {
        "id": "ZzoHO-uRVBpy"
      },
      "source": [
        "### preencher a nova coluna"
      ]
    },
    {
      "cell_type": "code",
      "metadata": {
        "colab": {
          "base_uri": "https://localhost:8080/",
          "height": 328
        },
        "id": "LOAUwwgjItft",
        "outputId": "804800de-4320-496c-aa78-49dbaa4fd072"
      },
      "source": [
        "# preencher a nova coluna com dados incrementais de arange iniciando em zero e indo até o tamanho maximo da tabela\n",
        "df3[\"dif\"] = np.arange(len(df3))\n",
        "df3"
      ],
      "execution_count": null,
      "outputs": [
        {
          "output_type": "execute_result",
          "data": {
            "text/html": [
              "<div>\n",
              "<style scoped>\n",
              "    .dataframe tbody tr th:only-of-type {\n",
              "        vertical-align: middle;\n",
              "    }\n",
              "\n",
              "    .dataframe tbody tr th {\n",
              "        vertical-align: top;\n",
              "    }\n",
              "\n",
              "    .dataframe thead th {\n",
              "        text-align: right;\n",
              "    }\n",
              "</style>\n",
              "<table border=\"1\" class=\"dataframe\">\n",
              "  <thead>\n",
              "    <tr style=\"text-align: right;\">\n",
              "      <th></th>\n",
              "      <th>ano</th>\n",
              "      <th>estado</th>\n",
              "      <th>populacao</th>\n",
              "      <th>dif</th>\n",
              "    </tr>\n",
              "  </thead>\n",
              "  <tbody>\n",
              "    <tr>\n",
              "      <th>0</th>\n",
              "      <td>2000</td>\n",
              "      <td>SP</td>\n",
              "      <td>50000</td>\n",
              "      <td>0</td>\n",
              "    </tr>\n",
              "    <tr>\n",
              "      <th>1</th>\n",
              "      <td>2000</td>\n",
              "      <td>RJ</td>\n",
              "      <td>30000</td>\n",
              "      <td>1</td>\n",
              "    </tr>\n",
              "    <tr>\n",
              "      <th>2</th>\n",
              "      <td>2000</td>\n",
              "      <td>ES</td>\n",
              "      <td>20000</td>\n",
              "      <td>2</td>\n",
              "    </tr>\n",
              "    <tr>\n",
              "      <th>3</th>\n",
              "      <td>2010</td>\n",
              "      <td>SP</td>\n",
              "      <td>55000</td>\n",
              "      <td>3</td>\n",
              "    </tr>\n",
              "    <tr>\n",
              "      <th>4</th>\n",
              "      <td>2010</td>\n",
              "      <td>RJ</td>\n",
              "      <td>33000</td>\n",
              "      <td>4</td>\n",
              "    </tr>\n",
              "    <tr>\n",
              "      <th>5</th>\n",
              "      <td>2010</td>\n",
              "      <td>ES</td>\n",
              "      <td>22000</td>\n",
              "      <td>5</td>\n",
              "    </tr>\n",
              "    <tr>\n",
              "      <th>6</th>\n",
              "      <td>2020</td>\n",
              "      <td>SP</td>\n",
              "      <td>60000</td>\n",
              "      <td>6</td>\n",
              "    </tr>\n",
              "    <tr>\n",
              "      <th>7</th>\n",
              "      <td>2020</td>\n",
              "      <td>RJ</td>\n",
              "      <td>40000</td>\n",
              "      <td>7</td>\n",
              "    </tr>\n",
              "    <tr>\n",
              "      <th>8</th>\n",
              "      <td>2020</td>\n",
              "      <td>ES</td>\n",
              "      <td>30000</td>\n",
              "      <td>8</td>\n",
              "    </tr>\n",
              "  </tbody>\n",
              "</table>\n",
              "</div>"
            ],
            "text/plain": [
              "    ano estado  populacao  dif\n",
              "0  2000     SP      50000    0\n",
              "1  2000     RJ      30000    1\n",
              "2  2000     ES      20000    2\n",
              "3  2010     SP      55000    3\n",
              "4  2010     RJ      33000    4\n",
              "5  2010     ES      22000    5\n",
              "6  2020     SP      60000    6\n",
              "7  2020     RJ      40000    7\n",
              "8  2020     ES      30000    8"
            ]
          },
          "metadata": {
            "tags": []
          },
          "execution_count": 636
        }
      ]
    },
    {
      "cell_type": "code",
      "metadata": {
        "colab": {
          "base_uri": "https://localhost:8080/",
          "height": 328
        },
        "id": "6XdMydrzI9uH",
        "outputId": "f4392421-4237-4079-9b1f-43e2cee3ec1b"
      },
      "source": [
        "# Cria uma serie independente somente com 3 valores\n",
        "# Faz um left join da serie com o dataframe. Somente onde os indices da nova serie correspondem com o dataframe será inserido\n",
        "valores_dif = pd.Series(np.random.randn(5))\n",
        "\n",
        "# Preenche os 5 primeiros registros com os valores da serie\n",
        "df3[\"dif\"] = valores_dif\n",
        "\n",
        "# completa os demais com o valor zero\n",
        "df3.fillna(value=0)"
      ],
      "execution_count": null,
      "outputs": [
        {
          "output_type": "execute_result",
          "data": {
            "text/html": [
              "<div>\n",
              "<style scoped>\n",
              "    .dataframe tbody tr th:only-of-type {\n",
              "        vertical-align: middle;\n",
              "    }\n",
              "\n",
              "    .dataframe tbody tr th {\n",
              "        vertical-align: top;\n",
              "    }\n",
              "\n",
              "    .dataframe thead th {\n",
              "        text-align: right;\n",
              "    }\n",
              "</style>\n",
              "<table border=\"1\" class=\"dataframe\">\n",
              "  <thead>\n",
              "    <tr style=\"text-align: right;\">\n",
              "      <th></th>\n",
              "      <th>ano</th>\n",
              "      <th>estado</th>\n",
              "      <th>populacao</th>\n",
              "      <th>dif</th>\n",
              "    </tr>\n",
              "  </thead>\n",
              "  <tbody>\n",
              "    <tr>\n",
              "      <th>0</th>\n",
              "      <td>2000</td>\n",
              "      <td>SP</td>\n",
              "      <td>50000</td>\n",
              "      <td>0.471435</td>\n",
              "    </tr>\n",
              "    <tr>\n",
              "      <th>1</th>\n",
              "      <td>2000</td>\n",
              "      <td>RJ</td>\n",
              "      <td>30000</td>\n",
              "      <td>-1.190976</td>\n",
              "    </tr>\n",
              "    <tr>\n",
              "      <th>2</th>\n",
              "      <td>2000</td>\n",
              "      <td>ES</td>\n",
              "      <td>20000</td>\n",
              "      <td>1.432707</td>\n",
              "    </tr>\n",
              "    <tr>\n",
              "      <th>3</th>\n",
              "      <td>2010</td>\n",
              "      <td>SP</td>\n",
              "      <td>55000</td>\n",
              "      <td>-0.312652</td>\n",
              "    </tr>\n",
              "    <tr>\n",
              "      <th>4</th>\n",
              "      <td>2010</td>\n",
              "      <td>RJ</td>\n",
              "      <td>33000</td>\n",
              "      <td>-0.720589</td>\n",
              "    </tr>\n",
              "    <tr>\n",
              "      <th>5</th>\n",
              "      <td>2010</td>\n",
              "      <td>ES</td>\n",
              "      <td>22000</td>\n",
              "      <td>0.000000</td>\n",
              "    </tr>\n",
              "    <tr>\n",
              "      <th>6</th>\n",
              "      <td>2020</td>\n",
              "      <td>SP</td>\n",
              "      <td>60000</td>\n",
              "      <td>0.000000</td>\n",
              "    </tr>\n",
              "    <tr>\n",
              "      <th>7</th>\n",
              "      <td>2020</td>\n",
              "      <td>RJ</td>\n",
              "      <td>40000</td>\n",
              "      <td>0.000000</td>\n",
              "    </tr>\n",
              "    <tr>\n",
              "      <th>8</th>\n",
              "      <td>2020</td>\n",
              "      <td>ES</td>\n",
              "      <td>30000</td>\n",
              "      <td>0.000000</td>\n",
              "    </tr>\n",
              "  </tbody>\n",
              "</table>\n",
              "</div>"
            ],
            "text/plain": [
              "    ano estado  populacao       dif\n",
              "0  2000     SP      50000  0.471435\n",
              "1  2000     RJ      30000 -1.190976\n",
              "2  2000     ES      20000  1.432707\n",
              "3  2010     SP      55000 -0.312652\n",
              "4  2010     RJ      33000 -0.720589\n",
              "5  2010     ES      22000  0.000000\n",
              "6  2020     SP      60000  0.000000\n",
              "7  2020     RJ      40000  0.000000\n",
              "8  2020     ES      30000  0.000000"
            ]
          },
          "metadata": {
            "tags": []
          },
          "execution_count": 637
        }
      ]
    },
    {
      "cell_type": "code",
      "metadata": {
        "colab": {
          "base_uri": "https://localhost:8080/",
          "height": 328
        },
        "id": "2iJEEFg6JDSt",
        "outputId": "24ef56d4-e8d0-487e-c124-f3a03ca8f42e"
      },
      "source": [
        "# Criando uma nova coluna a partir de um resultado lógico de outra\n",
        "df3[\"Regiao\"] = df3[\"estado\"] == \"ES\"\n",
        "df3"
      ],
      "execution_count": null,
      "outputs": [
        {
          "output_type": "execute_result",
          "data": {
            "text/html": [
              "<div>\n",
              "<style scoped>\n",
              "    .dataframe tbody tr th:only-of-type {\n",
              "        vertical-align: middle;\n",
              "    }\n",
              "\n",
              "    .dataframe tbody tr th {\n",
              "        vertical-align: top;\n",
              "    }\n",
              "\n",
              "    .dataframe thead th {\n",
              "        text-align: right;\n",
              "    }\n",
              "</style>\n",
              "<table border=\"1\" class=\"dataframe\">\n",
              "  <thead>\n",
              "    <tr style=\"text-align: right;\">\n",
              "      <th></th>\n",
              "      <th>ano</th>\n",
              "      <th>estado</th>\n",
              "      <th>populacao</th>\n",
              "      <th>dif</th>\n",
              "      <th>Regiao</th>\n",
              "    </tr>\n",
              "  </thead>\n",
              "  <tbody>\n",
              "    <tr>\n",
              "      <th>0</th>\n",
              "      <td>2000</td>\n",
              "      <td>SP</td>\n",
              "      <td>50000</td>\n",
              "      <td>0.471435</td>\n",
              "      <td>False</td>\n",
              "    </tr>\n",
              "    <tr>\n",
              "      <th>1</th>\n",
              "      <td>2000</td>\n",
              "      <td>RJ</td>\n",
              "      <td>30000</td>\n",
              "      <td>-1.190976</td>\n",
              "      <td>False</td>\n",
              "    </tr>\n",
              "    <tr>\n",
              "      <th>2</th>\n",
              "      <td>2000</td>\n",
              "      <td>ES</td>\n",
              "      <td>20000</td>\n",
              "      <td>1.432707</td>\n",
              "      <td>True</td>\n",
              "    </tr>\n",
              "    <tr>\n",
              "      <th>3</th>\n",
              "      <td>2010</td>\n",
              "      <td>SP</td>\n",
              "      <td>55000</td>\n",
              "      <td>-0.312652</td>\n",
              "      <td>False</td>\n",
              "    </tr>\n",
              "    <tr>\n",
              "      <th>4</th>\n",
              "      <td>2010</td>\n",
              "      <td>RJ</td>\n",
              "      <td>33000</td>\n",
              "      <td>-0.720589</td>\n",
              "      <td>False</td>\n",
              "    </tr>\n",
              "    <tr>\n",
              "      <th>5</th>\n",
              "      <td>2010</td>\n",
              "      <td>ES</td>\n",
              "      <td>22000</td>\n",
              "      <td>NaN</td>\n",
              "      <td>True</td>\n",
              "    </tr>\n",
              "    <tr>\n",
              "      <th>6</th>\n",
              "      <td>2020</td>\n",
              "      <td>SP</td>\n",
              "      <td>60000</td>\n",
              "      <td>NaN</td>\n",
              "      <td>False</td>\n",
              "    </tr>\n",
              "    <tr>\n",
              "      <th>7</th>\n",
              "      <td>2020</td>\n",
              "      <td>RJ</td>\n",
              "      <td>40000</td>\n",
              "      <td>NaN</td>\n",
              "      <td>False</td>\n",
              "    </tr>\n",
              "    <tr>\n",
              "      <th>8</th>\n",
              "      <td>2020</td>\n",
              "      <td>ES</td>\n",
              "      <td>30000</td>\n",
              "      <td>NaN</td>\n",
              "      <td>True</td>\n",
              "    </tr>\n",
              "  </tbody>\n",
              "</table>\n",
              "</div>"
            ],
            "text/plain": [
              "    ano estado  populacao       dif  Regiao\n",
              "0  2000     SP      50000  0.471435   False\n",
              "1  2000     RJ      30000 -1.190976   False\n",
              "2  2000     ES      20000  1.432707    True\n",
              "3  2010     SP      55000 -0.312652   False\n",
              "4  2010     RJ      33000 -0.720589   False\n",
              "5  2010     ES      22000       NaN    True\n",
              "6  2020     SP      60000       NaN   False\n",
              "7  2020     RJ      40000       NaN   False\n",
              "8  2020     ES      30000       NaN    True"
            ]
          },
          "metadata": {
            "tags": []
          },
          "execution_count": 638
        }
      ]
    },
    {
      "cell_type": "code",
      "metadata": {
        "colab": {
          "base_uri": "https://localhost:8080/",
          "height": 142
        },
        "id": "6sfSrWtlLFPa",
        "outputId": "016cc6b5-03a4-4a86-d029-cc3b56d47d80"
      },
      "source": [
        "# dict de dicts de população dos estados\n",
        "pop = {\"ES\": {2000: 22000, 2010: 24000},\n",
        "       \"RJ\": {2000: 33000, 2010: 36000, 2020: 66000}}\n",
        "# type(pop)\n",
        "\n",
        "# pd.DataFrame(pop).T\n",
        "df4 = pd.DataFrame(pop, index=[2000, 2010, 2020])\n",
        "df4"
      ],
      "execution_count": null,
      "outputs": [
        {
          "output_type": "execute_result",
          "data": {
            "text/html": [
              "<div>\n",
              "<style scoped>\n",
              "    .dataframe tbody tr th:only-of-type {\n",
              "        vertical-align: middle;\n",
              "    }\n",
              "\n",
              "    .dataframe tbody tr th {\n",
              "        vertical-align: top;\n",
              "    }\n",
              "\n",
              "    .dataframe thead th {\n",
              "        text-align: right;\n",
              "    }\n",
              "</style>\n",
              "<table border=\"1\" class=\"dataframe\">\n",
              "  <thead>\n",
              "    <tr style=\"text-align: right;\">\n",
              "      <th></th>\n",
              "      <th>ES</th>\n",
              "      <th>RJ</th>\n",
              "    </tr>\n",
              "  </thead>\n",
              "  <tbody>\n",
              "    <tr>\n",
              "      <th>2000</th>\n",
              "      <td>22000.0</td>\n",
              "      <td>33000</td>\n",
              "    </tr>\n",
              "    <tr>\n",
              "      <th>2010</th>\n",
              "      <td>24000.0</td>\n",
              "      <td>36000</td>\n",
              "    </tr>\n",
              "    <tr>\n",
              "      <th>2020</th>\n",
              "      <td>NaN</td>\n",
              "      <td>66000</td>\n",
              "    </tr>\n",
              "  </tbody>\n",
              "</table>\n",
              "</div>"
            ],
            "text/plain": [
              "           ES     RJ\n",
              "2000  22000.0  33000\n",
              "2010  24000.0  36000\n",
              "2020      NaN  66000"
            ]
          },
          "metadata": {
            "tags": []
          },
          "execution_count": 639
        }
      ]
    },
    {
      "cell_type": "code",
      "metadata": {
        "colab": {
          "base_uri": "https://localhost:8080/",
          "height": 142
        },
        "id": "5pGgn71DPvj5",
        "outputId": "f1f6194f-b827-40c7-df89-b5e2c8ecc475"
      },
      "source": [
        "# remove a ultima linha de ES que tem NaN e considera apenas as dias primeiras de RJ\n",
        "pdata = {\"ES\": df4[\"ES\"][:-1], \n",
        "         \"RJ\": df4[\"RJ\"][:2]}\n",
        "\n",
        "# Define um nome para a coluna de indices e um nome para as colunas da tabela\n",
        "df4= pd.DataFrame(pdata)\n",
        "df4.index.name = \"ANO\"\n",
        "df4.columns.name = \"UF\"\n",
        "df4"
      ],
      "execution_count": null,
      "outputs": [
        {
          "output_type": "execute_result",
          "data": {
            "text/html": [
              "<div>\n",
              "<style scoped>\n",
              "    .dataframe tbody tr th:only-of-type {\n",
              "        vertical-align: middle;\n",
              "    }\n",
              "\n",
              "    .dataframe tbody tr th {\n",
              "        vertical-align: top;\n",
              "    }\n",
              "\n",
              "    .dataframe thead th {\n",
              "        text-align: right;\n",
              "    }\n",
              "</style>\n",
              "<table border=\"1\" class=\"dataframe\">\n",
              "  <thead>\n",
              "    <tr style=\"text-align: right;\">\n",
              "      <th>UF</th>\n",
              "      <th>ES</th>\n",
              "      <th>RJ</th>\n",
              "    </tr>\n",
              "    <tr>\n",
              "      <th>ANO</th>\n",
              "      <th></th>\n",
              "      <th></th>\n",
              "    </tr>\n",
              "  </thead>\n",
              "  <tbody>\n",
              "    <tr>\n",
              "      <th>2000</th>\n",
              "      <td>22000.0</td>\n",
              "      <td>33000</td>\n",
              "    </tr>\n",
              "    <tr>\n",
              "      <th>2010</th>\n",
              "      <td>24000.0</td>\n",
              "      <td>36000</td>\n",
              "    </tr>\n",
              "  </tbody>\n",
              "</table>\n",
              "</div>"
            ],
            "text/plain": [
              "UF         ES     RJ\n",
              "ANO                 \n",
              "2000  22000.0  33000\n",
              "2010  24000.0  36000"
            ]
          },
          "metadata": {
            "tags": []
          },
          "execution_count": 640
        }
      ]
    },
    {
      "cell_type": "markdown",
      "metadata": {
        "id": "UWopTXSeVWDs"
      },
      "source": [
        "## Objeto Index\n",
        "São os objetos responsaveis por armazenar os rotulos dos eixos e outros metadados"
      ]
    },
    {
      "cell_type": "code",
      "metadata": {
        "colab": {
          "base_uri": "https://localhost:8080/"
        },
        "id": "CunypBy0RHr0",
        "outputId": "f686aba3-fffb-4be4-e208-1c26f89dd220"
      },
      "source": [
        "obj_index = pd.Series(np.arange(3), index=[\"a\", \"b\", \"c\"])\n",
        "\n",
        "# armazena o index da serie\n",
        "index = obj_index.index\n",
        "\n",
        "# pandas.core.indexes.base.Index\n",
        "type(index)\n",
        "\n",
        "# um index é sempre imutavel: TypeError: Index does not support mutable operations\n",
        "# index[\"a\"] = \"x\"\n"
      ],
      "execution_count": null,
      "outputs": [
        {
          "output_type": "execute_result",
          "data": {
            "text/plain": [
              "pandas.core.indexes.base.Index"
            ]
          },
          "metadata": {
            "tags": []
          },
          "execution_count": 641
        }
      ]
    },
    {
      "cell_type": "code",
      "metadata": {
        "colab": {
          "base_uri": "https://localhost:8080/"
        },
        "id": "9LjfstyJVUiO",
        "outputId": "950a2ebc-66aa-45ae-929b-008be59a1575"
      },
      "source": [
        "# criando um obj index\n",
        "labels = pd.Index(np.arange(3))\n",
        "labels"
      ],
      "execution_count": null,
      "outputs": [
        {
          "output_type": "execute_result",
          "data": {
            "text/plain": [
              "Int64Index([0, 1, 2], dtype='int64')"
            ]
          },
          "metadata": {
            "tags": []
          },
          "execution_count": 642
        }
      ]
    },
    {
      "cell_type": "code",
      "metadata": {
        "colab": {
          "base_uri": "https://localhost:8080/"
        },
        "id": "reFK3yFBXHz0",
        "outputId": "753fce0a-8ab5-402e-d21d-4c345355938d"
      },
      "source": [
        "# Usando um obj do tipo index para criar uma series\n",
        "obj_Series2 = pd.Series([1.4, 3.5, 5.2], index=labels)\n",
        "obj_Series2"
      ],
      "execution_count": null,
      "outputs": [
        {
          "output_type": "execute_result",
          "data": {
            "text/plain": [
              "0    1.4\n",
              "1    3.5\n",
              "2    5.2\n",
              "dtype: float64"
            ]
          },
          "metadata": {
            "tags": []
          },
          "execution_count": 643
        }
      ]
    },
    {
      "cell_type": "code",
      "metadata": {
        "colab": {
          "base_uri": "https://localhost:8080/"
        },
        "id": "ggUPLqg-XU7o",
        "outputId": "86858edc-0d81-4411-c96f-ddfa169f4b14"
      },
      "source": [
        "print(f\"df original:\\n {df4}\\n\")\n",
        "\n",
        "# verificando a existencia de uma coluna\n",
        "print(\"ES\" in df4.columns)\n",
        "\n",
        "# verificando a existencia de um indice\n",
        "print(2020 in df4.index)"
      ],
      "execution_count": null,
      "outputs": [
        {
          "output_type": "stream",
          "text": [
            "df original:\n",
            " UF         ES     RJ\n",
            "ANO                 \n",
            "2000  22000.0  33000\n",
            "2010  24000.0  36000\n",
            "\n",
            "True\n",
            "False\n"
          ],
          "name": "stdout"
        }
      ]
    },
    {
      "cell_type": "markdown",
      "metadata": {
        "id": "3vX6VKRIwp5E"
      },
      "source": [
        "## Reindexação de linhas e colunas\n",
        "\n",
        "Redefine o indice de um df já criado. \n",
        "Se os novos indices já existem serão mantidos senão serão introduzidos com valores faltantes NaN"
      ]
    },
    {
      "cell_type": "code",
      "metadata": {
        "colab": {
          "base_uri": "https://localhost:8080/"
        },
        "id": "4w746f2Uv6v3",
        "outputId": "7616de93-d864-4961-fec4-86145c9c0900"
      },
      "source": [
        "obj_Series3 = pd.Series(np.random.randn(4), index=[\"a\", \"b\", \"c\", \"d\"])\n",
        "obj_Series3"
      ],
      "execution_count": null,
      "outputs": [
        {
          "output_type": "execute_result",
          "data": {
            "text/plain": [
              "a    0.887163\n",
              "b    0.859588\n",
              "c   -0.636524\n",
              "d    0.015696\n",
              "dtype: float64"
            ]
          },
          "metadata": {
            "tags": []
          },
          "execution_count": 645
        }
      ]
    },
    {
      "cell_type": "code",
      "metadata": {
        "colab": {
          "base_uri": "https://localhost:8080/"
        },
        "id": "16BapwS4xXza",
        "outputId": "88b503f3-17f5-4003-f576-4679ac9c590e"
      },
      "source": [
        "# Os indices com os mesmos valores são mantidos, os novos recebem os valores NaN\n",
        "obj_Series3 = obj_Series3.reindex([\"a\", \"b\", \"c\", \"d\", \"x\", \"y\", \"z\"])\n",
        "obj_Series3"
      ],
      "execution_count": null,
      "outputs": [
        {
          "output_type": "execute_result",
          "data": {
            "text/plain": [
              "a    0.887163\n",
              "b    0.859588\n",
              "c   -0.636524\n",
              "d    0.015696\n",
              "x         NaN\n",
              "y         NaN\n",
              "z         NaN\n",
              "dtype: float64"
            ]
          },
          "metadata": {
            "tags": []
          },
          "execution_count": 646
        }
      ]
    },
    {
      "cell_type": "code",
      "metadata": {
        "colab": {
          "base_uri": "https://localhost:8080/"
        },
        "id": "7R6NH9t-xmaw",
        "outputId": "2a5fb07a-06aa-4227-ec2c-5370e76f72cb"
      },
      "source": [
        "obj_Series4 = pd.Series([\"Azul\", \"Amarelo\", \"Verde\"], index=[0, 2, 4])\n",
        "\n",
        "# passando um range de 6 os valores auxentes no indice atual ficam com o valor NaN\n",
        "obj_Series4.reindex(range(6))"
      ],
      "execution_count": null,
      "outputs": [
        {
          "output_type": "execute_result",
          "data": {
            "text/plain": [
              "0       Azul\n",
              "1        NaN\n",
              "2    Amarelo\n",
              "3        NaN\n",
              "4      Verde\n",
              "5        NaN\n",
              "dtype: object"
            ]
          },
          "metadata": {
            "tags": []
          },
          "execution_count": 647
        }
      ]
    },
    {
      "cell_type": "code",
      "metadata": {
        "colab": {
          "base_uri": "https://localhost:8080/"
        },
        "id": "1zrRlXCPy4BT",
        "outputId": "9f65f68e-d031-40dc-861c-e320f4362b16"
      },
      "source": [
        "# usando o metodo ffill (forward fill) preenche os valores NaN com o valor anterior a ocorrencia do NaN\n",
        "# é como um \"preencher para frente\"\n",
        "obj_Series4.reindex(range(6), method=\"ffill\")"
      ],
      "execution_count": null,
      "outputs": [
        {
          "output_type": "execute_result",
          "data": {
            "text/plain": [
              "0       Azul\n",
              "1       Azul\n",
              "2    Amarelo\n",
              "3    Amarelo\n",
              "4      Verde\n",
              "5      Verde\n",
              "dtype: object"
            ]
          },
          "metadata": {
            "tags": []
          },
          "execution_count": 648
        }
      ]
    },
    {
      "cell_type": "code",
      "metadata": {
        "colab": {
          "base_uri": "https://localhost:8080/",
          "height": 142
        },
        "id": "Q1sOquG8zk0J",
        "outputId": "c84a4b08-6b6f-4576-d4fd-417f9da6d7d0"
      },
      "source": [
        "# reindexando linhas e colunas\n",
        "df5 = pd.DataFrame(np.arange(9).reshape((3, 3)),\n",
        "                   index=[\"a\", \"c\", \"d\"],\n",
        "                   columns=[\"ES\",\"RJ\", \"SP\"]\n",
        "                   )\n",
        "df5"
      ],
      "execution_count": null,
      "outputs": [
        {
          "output_type": "execute_result",
          "data": {
            "text/html": [
              "<div>\n",
              "<style scoped>\n",
              "    .dataframe tbody tr th:only-of-type {\n",
              "        vertical-align: middle;\n",
              "    }\n",
              "\n",
              "    .dataframe tbody tr th {\n",
              "        vertical-align: top;\n",
              "    }\n",
              "\n",
              "    .dataframe thead th {\n",
              "        text-align: right;\n",
              "    }\n",
              "</style>\n",
              "<table border=\"1\" class=\"dataframe\">\n",
              "  <thead>\n",
              "    <tr style=\"text-align: right;\">\n",
              "      <th></th>\n",
              "      <th>ES</th>\n",
              "      <th>RJ</th>\n",
              "      <th>SP</th>\n",
              "    </tr>\n",
              "  </thead>\n",
              "  <tbody>\n",
              "    <tr>\n",
              "      <th>a</th>\n",
              "      <td>0</td>\n",
              "      <td>1</td>\n",
              "      <td>2</td>\n",
              "    </tr>\n",
              "    <tr>\n",
              "      <th>c</th>\n",
              "      <td>3</td>\n",
              "      <td>4</td>\n",
              "      <td>5</td>\n",
              "    </tr>\n",
              "    <tr>\n",
              "      <th>d</th>\n",
              "      <td>6</td>\n",
              "      <td>7</td>\n",
              "      <td>8</td>\n",
              "    </tr>\n",
              "  </tbody>\n",
              "</table>\n",
              "</div>"
            ],
            "text/plain": [
              "   ES  RJ  SP\n",
              "a   0   1   2\n",
              "c   3   4   5\n",
              "d   6   7   8"
            ]
          },
          "metadata": {
            "tags": []
          },
          "execution_count": 649
        }
      ]
    },
    {
      "cell_type": "code",
      "metadata": {
        "colab": {
          "base_uri": "https://localhost:8080/",
          "height": 173
        },
        "id": "b4ksLTLlz8vu",
        "outputId": "98d36f70-2ae9-4fe8-c9d3-35c04e60229b"
      },
      "source": [
        "# reindexar as linhas: inclui o indice \"b\"\n",
        "# index=<default>\n",
        "# columns=<lista de colunas>\n",
        "df5 = df5.reindex(index=[\"a\", \"b\", \"c\", \"d\"], columns=[\"ES\",\"RJ\", \"SP\", \"MG\"])\n",
        "df5"
      ],
      "execution_count": null,
      "outputs": [
        {
          "output_type": "execute_result",
          "data": {
            "text/html": [
              "<div>\n",
              "<style scoped>\n",
              "    .dataframe tbody tr th:only-of-type {\n",
              "        vertical-align: middle;\n",
              "    }\n",
              "\n",
              "    .dataframe tbody tr th {\n",
              "        vertical-align: top;\n",
              "    }\n",
              "\n",
              "    .dataframe thead th {\n",
              "        text-align: right;\n",
              "    }\n",
              "</style>\n",
              "<table border=\"1\" class=\"dataframe\">\n",
              "  <thead>\n",
              "    <tr style=\"text-align: right;\">\n",
              "      <th></th>\n",
              "      <th>ES</th>\n",
              "      <th>RJ</th>\n",
              "      <th>SP</th>\n",
              "      <th>MG</th>\n",
              "    </tr>\n",
              "  </thead>\n",
              "  <tbody>\n",
              "    <tr>\n",
              "      <th>a</th>\n",
              "      <td>0.0</td>\n",
              "      <td>1.0</td>\n",
              "      <td>2.0</td>\n",
              "      <td>NaN</td>\n",
              "    </tr>\n",
              "    <tr>\n",
              "      <th>b</th>\n",
              "      <td>NaN</td>\n",
              "      <td>NaN</td>\n",
              "      <td>NaN</td>\n",
              "      <td>NaN</td>\n",
              "    </tr>\n",
              "    <tr>\n",
              "      <th>c</th>\n",
              "      <td>3.0</td>\n",
              "      <td>4.0</td>\n",
              "      <td>5.0</td>\n",
              "      <td>NaN</td>\n",
              "    </tr>\n",
              "    <tr>\n",
              "      <th>d</th>\n",
              "      <td>6.0</td>\n",
              "      <td>7.0</td>\n",
              "      <td>8.0</td>\n",
              "      <td>NaN</td>\n",
              "    </tr>\n",
              "  </tbody>\n",
              "</table>\n",
              "</div>"
            ],
            "text/plain": [
              "    ES   RJ   SP  MG\n",
              "a  0.0  1.0  2.0 NaN\n",
              "b  NaN  NaN  NaN NaN\n",
              "c  3.0  4.0  5.0 NaN\n",
              "d  6.0  7.0  8.0 NaN"
            ]
          },
          "metadata": {
            "tags": []
          },
          "execution_count": 650
        }
      ]
    },
    {
      "cell_type": "code",
      "metadata": {
        "colab": {
          "base_uri": "https://localhost:8080/",
          "height": 173
        },
        "id": "Mh8339Cl0d_p",
        "outputId": "1f220502-a15c-4368-ce79-40a818c713a5"
      },
      "source": [
        "# se passar outra lista para indexação, irá ser feito um left join, os valores atuais serão mantidos e os novos serão inseridos com o valor NaN\n",
        "\n",
        "novos_estados = [\"ES\",\"RJ\", \"SP\", \"MG\", \"RS\", \"PR\", \"BA\"]\n",
        "\n",
        "df5 = df5.reindex(columns=novos_estados)\n",
        "df5"
      ],
      "execution_count": null,
      "outputs": [
        {
          "output_type": "execute_result",
          "data": {
            "text/html": [
              "<div>\n",
              "<style scoped>\n",
              "    .dataframe tbody tr th:only-of-type {\n",
              "        vertical-align: middle;\n",
              "    }\n",
              "\n",
              "    .dataframe tbody tr th {\n",
              "        vertical-align: top;\n",
              "    }\n",
              "\n",
              "    .dataframe thead th {\n",
              "        text-align: right;\n",
              "    }\n",
              "</style>\n",
              "<table border=\"1\" class=\"dataframe\">\n",
              "  <thead>\n",
              "    <tr style=\"text-align: right;\">\n",
              "      <th></th>\n",
              "      <th>ES</th>\n",
              "      <th>RJ</th>\n",
              "      <th>SP</th>\n",
              "      <th>MG</th>\n",
              "      <th>RS</th>\n",
              "      <th>PR</th>\n",
              "      <th>BA</th>\n",
              "    </tr>\n",
              "  </thead>\n",
              "  <tbody>\n",
              "    <tr>\n",
              "      <th>a</th>\n",
              "      <td>0.0</td>\n",
              "      <td>1.0</td>\n",
              "      <td>2.0</td>\n",
              "      <td>NaN</td>\n",
              "      <td>NaN</td>\n",
              "      <td>NaN</td>\n",
              "      <td>NaN</td>\n",
              "    </tr>\n",
              "    <tr>\n",
              "      <th>b</th>\n",
              "      <td>NaN</td>\n",
              "      <td>NaN</td>\n",
              "      <td>NaN</td>\n",
              "      <td>NaN</td>\n",
              "      <td>NaN</td>\n",
              "      <td>NaN</td>\n",
              "      <td>NaN</td>\n",
              "    </tr>\n",
              "    <tr>\n",
              "      <th>c</th>\n",
              "      <td>3.0</td>\n",
              "      <td>4.0</td>\n",
              "      <td>5.0</td>\n",
              "      <td>NaN</td>\n",
              "      <td>NaN</td>\n",
              "      <td>NaN</td>\n",
              "      <td>NaN</td>\n",
              "    </tr>\n",
              "    <tr>\n",
              "      <th>d</th>\n",
              "      <td>6.0</td>\n",
              "      <td>7.0</td>\n",
              "      <td>8.0</td>\n",
              "      <td>NaN</td>\n",
              "      <td>NaN</td>\n",
              "      <td>NaN</td>\n",
              "      <td>NaN</td>\n",
              "    </tr>\n",
              "  </tbody>\n",
              "</table>\n",
              "</div>"
            ],
            "text/plain": [
              "    ES   RJ   SP  MG  RS  PR  BA\n",
              "a  0.0  1.0  2.0 NaN NaN NaN NaN\n",
              "b  NaN  NaN  NaN NaN NaN NaN NaN\n",
              "c  3.0  4.0  5.0 NaN NaN NaN NaN\n",
              "d  6.0  7.0  8.0 NaN NaN NaN NaN"
            ]
          },
          "metadata": {
            "tags": []
          },
          "execution_count": 651
        }
      ]
    },
    {
      "cell_type": "code",
      "metadata": {
        "id": "NJKMu5BB1jVb"
      },
      "source": [
        "# selecionando colunas a partir de uma lista\n",
        "filtro_estados = [\"ES\",\"RJ\", \"SP\"]\n",
        "dados = df5.loc[:, filtro_estados]"
      ],
      "execution_count": null,
      "outputs": []
    },
    {
      "cell_type": "markdown",
      "metadata": {
        "id": "n3zyyY8I3a5I"
      },
      "source": [
        "### apagando linhas ou colunas"
      ]
    },
    {
      "cell_type": "code",
      "metadata": {
        "colab": {
          "base_uri": "https://localhost:8080/",
          "height": 111
        },
        "id": "rswnVKp-2FVC",
        "outputId": "94b0f5f0-7374-49c9-eb52-a7f7a69077c8"
      },
      "source": [
        "# copiando dados do df anterior\n",
        "dados_para_apagar = dados\n",
        "\n",
        "# apagar linhas\n",
        "\n",
        "# inplace True para de verdade, False (padrão), remove na memoria mas não apaga do obj original\n",
        "dados_para_apagar.drop([\"b\", \"d\"], inplace=True)\n",
        "\n",
        "dados_para_apagar"
      ],
      "execution_count": null,
      "outputs": [
        {
          "output_type": "execute_result",
          "data": {
            "text/html": [
              "<div>\n",
              "<style scoped>\n",
              "    .dataframe tbody tr th:only-of-type {\n",
              "        vertical-align: middle;\n",
              "    }\n",
              "\n",
              "    .dataframe tbody tr th {\n",
              "        vertical-align: top;\n",
              "    }\n",
              "\n",
              "    .dataframe thead th {\n",
              "        text-align: right;\n",
              "    }\n",
              "</style>\n",
              "<table border=\"1\" class=\"dataframe\">\n",
              "  <thead>\n",
              "    <tr style=\"text-align: right;\">\n",
              "      <th></th>\n",
              "      <th>ES</th>\n",
              "      <th>RJ</th>\n",
              "      <th>SP</th>\n",
              "    </tr>\n",
              "  </thead>\n",
              "  <tbody>\n",
              "    <tr>\n",
              "      <th>a</th>\n",
              "      <td>0.0</td>\n",
              "      <td>1.0</td>\n",
              "      <td>2.0</td>\n",
              "    </tr>\n",
              "    <tr>\n",
              "      <th>c</th>\n",
              "      <td>3.0</td>\n",
              "      <td>4.0</td>\n",
              "      <td>5.0</td>\n",
              "    </tr>\n",
              "  </tbody>\n",
              "</table>\n",
              "</div>"
            ],
            "text/plain": [
              "    ES   RJ   SP\n",
              "a  0.0  1.0  2.0\n",
              "c  3.0  4.0  5.0"
            ]
          },
          "metadata": {
            "tags": []
          },
          "execution_count": 653
        }
      ]
    },
    {
      "cell_type": "code",
      "metadata": {
        "colab": {
          "base_uri": "https://localhost:8080/",
          "height": 111
        },
        "id": "E077vKt93zJx",
        "outputId": "dc9fa056-1471-4d1c-e0a8-d92e1d6cb316"
      },
      "source": [
        "# apagar colunas axis=1\n",
        "dados_sem_RJ_SP = dados_para_apagar.drop([\"SP\", \"RJ\"], axis=1)\n",
        "dados_sem_RJ_SP"
      ],
      "execution_count": null,
      "outputs": [
        {
          "output_type": "execute_result",
          "data": {
            "text/html": [
              "<div>\n",
              "<style scoped>\n",
              "    .dataframe tbody tr th:only-of-type {\n",
              "        vertical-align: middle;\n",
              "    }\n",
              "\n",
              "    .dataframe tbody tr th {\n",
              "        vertical-align: top;\n",
              "    }\n",
              "\n",
              "    .dataframe thead th {\n",
              "        text-align: right;\n",
              "    }\n",
              "</style>\n",
              "<table border=\"1\" class=\"dataframe\">\n",
              "  <thead>\n",
              "    <tr style=\"text-align: right;\">\n",
              "      <th></th>\n",
              "      <th>ES</th>\n",
              "    </tr>\n",
              "  </thead>\n",
              "  <tbody>\n",
              "    <tr>\n",
              "      <th>a</th>\n",
              "      <td>0.0</td>\n",
              "    </tr>\n",
              "    <tr>\n",
              "      <th>c</th>\n",
              "      <td>3.0</td>\n",
              "    </tr>\n",
              "  </tbody>\n",
              "</table>\n",
              "</div>"
            ],
            "text/plain": [
              "    ES\n",
              "a  0.0\n",
              "c  3.0"
            ]
          },
          "metadata": {
            "tags": []
          },
          "execution_count": 654
        }
      ]
    },
    {
      "cell_type": "code",
      "metadata": {
        "colab": {
          "base_uri": "https://localhost:8080/",
          "height": 111
        },
        "id": "lxqmF7fi5LJD",
        "outputId": "5bdf0464-14d8-408f-c028-9051d8d79b2e"
      },
      "source": [
        "dados_para_apagar.drop([\"SP\", \"RJ\"], axis=\"columns\", inplace=True)\n",
        "dados_para_apagar"
      ],
      "execution_count": null,
      "outputs": [
        {
          "output_type": "execute_result",
          "data": {
            "text/html": [
              "<div>\n",
              "<style scoped>\n",
              "    .dataframe tbody tr th:only-of-type {\n",
              "        vertical-align: middle;\n",
              "    }\n",
              "\n",
              "    .dataframe tbody tr th {\n",
              "        vertical-align: top;\n",
              "    }\n",
              "\n",
              "    .dataframe thead th {\n",
              "        text-align: right;\n",
              "    }\n",
              "</style>\n",
              "<table border=\"1\" class=\"dataframe\">\n",
              "  <thead>\n",
              "    <tr style=\"text-align: right;\">\n",
              "      <th></th>\n",
              "      <th>ES</th>\n",
              "    </tr>\n",
              "  </thead>\n",
              "  <tbody>\n",
              "    <tr>\n",
              "      <th>a</th>\n",
              "      <td>0.0</td>\n",
              "    </tr>\n",
              "    <tr>\n",
              "      <th>c</th>\n",
              "      <td>3.0</td>\n",
              "    </tr>\n",
              "  </tbody>\n",
              "</table>\n",
              "</div>"
            ],
            "text/plain": [
              "    ES\n",
              "a  0.0\n",
              "c  3.0"
            ]
          },
          "metadata": {
            "tags": []
          },
          "execution_count": 655
        }
      ]
    },
    {
      "cell_type": "markdown",
      "metadata": {
        "id": "417nAQCQ6XCJ"
      },
      "source": [
        "## Seleção e Filtragem\n",
        "a seleção e filtragem de df é semelhante a arrays numpy porém com o uso de rotulos nomeados nos dois eixos."
      ]
    },
    {
      "cell_type": "markdown",
      "metadata": {
        "id": "5B7NEzBO-yL9"
      },
      "source": [
        "### Series"
      ]
    },
    {
      "cell_type": "code",
      "metadata": {
        "colab": {
          "base_uri": "https://localhost:8080/"
        },
        "id": "msIj7DrS5hB0",
        "outputId": "71f912d9-3e0f-46f6-af7a-3d9ce8615420"
      },
      "source": [
        "# filtrando Series\n",
        "obj_Series5 = pd.Series(np.arange(4.0), index=[\"a\", \"b\", \"c\", \"d\"])\n",
        "obj_Series5"
      ],
      "execution_count": null,
      "outputs": [
        {
          "output_type": "execute_result",
          "data": {
            "text/plain": [
              "a    0.0\n",
              "b    1.0\n",
              "c    2.0\n",
              "d    3.0\n",
              "dtype: float64"
            ]
          },
          "metadata": {
            "tags": []
          },
          "execution_count": 656
        }
      ]
    },
    {
      "cell_type": "code",
      "metadata": {
        "colab": {
          "base_uri": "https://localhost:8080/"
        },
        "id": "MsZGTkJZ7CVC",
        "outputId": "ecfd46f3-9294-407b-d5a7-9eb0b406cb63"
      },
      "source": [
        "# rótulo da linha\n",
        "obj_Series5[\"d\"]"
      ],
      "execution_count": null,
      "outputs": [
        {
          "output_type": "execute_result",
          "data": {
            "text/plain": [
              "3.0"
            ]
          },
          "metadata": {
            "tags": []
          },
          "execution_count": 657
        }
      ]
    },
    {
      "cell_type": "code",
      "metadata": {
        "colab": {
          "base_uri": "https://localhost:8080/"
        },
        "id": "ZqDk0jEP7v71",
        "outputId": "c608ad22-65ba-4852-fa01-5940f72abac7"
      },
      "source": [
        "# índice da linha: implicitamente o pandas cria um índice mesm o que exista um rótulo\n",
        "obj_Series5[3]"
      ],
      "execution_count": null,
      "outputs": [
        {
          "output_type": "execute_result",
          "data": {
            "text/plain": [
              "3.0"
            ]
          },
          "metadata": {
            "tags": []
          },
          "execution_count": 658
        }
      ]
    },
    {
      "cell_type": "code",
      "metadata": {
        "colab": {
          "base_uri": "https://localhost:8080/"
        },
        "id": "EAA2WgZ670mc",
        "outputId": "4db129d6-dc9f-43d1-9a1e-20bbfbf3598b"
      },
      "source": [
        "# intervalo do ínidice implicito 2 ate o 4\n",
        "obj_Series5[2:4]"
      ],
      "execution_count": null,
      "outputs": [
        {
          "output_type": "execute_result",
          "data": {
            "text/plain": [
              "c    2.0\n",
              "d    3.0\n",
              "dtype: float64"
            ]
          },
          "metadata": {
            "tags": []
          },
          "execution_count": 659
        }
      ]
    },
    {
      "cell_type": "code",
      "metadata": {
        "colab": {
          "base_uri": "https://localhost:8080/"
        },
        "id": "BKdsOoem8EQL",
        "outputId": "1f0fe047-49cc-4890-d65b-02ec089451fa"
      },
      "source": [
        "# diferentemente do acesso pelo índice implicito, o indice pelo rotulo sempre inclui o ultimo elemento\n",
        "obj_Series5[\"b\":\"d\"]"
      ],
      "execution_count": null,
      "outputs": [
        {
          "output_type": "execute_result",
          "data": {
            "text/plain": [
              "b    1.0\n",
              "c    2.0\n",
              "d    3.0\n",
              "dtype: float64"
            ]
          },
          "metadata": {
            "tags": []
          },
          "execution_count": 660
        }
      ]
    },
    {
      "cell_type": "code",
      "metadata": {
        "colab": {
          "base_uri": "https://localhost:8080/"
        },
        "id": "Tje-v5tm8Qh4",
        "outputId": "890ff834-979c-4850-d55d-c23f6178dad8"
      },
      "source": [
        "# elementos específicos\n",
        "obj_Series5[[\"a\", \"c\", \"d\"]]"
      ],
      "execution_count": null,
      "outputs": [
        {
          "output_type": "execute_result",
          "data": {
            "text/plain": [
              "a    0.0\n",
              "c    2.0\n",
              "d    3.0\n",
              "dtype: float64"
            ]
          },
          "metadata": {
            "tags": []
          },
          "execution_count": 661
        }
      ]
    },
    {
      "cell_type": "code",
      "metadata": {
        "colab": {
          "base_uri": "https://localhost:8080/"
        },
        "id": "8pVwTxPW8iWr",
        "outputId": "007be6b4-a3f5-4e12-bae5-843c0b75f387"
      },
      "source": [
        "# filtrando usando uma condição\n",
        "obj_Series5[obj_Series5 > 2]"
      ],
      "execution_count": null,
      "outputs": [
        {
          "output_type": "execute_result",
          "data": {
            "text/plain": [
              "d    3.0\n",
              "dtype: float64"
            ]
          },
          "metadata": {
            "tags": []
          },
          "execution_count": 662
        }
      ]
    },
    {
      "cell_type": "code",
      "metadata": {
        "colab": {
          "base_uri": "https://localhost:8080/"
        },
        "id": "KAgj5TLO8wiV",
        "outputId": "7d4f01a7-d3e2-4a91-e1c1-e3567b27d3a3"
      },
      "source": [
        "# atribuindo valores a uma faixa de indices\n",
        "obj_Series5[\"b\":\"d\"] = 4\n",
        "obj_Series5"
      ],
      "execution_count": null,
      "outputs": [
        {
          "output_type": "execute_result",
          "data": {
            "text/plain": [
              "a    0.0\n",
              "b    4.0\n",
              "c    4.0\n",
              "d    4.0\n",
              "dtype: float64"
            ]
          },
          "metadata": {
            "tags": []
          },
          "execution_count": 663
        }
      ]
    },
    {
      "cell_type": "markdown",
      "metadata": {
        "id": "ILazDfSv-3Vb"
      },
      "source": [
        "### DataFrame"
      ]
    },
    {
      "cell_type": "code",
      "metadata": {
        "colab": {
          "base_uri": "https://localhost:8080/",
          "height": 207
        },
        "id": "0XiHPdJT9Hwa",
        "outputId": "38083e64-f47b-4cd5-e3c3-5fbef099d2c9"
      },
      "source": [
        "df6 = pd.DataFrame(np.random.randn(16).reshape(4, 4), \n",
        "                   index=[\"ES\", \"RJ\", \"SP\", \"MG\"],\n",
        "                   columns=[2000, 2010, 2020, 2030])\n",
        "print(\"Dados Iniciais:\\n\")\n",
        "df6\n",
        "                   "
      ],
      "execution_count": null,
      "outputs": [
        {
          "output_type": "stream",
          "text": [
            "Dados Iniciais:\n",
            "\n"
          ],
          "name": "stdout"
        },
        {
          "output_type": "execute_result",
          "data": {
            "text/html": [
              "<div>\n",
              "<style scoped>\n",
              "    .dataframe tbody tr th:only-of-type {\n",
              "        vertical-align: middle;\n",
              "    }\n",
              "\n",
              "    .dataframe tbody tr th {\n",
              "        vertical-align: top;\n",
              "    }\n",
              "\n",
              "    .dataframe thead th {\n",
              "        text-align: right;\n",
              "    }\n",
              "</style>\n",
              "<table border=\"1\" class=\"dataframe\">\n",
              "  <thead>\n",
              "    <tr style=\"text-align: right;\">\n",
              "      <th></th>\n",
              "      <th>2000</th>\n",
              "      <th>2010</th>\n",
              "      <th>2020</th>\n",
              "      <th>2030</th>\n",
              "    </tr>\n",
              "  </thead>\n",
              "  <tbody>\n",
              "    <tr>\n",
              "      <th>ES</th>\n",
              "      <td>-2.242685</td>\n",
              "      <td>1.150036</td>\n",
              "      <td>0.991946</td>\n",
              "      <td>0.953324</td>\n",
              "    </tr>\n",
              "    <tr>\n",
              "      <th>RJ</th>\n",
              "      <td>-2.021255</td>\n",
              "      <td>-0.334077</td>\n",
              "      <td>0.002118</td>\n",
              "      <td>0.405453</td>\n",
              "    </tr>\n",
              "    <tr>\n",
              "      <th>SP</th>\n",
              "      <td>0.289092</td>\n",
              "      <td>1.321158</td>\n",
              "      <td>-1.546906</td>\n",
              "      <td>-0.202646</td>\n",
              "    </tr>\n",
              "    <tr>\n",
              "      <th>MG</th>\n",
              "      <td>-0.655969</td>\n",
              "      <td>0.193421</td>\n",
              "      <td>0.553439</td>\n",
              "      <td>1.318152</td>\n",
              "    </tr>\n",
              "  </tbody>\n",
              "</table>\n",
              "</div>"
            ],
            "text/plain": [
              "        2000      2010      2020      2030\n",
              "ES -2.242685  1.150036  0.991946  0.953324\n",
              "RJ -2.021255 -0.334077  0.002118  0.405453\n",
              "SP  0.289092  1.321158 -1.546906 -0.202646\n",
              "MG -0.655969  0.193421  0.553439  1.318152"
            ]
          },
          "metadata": {
            "tags": []
          },
          "execution_count": 664
        }
      ]
    },
    {
      "cell_type": "code",
      "metadata": {
        "colab": {
          "base_uri": "https://localhost:8080/"
        },
        "id": "4uhamq9T-l8v",
        "outputId": "173300bd-246f-464f-b620-1a0de90b1d67"
      },
      "source": [
        "# uma coluna específica\n",
        "df6[2020]"
      ],
      "execution_count": null,
      "outputs": [
        {
          "output_type": "execute_result",
          "data": {
            "text/plain": [
              "ES    0.991946\n",
              "RJ    0.002118\n",
              "SP   -1.546906\n",
              "MG    0.553439\n",
              "Name: 2020, dtype: float64"
            ]
          },
          "metadata": {
            "tags": []
          },
          "execution_count": 665
        }
      ]
    },
    {
      "cell_type": "code",
      "metadata": {
        "colab": {
          "base_uri": "https://localhost:8080/",
          "height": 173
        },
        "id": "ipZJLbf5_r4k",
        "outputId": "1a89dd31-4f4a-4d92-debf-ae61e54c736c"
      },
      "source": [
        "# subconjunto de colunas\n",
        "df6[[2010, 2020]]"
      ],
      "execution_count": null,
      "outputs": [
        {
          "output_type": "execute_result",
          "data": {
            "text/html": [
              "<div>\n",
              "<style scoped>\n",
              "    .dataframe tbody tr th:only-of-type {\n",
              "        vertical-align: middle;\n",
              "    }\n",
              "\n",
              "    .dataframe tbody tr th {\n",
              "        vertical-align: top;\n",
              "    }\n",
              "\n",
              "    .dataframe thead th {\n",
              "        text-align: right;\n",
              "    }\n",
              "</style>\n",
              "<table border=\"1\" class=\"dataframe\">\n",
              "  <thead>\n",
              "    <tr style=\"text-align: right;\">\n",
              "      <th></th>\n",
              "      <th>2010</th>\n",
              "      <th>2020</th>\n",
              "    </tr>\n",
              "  </thead>\n",
              "  <tbody>\n",
              "    <tr>\n",
              "      <th>ES</th>\n",
              "      <td>1.150036</td>\n",
              "      <td>0.991946</td>\n",
              "    </tr>\n",
              "    <tr>\n",
              "      <th>RJ</th>\n",
              "      <td>-0.334077</td>\n",
              "      <td>0.002118</td>\n",
              "    </tr>\n",
              "    <tr>\n",
              "      <th>SP</th>\n",
              "      <td>1.321158</td>\n",
              "      <td>-1.546906</td>\n",
              "    </tr>\n",
              "    <tr>\n",
              "      <th>MG</th>\n",
              "      <td>0.193421</td>\n",
              "      <td>0.553439</td>\n",
              "    </tr>\n",
              "  </tbody>\n",
              "</table>\n",
              "</div>"
            ],
            "text/plain": [
              "        2010      2020\n",
              "ES  1.150036  0.991946\n",
              "RJ -0.334077  0.002118\n",
              "SP  1.321158 -1.546906\n",
              "MG  0.193421  0.553439"
            ]
          },
          "metadata": {
            "tags": []
          },
          "execution_count": 666
        }
      ]
    },
    {
      "cell_type": "code",
      "metadata": {
        "colab": {
          "base_uri": "https://localhost:8080/",
          "height": 111
        },
        "id": "w30CCsVI_3Lp",
        "outputId": "ebfb677a-277b-4c38-990c-3d3f61062d3e"
      },
      "source": [
        "# quando informa um intervalo, o filtro inicia no eixo das linhas\n",
        "df6[1:3]"
      ],
      "execution_count": null,
      "outputs": [
        {
          "output_type": "execute_result",
          "data": {
            "text/html": [
              "<div>\n",
              "<style scoped>\n",
              "    .dataframe tbody tr th:only-of-type {\n",
              "        vertical-align: middle;\n",
              "    }\n",
              "\n",
              "    .dataframe tbody tr th {\n",
              "        vertical-align: top;\n",
              "    }\n",
              "\n",
              "    .dataframe thead th {\n",
              "        text-align: right;\n",
              "    }\n",
              "</style>\n",
              "<table border=\"1\" class=\"dataframe\">\n",
              "  <thead>\n",
              "    <tr style=\"text-align: right;\">\n",
              "      <th></th>\n",
              "      <th>2000</th>\n",
              "      <th>2010</th>\n",
              "      <th>2020</th>\n",
              "      <th>2030</th>\n",
              "    </tr>\n",
              "  </thead>\n",
              "  <tbody>\n",
              "    <tr>\n",
              "      <th>RJ</th>\n",
              "      <td>-2.021255</td>\n",
              "      <td>-0.334077</td>\n",
              "      <td>0.002118</td>\n",
              "      <td>0.405453</td>\n",
              "    </tr>\n",
              "    <tr>\n",
              "      <th>SP</th>\n",
              "      <td>0.289092</td>\n",
              "      <td>1.321158</td>\n",
              "      <td>-1.546906</td>\n",
              "      <td>-0.202646</td>\n",
              "    </tr>\n",
              "  </tbody>\n",
              "</table>\n",
              "</div>"
            ],
            "text/plain": [
              "        2000      2010      2020      2030\n",
              "RJ -2.021255 -0.334077  0.002118  0.405453\n",
              "SP  0.289092  1.321158 -1.546906 -0.202646"
            ]
          },
          "metadata": {
            "tags": []
          },
          "execution_count": 667
        }
      ]
    },
    {
      "cell_type": "code",
      "metadata": {
        "colab": {
          "base_uri": "https://localhost:8080/",
          "height": 111
        },
        "id": "qyvZG5nJAEe9",
        "outputId": "8d3346aa-4dd2-42f6-8cd5-497ad1254d3a"
      },
      "source": [
        "# subconjunto de linhas\n",
        "df6[1:3]"
      ],
      "execution_count": null,
      "outputs": [
        {
          "output_type": "execute_result",
          "data": {
            "text/html": [
              "<div>\n",
              "<style scoped>\n",
              "    .dataframe tbody tr th:only-of-type {\n",
              "        vertical-align: middle;\n",
              "    }\n",
              "\n",
              "    .dataframe tbody tr th {\n",
              "        vertical-align: top;\n",
              "    }\n",
              "\n",
              "    .dataframe thead th {\n",
              "        text-align: right;\n",
              "    }\n",
              "</style>\n",
              "<table border=\"1\" class=\"dataframe\">\n",
              "  <thead>\n",
              "    <tr style=\"text-align: right;\">\n",
              "      <th></th>\n",
              "      <th>2000</th>\n",
              "      <th>2010</th>\n",
              "      <th>2020</th>\n",
              "      <th>2030</th>\n",
              "    </tr>\n",
              "  </thead>\n",
              "  <tbody>\n",
              "    <tr>\n",
              "      <th>RJ</th>\n",
              "      <td>-2.021255</td>\n",
              "      <td>-0.334077</td>\n",
              "      <td>0.002118</td>\n",
              "      <td>0.405453</td>\n",
              "    </tr>\n",
              "    <tr>\n",
              "      <th>SP</th>\n",
              "      <td>0.289092</td>\n",
              "      <td>1.321158</td>\n",
              "      <td>-1.546906</td>\n",
              "      <td>-0.202646</td>\n",
              "    </tr>\n",
              "  </tbody>\n",
              "</table>\n",
              "</div>"
            ],
            "text/plain": [
              "        2000      2010      2020      2030\n",
              "RJ -2.021255 -0.334077  0.002118  0.405453\n",
              "SP  0.289092  1.321158 -1.546906 -0.202646"
            ]
          },
          "metadata": {
            "tags": []
          },
          "execution_count": 668
        }
      ]
    },
    {
      "cell_type": "code",
      "metadata": {
        "colab": {
          "base_uri": "https://localhost:8080/",
          "height": 111
        },
        "id": "iB481fH1Aakx",
        "outputId": "b4052e4a-d957-48c8-b691-c233f542c4fc"
      },
      "source": [
        "# subconjunto de linhas e colunas (podemos misturar acesso pelo indice e pelo rotulo no mesmo comando)\n",
        "df6[1:3][[2000, 2030]]"
      ],
      "execution_count": null,
      "outputs": [
        {
          "output_type": "execute_result",
          "data": {
            "text/html": [
              "<div>\n",
              "<style scoped>\n",
              "    .dataframe tbody tr th:only-of-type {\n",
              "        vertical-align: middle;\n",
              "    }\n",
              "\n",
              "    .dataframe tbody tr th {\n",
              "        vertical-align: top;\n",
              "    }\n",
              "\n",
              "    .dataframe thead th {\n",
              "        text-align: right;\n",
              "    }\n",
              "</style>\n",
              "<table border=\"1\" class=\"dataframe\">\n",
              "  <thead>\n",
              "    <tr style=\"text-align: right;\">\n",
              "      <th></th>\n",
              "      <th>2000</th>\n",
              "      <th>2030</th>\n",
              "    </tr>\n",
              "  </thead>\n",
              "  <tbody>\n",
              "    <tr>\n",
              "      <th>RJ</th>\n",
              "      <td>-2.021255</td>\n",
              "      <td>0.405453</td>\n",
              "    </tr>\n",
              "    <tr>\n",
              "      <th>SP</th>\n",
              "      <td>0.289092</td>\n",
              "      <td>-0.202646</td>\n",
              "    </tr>\n",
              "  </tbody>\n",
              "</table>\n",
              "</div>"
            ],
            "text/plain": [
              "        2000      2030\n",
              "RJ -2.021255  0.405453\n",
              "SP  0.289092 -0.202646"
            ]
          },
          "metadata": {
            "tags": []
          },
          "execution_count": 669
        }
      ]
    },
    {
      "cell_type": "code",
      "metadata": {
        "colab": {
          "base_uri": "https://localhost:8080/"
        },
        "id": "DnlBEIx3Baa9",
        "outputId": "0b8e55ef-e028-46dc-ff54-9d0ee7442182"
      },
      "source": [
        "# acessando dados com filtro: somente dados onde no ano de 2030 os valores são maiores que Zero\n",
        "df6[df6[2030] > 0][2030]"
      ],
      "execution_count": null,
      "outputs": [
        {
          "output_type": "execute_result",
          "data": {
            "text/plain": [
              "ES    0.953324\n",
              "RJ    0.405453\n",
              "MG    1.318152\n",
              "Name: 2030, dtype: float64"
            ]
          },
          "metadata": {
            "tags": []
          },
          "execution_count": 670
        }
      ]
    },
    {
      "cell_type": "code",
      "metadata": {
        "colab": {
          "base_uri": "https://localhost:8080/",
          "height": 173
        },
        "id": "7D-UfcepCA-d",
        "outputId": "bdb1faf5-3507-40d5-a69b-ff8f45bc0399"
      },
      "source": [
        "# atribuindo valores Zero onde o valor for negativo\n",
        "df6[df6 < 0] = 0\n",
        "df6"
      ],
      "execution_count": null,
      "outputs": [
        {
          "output_type": "execute_result",
          "data": {
            "text/html": [
              "<div>\n",
              "<style scoped>\n",
              "    .dataframe tbody tr th:only-of-type {\n",
              "        vertical-align: middle;\n",
              "    }\n",
              "\n",
              "    .dataframe tbody tr th {\n",
              "        vertical-align: top;\n",
              "    }\n",
              "\n",
              "    .dataframe thead th {\n",
              "        text-align: right;\n",
              "    }\n",
              "</style>\n",
              "<table border=\"1\" class=\"dataframe\">\n",
              "  <thead>\n",
              "    <tr style=\"text-align: right;\">\n",
              "      <th></th>\n",
              "      <th>2000</th>\n",
              "      <th>2010</th>\n",
              "      <th>2020</th>\n",
              "      <th>2030</th>\n",
              "    </tr>\n",
              "  </thead>\n",
              "  <tbody>\n",
              "    <tr>\n",
              "      <th>ES</th>\n",
              "      <td>0.000000</td>\n",
              "      <td>1.150036</td>\n",
              "      <td>0.991946</td>\n",
              "      <td>0.953324</td>\n",
              "    </tr>\n",
              "    <tr>\n",
              "      <th>RJ</th>\n",
              "      <td>0.000000</td>\n",
              "      <td>0.000000</td>\n",
              "      <td>0.002118</td>\n",
              "      <td>0.405453</td>\n",
              "    </tr>\n",
              "    <tr>\n",
              "      <th>SP</th>\n",
              "      <td>0.289092</td>\n",
              "      <td>1.321158</td>\n",
              "      <td>0.000000</td>\n",
              "      <td>0.000000</td>\n",
              "    </tr>\n",
              "    <tr>\n",
              "      <th>MG</th>\n",
              "      <td>0.000000</td>\n",
              "      <td>0.193421</td>\n",
              "      <td>0.553439</td>\n",
              "      <td>1.318152</td>\n",
              "    </tr>\n",
              "  </tbody>\n",
              "</table>\n",
              "</div>"
            ],
            "text/plain": [
              "        2000      2010      2020      2030\n",
              "ES  0.000000  1.150036  0.991946  0.953324\n",
              "RJ  0.000000  0.000000  0.002118  0.405453\n",
              "SP  0.289092  1.321158  0.000000  0.000000\n",
              "MG  0.000000  0.193421  0.553439  1.318152"
            ]
          },
          "metadata": {
            "tags": []
          },
          "execution_count": 671
        }
      ]
    },
    {
      "cell_type": "markdown",
      "metadata": {
        "id": "tDZ35ZLaBTum"
      },
      "source": [
        "### usando loc e iloc"
      ]
    },
    {
      "cell_type": "code",
      "metadata": {
        "colab": {
          "base_uri": "https://localhost:8080/"
        },
        "id": "ia9cNI69AmEb",
        "outputId": "9bb0867a-7424-414f-851d-1e2ce93347d8"
      },
      "source": [
        "# selecionando linhas e colunas pelos rótulos: df6.loc[ [<linhas], [<colunas>] ] \n",
        "df6.loc[\"ES\", [2000, 2030]] "
      ],
      "execution_count": null,
      "outputs": [
        {
          "output_type": "execute_result",
          "data": {
            "text/plain": [
              "2000    0.000000\n",
              "2030    0.953324\n",
              "Name: ES, dtype: float64"
            ]
          },
          "metadata": {
            "tags": []
          },
          "execution_count": 672
        }
      ]
    },
    {
      "cell_type": "code",
      "metadata": {
        "colab": {
          "base_uri": "https://localhost:8080/"
        },
        "id": "4VsqHSrqBMie",
        "outputId": "66c8eba4-380d-4148-c01c-7c136c4651ed"
      },
      "source": [
        "# iloc funciona da mesma forma. Mas opera com os índices implicitos que iniciam em zero\n",
        "# o mesmo comando acima acessando pelos índices\n",
        "df6.iloc[0, [0,3]]"
      ],
      "execution_count": null,
      "outputs": [
        {
          "output_type": "execute_result",
          "data": {
            "text/plain": [
              "2000    0.000000\n",
              "2030    0.953324\n",
              "Name: ES, dtype: float64"
            ]
          },
          "metadata": {
            "tags": []
          },
          "execution_count": 673
        }
      ]
    },
    {
      "cell_type": "code",
      "metadata": {
        "colab": {
          "base_uri": "https://localhost:8080/",
          "height": 142
        },
        "id": "Z_mh5LtCE4Sn",
        "outputId": "c8ff73a6-7a63-4f16-fa83-eecc68c4819c"
      },
      "source": [
        "# loc e iloc acessam por intervalos. Não precisam dos colchetes internos para formar os ranges\n",
        "df6.loc[\"RJ\":\"MG\", 2020:2030]"
      ],
      "execution_count": null,
      "outputs": [
        {
          "output_type": "execute_result",
          "data": {
            "text/html": [
              "<div>\n",
              "<style scoped>\n",
              "    .dataframe tbody tr th:only-of-type {\n",
              "        vertical-align: middle;\n",
              "    }\n",
              "\n",
              "    .dataframe tbody tr th {\n",
              "        vertical-align: top;\n",
              "    }\n",
              "\n",
              "    .dataframe thead th {\n",
              "        text-align: right;\n",
              "    }\n",
              "</style>\n",
              "<table border=\"1\" class=\"dataframe\">\n",
              "  <thead>\n",
              "    <tr style=\"text-align: right;\">\n",
              "      <th></th>\n",
              "      <th>2020</th>\n",
              "      <th>2030</th>\n",
              "    </tr>\n",
              "  </thead>\n",
              "  <tbody>\n",
              "    <tr>\n",
              "      <th>RJ</th>\n",
              "      <td>0.002118</td>\n",
              "      <td>0.405453</td>\n",
              "    </tr>\n",
              "    <tr>\n",
              "      <th>SP</th>\n",
              "      <td>0.000000</td>\n",
              "      <td>0.000000</td>\n",
              "    </tr>\n",
              "    <tr>\n",
              "      <th>MG</th>\n",
              "      <td>0.553439</td>\n",
              "      <td>1.318152</td>\n",
              "    </tr>\n",
              "  </tbody>\n",
              "</table>\n",
              "</div>"
            ],
            "text/plain": [
              "        2020      2030\n",
              "RJ  0.002118  0.405453\n",
              "SP  0.000000  0.000000\n",
              "MG  0.553439  1.318152"
            ]
          },
          "metadata": {
            "tags": []
          },
          "execution_count": 674
        }
      ]
    },
    {
      "cell_type": "markdown",
      "metadata": {
        "id": "2SW9qAHrFpA7"
      },
      "source": [
        "## Cálculos e Alinhamento de Dados"
      ]
    },
    {
      "cell_type": "code",
      "metadata": {
        "colab": {
          "base_uri": "https://localhost:8080/",
          "height": 142
        },
        "id": "c-qxGwfNFKOX",
        "outputId": "c64271f3-658a-4774-fc39-5ed70279e16d"
      },
      "source": [
        "# dois DataFrames que compartilham algumas colunas e indices podem ser alinhados\n",
        "# mesmo com shapes diferentes\n",
        "\n",
        "data_left = pd.DataFrame(np.random.randn(9).reshape(3,3),\n",
        "                         index=[\"ES\", \"RJ\", \"SP\"],\n",
        "                         columns=list(\"bcd\"))\n",
        "data_left"
      ],
      "execution_count": null,
      "outputs": [
        {
          "output_type": "execute_result",
          "data": {
            "text/html": [
              "<div>\n",
              "<style scoped>\n",
              "    .dataframe tbody tr th:only-of-type {\n",
              "        vertical-align: middle;\n",
              "    }\n",
              "\n",
              "    .dataframe tbody tr th {\n",
              "        vertical-align: top;\n",
              "    }\n",
              "\n",
              "    .dataframe thead th {\n",
              "        text-align: right;\n",
              "    }\n",
              "</style>\n",
              "<table border=\"1\" class=\"dataframe\">\n",
              "  <thead>\n",
              "    <tr style=\"text-align: right;\">\n",
              "      <th></th>\n",
              "      <th>b</th>\n",
              "      <th>c</th>\n",
              "      <th>d</th>\n",
              "    </tr>\n",
              "  </thead>\n",
              "  <tbody>\n",
              "    <tr>\n",
              "      <th>ES</th>\n",
              "      <td>-0.469305</td>\n",
              "      <td>0.675554</td>\n",
              "      <td>-1.817027</td>\n",
              "    </tr>\n",
              "    <tr>\n",
              "      <th>RJ</th>\n",
              "      <td>-0.183109</td>\n",
              "      <td>1.058969</td>\n",
              "      <td>-0.397840</td>\n",
              "    </tr>\n",
              "    <tr>\n",
              "      <th>SP</th>\n",
              "      <td>0.337438</td>\n",
              "      <td>1.047579</td>\n",
              "      <td>1.045938</td>\n",
              "    </tr>\n",
              "  </tbody>\n",
              "</table>\n",
              "</div>"
            ],
            "text/plain": [
              "           b         c         d\n",
              "ES -0.469305  0.675554 -1.817027\n",
              "RJ -0.183109  1.058969 -0.397840\n",
              "SP  0.337438  1.047579  1.045938"
            ]
          },
          "metadata": {
            "tags": []
          },
          "execution_count": 675
        }
      ]
    },
    {
      "cell_type": "code",
      "metadata": {
        "colab": {
          "base_uri": "https://localhost:8080/",
          "height": 173
        },
        "id": "8Ly8IBc2Gfze",
        "outputId": "f49db06e-a915-48ec-e0fc-fccf83dada86"
      },
      "source": [
        "# possue shape diferente\n",
        "data_rigth = pd.DataFrame(np.random.randn(12).reshape(4, 3),\n",
        "                          index=[\"SP\", \"RJ\", \"MG\", \"RS\"],\n",
        "                          columns=list(\"bde\"))\n",
        "data_rigth"
      ],
      "execution_count": null,
      "outputs": [
        {
          "output_type": "execute_result",
          "data": {
            "text/html": [
              "<div>\n",
              "<style scoped>\n",
              "    .dataframe tbody tr th:only-of-type {\n",
              "        vertical-align: middle;\n",
              "    }\n",
              "\n",
              "    .dataframe tbody tr th {\n",
              "        vertical-align: top;\n",
              "    }\n",
              "\n",
              "    .dataframe thead th {\n",
              "        text-align: right;\n",
              "    }\n",
              "</style>\n",
              "<table border=\"1\" class=\"dataframe\">\n",
              "  <thead>\n",
              "    <tr style=\"text-align: right;\">\n",
              "      <th></th>\n",
              "      <th>b</th>\n",
              "      <th>d</th>\n",
              "      <th>e</th>\n",
              "    </tr>\n",
              "  </thead>\n",
              "  <tbody>\n",
              "    <tr>\n",
              "      <th>SP</th>\n",
              "      <td>0.863717</td>\n",
              "      <td>-0.122092</td>\n",
              "      <td>0.124713</td>\n",
              "    </tr>\n",
              "    <tr>\n",
              "      <th>RJ</th>\n",
              "      <td>-0.322795</td>\n",
              "      <td>0.841675</td>\n",
              "      <td>2.390961</td>\n",
              "    </tr>\n",
              "    <tr>\n",
              "      <th>MG</th>\n",
              "      <td>0.076200</td>\n",
              "      <td>-0.566446</td>\n",
              "      <td>0.036142</td>\n",
              "    </tr>\n",
              "    <tr>\n",
              "      <th>RS</th>\n",
              "      <td>-2.074978</td>\n",
              "      <td>0.247792</td>\n",
              "      <td>-0.897157</td>\n",
              "    </tr>\n",
              "  </tbody>\n",
              "</table>\n",
              "</div>"
            ],
            "text/plain": [
              "           b         d         e\n",
              "SP  0.863717 -0.122092  0.124713\n",
              "RJ -0.322795  0.841675  2.390961\n",
              "MG  0.076200 -0.566446  0.036142\n",
              "RS -2.074978  0.247792 -0.897157"
            ]
          },
          "metadata": {
            "tags": []
          },
          "execution_count": 676
        }
      ]
    },
    {
      "cell_type": "code",
      "metadata": {
        "colab": {
          "base_uri": "https://localhost:8080/",
          "height": 204
        },
        "id": "qJAk9JbeHRKx",
        "outputId": "c5efd49f-d682-4af7-9fb8-40dbf926f4fd"
      },
      "source": [
        "# o que acontece ao somar os dos dfs com shapes diferentes\n",
        "# acontece o alinhamento pelos rotulos dos indices\n",
        "# se o calculo envolver algum valor NaN então retorna NaN\n",
        "\n",
        "# só retorna algum resultado onde houver um inner join\n",
        "data_left + data_rigth"
      ],
      "execution_count": null,
      "outputs": [
        {
          "output_type": "execute_result",
          "data": {
            "text/html": [
              "<div>\n",
              "<style scoped>\n",
              "    .dataframe tbody tr th:only-of-type {\n",
              "        vertical-align: middle;\n",
              "    }\n",
              "\n",
              "    .dataframe tbody tr th {\n",
              "        vertical-align: top;\n",
              "    }\n",
              "\n",
              "    .dataframe thead th {\n",
              "        text-align: right;\n",
              "    }\n",
              "</style>\n",
              "<table border=\"1\" class=\"dataframe\">\n",
              "  <thead>\n",
              "    <tr style=\"text-align: right;\">\n",
              "      <th></th>\n",
              "      <th>b</th>\n",
              "      <th>c</th>\n",
              "      <th>d</th>\n",
              "      <th>e</th>\n",
              "    </tr>\n",
              "  </thead>\n",
              "  <tbody>\n",
              "    <tr>\n",
              "      <th>ES</th>\n",
              "      <td>NaN</td>\n",
              "      <td>NaN</td>\n",
              "      <td>NaN</td>\n",
              "      <td>NaN</td>\n",
              "    </tr>\n",
              "    <tr>\n",
              "      <th>MG</th>\n",
              "      <td>NaN</td>\n",
              "      <td>NaN</td>\n",
              "      <td>NaN</td>\n",
              "      <td>NaN</td>\n",
              "    </tr>\n",
              "    <tr>\n",
              "      <th>RJ</th>\n",
              "      <td>-0.505903</td>\n",
              "      <td>NaN</td>\n",
              "      <td>0.443834</td>\n",
              "      <td>NaN</td>\n",
              "    </tr>\n",
              "    <tr>\n",
              "      <th>RS</th>\n",
              "      <td>NaN</td>\n",
              "      <td>NaN</td>\n",
              "      <td>NaN</td>\n",
              "      <td>NaN</td>\n",
              "    </tr>\n",
              "    <tr>\n",
              "      <th>SP</th>\n",
              "      <td>1.201155</td>\n",
              "      <td>NaN</td>\n",
              "      <td>0.923847</td>\n",
              "      <td>NaN</td>\n",
              "    </tr>\n",
              "  </tbody>\n",
              "</table>\n",
              "</div>"
            ],
            "text/plain": [
              "           b   c         d   e\n",
              "ES       NaN NaN       NaN NaN\n",
              "MG       NaN NaN       NaN NaN\n",
              "RJ -0.505903 NaN  0.443834 NaN\n",
              "RS       NaN NaN       NaN NaN\n",
              "SP  1.201155 NaN  0.923847 NaN"
            ]
          },
          "metadata": {
            "tags": []
          },
          "execution_count": 677
        }
      ]
    },
    {
      "cell_type": "code",
      "metadata": {
        "colab": {
          "base_uri": "https://localhost:8080/",
          "height": 204
        },
        "id": "qKH19NsLHc8k",
        "outputId": "aff6467d-2a75-4405-99ad-d553eaacac77"
      },
      "source": [
        "# preenche com Zero o valor NaN quando um dos elementos da soma for NaN\n",
        "# quando os dois valores da soma for NaN retorna NaN\n",
        "data_left.add(data_rigth, fill_value=0)"
      ],
      "execution_count": null,
      "outputs": [
        {
          "output_type": "execute_result",
          "data": {
            "text/html": [
              "<div>\n",
              "<style scoped>\n",
              "    .dataframe tbody tr th:only-of-type {\n",
              "        vertical-align: middle;\n",
              "    }\n",
              "\n",
              "    .dataframe tbody tr th {\n",
              "        vertical-align: top;\n",
              "    }\n",
              "\n",
              "    .dataframe thead th {\n",
              "        text-align: right;\n",
              "    }\n",
              "</style>\n",
              "<table border=\"1\" class=\"dataframe\">\n",
              "  <thead>\n",
              "    <tr style=\"text-align: right;\">\n",
              "      <th></th>\n",
              "      <th>b</th>\n",
              "      <th>c</th>\n",
              "      <th>d</th>\n",
              "      <th>e</th>\n",
              "    </tr>\n",
              "  </thead>\n",
              "  <tbody>\n",
              "    <tr>\n",
              "      <th>ES</th>\n",
              "      <td>-0.469305</td>\n",
              "      <td>0.675554</td>\n",
              "      <td>-1.817027</td>\n",
              "      <td>NaN</td>\n",
              "    </tr>\n",
              "    <tr>\n",
              "      <th>MG</th>\n",
              "      <td>0.076200</td>\n",
              "      <td>NaN</td>\n",
              "      <td>-0.566446</td>\n",
              "      <td>0.036142</td>\n",
              "    </tr>\n",
              "    <tr>\n",
              "      <th>RJ</th>\n",
              "      <td>-0.505903</td>\n",
              "      <td>1.058969</td>\n",
              "      <td>0.443834</td>\n",
              "      <td>2.390961</td>\n",
              "    </tr>\n",
              "    <tr>\n",
              "      <th>RS</th>\n",
              "      <td>-2.074978</td>\n",
              "      <td>NaN</td>\n",
              "      <td>0.247792</td>\n",
              "      <td>-0.897157</td>\n",
              "    </tr>\n",
              "    <tr>\n",
              "      <th>SP</th>\n",
              "      <td>1.201155</td>\n",
              "      <td>1.047579</td>\n",
              "      <td>0.923847</td>\n",
              "      <td>0.124713</td>\n",
              "    </tr>\n",
              "  </tbody>\n",
              "</table>\n",
              "</div>"
            ],
            "text/plain": [
              "           b         c         d         e\n",
              "ES -0.469305  0.675554 -1.817027       NaN\n",
              "MG  0.076200       NaN -0.566446  0.036142\n",
              "RJ -0.505903  1.058969  0.443834  2.390961\n",
              "RS -2.074978       NaN  0.247792 -0.897157\n",
              "SP  1.201155  1.047579  0.923847  0.124713"
            ]
          },
          "metadata": {
            "tags": []
          },
          "execution_count": 678
        }
      ]
    },
    {
      "cell_type": "code",
      "metadata": {
        "colab": {
          "base_uri": "https://localhost:8080/",
          "height": 142
        },
        "id": "x-YUSd-hIfW8",
        "outputId": "c7bf81fe-6965-4faf-e681-23f2a651414e"
      },
      "source": [
        "# reindexa o data_left usando apenas as colunas do data_rigth\n",
        "data_left.reindex(columns=data_rigth.columns, fill_value=0)"
      ],
      "execution_count": null,
      "outputs": [
        {
          "output_type": "execute_result",
          "data": {
            "text/html": [
              "<div>\n",
              "<style scoped>\n",
              "    .dataframe tbody tr th:only-of-type {\n",
              "        vertical-align: middle;\n",
              "    }\n",
              "\n",
              "    .dataframe tbody tr th {\n",
              "        vertical-align: top;\n",
              "    }\n",
              "\n",
              "    .dataframe thead th {\n",
              "        text-align: right;\n",
              "    }\n",
              "</style>\n",
              "<table border=\"1\" class=\"dataframe\">\n",
              "  <thead>\n",
              "    <tr style=\"text-align: right;\">\n",
              "      <th></th>\n",
              "      <th>b</th>\n",
              "      <th>d</th>\n",
              "      <th>e</th>\n",
              "    </tr>\n",
              "  </thead>\n",
              "  <tbody>\n",
              "    <tr>\n",
              "      <th>ES</th>\n",
              "      <td>-0.469305</td>\n",
              "      <td>-1.817027</td>\n",
              "      <td>0</td>\n",
              "    </tr>\n",
              "    <tr>\n",
              "      <th>RJ</th>\n",
              "      <td>-0.183109</td>\n",
              "      <td>-0.397840</td>\n",
              "      <td>0</td>\n",
              "    </tr>\n",
              "    <tr>\n",
              "      <th>SP</th>\n",
              "      <td>0.337438</td>\n",
              "      <td>1.045938</td>\n",
              "      <td>0</td>\n",
              "    </tr>\n",
              "  </tbody>\n",
              "</table>\n",
              "</div>"
            ],
            "text/plain": [
              "           b         d  e\n",
              "ES -0.469305 -1.817027  0\n",
              "RJ -0.183109 -0.397840  0\n",
              "SP  0.337438  1.045938  0"
            ]
          },
          "metadata": {
            "tags": []
          },
          "execution_count": 679
        }
      ]
    },
    {
      "cell_type": "markdown",
      "metadata": {
        "id": "9LaFzTzPJ7ER"
      },
      "source": [
        "## Operações entre DataFrames e Series"
      ]
    },
    {
      "cell_type": "code",
      "metadata": {
        "colab": {
          "base_uri": "https://localhost:8080/",
          "height": 173
        },
        "id": "1dmU8aFgJV3i",
        "outputId": "4aefd9b0-c229-49fa-a6d9-54a099abcddb"
      },
      "source": [
        "df7 = pd.DataFrame(np.arange(12.).reshape((4, 3)),\n",
        "                     columns=list('bde'),\n",
        "                     index=['ES', 'RJ', 'SP', 'MG'])\n",
        "\n",
        "serie6 = df7.iloc[3]\n",
        "df7"
      ],
      "execution_count": null,
      "outputs": [
        {
          "output_type": "execute_result",
          "data": {
            "text/html": [
              "<div>\n",
              "<style scoped>\n",
              "    .dataframe tbody tr th:only-of-type {\n",
              "        vertical-align: middle;\n",
              "    }\n",
              "\n",
              "    .dataframe tbody tr th {\n",
              "        vertical-align: top;\n",
              "    }\n",
              "\n",
              "    .dataframe thead th {\n",
              "        text-align: right;\n",
              "    }\n",
              "</style>\n",
              "<table border=\"1\" class=\"dataframe\">\n",
              "  <thead>\n",
              "    <tr style=\"text-align: right;\">\n",
              "      <th></th>\n",
              "      <th>b</th>\n",
              "      <th>d</th>\n",
              "      <th>e</th>\n",
              "    </tr>\n",
              "  </thead>\n",
              "  <tbody>\n",
              "    <tr>\n",
              "      <th>ES</th>\n",
              "      <td>0.0</td>\n",
              "      <td>1.0</td>\n",
              "      <td>2.0</td>\n",
              "    </tr>\n",
              "    <tr>\n",
              "      <th>RJ</th>\n",
              "      <td>3.0</td>\n",
              "      <td>4.0</td>\n",
              "      <td>5.0</td>\n",
              "    </tr>\n",
              "    <tr>\n",
              "      <th>SP</th>\n",
              "      <td>6.0</td>\n",
              "      <td>7.0</td>\n",
              "      <td>8.0</td>\n",
              "    </tr>\n",
              "    <tr>\n",
              "      <th>MG</th>\n",
              "      <td>9.0</td>\n",
              "      <td>10.0</td>\n",
              "      <td>11.0</td>\n",
              "    </tr>\n",
              "  </tbody>\n",
              "</table>\n",
              "</div>"
            ],
            "text/plain": [
              "      b     d     e\n",
              "ES  0.0   1.0   2.0\n",
              "RJ  3.0   4.0   5.0\n",
              "SP  6.0   7.0   8.0\n",
              "MG  9.0  10.0  11.0"
            ]
          },
          "metadata": {
            "tags": []
          },
          "execution_count": 680
        }
      ]
    },
    {
      "cell_type": "code",
      "metadata": {
        "colab": {
          "base_uri": "https://localhost:8080/"
        },
        "id": "Bs2gBL1SLjWC",
        "outputId": "62e14358-6cce-4fe8-f543-1c58be51151a"
      },
      "source": [
        "serie6"
      ],
      "execution_count": null,
      "outputs": [
        {
          "output_type": "execute_result",
          "data": {
            "text/plain": [
              "b     9.0\n",
              "d    10.0\n",
              "e    11.0\n",
              "Name: MG, dtype: float64"
            ]
          },
          "metadata": {
            "tags": []
          },
          "execution_count": 681
        }
      ]
    },
    {
      "cell_type": "code",
      "metadata": {
        "id": "qUY87waNKXiU"
      },
      "source": [
        "# faz o alinhamento do índice da serie com os índice das colunas em df e faz o calculo nos correspondentes para todas as linhas\n",
        "df7 - serie6"
      ],
      "execution_count": null,
      "outputs": []
    },
    {
      "cell_type": "code",
      "metadata": {
        "id": "aYUNFYYeKkt3"
      },
      "source": [
        "# df7.sub(serie6, axis=\"index\") ???"
      ],
      "execution_count": null,
      "outputs": []
    },
    {
      "cell_type": "markdown",
      "metadata": {
        "id": "lK3-JyXsMfrw"
      },
      "source": [
        "## Mapping  e Function"
      ]
    },
    {
      "cell_type": "code",
      "metadata": {
        "colab": {
          "base_uri": "https://localhost:8080/",
          "height": 292
        },
        "id": "7PJmvEFmMPLJ",
        "outputId": "169fa0d8-a6d3-4bb8-8e71-4d61924adbc6"
      },
      "source": [
        "df8 = pd.DataFrame(np.random.randn(12).reshape((4, 3)),\n",
        "                     columns=list('bde'),\n",
        "                     index=['ES', 'RJ', 'SP', 'MG'])\n",
        "\n",
        "print(f\"df8:\\n {df8}\\n\")\n",
        "np.abs(df8)"
      ],
      "execution_count": null,
      "outputs": [
        {
          "output_type": "stream",
          "text": [
            "df8:\n",
            "            b         d         e\n",
            "ES -0.785435  0.462060  0.704228\n",
            "RJ  0.523508 -0.926254  2.007843\n",
            "SP  0.226963 -1.152659  0.631979\n",
            "MG  0.039513  0.464392 -3.563517\n",
            "\n"
          ],
          "name": "stdout"
        },
        {
          "output_type": "execute_result",
          "data": {
            "text/html": [
              "<div>\n",
              "<style scoped>\n",
              "    .dataframe tbody tr th:only-of-type {\n",
              "        vertical-align: middle;\n",
              "    }\n",
              "\n",
              "    .dataframe tbody tr th {\n",
              "        vertical-align: top;\n",
              "    }\n",
              "\n",
              "    .dataframe thead th {\n",
              "        text-align: right;\n",
              "    }\n",
              "</style>\n",
              "<table border=\"1\" class=\"dataframe\">\n",
              "  <thead>\n",
              "    <tr style=\"text-align: right;\">\n",
              "      <th></th>\n",
              "      <th>b</th>\n",
              "      <th>d</th>\n",
              "      <th>e</th>\n",
              "    </tr>\n",
              "  </thead>\n",
              "  <tbody>\n",
              "    <tr>\n",
              "      <th>ES</th>\n",
              "      <td>0.785435</td>\n",
              "      <td>0.462060</td>\n",
              "      <td>0.704228</td>\n",
              "    </tr>\n",
              "    <tr>\n",
              "      <th>RJ</th>\n",
              "      <td>0.523508</td>\n",
              "      <td>0.926254</td>\n",
              "      <td>2.007843</td>\n",
              "    </tr>\n",
              "    <tr>\n",
              "      <th>SP</th>\n",
              "      <td>0.226963</td>\n",
              "      <td>1.152659</td>\n",
              "      <td>0.631979</td>\n",
              "    </tr>\n",
              "    <tr>\n",
              "      <th>MG</th>\n",
              "      <td>0.039513</td>\n",
              "      <td>0.464392</td>\n",
              "      <td>3.563517</td>\n",
              "    </tr>\n",
              "  </tbody>\n",
              "</table>\n",
              "</div>"
            ],
            "text/plain": [
              "           b         d         e\n",
              "ES  0.785435  0.462060  0.704228\n",
              "RJ  0.523508  0.926254  2.007843\n",
              "SP  0.226963  1.152659  0.631979\n",
              "MG  0.039513  0.464392  3.563517"
            ]
          },
          "metadata": {
            "tags": []
          },
          "execution_count": 689
        }
      ]
    },
    {
      "cell_type": "code",
      "metadata": {
        "colab": {
          "base_uri": "https://localhost:8080/"
        },
        "id": "BvYzps6XM1JY",
        "outputId": "2a851478-80eb-49ea-f8ce-7b125c538b49"
      },
      "source": [
        "# calcula o valor a diferença entro o max e min de uma coluna\n",
        "funcao_dif_max_min = lambda x: x.max() - x.min()\n",
        "funcao_max = lambda x: x.max()\n",
        "funcao_min = lambda x: x.min()\n",
        "\n",
        "# por padrão a função é aplicada no sentido de agregação das linhas (vertical)\n",
        "df8.apply(funcao_dif_max_min)"
      ],
      "execution_count": null,
      "outputs": [
        {
          "output_type": "execute_result",
          "data": {
            "text/plain": [
              "b    1.308943\n",
              "d    1.617051\n",
              "e    5.571360\n",
              "dtype: float64"
            ]
          },
          "metadata": {
            "tags": []
          },
          "execution_count": 693
        }
      ]
    },
    {
      "cell_type": "code",
      "metadata": {
        "colab": {
          "base_uri": "https://localhost:8080/"
        },
        "id": "P7WEmuVpNvfl",
        "outputId": "afc5cb43-19cd-49a1-9178-219841fe4607"
      },
      "source": [
        "df8.apply(funcao_max)"
      ],
      "execution_count": null,
      "outputs": [
        {
          "output_type": "execute_result",
          "data": {
            "text/plain": [
              "b    0.523508\n",
              "d    0.464392\n",
              "e    2.007843\n",
              "dtype: float64"
            ]
          },
          "metadata": {
            "tags": []
          },
          "execution_count": 695
        }
      ]
    },
    {
      "cell_type": "code",
      "metadata": {
        "colab": {
          "base_uri": "https://localhost:8080/"
        },
        "id": "YCxW6k0BOGu9",
        "outputId": "a6463ab5-3001-4e0b-ddab-49c83722e59e"
      },
      "source": [
        "df8.apply(funcao_min)"
      ],
      "execution_count": null,
      "outputs": [
        {
          "output_type": "execute_result",
          "data": {
            "text/plain": [
              "b   -0.785435\n",
              "d   -1.152659\n",
              "e   -3.563517\n",
              "dtype: float64"
            ]
          },
          "metadata": {
            "tags": []
          },
          "execution_count": 696
        }
      ]
    },
    {
      "cell_type": "code",
      "metadata": {
        "colab": {
          "base_uri": "https://localhost:8080/"
        },
        "id": "LttPlKafOIiJ",
        "outputId": "256b984d-780a-4137-aaf6-6dd3b754109e"
      },
      "source": [
        "# aplicar o calculo no sentido das colunas (horizontal)\n",
        "df8.apply(funcao_min, axis=\"columns\")"
      ],
      "execution_count": null,
      "outputs": [
        {
          "output_type": "execute_result",
          "data": {
            "text/plain": [
              "ES   -0.785435\n",
              "RJ   -0.926254\n",
              "SP   -1.152659\n",
              "MG   -3.563517\n",
              "dtype: float64"
            ]
          },
          "metadata": {
            "tags": []
          },
          "execution_count": 698
        }
      ]
    },
    {
      "cell_type": "code",
      "metadata": {
        "colab": {
          "base_uri": "https://localhost:8080/",
          "height": 111
        },
        "id": "I5Jh_3vROhiz",
        "outputId": "c2fdf1e5-111b-432c-d5cc-41f56d37b4ce"
      },
      "source": [
        "# aplicando uma função com multiplos retornos\n",
        "#def f(x):\n",
        "#  return pd.Series([x.max(), x.min()], index=[\"max\", \"min\"])\n",
        "\n",
        "f_lambda = lambda x: pd.Series([x.max(), x.min()], index=[\"max\", \"min\"])\n",
        "df8.apply(f_lambda)"
      ],
      "execution_count": null,
      "outputs": [
        {
          "output_type": "execute_result",
          "data": {
            "text/html": [
              "<div>\n",
              "<style scoped>\n",
              "    .dataframe tbody tr th:only-of-type {\n",
              "        vertical-align: middle;\n",
              "    }\n",
              "\n",
              "    .dataframe tbody tr th {\n",
              "        vertical-align: top;\n",
              "    }\n",
              "\n",
              "    .dataframe thead th {\n",
              "        text-align: right;\n",
              "    }\n",
              "</style>\n",
              "<table border=\"1\" class=\"dataframe\">\n",
              "  <thead>\n",
              "    <tr style=\"text-align: right;\">\n",
              "      <th></th>\n",
              "      <th>b</th>\n",
              "      <th>d</th>\n",
              "      <th>e</th>\n",
              "    </tr>\n",
              "  </thead>\n",
              "  <tbody>\n",
              "    <tr>\n",
              "      <th>max</th>\n",
              "      <td>0.523508</td>\n",
              "      <td>0.464392</td>\n",
              "      <td>2.007843</td>\n",
              "    </tr>\n",
              "    <tr>\n",
              "      <th>min</th>\n",
              "      <td>-0.785435</td>\n",
              "      <td>-1.152659</td>\n",
              "      <td>-3.563517</td>\n",
              "    </tr>\n",
              "  </tbody>\n",
              "</table>\n",
              "</div>"
            ],
            "text/plain": [
              "            b         d         e\n",
              "max  0.523508  0.464392  2.007843\n",
              "min -0.785435 -1.152659 -3.563517"
            ]
          },
          "metadata": {
            "tags": []
          },
          "execution_count": 703
        }
      ]
    },
    {
      "cell_type": "code",
      "metadata": {
        "colab": {
          "base_uri": "https://localhost:8080/",
          "height": 173
        },
        "id": "GoePCyNRPYp1",
        "outputId": "29e7e5d8-6e56-4571-8b64-ed409a626ecf"
      },
      "source": [
        "# applymap: aplicando uma formatação\n",
        "# diferentemente de apply, applymap não faz agregação ela aplica em todas as celulas\n",
        "formato = lambda x: f\"R$ {x: ,.2f}\"\n",
        "df8.applymap(formato)"
      ],
      "execution_count": null,
      "outputs": [
        {
          "output_type": "execute_result",
          "data": {
            "text/html": [
              "<div>\n",
              "<style scoped>\n",
              "    .dataframe tbody tr th:only-of-type {\n",
              "        vertical-align: middle;\n",
              "    }\n",
              "\n",
              "    .dataframe tbody tr th {\n",
              "        vertical-align: top;\n",
              "    }\n",
              "\n",
              "    .dataframe thead th {\n",
              "        text-align: right;\n",
              "    }\n",
              "</style>\n",
              "<table border=\"1\" class=\"dataframe\">\n",
              "  <thead>\n",
              "    <tr style=\"text-align: right;\">\n",
              "      <th></th>\n",
              "      <th>b</th>\n",
              "      <th>d</th>\n",
              "      <th>e</th>\n",
              "    </tr>\n",
              "  </thead>\n",
              "  <tbody>\n",
              "    <tr>\n",
              "      <th>ES</th>\n",
              "      <td>R$ -0.79</td>\n",
              "      <td>R$  0.46</td>\n",
              "      <td>R$  0.70</td>\n",
              "    </tr>\n",
              "    <tr>\n",
              "      <th>RJ</th>\n",
              "      <td>R$  0.52</td>\n",
              "      <td>R$ -0.93</td>\n",
              "      <td>R$  2.01</td>\n",
              "    </tr>\n",
              "    <tr>\n",
              "      <th>SP</th>\n",
              "      <td>R$  0.23</td>\n",
              "      <td>R$ -1.15</td>\n",
              "      <td>R$  0.63</td>\n",
              "    </tr>\n",
              "    <tr>\n",
              "      <th>MG</th>\n",
              "      <td>R$  0.04</td>\n",
              "      <td>R$  0.46</td>\n",
              "      <td>R$ -3.56</td>\n",
              "    </tr>\n",
              "  </tbody>\n",
              "</table>\n",
              "</div>"
            ],
            "text/plain": [
              "           b         d         e\n",
              "ES  R$ -0.79  R$  0.46  R$  0.70\n",
              "RJ  R$  0.52  R$ -0.93  R$  2.01\n",
              "SP  R$  0.23  R$ -1.15  R$  0.63\n",
              "MG  R$  0.04  R$  0.46  R$ -3.56"
            ]
          },
          "metadata": {
            "tags": []
          },
          "execution_count": 711
        }
      ]
    },
    {
      "cell_type": "code",
      "metadata": {
        "colab": {
          "base_uri": "https://localhost:8080/"
        },
        "id": "eoLIPto5QGA6",
        "outputId": "ccee35a6-bfc4-4b54-c515-6a2e59833c88"
      },
      "source": [
        "# map aplica em apenas uma coluna\n",
        "df8[\"b\"].map(formato)"
      ],
      "execution_count": null,
      "outputs": [
        {
          "output_type": "execute_result",
          "data": {
            "text/plain": [
              "ES    R$ -0.79\n",
              "RJ    R$  0.52\n",
              "SP    R$  0.23\n",
              "MG    R$  0.04\n",
              "Name: b, dtype: object"
            ]
          },
          "metadata": {
            "tags": []
          },
          "execution_count": 714
        }
      ]
    },
    {
      "cell_type": "markdown",
      "metadata": {
        "id": "vlfsp6BLUIw4"
      },
      "source": [
        "## Ordenação e Rank"
      ]
    },
    {
      "cell_type": "code",
      "metadata": {
        "colab": {
          "base_uri": "https://localhost:8080/"
        },
        "id": "bPHeGu76RP18",
        "outputId": "b241c9fb-c0aa-4fb1-df07-2b67baa34231"
      },
      "source": [
        "obj_Series5 = pd.Series(range(5), index=[\"x\", \"y\", \"z\", \"a\", \"b\"])\n",
        "\n",
        "# ordenando uma serie pelo index\n",
        "obj_Series5.sort_index()"
      ],
      "execution_count": null,
      "outputs": [
        {
          "output_type": "execute_result",
          "data": {
            "text/plain": [
              "a    3\n",
              "b    4\n",
              "x    0\n",
              "y    1\n",
              "z    2\n",
              "dtype: int64"
            ]
          },
          "metadata": {
            "tags": []
          },
          "execution_count": 716
        }
      ]
    },
    {
      "cell_type": "code",
      "metadata": {
        "colab": {
          "base_uri": "https://localhost:8080/"
        },
        "id": "Cw5IgXAXbtab",
        "outputId": "9f9fcac6-3f09-41be-f334-0900131f5b84"
      },
      "source": [
        "# ordenando uma serie pela coluna\n",
        "obj_Series5.sort_values()"
      ],
      "execution_count": null,
      "outputs": [
        {
          "output_type": "execute_result",
          "data": {
            "text/plain": [
              "x    0\n",
              "y    1\n",
              "z    2\n",
              "a    3\n",
              "b    4\n",
              "dtype: int64"
            ]
          },
          "metadata": {
            "tags": []
          },
          "execution_count": 717
        }
      ]
    },
    {
      "cell_type": "code",
      "metadata": {
        "colab": {
          "base_uri": "https://localhost:8080/",
          "height": 111
        },
        "id": "UeK3Gn3Ab2_i",
        "outputId": "204e4cda-2070-4ea7-c349-46c7eeab44fa"
      },
      "source": [
        "# ordenação de índices de dataframe\n",
        "df9 = pd.DataFrame(np.arange(8).reshape((2, 4)),\n",
        "                     index=['LinhaA', 'LinhaB'],\n",
        "                     columns=['d', 'a', 'b', 'c'])\n",
        "\n",
        "# ordenando as linhas (padrao)\n",
        "df9.sort_index()\n",
        "\n",
        "# ordenando as colunas (axis=1)\n",
        "df9.sort_index(axis=1)"
      ],
      "execution_count": null,
      "outputs": [
        {
          "output_type": "execute_result",
          "data": {
            "text/html": [
              "<div>\n",
              "<style scoped>\n",
              "    .dataframe tbody tr th:only-of-type {\n",
              "        vertical-align: middle;\n",
              "    }\n",
              "\n",
              "    .dataframe tbody tr th {\n",
              "        vertical-align: top;\n",
              "    }\n",
              "\n",
              "    .dataframe thead th {\n",
              "        text-align: right;\n",
              "    }\n",
              "</style>\n",
              "<table border=\"1\" class=\"dataframe\">\n",
              "  <thead>\n",
              "    <tr style=\"text-align: right;\">\n",
              "      <th></th>\n",
              "      <th>a</th>\n",
              "      <th>b</th>\n",
              "      <th>c</th>\n",
              "      <th>d</th>\n",
              "    </tr>\n",
              "  </thead>\n",
              "  <tbody>\n",
              "    <tr>\n",
              "      <th>LinhaA</th>\n",
              "      <td>1</td>\n",
              "      <td>2</td>\n",
              "      <td>3</td>\n",
              "      <td>0</td>\n",
              "    </tr>\n",
              "    <tr>\n",
              "      <th>LinhaB</th>\n",
              "      <td>5</td>\n",
              "      <td>6</td>\n",
              "      <td>7</td>\n",
              "      <td>4</td>\n",
              "    </tr>\n",
              "  </tbody>\n",
              "</table>\n",
              "</div>"
            ],
            "text/plain": [
              "        a  b  c  d\n",
              "LinhaA  1  2  3  0\n",
              "LinhaB  5  6  7  4"
            ]
          },
          "metadata": {
            "tags": []
          },
          "execution_count": 720
        }
      ]
    },
    {
      "cell_type": "code",
      "metadata": {
        "colab": {
          "base_uri": "https://localhost:8080/",
          "height": 111
        },
        "id": "Lc5J3XOccoe_",
        "outputId": "d84ea7d6-3251-45f5-8f1b-c6c8f568edc1"
      },
      "source": [
        "# controlando o sentido da ordenação\n",
        "df9.sort_index(axis=0, ascending=False)"
      ],
      "execution_count": null,
      "outputs": [
        {
          "output_type": "execute_result",
          "data": {
            "text/html": [
              "<div>\n",
              "<style scoped>\n",
              "    .dataframe tbody tr th:only-of-type {\n",
              "        vertical-align: middle;\n",
              "    }\n",
              "\n",
              "    .dataframe tbody tr th {\n",
              "        vertical-align: top;\n",
              "    }\n",
              "\n",
              "    .dataframe thead th {\n",
              "        text-align: right;\n",
              "    }\n",
              "</style>\n",
              "<table border=\"1\" class=\"dataframe\">\n",
              "  <thead>\n",
              "    <tr style=\"text-align: right;\">\n",
              "      <th></th>\n",
              "      <th>d</th>\n",
              "      <th>a</th>\n",
              "      <th>b</th>\n",
              "      <th>c</th>\n",
              "    </tr>\n",
              "  </thead>\n",
              "  <tbody>\n",
              "    <tr>\n",
              "      <th>LinhaB</th>\n",
              "      <td>4</td>\n",
              "      <td>5</td>\n",
              "      <td>6</td>\n",
              "      <td>7</td>\n",
              "    </tr>\n",
              "    <tr>\n",
              "      <th>LinhaA</th>\n",
              "      <td>0</td>\n",
              "      <td>1</td>\n",
              "      <td>2</td>\n",
              "      <td>3</td>\n",
              "    </tr>\n",
              "  </tbody>\n",
              "</table>\n",
              "</div>"
            ],
            "text/plain": [
              "        d  a  b  c\n",
              "LinhaB  4  5  6  7\n",
              "LinhaA  0  1  2  3"
            ]
          },
          "metadata": {
            "tags": []
          },
          "execution_count": 721
        }
      ]
    },
    {
      "cell_type": "code",
      "metadata": {
        "colab": {
          "base_uri": "https://localhost:8080/",
          "height": 111
        },
        "id": "8Igo2UKqdMr5",
        "outputId": "3c0ba9ff-6425-4c43-e938-ab412bd7b912"
      },
      "source": [
        "# controlando o sentido da ordenação\n",
        "df9.sort_index(axis=1, ascending=False)"
      ],
      "execution_count": null,
      "outputs": [
        {
          "output_type": "execute_result",
          "data": {
            "text/html": [
              "<div>\n",
              "<style scoped>\n",
              "    .dataframe tbody tr th:only-of-type {\n",
              "        vertical-align: middle;\n",
              "    }\n",
              "\n",
              "    .dataframe tbody tr th {\n",
              "        vertical-align: top;\n",
              "    }\n",
              "\n",
              "    .dataframe thead th {\n",
              "        text-align: right;\n",
              "    }\n",
              "</style>\n",
              "<table border=\"1\" class=\"dataframe\">\n",
              "  <thead>\n",
              "    <tr style=\"text-align: right;\">\n",
              "      <th></th>\n",
              "      <th>d</th>\n",
              "      <th>c</th>\n",
              "      <th>b</th>\n",
              "      <th>a</th>\n",
              "    </tr>\n",
              "  </thead>\n",
              "  <tbody>\n",
              "    <tr>\n",
              "      <th>LinhaA</th>\n",
              "      <td>0</td>\n",
              "      <td>3</td>\n",
              "      <td>2</td>\n",
              "      <td>1</td>\n",
              "    </tr>\n",
              "    <tr>\n",
              "      <th>LinhaB</th>\n",
              "      <td>4</td>\n",
              "      <td>7</td>\n",
              "      <td>6</td>\n",
              "      <td>5</td>\n",
              "    </tr>\n",
              "  </tbody>\n",
              "</table>\n",
              "</div>"
            ],
            "text/plain": [
              "        d  c  b  a\n",
              "LinhaA  0  3  2  1\n",
              "LinhaB  4  7  6  5"
            ]
          },
          "metadata": {
            "tags": []
          },
          "execution_count": 722
        }
      ]
    },
    {
      "cell_type": "code",
      "metadata": {
        "colab": {
          "base_uri": "https://localhost:8080/",
          "height": 111
        },
        "id": "InNajl1udP-6",
        "outputId": "3e8a97d7-d232-4eef-d6be-f79c2d3be4be"
      },
      "source": [
        "# ordenando os valores de uma ou várias colunas de um um DataFrame\n",
        "df9.sort_values(by=[\"c\", \"d\"], ascending=False)"
      ],
      "execution_count": null,
      "outputs": [
        {
          "output_type": "execute_result",
          "data": {
            "text/html": [
              "<div>\n",
              "<style scoped>\n",
              "    .dataframe tbody tr th:only-of-type {\n",
              "        vertical-align: middle;\n",
              "    }\n",
              "\n",
              "    .dataframe tbody tr th {\n",
              "        vertical-align: top;\n",
              "    }\n",
              "\n",
              "    .dataframe thead th {\n",
              "        text-align: right;\n",
              "    }\n",
              "</style>\n",
              "<table border=\"1\" class=\"dataframe\">\n",
              "  <thead>\n",
              "    <tr style=\"text-align: right;\">\n",
              "      <th></th>\n",
              "      <th>d</th>\n",
              "      <th>a</th>\n",
              "      <th>b</th>\n",
              "      <th>c</th>\n",
              "    </tr>\n",
              "  </thead>\n",
              "  <tbody>\n",
              "    <tr>\n",
              "      <th>LinhaB</th>\n",
              "      <td>4</td>\n",
              "      <td>5</td>\n",
              "      <td>6</td>\n",
              "      <td>7</td>\n",
              "    </tr>\n",
              "    <tr>\n",
              "      <th>LinhaA</th>\n",
              "      <td>0</td>\n",
              "      <td>1</td>\n",
              "      <td>2</td>\n",
              "      <td>3</td>\n",
              "    </tr>\n",
              "  </tbody>\n",
              "</table>\n",
              "</div>"
            ],
            "text/plain": [
              "        d  a  b  c\n",
              "LinhaB  4  5  6  7\n",
              "LinhaA  0  1  2  3"
            ]
          },
          "metadata": {
            "tags": []
          },
          "execution_count": 725
        }
      ]
    },
    {
      "cell_type": "code",
      "metadata": {
        "colab": {
          "base_uri": "https://localhost:8080/",
          "height": 111
        },
        "id": "OKzvHZ9Yd00U",
        "outputId": "dd7db561-a33e-4f95-8dcc-736d6716b9b2"
      },
      "source": [
        "df9.sort_values(by=[\"LinhaB\"], ascending=False, axis=1)"
      ],
      "execution_count": null,
      "outputs": [
        {
          "output_type": "execute_result",
          "data": {
            "text/html": [
              "<div>\n",
              "<style scoped>\n",
              "    .dataframe tbody tr th:only-of-type {\n",
              "        vertical-align: middle;\n",
              "    }\n",
              "\n",
              "    .dataframe tbody tr th {\n",
              "        vertical-align: top;\n",
              "    }\n",
              "\n",
              "    .dataframe thead th {\n",
              "        text-align: right;\n",
              "    }\n",
              "</style>\n",
              "<table border=\"1\" class=\"dataframe\">\n",
              "  <thead>\n",
              "    <tr style=\"text-align: right;\">\n",
              "      <th></th>\n",
              "      <th>c</th>\n",
              "      <th>b</th>\n",
              "      <th>a</th>\n",
              "      <th>d</th>\n",
              "    </tr>\n",
              "  </thead>\n",
              "  <tbody>\n",
              "    <tr>\n",
              "      <th>LinhaA</th>\n",
              "      <td>3</td>\n",
              "      <td>2</td>\n",
              "      <td>1</td>\n",
              "      <td>0</td>\n",
              "    </tr>\n",
              "    <tr>\n",
              "      <th>LinhaB</th>\n",
              "      <td>7</td>\n",
              "      <td>6</td>\n",
              "      <td>5</td>\n",
              "      <td>4</td>\n",
              "    </tr>\n",
              "  </tbody>\n",
              "</table>\n",
              "</div>"
            ],
            "text/plain": [
              "        c  b  a  d\n",
              "LinhaA  3  2  1  0\n",
              "LinhaB  7  6  5  4"
            ]
          },
          "metadata": {
            "tags": []
          },
          "execution_count": 727
        }
      ]
    },
    {
      "cell_type": "markdown",
      "metadata": {
        "id": "PPSbl7fefCp7"
      },
      "source": [
        "## Agregação/estatísticas soma, max, min, mean, cumsum"
      ]
    },
    {
      "cell_type": "code",
      "metadata": {
        "colab": {
          "base_uri": "https://localhost:8080/"
        },
        "id": "avGly6LmfAtS",
        "outputId": "cb1d99ad-5cb9-4a41-c0f6-e80b351c261c"
      },
      "source": [
        "# a soma acontece no sentido das linhas (vertical) para todas as colunas\n",
        "df9.sum()"
      ],
      "execution_count": null,
      "outputs": [
        {
          "output_type": "execute_result",
          "data": {
            "text/plain": [
              "d     4\n",
              "a     6\n",
              "b     8\n",
              "c    10\n",
              "dtype: int64"
            ]
          },
          "metadata": {
            "tags": []
          },
          "execution_count": 729
        }
      ]
    },
    {
      "cell_type": "code",
      "metadata": {
        "colab": {
          "base_uri": "https://localhost:8080/"
        },
        "id": "HkDuv-C_eORP",
        "outputId": "457d8a3c-495d-4393-ab0c-a87557aecab5"
      },
      "source": [
        "# soma de apenas uma coluna\n",
        "df9[\"b\"].sum()"
      ],
      "execution_count": null,
      "outputs": [
        {
          "output_type": "execute_result",
          "data": {
            "text/plain": [
              "8"
            ]
          },
          "metadata": {
            "tags": []
          },
          "execution_count": 731
        }
      ]
    },
    {
      "cell_type": "code",
      "metadata": {
        "colab": {
          "base_uri": "https://localhost:8080/"
        },
        "id": "9CpV4PKkfYZN",
        "outputId": "39f9cab7-3852-4156-8e94-2dbabe219e67"
      },
      "source": [
        "# soma de colunas específicas\n",
        "df9[[\"c\",\"a\"]].sum()"
      ],
      "execution_count": null,
      "outputs": [
        {
          "output_type": "execute_result",
          "data": {
            "text/plain": [
              "c    10\n",
              "a     6\n",
              "dtype: int64"
            ]
          },
          "metadata": {
            "tags": []
          },
          "execution_count": 736
        }
      ]
    },
    {
      "cell_type": "code",
      "metadata": {
        "colab": {
          "base_uri": "https://localhost:8080/"
        },
        "id": "HfvIJvaEfhKp",
        "outputId": "1b48f81c-e971-4608-b82e-525b5fa63088"
      },
      "source": [
        "# soma no sentido horizontal, agrega as colunas para obter o todal da linha\n",
        "df9.sum(axis=\"columns\")"
      ],
      "execution_count": null,
      "outputs": [
        {
          "output_type": "execute_result",
          "data": {
            "text/plain": [
              "LinhaA     6\n",
              "LinhaB    22\n",
              "dtype: int64"
            ]
          },
          "metadata": {
            "tags": []
          },
          "execution_count": 738
        }
      ]
    },
    {
      "cell_type": "code",
      "metadata": {
        "colab": {
          "base_uri": "https://localhost:8080/"
        },
        "id": "iTtLOt0Ef52R",
        "outputId": "649daa44-ee32-41e4-81a9-73e0c363b331"
      },
      "source": [
        "df9[:1].sum(axis=\"columns\")"
      ],
      "execution_count": null,
      "outputs": [
        {
          "output_type": "execute_result",
          "data": {
            "text/plain": [
              "LinhaA    6\n",
              "dtype: int64"
            ]
          },
          "metadata": {
            "tags": []
          },
          "execution_count": 741
        }
      ]
    },
    {
      "cell_type": "code",
      "metadata": {
        "colab": {
          "base_uri": "https://localhost:8080/"
        },
        "id": "s1wn8J2mgNRQ",
        "outputId": "a54f55be-05a1-41dc-f0c6-fc95edb7a943"
      },
      "source": [
        "# outras medidas de agregação\n",
        "df9.mean(axis='columns', skipna=False)"
      ],
      "execution_count": null,
      "outputs": [
        {
          "output_type": "execute_result",
          "data": {
            "text/plain": [
              "LinhaA    1.5\n",
              "LinhaB    5.5\n",
              "dtype: float64"
            ]
          },
          "metadata": {
            "tags": []
          },
          "execution_count": 742
        }
      ]
    },
    {
      "cell_type": "code",
      "metadata": {
        "colab": {
          "base_uri": "https://localhost:8080/",
          "height": 111
        },
        "id": "eHpXkFgZgcVw",
        "outputId": "eac4f520-2028-4ca8-809c-57f084064429"
      },
      "source": [
        "df9.cumsum(axis=1)"
      ],
      "execution_count": null,
      "outputs": [
        {
          "output_type": "execute_result",
          "data": {
            "text/html": [
              "<div>\n",
              "<style scoped>\n",
              "    .dataframe tbody tr th:only-of-type {\n",
              "        vertical-align: middle;\n",
              "    }\n",
              "\n",
              "    .dataframe tbody tr th {\n",
              "        vertical-align: top;\n",
              "    }\n",
              "\n",
              "    .dataframe thead th {\n",
              "        text-align: right;\n",
              "    }\n",
              "</style>\n",
              "<table border=\"1\" class=\"dataframe\">\n",
              "  <thead>\n",
              "    <tr style=\"text-align: right;\">\n",
              "      <th></th>\n",
              "      <th>d</th>\n",
              "      <th>a</th>\n",
              "      <th>b</th>\n",
              "      <th>c</th>\n",
              "    </tr>\n",
              "  </thead>\n",
              "  <tbody>\n",
              "    <tr>\n",
              "      <th>LinhaA</th>\n",
              "      <td>0</td>\n",
              "      <td>1</td>\n",
              "      <td>3</td>\n",
              "      <td>6</td>\n",
              "    </tr>\n",
              "    <tr>\n",
              "      <th>LinhaB</th>\n",
              "      <td>4</td>\n",
              "      <td>9</td>\n",
              "      <td>15</td>\n",
              "      <td>22</td>\n",
              "    </tr>\n",
              "  </tbody>\n",
              "</table>\n",
              "</div>"
            ],
            "text/plain": [
              "        d  a   b   c\n",
              "LinhaA  0  1   3   6\n",
              "LinhaB  4  9  15  22"
            ]
          },
          "metadata": {
            "tags": []
          },
          "execution_count": 744
        }
      ]
    },
    {
      "cell_type": "code",
      "metadata": {
        "colab": {
          "base_uri": "https://localhost:8080/",
          "height": 297
        },
        "id": "IdMhn299gfyA",
        "outputId": "9aac4080-605e-41d7-a09d-3cf09799b85a"
      },
      "source": [
        "df9.describe()"
      ],
      "execution_count": null,
      "outputs": [
        {
          "output_type": "execute_result",
          "data": {
            "text/html": [
              "<div>\n",
              "<style scoped>\n",
              "    .dataframe tbody tr th:only-of-type {\n",
              "        vertical-align: middle;\n",
              "    }\n",
              "\n",
              "    .dataframe tbody tr th {\n",
              "        vertical-align: top;\n",
              "    }\n",
              "\n",
              "    .dataframe thead th {\n",
              "        text-align: right;\n",
              "    }\n",
              "</style>\n",
              "<table border=\"1\" class=\"dataframe\">\n",
              "  <thead>\n",
              "    <tr style=\"text-align: right;\">\n",
              "      <th></th>\n",
              "      <th>d</th>\n",
              "      <th>a</th>\n",
              "      <th>b</th>\n",
              "      <th>c</th>\n",
              "    </tr>\n",
              "  </thead>\n",
              "  <tbody>\n",
              "    <tr>\n",
              "      <th>count</th>\n",
              "      <td>2.000000</td>\n",
              "      <td>2.000000</td>\n",
              "      <td>2.000000</td>\n",
              "      <td>2.000000</td>\n",
              "    </tr>\n",
              "    <tr>\n",
              "      <th>mean</th>\n",
              "      <td>2.000000</td>\n",
              "      <td>3.000000</td>\n",
              "      <td>4.000000</td>\n",
              "      <td>5.000000</td>\n",
              "    </tr>\n",
              "    <tr>\n",
              "      <th>std</th>\n",
              "      <td>2.828427</td>\n",
              "      <td>2.828427</td>\n",
              "      <td>2.828427</td>\n",
              "      <td>2.828427</td>\n",
              "    </tr>\n",
              "    <tr>\n",
              "      <th>min</th>\n",
              "      <td>0.000000</td>\n",
              "      <td>1.000000</td>\n",
              "      <td>2.000000</td>\n",
              "      <td>3.000000</td>\n",
              "    </tr>\n",
              "    <tr>\n",
              "      <th>25%</th>\n",
              "      <td>1.000000</td>\n",
              "      <td>2.000000</td>\n",
              "      <td>3.000000</td>\n",
              "      <td>4.000000</td>\n",
              "    </tr>\n",
              "    <tr>\n",
              "      <th>50%</th>\n",
              "      <td>2.000000</td>\n",
              "      <td>3.000000</td>\n",
              "      <td>4.000000</td>\n",
              "      <td>5.000000</td>\n",
              "    </tr>\n",
              "    <tr>\n",
              "      <th>75%</th>\n",
              "      <td>3.000000</td>\n",
              "      <td>4.000000</td>\n",
              "      <td>5.000000</td>\n",
              "      <td>6.000000</td>\n",
              "    </tr>\n",
              "    <tr>\n",
              "      <th>max</th>\n",
              "      <td>4.000000</td>\n",
              "      <td>5.000000</td>\n",
              "      <td>6.000000</td>\n",
              "      <td>7.000000</td>\n",
              "    </tr>\n",
              "  </tbody>\n",
              "</table>\n",
              "</div>"
            ],
            "text/plain": [
              "              d         a         b         c\n",
              "count  2.000000  2.000000  2.000000  2.000000\n",
              "mean   2.000000  3.000000  4.000000  5.000000\n",
              "std    2.828427  2.828427  2.828427  2.828427\n",
              "min    0.000000  1.000000  2.000000  3.000000\n",
              "25%    1.000000  2.000000  3.000000  4.000000\n",
              "50%    2.000000  3.000000  4.000000  5.000000\n",
              "75%    3.000000  4.000000  5.000000  6.000000\n",
              "max    4.000000  5.000000  6.000000  7.000000"
            ]
          },
          "metadata": {
            "tags": []
          },
          "execution_count": 746
        }
      ]
    },
    {
      "cell_type": "markdown",
      "metadata": {
        "id": "OUwKkqWgg9hx"
      },
      "source": [
        "## Valores únicos value counts"
      ]
    },
    {
      "cell_type": "code",
      "metadata": {
        "colab": {
          "base_uri": "https://localhost:8080/"
        },
        "id": "sG-yAekcgqqY",
        "outputId": "a6544910-a7a4-411b-d8e7-364015159c85"
      },
      "source": [
        "obj_Series6 = pd.Series(['c', 'a', 'd', 'a', 'a', 'b', 'b', 'c', 'c'])\n",
        "obj_Series6.unique()"
      ],
      "execution_count": null,
      "outputs": [
        {
          "output_type": "execute_result",
          "data": {
            "text/plain": [
              "array(['c', 'a', 'd', 'b'], dtype=object)"
            ]
          },
          "metadata": {
            "tags": []
          },
          "execution_count": 747
        }
      ]
    },
    {
      "cell_type": "code",
      "metadata": {
        "colab": {
          "base_uri": "https://localhost:8080/"
        },
        "id": "EzLmmkGYhMeX",
        "outputId": "c5002b6b-ce90-4103-a4b2-9c3750b8afdb"
      },
      "source": [
        "obj_Series6.value_counts()"
      ],
      "execution_count": null,
      "outputs": [
        {
          "output_type": "execute_result",
          "data": {
            "text/plain": [
              "c    3\n",
              "a    3\n",
              "b    2\n",
              "d    1\n",
              "dtype: int64"
            ]
          },
          "metadata": {
            "tags": []
          },
          "execution_count": 748
        }
      ]
    },
    {
      "cell_type": "code",
      "metadata": {
        "colab": {
          "base_uri": "https://localhost:8080/"
        },
        "id": "_QTRGYsBhSdo",
        "outputId": "6f774c99-2648-465f-e8a2-7ebfd16bb7e3"
      },
      "source": [
        "df10 = pd.DataFrame({'Qu1': [1, 3, 4, 3, 4],\n",
        "                     'Qu2': [2, 3, 1, 2, 3],\n",
        "                     'Qu3': [1, 5, 2, 4, 4]})\n",
        "\n",
        "df10[\"Qu1\"].value_counts()"
      ],
      "execution_count": null,
      "outputs": [
        {
          "output_type": "execute_result",
          "data": {
            "text/plain": [
              "4    2\n",
              "3    2\n",
              "1    1\n",
              "Name: Qu1, dtype: int64"
            ]
          },
          "metadata": {
            "tags": []
          },
          "execution_count": 756
        }
      ]
    },
    {
      "cell_type": "code",
      "metadata": {
        "id": "ysYcJE88mwW-"
      },
      "source": [
        ""
      ],
      "execution_count": null,
      "outputs": []
    }
  ]
}